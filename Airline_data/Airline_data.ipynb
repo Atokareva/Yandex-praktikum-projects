{
 "cells": [
  {
   "cell_type": "markdown",
   "metadata": {},
   "source": [
    "# Аналитика в авиакомпании"
   ]
  },
  {
   "cell_type": "markdown",
   "metadata": {},
   "source": [
    "## Изучение данных из файла"
   ]
  },
  {
   "cell_type": "code",
   "execution_count": 1,
   "metadata": {},
   "outputs": [],
   "source": [
    "import pandas as pd\n",
    "import numpy as np\n",
    "import matplotlib.pyplot as plt"
   ]
  },
  {
   "cell_type": "code",
   "execution_count": 2,
   "metadata": {},
   "outputs": [],
   "source": [
    "df1 = pd.read_csv('/datasets/query_1.csv')"
   ]
  },
  {
   "cell_type": "code",
   "execution_count": 3,
   "metadata": {},
   "outputs": [
    {
     "data": {
      "text/html": [
       "<div>\n",
       "<style scoped>\n",
       "    .dataframe tbody tr th:only-of-type {\n",
       "        vertical-align: middle;\n",
       "    }\n",
       "\n",
       "    .dataframe tbody tr th {\n",
       "        vertical-align: top;\n",
       "    }\n",
       "\n",
       "    .dataframe thead th {\n",
       "        text-align: right;\n",
       "    }\n",
       "</style>\n",
       "<table border=\"1\" class=\"dataframe\">\n",
       "  <thead>\n",
       "    <tr style=\"text-align: right;\">\n",
       "      <th></th>\n",
       "      <th>model</th>\n",
       "      <th>flights_amount</th>\n",
       "    </tr>\n",
       "  </thead>\n",
       "  <tbody>\n",
       "    <tr>\n",
       "      <td>0</td>\n",
       "      <td>Airbus A319-100</td>\n",
       "      <td>607</td>\n",
       "    </tr>\n",
       "    <tr>\n",
       "      <td>1</td>\n",
       "      <td>Airbus A321-200</td>\n",
       "      <td>960</td>\n",
       "    </tr>\n",
       "    <tr>\n",
       "      <td>2</td>\n",
       "      <td>Boeing 737-300</td>\n",
       "      <td>630</td>\n",
       "    </tr>\n",
       "    <tr>\n",
       "      <td>3</td>\n",
       "      <td>Boeing 767-300</td>\n",
       "      <td>600</td>\n",
       "    </tr>\n",
       "    <tr>\n",
       "      <td>4</td>\n",
       "      <td>Boeing 777-300</td>\n",
       "      <td>300</td>\n",
       "    </tr>\n",
       "  </tbody>\n",
       "</table>\n",
       "</div>"
      ],
      "text/plain": [
       "             model  flights_amount\n",
       "0  Airbus A319-100             607\n",
       "1  Airbus A321-200             960\n",
       "2   Boeing 737-300             630\n",
       "3   Boeing 767-300             600\n",
       "4   Boeing 777-300             300"
      ]
     },
     "execution_count": 3,
     "metadata": {},
     "output_type": "execute_result"
    }
   ],
   "source": [
    "df1.head()"
   ]
  },
  {
   "cell_type": "code",
   "execution_count": 4,
   "metadata": {},
   "outputs": [],
   "source": [
    "df2 = pd.read_csv('/datasets/query_3.csv')"
   ]
  },
  {
   "cell_type": "code",
   "execution_count": 5,
   "metadata": {},
   "outputs": [
    {
     "data": {
      "text/html": [
       "<div>\n",
       "<style scoped>\n",
       "    .dataframe tbody tr th:only-of-type {\n",
       "        vertical-align: middle;\n",
       "    }\n",
       "\n",
       "    .dataframe tbody tr th {\n",
       "        vertical-align: top;\n",
       "    }\n",
       "\n",
       "    .dataframe thead th {\n",
       "        text-align: right;\n",
       "    }\n",
       "</style>\n",
       "<table border=\"1\" class=\"dataframe\">\n",
       "  <thead>\n",
       "    <tr style=\"text-align: right;\">\n",
       "      <th></th>\n",
       "      <th>city</th>\n",
       "      <th>average_flights</th>\n",
       "    </tr>\n",
       "  </thead>\n",
       "  <tbody>\n",
       "    <tr>\n",
       "      <td>0</td>\n",
       "      <td>Абакан</td>\n",
       "      <td>3.870968</td>\n",
       "    </tr>\n",
       "    <tr>\n",
       "      <td>1</td>\n",
       "      <td>Анадырь</td>\n",
       "      <td>1.000000</td>\n",
       "    </tr>\n",
       "    <tr>\n",
       "      <td>2</td>\n",
       "      <td>Анапа</td>\n",
       "      <td>2.161290</td>\n",
       "    </tr>\n",
       "    <tr>\n",
       "      <td>3</td>\n",
       "      <td>Архангельск</td>\n",
       "      <td>5.354839</td>\n",
       "    </tr>\n",
       "    <tr>\n",
       "      <td>4</td>\n",
       "      <td>Астрахань</td>\n",
       "      <td>2.451613</td>\n",
       "    </tr>\n",
       "  </tbody>\n",
       "</table>\n",
       "</div>"
      ],
      "text/plain": [
       "          city  average_flights\n",
       "0       Абакан         3.870968\n",
       "1      Анадырь         1.000000\n",
       "2        Анапа         2.161290\n",
       "3  Архангельск         5.354839\n",
       "4    Астрахань         2.451613"
      ]
     },
     "execution_count": 5,
     "metadata": {},
     "output_type": "execute_result"
    }
   ],
   "source": [
    "df2.head()"
   ]
  },
  {
   "cell_type": "code",
   "execution_count": 6,
   "metadata": {},
   "outputs": [
    {
     "name": "stdout",
     "output_type": "stream",
     "text": [
      "<class 'pandas.core.frame.DataFrame'>\n",
      "RangeIndex: 8 entries, 0 to 7\n",
      "Data columns (total 2 columns):\n",
      "model             8 non-null object\n",
      "flights_amount    8 non-null int64\n",
      "dtypes: int64(1), object(1)\n",
      "memory usage: 256.0+ bytes\n"
     ]
    }
   ],
   "source": [
    "df1.info()"
   ]
  },
  {
   "cell_type": "code",
   "execution_count": 7,
   "metadata": {},
   "outputs": [
    {
     "name": "stdout",
     "output_type": "stream",
     "text": [
      "<class 'pandas.core.frame.DataFrame'>\n",
      "RangeIndex: 101 entries, 0 to 100\n",
      "Data columns (total 2 columns):\n",
      "city               101 non-null object\n",
      "average_flights    101 non-null float64\n",
      "dtypes: float64(1), object(1)\n",
      "memory usage: 1.7+ KB\n"
     ]
    }
   ],
   "source": [
    "df2.info()"
   ]
  },
  {
   "cell_type": "markdown",
   "metadata": {},
   "source": [
    "### Вывод"
   ]
  },
  {
   "cell_type": "markdown",
   "metadata": {},
   "source": [
    "У нас есть две таблицы: в первой - модели самолётов и количество рейсов для каждой модели в сентябре 2018 года. В ней 8 строк и 2 столбца, типы данных корректные; вторая - города и среднее количество рейсов, прибывающих в эти города за день в августе 2018 года. В ней 101 строка и 2 столбца, типы данных тоже корректные. "
   ]
  },
  {
   "cell_type": "markdown",
   "metadata": {},
   "source": [
    "## Топ-10 городов по количеству рейсов"
   ]
  },
  {
   "cell_type": "code",
   "execution_count": 52,
   "metadata": {},
   "outputs": [],
   "source": [
    "df2_top = df2.sort_values('average_flights', ascending = False).head(10)"
   ]
  },
  {
   "cell_type": "code",
   "execution_count": 53,
   "metadata": {},
   "outputs": [],
   "source": [
    "df2_top['avg_flights'] = df2_top['average_flights'].round()"
   ]
  },
  {
   "cell_type": "code",
   "execution_count": 54,
   "metadata": {},
   "outputs": [],
   "source": [
    "df2_top.drop('average_flights', axis=1, inplace=True)\n"
   ]
  },
  {
   "cell_type": "code",
   "execution_count": 55,
   "metadata": {
    "scrolled": true
   },
   "outputs": [
    {
     "data": {
      "text/html": [
       "<div>\n",
       "<style scoped>\n",
       "    .dataframe tbody tr th:only-of-type {\n",
       "        vertical-align: middle;\n",
       "    }\n",
       "\n",
       "    .dataframe tbody tr th {\n",
       "        vertical-align: top;\n",
       "    }\n",
       "\n",
       "    .dataframe thead th {\n",
       "        text-align: right;\n",
       "    }\n",
       "</style>\n",
       "<table border=\"1\" class=\"dataframe\">\n",
       "  <thead>\n",
       "    <tr style=\"text-align: right;\">\n",
       "      <th></th>\n",
       "      <th>city</th>\n",
       "      <th>avg_flights</th>\n",
       "    </tr>\n",
       "  </thead>\n",
       "  <tbody>\n",
       "    <tr>\n",
       "      <td>43</td>\n",
       "      <td>Москва</td>\n",
       "      <td>130.0</td>\n",
       "    </tr>\n",
       "    <tr>\n",
       "      <td>70</td>\n",
       "      <td>Санкт-Петербург</td>\n",
       "      <td>31.0</td>\n",
       "    </tr>\n",
       "    <tr>\n",
       "      <td>54</td>\n",
       "      <td>Новосибирск</td>\n",
       "      <td>17.0</td>\n",
       "    </tr>\n",
       "    <tr>\n",
       "      <td>33</td>\n",
       "      <td>Красноярск</td>\n",
       "      <td>12.0</td>\n",
       "    </tr>\n",
       "    <tr>\n",
       "      <td>20</td>\n",
       "      <td>Екатеринбург</td>\n",
       "      <td>11.0</td>\n",
       "    </tr>\n",
       "    <tr>\n",
       "      <td>67</td>\n",
       "      <td>Ростов-на-Дону</td>\n",
       "      <td>10.0</td>\n",
       "    </tr>\n",
       "    <tr>\n",
       "      <td>63</td>\n",
       "      <td>Пермь</td>\n",
       "      <td>10.0</td>\n",
       "    </tr>\n",
       "    <tr>\n",
       "      <td>10</td>\n",
       "      <td>Брянск</td>\n",
       "      <td>10.0</td>\n",
       "    </tr>\n",
       "    <tr>\n",
       "      <td>74</td>\n",
       "      <td>Сочи</td>\n",
       "      <td>10.0</td>\n",
       "    </tr>\n",
       "    <tr>\n",
       "      <td>84</td>\n",
       "      <td>Ульяновск</td>\n",
       "      <td>10.0</td>\n",
       "    </tr>\n",
       "  </tbody>\n",
       "</table>\n",
       "</div>"
      ],
      "text/plain": [
       "               city  avg_flights\n",
       "43           Москва        130.0\n",
       "70  Санкт-Петербург         31.0\n",
       "54      Новосибирск         17.0\n",
       "33       Красноярск         12.0\n",
       "20     Екатеринбург         11.0\n",
       "67   Ростов-на-Дону         10.0\n",
       "63            Пермь         10.0\n",
       "10           Брянск         10.0\n",
       "74             Сочи         10.0\n",
       "84        Ульяновск         10.0"
      ]
     },
     "execution_count": 55,
     "metadata": {},
     "output_type": "execute_result"
    }
   ],
   "source": [
    "df2_top"
   ]
  },
  {
   "cell_type": "markdown",
   "metadata": {},
   "source": [
    "### Вывод"
   ]
  },
  {
   "cell_type": "markdown",
   "metadata": {},
   "source": [
    "В августе 2018 по среднему количеству рейсов за день лидировала Москва со значительной разницей по сравнению с другими городами в топ-10."
   ]
  },
  {
   "cell_type": "markdown",
   "metadata": {},
   "source": [
    "## Графики"
   ]
  },
  {
   "cell_type": "code",
   "execution_count": 10,
   "metadata": {},
   "outputs": [],
   "source": [
    "model_flights = df1.sort_values('flights_amount')"
   ]
  },
  {
   "cell_type": "code",
   "execution_count": 32,
   "metadata": {},
   "outputs": [
    {
     "data": {
      "text/plain": [
       "Text(0, 0.5, 'Модели самолётов')"
      ]
     },
     "execution_count": 32,
     "metadata": {},
     "output_type": "execute_result"
    },
    {
     "data": {
      "image/png": "[encoded data removed]",
      "text/plain": [
       "<Figure size 720x432 with 1 Axes>"
      ]
     },
     "metadata": {
      "needs_background": "light"
     },
     "output_type": "display_data"
    }
   ],
   "source": [
    "model_flights.plot(kind='barh',\n",
    "                   x='model', y='flights_amount',\n",
    "                   figsize=(10,6))\n",
    "plt.title('Модели самолётов и количество рейсов', fontsize=14, color='blue')\n",
    "plt.xlabel('Количество рейсов, шт.', fontsize=14, color='blue')\n",
    "plt.ylabel('Модели самолётов', fontsize=14, color='blue')"
   ]
  },
  {
   "cell_type": "markdown",
   "metadata": {},
   "source": [
    "В сентябне 2018 года наибольшее количество рейсов авиакомпании «F9» совершились на самолётах моделей - Cessna 208 Caravan, Bombardier CRJ-200, Cessna 208 Caravan. Более 4000 рейсов на каждой из этих моделей. Чуть меньше 1000 рейсов на Airbus A321-200, а наименьшее количество рейсов совершилось на Boeing 777-300 - всего 300 рейсов."
   ]
  },
  {
   "cell_type": "code",
   "execution_count": 12,
   "metadata": {},
   "outputs": [],
   "source": [
    "city_flights = df2.sort_values('average_flights')"
   ]
  },
  {
   "cell_type": "code",
   "execution_count": 40,
   "metadata": {},
   "outputs": [
    {
     "data": {
      "text/plain": [
       "Text(0, 0.5, 'Среднее количество рейсов за день, шт')"
      ]
     },
     "execution_count": 40,
     "metadata": {},
     "output_type": "execute_result"
    },
    {
     "data": {
      "image/png": "[encoded data removed]",
      "text/plain": [
       "<Figure size 1296x576 with 1 Axes>"
      ]
     },
     "metadata": {
      "needs_background": "light"
     },
     "output_type": "display_data"
    }
   ],
   "source": [
    "city_flights.plot(kind='bar', x='city', y='avg_flights', \n",
    "         title='Города и количество рейсов',\n",
    "         figsize=(18,8))\n",
    "plt.title('Города и количество рейсов', fontsize=20, color='blue')\n",
    "plt.xlabel('Город', fontsize=16, color='blue')\n",
    "plt.ylabel('Среднее количество рейсов за день, шт', fontsize=16, color='blue')"
   ]
  },
  {
   "cell_type": "markdown",
   "metadata": {},
   "source": [
    "Для большинства городов среднее количество прибывающих рейсов за день в августе 2018 года от 1 до 20, около 20 рейсов в среднем за день прибывало в Новосибирск. Значительно больше рейсов в среднем за день прибывало в Санкт-Петербуг и Москву: 31 и 129 рейсов соответственно."
   ]
  },
  {
   "cell_type": "code",
   "execution_count": 45,
   "metadata": {},
   "outputs": [
    {
     "data": {
      "text/plain": [
       "Text(0, 0.5, 'Среднее количество рейсов за день, шт')"
      ]
     },
     "execution_count": 45,
     "metadata": {},
     "output_type": "execute_result"
    },
    {
     "data": {
      "image/png": "[encoded data removed]",
      "text/plain": [
       "<Figure size 936x432 with 1 Axes>"
      ]
     },
     "metadata": {
      "needs_background": "light"
     },
     "output_type": "display_data"
    }
   ],
   "source": [
    "df2_top.plot(kind='bar', x='city', y='average_flights',\n",
    "         figsize=(13,6))\n",
    "plt.title('Города и количество рейсов', fontsize=15, color='blue')\n",
    "plt.xlabel('Город', fontsize=13, color='blue')\n",
    "plt.ylabel('Среднее количество рейсов за день, шт', fontsize=13, color='blue')"
   ]
  },
  {
   "cell_type": "markdown",
   "metadata": {},
   "source": [
    "Из графика видно, что по среднему количеству прибывавших рейсов за день лидирует Москва. Далее идут Санкт-Петербург и Новосибирск. В остальные города из топ-10 в среднем за день прибывало около 10 рейсов в августе 2018 года."
   ]
  },
  {
   "cell_type": "markdown",
   "metadata": {},
   "source": [
    "### Вывод"
   ]
  },
  {
   "cell_type": "markdown",
   "metadata": {},
   "source": [
    "В сентябне 2018 года наибольшее количество рейсов авиакомпании «F9» совершились на самолётах моделей - Cessna 208 Caravan, Bombardier CRJ-200, Cessna 208 Caravan. Более 4000 рейсов на каждой из этих моделей.\n",
    "В августе 2018 года наибольшее среднее количесво рейсов за день прибывало в Москву - 129 рейсов за день в среднем. В Санкт-Петербугр и Новосибирск прибывало значительно меньше рейсов - 31 и 17 рейсов за день соответственно, но это тоже больше, чем в другие города."
   ]
  }
 ],
 "metadata": {
  "ExecuteTimeLog": [
   {
    "duration": 1574,
    "start_time": "2021-06-12T18:48:57.416Z"
   },
   {
    "duration": 18,
    "start_time": "2021-06-12T18:49:32.429Z"
   },
   {
    "duration": 21,
    "start_time": "2021-06-12T18:49:33.562Z"
   },
   {
    "duration": 29,
    "start_time": "2021-06-12T18:50:52.628Z"
   },
   {
    "duration": 556,
    "start_time": "2021-06-12T18:50:59.647Z"
   },
   {
    "duration": 20,
    "start_time": "2021-06-12T18:51:03.526Z"
   },
   {
    "duration": 12,
    "start_time": "2021-06-12T18:51:03.991Z"
   },
   {
    "duration": 20,
    "start_time": "2021-06-12T18:51:04.867Z"
   },
   {
    "duration": 10,
    "start_time": "2021-06-12T18:51:14.194Z"
   },
   {
    "duration": 9,
    "start_time": "2021-06-12T18:54:37.398Z"
   },
   {
    "duration": 10,
    "start_time": "2021-06-12T18:55:29.785Z"
   },
   {
    "duration": 9,
    "start_time": "2021-06-12T18:56:15.454Z"
   },
   {
    "duration": 18,
    "start_time": "2021-06-12T19:00:53.361Z"
   },
   {
    "duration": 331,
    "start_time": "2021-06-12T19:01:17.885Z"
   },
   {
    "duration": 15,
    "start_time": "2021-06-12T19:01:25.004Z"
   },
   {
    "duration": 13,
    "start_time": "2021-06-12T19:01:35.887Z"
   },
   {
    "duration": 15,
    "start_time": "2021-06-12T19:02:08.650Z"
   },
   {
    "duration": 324,
    "start_time": "2021-06-12T19:12:24.095Z"
   },
   {
    "duration": 117,
    "start_time": "2021-06-12T19:14:47.283Z"
   },
   {
    "duration": 439,
    "start_time": "2021-06-12T19:15:23.719Z"
   },
   {
    "duration": 443,
    "start_time": "2021-06-12T19:16:31.558Z"
   },
   {
    "duration": 352,
    "start_time": "2021-06-12T19:19:07.271Z"
   },
   {
    "duration": 6,
    "start_time": "2021-06-12T19:19:26.133Z"
   },
   {
    "duration": 437,
    "start_time": "2021-06-12T19:19:26.707Z"
   },
   {
    "duration": 588,
    "start_time": "2021-06-12T19:21:13.976Z"
   },
   {
    "duration": 306,
    "start_time": "2021-06-12T19:21:39.956Z"
   },
   {
    "duration": 446,
    "start_time": "2021-06-12T19:22:09.234Z"
   },
   {
    "duration": 591,
    "start_time": "2021-06-12T19:23:47.863Z"
   },
   {
    "duration": 713,
    "start_time": "2021-06-12T19:23:59.892Z"
   },
   {
    "duration": 3503,
    "start_time": "2021-06-12T19:25:40.005Z"
   },
   {
    "duration": 2415,
    "start_time": "2021-06-12T19:26:01.571Z"
   },
   {
    "duration": 2581,
    "start_time": "2021-06-12T19:26:36.569Z"
   },
   {
    "duration": 2417,
    "start_time": "2021-06-12T19:26:58.711Z"
   },
   {
    "duration": 2570,
    "start_time": "2021-06-12T19:27:10.547Z"
   },
   {
    "duration": 2461,
    "start_time": "2021-06-12T19:27:57.615Z"
   },
   {
    "duration": 2762,
    "start_time": "2021-06-12T19:28:12.649Z"
   },
   {
    "duration": 2500,
    "start_time": "2021-06-12T19:28:51.165Z"
   },
   {
    "duration": 8,
    "start_time": "2021-06-12T19:29:14.057Z"
   },
   {
    "duration": 5,
    "start_time": "2021-06-12T19:29:18.139Z"
   },
   {
    "duration": 11,
    "start_time": "2021-06-12T19:29:29.004Z"
   },
   {
    "duration": 425,
    "start_time": "2021-06-12T19:29:46.613Z"
   },
   {
    "duration": 6,
    "start_time": "2021-06-12T19:31:56.775Z"
   },
   {
    "duration": 13,
    "start_time": "2021-06-12T19:31:58.066Z"
   },
   {
    "duration": 4,
    "start_time": "2021-06-12T19:43:27.934Z"
   },
   {
    "duration": 9,
    "start_time": "2021-06-12T19:52:47.543Z"
   },
   {
    "duration": 2479,
    "start_time": "2021-06-12T20:03:36.232Z"
   },
   {
    "duration": 385,
    "start_time": "2021-06-12T20:05:44.991Z"
   },
   {
    "duration": 5,
    "start_time": "2021-06-12T20:05:56.620Z"
   },
   {
    "duration": 3687,
    "start_time": "2021-06-12T20:06:06.655Z"
   },
   {
    "duration": 371,
    "start_time": "2021-06-13T10:30:08.901Z"
   },
   {
    "duration": 953,
    "start_time": "2021-06-13T10:32:22.209Z"
   },
   {
    "duration": 16,
    "start_time": "2021-06-13T10:32:23.165Z"
   },
   {
    "duration": 15,
    "start_time": "2021-06-13T10:32:23.186Z"
   },
   {
    "duration": 26,
    "start_time": "2021-06-13T10:32:23.205Z"
   },
   {
    "duration": 12,
    "start_time": "2021-06-13T10:32:23.235Z"
   },
   {
    "duration": 8,
    "start_time": "2021-06-13T10:32:23.250Z"
   },
   {
    "duration": 10,
    "start_time": "2021-06-13T10:32:23.261Z"
   },
   {
    "duration": 8,
    "start_time": "2021-06-13T10:32:23.274Z"
   },
   {
    "duration": 12,
    "start_time": "2021-06-13T10:32:23.325Z"
   },
   {
    "duration": 6,
    "start_time": "2021-06-13T10:32:23.341Z"
   },
   {
    "duration": 419,
    "start_time": "2021-06-13T10:32:23.350Z"
   },
   {
    "duration": 5,
    "start_time": "2021-06-13T10:32:23.772Z"
   },
   {
    "duration": 2679,
    "start_time": "2021-06-13T10:32:23.779Z"
   },
   {
    "duration": 516,
    "start_time": "2021-06-13T10:32:26.461Z"
   },
   {
    "duration": 2619,
    "start_time": "2021-06-13T10:32:41.700Z"
   },
   {
    "duration": 2598,
    "start_time": "2021-06-13T10:32:58.873Z"
   },
   {
    "duration": 2639,
    "start_time": "2021-06-13T10:33:20.418Z"
   },
   {
    "duration": 2050,
    "start_time": "2021-06-13T10:57:42.299Z"
   },
   {
    "duration": 2467,
    "start_time": "2021-06-13T10:58:04.285Z"
   },
   {
    "duration": 330,
    "start_time": "2021-06-13T10:58:56.198Z"
   },
   {
    "duration": 343,
    "start_time": "2021-06-13T10:59:07.883Z"
   },
   {
    "duration": 2462,
    "start_time": "2021-06-13T11:06:29.463Z"
   },
   {
    "duration": 746,
    "start_time": "2021-06-13T11:06:42.562Z"
   },
   {
    "duration": 472,
    "start_time": "2021-06-13T11:07:29.885Z"
   },
   {
    "duration": 373,
    "start_time": "2021-06-13T11:08:05.552Z"
   },
   {
    "duration": 382,
    "start_time": "2021-06-13T11:09:00.438Z"
   },
   {
    "duration": 378,
    "start_time": "2021-06-13T11:09:26.698Z"
   },
   {
    "duration": 379,
    "start_time": "2021-06-13T11:09:34.708Z"
   },
   {
    "duration": 441,
    "start_time": "2021-06-13T11:09:59.514Z"
   },
   {
    "duration": 399,
    "start_time": "2021-06-13T11:10:13.378Z"
   },
   {
    "duration": 377,
    "start_time": "2021-06-13T11:26:39.239Z"
   },
   {
    "duration": 375,
    "start_time": "2021-06-13T11:26:47.762Z"
   },
   {
    "duration": 2988,
    "start_time": "2021-06-13T11:39:33.178Z"
   },
   {
    "duration": 2872,
    "start_time": "2021-06-13T11:40:46.640Z"
   },
   {
    "duration": 3073,
    "start_time": "2021-06-13T11:41:14.468Z"
   },
   {
    "duration": 2792,
    "start_time": "2021-06-13T11:41:46.039Z"
   },
   {
    "duration": 2637,
    "start_time": "2021-06-13T11:42:21.243Z"
   },
   {
    "duration": 2798,
    "start_time": "2021-06-13T11:43:40.496Z"
   },
   {
    "duration": 2636,
    "start_time": "2021-06-13T11:44:18.432Z"
   },
   {
    "duration": 2745,
    "start_time": "2021-06-13T11:45:10.400Z"
   },
   {
    "duration": 462,
    "start_time": "2021-06-13T11:45:46.098Z"
   },
   {
    "duration": 452,
    "start_time": "2021-06-13T11:46:05.352Z"
   },
   {
    "duration": 444,
    "start_time": "2021-06-13T11:46:11.560Z"
   },
   {
    "duration": 449,
    "start_time": "2021-06-13T11:46:20.891Z"
   },
   {
    "duration": 455,
    "start_time": "2021-06-13T11:46:32.227Z"
   },
   {
    "duration": 7,
    "start_time": "2021-06-13T11:48:45.716Z"
   },
   {
    "duration": 11,
    "start_time": "2021-06-13T11:48:49.477Z"
   },
   {
    "duration": 5,
    "start_time": "2021-06-13T11:51:04.667Z"
   },
   {
    "duration": 13,
    "start_time": "2021-06-13T11:51:07.417Z"
   },
   {
    "duration": 5,
    "start_time": "2021-06-13T11:51:35.191Z"
   },
   {
    "duration": 22,
    "start_time": "2021-06-13T11:51:35.824Z"
   },
   {
    "duration": 6,
    "start_time": "2021-06-13T11:52:49.276Z"
   },
   {
    "duration": 5,
    "start_time": "2021-06-13T11:52:49.748Z"
   },
   {
    "duration": 6,
    "start_time": "2021-06-13T11:52:50.215Z"
   },
   {
    "duration": 10,
    "start_time": "2021-06-13T11:52:51.002Z"
   }
  ],
  "kernelspec": {
   "display_name": "Python 3",
   "language": "python",
   "name": "python3"
  },
  "language_info": {
   "codemirror_mode": {
    "name": "ipython",
    "version": 3
   },
   "file_extension": ".py",
   "mimetype": "text/x-python",
   "name": "python",
   "nbconvert_exporter": "python",
   "pygments_lexer": "ipython3",
   "version": "3.8.8"
  },
  "toc": {
   "base_numbering": 1,
   "nav_menu": {},
   "number_sections": true,
   "sideBar": true,
   "skip_h1_title": true,
   "title_cell": "Table of Contents",
   "title_sidebar": "Contents",
   "toc_cell": false,
   "toc_position": {},
   "toc_section_display": true,
   "toc_window_display": false
  }
 },
 "nbformat": 4,
 "nbformat_minor": 2
}
