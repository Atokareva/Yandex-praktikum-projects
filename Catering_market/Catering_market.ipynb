{
 "cells": [
  {
   "cell_type": "markdown",
   "metadata": {},
   "source": [
    "# Рынок объектов общественного питания  (ООП) Москвы"
   ]
  },
  {
   "cell_type": "markdown",
   "metadata": {},
   "source": [
    "## Изучение данных и подготовка к анализу"
   ]
  },
  {
   "cell_type": "markdown",
   "metadata": {},
   "source": [
    "Загрузим открытые данные о заведениях общественного питания Москвы."
   ]
  },
  {
   "cell_type": "code",
   "execution_count": 1,
   "metadata": {},
   "outputs": [],
   "source": [
    "import pandas as pd\n",
    "import numpy as np\n",
    "from datetime import datetime, timedelta\n",
    "from matplotlib import pyplot as plt\n",
    "import seaborn as sns\n",
    "import re\n",
    "import requests\n",
    "import io\n",
    "import json"
   ]
  },
  {
   "cell_type": "code",
   "execution_count": 2,
   "metadata": {},
   "outputs": [],
   "source": [
    "df = pd.read_csv('/datasets/rest_data.csv')"
   ]
  },
  {
   "cell_type": "code",
   "execution_count": 3,
   "metadata": {},
   "outputs": [
    {
     "name": "stdout",
     "output_type": "stream",
     "text": [
      "<class 'pandas.core.frame.DataFrame'>\n",
      "RangeIndex: 15366 entries, 0 to 15365\n",
      "Data columns (total 6 columns):\n",
      "id             15366 non-null int64\n",
      "object_name    15366 non-null object\n",
      "chain          15366 non-null object\n",
      "object_type    15366 non-null object\n",
      "address        15366 non-null object\n",
      "number         15366 non-null int64\n",
      "dtypes: int64(2), object(4)\n",
      "memory usage: 720.4+ KB\n"
     ]
    }
   ],
   "source": [
    "df.info()"
   ]
  },
  {
   "cell_type": "code",
   "execution_count": 4,
   "metadata": {},
   "outputs": [
    {
     "data": {
      "text/html": [
       "<div>\n",
       "<style scoped>\n",
       "    .dataframe tbody tr th:only-of-type {\n",
       "        vertical-align: middle;\n",
       "    }\n",
       "\n",
       "    .dataframe tbody tr th {\n",
       "        vertical-align: top;\n",
       "    }\n",
       "\n",
       "    .dataframe thead th {\n",
       "        text-align: right;\n",
       "    }\n",
       "</style>\n",
       "<table border=\"1\" class=\"dataframe\">\n",
       "  <thead>\n",
       "    <tr style=\"text-align: right;\">\n",
       "      <th></th>\n",
       "      <th>id</th>\n",
       "      <th>object_name</th>\n",
       "      <th>chain</th>\n",
       "      <th>object_type</th>\n",
       "      <th>address</th>\n",
       "      <th>number</th>\n",
       "    </tr>\n",
       "  </thead>\n",
       "  <tbody>\n",
       "    <tr>\n",
       "      <td>0</td>\n",
       "      <td>151635</td>\n",
       "      <td>СМЕТАНА</td>\n",
       "      <td>нет</td>\n",
       "      <td>кафе</td>\n",
       "      <td>город Москва, улица Егора Абакумова, дом 9</td>\n",
       "      <td>48</td>\n",
       "    </tr>\n",
       "    <tr>\n",
       "      <td>1</td>\n",
       "      <td>77874</td>\n",
       "      <td>Родник</td>\n",
       "      <td>нет</td>\n",
       "      <td>кафе</td>\n",
       "      <td>город Москва, улица Талалихина, дом 2/1, корпус 1</td>\n",
       "      <td>35</td>\n",
       "    </tr>\n",
       "    <tr>\n",
       "      <td>2</td>\n",
       "      <td>24309</td>\n",
       "      <td>Кафе «Академия»</td>\n",
       "      <td>нет</td>\n",
       "      <td>кафе</td>\n",
       "      <td>город Москва, Абельмановская улица, дом 6</td>\n",
       "      <td>95</td>\n",
       "    </tr>\n",
       "    <tr>\n",
       "      <td>3</td>\n",
       "      <td>21894</td>\n",
       "      <td>ПИЦЦЕТОРИЯ</td>\n",
       "      <td>да</td>\n",
       "      <td>кафе</td>\n",
       "      <td>город Москва, Абрамцевская улица, дом 1</td>\n",
       "      <td>40</td>\n",
       "    </tr>\n",
       "    <tr>\n",
       "      <td>4</td>\n",
       "      <td>119365</td>\n",
       "      <td>Кафе «Вишневая метель»</td>\n",
       "      <td>нет</td>\n",
       "      <td>кафе</td>\n",
       "      <td>город Москва, Абрамцевская улица, дом 9, корпус 1</td>\n",
       "      <td>50</td>\n",
       "    </tr>\n",
       "    <tr>\n",
       "      <td>5</td>\n",
       "      <td>27429</td>\n",
       "      <td>СТОЛ. ПРИ ГОУ СОШ № 1051</td>\n",
       "      <td>нет</td>\n",
       "      <td>столовая</td>\n",
       "      <td>город Москва, Абрамцевская улица, дом 15, корп...</td>\n",
       "      <td>240</td>\n",
       "    </tr>\n",
       "    <tr>\n",
       "      <td>6</td>\n",
       "      <td>148815</td>\n",
       "      <td>Брусника</td>\n",
       "      <td>да</td>\n",
       "      <td>кафе</td>\n",
       "      <td>город Москва, переулок Сивцев Вражек, дом 6/2</td>\n",
       "      <td>10</td>\n",
       "    </tr>\n",
       "    <tr>\n",
       "      <td>7</td>\n",
       "      <td>20957</td>\n",
       "      <td>Буфет МТУСИ</td>\n",
       "      <td>нет</td>\n",
       "      <td>столовая</td>\n",
       "      <td>город Москва, Авиамоторная улица, дом 8, строе...</td>\n",
       "      <td>90</td>\n",
       "    </tr>\n",
       "    <tr>\n",
       "      <td>8</td>\n",
       "      <td>20958</td>\n",
       "      <td>КПФ СЕМЬЯ-1</td>\n",
       "      <td>нет</td>\n",
       "      <td>столовая</td>\n",
       "      <td>город Москва, Авиамоторная улица, дом 8, строе...</td>\n",
       "      <td>150</td>\n",
       "    </tr>\n",
       "    <tr>\n",
       "      <td>9</td>\n",
       "      <td>28858</td>\n",
       "      <td>Столовая МТУСИ</td>\n",
       "      <td>нет</td>\n",
       "      <td>столовая</td>\n",
       "      <td>город Москва, Авиамоторная улица, дом 8, строе...</td>\n",
       "      <td>120</td>\n",
       "    </tr>\n",
       "  </tbody>\n",
       "</table>\n",
       "</div>"
      ],
      "text/plain": [
       "       id               object_name chain object_type  \\\n",
       "0  151635                   СМЕТАНА   нет        кафе   \n",
       "1   77874                    Родник   нет        кафе   \n",
       "2   24309           Кафе «Академия»   нет        кафе   \n",
       "3   21894                ПИЦЦЕТОРИЯ    да        кафе   \n",
       "4  119365    Кафе «Вишневая метель»   нет        кафе   \n",
       "5   27429  СТОЛ. ПРИ ГОУ СОШ № 1051   нет    столовая   \n",
       "6  148815                  Брусника    да        кафе   \n",
       "7   20957               Буфет МТУСИ   нет    столовая   \n",
       "8   20958               КПФ СЕМЬЯ-1   нет    столовая   \n",
       "9   28858            Столовая МТУСИ   нет    столовая   \n",
       "\n",
       "                                             address  number  \n",
       "0         город Москва, улица Егора Абакумова, дом 9      48  \n",
       "1  город Москва, улица Талалихина, дом 2/1, корпус 1      35  \n",
       "2          город Москва, Абельмановская улица, дом 6      95  \n",
       "3            город Москва, Абрамцевская улица, дом 1      40  \n",
       "4  город Москва, Абрамцевская улица, дом 9, корпус 1      50  \n",
       "5  город Москва, Абрамцевская улица, дом 15, корп...     240  \n",
       "6      город Москва, переулок Сивцев Вражек, дом 6/2      10  \n",
       "7  город Москва, Авиамоторная улица, дом 8, строе...      90  \n",
       "8  город Москва, Авиамоторная улица, дом 8, строе...     150  \n",
       "9  город Москва, Авиамоторная улица, дом 8, строе...     120  "
      ]
     },
     "execution_count": 4,
     "metadata": {},
     "output_type": "execute_result"
    }
   ],
   "source": [
    "df.head(10)"
   ]
  },
  {
   "cell_type": "markdown",
   "metadata": {},
   "source": [
    "Как мы видим, в столбце с названием объекта общественного питания (далее ООП) присутствуют названия в разных регистрах, а также некоторые названия взяты в кавычки и присутсвует ещё и название типа объекта. Приведём этот столбец к нижнему регистру и уберём кавычки."
   ]
  },
  {
   "cell_type": "code",
   "execution_count": 5,
   "metadata": {},
   "outputs": [],
   "source": [
    "df['object_name'] = df['object_name'].str.lower()"
   ]
  },
  {
   "cell_type": "code",
   "execution_count": 6,
   "metadata": {},
   "outputs": [],
   "source": [
    "df['object_name'] = df['object_name'].str.replace('»', '')\n",
    "df['object_name'] = df['object_name'].str.replace('«', '')\n",
    "df['object_name'] = df['object_name'].str.strip()"
   ]
  },
  {
   "cell_type": "code",
   "execution_count": 7,
   "metadata": {},
   "outputs": [
    {
     "data": {
      "text/plain": [
       "9840"
      ]
     },
     "execution_count": 7,
     "metadata": {},
     "output_type": "execute_result"
    }
   ],
   "source": [
    "len(df['object_name'].unique())"
   ]
  },
  {
   "cell_type": "markdown",
   "metadata": {},
   "source": [
    "В столбце с названием 9840 уникальных названий, там может быть большое количество дубликатов из-за того, что помимо названия присутствуют другие слова. Мы будем иметь это ввиду при анализе, но исправлять не будем из-за экономии временных ресурсов."
   ]
  },
  {
   "cell_type": "markdown",
   "metadata": {},
   "source": [
    "Приверим данные на наличие дубликатов."
   ]
  },
  {
   "cell_type": "code",
   "execution_count": 8,
   "metadata": {},
   "outputs": [
    {
     "data": {
      "text/plain": [
       "0"
      ]
     },
     "execution_count": 8,
     "metadata": {},
     "output_type": "execute_result"
    }
   ],
   "source": [
    "df.duplicated().sum()"
   ]
  },
  {
   "cell_type": "markdown",
   "metadata": {},
   "source": [
    "### Вывод"
   ]
  },
  {
   "cell_type": "markdown",
   "metadata": {},
   "source": [
    "В нашем распоряжении таблица с данными о заведениях общественного питания Москвы (df). Дубликатов и пропусков в таблице нет. Тип данных во всех колонках соответствует значениям. Столбец с названиями заведений мы привели к нижнему регистру и удалили кавычки. В этом же столбце есть дубликаты названий из-за присутствия лишних слов, но как много таких дубликатов мы не знаем. Будем иметь ввиду, что дубликаты по названию могут как-то повлиять на результаты исследования, из-за них результат будет менее точным."
   ]
  },
  {
   "cell_type": "markdown",
   "metadata": {},
   "source": [
    "## Анализ данных"
   ]
  },
  {
   "cell_type": "markdown",
   "metadata": {},
   "source": [
    "### Соотношение видов ООП по количеству"
   ]
  },
  {
   "cell_type": "markdown",
   "metadata": {},
   "source": [
    "Сгруппируем наши данные по типу ООП, посчитаем количество объектов для каждого типа и отсортируем."
   ]
  },
  {
   "cell_type": "code",
   "execution_count": 9,
   "metadata": {},
   "outputs": [],
   "source": [
    "df1 = df.groupby('object_type').agg({'id': 'count'}).reset_index().sort_values('id', ascending = False)\n",
    "df1.columns = ['object_type','count']"
   ]
  },
  {
   "cell_type": "code",
   "execution_count": 10,
   "metadata": {},
   "outputs": [],
   "source": [
    "total = df1['count'].sum()"
   ]
  },
  {
   "cell_type": "code",
   "execution_count": 11,
   "metadata": {},
   "outputs": [],
   "source": [
    "df1['part'] = df1['count'] / total"
   ]
  },
  {
   "cell_type": "code",
   "execution_count": 12,
   "metadata": {},
   "outputs": [],
   "source": [
    "df_object = df1.sort_values('count', ascending = False).style.format({'part': '{:,.1%}'.format})"
   ]
  },
  {
   "cell_type": "code",
   "execution_count": 13,
   "metadata": {},
   "outputs": [
    {
     "data": {
      "text/html": [
       "<style  type=\"text/css\" >\n",
       "</style><table id=\"T_80d262c6_ef9c_11eb_965c_02420a391e38\" ><thead>    <tr>        <th class=\"blank level0\" ></th>        <th class=\"col_heading level0 col0\" >object_type</th>        <th class=\"col_heading level0 col1\" >count</th>        <th class=\"col_heading level0 col2\" >part</th>    </tr></thead><tbody>\n",
       "                <tr>\n",
       "                        <th id=\"T_80d262c6_ef9c_11eb_965c_02420a391e38level0_row0\" class=\"row_heading level0 row0\" >3</th>\n",
       "                        <td id=\"T_80d262c6_ef9c_11eb_965c_02420a391e38row0_col0\" class=\"data row0 col0\" >кафе</td>\n",
       "                        <td id=\"T_80d262c6_ef9c_11eb_965c_02420a391e38row0_col1\" class=\"data row0 col1\" >6099</td>\n",
       "                        <td id=\"T_80d262c6_ef9c_11eb_965c_02420a391e38row0_col2\" class=\"data row0 col2\" >39.7%</td>\n",
       "            </tr>\n",
       "            <tr>\n",
       "                        <th id=\"T_80d262c6_ef9c_11eb_965c_02420a391e38level0_row1\" class=\"row_heading level0 row1\" >8</th>\n",
       "                        <td id=\"T_80d262c6_ef9c_11eb_965c_02420a391e38row1_col0\" class=\"data row1 col0\" >столовая</td>\n",
       "                        <td id=\"T_80d262c6_ef9c_11eb_965c_02420a391e38row1_col1\" class=\"data row1 col1\" >2587</td>\n",
       "                        <td id=\"T_80d262c6_ef9c_11eb_965c_02420a391e38row1_col2\" class=\"data row1 col2\" >16.8%</td>\n",
       "            </tr>\n",
       "            <tr>\n",
       "                        <th id=\"T_80d262c6_ef9c_11eb_965c_02420a391e38level0_row2\" class=\"row_heading level0 row2\" >7</th>\n",
       "                        <td id=\"T_80d262c6_ef9c_11eb_965c_02420a391e38row2_col0\" class=\"data row2 col0\" >ресторан</td>\n",
       "                        <td id=\"T_80d262c6_ef9c_11eb_965c_02420a391e38row2_col1\" class=\"data row2 col1\" >2285</td>\n",
       "                        <td id=\"T_80d262c6_ef9c_11eb_965c_02420a391e38row2_col2\" class=\"data row2 col2\" >14.9%</td>\n",
       "            </tr>\n",
       "            <tr>\n",
       "                        <th id=\"T_80d262c6_ef9c_11eb_965c_02420a391e38level0_row3\" class=\"row_heading level0 row3\" >6</th>\n",
       "                        <td id=\"T_80d262c6_ef9c_11eb_965c_02420a391e38row3_col0\" class=\"data row3 col0\" >предприятие быстрого обслуживания</td>\n",
       "                        <td id=\"T_80d262c6_ef9c_11eb_965c_02420a391e38row3_col1\" class=\"data row3 col1\" >1923</td>\n",
       "                        <td id=\"T_80d262c6_ef9c_11eb_965c_02420a391e38row3_col2\" class=\"data row3 col2\" >12.5%</td>\n",
       "            </tr>\n",
       "            <tr>\n",
       "                        <th id=\"T_80d262c6_ef9c_11eb_965c_02420a391e38level0_row4\" class=\"row_heading level0 row4\" >0</th>\n",
       "                        <td id=\"T_80d262c6_ef9c_11eb_965c_02420a391e38row4_col0\" class=\"data row4 col0\" >бар</td>\n",
       "                        <td id=\"T_80d262c6_ef9c_11eb_965c_02420a391e38row4_col1\" class=\"data row4 col1\" >856</td>\n",
       "                        <td id=\"T_80d262c6_ef9c_11eb_965c_02420a391e38row4_col2\" class=\"data row4 col2\" >5.6%</td>\n",
       "            </tr>\n",
       "            <tr>\n",
       "                        <th id=\"T_80d262c6_ef9c_11eb_965c_02420a391e38level0_row5\" class=\"row_heading level0 row5\" >1</th>\n",
       "                        <td id=\"T_80d262c6_ef9c_11eb_965c_02420a391e38row5_col0\" class=\"data row5 col0\" >буфет</td>\n",
       "                        <td id=\"T_80d262c6_ef9c_11eb_965c_02420a391e38row5_col1\" class=\"data row5 col1\" >585</td>\n",
       "                        <td id=\"T_80d262c6_ef9c_11eb_965c_02420a391e38row5_col2\" class=\"data row5 col2\" >3.8%</td>\n",
       "            </tr>\n",
       "            <tr>\n",
       "                        <th id=\"T_80d262c6_ef9c_11eb_965c_02420a391e38level0_row6\" class=\"row_heading level0 row6\" >4</th>\n",
       "                        <td id=\"T_80d262c6_ef9c_11eb_965c_02420a391e38row6_col0\" class=\"data row6 col0\" >кафетерий</td>\n",
       "                        <td id=\"T_80d262c6_ef9c_11eb_965c_02420a391e38row6_col1\" class=\"data row6 col1\" >398</td>\n",
       "                        <td id=\"T_80d262c6_ef9c_11eb_965c_02420a391e38row6_col2\" class=\"data row6 col2\" >2.6%</td>\n",
       "            </tr>\n",
       "            <tr>\n",
       "                        <th id=\"T_80d262c6_ef9c_11eb_965c_02420a391e38level0_row7\" class=\"row_heading level0 row7\" >2</th>\n",
       "                        <td id=\"T_80d262c6_ef9c_11eb_965c_02420a391e38row7_col0\" class=\"data row7 col0\" >закусочная</td>\n",
       "                        <td id=\"T_80d262c6_ef9c_11eb_965c_02420a391e38row7_col1\" class=\"data row7 col1\" >360</td>\n",
       "                        <td id=\"T_80d262c6_ef9c_11eb_965c_02420a391e38row7_col2\" class=\"data row7 col2\" >2.3%</td>\n",
       "            </tr>\n",
       "            <tr>\n",
       "                        <th id=\"T_80d262c6_ef9c_11eb_965c_02420a391e38level0_row8\" class=\"row_heading level0 row8\" >5</th>\n",
       "                        <td id=\"T_80d262c6_ef9c_11eb_965c_02420a391e38row8_col0\" class=\"data row8 col0\" >магазин (отдел кулинарии)</td>\n",
       "                        <td id=\"T_80d262c6_ef9c_11eb_965c_02420a391e38row8_col1\" class=\"data row8 col1\" >273</td>\n",
       "                        <td id=\"T_80d262c6_ef9c_11eb_965c_02420a391e38row8_col2\" class=\"data row8 col2\" >1.8%</td>\n",
       "            </tr>\n",
       "    </tbody></table>"
      ],
      "text/plain": [
       "<pandas.io.formats.style.Styler at 0x7f5e1efa3450>"
      ]
     },
     "execution_count": 13,
     "metadata": {},
     "output_type": "execute_result"
    }
   ],
   "source": [
    "df_object"
   ]
  },
  {
   "cell_type": "code",
   "execution_count": 14,
   "metadata": {},
   "outputs": [
    {
     "data": {
      "image/png": "[encoded data removed]",
      "text/plain": [
       "<Figure size 504x432 with 1 Axes>"
      ]
     },
     "metadata": {
      "needs_background": "light"
     },
     "output_type": "display_data"
    }
   ],
   "source": [
    "plt.figure(figsize=(7,6))\n",
    "sns.barplot(x='count', y='object_type',  palette='hls', data=df1)\n",
    "plt.title('Виды объектов общественного питания')\n",
    "plt.xlabel('Количество объектов')\n",
    "plt.ylabel('Тип объекта')\n",
    "plt.grid()\n",
    "plt.show()"
   ]
  },
  {
   "cell_type": "markdown",
   "metadata": {},
   "source": [
    "Наибольшую долю рынка занимают кафе (39,7%), столовые (16,8%), рестораны (14,9%) и предприятия быстрого обслуживания (12,5%). Остальные (виды бар/буфет/кафетерий/закусочная/магазин) в сумме занимают отставшееся 16% рынка."
   ]
  },
  {
   "cell_type": "markdown",
   "metadata": {},
   "source": [
    "### Соотношение сетевых и несетевых заведений по количеству"
   ]
  },
  {
   "cell_type": "markdown",
   "metadata": {},
   "source": [
    "Сгруппипуем наши данные по переменной 'chain' (сетевой ресторан), посчитаем количество ООП для сетевых и несетевых заведений."
   ]
  },
  {
   "cell_type": "code",
   "execution_count": 15,
   "metadata": {},
   "outputs": [],
   "source": [
    "df2 = df.groupby('chain').agg({'id': 'count'}).reset_index()\n",
    "df2.columns = ['is_chain', 'count']\n",
    "df2['part'] = df2['count'] / total"
   ]
  },
  {
   "cell_type": "code",
   "execution_count": 16,
   "metadata": {},
   "outputs": [
    {
     "data": {
      "text/html": [
       "<style  type=\"text/css\" >\n",
       "</style><table id=\"T_8105f5dc_ef9c_11eb_965c_02420a391e38\" ><thead>    <tr>        <th class=\"blank level0\" ></th>        <th class=\"col_heading level0 col0\" >is_chain</th>        <th class=\"col_heading level0 col1\" >count</th>        <th class=\"col_heading level0 col2\" >part</th>    </tr></thead><tbody>\n",
       "                <tr>\n",
       "                        <th id=\"T_8105f5dc_ef9c_11eb_965c_02420a391e38level0_row0\" class=\"row_heading level0 row0\" >0</th>\n",
       "                        <td id=\"T_8105f5dc_ef9c_11eb_965c_02420a391e38row0_col0\" class=\"data row0 col0\" >да</td>\n",
       "                        <td id=\"T_8105f5dc_ef9c_11eb_965c_02420a391e38row0_col1\" class=\"data row0 col1\" >2968</td>\n",
       "                        <td id=\"T_8105f5dc_ef9c_11eb_965c_02420a391e38row0_col2\" class=\"data row0 col2\" >19.3%</td>\n",
       "            </tr>\n",
       "            <tr>\n",
       "                        <th id=\"T_8105f5dc_ef9c_11eb_965c_02420a391e38level0_row1\" class=\"row_heading level0 row1\" >1</th>\n",
       "                        <td id=\"T_8105f5dc_ef9c_11eb_965c_02420a391e38row1_col0\" class=\"data row1 col0\" >нет</td>\n",
       "                        <td id=\"T_8105f5dc_ef9c_11eb_965c_02420a391e38row1_col1\" class=\"data row1 col1\" >12398</td>\n",
       "                        <td id=\"T_8105f5dc_ef9c_11eb_965c_02420a391e38row1_col2\" class=\"data row1 col2\" >80.7%</td>\n",
       "            </tr>\n",
       "    </tbody></table>"
      ],
      "text/plain": [
       "<pandas.io.formats.style.Styler at 0x7f5e1ea05e90>"
      ]
     },
     "execution_count": 16,
     "metadata": {},
     "output_type": "execute_result"
    }
   ],
   "source": [
    "df_is_chain = df2.style.format({'part': '{:,.1%}'.format})\n",
    "df_is_chain"
   ]
  },
  {
   "cell_type": "code",
   "execution_count": 17,
   "metadata": {},
   "outputs": [
    {
     "data": {
      "image/png": "[encoded data removed]",
      "text/plain": [
       "<Figure size 504x432 with 1 Axes>"
      ]
     },
     "metadata": {
      "needs_background": "light"
     },
     "output_type": "display_data"
    }
   ],
   "source": [
    "plt.figure(figsize=(7,6))\n",
    "sns.barplot(x=\"is_chain\", y=\"count\", palette='hls', data=df2)\n",
    "plt.title('Количество сетевых и несетевых заведений')\n",
    "plt.xlabel('Сетевой ресторан')\n",
    "plt.ylabel('Количество объектов')\n",
    "plt.grid()\n",
    "plt.show()"
   ]
  },
  {
   "cell_type": "markdown",
   "metadata": {},
   "source": [
    "Доля несетевых объектов - 80,7%, а сетевых - 19,3%. Сетевых значительно меньше."
   ]
  },
  {
   "cell_type": "markdown",
   "metadata": {},
   "source": [
    "### Для какого вида ООП характерно сетевое распространение?"
   ]
  },
  {
   "cell_type": "markdown",
   "metadata": {},
   "source": [
    "Сгруппируем данные по виду ООП, посчитаем количество сетевых и несетевых объектов для каждого ООП и долю сетевых для каждого вида ООП и отсортируем по доле."
   ]
  },
  {
   "cell_type": "code",
   "execution_count": 18,
   "metadata": {},
   "outputs": [],
   "source": [
    "df3 = df.pivot_table(index = 'object_type', columns = 'chain', values = 'id', aggfunc='count')\n",
    "df3.columns = ['chain_yes', 'chain_no']\n",
    "df3['total'] = df3['chain_yes'] + df3['chain_no']\n",
    "df3['part_of_chain'] = df3['chain_yes'] / (df3['chain_yes'] + df3['chain_no'])"
   ]
  },
  {
   "cell_type": "code",
   "execution_count": 19,
   "metadata": {},
   "outputs": [
    {
     "data": {
      "text/html": [
       "<div>\n",
       "<style scoped>\n",
       "    .dataframe tbody tr th:only-of-type {\n",
       "        vertical-align: middle;\n",
       "    }\n",
       "\n",
       "    .dataframe tbody tr th {\n",
       "        vertical-align: top;\n",
       "    }\n",
       "\n",
       "    .dataframe thead th {\n",
       "        text-align: right;\n",
       "    }\n",
       "</style>\n",
       "<table border=\"1\" class=\"dataframe\">\n",
       "  <thead>\n",
       "    <tr style=\"text-align: right;\">\n",
       "      <th></th>\n",
       "      <th>object_type</th>\n",
       "      <th>chain_yes</th>\n",
       "      <th>chain_no</th>\n",
       "      <th>total</th>\n",
       "      <th>part_of_chain</th>\n",
       "    </tr>\n",
       "  </thead>\n",
       "  <tbody>\n",
       "    <tr>\n",
       "      <td>0</td>\n",
       "      <td>предприятие быстрого обслуживания</td>\n",
       "      <td>791</td>\n",
       "      <td>1132</td>\n",
       "      <td>1923</td>\n",
       "      <td>0.411336</td>\n",
       "    </tr>\n",
       "    <tr>\n",
       "      <td>1</td>\n",
       "      <td>магазин (отдел кулинарии)</td>\n",
       "      <td>78</td>\n",
       "      <td>195</td>\n",
       "      <td>273</td>\n",
       "      <td>0.285714</td>\n",
       "    </tr>\n",
       "    <tr>\n",
       "      <td>2</td>\n",
       "      <td>ресторан</td>\n",
       "      <td>544</td>\n",
       "      <td>1741</td>\n",
       "      <td>2285</td>\n",
       "      <td>0.238074</td>\n",
       "    </tr>\n",
       "    <tr>\n",
       "      <td>3</td>\n",
       "      <td>кафе</td>\n",
       "      <td>1396</td>\n",
       "      <td>4703</td>\n",
       "      <td>6099</td>\n",
       "      <td>0.228890</td>\n",
       "    </tr>\n",
       "    <tr>\n",
       "      <td>4</td>\n",
       "      <td>закусочная</td>\n",
       "      <td>56</td>\n",
       "      <td>304</td>\n",
       "      <td>360</td>\n",
       "      <td>0.155556</td>\n",
       "    </tr>\n",
       "    <tr>\n",
       "      <td>5</td>\n",
       "      <td>кафетерий</td>\n",
       "      <td>52</td>\n",
       "      <td>346</td>\n",
       "      <td>398</td>\n",
       "      <td>0.130653</td>\n",
       "    </tr>\n",
       "    <tr>\n",
       "      <td>6</td>\n",
       "      <td>бар</td>\n",
       "      <td>37</td>\n",
       "      <td>819</td>\n",
       "      <td>856</td>\n",
       "      <td>0.043224</td>\n",
       "    </tr>\n",
       "    <tr>\n",
       "      <td>7</td>\n",
       "      <td>буфет</td>\n",
       "      <td>11</td>\n",
       "      <td>574</td>\n",
       "      <td>585</td>\n",
       "      <td>0.018803</td>\n",
       "    </tr>\n",
       "    <tr>\n",
       "      <td>8</td>\n",
       "      <td>столовая</td>\n",
       "      <td>3</td>\n",
       "      <td>2584</td>\n",
       "      <td>2587</td>\n",
       "      <td>0.001160</td>\n",
       "    </tr>\n",
       "  </tbody>\n",
       "</table>\n",
       "</div>"
      ],
      "text/plain": [
       "                         object_type  chain_yes  chain_no  total  \\\n",
       "0  предприятие быстрого обслуживания        791      1132   1923   \n",
       "1          магазин (отдел кулинарии)         78       195    273   \n",
       "2                           ресторан        544      1741   2285   \n",
       "3                               кафе       1396      4703   6099   \n",
       "4                         закусочная         56       304    360   \n",
       "5                          кафетерий         52       346    398   \n",
       "6                                бар         37       819    856   \n",
       "7                              буфет         11       574    585   \n",
       "8                           столовая          3      2584   2587   \n",
       "\n",
       "   part_of_chain  \n",
       "0       0.411336  \n",
       "1       0.285714  \n",
       "2       0.238074  \n",
       "3       0.228890  \n",
       "4       0.155556  \n",
       "5       0.130653  \n",
       "6       0.043224  \n",
       "7       0.018803  \n",
       "8       0.001160  "
      ]
     },
     "execution_count": 19,
     "metadata": {},
     "output_type": "execute_result"
    }
   ],
   "source": [
    "df_chain_type = df3.sort_values('part_of_chain', ascending = False).reset_index()\n",
    "df_chain_type"
   ]
  },
  {
   "cell_type": "code",
   "execution_count": 20,
   "metadata": {},
   "outputs": [
    {
     "data": {
      "image/png": "[encoded data removed]",
      "text/plain": [
       "<Figure size 504x432 with 1 Axes>"
      ]
     },
     "metadata": {
      "needs_background": "light"
     },
     "output_type": "display_data"
    }
   ],
   "source": [
    "plt.figure(figsize=(7,6))\n",
    "sns.barplot(y='object_type', x='part_of_chain', palette='hls', data=df_chain_type)\n",
    "plt.title('Доля сетевых заведений по типами ООП')\n",
    "plt.xlabel('Доля сетевых заведений')\n",
    "plt.ylabel('Тип объекта')\n",
    "plt.grid()\n",
    "plt.show()"
   ]
  },
  {
   "cell_type": "markdown",
   "metadata": {},
   "source": [
    "Сетевое распространение характерно для предприятий быстрого обслуживаня. Затем по убыванию доли сетевых заведений идут магазины, рестораны, кафе и закусочные. Сетевых буфетов и столовых практически нет."
   ]
  },
  {
   "cell_type": "markdown",
   "metadata": {},
   "source": [
    "### Что характерно для сетевых заведений?"
   ]
  },
  {
   "cell_type": "markdown",
   "metadata": {},
   "source": [
    "Много заведений с небольшим числом посадочных мест в каждом или мало заведений с большим количеством посадочных мест?"
   ]
  },
  {
   "cell_type": "markdown",
   "metadata": {},
   "source": [
    "Выделим из таблицы только сетевые объекты и посмотрим на распределение числа посадочных мест, чтобы понимать, что считать для Москвы небольшим числом мест, а что большим."
   ]
  },
  {
   "cell_type": "code",
   "execution_count": 21,
   "metadata": {},
   "outputs": [],
   "source": [
    "df_chain = df[df['chain'] == 'да']"
   ]
  },
  {
   "cell_type": "code",
   "execution_count": 22,
   "metadata": {},
   "outputs": [
    {
     "data": {
      "text/html": [
       "<div>\n",
       "<style scoped>\n",
       "    .dataframe tbody tr th:only-of-type {\n",
       "        vertical-align: middle;\n",
       "    }\n",
       "\n",
       "    .dataframe tbody tr th {\n",
       "        vertical-align: top;\n",
       "    }\n",
       "\n",
       "    .dataframe thead th {\n",
       "        text-align: right;\n",
       "    }\n",
       "</style>\n",
       "<table border=\"1\" class=\"dataframe\">\n",
       "  <thead>\n",
       "    <tr style=\"text-align: right;\">\n",
       "      <th></th>\n",
       "      <th>id</th>\n",
       "      <th>object_name</th>\n",
       "      <th>chain</th>\n",
       "      <th>object_type</th>\n",
       "      <th>address</th>\n",
       "      <th>number</th>\n",
       "    </tr>\n",
       "  </thead>\n",
       "  <tbody>\n",
       "    <tr>\n",
       "      <td>3</td>\n",
       "      <td>21894</td>\n",
       "      <td>пиццетория</td>\n",
       "      <td>да</td>\n",
       "      <td>кафе</td>\n",
       "      <td>город Москва, Абрамцевская улица, дом 1</td>\n",
       "      <td>40</td>\n",
       "    </tr>\n",
       "    <tr>\n",
       "      <td>6</td>\n",
       "      <td>148815</td>\n",
       "      <td>брусника</td>\n",
       "      <td>да</td>\n",
       "      <td>кафе</td>\n",
       "      <td>город Москва, переулок Сивцев Вражек, дом 6/2</td>\n",
       "      <td>10</td>\n",
       "    </tr>\n",
       "    <tr>\n",
       "      <td>13</td>\n",
       "      <td>22579</td>\n",
       "      <td>алло пицца</td>\n",
       "      <td>да</td>\n",
       "      <td>кафе</td>\n",
       "      <td>город Москва, улица Авиаторов, дом 14</td>\n",
       "      <td>32</td>\n",
       "    </tr>\n",
       "    <tr>\n",
       "      <td>16</td>\n",
       "      <td>144107</td>\n",
       "      <td>суши wok</td>\n",
       "      <td>да</td>\n",
       "      <td>предприятие быстрого обслуживания</td>\n",
       "      <td>город Москва, Азовская улица, дом 3</td>\n",
       "      <td>7</td>\n",
       "    </tr>\n",
       "    <tr>\n",
       "      <td>18</td>\n",
       "      <td>58565</td>\n",
       "      <td>тануки</td>\n",
       "      <td>да</td>\n",
       "      <td>ресторан</td>\n",
       "      <td>город Москва, Большая Академическая улица, дом 65</td>\n",
       "      <td>160</td>\n",
       "    </tr>\n",
       "  </tbody>\n",
       "</table>\n",
       "</div>"
      ],
      "text/plain": [
       "        id object_name chain                        object_type  \\\n",
       "3    21894  пиццетория    да                               кафе   \n",
       "6   148815    брусника    да                               кафе   \n",
       "13   22579  алло пицца    да                               кафе   \n",
       "16  144107    суши wok    да  предприятие быстрого обслуживания   \n",
       "18   58565      тануки    да                           ресторан   \n",
       "\n",
       "                                              address  number  \n",
       "3             город Москва, Абрамцевская улица, дом 1      40  \n",
       "6       город Москва, переулок Сивцев Вражек, дом 6/2      10  \n",
       "13              город Москва, улица Авиаторов, дом 14      32  \n",
       "16                город Москва, Азовская улица, дом 3       7  \n",
       "18  город Москва, Большая Академическая улица, дом 65     160  "
      ]
     },
     "execution_count": 22,
     "metadata": {},
     "output_type": "execute_result"
    }
   ],
   "source": [
    "df_chain.head()"
   ]
  },
  {
   "cell_type": "code",
   "execution_count": 23,
   "metadata": {},
   "outputs": [
    {
     "data": {
      "text/plain": [
       "count    2968.000000\n",
       "mean       52.919811\n",
       "std        57.140644\n",
       "min         0.000000\n",
       "25%        15.000000\n",
       "50%        40.000000\n",
       "75%        72.000000\n",
       "max       580.000000\n",
       "Name: number, dtype: float64"
      ]
     },
     "execution_count": 23,
     "metadata": {},
     "output_type": "execute_result"
    }
   ],
   "source": [
    "df_chain['number'].describe()"
   ]
  },
  {
   "cell_type": "code",
   "execution_count": 24,
   "metadata": {},
   "outputs": [
    {
     "data": {
      "text/plain": [
       "Text(0.5, 0, 'Число посадочных мест')"
      ]
     },
     "execution_count": 24,
     "metadata": {},
     "output_type": "execute_result"
    },
    {
     "data": {
      "image/png": "[encoded data removed]",
      "text/plain": [
       "<Figure size 792x360 with 1 Axes>"
      ]
     },
     "metadata": {
      "needs_background": "light"
     },
     "output_type": "display_data"
    }
   ],
   "source": [
    "plt.figure(figsize=(11,5))\n",
    "sns.boxplot(x='number', data=df_chain, palette='hls') \n",
    "plt.title('Распределение числа посадочных мест для сетевых заведений')\n",
    "plt.xlabel('Число посадочных мест')"
   ]
  },
  {
   "cell_type": "markdown",
   "metadata": {},
   "source": [
    "У большей части сетевых заведений вместимость не более 72 мест, 150 мест - это уже большая редкость."
   ]
  },
  {
   "cell_type": "markdown",
   "metadata": {},
   "source": [
    "Сгруппируем по названию заведения, посчитаем количество объектов в каждой сети и среднее и медиану посадочных мест в каждой сети. Отсортируем по количеству объектов в сети, посмотрим на результат."
   ]
  },
  {
   "cell_type": "code",
   "execution_count": 25,
   "metadata": {},
   "outputs": [],
   "source": [
    "chain = df_chain.groupby('object_name').agg({'id': 'count', 'number': ['mean', 'median']}).reset_index()\n",
    "chain.columns = ['object_name', 'count', 'seats_mean', 'seats_median']"
   ]
  },
  {
   "cell_type": "code",
   "execution_count": 26,
   "metadata": {},
   "outputs": [
    {
     "data": {
      "text/html": [
       "<div>\n",
       "<style scoped>\n",
       "    .dataframe tbody tr th:only-of-type {\n",
       "        vertical-align: middle;\n",
       "    }\n",
       "\n",
       "    .dataframe tbody tr th {\n",
       "        vertical-align: top;\n",
       "    }\n",
       "\n",
       "    .dataframe thead th {\n",
       "        text-align: right;\n",
       "    }\n",
       "</style>\n",
       "<table border=\"1\" class=\"dataframe\">\n",
       "  <thead>\n",
       "    <tr style=\"text-align: right;\">\n",
       "      <th></th>\n",
       "      <th>object_name</th>\n",
       "      <th>count</th>\n",
       "      <th>seats_mean</th>\n",
       "      <th>seats_median</th>\n",
       "    </tr>\n",
       "  </thead>\n",
       "  <tbody>\n",
       "    <tr>\n",
       "      <td>540</td>\n",
       "      <td>шоколадница</td>\n",
       "      <td>157</td>\n",
       "      <td>57.184713</td>\n",
       "      <td>50.0</td>\n",
       "    </tr>\n",
       "    <tr>\n",
       "      <td>25</td>\n",
       "      <td>kfc</td>\n",
       "      <td>155</td>\n",
       "      <td>55.341935</td>\n",
       "      <td>45.0</td>\n",
       "    </tr>\n",
       "    <tr>\n",
       "      <td>314</td>\n",
       "      <td>макдоналдс</td>\n",
       "      <td>151</td>\n",
       "      <td>87.119205</td>\n",
       "      <td>76.0</td>\n",
       "    </tr>\n",
       "    <tr>\n",
       "      <td>107</td>\n",
       "      <td>бургер кинг</td>\n",
       "      <td>137</td>\n",
       "      <td>46.649635</td>\n",
       "      <td>45.0</td>\n",
       "    </tr>\n",
       "    <tr>\n",
       "      <td>499</td>\n",
       "      <td>теремок</td>\n",
       "      <td>94</td>\n",
       "      <td>25.606383</td>\n",
       "      <td>23.0</td>\n",
       "    </tr>\n",
       "    <tr>\n",
       "      <td>295</td>\n",
       "      <td>крошка картошка</td>\n",
       "      <td>90</td>\n",
       "      <td>21.855556</td>\n",
       "      <td>15.0</td>\n",
       "    </tr>\n",
       "    <tr>\n",
       "      <td>157</td>\n",
       "      <td>домино'с пицца</td>\n",
       "      <td>90</td>\n",
       "      <td>18.344444</td>\n",
       "      <td>16.0</td>\n",
       "    </tr>\n",
       "    <tr>\n",
       "      <td>323</td>\n",
       "      <td>милти</td>\n",
       "      <td>72</td>\n",
       "      <td>1.333333</td>\n",
       "      <td>0.0</td>\n",
       "    </tr>\n",
       "    <tr>\n",
       "      <td>483</td>\n",
       "      <td>суши wok</td>\n",
       "      <td>72</td>\n",
       "      <td>6.708333</td>\n",
       "      <td>6.0</td>\n",
       "    </tr>\n",
       "    <tr>\n",
       "      <td>351</td>\n",
       "      <td>папа джонс</td>\n",
       "      <td>51</td>\n",
       "      <td>22.039216</td>\n",
       "      <td>20.0</td>\n",
       "    </tr>\n",
       "  </tbody>\n",
       "</table>\n",
       "</div>"
      ],
      "text/plain": [
       "         object_name  count  seats_mean  seats_median\n",
       "540      шоколадница    157   57.184713          50.0\n",
       "25               kfc    155   55.341935          45.0\n",
       "314       макдоналдс    151   87.119205          76.0\n",
       "107      бургер кинг    137   46.649635          45.0\n",
       "499          теремок     94   25.606383          23.0\n",
       "295  крошка картошка     90   21.855556          15.0\n",
       "157   домино'с пицца     90   18.344444          16.0\n",
       "323            милти     72    1.333333           0.0\n",
       "483         суши wok     72    6.708333           6.0\n",
       "351       папа джонс     51   22.039216          20.0"
      ]
     },
     "execution_count": 26,
     "metadata": {},
     "output_type": "execute_result"
    }
   ],
   "source": [
    "chain.sort_values('count', ascending = False).head(10)"
   ]
  },
  {
   "cell_type": "code",
   "execution_count": 27,
   "metadata": {},
   "outputs": [
    {
     "data": {
      "text/plain": [
       "count    554.000000\n",
       "mean       5.357401\n",
       "std       15.857254\n",
       "min        1.000000\n",
       "25%        1.000000\n",
       "50%        1.000000\n",
       "75%        3.000000\n",
       "max      157.000000\n",
       "Name: count, dtype: float64"
      ]
     },
     "execution_count": 27,
     "metadata": {},
     "output_type": "execute_result"
    }
   ],
   "source": [
    "chain['count'].describe()"
   ]
  },
  {
   "cell_type": "markdown",
   "metadata": {},
   "source": [
    "Мы видим, что в сетевые заведения попали заведения с одним объектом, а это по логике нельзя считать сетью. На этапе изучения данных мы увидели, что в столбце с названием было много дубликатов и приняли решение их не менять. Посмотрим на распределение количества заведений без единичных заведений."
   ]
  },
  {
   "cell_type": "code",
   "execution_count": 28,
   "metadata": {},
   "outputs": [],
   "source": [
    "chain_report = chain.query('count > 1')"
   ]
  },
  {
   "cell_type": "code",
   "execution_count": 29,
   "metadata": {},
   "outputs": [
    {
     "data": {
      "image/png": "[encoded data removed]",
      "text/plain": [
       "<Figure size 792x360 with 1 Axes>"
      ]
     },
     "metadata": {
      "needs_background": "light"
     },
     "output_type": "display_data"
    }
   ],
   "source": [
    "plt.figure(figsize=(11,5))\n",
    "sns.boxplot(x='count', data=chain_report, palette='hls') \n",
    "plt.title('Распределение количества объектов в сетевых заведениях')\n",
    "plt.xlabel('Количество объектов в сети')\n",
    "plt.show()"
   ]
  },
  {
   "cell_type": "code",
   "execution_count": 30,
   "metadata": {},
   "outputs": [
    {
     "data": {
      "text/plain": [
       "count    248.000000\n",
       "mean      10.733871\n",
       "std       22.592539\n",
       "min        2.000000\n",
       "25%        2.000000\n",
       "50%        4.000000\n",
       "75%        7.250000\n",
       "max      157.000000\n",
       "Name: count, dtype: float64"
      ]
     },
     "execution_count": 30,
     "metadata": {},
     "output_type": "execute_result"
    }
   ],
   "source": [
    "chain_report['count'].describe()"
   ]
  },
  {
   "cell_type": "markdown",
   "metadata": {},
   "source": [
    "Большинство сетей (75%) имеют небольшое количество объектов в сети - менее 7 и только 25% более 7. Посмотрим на медианы количества мест для сетей, у которых в сети не более 4 объектов. Построим график распределения медиан количества мест для таких сетей."
   ]
  },
  {
   "cell_type": "code",
   "execution_count": 31,
   "metadata": {},
   "outputs": [],
   "source": [
    "chain_report_number = chain_report.query('count <= 7')"
   ]
  },
  {
   "cell_type": "code",
   "execution_count": 32,
   "metadata": {},
   "outputs": [
    {
     "data": {
      "image/png": "[encoded data removed]",
      "text/plain": [
       "<Figure size 792x432 with 1 Axes>"
      ]
     },
     "metadata": {
      "needs_background": "light"
     },
     "output_type": "display_data"
    }
   ],
   "source": [
    "plt.figure(figsize=(11,6))\n",
    "sns.distplot(chain_report_number['seats_median'])\n",
    "plt.title('Распределение числа посадочных мест для небольших сетей')\n",
    "plt.xlabel('Число посадочных мест')\n",
    "plt.grid()\n",
    "plt.show()"
   ]
  },
  {
   "cell_type": "code",
   "execution_count": 33,
   "metadata": {},
   "outputs": [
    {
     "data": {
      "text/plain": [
       "count    186.000000\n",
       "mean      59.779570\n",
       "std       50.587466\n",
       "min        0.000000\n",
       "25%       20.000000\n",
       "50%       45.000000\n",
       "75%       89.750000\n",
       "max      245.000000\n",
       "Name: seats_median, dtype: float64"
      ]
     },
     "execution_count": 33,
     "metadata": {},
     "output_type": "execute_result"
    }
   ],
   "source": [
    "chain_report_number['seats_median'].describe()"
   ]
  },
  {
   "cell_type": "markdown",
   "metadata": {},
   "source": [
    "Посмотрим распределения количества объектов в сети и числа посадочных мест ещё на одном типе графика (совместного распределения), для сгруппированной по названиям  таблицы и отфильтрованной от дубликатов (chain_report)."
   ]
  },
  {
   "cell_type": "code",
   "execution_count": 73,
   "metadata": {},
   "outputs": [
    {
     "data": {
      "image/png": "[encoded data removed]",
      "text/plain": [
       "<Figure size 504x504 with 3 Axes>"
      ]
     },
     "metadata": {
      "needs_background": "light"
     },
     "output_type": "display_data"
    }
   ],
   "source": [
    "jg = sns.jointplot(x='count', y='seats_median', kind='hex', data=chain_report, height = 7, ratio=3)\n",
    "\n",
    "jg.set_axis_labels('Число заведений','Число мест')\n",
    "plt.tight_layout()\n",
    "\n",
    "title ='Распределение количества объектов и \\n числа поседочных мест для сетевых ООП'\n",
    "\n",
    "_ = jg.fig.suptitle(title)"
   ]
  },
  {
   "cell_type": "markdown",
   "metadata": {},
   "source": [
    "Для сетевых заведений характерно мало заведений (4) с небольшим количеством посадочных мест (~40-60)."
   ]
  },
  {
   "cell_type": "markdown",
   "metadata": {},
   "source": [
    "### Какой вид ООП предоставляет в среднем самое большое количество посадочных мест?"
   ]
  },
  {
   "cell_type": "markdown",
   "metadata": {},
   "source": [
    "Сгруппируем исходную таблицу (df) по виду ООП, посчитаем среднне количество посадочных мест для каждого вида и отсортируем результат по среднему количеству мест."
   ]
  },
  {
   "cell_type": "code",
   "execution_count": 35,
   "metadata": {},
   "outputs": [
    {
     "data": {
      "text/html": [
       "<div>\n",
       "<style scoped>\n",
       "    .dataframe tbody tr th:only-of-type {\n",
       "        vertical-align: middle;\n",
       "    }\n",
       "\n",
       "    .dataframe tbody tr th {\n",
       "        vertical-align: top;\n",
       "    }\n",
       "\n",
       "    .dataframe thead th {\n",
       "        text-align: right;\n",
       "    }\n",
       "</style>\n",
       "<table border=\"1\" class=\"dataframe\">\n",
       "  <thead>\n",
       "    <tr style=\"text-align: right;\">\n",
       "      <th></th>\n",
       "      <th>object_type</th>\n",
       "      <th>number</th>\n",
       "    </tr>\n",
       "  </thead>\n",
       "  <tbody>\n",
       "    <tr>\n",
       "      <td>8</td>\n",
       "      <td>столовая</td>\n",
       "      <td>130.0</td>\n",
       "    </tr>\n",
       "    <tr>\n",
       "      <td>7</td>\n",
       "      <td>ресторан</td>\n",
       "      <td>97.0</td>\n",
       "    </tr>\n",
       "    <tr>\n",
       "      <td>1</td>\n",
       "      <td>буфет</td>\n",
       "      <td>51.0</td>\n",
       "    </tr>\n",
       "    <tr>\n",
       "      <td>0</td>\n",
       "      <td>бар</td>\n",
       "      <td>43.0</td>\n",
       "    </tr>\n",
       "    <tr>\n",
       "      <td>3</td>\n",
       "      <td>кафе</td>\n",
       "      <td>40.0</td>\n",
       "    </tr>\n",
       "    <tr>\n",
       "      <td>6</td>\n",
       "      <td>предприятие быстрого обслуживания</td>\n",
       "      <td>21.0</td>\n",
       "    </tr>\n",
       "    <tr>\n",
       "      <td>4</td>\n",
       "      <td>кафетерий</td>\n",
       "      <td>9.0</td>\n",
       "    </tr>\n",
       "    <tr>\n",
       "      <td>2</td>\n",
       "      <td>закусочная</td>\n",
       "      <td>8.0</td>\n",
       "    </tr>\n",
       "    <tr>\n",
       "      <td>5</td>\n",
       "      <td>магазин (отдел кулинарии)</td>\n",
       "      <td>6.0</td>\n",
       "    </tr>\n",
       "  </tbody>\n",
       "</table>\n",
       "</div>"
      ],
      "text/plain": [
       "                         object_type  number\n",
       "8                           столовая   130.0\n",
       "7                           ресторан    97.0\n",
       "1                              буфет    51.0\n",
       "0                                бар    43.0\n",
       "3                               кафе    40.0\n",
       "6  предприятие быстрого обслуживания    21.0\n",
       "4                          кафетерий     9.0\n",
       "2                         закусочная     8.0\n",
       "5          магазин (отдел кулинарии)     6.0"
      ]
     },
     "execution_count": 35,
     "metadata": {},
     "output_type": "execute_result"
    }
   ],
   "source": [
    "number_mean = df.groupby('object_type').agg({'number': 'mean'}).reset_index().sort_values('number', ascending = False)\n",
    "number_mean['number'] = number_mean['number'].round()\n",
    "number_mean\n"
   ]
  },
  {
   "cell_type": "code",
   "execution_count": 36,
   "metadata": {},
   "outputs": [
    {
     "data": {
      "text/plain": [
       "Text(0, 0.5, 'Количество посадочных мест')"
      ]
     },
     "execution_count": 36,
     "metadata": {},
     "output_type": "execute_result"
    },
    {
     "data": {
      "image/png": "[encoded data removed]",
      "text/plain": [
       "<Figure size 1080x432 with 1 Axes>"
      ]
     },
     "metadata": {
      "needs_background": "light"
     },
     "output_type": "display_data"
    }
   ],
   "source": [
    "plt.figure(figsize=(15,6))\n",
    "plt.xticks(rotation=45)\n",
    "sns.barplot(x='object_type', y='number', palette='hls', data=number_mean)\n",
    "plt.title('Среднее количество посадочных мест по видам объектов общественного питания', fontsize=15)\n",
    "plt.xlabel('Тип объекта', fontsize=13)\n",
    "plt.ylabel('Количество посадочных мест', fontsize=13)"
   ]
  },
  {
   "cell_type": "markdown",
   "metadata": {},
   "source": [
    "Самое большое количество посадочных мест предоставляют столовые (130 посадочных мест в среднем), далее по убыванию среднего количества посадочных мест идут рестораны (97 мест), буфеты (51), бары (43) и замыкают топ-5 - кафе (40 мест)."
   ]
  },
  {
   "cell_type": "markdown",
   "metadata": {},
   "source": [
    "### Столбец с информацей об улице из столбца address"
   ]
  },
  {
   "cell_type": "code",
   "execution_count": 37,
   "metadata": {},
   "outputs": [],
   "source": [
    "df['street'] = df['address'].str.extract(',\\s([-№\\w+\\s]+),')"
   ]
  },
  {
   "cell_type": "code",
   "execution_count": 38,
   "metadata": {},
   "outputs": [
    {
     "name": "stdout",
     "output_type": "stream",
     "text": [
      "<class 'pandas.core.frame.DataFrame'>\n",
      "RangeIndex: 15366 entries, 0 to 15365\n",
      "Data columns (total 7 columns):\n",
      "id             15366 non-null int64\n",
      "object_name    15366 non-null object\n",
      "chain          15366 non-null object\n",
      "object_type    15366 non-null object\n",
      "address        15366 non-null object\n",
      "number         15366 non-null int64\n",
      "street         15331 non-null object\n",
      "dtypes: int64(2), object(5)\n",
      "memory usage: 840.5+ KB\n"
     ]
    }
   ],
   "source": [
    "df.info()"
   ]
  },
  {
   "cell_type": "code",
   "execution_count": 39,
   "metadata": {},
   "outputs": [
    {
     "data": {
      "text/html": [
       "<div>\n",
       "<style scoped>\n",
       "    .dataframe tbody tr th:only-of-type {\n",
       "        vertical-align: middle;\n",
       "    }\n",
       "\n",
       "    .dataframe tbody tr th {\n",
       "        vertical-align: top;\n",
       "    }\n",
       "\n",
       "    .dataframe thead th {\n",
       "        text-align: right;\n",
       "    }\n",
       "</style>\n",
       "<table border=\"1\" class=\"dataframe\">\n",
       "  <thead>\n",
       "    <tr style=\"text-align: right;\">\n",
       "      <th></th>\n",
       "      <th>id</th>\n",
       "      <th>object_name</th>\n",
       "      <th>chain</th>\n",
       "      <th>object_type</th>\n",
       "      <th>address</th>\n",
       "      <th>number</th>\n",
       "      <th>street</th>\n",
       "    </tr>\n",
       "  </thead>\n",
       "  <tbody>\n",
       "    <tr>\n",
       "      <td>859</td>\n",
       "      <td>23601</td>\n",
       "      <td>буфет - гбоу сош № 64</td>\n",
       "      <td>нет</td>\n",
       "      <td>буфет</td>\n",
       "      <td>Партизанская улица, дом 30</td>\n",
       "      <td>100</td>\n",
       "      <td>NaN</td>\n",
       "    </tr>\n",
       "    <tr>\n",
       "      <td>860</td>\n",
       "      <td>23604</td>\n",
       "      <td>буфет - гбоу 60</td>\n",
       "      <td>нет</td>\n",
       "      <td>буфет</td>\n",
       "      <td>Партизанская улица, дом 30</td>\n",
       "      <td>100</td>\n",
       "      <td>NaN</td>\n",
       "    </tr>\n",
       "    <tr>\n",
       "      <td>1491</td>\n",
       "      <td>25349</td>\n",
       "      <td>ресторан гранатовый сад</td>\n",
       "      <td>нет</td>\n",
       "      <td>ресторан</td>\n",
       "      <td>Поречная улица, дом 5/14, строение 1</td>\n",
       "      <td>40</td>\n",
       "      <td>NaN</td>\n",
       "    </tr>\n",
       "    <tr>\n",
       "      <td>7691</td>\n",
       "      <td>132359</td>\n",
       "      <td>кафе la carotte</td>\n",
       "      <td>нет</td>\n",
       "      <td>кафе</td>\n",
       "      <td>1-й Нагатинский проезд, дом 10</td>\n",
       "      <td>198</td>\n",
       "      <td>NaN</td>\n",
       "    </tr>\n",
       "    <tr>\n",
       "      <td>7827</td>\n",
       "      <td>28214</td>\n",
       "      <td>роснефть (закрытое)</td>\n",
       "      <td>нет</td>\n",
       "      <td>столовая</td>\n",
       "      <td>Софийская набережная, дом 26/1, строение 1</td>\n",
       "      <td>80</td>\n",
       "      <td>NaN</td>\n",
       "    </tr>\n",
       "  </tbody>\n",
       "</table>\n",
       "</div>"
      ],
      "text/plain": [
       "          id              object_name chain object_type  \\\n",
       "859    23601    буфет - гбоу сош № 64   нет       буфет   \n",
       "860    23604          буфет - гбоу 60   нет       буфет   \n",
       "1491   25349  ресторан гранатовый сад   нет    ресторан   \n",
       "7691  132359          кафе la carotte   нет        кафе   \n",
       "7827   28214      роснефть (закрытое)   нет    столовая   \n",
       "\n",
       "                                         address  number street  \n",
       "859                   Партизанская улица, дом 30     100    NaN  \n",
       "860                   Партизанская улица, дом 30     100    NaN  \n",
       "1491        Поречная улица, дом 5/14, строение 1      40    NaN  \n",
       "7691              1-й Нагатинский проезд, дом 10     198    NaN  \n",
       "7827  Софийская набережная, дом 26/1, строение 1      80    NaN  "
      ]
     },
     "execution_count": 39,
     "metadata": {},
     "output_type": "execute_result"
    }
   ],
   "source": [
    "df[df['street'].isna()].head()"
   ]
  },
  {
   "cell_type": "code",
   "execution_count": 40,
   "metadata": {},
   "outputs": [],
   "source": [
    "df_rest = df[~(df['street'].isnull())]"
   ]
  },
  {
   "cell_type": "code",
   "execution_count": 41,
   "metadata": {},
   "outputs": [
    {
     "name": "stdout",
     "output_type": "stream",
     "text": [
      "<class 'pandas.core.frame.DataFrame'>\n",
      "Int64Index: 15331 entries, 0 to 15365\n",
      "Data columns (total 7 columns):\n",
      "id             15331 non-null int64\n",
      "object_name    15331 non-null object\n",
      "chain          15331 non-null object\n",
      "object_type    15331 non-null object\n",
      "address        15331 non-null object\n",
      "number         15331 non-null int64\n",
      "street         15331 non-null object\n",
      "dtypes: int64(2), object(5)\n",
      "memory usage: 958.2+ KB\n"
     ]
    }
   ],
   "source": [
    "df_rest.info()"
   ]
  },
  {
   "cell_type": "code",
   "execution_count": 42,
   "metadata": {},
   "outputs": [
    {
     "data": {
      "text/html": [
       "<div>\n",
       "<style scoped>\n",
       "    .dataframe tbody tr th:only-of-type {\n",
       "        vertical-align: middle;\n",
       "    }\n",
       "\n",
       "    .dataframe tbody tr th {\n",
       "        vertical-align: top;\n",
       "    }\n",
       "\n",
       "    .dataframe thead th {\n",
       "        text-align: right;\n",
       "    }\n",
       "</style>\n",
       "<table border=\"1\" class=\"dataframe\">\n",
       "  <thead>\n",
       "    <tr style=\"text-align: right;\">\n",
       "      <th></th>\n",
       "      <th>id</th>\n",
       "      <th>object_name</th>\n",
       "      <th>chain</th>\n",
       "      <th>object_type</th>\n",
       "      <th>address</th>\n",
       "      <th>number</th>\n",
       "      <th>street</th>\n",
       "    </tr>\n",
       "  </thead>\n",
       "  <tbody>\n",
       "    <tr>\n",
       "      <td>15361</td>\n",
       "      <td>208537</td>\n",
       "      <td>шоколадница</td>\n",
       "      <td>да</td>\n",
       "      <td>кафе</td>\n",
       "      <td>город Москва, 3-й Крутицкий переулок, дом 18</td>\n",
       "      <td>50</td>\n",
       "      <td>3-й Крутицкий переулок</td>\n",
       "    </tr>\n",
       "    <tr>\n",
       "      <td>15362</td>\n",
       "      <td>209264</td>\n",
       "      <td>шоколадница</td>\n",
       "      <td>да</td>\n",
       "      <td>кафе</td>\n",
       "      <td>город Москва, улица Земляной Вал, дом 33</td>\n",
       "      <td>10</td>\n",
       "      <td>улица Земляной Вал</td>\n",
       "    </tr>\n",
       "    <tr>\n",
       "      <td>15363</td>\n",
       "      <td>209186</td>\n",
       "      <td>шоколадница</td>\n",
       "      <td>да</td>\n",
       "      <td>кафе</td>\n",
       "      <td>город Москва, улица Земляной Вал, дом 33</td>\n",
       "      <td>20</td>\n",
       "      <td>улица Земляной Вал</td>\n",
       "    </tr>\n",
       "    <tr>\n",
       "      <td>15364</td>\n",
       "      <td>221900</td>\n",
       "      <td>шоколадница</td>\n",
       "      <td>да</td>\n",
       "      <td>кафе</td>\n",
       "      <td>город Москва, поселение Московский, Киевское ш...</td>\n",
       "      <td>36</td>\n",
       "      <td>поселение Московский</td>\n",
       "    </tr>\n",
       "    <tr>\n",
       "      <td>15365</td>\n",
       "      <td>222535</td>\n",
       "      <td>шоколадница</td>\n",
       "      <td>да</td>\n",
       "      <td>кафе</td>\n",
       "      <td>город Москва, Ходынский бульвар, дом 4</td>\n",
       "      <td>10</td>\n",
       "      <td>Ходынский бульвар</td>\n",
       "    </tr>\n",
       "  </tbody>\n",
       "</table>\n",
       "</div>"
      ],
      "text/plain": [
       "           id  object_name chain object_type  \\\n",
       "15361  208537  шоколадница    да        кафе   \n",
       "15362  209264  шоколадница    да        кафе   \n",
       "15363  209186  шоколадница    да        кафе   \n",
       "15364  221900  шоколадница    да        кафе   \n",
       "15365  222535  шоколадница    да        кафе   \n",
       "\n",
       "                                                 address  number  \\\n",
       "15361       город Москва, 3-й Крутицкий переулок, дом 18      50   \n",
       "15362           город Москва, улица Земляной Вал, дом 33      10   \n",
       "15363           город Москва, улица Земляной Вал, дом 33      20   \n",
       "15364  город Москва, поселение Московский, Киевское ш...      36   \n",
       "15365             город Москва, Ходынский бульвар, дом 4      10   \n",
       "\n",
       "                       street  \n",
       "15361  3-й Крутицкий переулок  \n",
       "15362      улица Земляной Вал  \n",
       "15363      улица Земляной Вал  \n",
       "15364    поселение Московский  \n",
       "15365       Ходынский бульвар  "
      ]
     },
     "execution_count": 42,
     "metadata": {},
     "output_type": "execute_result"
    }
   ],
   "source": [
    "df_rest.tail()"
   ]
  },
  {
   "cell_type": "markdown",
   "metadata": {},
   "source": [
    "Мы выделели информацию об улице в отдельный столбец, удалили строки, где выделение не сработало и получили новыую таблицу - df_rest."
   ]
  },
  {
   "cell_type": "markdown",
   "metadata": {},
   "source": [
    "### График топ-10 улиц по количеству ООП"
   ]
  },
  {
   "cell_type": "markdown",
   "metadata": {},
   "source": [
    "Сгруппируем таблицу df_rest по названию улиц, посчитаем количество объектов на каждой улице, отсортируем по убыванию количества объектов и посмотрим на результат."
   ]
  },
  {
   "cell_type": "code",
   "execution_count": 43,
   "metadata": {},
   "outputs": [],
   "source": [
    "streets_rest = df_rest.groupby('street').agg({'id': 'count'}).reset_index()"
   ]
  },
  {
   "cell_type": "code",
   "execution_count": 44,
   "metadata": {},
   "outputs": [
    {
     "data": {
      "text/html": [
       "<div>\n",
       "<style scoped>\n",
       "    .dataframe tbody tr th:only-of-type {\n",
       "        vertical-align: middle;\n",
       "    }\n",
       "\n",
       "    .dataframe tbody tr th {\n",
       "        vertical-align: top;\n",
       "    }\n",
       "\n",
       "    .dataframe thead th {\n",
       "        text-align: right;\n",
       "    }\n",
       "</style>\n",
       "<table border=\"1\" class=\"dataframe\">\n",
       "  <thead>\n",
       "    <tr style=\"text-align: right;\">\n",
       "      <th></th>\n",
       "      <th>street</th>\n",
       "      <th>objects</th>\n",
       "    </tr>\n",
       "  </thead>\n",
       "  <tbody>\n",
       "    <tr>\n",
       "      <td>1335</td>\n",
       "      <td>город Зеленоград</td>\n",
       "      <td>232</td>\n",
       "    </tr>\n",
       "    <tr>\n",
       "      <td>1433</td>\n",
       "      <td>проспект Мира</td>\n",
       "      <td>204</td>\n",
       "    </tr>\n",
       "    <tr>\n",
       "      <td>997</td>\n",
       "      <td>Профсоюзная улица</td>\n",
       "      <td>182</td>\n",
       "    </tr>\n",
       "    <tr>\n",
       "      <td>686</td>\n",
       "      <td>Ленинградский проспект</td>\n",
       "      <td>171</td>\n",
       "    </tr>\n",
       "    <tr>\n",
       "      <td>983</td>\n",
       "      <td>Пресненская набережная</td>\n",
       "      <td>167</td>\n",
       "    </tr>\n",
       "    <tr>\n",
       "      <td>408</td>\n",
       "      <td>Варшавское шоссе</td>\n",
       "      <td>161</td>\n",
       "    </tr>\n",
       "    <tr>\n",
       "      <td>689</td>\n",
       "      <td>Ленинский проспект</td>\n",
       "      <td>147</td>\n",
       "    </tr>\n",
       "    <tr>\n",
       "      <td>1399</td>\n",
       "      <td>поселение Сосенское</td>\n",
       "      <td>138</td>\n",
       "    </tr>\n",
       "    <tr>\n",
       "      <td>1430</td>\n",
       "      <td>проспект Вернадского</td>\n",
       "      <td>132</td>\n",
       "    </tr>\n",
       "    <tr>\n",
       "      <td>677</td>\n",
       "      <td>Кутузовский проспект</td>\n",
       "      <td>114</td>\n",
       "    </tr>\n",
       "  </tbody>\n",
       "</table>\n",
       "</div>"
      ],
      "text/plain": [
       "                      street  objects\n",
       "1335        город Зеленоград      232\n",
       "1433           проспект Мира      204\n",
       "997        Профсоюзная улица      182\n",
       "686   Ленинградский проспект      171\n",
       "983   Пресненская набережная      167\n",
       "408         Варшавское шоссе      161\n",
       "689       Ленинский проспект      147\n",
       "1399     поселение Сосенское      138\n",
       "1430    проспект Вернадского      132\n",
       "677     Кутузовский проспект      114"
      ]
     },
     "execution_count": 44,
     "metadata": {},
     "output_type": "execute_result"
    }
   ],
   "source": [
    "streets_top = streets_rest.sort_values(by='id', ascending=False)\n",
    "streets_top.columns = ['street', 'objects']\n",
    "streets_top.sort_values(by='objects', ascending=False).head(10)"
   ]
  },
  {
   "cell_type": "markdown",
   "metadata": {},
   "source": [
    "В лидеры попали Зеленоград и Сосенсков. Зеленоград - один из 12 административных округов Москвы, а Сосенское - это административная единица со статусом поселения в составе Новомосковского административного округа Москвы. В нашем исследовании нас больше интересуют улицы, поэтому мы уберём из анализа данные территории (их можно исследовать отдельно в дальнейшем). Посмотрим на таблицу топ-10 улиц без этих территорий."
   ]
  },
  {
   "cell_type": "code",
   "execution_count": 45,
   "metadata": {},
   "outputs": [
    {
     "data": {
      "text/html": [
       "<div>\n",
       "<style scoped>\n",
       "    .dataframe tbody tr th:only-of-type {\n",
       "        vertical-align: middle;\n",
       "    }\n",
       "\n",
       "    .dataframe tbody tr th {\n",
       "        vertical-align: top;\n",
       "    }\n",
       "\n",
       "    .dataframe thead th {\n",
       "        text-align: right;\n",
       "    }\n",
       "</style>\n",
       "<table border=\"1\" class=\"dataframe\">\n",
       "  <thead>\n",
       "    <tr style=\"text-align: right;\">\n",
       "      <th></th>\n",
       "      <th>street</th>\n",
       "      <th>objects</th>\n",
       "    </tr>\n",
       "  </thead>\n",
       "  <tbody>\n",
       "    <tr>\n",
       "      <td>1433</td>\n",
       "      <td>проспект Мира</td>\n",
       "      <td>204</td>\n",
       "    </tr>\n",
       "    <tr>\n",
       "      <td>997</td>\n",
       "      <td>Профсоюзная улица</td>\n",
       "      <td>182</td>\n",
       "    </tr>\n",
       "    <tr>\n",
       "      <td>686</td>\n",
       "      <td>Ленинградский проспект</td>\n",
       "      <td>171</td>\n",
       "    </tr>\n",
       "    <tr>\n",
       "      <td>983</td>\n",
       "      <td>Пресненская набережная</td>\n",
       "      <td>167</td>\n",
       "    </tr>\n",
       "    <tr>\n",
       "      <td>408</td>\n",
       "      <td>Варшавское шоссе</td>\n",
       "      <td>161</td>\n",
       "    </tr>\n",
       "    <tr>\n",
       "      <td>689</td>\n",
       "      <td>Ленинский проспект</td>\n",
       "      <td>147</td>\n",
       "    </tr>\n",
       "    <tr>\n",
       "      <td>1430</td>\n",
       "      <td>проспект Вернадского</td>\n",
       "      <td>132</td>\n",
       "    </tr>\n",
       "    <tr>\n",
       "      <td>677</td>\n",
       "      <td>Кутузовский проспект</td>\n",
       "      <td>114</td>\n",
       "    </tr>\n",
       "    <tr>\n",
       "      <td>602</td>\n",
       "      <td>Каширское шоссе</td>\n",
       "      <td>112</td>\n",
       "    </tr>\n",
       "    <tr>\n",
       "      <td>608</td>\n",
       "      <td>Кировоградская улица</td>\n",
       "      <td>110</td>\n",
       "    </tr>\n",
       "  </tbody>\n",
       "</table>\n",
       "</div>"
      ],
      "text/plain": [
       "                      street  objects\n",
       "1433           проспект Мира      204\n",
       "997        Профсоюзная улица      182\n",
       "686   Ленинградский проспект      171\n",
       "983   Пресненская набережная      167\n",
       "408         Варшавское шоссе      161\n",
       "689       Ленинский проспект      147\n",
       "1430    проспект Вернадского      132\n",
       "677     Кутузовский проспект      114\n",
       "602          Каширское шоссе      112\n",
       "608     Кировоградская улица      110"
      ]
     },
     "execution_count": 45,
     "metadata": {},
     "output_type": "execute_result"
    }
   ],
   "source": [
    "only_streets = streets_top.query('street not in (\"город Зеленоград\", \"поселение Сосенское\")').sort_values(\n",
    "    by='objects', ascending=False).head(10)\n",
    "only_streets"
   ]
  },
  {
   "cell_type": "code",
   "execution_count": 46,
   "metadata": {},
   "outputs": [
    {
     "data": {
      "text/plain": [
       "Text(0, 0.5, 'Количество объектов')"
      ]
     },
     "execution_count": 46,
     "metadata": {},
     "output_type": "execute_result"
    },
    {
     "data": {
      "image/png": "[encoded data removed]",
      "text/plain": [
       "<Figure size 1080x432 with 1 Axes>"
      ]
     },
     "metadata": {
      "needs_background": "light"
     },
     "output_type": "display_data"
    }
   ],
   "source": [
    "plt.figure(figsize=(15,6))\n",
    "plt.xticks(rotation=45)\n",
    "sns.barplot(x='street', y='objects', palette='hls', data=only_streets)\n",
    "plt.title('Улицы Москвы с наибольшим количеством объектов общественного питания', fontsize=16)\n",
    "plt.xlabel('Название улицы', fontsize=16)\n",
    "plt.ylabel('Количество объектов', fontsize=16)"
   ]
  },
  {
   "cell_type": "markdown",
   "metadata": {},
   "source": [
    "Теперь мы знаем, на каких улицах наибольшая концентрация ООП Москвы. Посмотрим, к каким районам относятся эти улицы."
   ]
  },
  {
   "cell_type": "markdown",
   "metadata": {},
   "source": [
    "Возьмем таблицу из интернета \"Контакты структур мосгаза по улицам и районам\" и присоединим информаицю об районах к таблице с топ-10 улиц."
   ]
  },
  {
   "cell_type": "code",
   "execution_count": 47,
   "metadata": {},
   "outputs": [],
   "source": [
    "# district = pd.read_csv('https://drive.google.com/file/d/1u4ueOo5_AKeXzX_tPirhHE5N6ucZd7cj/view?usp=sharing', sep=';')"
   ]
  },
  {
   "cell_type": "code",
   "execution_count": 48,
   "metadata": {},
   "outputs": [
    {
     "name": "stdout",
     "output_type": "stream",
     "text": [
      "<class 'pandas.core.frame.DataFrame'>\n",
      "RangeIndex: 4398 entries, 0 to 4397\n",
      "Data columns (total 4 columns):\n",
      "streetname    4398 non-null object\n",
      "areaid        4398 non-null int64\n",
      "okrug         4398 non-null object\n",
      "area          4398 non-null object\n",
      "dtypes: int64(1), object(3)\n",
      "memory usage: 137.6+ KB\n"
     ]
    }
   ],
   "source": [
    "response = requests.get('http://hubofdata.ru/storage/f/2013-10-22T09%3A25%3A27.793Z/mosgaz-streets.csv')\n",
    "file = io.StringIO(response.content.decode('utf-8'))\n",
    "mosgaz = pd.read_csv(file)\n",
    "\n",
    "mosgaz.info()"
   ]
  },
  {
   "cell_type": "code",
   "execution_count": 75,
   "metadata": {},
   "outputs": [
    {
     "data": {
      "text/html": [
       "<div>\n",
       "<style scoped>\n",
       "    .dataframe tbody tr th:only-of-type {\n",
       "        vertical-align: middle;\n",
       "    }\n",
       "\n",
       "    .dataframe tbody tr th {\n",
       "        vertical-align: top;\n",
       "    }\n",
       "\n",
       "    .dataframe thead th {\n",
       "        text-align: right;\n",
       "    }\n",
       "</style>\n",
       "<table border=\"1\" class=\"dataframe\">\n",
       "  <thead>\n",
       "    <tr style=\"text-align: right;\">\n",
       "      <th></th>\n",
       "      <th>streetname</th>\n",
       "      <th>areaid</th>\n",
       "      <th>okrug</th>\n",
       "      <th>area</th>\n",
       "    </tr>\n",
       "  </thead>\n",
       "  <tbody>\n",
       "    <tr>\n",
       "      <td>0</td>\n",
       "      <td>Выставочный переулок</td>\n",
       "      <td>17</td>\n",
       "      <td>ЦАО</td>\n",
       "      <td>Пресненский район</td>\n",
       "    </tr>\n",
       "    <tr>\n",
       "      <td>1</td>\n",
       "      <td>улица Гашека</td>\n",
       "      <td>17</td>\n",
       "      <td>ЦАО</td>\n",
       "      <td>Пресненский район</td>\n",
       "    </tr>\n",
       "    <tr>\n",
       "      <td>2</td>\n",
       "      <td>Большая Никитская улица</td>\n",
       "      <td>17</td>\n",
       "      <td>ЦАО</td>\n",
       "      <td>Пресненский район</td>\n",
       "    </tr>\n",
       "    <tr>\n",
       "      <td>3</td>\n",
       "      <td>Глубокий переулок</td>\n",
       "      <td>17</td>\n",
       "      <td>ЦАО</td>\n",
       "      <td>Пресненский район</td>\n",
       "    </tr>\n",
       "    <tr>\n",
       "      <td>4</td>\n",
       "      <td>Большой Гнездниковский переулок</td>\n",
       "      <td>17</td>\n",
       "      <td>ЦАО</td>\n",
       "      <td>Пресненский район</td>\n",
       "    </tr>\n",
       "  </tbody>\n",
       "</table>\n",
       "</div>"
      ],
      "text/plain": [
       "                        streetname  areaid okrug               area\n",
       "0             Выставочный переулок      17   ЦАО  Пресненский район\n",
       "1                     улица Гашека      17   ЦАО  Пресненский район\n",
       "2          Большая Никитская улица      17   ЦАО  Пресненский район\n",
       "3                Глубокий переулок      17   ЦАО  Пресненский район\n",
       "4  Большой Гнездниковский переулок      17   ЦАО  Пресненский район"
      ]
     },
     "execution_count": 75,
     "metadata": {},
     "output_type": "execute_result"
    }
   ],
   "source": [
    "#Код ревьюера\n",
    "url = 'https://drive.google.com/uc?id=1u4ueOo5_AKeXzX_tPirhHE5N6ucZd7cj'\n",
    "demo = pd.read_csv(url)\n",
    "demo.head(5)"
   ]
  },
  {
   "cell_type": "code",
   "execution_count": 49,
   "metadata": {},
   "outputs": [
    {
     "data": {
      "text/html": [
       "<div>\n",
       "<style scoped>\n",
       "    .dataframe tbody tr th:only-of-type {\n",
       "        vertical-align: middle;\n",
       "    }\n",
       "\n",
       "    .dataframe tbody tr th {\n",
       "        vertical-align: top;\n",
       "    }\n",
       "\n",
       "    .dataframe thead th {\n",
       "        text-align: right;\n",
       "    }\n",
       "</style>\n",
       "<table border=\"1\" class=\"dataframe\">\n",
       "  <thead>\n",
       "    <tr style=\"text-align: right;\">\n",
       "      <th></th>\n",
       "      <th>streetname</th>\n",
       "      <th>areaid</th>\n",
       "      <th>okrug</th>\n",
       "      <th>area</th>\n",
       "    </tr>\n",
       "  </thead>\n",
       "  <tbody>\n",
       "    <tr>\n",
       "      <td>0</td>\n",
       "      <td>Выставочный переулок</td>\n",
       "      <td>17</td>\n",
       "      <td>ЦАО</td>\n",
       "      <td>Пресненский район</td>\n",
       "    </tr>\n",
       "    <tr>\n",
       "      <td>1</td>\n",
       "      <td>улица Гашека</td>\n",
       "      <td>17</td>\n",
       "      <td>ЦАО</td>\n",
       "      <td>Пресненский район</td>\n",
       "    </tr>\n",
       "    <tr>\n",
       "      <td>2</td>\n",
       "      <td>Большая Никитская улица</td>\n",
       "      <td>17</td>\n",
       "      <td>ЦАО</td>\n",
       "      <td>Пресненский район</td>\n",
       "    </tr>\n",
       "    <tr>\n",
       "      <td>3</td>\n",
       "      <td>Глубокий переулок</td>\n",
       "      <td>17</td>\n",
       "      <td>ЦАО</td>\n",
       "      <td>Пресненский район</td>\n",
       "    </tr>\n",
       "    <tr>\n",
       "      <td>4</td>\n",
       "      <td>Большой Гнездниковский переулок</td>\n",
       "      <td>17</td>\n",
       "      <td>ЦАО</td>\n",
       "      <td>Пресненский район</td>\n",
       "    </tr>\n",
       "  </tbody>\n",
       "</table>\n",
       "</div>"
      ],
      "text/plain": [
       "                        streetname  areaid okrug               area\n",
       "0             Выставочный переулок      17   ЦАО  Пресненский район\n",
       "1                     улица Гашека      17   ЦАО  Пресненский район\n",
       "2          Большая Никитская улица      17   ЦАО  Пресненский район\n",
       "3                Глубокий переулок      17   ЦАО  Пресненский район\n",
       "4  Большой Гнездниковский переулок      17   ЦАО  Пресненский район"
      ]
     },
     "execution_count": 49,
     "metadata": {},
     "output_type": "execute_result"
    }
   ],
   "source": [
    "mosgaz.head(5)"
   ]
  },
  {
   "cell_type": "code",
   "execution_count": 50,
   "metadata": {},
   "outputs": [],
   "source": [
    "streets_area = only_streets.merge(mosgaz[['streetname', 'okrug', 'area']], left_on='street', right_on='streetname')"
   ]
  },
  {
   "cell_type": "code",
   "execution_count": 51,
   "metadata": {},
   "outputs": [
    {
     "data": {
      "text/html": [
       "<div>\n",
       "<style scoped>\n",
       "    .dataframe tbody tr th:only-of-type {\n",
       "        vertical-align: middle;\n",
       "    }\n",
       "\n",
       "    .dataframe tbody tr th {\n",
       "        vertical-align: top;\n",
       "    }\n",
       "\n",
       "    .dataframe thead th {\n",
       "        text-align: right;\n",
       "    }\n",
       "</style>\n",
       "<table border=\"1\" class=\"dataframe\">\n",
       "  <thead>\n",
       "    <tr style=\"text-align: right;\">\n",
       "      <th></th>\n",
       "      <th>street</th>\n",
       "      <th>objects</th>\n",
       "      <th>streetname</th>\n",
       "      <th>okrug</th>\n",
       "      <th>area</th>\n",
       "    </tr>\n",
       "  </thead>\n",
       "  <tbody>\n",
       "    <tr>\n",
       "      <td>0</td>\n",
       "      <td>проспект Мира</td>\n",
       "      <td>204</td>\n",
       "      <td>проспект Мира</td>\n",
       "      <td>СВАО</td>\n",
       "      <td>Алексеевский район</td>\n",
       "    </tr>\n",
       "    <tr>\n",
       "      <td>1</td>\n",
       "      <td>проспект Мира</td>\n",
       "      <td>204</td>\n",
       "      <td>проспект Мира</td>\n",
       "      <td>СВАО</td>\n",
       "      <td>Ярославский Район</td>\n",
       "    </tr>\n",
       "    <tr>\n",
       "      <td>2</td>\n",
       "      <td>проспект Мира</td>\n",
       "      <td>204</td>\n",
       "      <td>проспект Мира</td>\n",
       "      <td>СВАО</td>\n",
       "      <td>Район Марьина роща</td>\n",
       "    </tr>\n",
       "    <tr>\n",
       "      <td>3</td>\n",
       "      <td>проспект Мира</td>\n",
       "      <td>204</td>\n",
       "      <td>проспект Мира</td>\n",
       "      <td>СВАО</td>\n",
       "      <td>Останкинский район</td>\n",
       "    </tr>\n",
       "    <tr>\n",
       "      <td>4</td>\n",
       "      <td>проспект Мира</td>\n",
       "      <td>204</td>\n",
       "      <td>проспект Мира</td>\n",
       "      <td>СВАО</td>\n",
       "      <td>Район Ростокино</td>\n",
       "    </tr>\n",
       "    <tr>\n",
       "      <td>5</td>\n",
       "      <td>проспект Мира</td>\n",
       "      <td>204</td>\n",
       "      <td>проспект Мира</td>\n",
       "      <td>СВАО</td>\n",
       "      <td>Район Свиблово</td>\n",
       "    </tr>\n",
       "    <tr>\n",
       "      <td>6</td>\n",
       "      <td>проспект Мира</td>\n",
       "      <td>204</td>\n",
       "      <td>проспект Мира</td>\n",
       "      <td>ЦАО</td>\n",
       "      <td>Мещанский район</td>\n",
       "    </tr>\n",
       "    <tr>\n",
       "      <td>7</td>\n",
       "      <td>Профсоюзная улица</td>\n",
       "      <td>182</td>\n",
       "      <td>Профсоюзная улица</td>\n",
       "      <td>ЮЗАО</td>\n",
       "      <td>Академический район</td>\n",
       "    </tr>\n",
       "    <tr>\n",
       "      <td>8</td>\n",
       "      <td>Профсоюзная улица</td>\n",
       "      <td>182</td>\n",
       "      <td>Профсоюзная улица</td>\n",
       "      <td>ЮЗАО</td>\n",
       "      <td>Район Черемушки</td>\n",
       "    </tr>\n",
       "    <tr>\n",
       "      <td>9</td>\n",
       "      <td>Профсоюзная улица</td>\n",
       "      <td>182</td>\n",
       "      <td>Профсоюзная улица</td>\n",
       "      <td>ЮЗАО</td>\n",
       "      <td>Район Ясенево</td>\n",
       "    </tr>\n",
       "  </tbody>\n",
       "</table>\n",
       "</div>"
      ],
      "text/plain": [
       "              street  objects         streetname okrug                 area\n",
       "0      проспект Мира      204      проспект Мира  СВАО   Алексеевский район\n",
       "1      проспект Мира      204      проспект Мира  СВАО    Ярославский Район\n",
       "2      проспект Мира      204      проспект Мира  СВАО   Район Марьина роща\n",
       "3      проспект Мира      204      проспект Мира  СВАО   Останкинский район\n",
       "4      проспект Мира      204      проспект Мира  СВАО      Район Ростокино\n",
       "5      проспект Мира      204      проспект Мира  СВАО       Район Свиблово\n",
       "6      проспект Мира      204      проспект Мира   ЦАО      Мещанский район\n",
       "7  Профсоюзная улица      182  Профсоюзная улица  ЮЗАО  Академический район\n",
       "8  Профсоюзная улица      182  Профсоюзная улица  ЮЗАО      Район Черемушки\n",
       "9  Профсоюзная улица      182  Профсоюзная улица  ЮЗАО        Район Ясенево"
      ]
     },
     "execution_count": 51,
     "metadata": {},
     "output_type": "execute_result"
    }
   ],
   "source": [
    "streets_area.head(10)"
   ]
  },
  {
   "cell_type": "code",
   "execution_count": 52,
   "metadata": {},
   "outputs": [
    {
     "data": {
      "text/html": [
       "<div>\n",
       "<style scoped>\n",
       "    .dataframe tbody tr th:only-of-type {\n",
       "        vertical-align: middle;\n",
       "    }\n",
       "\n",
       "    .dataframe tbody tr th {\n",
       "        vertical-align: top;\n",
       "    }\n",
       "\n",
       "    .dataframe thead th {\n",
       "        text-align: right;\n",
       "    }\n",
       "</style>\n",
       "<table border=\"1\" class=\"dataframe\">\n",
       "  <thead>\n",
       "    <tr style=\"text-align: right;\">\n",
       "      <th></th>\n",
       "      <th>area_amount</th>\n",
       "    </tr>\n",
       "    <tr>\n",
       "      <th>street</th>\n",
       "      <th></th>\n",
       "    </tr>\n",
       "  </thead>\n",
       "  <tbody>\n",
       "    <tr>\n",
       "      <td>Варшавское шоссе</td>\n",
       "      <td>8</td>\n",
       "    </tr>\n",
       "    <tr>\n",
       "      <td>Ленинский проспект</td>\n",
       "      <td>8</td>\n",
       "    </tr>\n",
       "    <tr>\n",
       "      <td>проспект Мира</td>\n",
       "      <td>7</td>\n",
       "    </tr>\n",
       "    <tr>\n",
       "      <td>Профсоюзная улица</td>\n",
       "      <td>6</td>\n",
       "    </tr>\n",
       "    <tr>\n",
       "      <td>проспект Вернадского</td>\n",
       "      <td>5</td>\n",
       "    </tr>\n",
       "    <tr>\n",
       "      <td>Каширское шоссе</td>\n",
       "      <td>4</td>\n",
       "    </tr>\n",
       "    <tr>\n",
       "      <td>Ленинградский проспект</td>\n",
       "      <td>4</td>\n",
       "    </tr>\n",
       "    <tr>\n",
       "      <td>Кировоградская улица</td>\n",
       "      <td>3</td>\n",
       "    </tr>\n",
       "    <tr>\n",
       "      <td>Кутузовский проспект</td>\n",
       "      <td>2</td>\n",
       "    </tr>\n",
       "    <tr>\n",
       "      <td>Пресненская набережная</td>\n",
       "      <td>1</td>\n",
       "    </tr>\n",
       "  </tbody>\n",
       "</table>\n",
       "</div>"
      ],
      "text/plain": [
       "                        area_amount\n",
       "street                             \n",
       "Варшавское шоссе                  8\n",
       "Ленинский проспект                8\n",
       "проспект Мира                     7\n",
       "Профсоюзная улица                 6\n",
       "проспект Вернадского              5\n",
       "Каширское шоссе                   4\n",
       "Ленинградский проспект            4\n",
       "Кировоградская улица              3\n",
       "Кутузовский проспект              2\n",
       "Пресненская набережная            1"
      ]
     },
     "execution_count": 52,
     "metadata": {},
     "output_type": "execute_result"
    }
   ],
   "source": [
    "area_amount = streets_area.groupby('street').agg({'area': 'count'})\n",
    "area_amount.columns = ['area_amount']\n",
    "area_amount.sort_values('area_amount', ascending = False)"
   ]
  },
  {
   "cell_type": "code",
   "execution_count": 53,
   "metadata": {},
   "outputs": [
    {
     "data": {
      "text/html": [
       "<div>\n",
       "<style scoped>\n",
       "    .dataframe tbody tr th:only-of-type {\n",
       "        vertical-align: middle;\n",
       "    }\n",
       "\n",
       "    .dataframe tbody tr th {\n",
       "        vertical-align: top;\n",
       "    }\n",
       "\n",
       "    .dataframe thead th {\n",
       "        text-align: right;\n",
       "    }\n",
       "</style>\n",
       "<table border=\"1\" class=\"dataframe\">\n",
       "  <thead>\n",
       "    <tr style=\"text-align: right;\">\n",
       "      <th></th>\n",
       "      <th>streets_amount</th>\n",
       "    </tr>\n",
       "    <tr>\n",
       "      <th>area</th>\n",
       "      <th></th>\n",
       "    </tr>\n",
       "  </thead>\n",
       "  <tbody>\n",
       "    <tr>\n",
       "      <td>Район Чертаново Центральное</td>\n",
       "      <td>2</td>\n",
       "    </tr>\n",
       "    <tr>\n",
       "      <td>Донской район</td>\n",
       "      <td>2</td>\n",
       "    </tr>\n",
       "    <tr>\n",
       "      <td>Ломоносовский район</td>\n",
       "      <td>2</td>\n",
       "    </tr>\n",
       "    <tr>\n",
       "      <td>Район Проспект Вернадского</td>\n",
       "      <td>2</td>\n",
       "    </tr>\n",
       "    <tr>\n",
       "      <td>Обручевский район</td>\n",
       "      <td>2</td>\n",
       "    </tr>\n",
       "    <tr>\n",
       "      <td>Район Теплый Стан</td>\n",
       "      <td>2</td>\n",
       "    </tr>\n",
       "    <tr>\n",
       "      <td>Район Нагатино-Садовники</td>\n",
       "      <td>2</td>\n",
       "    </tr>\n",
       "    <tr>\n",
       "      <td>Район Чертаново Южное</td>\n",
       "      <td>2</td>\n",
       "    </tr>\n",
       "    <tr>\n",
       "      <td>Район Тропарево-Никулино</td>\n",
       "      <td>2</td>\n",
       "    </tr>\n",
       "    <tr>\n",
       "      <td>Район Гагаринский</td>\n",
       "      <td>2</td>\n",
       "    </tr>\n",
       "    <tr>\n",
       "      <td>Район Чертаново Северное</td>\n",
       "      <td>2</td>\n",
       "    </tr>\n",
       "    <tr>\n",
       "      <td>Район Фили-Давыдково</td>\n",
       "      <td>1</td>\n",
       "    </tr>\n",
       "    <tr>\n",
       "      <td>Район Сокол</td>\n",
       "      <td>1</td>\n",
       "    </tr>\n",
       "    <tr>\n",
       "      <td>Академический район</td>\n",
       "      <td>1</td>\n",
       "    </tr>\n",
       "    <tr>\n",
       "      <td>Район Черемушки</td>\n",
       "      <td>1</td>\n",
       "    </tr>\n",
       "    <tr>\n",
       "      <td>Район Свиблово</td>\n",
       "      <td>1</td>\n",
       "    </tr>\n",
       "    <tr>\n",
       "      <td>Район Южное Бутово</td>\n",
       "      <td>1</td>\n",
       "    </tr>\n",
       "    <tr>\n",
       "      <td>Район Якиманка</td>\n",
       "      <td>1</td>\n",
       "    </tr>\n",
       "    <tr>\n",
       "      <td>Район Ясенево</td>\n",
       "      <td>1</td>\n",
       "    </tr>\n",
       "    <tr>\n",
       "      <td>Хорошевский район</td>\n",
       "      <td>1</td>\n",
       "    </tr>\n",
       "    <tr>\n",
       "      <td>Район Северное Бутово</td>\n",
       "      <td>1</td>\n",
       "    </tr>\n",
       "    <tr>\n",
       "      <td>Район Орехово-Борисово Южное</td>\n",
       "      <td>1</td>\n",
       "    </tr>\n",
       "    <tr>\n",
       "      <td>Район Ростокино</td>\n",
       "      <td>1</td>\n",
       "    </tr>\n",
       "    <tr>\n",
       "      <td>Район Раменки</td>\n",
       "      <td>1</td>\n",
       "    </tr>\n",
       "    <tr>\n",
       "      <td>Алексеевский район</td>\n",
       "      <td>1</td>\n",
       "    </tr>\n",
       "    <tr>\n",
       "      <td>Район Орехово-Борисово Северное</td>\n",
       "      <td>1</td>\n",
       "    </tr>\n",
       "    <tr>\n",
       "      <td>Район Москворечье-Сабурово</td>\n",
       "      <td>1</td>\n",
       "    </tr>\n",
       "    <tr>\n",
       "      <td>Район Марьина роща</td>\n",
       "      <td>1</td>\n",
       "    </tr>\n",
       "    <tr>\n",
       "      <td>Район Коньково</td>\n",
       "      <td>1</td>\n",
       "    </tr>\n",
       "    <tr>\n",
       "      <td>Район Дорогомилово</td>\n",
       "      <td>1</td>\n",
       "    </tr>\n",
       "    <tr>\n",
       "      <td>Район Беговой</td>\n",
       "      <td>1</td>\n",
       "    </tr>\n",
       "    <tr>\n",
       "      <td>Район Аэропорт</td>\n",
       "      <td>1</td>\n",
       "    </tr>\n",
       "    <tr>\n",
       "      <td>Пресненский район</td>\n",
       "      <td>1</td>\n",
       "    </tr>\n",
       "    <tr>\n",
       "      <td>Останкинский район</td>\n",
       "      <td>1</td>\n",
       "    </tr>\n",
       "    <tr>\n",
       "      <td>Нагорный район</td>\n",
       "      <td>1</td>\n",
       "    </tr>\n",
       "    <tr>\n",
       "      <td>Мещанский район</td>\n",
       "      <td>1</td>\n",
       "    </tr>\n",
       "    <tr>\n",
       "      <td>Ярославский Район</td>\n",
       "      <td>1</td>\n",
       "    </tr>\n",
       "  </tbody>\n",
       "</table>\n",
       "</div>"
      ],
      "text/plain": [
       "                                 streets_amount\n",
       "area                                           \n",
       "Район Чертаново Центральное                   2\n",
       "Донской район                                 2\n",
       "Ломоносовский район                           2\n",
       "Район Проспект Вернадского                    2\n",
       "Обручевский район                             2\n",
       "Район Теплый Стан                             2\n",
       "Район Нагатино-Садовники                      2\n",
       "Район Чертаново Южное                         2\n",
       "Район Тропарево-Никулино                      2\n",
       "Район Гагаринский                             2\n",
       "Район Чертаново Северное                      2\n",
       "Район Фили-Давыдково                          1\n",
       "Район Сокол                                   1\n",
       "Академический район                           1\n",
       "Район Черемушки                               1\n",
       "Район Свиблово                                1\n",
       "Район Южное Бутово                            1\n",
       "Район Якиманка                                1\n",
       "Район Ясенево                                 1\n",
       "Хорошевский район                             1\n",
       "Район Северное Бутово                         1\n",
       "Район Орехово-Борисово Южное                  1\n",
       "Район Ростокино                               1\n",
       "Район Раменки                                 1\n",
       "Алексеевский район                            1\n",
       "Район Орехово-Борисово Северное               1\n",
       "Район Москворечье-Сабурово                    1\n",
       "Район Марьина роща                            1\n",
       "Район Коньково                                1\n",
       "Район Дорогомилово                            1\n",
       "Район Беговой                                 1\n",
       "Район Аэропорт                                1\n",
       "Пресненский район                             1\n",
       "Останкинский район                            1\n",
       "Нагорный район                                1\n",
       "Мещанский район                               1\n",
       "Ярославский Район                             1"
      ]
     },
     "execution_count": 53,
     "metadata": {},
     "output_type": "execute_result"
    }
   ],
   "source": [
    "streets_amount = streets_area.groupby('area').agg({'street': 'count'})\n",
    "streets_amount.columns = ['streets_amount']\n",
    "streets_amount.sort_values('streets_amount', ascending = False)"
   ]
  },
  {
   "cell_type": "code",
   "execution_count": 54,
   "metadata": {},
   "outputs": [
    {
     "data": {
      "text/plain": [
       "37"
      ]
     },
     "execution_count": 54,
     "metadata": {},
     "output_type": "execute_result"
    }
   ],
   "source": [
    "len(streets_amount)"
   ]
  },
  {
   "cell_type": "markdown",
   "metadata": {},
   "source": [
    "Почти все улицы из топ-10 по количеству ООП (кроме одной - Пресненская набережная) проходят через несколько районов, что указывает на то, что это длинные улицы. Всего районов с улицами из топ-10 по количеству ООП - 37. В нескольких районах проходят сразу две улицы из топ-10."
   ]
  },
  {
   "cell_type": "markdown",
   "metadata": {},
   "source": [
    "### Улицы с одним ООП"
   ]
  },
  {
   "cell_type": "markdown",
   "metadata": {},
   "source": [
    "Из сгруппированной по улицам таблицы (streets_rest) возьмём только улицы с одним ООП."
   ]
  },
  {
   "cell_type": "code",
   "execution_count": 55,
   "metadata": {},
   "outputs": [
    {
     "data": {
      "text/html": [
       "<div>\n",
       "<style scoped>\n",
       "    .dataframe tbody tr th:only-of-type {\n",
       "        vertical-align: middle;\n",
       "    }\n",
       "\n",
       "    .dataframe tbody tr th {\n",
       "        vertical-align: top;\n",
       "    }\n",
       "\n",
       "    .dataframe thead th {\n",
       "        text-align: right;\n",
       "    }\n",
       "</style>\n",
       "<table border=\"1\" class=\"dataframe\">\n",
       "  <thead>\n",
       "    <tr style=\"text-align: right;\">\n",
       "      <th></th>\n",
       "      <th>street</th>\n",
       "      <th>id</th>\n",
       "    </tr>\n",
       "  </thead>\n",
       "  <tbody>\n",
       "    <tr>\n",
       "      <td>0</td>\n",
       "      <td>1-й Автозаводский проезд</td>\n",
       "      <td>3</td>\n",
       "    </tr>\n",
       "    <tr>\n",
       "      <td>1</td>\n",
       "      <td>1-й Амбулаторный проезд</td>\n",
       "      <td>2</td>\n",
       "    </tr>\n",
       "    <tr>\n",
       "      <td>2</td>\n",
       "      <td>1-й Балтийский переулок</td>\n",
       "      <td>1</td>\n",
       "    </tr>\n",
       "    <tr>\n",
       "      <td>3</td>\n",
       "      <td>1-й Басманный переулок</td>\n",
       "      <td>1</td>\n",
       "    </tr>\n",
       "    <tr>\n",
       "      <td>4</td>\n",
       "      <td>1-й Ботанический проезд</td>\n",
       "      <td>1</td>\n",
       "    </tr>\n",
       "  </tbody>\n",
       "</table>\n",
       "</div>"
      ],
      "text/plain": [
       "                     street  id\n",
       "0  1-й Автозаводский проезд   3\n",
       "1   1-й Амбулаторный проезд   2\n",
       "2   1-й Балтийский переулок   1\n",
       "3    1-й Басманный переулок   1\n",
       "4   1-й Ботанический проезд   1"
      ]
     },
     "execution_count": 55,
     "metadata": {},
     "output_type": "execute_result"
    }
   ],
   "source": [
    "streets_rest.head()"
   ]
  },
  {
   "cell_type": "code",
   "execution_count": 56,
   "metadata": {},
   "outputs": [
    {
     "data": {
      "text/plain": [
       "564"
      ]
     },
     "execution_count": 56,
     "metadata": {},
     "output_type": "execute_result"
    }
   ],
   "source": [
    "streets_one_obj = streets_rest.query('id == 1')\n",
    "len(streets_one_obj)"
   ]
  },
  {
   "cell_type": "markdown",
   "metadata": {},
   "source": [
    "Всего 564 улицы в Москве с одним объектом общественного питания."
   ]
  },
  {
   "cell_type": "markdown",
   "metadata": {},
   "source": [
    "Присоединим к таблице с улицами с одним объектом (streets_one_obj) информацию о районах Москвы."
   ]
  },
  {
   "cell_type": "code",
   "execution_count": 57,
   "metadata": {},
   "outputs": [],
   "source": [
    "str_merged = streets_one_obj.merge(\n",
    "    mosgaz[['streetname', 'okrug', 'area']], left_on='street', right_on='streetname')"
   ]
  },
  {
   "cell_type": "code",
   "execution_count": 58,
   "metadata": {},
   "outputs": [
    {
     "data": {
      "text/html": [
       "<div>\n",
       "<style scoped>\n",
       "    .dataframe tbody tr th:only-of-type {\n",
       "        vertical-align: middle;\n",
       "    }\n",
       "\n",
       "    .dataframe tbody tr th {\n",
       "        vertical-align: top;\n",
       "    }\n",
       "\n",
       "    .dataframe thead th {\n",
       "        text-align: right;\n",
       "    }\n",
       "</style>\n",
       "<table border=\"1\" class=\"dataframe\">\n",
       "  <thead>\n",
       "    <tr style=\"text-align: right;\">\n",
       "      <th></th>\n",
       "      <th>street</th>\n",
       "      <th>id</th>\n",
       "      <th>streetname</th>\n",
       "      <th>okrug</th>\n",
       "      <th>area</th>\n",
       "    </tr>\n",
       "  </thead>\n",
       "  <tbody>\n",
       "    <tr>\n",
       "      <td>0</td>\n",
       "      <td>1-й Балтийский переулок</td>\n",
       "      <td>1</td>\n",
       "      <td>1-й Балтийский переулок</td>\n",
       "      <td>САО</td>\n",
       "      <td>Район Аэропорт</td>\n",
       "    </tr>\n",
       "    <tr>\n",
       "      <td>1</td>\n",
       "      <td>1-й Басманный переулок</td>\n",
       "      <td>1</td>\n",
       "      <td>1-й Басманный переулок</td>\n",
       "      <td>ЦАО</td>\n",
       "      <td>Басманный район</td>\n",
       "    </tr>\n",
       "    <tr>\n",
       "      <td>2</td>\n",
       "      <td>1-й Басманный переулок</td>\n",
       "      <td>1</td>\n",
       "      <td>1-й Басманный переулок</td>\n",
       "      <td>ЦАО</td>\n",
       "      <td>Красносельский район</td>\n",
       "    </tr>\n",
       "    <tr>\n",
       "      <td>3</td>\n",
       "      <td>1-й Ботанический проезд</td>\n",
       "      <td>1</td>\n",
       "      <td>1-й Ботанический проезд</td>\n",
       "      <td>СВАО</td>\n",
       "      <td>Район Свиблово</td>\n",
       "    </tr>\n",
       "    <tr>\n",
       "      <td>4</td>\n",
       "      <td>1-й Вешняковский проезд</td>\n",
       "      <td>1</td>\n",
       "      <td>1-й Вешняковский проезд</td>\n",
       "      <td>ЮВАО</td>\n",
       "      <td>Рязанский район</td>\n",
       "    </tr>\n",
       "  </tbody>\n",
       "</table>\n",
       "</div>"
      ],
      "text/plain": [
       "                    street  id               streetname okrug  \\\n",
       "0  1-й Балтийский переулок   1  1-й Балтийский переулок   САО   \n",
       "1   1-й Басманный переулок   1   1-й Басманный переулок   ЦАО   \n",
       "2   1-й Басманный переулок   1   1-й Басманный переулок   ЦАО   \n",
       "3  1-й Ботанический проезд   1  1-й Ботанический проезд  СВАО   \n",
       "4  1-й Вешняковский проезд   1  1-й Вешняковский проезд  ЮВАО   \n",
       "\n",
       "                   area  \n",
       "0        Район Аэропорт  \n",
       "1       Басманный район  \n",
       "2  Красносельский район  \n",
       "3        Район Свиблово  \n",
       "4       Рязанский район  "
      ]
     },
     "execution_count": 58,
     "metadata": {},
     "output_type": "execute_result"
    }
   ],
   "source": [
    "str_merged.head()"
   ]
  },
  {
   "cell_type": "code",
   "execution_count": 59,
   "metadata": {},
   "outputs": [
    {
     "data": {
      "text/html": [
       "<div>\n",
       "<style scoped>\n",
       "    .dataframe tbody tr th:only-of-type {\n",
       "        vertical-align: middle;\n",
       "    }\n",
       "\n",
       "    .dataframe tbody tr th {\n",
       "        vertical-align: top;\n",
       "    }\n",
       "\n",
       "    .dataframe thead th {\n",
       "        text-align: right;\n",
       "    }\n",
       "</style>\n",
       "<table border=\"1\" class=\"dataframe\">\n",
       "  <thead>\n",
       "    <tr style=\"text-align: right;\">\n",
       "      <th></th>\n",
       "      <th>area_amount</th>\n",
       "    </tr>\n",
       "    <tr>\n",
       "      <th>street</th>\n",
       "      <th></th>\n",
       "    </tr>\n",
       "  </thead>\n",
       "  <tbody>\n",
       "    <tr>\n",
       "      <td>Хавская улица</td>\n",
       "      <td>3</td>\n",
       "    </tr>\n",
       "    <tr>\n",
       "      <td>11-я Парковая улица</td>\n",
       "      <td>3</td>\n",
       "    </tr>\n",
       "    <tr>\n",
       "      <td>улица Достоевского</td>\n",
       "      <td>3</td>\n",
       "    </tr>\n",
       "    <tr>\n",
       "      <td>Нарвская улица</td>\n",
       "      <td>3</td>\n",
       "    </tr>\n",
       "    <tr>\n",
       "      <td>Мерзляковский переулок</td>\n",
       "      <td>2</td>\n",
       "    </tr>\n",
       "    <tr>\n",
       "      <td>Глазовский переулок</td>\n",
       "      <td>2</td>\n",
       "    </tr>\n",
       "    <tr>\n",
       "      <td>улица Павла Андреева</td>\n",
       "      <td>2</td>\n",
       "    </tr>\n",
       "    <tr>\n",
       "      <td>Балтийская улица</td>\n",
       "      <td>2</td>\n",
       "    </tr>\n",
       "    <tr>\n",
       "      <td>Чермянская улица</td>\n",
       "      <td>2</td>\n",
       "    </tr>\n",
       "    <tr>\n",
       "      <td>Черноморский бульвар</td>\n",
       "      <td>2</td>\n",
       "    </tr>\n",
       "  </tbody>\n",
       "</table>\n",
       "</div>"
      ],
      "text/plain": [
       "                        area_amount\n",
       "street                             \n",
       "Хавская улица                     3\n",
       "11-я Парковая улица               3\n",
       "улица Достоевского                3\n",
       "Нарвская улица                    3\n",
       "Мерзляковский переулок            2\n",
       "Глазовский переулок               2\n",
       "улица Павла Андреева              2\n",
       "Балтийская улица                  2\n",
       "Чермянская улица                  2\n",
       "Черноморский бульвар              2"
      ]
     },
     "execution_count": 59,
     "metadata": {},
     "output_type": "execute_result"
    }
   ],
   "source": [
    "street_area_amount = str_merged.groupby('street').agg({'area': 'count'})\n",
    "street_area_amount.columns = ['area_amount']\n",
    "street_area_amount.sort_values('area_amount', ascending = False).head(10)"
   ]
  },
  {
   "cell_type": "markdown",
   "metadata": {},
   "source": [
    "Теперь посмотрим, сколько улиц с одним ООП попадает в каждый район и сколько в итоге уникальных районов с такими улицами."
   ]
  },
  {
   "cell_type": "code",
   "execution_count": 60,
   "metadata": {},
   "outputs": [
    {
     "data": {
      "text/html": [
       "<div>\n",
       "<style scoped>\n",
       "    .dataframe tbody tr th:only-of-type {\n",
       "        vertical-align: middle;\n",
       "    }\n",
       "\n",
       "    .dataframe tbody tr th {\n",
       "        vertical-align: top;\n",
       "    }\n",
       "\n",
       "    .dataframe thead th {\n",
       "        text-align: right;\n",
       "    }\n",
       "</style>\n",
       "<table border=\"1\" class=\"dataframe\">\n",
       "  <thead>\n",
       "    <tr style=\"text-align: right;\">\n",
       "      <th></th>\n",
       "      <th>street</th>\n",
       "    </tr>\n",
       "    <tr>\n",
       "      <th>area</th>\n",
       "      <th></th>\n",
       "    </tr>\n",
       "  </thead>\n",
       "  <tbody>\n",
       "    <tr>\n",
       "      <td>Таганский район</td>\n",
       "      <td>27</td>\n",
       "    </tr>\n",
       "    <tr>\n",
       "      <td>Район Хамовники</td>\n",
       "      <td>26</td>\n",
       "    </tr>\n",
       "    <tr>\n",
       "      <td>Басманный район</td>\n",
       "      <td>25</td>\n",
       "    </tr>\n",
       "    <tr>\n",
       "      <td>Тверской район</td>\n",
       "      <td>20</td>\n",
       "    </tr>\n",
       "    <tr>\n",
       "      <td>Пресненский район</td>\n",
       "      <td>19</td>\n",
       "    </tr>\n",
       "    <tr>\n",
       "      <td>...</td>\n",
       "      <td>...</td>\n",
       "    </tr>\n",
       "    <tr>\n",
       "      <td>Район Марьино</td>\n",
       "      <td>1</td>\n",
       "    </tr>\n",
       "    <tr>\n",
       "      <td>Район Матушкино-Савелки</td>\n",
       "      <td>1</td>\n",
       "    </tr>\n",
       "    <tr>\n",
       "      <td>Район Метрогородок</td>\n",
       "      <td>1</td>\n",
       "    </tr>\n",
       "    <tr>\n",
       "      <td>Район Москворечье-Сабурово</td>\n",
       "      <td>1</td>\n",
       "    </tr>\n",
       "    <tr>\n",
       "      <td>Обручевский район</td>\n",
       "      <td>1</td>\n",
       "    </tr>\n",
       "  </tbody>\n",
       "</table>\n",
       "<p>99 rows × 1 columns</p>\n",
       "</div>"
      ],
      "text/plain": [
       "                            street\n",
       "area                              \n",
       "Таганский район                 27\n",
       "Район Хамовники                 26\n",
       "Басманный район                 25\n",
       "Тверской район                  20\n",
       "Пресненский район               19\n",
       "...                            ...\n",
       "Район Марьино                    1\n",
       "Район Матушкино-Савелки          1\n",
       "Район Метрогородок               1\n",
       "Район Москворечье-Сабурово       1\n",
       "Обручевский район                1\n",
       "\n",
       "[99 rows x 1 columns]"
      ]
     },
     "execution_count": 60,
     "metadata": {},
     "output_type": "execute_result"
    }
   ],
   "source": [
    "str_merged.groupby('area').agg({'street': 'count'}).sort_values('street', ascending = False)"
   ]
  },
  {
   "cell_type": "markdown",
   "metadata": {},
   "source": [
    "Мы получили 99 районов с улицами, на которых находится по одному ООП."
   ]
  },
  {
   "cell_type": "markdown",
   "metadata": {},
   "source": [
    "Улиц с одним ООП в Москве - 564. Они находятся в 99 районах Москвы. Сейчас в Москве 12 округов, в которые входят 125 районов и 21 поселение. Получается, что во многих районах всего одно ООП и их можно рассматривать в качестве потешнциально успешных для открытия нового заведения. Но прежде нужно более детально изучить особенности районов и улиц, их инфраструктуру и исходя из этого выбрать место для нового проекта с роботами."
   ]
  },
  {
   "cell_type": "markdown",
   "metadata": {},
   "source": [
    "### Распределение количества посадочных мест для улиц с большим количеством ООП"
   ]
  },
  {
   "cell_type": "markdown",
   "metadata": {},
   "source": [
    "У нас есть то-10 улиц по числу посадочных мест, посмотрим на распределение этого числа по каждой улице."
   ]
  },
  {
   "cell_type": "code",
   "execution_count": 61,
   "metadata": {},
   "outputs": [
    {
     "data": {
      "text/html": [
       "<div>\n",
       "<style scoped>\n",
       "    .dataframe tbody tr th:only-of-type {\n",
       "        vertical-align: middle;\n",
       "    }\n",
       "\n",
       "    .dataframe tbody tr th {\n",
       "        vertical-align: top;\n",
       "    }\n",
       "\n",
       "    .dataframe thead th {\n",
       "        text-align: right;\n",
       "    }\n",
       "</style>\n",
       "<table border=\"1\" class=\"dataframe\">\n",
       "  <thead>\n",
       "    <tr style=\"text-align: right;\">\n",
       "      <th></th>\n",
       "      <th>street</th>\n",
       "      <th>objects</th>\n",
       "    </tr>\n",
       "  </thead>\n",
       "  <tbody>\n",
       "    <tr>\n",
       "      <td>1433</td>\n",
       "      <td>проспект Мира</td>\n",
       "      <td>204</td>\n",
       "    </tr>\n",
       "    <tr>\n",
       "      <td>997</td>\n",
       "      <td>Профсоюзная улица</td>\n",
       "      <td>182</td>\n",
       "    </tr>\n",
       "    <tr>\n",
       "      <td>686</td>\n",
       "      <td>Ленинградский проспект</td>\n",
       "      <td>171</td>\n",
       "    </tr>\n",
       "    <tr>\n",
       "      <td>983</td>\n",
       "      <td>Пресненская набережная</td>\n",
       "      <td>167</td>\n",
       "    </tr>\n",
       "    <tr>\n",
       "      <td>408</td>\n",
       "      <td>Варшавское шоссе</td>\n",
       "      <td>161</td>\n",
       "    </tr>\n",
       "    <tr>\n",
       "      <td>689</td>\n",
       "      <td>Ленинский проспект</td>\n",
       "      <td>147</td>\n",
       "    </tr>\n",
       "    <tr>\n",
       "      <td>1430</td>\n",
       "      <td>проспект Вернадского</td>\n",
       "      <td>132</td>\n",
       "    </tr>\n",
       "    <tr>\n",
       "      <td>677</td>\n",
       "      <td>Кутузовский проспект</td>\n",
       "      <td>114</td>\n",
       "    </tr>\n",
       "    <tr>\n",
       "      <td>602</td>\n",
       "      <td>Каширское шоссе</td>\n",
       "      <td>112</td>\n",
       "    </tr>\n",
       "    <tr>\n",
       "      <td>608</td>\n",
       "      <td>Кировоградская улица</td>\n",
       "      <td>110</td>\n",
       "    </tr>\n",
       "  </tbody>\n",
       "</table>\n",
       "</div>"
      ],
      "text/plain": [
       "                      street  objects\n",
       "1433           проспект Мира      204\n",
       "997        Профсоюзная улица      182\n",
       "686   Ленинградский проспект      171\n",
       "983   Пресненская набережная      167\n",
       "408         Варшавское шоссе      161\n",
       "689       Ленинский проспект      147\n",
       "1430    проспект Вернадского      132\n",
       "677     Кутузовский проспект      114\n",
       "602          Каширское шоссе      112\n",
       "608     Кировоградская улица      110"
      ]
     },
     "execution_count": 61,
     "metadata": {},
     "output_type": "execute_result"
    }
   ],
   "source": [
    "only_streets"
   ]
  },
  {
   "cell_type": "code",
   "execution_count": 62,
   "metadata": {},
   "outputs": [],
   "source": [
    "top_streets_number = df_rest[df_rest['street'].isin(only_streets['street'])]"
   ]
  },
  {
   "cell_type": "code",
   "execution_count": 63,
   "metadata": {},
   "outputs": [
    {
     "data": {
      "text/plain": [
       "Text(0.5, 0, 'Число посадочных мест')"
      ]
     },
     "execution_count": 63,
     "metadata": {},
     "output_type": "execute_result"
    },
    {
     "data": {
      "image/png": "[encoded data removed]",
      "text/plain": [
       "<Figure size 792x432 with 1 Axes>"
      ]
     },
     "metadata": {
      "needs_background": "light"
     },
     "output_type": "display_data"
    }
   ],
   "source": [
    "plt.figure(figsize=(11,6))\n",
    "sns.distplot(top_streets_number['number'])\n",
    "plt.title('Распределение числа посадочных мест для топ-10 улиц с большим количеством ООП')\n",
    "plt.xlabel('Число посадочных мест')"
   ]
  },
  {
   "cell_type": "code",
   "execution_count": 64,
   "metadata": {},
   "outputs": [],
   "source": [
    "top_streets_number_10 = top_streets_number.query('number < 500')"
   ]
  },
  {
   "cell_type": "code",
   "execution_count": 65,
   "metadata": {
    "scrolled": true
   },
   "outputs": [
    {
     "data": {
      "image/png": "[encoded data removed]",
      "text/plain": [
       "<Figure size 1080x648 with 1 Axes>"
      ]
     },
     "metadata": {
      "needs_background": "light"
     },
     "output_type": "display_data"
    }
   ],
   "source": [
    "plt.figure(figsize=(15,9))\n",
    "#sns.violinplot(x='number', y ='street', data=top_streets_number, palette='rainbow')\n",
    "sns.boxplot(x='number', y ='street', data=top_streets_number_10, palette='rainbow')\n",
    "plt.title('Распределение числа посадочных мест для топ-10 улиц с большим количеством ООП', fontsize=17)\n",
    "plt.xlabel('Число посадочных мест', fontsize=15)\n",
    "plt.ylabel('Улица', fontsize=15)\n",
    "plt.show()"
   ]
  },
  {
   "cell_type": "markdown",
   "metadata": {},
   "source": [
    "- Самый большой разброс значений числа мест на Кутузовском проспекте\n",
    "- Заведения на проспектах отличаются бОльшей вместительностью, чем на шоссе (у них больше медиана).\n",
    "- Малый разброс на Преснесенской набережной и короткий верхний ус графика, что говорит о том, что по  вместимости там кафе чаще меньше, чем на других топ-улицах. Эта улица проходит вдоль делового центра Москва-Сити, возможно там дорого стоит  аренда помещения."
   ]
  },
  {
   "cell_type": "markdown",
   "metadata": {},
   "source": [
    "Посмотрим на распределения числа мест по тем же улицам и добавим разбивку заведений на сетевые и несетевые."
   ]
  },
  {
   "cell_type": "code",
   "execution_count": 66,
   "metadata": {},
   "outputs": [
    {
     "data": {
      "image/png": "[encoded data removed]",
      "text/plain": [
       "<Figure size 1080x648 with 1 Axes>"
      ]
     },
     "metadata": {
      "needs_background": "light"
     },
     "output_type": "display_data"
    }
   ],
   "source": [
    "plt.figure(figsize=(15,9))\n",
    "#sns.violinplot(x='number', y ='street', data=top_streets_number, palette='rainbow')\n",
    "sns.boxplot(x='number', y ='street', data=top_streets_number_10, palette='rainbow', hue=\"chain\")\n",
    "plt.title('Распределение числа посадочных мест для топ-10 улиц с большим количеством ООП', fontsize=17)\n",
    "plt.xlabel('Число посадочных мест', fontsize=15)\n",
    "plt.ylabel('Улица', fontsize=15)\n",
    "plt.show()"
   ]
  },
  {
   "cell_type": "markdown",
   "metadata": {},
   "source": [
    "- На всех улицах кроме Кутузовского проспекта  и Кировоградской улицы вместительность сетевых заведений больше, чем несетевых\n",
    "- Ну Кутузовском проспекте количество мест в сетевых заведениях значительно меньше, чем в несетевых. Возможно сети там имеют небольшой стратегический объект для узнаваемости бренда. На Кировоградской улице медиана значений одинаковая, но у несетевых заведений бОльший разброс значений\n",
    "- Сетевые заведения бОльшей вместительности чаще можно встретитьна проспекте Мира"
   ]
  },
  {
   "cell_type": "markdown",
   "metadata": {},
   "source": [
    "## Общий вывод"
   ]
  },
  {
   "cell_type": "markdown",
   "metadata": {},
   "source": [
    "- Наибольшую долю рынка занимают кафе (39,7%), столовые (16,8%), рестораны (14,9%) и предприятия быстрого обслуживания (12,5%)\n",
    "- Доля несетевых объектов - 80,7%, а сетевых - 19,3%\n",
    "- Сетевое распространение характерно для предприятий быстрого обслуживаня, отделов кулинарии, ректоранов и кафе\n",
    "- Для сетевых заведений характерно мало заведений (4) с небольшим количеством посадочных мест (~40-60).\n",
    "- Самое большое количество посадочных мест предоставляют столовые (130 посадочных мест в среднем), рестораны (97 мест), буфеты (51), бары (43), кафе (40 мест).\n",
    "- Почти все улицы из топ-10 по количеству заведений (кроме одной - Пресненская набережная) проходят через несколько районов, что указывает на то, что это крупные улицы. Всего районов с улицами из топ-10 по количеству ООП - 37. В нескольких районах проходят сразу две улицы из топ-10. \n",
    "<br>Топ-10 улиц по количеству ООП:\n",
    "<br>проспект Мира - 204\n",
    "<br>Профсоюзная улица - 182\n",
    "<br>Ленинградский проспект - 171\n",
    "<br>Пресненская набережная - 167\n",
    "<br>Варшавское шоссе - 161\n",
    "<br>Ленинский проспект - 147\n",
    "<br>проспект Вернадского - 132\n",
    "<br>Кутузовский проспект - 114\n",
    "<br>Каширское шоссе - 112\n",
    "<br>Кировоградская улица - 110\n",
    "- Улиц с одним ООП в Москве - 564. Они находятся в 99 районах Москвы.\n",
    "- Кутузовский проспект отличается самым большим разнообразием заведений по количеству мест. Несетевые заведения здесь самые вместительные, а сетевые по сравнению с ними отличаются малым количеством мест. А вот на проспекте Мира можно встретить наибольшее количество вместительных сетевых заведений.\n",
    "\n",
    "В целом исследование показало, что именно небольшие кафе в Москве пользуются спросом. Есть перспектывы вырасти в сеть, если верно выбрать точки для своих объектов. Для этого необходимо провести дополнительное исследование улиц и районов, их инфраструктуру и потребности. \n",
    "\n",
    "Исходя из данного исследования получается, что кафе можно расположить на одной из топ-10 улиц по количеству ООП, например на одном из проспектов. А можно на Пресненской набережной, публика находящегося рядом делового центра Москва-Сити явно оценит инновационный  подход и преимущества (скорость обслуживания) нового заведения с роботами-официантами."
   ]
  },
  {
   "cell_type": "markdown",
   "metadata": {},
   "source": [
    "Презентация: <https://cloud.mail.ru/public/jxJc/yCAuAsHDi>"
   ]
  }
 ],
 "metadata": {
  "ExecuteTimeLog": [
   {
    "duration": 834,
    "start_time": "2021-07-15T19:16:45.913Z"
   },
   {
    "duration": 56,
    "start_time": "2021-07-15T19:17:44.714Z"
   },
   {
    "duration": 13,
    "start_time": "2021-07-15T19:18:04.157Z"
   },
   {
    "duration": 21,
    "start_time": "2021-07-15T19:18:36.930Z"
   },
   {
    "duration": 25,
    "start_time": "2021-07-15T19:19:36.483Z"
   },
   {
    "duration": 7,
    "start_time": "2021-07-15T19:23:22.012Z"
   },
   {
    "duration": 98,
    "start_time": "2021-07-15T19:25:34.101Z"
   },
   {
    "duration": 268,
    "start_time": "2021-07-15T19:26:05.416Z"
   },
   {
    "duration": 288,
    "start_time": "2021-07-15T19:27:22.854Z"
   },
   {
    "duration": 365,
    "start_time": "2021-07-15T19:27:37.584Z"
   },
   {
    "duration": 350,
    "start_time": "2021-07-15T19:28:08.012Z"
   },
   {
    "duration": 443,
    "start_time": "2021-07-15T19:28:22.651Z"
   },
   {
    "duration": 330,
    "start_time": "2021-07-15T19:28:32.373Z"
   },
   {
    "duration": 588,
    "start_time": "2021-07-15T19:35:10.626Z"
   },
   {
    "duration": 57,
    "start_time": "2021-07-15T19:35:11.781Z"
   },
   {
    "duration": 13,
    "start_time": "2021-07-15T19:35:12.217Z"
   },
   {
    "duration": 17,
    "start_time": "2021-07-15T19:35:12.629Z"
   },
   {
    "duration": 24,
    "start_time": "2021-07-15T19:35:13.031Z"
   },
   {
    "duration": 7,
    "start_time": "2021-07-15T19:35:14.017Z"
   },
   {
    "duration": 334,
    "start_time": "2021-07-15T19:35:14.592Z"
   },
   {
    "duration": 8798,
    "start_time": "2021-07-15T19:35:15.553Z"
   },
   {
    "duration": 272,
    "start_time": "2021-07-15T19:36:45.450Z"
   },
   {
    "duration": 296,
    "start_time": "2021-07-15T19:37:09.760Z"
   },
   {
    "duration": 446,
    "start_time": "2021-07-15T19:37:30.170Z"
   },
   {
    "duration": 364,
    "start_time": "2021-07-15T19:37:42.570Z"
   },
   {
    "duration": 521,
    "start_time": "2021-07-15T19:37:57.250Z"
   },
   {
    "duration": 330,
    "start_time": "2021-07-15T19:39:36.778Z"
   },
   {
    "duration": 316,
    "start_time": "2021-07-15T19:40:49.234Z"
   },
   {
    "duration": 13,
    "start_time": "2021-07-15T19:41:06.444Z"
   },
   {
    "duration": 299,
    "start_time": "2021-07-15T19:41:29.868Z"
   },
   {
    "duration": 8,
    "start_time": "2021-07-15T19:41:52.083Z"
   },
   {
    "duration": 13,
    "start_time": "2021-07-15T19:42:40.230Z"
   },
   {
    "duration": 279,
    "start_time": "2021-07-15T19:42:50.589Z"
   },
   {
    "duration": 347,
    "start_time": "2021-07-15T19:43:04.998Z"
   },
   {
    "duration": 351,
    "start_time": "2021-07-15T19:43:15.019Z"
   },
   {
    "duration": 360,
    "start_time": "2021-07-15T19:43:28.236Z"
   },
   {
    "duration": 345,
    "start_time": "2021-07-15T19:45:08.122Z"
   },
   {
    "duration": 369,
    "start_time": "2021-07-15T19:47:46.681Z"
   },
   {
    "duration": 7,
    "start_time": "2021-07-15T19:51:53.994Z"
   },
   {
    "duration": 13,
    "start_time": "2021-07-15T19:53:15.123Z"
   },
   {
    "duration": 257,
    "start_time": "2021-07-15T19:53:41.219Z"
   },
   {
    "duration": 370,
    "start_time": "2021-07-15T19:58:11.620Z"
   },
   {
    "duration": 300,
    "start_time": "2021-07-15T20:06:05.134Z"
   },
   {
    "duration": 27,
    "start_time": "2021-07-15T20:07:19.848Z"
   },
   {
    "duration": 104,
    "start_time": "2021-07-15T20:13:26.081Z"
   },
   {
    "duration": 34,
    "start_time": "2021-07-15T20:16:33.545Z"
   },
   {
    "duration": 1440,
    "start_time": "2021-07-16T10:31:39.521Z"
   },
   {
    "duration": 58,
    "start_time": "2021-07-16T10:31:40.963Z"
   },
   {
    "duration": 13,
    "start_time": "2021-07-16T10:31:41.024Z"
   },
   {
    "duration": 22,
    "start_time": "2021-07-16T10:31:41.040Z"
   },
   {
    "duration": 26,
    "start_time": "2021-07-16T10:31:41.815Z"
   },
   {
    "duration": 7,
    "start_time": "2021-07-16T10:31:42.947Z"
   },
   {
    "duration": 14,
    "start_time": "2021-07-16T10:31:43.470Z"
   },
   {
    "duration": 384,
    "start_time": "2021-07-16T10:31:44.100Z"
   },
   {
    "duration": 7,
    "start_time": "2021-07-16T10:31:44.693Z"
   },
   {
    "duration": 287,
    "start_time": "2021-07-16T10:31:45.730Z"
   },
   {
    "duration": 36,
    "start_time": "2021-07-16T10:31:46.799Z"
   },
   {
    "duration": 30,
    "start_time": "2021-07-16T10:34:55.927Z"
   },
   {
    "duration": 32,
    "start_time": "2021-07-16T10:36:02.132Z"
   },
   {
    "duration": 31,
    "start_time": "2021-07-16T10:36:15.764Z"
   },
   {
    "duration": 31,
    "start_time": "2021-07-16T10:36:32.878Z"
   },
   {
    "duration": 32,
    "start_time": "2021-07-16T10:46:06.046Z"
   },
   {
    "duration": 19,
    "start_time": "2021-07-16T10:53:06.229Z"
   },
   {
    "duration": 7,
    "start_time": "2021-07-16T10:53:25.136Z"
   },
   {
    "duration": 18,
    "start_time": "2021-07-16T10:53:30.073Z"
   },
   {
    "duration": 8,
    "start_time": "2021-07-16T10:54:05.360Z"
   },
   {
    "duration": 391,
    "start_time": "2021-07-16T10:54:20.044Z"
   },
   {
    "duration": 9,
    "start_time": "2021-07-16T10:54:33.128Z"
   },
   {
    "duration": 281,
    "start_time": "2021-07-16T10:57:40.234Z"
   },
   {
    "duration": 280,
    "start_time": "2021-07-16T10:57:53.569Z"
   },
   {
    "duration": 15,
    "start_time": "2021-07-16T10:58:04.541Z"
   },
   {
    "duration": 14,
    "start_time": "2021-07-16T10:58:53.174Z"
   },
   {
    "duration": 16,
    "start_time": "2021-07-16T10:59:00.446Z"
   },
   {
    "duration": 13,
    "start_time": "2021-07-16T11:00:02.027Z"
   },
   {
    "duration": 15,
    "start_time": "2021-07-16T11:00:52.069Z"
   },
   {
    "duration": 1124,
    "start_time": "2021-07-16T19:42:13.200Z"
   },
   {
    "duration": 43,
    "start_time": "2021-07-16T19:42:14.326Z"
   },
   {
    "duration": 9,
    "start_time": "2021-07-16T19:42:14.371Z"
   },
   {
    "duration": 14,
    "start_time": "2021-07-16T19:42:14.615Z"
   },
   {
    "duration": 18,
    "start_time": "2021-07-16T19:42:15.246Z"
   },
   {
    "duration": 5,
    "start_time": "2021-07-16T19:42:16.335Z"
   },
   {
    "duration": 10,
    "start_time": "2021-07-16T19:42:16.834Z"
   },
   {
    "duration": 223,
    "start_time": "2021-07-16T19:42:17.355Z"
   },
   {
    "duration": 5,
    "start_time": "2021-07-16T19:42:17.896Z"
   },
   {
    "duration": 156,
    "start_time": "2021-07-16T19:42:18.396Z"
   },
   {
    "duration": 23,
    "start_time": "2021-07-16T19:42:19.084Z"
   },
   {
    "duration": 13,
    "start_time": "2021-07-16T19:42:20.339Z"
   },
   {
    "duration": 5,
    "start_time": "2021-07-16T19:42:20.887Z"
   },
   {
    "duration": 12,
    "start_time": "2021-07-16T19:42:21.504Z"
   },
   {
    "duration": 6,
    "start_time": "2021-07-16T19:42:22.140Z"
   },
   {
    "duration": 10,
    "start_time": "2021-07-16T19:42:22.662Z"
   },
   {
    "duration": 10,
    "start_time": "2021-07-16T19:53:21.790Z"
   },
   {
    "duration": 9,
    "start_time": "2021-07-16T19:53:29.917Z"
   },
   {
    "duration": 12,
    "start_time": "2021-07-16T19:53:48.958Z"
   },
   {
    "duration": 5,
    "start_time": "2021-07-16T19:54:11.834Z"
   },
   {
    "duration": 10,
    "start_time": "2021-07-16T19:54:19.323Z"
   },
   {
    "duration": 3,
    "start_time": "2021-07-16T19:55:12.966Z"
   },
   {
    "duration": 41,
    "start_time": "2021-07-16T19:55:13.350Z"
   },
   {
    "duration": 8,
    "start_time": "2021-07-16T19:55:13.565Z"
   },
   {
    "duration": 11,
    "start_time": "2021-07-16T19:55:13.789Z"
   },
   {
    "duration": 17,
    "start_time": "2021-07-16T19:55:14.098Z"
   },
   {
    "duration": 10,
    "start_time": "2021-07-16T19:55:14.444Z"
   },
   {
    "duration": 5,
    "start_time": "2021-07-16T19:55:15.068Z"
   },
   {
    "duration": 9,
    "start_time": "2021-07-16T19:55:15.344Z"
   },
   {
    "duration": 192,
    "start_time": "2021-07-16T19:55:15.758Z"
   },
   {
    "duration": 5,
    "start_time": "2021-07-16T19:55:16.055Z"
   },
   {
    "duration": 153,
    "start_time": "2021-07-16T19:55:16.358Z"
   },
   {
    "duration": 19,
    "start_time": "2021-07-16T19:55:16.625Z"
   },
   {
    "duration": 12,
    "start_time": "2021-07-16T19:55:17.158Z"
   },
   {
    "duration": 5,
    "start_time": "2021-07-16T19:55:17.407Z"
   },
   {
    "duration": 12,
    "start_time": "2021-07-16T19:55:18.104Z"
   },
   {
    "duration": 7,
    "start_time": "2021-07-16T19:55:18.865Z"
   },
   {
    "duration": 10,
    "start_time": "2021-07-16T19:55:20.652Z"
   },
   {
    "duration": 11,
    "start_time": "2021-07-16T19:55:21.337Z"
   },
   {
    "duration": 12,
    "start_time": "2021-07-16T19:55:23.332Z"
   },
   {
    "duration": 5,
    "start_time": "2021-07-16T19:55:23.883Z"
   },
   {
    "duration": 11,
    "start_time": "2021-07-16T19:55:24.373Z"
   },
   {
    "duration": 10,
    "start_time": "2021-07-16T19:57:48.094Z"
   },
   {
    "duration": 13,
    "start_time": "2021-07-16T19:59:52.818Z"
   },
   {
    "duration": 7,
    "start_time": "2021-07-16T20:05:32.327Z"
   },
   {
    "duration": 12,
    "start_time": "2021-07-16T20:05:39.585Z"
   },
   {
    "duration": 786,
    "start_time": "2021-07-16T20:12:28.240Z"
   },
   {
    "duration": 11,
    "start_time": "2021-07-16T20:13:17.597Z"
   },
   {
    "duration": 11,
    "start_time": "2021-07-16T20:13:24.636Z"
   },
   {
    "duration": 11,
    "start_time": "2021-07-16T20:13:38.261Z"
   },
   {
    "duration": 876,
    "start_time": "2021-07-16T20:13:39.632Z"
   },
   {
    "duration": 7,
    "start_time": "2021-07-16T20:14:28.305Z"
   },
   {
    "duration": 8,
    "start_time": "2021-07-16T20:14:31.064Z"
   },
   {
    "duration": 8,
    "start_time": "2021-07-16T20:15:05.364Z"
   },
   {
    "duration": 6,
    "start_time": "2021-07-16T20:15:12.737Z"
   },
   {
    "duration": 10,
    "start_time": "2021-07-16T20:15:13.966Z"
   },
   {
    "duration": 865,
    "start_time": "2021-07-16T20:15:29.682Z"
   },
   {
    "duration": 156,
    "start_time": "2021-07-16T20:17:03.290Z"
   },
   {
    "duration": 8,
    "start_time": "2021-07-16T20:18:13.133Z"
   },
   {
    "duration": 8,
    "start_time": "2021-07-16T20:18:21.598Z"
   },
   {
    "duration": 147,
    "start_time": "2021-07-16T20:21:02.237Z"
   },
   {
    "duration": 882,
    "start_time": "2021-07-16T20:21:32.718Z"
   },
   {
    "duration": 157,
    "start_time": "2021-07-16T20:26:03.860Z"
   },
   {
    "duration": 9,
    "start_time": "2021-07-16T20:26:25.255Z"
   },
   {
    "duration": 361,
    "start_time": "2021-07-16T20:27:16.666Z"
   },
   {
    "duration": 204,
    "start_time": "2021-07-16T20:27:34.338Z"
   },
   {
    "duration": 1221,
    "start_time": "2021-07-18T10:17:51.579Z"
   },
   {
    "duration": 45,
    "start_time": "2021-07-18T10:17:52.802Z"
   },
   {
    "duration": 9,
    "start_time": "2021-07-18T10:17:52.849Z"
   },
   {
    "duration": 13,
    "start_time": "2021-07-18T10:17:53.104Z"
   },
   {
    "duration": 18,
    "start_time": "2021-07-18T10:17:53.834Z"
   },
   {
    "duration": 10,
    "start_time": "2021-07-18T10:17:54.945Z"
   },
   {
    "duration": 4,
    "start_time": "2021-07-18T10:17:55.558Z"
   },
   {
    "duration": 10,
    "start_time": "2021-07-18T10:17:56.327Z"
   },
   {
    "duration": 231,
    "start_time": "2021-07-18T10:17:56.679Z"
   },
   {
    "duration": 5,
    "start_time": "2021-07-18T10:17:57.025Z"
   },
   {
    "duration": 165,
    "start_time": "2021-07-18T10:17:57.573Z"
   },
   {
    "duration": 27,
    "start_time": "2021-07-18T10:17:58.135Z"
   },
   {
    "duration": 12,
    "start_time": "2021-07-18T10:17:59.355Z"
   },
   {
    "duration": 6,
    "start_time": "2021-07-18T10:17:59.951Z"
   },
   {
    "duration": 12,
    "start_time": "2021-07-18T10:18:00.577Z"
   },
   {
    "duration": 9,
    "start_time": "2021-07-18T10:18:01.192Z"
   },
   {
    "duration": 8,
    "start_time": "2021-07-18T10:18:01.768Z"
   },
   {
    "duration": 9,
    "start_time": "2021-07-18T10:18:02.355Z"
   },
   {
    "duration": 970,
    "start_time": "2021-07-18T10:18:03.887Z"
   },
   {
    "duration": 219,
    "start_time": "2021-07-18T10:18:05.696Z"
   },
   {
    "duration": 7,
    "start_time": "2021-07-18T10:18:06.461Z"
   },
   {
    "duration": 2,
    "start_time": "2021-07-18T10:24:32.073Z"
   },
   {
    "duration": 3,
    "start_time": "2021-07-18T10:26:10.414Z"
   },
   {
    "duration": 2,
    "start_time": "2021-07-18T10:27:20.101Z"
   },
   {
    "duration": 3,
    "start_time": "2021-07-18T10:33:09.759Z"
   },
   {
    "duration": 44,
    "start_time": "2021-07-18T10:33:10.253Z"
   },
   {
    "duration": 9,
    "start_time": "2021-07-18T10:33:10.664Z"
   },
   {
    "duration": 11,
    "start_time": "2021-07-18T10:33:11.341Z"
   },
   {
    "duration": 18,
    "start_time": "2021-07-18T10:33:11.872Z"
   },
   {
    "duration": 11,
    "start_time": "2021-07-18T10:33:12.459Z"
   },
   {
    "duration": 5,
    "start_time": "2021-07-18T10:33:13.987Z"
   },
   {
    "duration": 9,
    "start_time": "2021-07-18T10:33:15.030Z"
   },
   {
    "duration": 9,
    "start_time": "2021-07-18T10:33:57.305Z"
   },
   {
    "duration": 9,
    "start_time": "2021-07-18T10:34:00.869Z"
   },
   {
    "duration": 340,
    "start_time": "2021-07-18T10:34:33.593Z"
   },
   {
    "duration": 10,
    "start_time": "2021-07-18T10:34:57.163Z"
   },
   {
    "duration": 269,
    "start_time": "2021-07-18T10:48:46.658Z"
   },
   {
    "duration": 61,
    "start_time": "2021-07-18T11:01:56.856Z"
   },
   {
    "duration": 14,
    "start_time": "2021-07-18T11:01:57.069Z"
   },
   {
    "duration": 17,
    "start_time": "2021-07-18T11:01:57.286Z"
   },
   {
    "duration": 26,
    "start_time": "2021-07-18T11:01:57.681Z"
   },
   {
    "duration": 17,
    "start_time": "2021-07-18T11:01:57.738Z"
   },
   {
    "duration": 5,
    "start_time": "2021-07-18T11:01:58.476Z"
   },
   {
    "duration": 10,
    "start_time": "2021-07-18T11:01:58.807Z"
   },
   {
    "duration": 289,
    "start_time": "2021-07-18T11:01:59.354Z"
   },
   {
    "duration": 266,
    "start_time": "2021-07-18T11:02:04.021Z"
   },
   {
    "duration": 421,
    "start_time": "2021-07-18T11:02:10.017Z"
   },
   {
    "duration": 43,
    "start_time": "2021-07-18T11:02:12.405Z"
   },
   {
    "duration": 8,
    "start_time": "2021-07-18T11:02:12.577Z"
   },
   {
    "duration": 12,
    "start_time": "2021-07-18T11:02:12.774Z"
   },
   {
    "duration": 18,
    "start_time": "2021-07-18T11:02:12.946Z"
   },
   {
    "duration": 10,
    "start_time": "2021-07-18T11:02:13.130Z"
   },
   {
    "duration": 5,
    "start_time": "2021-07-18T11:02:13.649Z"
   },
   {
    "duration": 10,
    "start_time": "2021-07-18T11:02:13.869Z"
   },
   {
    "duration": 297,
    "start_time": "2021-07-18T11:02:14.068Z"
   },
   {
    "duration": 1463,
    "start_time": "2021-07-18T11:02:12.904Z"
   },
   {
    "duration": 6824,
    "start_time": "2021-07-18T11:03:15.377Z"
   },
   {
    "duration": 1060,
    "start_time": "2021-07-18T11:03:46.941Z"
   },
   {
    "duration": 1457,
    "start_time": "2021-07-18T11:03:46.545Z"
   },
   {
    "duration": 258,
    "start_time": "2021-07-18T11:03:49.060Z"
   },
   {
    "duration": 6694,
    "start_time": "2021-07-18T11:03:56.946Z"
   },
   {
    "duration": 12,
    "start_time": "2021-07-18T11:04:33.103Z"
   },
   {
    "duration": 583,
    "start_time": "2021-07-18T11:04:34.209Z"
   },
   {
    "duration": 428,
    "start_time": "2021-07-18T11:08:24.783Z"
   },
   {
    "duration": 107,
    "start_time": "2021-07-18T11:11:12.386Z"
   },
   {
    "duration": 160,
    "start_time": "2021-07-18T11:12:48.903Z"
   },
   {
    "duration": 103,
    "start_time": "2021-07-18T11:19:52.464Z"
   },
   {
    "duration": 107,
    "start_time": "2021-07-18T11:20:23.058Z"
   },
   {
    "duration": 212,
    "start_time": "2021-07-18T11:20:26.264Z"
   },
   {
    "duration": 10,
    "start_time": "2021-07-18T11:20:50.355Z"
   },
   {
    "duration": 6571,
    "start_time": "2021-07-18T11:20:52.059Z"
   },
   {
    "duration": 11,
    "start_time": "2021-07-18T11:21:27.911Z"
   },
   {
    "duration": 103,
    "start_time": "2021-07-18T11:21:28.608Z"
   },
   {
    "duration": 102,
    "start_time": "2021-07-18T11:22:03.903Z"
   },
   {
    "duration": 103,
    "start_time": "2021-07-18T11:22:34.364Z"
   },
   {
    "duration": 250,
    "start_time": "2021-07-18T11:26:30.960Z"
   },
   {
    "duration": 105,
    "start_time": "2021-07-18T11:26:33.041Z"
   },
   {
    "duration": 11,
    "start_time": "2021-07-18T11:27:19.625Z"
   },
   {
    "duration": 12,
    "start_time": "2021-07-18T11:27:47.136Z"
   },
   {
    "duration": 103,
    "start_time": "2021-07-18T11:27:48.476Z"
   },
   {
    "duration": 6,
    "start_time": "2021-07-18T11:28:00.209Z"
   },
   {
    "duration": 8,
    "start_time": "2021-07-18T11:28:09.730Z"
   },
   {
    "duration": 7,
    "start_time": "2021-07-18T11:28:30.143Z"
   },
   {
    "duration": 2,
    "start_time": "2021-07-18T11:31:41.887Z"
   },
   {
    "duration": 3,
    "start_time": "2021-07-18T11:31:42.336Z"
   },
   {
    "duration": 2,
    "start_time": "2021-07-18T11:31:42.857Z"
   },
   {
    "duration": 45,
    "start_time": "2021-07-18T11:31:43.384Z"
   },
   {
    "duration": 12,
    "start_time": "2021-07-18T11:31:43.958Z"
   },
   {
    "duration": 11,
    "start_time": "2021-07-18T11:31:44.480Z"
   },
   {
    "duration": 18,
    "start_time": "2021-07-18T11:31:44.995Z"
   },
   {
    "duration": 11,
    "start_time": "2021-07-18T11:31:45.489Z"
   },
   {
    "duration": 5,
    "start_time": "2021-07-18T11:31:46.848Z"
   },
   {
    "duration": 6,
    "start_time": "2021-07-18T11:31:47.369Z"
   },
   {
    "duration": 7,
    "start_time": "2021-07-18T11:31:48.010Z"
   },
   {
    "duration": 114,
    "start_time": "2021-07-18T11:31:48.757Z"
   },
   {
    "duration": 102,
    "start_time": "2021-07-18T11:31:55.095Z"
   },
   {
    "duration": 117,
    "start_time": "2021-07-18T11:31:56.290Z"
   },
   {
    "duration": 3,
    "start_time": "2021-07-18T11:32:57.197Z"
   },
   {
    "duration": 3,
    "start_time": "2021-07-18T11:32:57.680Z"
   },
   {
    "duration": 3,
    "start_time": "2021-07-18T11:32:58.228Z"
   },
   {
    "duration": 47,
    "start_time": "2021-07-18T11:32:59.199Z"
   },
   {
    "duration": 3,
    "start_time": "2021-07-18T11:33:02.944Z"
   },
   {
    "duration": 2,
    "start_time": "2021-07-18T11:33:03.619Z"
   },
   {
    "duration": 3,
    "start_time": "2021-07-18T11:33:04.215Z"
   },
   {
    "duration": 47,
    "start_time": "2021-07-18T11:33:04.779Z"
   },
   {
    "duration": 10,
    "start_time": "2021-07-18T11:33:05.294Z"
   },
   {
    "duration": 11,
    "start_time": "2021-07-18T11:33:05.815Z"
   },
   {
    "duration": 16,
    "start_time": "2021-07-18T11:33:06.350Z"
   },
   {
    "duration": 10,
    "start_time": "2021-07-18T11:33:06.901Z"
   },
   {
    "duration": 5,
    "start_time": "2021-07-18T11:33:08.499Z"
   },
   {
    "duration": 6,
    "start_time": "2021-07-18T11:33:09.029Z"
   },
   {
    "duration": 7,
    "start_time": "2021-07-18T11:33:09.596Z"
   },
   {
    "duration": 109,
    "start_time": "2021-07-18T11:33:11.670Z"
   },
   {
    "duration": 289,
    "start_time": "2021-07-18T11:33:30.529Z"
   },
   {
    "duration": 108,
    "start_time": "2021-07-18T11:33:39.040Z"
   },
   {
    "duration": 3,
    "start_time": "2021-07-18T11:36:48.506Z"
   },
   {
    "duration": 3,
    "start_time": "2021-07-18T11:36:49.244Z"
   },
   {
    "duration": 2,
    "start_time": "2021-07-18T11:36:49.921Z"
   },
   {
    "duration": 43,
    "start_time": "2021-07-18T11:36:50.645Z"
   },
   {
    "duration": 9,
    "start_time": "2021-07-18T11:36:51.358Z"
   },
   {
    "duration": 10,
    "start_time": "2021-07-18T11:36:51.945Z"
   },
   {
    "duration": 17,
    "start_time": "2021-07-18T11:36:52.437Z"
   },
   {
    "duration": 9,
    "start_time": "2021-07-18T11:36:53.033Z"
   },
   {
    "duration": 4,
    "start_time": "2021-07-18T11:36:54.179Z"
   },
   {
    "duration": 6,
    "start_time": "2021-07-18T11:36:55.220Z"
   },
   {
    "duration": 10,
    "start_time": "2021-07-18T11:36:55.228Z"
   },
   {
    "duration": 141,
    "start_time": "2021-07-18T11:36:55.240Z"
   },
   {
    "duration": 106,
    "start_time": "2021-07-18T11:37:09.738Z"
   },
   {
    "duration": 3,
    "start_time": "2021-07-18T11:37:21.038Z"
   },
   {
    "duration": 3,
    "start_time": "2021-07-18T11:37:23.757Z"
   },
   {
    "duration": 2,
    "start_time": "2021-07-18T11:37:24.202Z"
   },
   {
    "duration": 3,
    "start_time": "2021-07-18T11:37:24.445Z"
   },
   {
    "duration": 42,
    "start_time": "2021-07-18T11:37:24.737Z"
   },
   {
    "duration": 8,
    "start_time": "2021-07-18T11:37:25.016Z"
   },
   {
    "duration": 10,
    "start_time": "2021-07-18T11:37:25.314Z"
   },
   {
    "duration": 16,
    "start_time": "2021-07-18T11:37:25.567Z"
   },
   {
    "duration": 10,
    "start_time": "2021-07-18T11:37:26.018Z"
   },
   {
    "duration": 5,
    "start_time": "2021-07-18T11:37:27.507Z"
   },
   {
    "duration": 6,
    "start_time": "2021-07-18T11:37:28.034Z"
   },
   {
    "duration": 7,
    "start_time": "2021-07-18T11:37:28.619Z"
   },
   {
    "duration": 101,
    "start_time": "2021-07-18T11:37:30.096Z"
   },
   {
    "duration": 87,
    "start_time": "2021-07-18T11:37:49.219Z"
   },
   {
    "duration": 272,
    "start_time": "2021-07-18T11:38:12.535Z"
   },
   {
    "duration": 115,
    "start_time": "2021-07-18T11:38:20.653Z"
   },
   {
    "duration": 2608,
    "start_time": "2021-07-18T11:47:27.081Z"
   },
   {
    "duration": 2850,
    "start_time": "2021-07-18T11:47:49.076Z"
   },
   {
    "duration": 3,
    "start_time": "2021-07-18T11:48:05.496Z"
   },
   {
    "duration": 45,
    "start_time": "2021-07-18T11:48:06.450Z"
   },
   {
    "duration": 9,
    "start_time": "2021-07-18T11:48:07.265Z"
   },
   {
    "duration": 13,
    "start_time": "2021-07-18T11:48:07.943Z"
   },
   {
    "duration": 18,
    "start_time": "2021-07-18T11:48:08.472Z"
   },
   {
    "duration": 11,
    "start_time": "2021-07-18T11:48:09.018Z"
   },
   {
    "duration": 5,
    "start_time": "2021-07-18T11:48:10.224Z"
   },
   {
    "duration": 7,
    "start_time": "2021-07-18T11:48:10.511Z"
   },
   {
    "duration": 7,
    "start_time": "2021-07-18T11:48:10.805Z"
   },
   {
    "duration": 90,
    "start_time": "2021-07-18T11:48:11.090Z"
   },
   {
    "duration": 111,
    "start_time": "2021-07-18T11:48:12.178Z"
   },
   {
    "duration": 253,
    "start_time": "2021-07-18T11:49:41.936Z"
   },
   {
    "duration": 2,
    "start_time": "2021-07-18T11:50:05.238Z"
   },
   {
    "duration": 268,
    "start_time": "2021-07-18T11:50:06.137Z"
   },
   {
    "duration": 3,
    "start_time": "2021-07-18T11:50:20.612Z"
   },
   {
    "duration": 43,
    "start_time": "2021-07-18T11:50:21.920Z"
   },
   {
    "duration": 9,
    "start_time": "2021-07-18T11:50:22.252Z"
   },
   {
    "duration": 10,
    "start_time": "2021-07-18T11:50:22.485Z"
   },
   {
    "duration": 17,
    "start_time": "2021-07-18T11:50:22.994Z"
   },
   {
    "duration": 10,
    "start_time": "2021-07-18T11:50:23.292Z"
   },
   {
    "duration": 4,
    "start_time": "2021-07-18T11:50:24.577Z"
   },
   {
    "duration": 6,
    "start_time": "2021-07-18T11:50:25.043Z"
   },
   {
    "duration": 7,
    "start_time": "2021-07-18T11:50:26.100Z"
   },
   {
    "duration": 85,
    "start_time": "2021-07-18T11:50:27.038Z"
   },
   {
    "duration": 112,
    "start_time": "2021-07-18T11:51:35.332Z"
   },
   {
    "duration": 108,
    "start_time": "2021-07-18T11:51:54.842Z"
   },
   {
    "duration": 103,
    "start_time": "2021-07-18T11:52:24.396Z"
   },
   {
    "duration": 2008,
    "start_time": "2021-07-18T11:53:03.403Z"
   },
   {
    "duration": 4,
    "start_time": "2021-07-18T11:53:05.413Z"
   },
   {
    "duration": 3,
    "start_time": "2021-07-18T11:53:06.738Z"
   },
   {
    "duration": 3,
    "start_time": "2021-07-18T11:53:07.267Z"
   },
   {
    "duration": 45,
    "start_time": "2021-07-18T11:53:07.795Z"
   },
   {
    "duration": 10,
    "start_time": "2021-07-18T11:53:08.317Z"
   },
   {
    "duration": 2495,
    "start_time": "2021-07-18T11:57:20.158Z"
   },
   {
    "duration": 3,
    "start_time": "2021-07-18T11:57:22.655Z"
   },
   {
    "duration": 9,
    "start_time": "2021-07-18T11:57:23.645Z"
   },
   {
    "duration": 2,
    "start_time": "2021-07-18T11:57:24.257Z"
   },
   {
    "duration": 3,
    "start_time": "2021-07-18T11:57:24.826Z"
   },
   {
    "duration": 46,
    "start_time": "2021-07-18T11:57:25.362Z"
   },
   {
    "duration": 9,
    "start_time": "2021-07-18T11:57:25.863Z"
   },
   {
    "duration": 10,
    "start_time": "2021-07-18T11:57:26.458Z"
   },
   {
    "duration": 16,
    "start_time": "2021-07-18T11:57:27.171Z"
   },
   {
    "duration": 10,
    "start_time": "2021-07-18T11:57:27.779Z"
   },
   {
    "duration": 5,
    "start_time": "2021-07-18T11:57:29.212Z"
   },
   {
    "duration": 8,
    "start_time": "2021-07-18T11:57:29.851Z"
   },
   {
    "duration": 10,
    "start_time": "2021-07-18T11:57:30.882Z"
   },
   {
    "duration": 315,
    "start_time": "2021-07-18T11:57:32.397Z"
   },
   {
    "duration": 2179,
    "start_time": "2021-07-18T11:58:38.130Z"
   },
   {
    "duration": 3,
    "start_time": "2021-07-18T11:58:41.122Z"
   },
   {
    "duration": 3,
    "start_time": "2021-07-18T11:58:41.867Z"
   },
   {
    "duration": 2,
    "start_time": "2021-07-18T11:58:42.491Z"
   },
   {
    "duration": 45,
    "start_time": "2021-07-18T11:58:43.088Z"
   },
   {
    "duration": 10,
    "start_time": "2021-07-18T11:58:43.850Z"
   },
   {
    "duration": 12,
    "start_time": "2021-07-18T11:58:44.588Z"
   },
   {
    "duration": 23,
    "start_time": "2021-07-18T11:58:45.399Z"
   },
   {
    "duration": 10,
    "start_time": "2021-07-18T11:58:46.009Z"
   },
   {
    "duration": 4,
    "start_time": "2021-07-18T11:58:47.507Z"
   },
   {
    "duration": 7,
    "start_time": "2021-07-18T11:58:48.127Z"
   },
   {
    "duration": 7,
    "start_time": "2021-07-18T11:58:48.721Z"
   },
   {
    "duration": 111,
    "start_time": "2021-07-18T11:58:49.374Z"
   },
   {
    "duration": 107,
    "start_time": "2021-07-18T11:58:51.081Z"
   },
   {
    "duration": 111,
    "start_time": "2021-07-18T11:58:56.999Z"
   },
   {
    "duration": 2043,
    "start_time": "2021-07-18T12:07:48.012Z"
   },
   {
    "duration": 3,
    "start_time": "2021-07-18T12:07:53.262Z"
   },
   {
    "duration": 3,
    "start_time": "2021-07-18T12:07:55.058Z"
   },
   {
    "duration": 3,
    "start_time": "2021-07-18T12:07:55.915Z"
   },
   {
    "duration": 48,
    "start_time": "2021-07-18T12:07:56.606Z"
   },
   {
    "duration": 10,
    "start_time": "2021-07-18T12:07:58.313Z"
   },
   {
    "duration": 12,
    "start_time": "2021-07-18T12:08:02.065Z"
   },
   {
    "duration": 17,
    "start_time": "2021-07-18T12:08:02.781Z"
   },
   {
    "duration": 11,
    "start_time": "2021-07-18T12:08:03.689Z"
   },
   {
    "duration": 5,
    "start_time": "2021-07-18T12:08:05.558Z"
   },
   {
    "duration": 7,
    "start_time": "2021-07-18T12:08:06.333Z"
   },
   {
    "duration": 7,
    "start_time": "2021-07-18T12:08:07.249Z"
   },
   {
    "duration": 117,
    "start_time": "2021-07-18T12:08:09.633Z"
   },
   {
    "duration": 2,
    "start_time": "2021-07-18T12:09:35.882Z"
   },
   {
    "duration": 2073,
    "start_time": "2021-07-18T12:09:43.256Z"
   },
   {
    "duration": 3,
    "start_time": "2021-07-18T12:10:10.284Z"
   },
   {
    "duration": 45,
    "start_time": "2021-07-18T12:10:11.876Z"
   },
   {
    "duration": 9,
    "start_time": "2021-07-18T12:10:12.840Z"
   },
   {
    "duration": 11,
    "start_time": "2021-07-18T12:10:13.478Z"
   },
   {
    "duration": 16,
    "start_time": "2021-07-18T12:10:13.975Z"
   },
   {
    "duration": 10,
    "start_time": "2021-07-18T12:10:14.476Z"
   },
   {
    "duration": 4,
    "start_time": "2021-07-18T12:10:16.031Z"
   },
   {
    "duration": 7,
    "start_time": "2021-07-18T12:10:16.532Z"
   },
   {
    "duration": 8,
    "start_time": "2021-07-18T12:10:16.968Z"
   },
   {
    "duration": 123,
    "start_time": "2021-07-18T12:10:18.738Z"
   },
   {
    "duration": 3,
    "start_time": "2021-07-18T12:12:56.844Z"
   },
   {
    "duration": 2186,
    "start_time": "2021-07-18T12:12:57.270Z"
   },
   {
    "duration": 3,
    "start_time": "2021-07-18T12:12:59.458Z"
   },
   {
    "duration": 46,
    "start_time": "2021-07-18T12:13:00.259Z"
   },
   {
    "duration": 9,
    "start_time": "2021-07-18T12:13:00.713Z"
   },
   {
    "duration": 10,
    "start_time": "2021-07-18T12:13:01.156Z"
   },
   {
    "duration": 17,
    "start_time": "2021-07-18T12:13:01.568Z"
   },
   {
    "duration": 10,
    "start_time": "2021-07-18T12:13:01.929Z"
   },
   {
    "duration": 5,
    "start_time": "2021-07-18T12:13:02.784Z"
   },
   {
    "duration": 7,
    "start_time": "2021-07-18T12:13:03.169Z"
   },
   {
    "duration": 7,
    "start_time": "2021-07-18T12:13:03.734Z"
   },
   {
    "duration": 110,
    "start_time": "2021-07-18T12:13:04.244Z"
   },
   {
    "duration": 394,
    "start_time": "2021-07-18T12:21:02.537Z"
   },
   {
    "duration": 264,
    "start_time": "2021-07-18T12:26:11.424Z"
   },
   {
    "duration": 273,
    "start_time": "2021-07-18T12:26:38.626Z"
   },
   {
    "duration": 217,
    "start_time": "2021-07-18T12:27:45.035Z"
   },
   {
    "duration": 214,
    "start_time": "2021-07-18T12:28:02.627Z"
   },
   {
    "duration": 4,
    "start_time": "2021-07-18T20:40:59.149Z"
   },
   {
    "duration": 3614,
    "start_time": "2021-07-18T20:41:00.090Z"
   },
   {
    "duration": 5,
    "start_time": "2021-07-18T20:41:03.707Z"
   },
   {
    "duration": 66,
    "start_time": "2021-07-18T20:41:03.719Z"
   },
   {
    "duration": 22,
    "start_time": "2021-07-18T20:41:04.323Z"
   },
   {
    "duration": 18,
    "start_time": "2021-07-18T20:41:05.154Z"
   },
   {
    "duration": 36,
    "start_time": "2021-07-18T20:41:05.875Z"
   },
   {
    "duration": 17,
    "start_time": "2021-07-18T20:41:06.490Z"
   },
   {
    "duration": 7,
    "start_time": "2021-07-18T20:41:08.145Z"
   },
   {
    "duration": 13,
    "start_time": "2021-07-18T20:41:08.689Z"
   },
   {
    "duration": 11,
    "start_time": "2021-07-18T20:41:09.262Z"
   },
   {
    "duration": 428,
    "start_time": "2021-07-18T20:41:13.228Z"
   },
   {
    "duration": 185,
    "start_time": "2021-07-18T20:52:00.585Z"
   },
   {
    "duration": 172,
    "start_time": "2021-07-18T20:52:16.135Z"
   },
   {
    "duration": 1202,
    "start_time": "2021-07-19T11:46:57.379Z"
   },
   {
    "duration": 2816,
    "start_time": "2021-07-19T11:46:59.609Z"
   },
   {
    "duration": 293,
    "start_time": "2021-07-19T11:47:02.428Z"
   },
   {
    "duration": 41,
    "start_time": "2021-07-19T11:47:02.723Z"
   },
   {
    "duration": 9,
    "start_time": "2021-07-19T11:47:03.528Z"
   },
   {
    "duration": 13,
    "start_time": "2021-07-19T11:47:04.331Z"
   },
   {
    "duration": 16,
    "start_time": "2021-07-19T11:47:05.376Z"
   },
   {
    "duration": 11,
    "start_time": "2021-07-19T11:47:06.496Z"
   },
   {
    "duration": 5,
    "start_time": "2021-07-19T11:47:09.790Z"
   },
   {
    "duration": 8,
    "start_time": "2021-07-19T11:47:10.503Z"
   },
   {
    "duration": 8,
    "start_time": "2021-07-19T11:47:11.606Z"
   },
   {
    "duration": 477,
    "start_time": "2021-07-19T11:47:28.215Z"
   },
   {
    "duration": 74,
    "start_time": "2021-07-19T11:48:50.549Z"
   },
   {
    "duration": 210,
    "start_time": "2021-07-19T11:50:00.333Z"
   },
   {
    "duration": 102,
    "start_time": "2021-07-19T11:51:08.223Z"
   },
   {
    "duration": 216,
    "start_time": "2021-07-19T11:51:43.925Z"
   },
   {
    "duration": 10,
    "start_time": "2021-07-19T11:55:22.561Z"
   },
   {
    "duration": 363,
    "start_time": "2021-07-19T11:57:58.849Z"
   },
   {
    "duration": 216,
    "start_time": "2021-07-19T11:58:41.383Z"
   },
   {
    "duration": 5,
    "start_time": "2021-07-19T11:59:02.161Z"
   },
   {
    "duration": 159,
    "start_time": "2021-07-19T11:59:03.015Z"
   },
   {
    "duration": 25,
    "start_time": "2021-07-19T11:59:04.567Z"
   },
   {
    "duration": 232,
    "start_time": "2021-07-19T11:59:05.346Z"
   },
   {
    "duration": 6,
    "start_time": "2021-07-19T11:59:27.241Z"
   },
   {
    "duration": 6,
    "start_time": "2021-07-19T11:59:49.777Z"
   },
   {
    "duration": 341,
    "start_time": "2021-07-19T12:00:32.486Z"
   },
   {
    "duration": 20,
    "start_time": "2021-07-19T12:03:32.615Z"
   },
   {
    "duration": 267,
    "start_time": "2021-07-19T12:05:13.623Z"
   },
   {
    "duration": 20,
    "start_time": "2021-07-19T12:06:26.855Z"
   },
   {
    "duration": 5,
    "start_time": "2021-07-19T12:06:33.907Z"
   },
   {
    "duration": 6,
    "start_time": "2021-07-19T12:06:34.414Z"
   },
   {
    "duration": 207,
    "start_time": "2021-07-19T12:06:35.144Z"
   },
   {
    "duration": 376,
    "start_time": "2021-07-19T12:16:08.281Z"
   },
   {
    "duration": 80,
    "start_time": "2021-07-19T12:18:27.280Z"
   },
   {
    "duration": 558,
    "start_time": "2021-07-19T12:18:49.066Z"
   },
   {
    "duration": 102,
    "start_time": "2021-07-19T12:20:02.705Z"
   },
   {
    "duration": 241,
    "start_time": "2021-07-19T12:21:17.168Z"
   },
   {
    "duration": 228,
    "start_time": "2021-07-19T12:22:24.483Z"
   },
   {
    "duration": 226,
    "start_time": "2021-07-19T12:23:26.858Z"
   },
   {
    "duration": 3,
    "start_time": "2021-07-19T12:23:59.541Z"
   },
   {
    "duration": 42,
    "start_time": "2021-07-19T12:24:00.852Z"
   },
   {
    "duration": 9,
    "start_time": "2021-07-19T12:24:01.296Z"
   },
   {
    "duration": 10,
    "start_time": "2021-07-19T12:24:01.593Z"
   },
   {
    "duration": 17,
    "start_time": "2021-07-19T12:24:01.813Z"
   },
   {
    "duration": 9,
    "start_time": "2021-07-19T12:24:02.053Z"
   },
   {
    "duration": 5,
    "start_time": "2021-07-19T12:24:02.770Z"
   },
   {
    "duration": 7,
    "start_time": "2021-07-19T12:24:02.998Z"
   },
   {
    "duration": 8,
    "start_time": "2021-07-19T12:24:03.231Z"
   },
   {
    "duration": 104,
    "start_time": "2021-07-19T12:24:03.446Z"
   },
   {
    "duration": 242,
    "start_time": "2021-07-19T12:24:03.760Z"
   },
   {
    "duration": 219,
    "start_time": "2021-07-19T12:24:04.448Z"
   },
   {
    "duration": 70,
    "start_time": "2021-07-19T12:27:17.392Z"
   },
   {
    "duration": 71,
    "start_time": "2021-07-19T12:27:38.412Z"
   },
   {
    "duration": 105,
    "start_time": "2021-07-19T12:28:04.036Z"
   },
   {
    "duration": 452,
    "start_time": "2021-07-19T12:28:42.490Z"
   },
   {
    "duration": 107,
    "start_time": "2021-07-19T12:28:56.844Z"
   },
   {
    "duration": 12,
    "start_time": "2021-07-19T12:33:23.703Z"
   },
   {
    "duration": 6,
    "start_time": "2021-07-19T12:33:24.590Z"
   },
   {
    "duration": 12,
    "start_time": "2021-07-19T12:33:25.751Z"
   },
   {
    "duration": 8,
    "start_time": "2021-07-19T12:33:29.874Z"
   },
   {
    "duration": 109,
    "start_time": "2021-07-19T12:44:09.191Z"
   },
   {
    "duration": 7,
    "start_time": "2021-07-19T12:44:49.762Z"
   },
   {
    "duration": 13,
    "start_time": "2021-07-19T12:46:21.258Z"
   },
   {
    "duration": 8,
    "start_time": "2021-07-19T12:51:49.589Z"
   },
   {
    "duration": 6,
    "start_time": "2021-07-19T12:52:09.180Z"
   },
   {
    "duration": 12,
    "start_time": "2021-07-19T12:52:26.349Z"
   },
   {
    "duration": 7,
    "start_time": "2021-07-19T12:52:48.572Z"
   },
   {
    "duration": 76,
    "start_time": "2021-07-19T12:56:24.981Z"
   },
   {
    "duration": 8,
    "start_time": "2021-07-19T12:56:25.883Z"
   },
   {
    "duration": 962,
    "start_time": "2021-07-19T12:57:13.360Z"
   },
   {
    "duration": 11,
    "start_time": "2021-07-19T12:57:57.656Z"
   },
   {
    "duration": 10,
    "start_time": "2021-07-19T12:58:01.320Z"
   },
   {
    "duration": 10,
    "start_time": "2021-07-19T12:58:10.431Z"
   },
   {
    "duration": 9,
    "start_time": "2021-07-19T12:59:23.254Z"
   },
   {
    "duration": 10,
    "start_time": "2021-07-19T13:01:17.033Z"
   },
   {
    "duration": 8,
    "start_time": "2021-07-19T13:01:57.012Z"
   },
   {
    "duration": 103,
    "start_time": "2021-07-19T13:03:47.125Z"
   },
   {
    "duration": 1069,
    "start_time": "2021-07-19T20:20:40.862Z"
   },
   {
    "duration": 2089,
    "start_time": "2021-07-19T20:20:42.785Z"
   },
   {
    "duration": 309,
    "start_time": "2021-07-19T20:20:44.877Z"
   },
   {
    "duration": 3,
    "start_time": "2021-07-19T20:20:46.683Z"
   },
   {
    "duration": 237,
    "start_time": "2021-07-19T20:20:47.382Z"
   },
   {
    "duration": 10,
    "start_time": "2021-07-19T20:20:48.126Z"
   },
   {
    "duration": 15,
    "start_time": "2021-07-19T20:20:48.845Z"
   },
   {
    "duration": 19,
    "start_time": "2021-07-19T20:20:49.415Z"
   },
   {
    "duration": 11,
    "start_time": "2021-07-19T20:20:50.083Z"
   },
   {
    "duration": 5,
    "start_time": "2021-07-19T20:20:52.710Z"
   },
   {
    "duration": 7,
    "start_time": "2021-07-19T20:20:53.562Z"
   },
   {
    "duration": 8,
    "start_time": "2021-07-19T20:20:54.264Z"
   },
   {
    "duration": 501,
    "start_time": "2021-07-19T20:20:55.089Z"
   },
   {
    "duration": 5,
    "start_time": "2021-07-19T20:20:56.370Z"
   },
   {
    "duration": 6,
    "start_time": "2021-07-19T20:20:57.042Z"
   },
   {
    "duration": 338,
    "start_time": "2021-07-19T20:20:58.581Z"
   },
   {
    "duration": 23,
    "start_time": "2021-07-19T20:21:18.784Z"
   },
   {
    "duration": 5,
    "start_time": "2021-07-19T20:21:26.738Z"
   },
   {
    "duration": 9,
    "start_time": "2021-07-19T20:21:27.282Z"
   },
   {
    "duration": 8,
    "start_time": "2021-07-19T20:21:27.854Z"
   },
   {
    "duration": 115,
    "start_time": "2021-07-19T20:21:28.659Z"
   },
   {
    "duration": 269,
    "start_time": "2021-07-19T20:22:03.940Z"
   },
   {
    "duration": 253,
    "start_time": "2021-07-19T20:23:44.001Z"
   },
   {
    "duration": 334,
    "start_time": "2021-07-19T20:23:52.467Z"
   },
   {
    "duration": 134,
    "start_time": "2021-07-19T20:27:38.318Z"
   },
   {
    "duration": 14,
    "start_time": "2021-07-19T20:34:47.931Z"
   },
   {
    "duration": 10,
    "start_time": "2021-07-19T20:34:48.576Z"
   },
   {
    "duration": 8,
    "start_time": "2021-07-19T20:34:49.392Z"
   },
   {
    "duration": 144,
    "start_time": "2021-07-19T20:36:26.593Z"
   },
   {
    "duration": 335,
    "start_time": "2021-07-19T20:37:02.628Z"
   },
   {
    "duration": 473,
    "start_time": "2021-07-19T20:37:37.169Z"
   },
   {
    "duration": 253,
    "start_time": "2021-07-19T20:37:45.581Z"
   },
   {
    "duration": 309,
    "start_time": "2021-07-19T20:41:50.092Z"
   },
   {
    "duration": 14,
    "start_time": "2021-07-19T20:50:09.110Z"
   },
   {
    "duration": 320,
    "start_time": "2021-07-19T20:50:41.809Z"
   },
   {
    "duration": 990,
    "start_time": "2021-07-19T20:54:13.910Z"
   },
   {
    "duration": 956,
    "start_time": "2021-07-19T20:54:39.796Z"
   },
   {
    "duration": 1088,
    "start_time": "2021-07-19T20:55:10.227Z"
   },
   {
    "duration": 1043,
    "start_time": "2021-07-19T20:59:30.690Z"
   },
   {
    "duration": 1041,
    "start_time": "2021-07-19T20:59:55.754Z"
   },
   {
    "duration": 1032,
    "start_time": "2021-07-19T21:00:06.233Z"
   },
   {
    "duration": 1086,
    "start_time": "2021-07-19T21:00:20.693Z"
   },
   {
    "duration": 1475,
    "start_time": "2021-07-20T09:38:26.794Z"
   },
   {
    "duration": 3723,
    "start_time": "2021-07-20T09:38:28.272Z"
   },
   {
    "duration": 489,
    "start_time": "2021-07-20T09:38:31.999Z"
   },
   {
    "duration": 3,
    "start_time": "2021-07-20T09:38:32.490Z"
   },
   {
    "duration": 63,
    "start_time": "2021-07-20T09:38:32.496Z"
   },
   {
    "duration": 13,
    "start_time": "2021-07-20T09:38:33.502Z"
   },
   {
    "duration": 21,
    "start_time": "2021-07-20T09:38:34.240Z"
   },
   {
    "duration": 26,
    "start_time": "2021-07-20T09:38:34.850Z"
   },
   {
    "duration": 15,
    "start_time": "2021-07-20T09:38:35.458Z"
   },
   {
    "duration": 7,
    "start_time": "2021-07-20T09:38:37.378Z"
   },
   {
    "duration": 10,
    "start_time": "2021-07-20T09:38:37.955Z"
   },
   {
    "duration": 12,
    "start_time": "2021-07-20T09:38:38.557Z"
   },
   {
    "duration": 791,
    "start_time": "2021-07-20T09:38:39.296Z"
   },
   {
    "duration": 7,
    "start_time": "2021-07-20T09:38:45.334Z"
   },
   {
    "duration": 9,
    "start_time": "2021-07-20T09:38:46.059Z"
   },
   {
    "duration": 512,
    "start_time": "2021-07-20T09:38:47.162Z"
   },
   {
    "duration": 39,
    "start_time": "2021-07-20T09:38:52.603Z"
   },
   {
    "duration": 6,
    "start_time": "2021-07-20T09:38:58.305Z"
   },
   {
    "duration": 14,
    "start_time": "2021-07-20T09:39:03.923Z"
   },
   {
    "duration": 16,
    "start_time": "2021-07-20T09:39:03.941Z"
   },
   {
    "duration": 197,
    "start_time": "2021-07-20T09:39:16.185Z"
   },
   {
    "duration": 532,
    "start_time": "2021-07-20T09:39:20.032Z"
   },
   {
    "duration": 203,
    "start_time": "2021-07-20T09:39:20.909Z"
   },
   {
    "duration": 20,
    "start_time": "2021-07-20T09:39:26.497Z"
   },
   {
    "duration": 15,
    "start_time": "2021-07-20T09:39:27.050Z"
   },
   {
    "duration": 10,
    "start_time": "2021-07-20T09:39:27.806Z"
   },
   {
    "duration": 533,
    "start_time": "2021-07-20T09:39:28.580Z"
   },
   {
    "duration": 8,
    "start_time": "2021-07-20T09:39:47.828Z"
   },
   {
    "duration": 551,
    "start_time": "2021-07-20T09:39:48.921Z"
   },
   {
    "duration": 10,
    "start_time": "2021-07-20T09:40:27.104Z"
   },
   {
    "duration": 16,
    "start_time": "2021-07-20T09:47:03.031Z"
   },
   {
    "duration": 7,
    "start_time": "2021-07-20T09:48:28.178Z"
   },
   {
    "duration": 21,
    "start_time": "2021-07-20T09:48:34.518Z"
   },
   {
    "duration": 19,
    "start_time": "2021-07-20T09:48:42.550Z"
   },
   {
    "duration": 7,
    "start_time": "2021-07-20T09:49:04.322Z"
   },
   {
    "duration": 17,
    "start_time": "2021-07-20T09:49:09.467Z"
   },
   {
    "duration": 7,
    "start_time": "2021-07-20T09:49:40.514Z"
   },
   {
    "duration": 420,
    "start_time": "2021-07-20T09:50:34.023Z"
   },
   {
    "duration": 10,
    "start_time": "2021-07-20T09:51:27.702Z"
   },
   {
    "duration": 584,
    "start_time": "2021-07-20T09:53:21.209Z"
   },
   {
    "duration": 294,
    "start_time": "2021-07-20T09:53:30.753Z"
   },
   {
    "duration": 274,
    "start_time": "2021-07-20T09:53:37.763Z"
   },
   {
    "duration": 653,
    "start_time": "2021-07-20T09:53:53.065Z"
   },
   {
    "duration": 627,
    "start_time": "2021-07-20T09:53:59.461Z"
   },
   {
    "duration": 496,
    "start_time": "2021-07-20T09:54:11.254Z"
   },
   {
    "duration": 392,
    "start_time": "2021-07-20T09:54:18.374Z"
   },
   {
    "duration": 382,
    "start_time": "2021-07-20T09:57:27.713Z"
   },
   {
    "duration": 11,
    "start_time": "2021-07-20T09:57:36.892Z"
   },
   {
    "duration": 6,
    "start_time": "2021-07-20T10:11:27.829Z"
   },
   {
    "duration": 372,
    "start_time": "2021-07-20T10:11:28.175Z"
   },
   {
    "duration": 11,
    "start_time": "2021-07-20T10:11:28.882Z"
   },
   {
    "duration": 14,
    "start_time": "2021-07-20T10:14:36.042Z"
   },
   {
    "duration": 12,
    "start_time": "2021-07-20T10:14:58.398Z"
   },
   {
    "duration": 15,
    "start_time": "2021-07-20T10:15:05.861Z"
   },
   {
    "duration": 744,
    "start_time": "2021-07-20T10:15:56.441Z"
   },
   {
    "duration": 764,
    "start_time": "2021-07-20T10:16:21.898Z"
   },
   {
    "duration": 12,
    "start_time": "2021-07-20T10:17:16.624Z"
   },
   {
    "duration": 17,
    "start_time": "2021-07-20T10:18:40.846Z"
   },
   {
    "duration": 22,
    "start_time": "2021-07-20T10:19:16.721Z"
   },
   {
    "duration": 21,
    "start_time": "2021-07-20T10:19:29.054Z"
   },
   {
    "duration": 18,
    "start_time": "2021-07-20T10:21:04.687Z"
   },
   {
    "duration": 19,
    "start_time": "2021-07-20T10:21:14.723Z"
   },
   {
    "duration": 11,
    "start_time": "2021-07-20T10:22:28.001Z"
   },
   {
    "duration": 328,
    "start_time": "2021-07-20T10:23:18.474Z"
   },
   {
    "duration": 299,
    "start_time": "2021-07-20T10:23:34.386Z"
   },
   {
    "duration": 18,
    "start_time": "2021-07-20T10:24:37.883Z"
   },
   {
    "duration": 23,
    "start_time": "2021-07-20T10:25:04.552Z"
   },
   {
    "duration": 29,
    "start_time": "2021-07-20T10:25:46.803Z"
   },
   {
    "duration": 917,
    "start_time": "2021-07-20T10:27:02.251Z"
   },
   {
    "duration": 880,
    "start_time": "2021-07-20T10:27:28.890Z"
   },
   {
    "duration": 758,
    "start_time": "2021-07-20T10:27:41.015Z"
   },
   {
    "duration": 795,
    "start_time": "2021-07-20T10:27:56.127Z"
   },
   {
    "duration": 738,
    "start_time": "2021-07-20T10:32:39.709Z"
   },
   {
    "duration": 737,
    "start_time": "2021-07-20T10:33:52.902Z"
   },
   {
    "duration": 724,
    "start_time": "2021-07-20T10:34:04.037Z"
   },
   {
    "duration": 798,
    "start_time": "2021-07-20T10:35:24.864Z"
   },
   {
    "duration": 728,
    "start_time": "2021-07-20T10:35:43.637Z"
   },
   {
    "duration": 768,
    "start_time": "2021-07-20T10:36:03.030Z"
   },
   {
    "duration": 1168,
    "start_time": "2021-07-20T10:37:39.104Z"
   },
   {
    "duration": 114,
    "start_time": "2021-07-20T10:38:05.990Z"
   },
   {
    "duration": 865,
    "start_time": "2021-07-20T10:38:06.942Z"
   },
   {
    "duration": 11,
    "start_time": "2021-07-20T10:38:23.787Z"
   },
   {
    "duration": 630,
    "start_time": "2021-07-20T10:38:29.433Z"
   },
   {
    "duration": 18,
    "start_time": "2021-07-20T10:40:15.017Z"
   },
   {
    "duration": 10,
    "start_time": "2021-07-20T10:40:30.091Z"
   },
   {
    "duration": 823,
    "start_time": "2021-07-20T10:40:30.777Z"
   },
   {
    "duration": 18,
    "start_time": "2021-07-20T10:41:43.989Z"
   },
   {
    "duration": 670,
    "start_time": "2021-07-20T10:42:13.910Z"
   },
   {
    "duration": 18,
    "start_time": "2021-07-20T10:43:03.694Z"
   },
   {
    "duration": 627,
    "start_time": "2021-07-20T10:43:05.037Z"
   },
   {
    "duration": 1389,
    "start_time": "2021-07-20T18:59:40.962Z"
   },
   {
    "duration": 3448,
    "start_time": "2021-07-20T18:59:42.353Z"
   },
   {
    "duration": 436,
    "start_time": "2021-07-20T18:59:45.804Z"
   },
   {
    "duration": 5,
    "start_time": "2021-07-20T18:59:46.242Z"
   },
   {
    "duration": 60,
    "start_time": "2021-07-20T18:59:46.250Z"
   },
   {
    "duration": 12,
    "start_time": "2021-07-20T18:59:46.312Z"
   },
   {
    "duration": 21,
    "start_time": "2021-07-20T18:59:46.456Z"
   },
   {
    "duration": 26,
    "start_time": "2021-07-20T18:59:47.234Z"
   },
   {
    "duration": 16,
    "start_time": "2021-07-20T18:59:47.887Z"
   },
   {
    "duration": 7,
    "start_time": "2021-07-20T18:59:49.795Z"
   },
   {
    "duration": 10,
    "start_time": "2021-07-20T18:59:50.468Z"
   },
   {
    "duration": 12,
    "start_time": "2021-07-20T18:59:51.079Z"
   },
   {
    "duration": 729,
    "start_time": "2021-07-20T18:59:51.830Z"
   },
   {
    "duration": 7,
    "start_time": "2021-07-20T18:59:57.767Z"
   },
   {
    "duration": 8,
    "start_time": "2021-07-20T18:59:58.462Z"
   },
   {
    "duration": 467,
    "start_time": "2021-07-20T18:59:59.658Z"
   },
   {
    "duration": 37,
    "start_time": "2021-07-20T19:00:23.470Z"
   },
   {
    "duration": 8,
    "start_time": "2021-07-20T19:00:27.352Z"
   },
   {
    "duration": 12,
    "start_time": "2021-07-20T19:00:28.147Z"
   },
   {
    "duration": 11,
    "start_time": "2021-07-20T19:00:28.805Z"
   },
   {
    "duration": 248,
    "start_time": "2021-07-20T19:00:29.577Z"
   },
   {
    "duration": 17,
    "start_time": "2021-07-20T19:00:31.564Z"
   },
   {
    "duration": 16,
    "start_time": "2021-07-20T19:00:32.158Z"
   },
   {
    "duration": 11,
    "start_time": "2021-07-20T19:00:32.770Z"
   },
   {
    "duration": 8,
    "start_time": "2021-07-20T19:00:33.981Z"
   },
   {
    "duration": 582,
    "start_time": "2021-07-20T19:00:34.565Z"
   },
   {
    "duration": 11,
    "start_time": "2021-07-20T19:00:35.323Z"
   },
   {
    "duration": 7,
    "start_time": "2021-07-20T19:00:36.682Z"
   },
   {
    "duration": 360,
    "start_time": "2021-07-20T19:00:37.318Z"
   },
   {
    "duration": 11,
    "start_time": "2021-07-20T19:00:38.703Z"
   },
   {
    "duration": 17,
    "start_time": "2021-07-20T19:00:41.489Z"
   },
   {
    "duration": 581,
    "start_time": "2021-07-20T19:00:42.127Z"
   },
   {
    "duration": 20,
    "start_time": "2021-07-20T19:01:14.685Z"
   },
   {
    "duration": 13,
    "start_time": "2021-07-20T19:01:59.755Z"
   },
   {
    "duration": 23,
    "start_time": "2021-07-20T19:03:09.985Z"
   },
   {
    "duration": 4,
    "start_time": "2021-07-20T19:37:05.141Z"
   },
   {
    "duration": 3336,
    "start_time": "2021-07-20T19:37:07.171Z"
   },
   {
    "duration": 4,
    "start_time": "2021-07-20T19:37:10.510Z"
   },
   {
    "duration": 7,
    "start_time": "2021-07-20T19:37:10.517Z"
   },
   {
    "duration": 69,
    "start_time": "2021-07-20T19:37:10.527Z"
   },
   {
    "duration": 14,
    "start_time": "2021-07-20T19:37:10.598Z"
   },
   {
    "duration": 17,
    "start_time": "2021-07-20T19:37:10.615Z"
   },
   {
    "duration": 51,
    "start_time": "2021-07-20T19:37:10.635Z"
   },
   {
    "duration": 17,
    "start_time": "2021-07-20T19:37:10.690Z"
   },
   {
    "duration": 8,
    "start_time": "2021-07-20T19:37:10.711Z"
   },
   {
    "duration": 54,
    "start_time": "2021-07-20T19:37:10.722Z"
   },
   {
    "duration": 13,
    "start_time": "2021-07-20T19:37:10.779Z"
   },
   {
    "duration": 253,
    "start_time": "2021-07-20T19:37:10.794Z"
   },
   {
    "duration": 7,
    "start_time": "2021-07-20T19:37:11.050Z"
   },
   {
    "duration": 16,
    "start_time": "2021-07-20T19:37:11.061Z"
   },
   {
    "duration": 647,
    "start_time": "2021-07-20T19:37:11.816Z"
   },
   {
    "duration": 57,
    "start_time": "2021-07-20T19:37:12.466Z"
   },
   {
    "duration": 10,
    "start_time": "2021-07-20T19:37:14.557Z"
   },
   {
    "duration": 14,
    "start_time": "2021-07-20T19:37:15.396Z"
   },
   {
    "duration": 13,
    "start_time": "2021-07-20T19:37:16.048Z"
   },
   {
    "duration": 279,
    "start_time": "2021-07-20T19:37:16.598Z"
   },
   {
    "duration": 17,
    "start_time": "2021-07-20T19:37:18.116Z"
   },
   {
    "duration": 14,
    "start_time": "2021-07-20T19:37:18.519Z"
   },
   {
    "duration": 11,
    "start_time": "2021-07-20T19:37:18.977Z"
   },
   {
    "duration": 7,
    "start_time": "2021-07-20T19:37:19.916Z"
   },
   {
    "duration": 587,
    "start_time": "2021-07-20T19:37:20.378Z"
   },
   {
    "duration": 13,
    "start_time": "2021-07-20T19:37:20.968Z"
   },
   {
    "duration": 8,
    "start_time": "2021-07-20T19:37:21.742Z"
   },
   {
    "duration": 410,
    "start_time": "2021-07-20T19:37:22.136Z"
   },
   {
    "duration": 19,
    "start_time": "2021-07-20T19:37:22.556Z"
   },
   {
    "duration": 24,
    "start_time": "2021-07-20T19:37:25.357Z"
   },
   {
    "duration": 612,
    "start_time": "2021-07-20T19:37:25.967Z"
   },
   {
    "duration": 25,
    "start_time": "2021-07-20T19:37:30.268Z"
   },
   {
    "duration": 4,
    "start_time": "2021-07-20T20:31:38.372Z"
   },
   {
    "duration": 3208,
    "start_time": "2021-07-20T20:31:38.914Z"
   },
   {
    "duration": 4,
    "start_time": "2021-07-20T20:31:42.125Z"
   },
   {
    "duration": 9,
    "start_time": "2021-07-20T20:31:42.132Z"
   },
   {
    "duration": 70,
    "start_time": "2021-07-20T20:31:42.144Z"
   },
   {
    "duration": 12,
    "start_time": "2021-07-20T20:31:42.217Z"
   },
   {
    "duration": 28,
    "start_time": "2021-07-20T20:31:42.232Z"
   },
   {
    "duration": 25,
    "start_time": "2021-07-20T20:31:42.368Z"
   },
   {
    "duration": 16,
    "start_time": "2021-07-20T20:31:42.917Z"
   },
   {
    "duration": 6,
    "start_time": "2021-07-20T20:31:44.419Z"
   },
   {
    "duration": 9,
    "start_time": "2021-07-20T20:31:44.933Z"
   },
   {
    "duration": 11,
    "start_time": "2021-07-20T20:31:45.412Z"
   },
   {
    "duration": 215,
    "start_time": "2021-07-20T20:31:46.051Z"
   },
   {
    "duration": 8,
    "start_time": "2021-07-20T20:31:47.233Z"
   },
   {
    "duration": 13,
    "start_time": "2021-07-20T20:31:48.960Z"
   },
   {
    "duration": 581,
    "start_time": "2021-07-20T20:31:52.262Z"
   },
   {
    "duration": 32,
    "start_time": "2021-07-20T20:31:54.819Z"
   },
   {
    "duration": 8,
    "start_time": "2021-07-20T20:31:58.465Z"
   },
   {
    "duration": 13,
    "start_time": "2021-07-20T20:31:59.037Z"
   },
   {
    "duration": 11,
    "start_time": "2021-07-20T20:31:59.610Z"
   },
   {
    "duration": 281,
    "start_time": "2021-07-20T20:32:00.289Z"
   },
   {
    "duration": 19,
    "start_time": "2021-07-20T20:32:01.905Z"
   },
   {
    "duration": 15,
    "start_time": "2021-07-20T20:32:02.421Z"
   },
   {
    "duration": 11,
    "start_time": "2021-07-20T20:32:02.995Z"
   },
   {
    "duration": 7,
    "start_time": "2021-07-20T20:32:04.347Z"
   },
   {
    "duration": 639,
    "start_time": "2021-07-20T20:32:04.938Z"
   },
   {
    "duration": 10,
    "start_time": "2021-07-20T20:32:06.805Z"
   },
   {
    "duration": 7,
    "start_time": "2021-07-20T20:32:08.238Z"
   },
   {
    "duration": 386,
    "start_time": "2021-07-20T20:32:08.952Z"
   },
   {
    "duration": 17,
    "start_time": "2021-07-20T20:32:09.653Z"
   },
   {
    "duration": 17,
    "start_time": "2021-07-20T20:32:11.776Z"
   },
   {
    "duration": 623,
    "start_time": "2021-07-20T20:32:12.628Z"
   },
   {
    "duration": 24,
    "start_time": "2021-07-20T20:32:18.377Z"
   },
   {
    "duration": 5,
    "start_time": "2021-07-20T20:32:45.070Z"
   },
   {
    "duration": 1584,
    "start_time": "2021-07-20T20:33:17.294Z"
   },
   {
    "duration": 4,
    "start_time": "2021-07-20T20:33:38.708Z"
   },
   {
    "duration": 1359,
    "start_time": "2021-07-20T20:33:39.571Z"
   },
   {
    "duration": 106,
    "start_time": "2021-07-20T20:36:19.358Z"
   },
   {
    "duration": 107,
    "start_time": "2021-07-20T20:37:16.879Z"
   },
   {
    "duration": 81,
    "start_time": "2021-07-20T20:38:59.557Z"
   },
   {
    "duration": 1721,
    "start_time": "2021-07-21T10:50:28.605Z"
   },
   {
    "duration": 3409,
    "start_time": "2021-07-21T10:50:31.209Z"
   },
   {
    "duration": 484,
    "start_time": "2021-07-21T10:50:34.646Z"
   },
   {
    "duration": 4,
    "start_time": "2021-07-21T10:50:35.809Z"
   },
   {
    "duration": 57,
    "start_time": "2021-07-21T10:50:36.837Z"
   },
   {
    "duration": 14,
    "start_time": "2021-07-21T10:50:37.639Z"
   },
   {
    "duration": 23,
    "start_time": "2021-07-21T10:50:38.401Z"
   },
   {
    "duration": 25,
    "start_time": "2021-07-21T10:50:39.250Z"
   },
   {
    "duration": 17,
    "start_time": "2021-07-21T10:50:39.972Z"
   },
   {
    "duration": 6,
    "start_time": "2021-07-21T10:50:41.876Z"
   },
   {
    "duration": 9,
    "start_time": "2021-07-21T10:50:42.567Z"
   },
   {
    "duration": 12,
    "start_time": "2021-07-21T10:50:43.275Z"
   },
   {
    "duration": 695,
    "start_time": "2021-07-21T10:50:43.901Z"
   },
   {
    "duration": 7,
    "start_time": "2021-07-21T10:50:45.305Z"
   },
   {
    "duration": 9,
    "start_time": "2021-07-21T10:50:46.028Z"
   },
   {
    "duration": 457,
    "start_time": "2021-07-21T10:50:47.919Z"
   },
   {
    "duration": 37,
    "start_time": "2021-07-21T10:50:51.714Z"
   },
   {
    "duration": 7,
    "start_time": "2021-07-21T10:50:55.605Z"
   },
   {
    "duration": 15,
    "start_time": "2021-07-21T10:50:56.357Z"
   },
   {
    "duration": 11,
    "start_time": "2021-07-21T10:50:56.993Z"
   },
   {
    "duration": 255,
    "start_time": "2021-07-21T10:50:57.658Z"
   },
   {
    "duration": 17,
    "start_time": "2021-07-21T10:50:59.622Z"
   },
   {
    "duration": 14,
    "start_time": "2021-07-21T10:51:00.216Z"
   },
   {
    "duration": 10,
    "start_time": "2021-07-21T10:51:00.762Z"
   },
   {
    "duration": 8,
    "start_time": "2021-07-21T10:51:01.856Z"
   },
   {
    "duration": 599,
    "start_time": "2021-07-21T10:51:02.435Z"
   },
   {
    "duration": 10,
    "start_time": "2021-07-21T10:51:03.159Z"
   },
   {
    "duration": 7,
    "start_time": "2021-07-21T10:51:04.570Z"
   },
   {
    "duration": 373,
    "start_time": "2021-07-21T10:51:05.149Z"
   },
   {
    "duration": 10,
    "start_time": "2021-07-21T10:51:05.718Z"
   },
   {
    "duration": 16,
    "start_time": "2021-07-21T10:51:07.415Z"
   },
   {
    "duration": 618,
    "start_time": "2021-07-21T10:51:08.029Z"
   },
   {
    "duration": 23,
    "start_time": "2021-07-21T10:51:09.667Z"
   },
   {
    "duration": 5,
    "start_time": "2021-07-21T10:51:10.321Z"
   },
   {
    "duration": 89,
    "start_time": "2021-07-21T10:51:11.051Z"
   },
   {
    "duration": 1471,
    "start_time": "2021-07-21T10:51:12.472Z"
   },
   {
    "duration": 42,
    "start_time": "2021-07-21T10:51:34.309Z"
   },
   {
    "duration": 22,
    "start_time": "2021-07-21T10:51:40.351Z"
   },
   {
    "duration": 19,
    "start_time": "2021-07-21T10:57:00.577Z"
   },
   {
    "duration": 12,
    "start_time": "2021-07-21T11:01:04.046Z"
   },
   {
    "duration": 16,
    "start_time": "2021-07-21T11:01:38.523Z"
   },
   {
    "duration": 13,
    "start_time": "2021-07-21T11:02:00.494Z"
   },
   {
    "duration": 7,
    "start_time": "2021-07-21T11:03:02.037Z"
   },
   {
    "duration": 13,
    "start_time": "2021-07-21T11:03:18.054Z"
   },
   {
    "duration": 22,
    "start_time": "2021-07-21T11:03:35.572Z"
   },
   {
    "duration": 771,
    "start_time": "2021-07-21T11:06:46.845Z"
   },
   {
    "duration": 20,
    "start_time": "2021-07-21T11:06:59.657Z"
   },
   {
    "duration": 18,
    "start_time": "2021-07-21T11:07:21.152Z"
   },
   {
    "duration": 15,
    "start_time": "2021-07-21T11:08:40.046Z"
   },
   {
    "duration": 99,
    "start_time": "2021-07-21T11:09:03.559Z"
   },
   {
    "duration": 91,
    "start_time": "2021-07-21T11:09:16.166Z"
   },
   {
    "duration": 19,
    "start_time": "2021-07-21T11:09:31.217Z"
   },
   {
    "duration": 87,
    "start_time": "2021-07-21T11:09:43.591Z"
   },
   {
    "duration": 19,
    "start_time": "2021-07-21T11:09:49.808Z"
   },
   {
    "duration": 20,
    "start_time": "2021-07-21T11:10:32.804Z"
   },
   {
    "duration": 720,
    "start_time": "2021-07-21T11:11:52.746Z"
   },
   {
    "duration": 557,
    "start_time": "2021-07-21T11:12:12.278Z"
   },
   {
    "duration": 283,
    "start_time": "2021-07-21T11:45:44.276Z"
   },
   {
    "duration": 124,
    "start_time": "2021-07-21T11:46:12.692Z"
   },
   {
    "duration": 2961,
    "start_time": "2021-07-21T11:46:13.715Z"
   },
   {
    "duration": 4,
    "start_time": "2021-07-21T11:46:16.679Z"
   },
   {
    "duration": 6,
    "start_time": "2021-07-21T11:46:16.686Z"
   },
   {
    "duration": 58,
    "start_time": "2021-07-21T11:46:16.753Z"
   },
   {
    "duration": 13,
    "start_time": "2021-07-21T11:46:17.616Z"
   },
   {
    "duration": 18,
    "start_time": "2021-07-21T11:46:18.343Z"
   },
   {
    "duration": 26,
    "start_time": "2021-07-21T11:46:19.169Z"
   },
   {
    "duration": 16,
    "start_time": "2021-07-21T11:46:19.818Z"
   },
   {
    "duration": 8,
    "start_time": "2021-07-21T11:46:21.593Z"
   },
   {
    "duration": 11,
    "start_time": "2021-07-21T11:46:22.194Z"
   },
   {
    "duration": 12,
    "start_time": "2021-07-21T11:46:22.724Z"
   },
   {
    "duration": 337,
    "start_time": "2021-07-21T11:46:23.418Z"
   },
   {
    "duration": 6,
    "start_time": "2021-07-21T11:46:24.742Z"
   },
   {
    "duration": 8,
    "start_time": "2021-07-21T11:46:25.338Z"
   },
   {
    "duration": 352,
    "start_time": "2021-07-21T11:46:25.918Z"
   },
   {
    "duration": 47,
    "start_time": "2021-07-21T11:46:27.196Z"
   },
   {
    "duration": 10,
    "start_time": "2021-07-21T11:46:34.391Z"
   },
   {
    "duration": 15,
    "start_time": "2021-07-21T11:46:34.404Z"
   },
   {
    "duration": 10,
    "start_time": "2021-07-21T11:46:34.422Z"
   },
   {
    "duration": 274,
    "start_time": "2021-07-21T11:46:34.435Z"
   },
   {
    "duration": 17,
    "start_time": "2021-07-21T11:46:34.712Z"
   },
   {
    "duration": 26,
    "start_time": "2021-07-21T11:46:34.732Z"
   },
   {
    "duration": 10,
    "start_time": "2021-07-21T11:46:34.760Z"
   },
   {
    "duration": 8,
    "start_time": "2021-07-21T11:46:35.020Z"
   },
   {
    "duration": 522,
    "start_time": "2021-07-21T11:46:35.469Z"
   },
   {
    "duration": 11,
    "start_time": "2021-07-21T11:46:35.993Z"
   },
   {
    "duration": 7,
    "start_time": "2021-07-21T11:46:36.740Z"
   },
   {
    "duration": 365,
    "start_time": "2021-07-21T11:46:37.233Z"
   },
   {
    "duration": 11,
    "start_time": "2021-07-21T11:46:37.745Z"
   },
   {
    "duration": 17,
    "start_time": "2021-07-21T11:46:39.492Z"
   },
   {
    "duration": 619,
    "start_time": "2021-07-21T11:46:40.057Z"
   },
   {
    "duration": 231,
    "start_time": "2021-07-21T11:46:41.754Z"
   },
   {
    "duration": 13,
    "start_time": "2021-07-21T11:46:42.333Z"
   },
   {
    "duration": 24,
    "start_time": "2021-07-21T11:46:42.908Z"
   },
   {
    "duration": 12,
    "start_time": "2021-07-21T11:46:43.518Z"
   },
   {
    "duration": 20,
    "start_time": "2021-07-21T11:46:44.087Z"
   },
   {
    "duration": 22,
    "start_time": "2021-07-21T11:46:44.681Z"
   },
   {
    "duration": 36,
    "start_time": "2021-07-21T11:46:45.813Z"
   },
   {
    "duration": 853,
    "start_time": "2021-07-21T11:46:46.428Z"
   },
   {
    "duration": 940,
    "start_time": "2021-07-21T11:46:47.566Z"
   },
   {
    "duration": 5,
    "start_time": "2021-07-21T11:47:14.800Z"
   },
   {
    "duration": 2882,
    "start_time": "2021-07-21T11:47:15.525Z"
   },
   {
    "duration": 5,
    "start_time": "2021-07-21T11:47:18.411Z"
   },
   {
    "duration": 7,
    "start_time": "2021-07-21T11:47:18.420Z"
   },
   {
    "duration": 63,
    "start_time": "2021-07-21T11:47:18.430Z"
   },
   {
    "duration": 14,
    "start_time": "2021-07-21T11:47:18.496Z"
   },
   {
    "duration": 43,
    "start_time": "2021-07-21T11:47:18.513Z"
   },
   {
    "duration": 28,
    "start_time": "2021-07-21T11:47:18.558Z"
   },
   {
    "duration": 15,
    "start_time": "2021-07-21T11:47:18.590Z"
   },
   {
    "duration": 11,
    "start_time": "2021-07-21T11:47:18.608Z"
   },
   {
    "duration": 44,
    "start_time": "2021-07-21T11:47:18.622Z"
   },
   {
    "duration": 12,
    "start_time": "2021-07-21T11:47:18.668Z"
   },
   {
    "duration": 216,
    "start_time": "2021-07-21T11:47:18.686Z"
   },
   {
    "duration": 7,
    "start_time": "2021-07-21T11:47:19.153Z"
   },
   {
    "duration": 8,
    "start_time": "2021-07-21T11:47:19.347Z"
   },
   {
    "duration": 351,
    "start_time": "2021-07-21T11:47:19.562Z"
   },
   {
    "duration": 32,
    "start_time": "2021-07-21T11:47:19.966Z"
   },
   {
    "duration": 7,
    "start_time": "2021-07-21T11:47:20.846Z"
   },
   {
    "duration": 15,
    "start_time": "2021-07-21T11:47:21.080Z"
   },
   {
    "duration": 11,
    "start_time": "2021-07-21T11:47:21.320Z"
   },
   {
    "duration": 252,
    "start_time": "2021-07-21T11:47:21.549Z"
   },
   {
    "duration": 19,
    "start_time": "2021-07-21T11:47:22.305Z"
   },
   {
    "duration": 15,
    "start_time": "2021-07-21T11:47:22.500Z"
   },
   {
    "duration": 10,
    "start_time": "2021-07-21T11:47:22.711Z"
   },
   {
    "duration": 8,
    "start_time": "2021-07-21T11:47:23.130Z"
   },
   {
    "duration": 482,
    "start_time": "2021-07-21T11:47:23.348Z"
   },
   {
    "duration": 22,
    "start_time": "2021-07-21T11:47:23.833Z"
   },
   {
    "duration": 8,
    "start_time": "2021-07-21T11:47:24.017Z"
   },
   {
    "duration": 359,
    "start_time": "2021-07-21T11:47:24.251Z"
   },
   {
    "duration": 11,
    "start_time": "2021-07-21T11:47:24.612Z"
   },
   {
    "duration": 16,
    "start_time": "2021-07-21T11:47:25.116Z"
   },
   {
    "duration": 605,
    "start_time": "2021-07-21T11:47:25.368Z"
   },
   {
    "duration": 214,
    "start_time": "2021-07-21T11:47:26.173Z"
   },
   {
    "duration": 18,
    "start_time": "2021-07-21T11:47:26.390Z"
   },
   {
    "duration": 17,
    "start_time": "2021-07-21T11:47:26.611Z"
   },
   {
    "duration": 8,
    "start_time": "2021-07-21T11:47:26.866Z"
   },
   {
    "duration": 13,
    "start_time": "2021-07-21T11:47:27.111Z"
   },
   {
    "duration": 14,
    "start_time": "2021-07-21T11:47:27.337Z"
   },
   {
    "duration": 23,
    "start_time": "2021-07-21T11:47:27.803Z"
   },
   {
    "duration": 552,
    "start_time": "2021-07-21T11:47:28.071Z"
   },
   {
    "duration": 435,
    "start_time": "2021-07-21T11:47:29.183Z"
   },
   {
    "duration": 16,
    "start_time": "2021-07-21T11:47:47.211Z"
   },
   {
    "duration": 17,
    "start_time": "2021-07-21T11:52:49.277Z"
   },
   {
    "duration": 11,
    "start_time": "2021-07-21T11:55:53.811Z"
   },
   {
    "duration": 19,
    "start_time": "2021-07-21T11:56:03.050Z"
   },
   {
    "duration": 326,
    "start_time": "2021-07-21T11:57:25.045Z"
   },
   {
    "duration": 20,
    "start_time": "2021-07-21T11:57:25.854Z"
   },
   {
    "duration": 88,
    "start_time": "2021-07-21T11:57:49.729Z"
   },
   {
    "duration": 20,
    "start_time": "2021-07-21T11:57:52.347Z"
   },
   {
    "duration": 10,
    "start_time": "2021-07-21T11:58:00.391Z"
   },
   {
    "duration": 286,
    "start_time": "2021-07-21T12:04:25.716Z"
   },
   {
    "duration": 11,
    "start_time": "2021-07-21T12:05:29.836Z"
   },
   {
    "duration": 10,
    "start_time": "2021-07-21T12:05:32.509Z"
   },
   {
    "duration": 286,
    "start_time": "2021-07-21T12:05:33.810Z"
   },
   {
    "duration": 7,
    "start_time": "2021-07-21T12:07:56.374Z"
   },
   {
    "duration": 6,
    "start_time": "2021-07-21T12:08:05.402Z"
   },
   {
    "duration": 19,
    "start_time": "2021-07-21T12:08:19.581Z"
   },
   {
    "duration": 7,
    "start_time": "2021-07-21T12:12:12.595Z"
   },
   {
    "duration": 19,
    "start_time": "2021-07-21T12:12:26.616Z"
   },
   {
    "duration": 7,
    "start_time": "2021-07-21T12:12:27.564Z"
   },
   {
    "duration": 308,
    "start_time": "2021-07-21T12:14:06.293Z"
   },
   {
    "duration": 6,
    "start_time": "2021-07-21T12:15:49.211Z"
   },
   {
    "duration": 6884,
    "start_time": "2021-07-21T12:16:37.076Z"
   },
   {
    "duration": 13,
    "start_time": "2021-07-21T12:16:48.555Z"
   },
   {
    "duration": 6,
    "start_time": "2021-07-21T12:17:59.574Z"
   },
   {
    "duration": 7,
    "start_time": "2021-07-21T12:18:09.625Z"
   },
   {
    "duration": 7,
    "start_time": "2021-07-21T12:18:30.400Z"
   },
   {
    "duration": 5,
    "start_time": "2021-07-21T12:19:17.713Z"
   },
   {
    "duration": 14,
    "start_time": "2021-07-21T12:19:50.379Z"
   },
   {
    "duration": 3568,
    "start_time": "2021-07-21T12:22:52.708Z"
   },
   {
    "duration": 267,
    "start_time": "2021-07-21T12:23:28.710Z"
   },
   {
    "duration": 2908,
    "start_time": "2021-07-21T12:23:41.788Z"
   },
   {
    "duration": 2807,
    "start_time": "2021-07-21T12:24:33.502Z"
   },
   {
    "duration": 4369,
    "start_time": "2021-07-21T12:29:00.537Z"
   },
   {
    "duration": 768,
    "start_time": "2021-07-21T12:29:07.252Z"
   },
   {
    "duration": 4,
    "start_time": "2021-07-21T12:29:22.897Z"
   },
   {
    "duration": 1602,
    "start_time": "2021-07-21T16:30:39.249Z"
   },
   {
    "duration": 404,
    "start_time": "2021-07-21T16:30:48.255Z"
   },
   {
    "duration": 92,
    "start_time": "2021-07-21T16:36:07.040Z"
   },
   {
    "duration": 16511,
    "start_time": "2021-07-21T16:36:38.845Z"
   },
   {
    "duration": 4,
    "start_time": "2021-07-21T16:37:06.091Z"
   },
   {
    "duration": 3796,
    "start_time": "2021-07-21T16:37:07.782Z"
   },
   {
    "duration": 4821,
    "start_time": "2021-07-21T16:37:11.582Z"
   },
   {
    "duration": 743,
    "start_time": "2021-07-21T16:37:16.406Z"
   },
   {
    "duration": 3117,
    "start_time": "2021-07-21T16:37:17.156Z"
   },
   {
    "duration": 440,
    "start_time": "2021-07-21T16:37:20.276Z"
   },
   {
    "duration": 4,
    "start_time": "2021-07-21T16:37:20.718Z"
   },
   {
    "duration": 2876,
    "start_time": "2021-07-21T16:37:20.724Z"
   },
   {
    "duration": 57,
    "start_time": "2021-07-21T16:37:25.466Z"
   },
   {
    "duration": 14,
    "start_time": "2021-07-21T16:37:26.176Z"
   },
   {
    "duration": 21,
    "start_time": "2021-07-21T16:37:26.942Z"
   },
   {
    "duration": 25,
    "start_time": "2021-07-21T16:37:27.440Z"
   },
   {
    "duration": 15,
    "start_time": "2021-07-21T16:37:28.054Z"
   },
   {
    "duration": 6,
    "start_time": "2021-07-21T16:37:29.480Z"
   },
   {
    "duration": 9,
    "start_time": "2021-07-21T16:37:29.902Z"
   },
   {
    "duration": 11,
    "start_time": "2021-07-21T16:37:30.428Z"
   },
   {
    "duration": 740,
    "start_time": "2021-07-21T16:37:31.200Z"
   },
   {
    "duration": 7,
    "start_time": "2021-07-21T16:37:32.301Z"
   },
   {
    "duration": 8,
    "start_time": "2021-07-21T16:37:32.786Z"
   },
   {
    "duration": 490,
    "start_time": "2021-07-21T16:37:33.248Z"
   },
   {
    "duration": 38,
    "start_time": "2021-07-21T16:37:35.182Z"
   },
   {
    "duration": 7,
    "start_time": "2021-07-21T16:37:38.321Z"
   },
   {
    "duration": 13,
    "start_time": "2021-07-21T16:37:38.877Z"
   },
   {
    "duration": 11,
    "start_time": "2021-07-21T16:37:39.416Z"
   },
   {
    "duration": 253,
    "start_time": "2021-07-21T16:37:39.938Z"
   },
   {
    "duration": 17,
    "start_time": "2021-07-21T16:37:41.439Z"
   },
   {
    "duration": 15,
    "start_time": "2021-07-21T16:37:41.993Z"
   },
   {
    "duration": 11,
    "start_time": "2021-07-21T16:37:42.439Z"
   },
   {
    "duration": 7,
    "start_time": "2021-07-21T16:37:43.050Z"
   },
   {
    "duration": 476,
    "start_time": "2021-07-21T16:37:43.663Z"
   },
   {
    "duration": 11,
    "start_time": "2021-07-21T16:37:44.268Z"
   },
   {
    "duration": 6,
    "start_time": "2021-07-21T16:37:45.343Z"
   },
   {
    "duration": 353,
    "start_time": "2021-07-21T16:37:45.791Z"
   },
   {
    "duration": 12,
    "start_time": "2021-07-21T16:37:46.213Z"
   },
   {
    "duration": 16,
    "start_time": "2021-07-21T16:37:47.584Z"
   },
   {
    "duration": 676,
    "start_time": "2021-07-21T16:37:48.117Z"
   },
   {
    "duration": 47,
    "start_time": "2021-07-21T16:37:49.531Z"
   },
   {
    "duration": 16,
    "start_time": "2021-07-21T16:37:50.039Z"
   },
   {
    "duration": 16,
    "start_time": "2021-07-21T16:37:50.574Z"
   },
   {
    "duration": 8,
    "start_time": "2021-07-21T16:37:51.098Z"
   },
   {
    "duration": 12,
    "start_time": "2021-07-21T16:37:51.620Z"
   },
   {
    "duration": 14,
    "start_time": "2021-07-21T16:37:52.161Z"
   },
   {
    "duration": 24,
    "start_time": "2021-07-21T16:37:53.147Z"
   },
   {
    "duration": 670,
    "start_time": "2021-07-21T16:37:53.961Z"
   },
   {
    "duration": 521,
    "start_time": "2021-07-21T16:37:55.467Z"
   },
   {
    "duration": 12,
    "start_time": "2021-07-21T16:37:56.654Z"
   },
   {
    "duration": 11,
    "start_time": "2021-07-21T16:37:57.545Z"
   },
   {
    "duration": 14,
    "start_time": "2021-07-21T16:37:58.251Z"
   },
   {
    "duration": 12,
    "start_time": "2021-07-21T16:37:58.911Z"
   },
   {
    "duration": 7,
    "start_time": "2021-07-21T16:37:59.495Z"
   },
   {
    "duration": 6,
    "start_time": "2021-07-21T16:38:00.442Z"
   },
   {
    "duration": 395,
    "start_time": "2021-07-21T16:39:07.634Z"
   },
   {
    "duration": 289,
    "start_time": "2021-07-21T16:40:02.449Z"
   },
   {
    "duration": 3,
    "start_time": "2021-07-21T16:44:40.310Z"
   },
   {
    "duration": 4,
    "start_time": "2021-07-21T16:44:44.444Z"
   },
   {
    "duration": 5610,
    "start_time": "2021-07-21T16:44:44.928Z"
   },
   {
    "duration": 3372,
    "start_time": "2021-07-21T16:44:50.541Z"
   },
   {
    "duration": 4,
    "start_time": "2021-07-21T16:44:53.916Z"
   },
   {
    "duration": 3128,
    "start_time": "2021-07-21T16:44:53.923Z"
   },
   {
    "duration": 4,
    "start_time": "2021-07-21T16:44:57.054Z"
   },
   {
    "duration": 8,
    "start_time": "2021-07-21T16:44:57.060Z"
   },
   {
    "duration": 7,
    "start_time": "2021-07-21T16:44:57.070Z"
   },
   {
    "duration": 3,
    "start_time": "2021-07-21T16:44:58.294Z"
   },
   {
    "duration": 63,
    "start_time": "2021-07-21T16:44:59.650Z"
   },
   {
    "duration": 14,
    "start_time": "2021-07-21T16:45:00.410Z"
   },
   {
    "duration": 18,
    "start_time": "2021-07-21T16:45:00.947Z"
   },
   {
    "duration": 37,
    "start_time": "2021-07-21T16:45:01.501Z"
   },
   {
    "duration": 19,
    "start_time": "2021-07-21T16:45:02.077Z"
   },
   {
    "duration": 7,
    "start_time": "2021-07-21T16:45:03.505Z"
   },
   {
    "duration": 10,
    "start_time": "2021-07-21T16:45:03.830Z"
   },
   {
    "duration": 11,
    "start_time": "2021-07-21T16:45:04.159Z"
   },
   {
    "duration": 187,
    "start_time": "2021-07-21T16:45:04.388Z"
   },
   {
    "duration": 8,
    "start_time": "2021-07-21T16:45:04.986Z"
   },
   {
    "duration": 9,
    "start_time": "2021-07-21T16:45:05.287Z"
   },
   {
    "duration": 551,
    "start_time": "2021-07-21T16:45:05.594Z"
   },
   {
    "duration": 33,
    "start_time": "2021-07-21T16:45:06.159Z"
   },
   {
    "duration": 7,
    "start_time": "2021-07-21T16:45:07.309Z"
   },
   {
    "duration": 13,
    "start_time": "2021-07-21T16:45:07.583Z"
   },
   {
    "duration": 11,
    "start_time": "2021-07-21T16:45:07.870Z"
   },
   {
    "duration": 266,
    "start_time": "2021-07-21T16:45:08.145Z"
   },
   {
    "duration": 20,
    "start_time": "2021-07-21T16:45:08.956Z"
   },
   {
    "duration": 17,
    "start_time": "2021-07-21T16:45:09.270Z"
   },
   {
    "duration": 12,
    "start_time": "2021-07-21T16:45:09.498Z"
   },
   {
    "duration": 8,
    "start_time": "2021-07-21T16:45:10.361Z"
   },
   {
    "duration": 511,
    "start_time": "2021-07-21T16:45:10.634Z"
   },
   {
    "duration": 17,
    "start_time": "2021-07-21T16:45:11.148Z"
   },
   {
    "duration": 7,
    "start_time": "2021-07-21T16:45:11.540Z"
   },
   {
    "duration": 381,
    "start_time": "2021-07-21T16:45:11.814Z"
   },
   {
    "duration": 10,
    "start_time": "2021-07-21T16:45:12.198Z"
   },
   {
    "duration": 17,
    "start_time": "2021-07-21T16:45:12.885Z"
   },
   {
    "duration": 597,
    "start_time": "2021-07-21T16:45:13.176Z"
   },
   {
    "duration": 47,
    "start_time": "2021-07-21T16:45:13.991Z"
   },
   {
    "duration": 17,
    "start_time": "2021-07-21T16:45:14.341Z"
   },
   {
    "duration": 17,
    "start_time": "2021-07-21T16:45:14.722Z"
   },
   {
    "duration": 8,
    "start_time": "2021-07-21T16:45:16.308Z"
   },
   {
    "duration": 17,
    "start_time": "2021-07-21T16:45:16.318Z"
   },
   {
    "duration": 14,
    "start_time": "2021-07-21T16:45:16.339Z"
   },
   {
    "duration": 23,
    "start_time": "2021-07-21T16:45:16.644Z"
   },
   {
    "duration": 595,
    "start_time": "2021-07-21T16:45:17.002Z"
   },
   {
    "duration": 571,
    "start_time": "2021-07-21T16:45:17.699Z"
   },
   {
    "duration": 11,
    "start_time": "2021-07-21T16:45:18.273Z"
   },
   {
    "duration": 11,
    "start_time": "2021-07-21T16:45:18.302Z"
   },
   {
    "duration": 14,
    "start_time": "2021-07-21T16:45:18.674Z"
   },
   {
    "duration": 13,
    "start_time": "2021-07-21T16:45:18.970Z"
   },
   {
    "duration": 6,
    "start_time": "2021-07-21T16:45:19.299Z"
   },
   {
    "duration": 5,
    "start_time": "2021-07-21T16:45:19.626Z"
   },
   {
    "duration": 282,
    "start_time": "2021-07-21T16:45:20.014Z"
   },
   {
    "duration": 277,
    "start_time": "2021-07-21T16:47:00.475Z"
   },
   {
    "duration": 4,
    "start_time": "2021-07-21T16:47:20.671Z"
   },
   {
    "duration": 2982,
    "start_time": "2021-07-21T16:47:21.447Z"
   },
   {
    "duration": 3046,
    "start_time": "2021-07-21T16:47:24.432Z"
   },
   {
    "duration": 4,
    "start_time": "2021-07-21T16:47:27.481Z"
   },
   {
    "duration": 3967,
    "start_time": "2021-07-21T16:47:27.487Z"
   },
   {
    "duration": 5,
    "start_time": "2021-07-21T16:47:32.578Z"
   },
   {
    "duration": 4,
    "start_time": "2021-07-21T16:47:33.453Z"
   },
   {
    "duration": 3,
    "start_time": "2021-07-21T16:47:34.115Z"
   },
   {
    "duration": 4,
    "start_time": "2021-07-21T16:47:34.692Z"
   },
   {
    "duration": 63,
    "start_time": "2021-07-21T16:47:35.293Z"
   },
   {
    "duration": 14,
    "start_time": "2021-07-21T16:47:35.989Z"
   },
   {
    "duration": 17,
    "start_time": "2021-07-21T16:47:36.778Z"
   },
   {
    "duration": 27,
    "start_time": "2021-07-21T16:47:37.589Z"
   },
   {
    "duration": 17,
    "start_time": "2021-07-21T16:47:38.187Z"
   },
   {
    "duration": 8,
    "start_time": "2021-07-21T16:47:39.937Z"
   },
   {
    "duration": 9,
    "start_time": "2021-07-21T16:47:40.549Z"
   },
   {
    "duration": 11,
    "start_time": "2021-07-21T16:47:41.130Z"
   },
   {
    "duration": 188,
    "start_time": "2021-07-21T16:47:41.864Z"
   },
   {
    "duration": 8,
    "start_time": "2021-07-21T16:47:43.151Z"
   },
   {
    "duration": 9,
    "start_time": "2021-07-21T16:47:43.785Z"
   },
   {
    "duration": 357,
    "start_time": "2021-07-21T16:47:44.318Z"
   },
   {
    "duration": 34,
    "start_time": "2021-07-21T16:47:45.357Z"
   },
   {
    "duration": 7,
    "start_time": "2021-07-21T16:47:47.411Z"
   },
   {
    "duration": 14,
    "start_time": "2021-07-21T16:47:47.881Z"
   },
   {
    "duration": 11,
    "start_time": "2021-07-21T16:47:48.426Z"
   },
   {
    "duration": 257,
    "start_time": "2021-07-21T16:47:48.907Z"
   },
   {
    "duration": 17,
    "start_time": "2021-07-21T16:47:50.137Z"
   },
   {
    "duration": 15,
    "start_time": "2021-07-21T16:47:50.365Z"
   },
   {
    "duration": 10,
    "start_time": "2021-07-21T16:47:50.659Z"
   },
   {
    "duration": 7,
    "start_time": "2021-07-21T16:47:51.242Z"
   },
   {
    "duration": 720,
    "start_time": "2021-07-21T16:47:51.943Z"
   },
   {
    "duration": 11,
    "start_time": "2021-07-21T16:47:52.667Z"
   },
   {
    "duration": 7,
    "start_time": "2021-07-21T16:47:52.836Z"
   },
   {
    "duration": 363,
    "start_time": "2021-07-21T16:47:53.086Z"
   },
   {
    "duration": 13,
    "start_time": "2021-07-21T16:47:53.457Z"
   },
   {
    "duration": 18,
    "start_time": "2021-07-21T16:47:54.151Z"
   },
   {
    "duration": 593,
    "start_time": "2021-07-21T16:47:54.498Z"
   },
   {
    "duration": 42,
    "start_time": "2021-07-21T16:47:55.326Z"
   },
   {
    "duration": 17,
    "start_time": "2021-07-21T16:47:55.726Z"
   },
   {
    "duration": 17,
    "start_time": "2021-07-21T16:47:56.206Z"
   },
   {
    "duration": 8,
    "start_time": "2021-07-21T16:47:56.682Z"
   },
   {
    "duration": 15,
    "start_time": "2021-07-21T16:47:57.127Z"
   },
   {
    "duration": 14,
    "start_time": "2021-07-21T16:47:57.575Z"
   },
   {
    "duration": 24,
    "start_time": "2021-07-21T16:47:58.311Z"
   },
   {
    "duration": 574,
    "start_time": "2021-07-21T16:47:58.556Z"
   },
   {
    "duration": 467,
    "start_time": "2021-07-21T16:47:59.132Z"
   },
   {
    "duration": 11,
    "start_time": "2021-07-21T16:47:59.602Z"
   },
   {
    "duration": 18,
    "start_time": "2021-07-21T16:47:59.615Z"
   },
   {
    "duration": 14,
    "start_time": "2021-07-21T16:47:59.770Z"
   },
   {
    "duration": 13,
    "start_time": "2021-07-21T16:48:00.003Z"
   },
   {
    "duration": 6,
    "start_time": "2021-07-21T16:48:00.227Z"
   },
   {
    "duration": 5,
    "start_time": "2021-07-21T16:48:00.962Z"
   },
   {
    "duration": 279,
    "start_time": "2021-07-21T16:48:01.520Z"
   },
   {
    "duration": 13,
    "start_time": "2021-07-21T17:01:00.951Z"
   },
   {
    "duration": 3489,
    "start_time": "2021-07-21T17:02:38.183Z"
   },
   {
    "duration": 3044,
    "start_time": "2021-07-21T17:02:41.675Z"
   },
   {
    "duration": 2907,
    "start_time": "2021-07-21T17:02:47.228Z"
   },
   {
    "duration": 4,
    "start_time": "2021-07-21T17:02:50.331Z"
   },
   {
    "duration": 4,
    "start_time": "2021-07-21T17:02:52.260Z"
   },
   {
    "duration": 3,
    "start_time": "2021-07-21T17:02:53.048Z"
   },
   {
    "duration": 4,
    "start_time": "2021-07-21T17:02:54.609Z"
   },
   {
    "duration": 4,
    "start_time": "2021-07-21T17:02:55.534Z"
   },
   {
    "duration": 63,
    "start_time": "2021-07-21T17:02:56.566Z"
   },
   {
    "duration": 15,
    "start_time": "2021-07-21T17:02:57.431Z"
   },
   {
    "duration": 18,
    "start_time": "2021-07-21T17:02:57.992Z"
   },
   {
    "duration": 28,
    "start_time": "2021-07-21T17:02:58.424Z"
   },
   {
    "duration": 19,
    "start_time": "2021-07-21T17:02:58.758Z"
   },
   {
    "duration": 8,
    "start_time": "2021-07-21T17:02:59.548Z"
   },
   {
    "duration": 10,
    "start_time": "2021-07-21T17:02:59.803Z"
   },
   {
    "duration": 11,
    "start_time": "2021-07-21T17:03:00.077Z"
   },
   {
    "duration": 190,
    "start_time": "2021-07-21T17:03:00.386Z"
   },
   {
    "duration": 7,
    "start_time": "2021-07-21T17:03:00.910Z"
   },
   {
    "duration": 9,
    "start_time": "2021-07-21T17:03:01.178Z"
   },
   {
    "duration": 373,
    "start_time": "2021-07-21T17:03:01.482Z"
   },
   {
    "duration": 34,
    "start_time": "2021-07-21T17:03:02.064Z"
   },
   {
    "duration": 7,
    "start_time": "2021-07-21T17:03:03.073Z"
   },
   {
    "duration": 14,
    "start_time": "2021-07-21T17:03:03.335Z"
   },
   {
    "duration": 12,
    "start_time": "2021-07-21T17:03:03.628Z"
   },
   {
    "duration": 269,
    "start_time": "2021-07-21T17:03:03.856Z"
   },
   {
    "duration": 19,
    "start_time": "2021-07-21T17:03:04.666Z"
   },
   {
    "duration": 15,
    "start_time": "2021-07-21T17:03:04.987Z"
   },
   {
    "duration": 11,
    "start_time": "2021-07-21T17:03:05.506Z"
   },
   {
    "duration": 8,
    "start_time": "2021-07-21T17:03:06.270Z"
   },
   {
    "duration": 727,
    "start_time": "2021-07-21T17:03:06.550Z"
   },
   {
    "duration": 10,
    "start_time": "2021-07-21T17:03:07.280Z"
   },
   {
    "duration": 7,
    "start_time": "2021-07-21T17:03:07.330Z"
   },
   {
    "duration": 365,
    "start_time": "2021-07-21T17:03:07.615Z"
   },
   {
    "duration": 10,
    "start_time": "2021-07-21T17:03:08.002Z"
   },
   {
    "duration": 18,
    "start_time": "2021-07-21T17:03:09.268Z"
   },
   {
    "duration": 609,
    "start_time": "2021-07-21T17:03:09.289Z"
   },
   {
    "duration": 42,
    "start_time": "2021-07-21T17:03:10.065Z"
   },
   {
    "duration": 14,
    "start_time": "2021-07-21T17:03:10.305Z"
   },
   {
    "duration": 17,
    "start_time": "2021-07-21T17:03:10.629Z"
   },
   {
    "duration": 9,
    "start_time": "2021-07-21T17:03:11.138Z"
   },
   {
    "duration": 14,
    "start_time": "2021-07-21T17:03:11.585Z"
   },
   {
    "duration": 15,
    "start_time": "2021-07-21T17:03:11.915Z"
   },
   {
    "duration": 24,
    "start_time": "2021-07-21T17:03:12.470Z"
   },
   {
    "duration": 548,
    "start_time": "2021-07-21T17:03:12.708Z"
   },
   {
    "duration": 271,
    "start_time": "2021-07-21T17:03:13.273Z"
   },
   {
    "duration": 11,
    "start_time": "2021-07-21T17:03:13.547Z"
   },
   {
    "duration": 11,
    "start_time": "2021-07-21T17:03:13.867Z"
   },
   {
    "duration": 15,
    "start_time": "2021-07-21T17:03:14.145Z"
   },
   {
    "duration": 13,
    "start_time": "2021-07-21T17:03:14.409Z"
   },
   {
    "duration": 7,
    "start_time": "2021-07-21T17:03:14.683Z"
   },
   {
    "duration": 5,
    "start_time": "2021-07-21T17:03:14.984Z"
   },
   {
    "duration": 269,
    "start_time": "2021-07-21T17:03:15.259Z"
   },
   {
    "duration": 271,
    "start_time": "2021-07-21T17:03:23.147Z"
   },
   {
    "duration": 577651,
    "start_time": "2021-07-21T17:05:21.265Z"
   },
   {
    "duration": 8,
    "start_time": "2021-07-21T17:34:52.325Z"
   },
   {
    "duration": 3388,
    "start_time": "2021-07-21T17:34:53.121Z"
   },
   {
    "duration": 45,
    "start_time": "2021-07-21T17:52:53.412Z"
   },
   {
    "duration": 3870,
    "start_time": "2021-07-21T17:53:36.679Z"
   },
   {
    "duration": 551625,
    "start_time": "2021-07-21T17:53:40.684Z"
   },
   {
    "duration": 5,
    "start_time": "2021-07-21T19:21:20.709Z"
   },
   {
    "duration": 2984,
    "start_time": "2021-07-21T19:21:21.763Z"
   },
   {
    "duration": 3045,
    "start_time": "2021-07-21T19:21:25.691Z"
   },
   {
    "duration": 5,
    "start_time": "2021-07-21T19:21:28.739Z"
   },
   {
    "duration": 4,
    "start_time": "2021-07-21T19:21:29.118Z"
   },
   {
    "duration": 4,
    "start_time": "2021-07-21T19:22:36.559Z"
   },
   {
    "duration": 62,
    "start_time": "2021-07-21T19:22:37.472Z"
   },
   {
    "duration": 13,
    "start_time": "2021-07-21T19:22:38.427Z"
   },
   {
    "duration": 17,
    "start_time": "2021-07-21T19:22:39.169Z"
   },
   {
    "duration": 26,
    "start_time": "2021-07-21T19:22:39.745Z"
   },
   {
    "duration": 15,
    "start_time": "2021-07-21T19:22:40.241Z"
   },
   {
    "duration": 6,
    "start_time": "2021-07-21T19:22:41.797Z"
   },
   {
    "duration": 10,
    "start_time": "2021-07-21T19:22:42.243Z"
   },
   {
    "duration": 11,
    "start_time": "2021-07-21T19:22:42.722Z"
   },
   {
    "duration": 183,
    "start_time": "2021-07-21T19:22:43.811Z"
   },
   {
    "duration": 7,
    "start_time": "2021-07-21T19:22:53.826Z"
   },
   {
    "duration": 9,
    "start_time": "2021-07-21T19:22:54.307Z"
   },
   {
    "duration": 353,
    "start_time": "2021-07-21T19:22:54.877Z"
   },
   {
    "duration": 35,
    "start_time": "2021-07-21T19:22:57.073Z"
   },
   {
    "duration": 8,
    "start_time": "2021-07-21T19:22:58.932Z"
   },
   {
    "duration": 14,
    "start_time": "2021-07-21T19:22:59.183Z"
   },
   {
    "duration": 11,
    "start_time": "2021-07-21T19:22:59.498Z"
   },
   {
    "duration": 277,
    "start_time": "2021-07-21T19:22:59.893Z"
   },
   {
    "duration": 18,
    "start_time": "2021-07-21T19:23:02.056Z"
   },
   {
    "duration": 15,
    "start_time": "2021-07-21T19:23:02.683Z"
   },
   {
    "duration": 10,
    "start_time": "2021-07-21T19:23:03.229Z"
   },
   {
    "duration": 8,
    "start_time": "2021-07-21T19:23:04.308Z"
   },
   {
    "duration": 537,
    "start_time": "2021-07-21T19:23:04.819Z"
   },
   {
    "duration": 13,
    "start_time": "2021-07-21T19:23:06.041Z"
   },
   {
    "duration": 7,
    "start_time": "2021-07-21T19:23:07.198Z"
   },
   {
    "duration": 600,
    "start_time": "2021-07-21T19:23:07.749Z"
   },
   {
    "duration": 11,
    "start_time": "2021-07-21T19:23:08.951Z"
   },
   {
    "duration": 17,
    "start_time": "2021-07-21T19:23:10.654Z"
   },
   {
    "duration": 721,
    "start_time": "2021-07-21T19:23:11.337Z"
   },
   {
    "duration": 42,
    "start_time": "2021-07-21T19:23:13.534Z"
   },
   {
    "duration": 14,
    "start_time": "2021-07-21T19:23:14.111Z"
   },
   {
    "duration": 17,
    "start_time": "2021-07-21T19:23:14.727Z"
   },
   {
    "duration": 8,
    "start_time": "2021-07-21T19:23:15.343Z"
   },
   {
    "duration": 14,
    "start_time": "2021-07-21T19:23:15.933Z"
   },
   {
    "duration": 15,
    "start_time": "2021-07-21T19:23:17.836Z"
   },
   {
    "duration": 36,
    "start_time": "2021-07-21T19:23:17.855Z"
   },
   {
    "duration": 833,
    "start_time": "2021-07-21T19:23:18.612Z"
   },
   {
    "duration": 508,
    "start_time": "2021-07-21T19:23:20.307Z"
   },
   {
    "duration": 17,
    "start_time": "2021-07-21T19:23:21.631Z"
   },
   {
    "duration": 14,
    "start_time": "2021-07-21T19:23:22.356Z"
   },
   {
    "duration": 22,
    "start_time": "2021-07-21T19:23:23.364Z"
   },
   {
    "duration": 19,
    "start_time": "2021-07-21T19:23:24.240Z"
   },
   {
    "duration": 8,
    "start_time": "2021-07-21T19:23:25.266Z"
   },
   {
    "duration": 6,
    "start_time": "2021-07-21T19:23:27.454Z"
   },
   {
    "duration": 68,
    "start_time": "2021-07-21T19:51:10.501Z"
   },
   {
    "duration": 12,
    "start_time": "2021-07-21T19:51:26.891Z"
   },
   {
    "duration": 259,
    "start_time": "2021-07-21T19:53:36.459Z"
   },
   {
    "duration": 387,
    "start_time": "2021-07-21T19:53:59.901Z"
   },
   {
    "duration": 5,
    "start_time": "2021-07-21T19:54:51.775Z"
   },
   {
    "duration": 3285,
    "start_time": "2021-07-21T19:54:53.134Z"
   },
   {
    "duration": 3181,
    "start_time": "2021-07-21T19:54:56.422Z"
   },
   {
    "duration": 5,
    "start_time": "2021-07-21T19:54:59.606Z"
   },
   {
    "duration": 10,
    "start_time": "2021-07-21T19:54:59.613Z"
   },
   {
    "duration": 6,
    "start_time": "2021-07-21T19:54:59.626Z"
   },
   {
    "duration": 72,
    "start_time": "2021-07-21T19:55:00.428Z"
   },
   {
    "duration": 13,
    "start_time": "2021-07-21T19:55:01.282Z"
   },
   {
    "duration": 17,
    "start_time": "2021-07-21T19:55:02.437Z"
   },
   {
    "duration": 26,
    "start_time": "2021-07-21T19:55:03.295Z"
   },
   {
    "duration": 16,
    "start_time": "2021-07-21T19:55:04.122Z"
   },
   {
    "duration": 7,
    "start_time": "2021-07-21T19:55:06.015Z"
   },
   {
    "duration": 9,
    "start_time": "2021-07-21T19:55:06.714Z"
   },
   {
    "duration": 12,
    "start_time": "2021-07-21T19:55:07.462Z"
   },
   {
    "duration": 184,
    "start_time": "2021-07-21T19:55:08.784Z"
   },
   {
    "duration": 8,
    "start_time": "2021-07-21T19:55:11.323Z"
   },
   {
    "duration": 11,
    "start_time": "2021-07-21T19:55:12.029Z"
   },
   {
    "duration": 358,
    "start_time": "2021-07-21T19:55:12.890Z"
   },
   {
    "duration": 35,
    "start_time": "2021-07-21T19:55:23.708Z"
   },
   {
    "duration": 7,
    "start_time": "2021-07-21T19:55:25.848Z"
   },
   {
    "duration": 14,
    "start_time": "2021-07-21T19:55:26.287Z"
   },
   {
    "duration": 13,
    "start_time": "2021-07-21T19:55:26.694Z"
   },
   {
    "duration": 268,
    "start_time": "2021-07-21T19:55:27.242Z"
   },
   {
    "duration": 19,
    "start_time": "2021-07-21T19:55:28.138Z"
   },
   {
    "duration": 15,
    "start_time": "2021-07-21T19:55:28.383Z"
   },
   {
    "duration": 12,
    "start_time": "2021-07-21T19:55:28.663Z"
   },
   {
    "duration": 8,
    "start_time": "2021-07-21T19:55:29.246Z"
   },
   {
    "duration": 491,
    "start_time": "2021-07-21T19:55:29.542Z"
   },
   {
    "duration": 11,
    "start_time": "2021-07-21T19:55:30.081Z"
   },
   {
    "duration": 6,
    "start_time": "2021-07-21T19:55:30.991Z"
   },
   {
    "duration": 388,
    "start_time": "2021-07-21T19:55:31.221Z"
   },
   {
    "duration": 11,
    "start_time": "2021-07-21T19:55:31.611Z"
   },
   {
    "duration": 16,
    "start_time": "2021-07-21T19:55:32.280Z"
   },
   {
    "duration": 596,
    "start_time": "2021-07-21T19:55:32.562Z"
   },
   {
    "duration": 265,
    "start_time": "2021-07-21T19:55:33.726Z"
   },
   {
    "duration": 14,
    "start_time": "2021-07-21T19:55:34.155Z"
   },
   {
    "duration": 16,
    "start_time": "2021-07-21T19:55:34.373Z"
   },
   {
    "duration": 8,
    "start_time": "2021-07-21T19:55:34.624Z"
   },
   {
    "duration": 15,
    "start_time": "2021-07-21T19:55:34.953Z"
   },
   {
    "duration": 14,
    "start_time": "2021-07-21T19:55:35.207Z"
   },
   {
    "duration": 25,
    "start_time": "2021-07-21T19:55:35.706Z"
   },
   {
    "duration": 570,
    "start_time": "2021-07-21T19:55:35.934Z"
   },
   {
    "duration": 447,
    "start_time": "2021-07-21T19:55:36.507Z"
   },
   {
    "duration": 11,
    "start_time": "2021-07-21T19:55:36.956Z"
   },
   {
    "duration": 10,
    "start_time": "2021-07-21T19:55:37.033Z"
   },
   {
    "duration": 15,
    "start_time": "2021-07-21T19:55:37.513Z"
   },
   {
    "duration": 12,
    "start_time": "2021-07-21T19:55:37.929Z"
   },
   {
    "duration": 6,
    "start_time": "2021-07-21T19:55:38.469Z"
   },
   {
    "duration": 5,
    "start_time": "2021-07-21T19:55:39.463Z"
   },
   {
    "duration": 7,
    "start_time": "2021-07-21T19:55:42.060Z"
   },
   {
    "duration": 345,
    "start_time": "2021-07-21T19:55:43.260Z"
   },
   {
    "duration": 1035,
    "start_time": "2021-07-21T19:56:35.986Z"
   },
   {
    "duration": 1230,
    "start_time": "2021-07-21T20:00:33.187Z"
   },
   {
    "duration": 340,
    "start_time": "2021-07-21T20:06:06.924Z"
   },
   {
    "duration": 1124,
    "start_time": "2021-07-22T10:53:27.363Z"
   },
   {
    "duration": 2260,
    "start_time": "2021-07-22T10:53:30.177Z"
   },
   {
    "duration": 3207,
    "start_time": "2021-07-22T10:53:32.520Z"
   },
   {
    "duration": 463,
    "start_time": "2021-07-22T10:53:35.729Z"
   },
   {
    "duration": 293,
    "start_time": "2021-07-22T10:53:36.783Z"
   },
   {
    "duration": 3,
    "start_time": "2021-07-22T10:53:38.358Z"
   },
   {
    "duration": 44,
    "start_time": "2021-07-22T10:53:39.497Z"
   },
   {
    "duration": 8,
    "start_time": "2021-07-22T10:53:41.471Z"
   },
   {
    "duration": 13,
    "start_time": "2021-07-22T10:53:43.096Z"
   },
   {
    "duration": 25,
    "start_time": "2021-07-22T10:53:44.010Z"
   },
   {
    "duration": 16,
    "start_time": "2021-07-22T10:53:44.908Z"
   },
   {
    "duration": 5,
    "start_time": "2021-07-22T10:53:46.585Z"
   },
   {
    "duration": 7,
    "start_time": "2021-07-22T10:53:47.204Z"
   },
   {
    "duration": 7,
    "start_time": "2021-07-22T10:53:47.884Z"
   },
   {
    "duration": 556,
    "start_time": "2021-07-22T10:53:49.139Z"
   },
   {
    "duration": 4,
    "start_time": "2021-07-22T10:53:50.701Z"
   },
   {
    "duration": 6,
    "start_time": "2021-07-22T10:53:51.230Z"
   },
   {
    "duration": 208,
    "start_time": "2021-07-22T10:53:51.940Z"
   },
   {
    "duration": 23,
    "start_time": "2021-07-22T10:53:53.633Z"
   },
   {
    "duration": 5,
    "start_time": "2021-07-22T10:53:56.025Z"
   },
   {
    "duration": 9,
    "start_time": "2021-07-22T10:53:56.567Z"
   },
   {
    "duration": 7,
    "start_time": "2021-07-22T10:53:57.085Z"
   },
   {
    "duration": 148,
    "start_time": "2021-07-22T10:53:57.726Z"
   },
   {
    "duration": 11,
    "start_time": "2021-07-22T10:53:59.450Z"
   },
   {
    "duration": 10,
    "start_time": "2021-07-22T10:53:59.954Z"
   },
   {
    "duration": 7,
    "start_time": "2021-07-22T10:54:00.472Z"
   },
   {
    "duration": 5,
    "start_time": "2021-07-22T10:54:01.587Z"
   },
   {
    "duration": 368,
    "start_time": "2021-07-22T10:54:02.104Z"
   },
   {
    "duration": 7,
    "start_time": "2021-07-22T10:54:02.617Z"
   },
   {
    "duration": 4,
    "start_time": "2021-07-22T10:54:03.563Z"
   },
   {
    "duration": 202,
    "start_time": "2021-07-22T10:54:04.049Z"
   },
   {
    "duration": 7,
    "start_time": "2021-07-22T10:54:04.567Z"
   },
   {
    "duration": 10,
    "start_time": "2021-07-22T10:54:06.090Z"
   },
   {
    "duration": 326,
    "start_time": "2021-07-22T10:54:06.716Z"
   },
   {
    "duration": 24,
    "start_time": "2021-07-22T10:54:08.464Z"
   },
   {
    "duration": 10,
    "start_time": "2021-07-22T10:54:08.970Z"
   },
   {
    "duration": 12,
    "start_time": "2021-07-22T10:54:09.520Z"
   },
   {
    "duration": 6,
    "start_time": "2021-07-22T10:54:10.312Z"
   },
   {
    "duration": 10,
    "start_time": "2021-07-22T10:54:10.696Z"
   },
   {
    "duration": 8,
    "start_time": "2021-07-22T10:54:11.351Z"
   },
   {
    "duration": 16,
    "start_time": "2021-07-22T10:54:12.539Z"
   },
   {
    "duration": 318,
    "start_time": "2021-07-22T10:54:13.636Z"
   },
   {
    "duration": 783,
    "start_time": "2021-07-22T10:54:27.576Z"
   },
   {
    "duration": 7,
    "start_time": "2021-07-22T10:54:29.845Z"
   },
   {
    "duration": 7,
    "start_time": "2021-07-22T10:54:33.066Z"
   },
   {
    "duration": 9,
    "start_time": "2021-07-22T10:54:33.641Z"
   },
   {
    "duration": 8,
    "start_time": "2021-07-22T10:54:34.233Z"
   },
   {
    "duration": 4,
    "start_time": "2021-07-22T10:54:34.842Z"
   },
   {
    "duration": 4,
    "start_time": "2021-07-22T10:54:36.364Z"
   },
   {
    "duration": 664,
    "start_time": "2021-07-22T10:58:03.965Z"
   },
   {
    "duration": 539,
    "start_time": "2021-07-22T10:58:50.025Z"
   },
   {
    "duration": 749,
    "start_time": "2021-07-22T10:58:58.808Z"
   },
   {
    "duration": 296,
    "start_time": "2021-07-22T11:00:56.333Z"
   },
   {
    "duration": 672,
    "start_time": "2021-07-22T11:01:02.329Z"
   },
   {
    "duration": 334,
    "start_time": "2021-07-22T11:01:03.069Z"
   },
   {
    "duration": 280,
    "start_time": "2021-07-22T11:07:49.996Z"
   },
   {
    "duration": 817,
    "start_time": "2021-07-22T11:07:56.660Z"
   },
   {
    "duration": 609,
    "start_time": "2021-07-22T11:07:59.981Z"
   },
   {
    "duration": 890,
    "start_time": "2021-07-22T11:08:13.362Z"
   },
   {
    "duration": 294,
    "start_time": "2021-07-22T11:08:52.503Z"
   },
   {
    "duration": 233,
    "start_time": "2021-07-22T11:24:59.817Z"
   },
   {
    "duration": 4,
    "start_time": "2021-07-22T11:25:15.723Z"
   },
   {
    "duration": 755,
    "start_time": "2021-07-22T11:25:22.769Z"
   },
   {
    "duration": 796,
    "start_time": "2021-07-22T11:25:23.568Z"
   },
   {
    "duration": 7,
    "start_time": "2021-07-22T11:25:30.313Z"
   },
   {
    "duration": 234,
    "start_time": "2021-07-22T11:25:31.136Z"
   },
   {
    "duration": 224,
    "start_time": "2021-07-22T11:26:16.909Z"
   },
   {
    "duration": 247,
    "start_time": "2021-07-22T11:28:57.980Z"
   },
   {
    "duration": 3,
    "start_time": "2021-07-22T11:29:30.619Z"
   },
   {
    "duration": 3,
    "start_time": "2021-07-22T11:29:36.663Z"
   },
   {
    "duration": 339,
    "start_time": "2021-07-22T11:29:50.792Z"
   },
   {
    "duration": 3,
    "start_time": "2021-07-22T11:32:06.265Z"
   },
   {
    "duration": 512,
    "start_time": "2021-07-22T11:32:09.127Z"
   },
   {
    "duration": 78,
    "start_time": "2021-07-22T11:34:39.618Z"
   },
   {
    "duration": 499,
    "start_time": "2021-07-22T11:34:40.513Z"
   },
   {
    "duration": 245,
    "start_time": "2021-07-22T11:34:49.679Z"
   },
   {
    "duration": 499,
    "start_time": "2021-07-22T11:34:51.578Z"
   },
   {
    "duration": 225,
    "start_time": "2021-07-22T11:35:08.725Z"
   },
   {
    "duration": 488,
    "start_time": "2021-07-22T11:35:11.332Z"
   },
   {
    "duration": 308,
    "start_time": "2021-07-22T11:44:16.394Z"
   },
   {
    "duration": 241,
    "start_time": "2021-07-22T11:51:22.418Z"
   },
   {
    "duration": 250,
    "start_time": "2021-07-22T11:51:32.941Z"
   },
   {
    "duration": 94,
    "start_time": "2021-07-22T11:58:58.608Z"
   },
   {
    "duration": 3,
    "start_time": "2021-07-22T11:59:15.964Z"
   },
   {
    "duration": 8,
    "start_time": "2021-07-22T12:00:43.676Z"
   },
   {
    "duration": 113,
    "start_time": "2021-07-22T12:04:05.615Z"
   },
   {
    "duration": 16,
    "start_time": "2021-07-22T12:04:12.981Z"
   },
   {
    "duration": 7,
    "start_time": "2021-07-22T12:07:47.746Z"
   },
   {
    "duration": 18,
    "start_time": "2021-07-22T12:07:55.951Z"
   },
   {
    "duration": 232,
    "start_time": "2021-07-22T12:08:44.154Z"
   },
   {
    "duration": 5,
    "start_time": "2021-07-22T12:09:17.123Z"
   },
   {
    "duration": 5,
    "start_time": "2021-07-22T12:10:15.779Z"
   },
   {
    "duration": 13,
    "start_time": "2021-07-22T12:17:16.479Z"
   },
   {
    "duration": 71,
    "start_time": "2021-07-22T12:18:01.370Z"
   },
   {
    "duration": 77,
    "start_time": "2021-07-22T12:18:28.503Z"
   },
   {
    "duration": 72,
    "start_time": "2021-07-22T12:19:31.647Z"
   },
   {
    "duration": 24,
    "start_time": "2021-07-22T12:19:40.332Z"
   },
   {
    "duration": 5,
    "start_time": "2021-07-22T12:23:56.614Z"
   },
   {
    "duration": 15,
    "start_time": "2021-07-22T12:24:01.022Z"
   },
   {
    "duration": 404,
    "start_time": "2021-07-22T12:24:57.325Z"
   },
   {
    "duration": 6,
    "start_time": "2021-07-22T12:36:25.764Z"
   },
   {
    "duration": 9,
    "start_time": "2021-07-22T12:40:39.518Z"
   },
   {
    "duration": 79,
    "start_time": "2021-07-22T12:40:40.363Z"
   },
   {
    "duration": 9,
    "start_time": "2021-07-22T12:40:53.509Z"
   },
   {
    "duration": 9,
    "start_time": "2021-07-22T12:40:54.181Z"
   },
   {
    "duration": 318,
    "start_time": "2021-07-22T12:41:01.149Z"
   },
   {
    "duration": 247,
    "start_time": "2021-07-22T12:41:01.689Z"
   },
   {
    "duration": 7,
    "start_time": "2021-07-22T12:41:01.937Z"
   },
   {
    "duration": 7,
    "start_time": "2021-07-22T12:41:02.045Z"
   },
   {
    "duration": 10,
    "start_time": "2021-07-22T12:41:02.216Z"
   },
   {
    "duration": 9,
    "start_time": "2021-07-22T12:41:02.418Z"
   },
   {
    "duration": 4,
    "start_time": "2021-07-22T12:41:02.608Z"
   },
   {
    "duration": 4,
    "start_time": "2021-07-22T12:41:02.778Z"
   },
   {
    "duration": 607,
    "start_time": "2021-07-22T12:41:02.961Z"
   },
   {
    "duration": 788,
    "start_time": "2021-07-22T12:41:03.570Z"
   },
   {
    "duration": 2,
    "start_time": "2021-07-22T12:41:04.360Z"
   },
   {
    "duration": 9,
    "start_time": "2021-07-22T12:41:28.424Z"
   },
   {
    "duration": 11,
    "start_time": "2021-07-22T12:42:54.811Z"
   },
   {
    "duration": 7,
    "start_time": "2021-07-22T12:43:09.029Z"
   },
   {
    "duration": 12,
    "start_time": "2021-07-22T12:43:09.642Z"
   },
   {
    "duration": 3,
    "start_time": "2021-07-22T12:43:10.980Z"
   },
   {
    "duration": 8,
    "start_time": "2021-07-22T12:43:14.855Z"
   },
   {
    "duration": 241,
    "start_time": "2021-07-22T12:44:26.782Z"
   },
   {
    "duration": 507,
    "start_time": "2021-07-22T12:44:56.618Z"
   },
   {
    "duration": 396,
    "start_time": "2021-07-22T12:45:05.877Z"
   },
   {
    "duration": 207,
    "start_time": "2021-07-22T12:45:22.986Z"
   },
   {
    "duration": 5,
    "start_time": "2021-07-22T12:49:12.926Z"
   },
   {
    "duration": 15,
    "start_time": "2021-07-22T12:49:14.253Z"
   },
   {
    "duration": 13,
    "start_time": "2021-07-22T12:49:39.160Z"
   },
   {
    "duration": 5,
    "start_time": "2021-07-22T12:49:47.784Z"
   },
   {
    "duration": 6,
    "start_time": "2021-07-22T12:49:48.567Z"
   },
   {
    "duration": 4,
    "start_time": "2021-07-22T12:50:22.714Z"
   },
   {
    "duration": 6,
    "start_time": "2021-07-22T12:50:23.755Z"
   },
   {
    "duration": 4,
    "start_time": "2021-07-22T12:50:43.864Z"
   },
   {
    "duration": 7,
    "start_time": "2021-07-22T12:50:44.896Z"
   },
   {
    "duration": 5,
    "start_time": "2021-07-22T12:59:47.876Z"
   },
   {
    "duration": 7,
    "start_time": "2021-07-22T12:59:54.324Z"
   },
   {
    "duration": 222,
    "start_time": "2021-07-22T13:00:21.986Z"
   },
   {
    "duration": 5,
    "start_time": "2021-07-22T13:00:42.737Z"
   },
   {
    "duration": 418,
    "start_time": "2021-07-22T13:00:44.855Z"
   },
   {
    "duration": 5,
    "start_time": "2021-07-22T13:01:07.576Z"
   },
   {
    "duration": 6,
    "start_time": "2021-07-22T13:01:08.233Z"
   },
   {
    "duration": 6,
    "start_time": "2021-07-22T13:01:09.772Z"
   },
   {
    "duration": 307,
    "start_time": "2021-07-22T13:01:10.271Z"
   },
   {
    "duration": 6,
    "start_time": "2021-07-22T13:01:15.409Z"
   },
   {
    "duration": 14,
    "start_time": "2021-07-22T13:01:39.279Z"
   },
   {
    "duration": 277,
    "start_time": "2021-07-22T13:05:37.084Z"
   },
   {
    "duration": 305,
    "start_time": "2021-07-22T13:06:02.642Z"
   },
   {
    "duration": 419,
    "start_time": "2021-07-22T13:09:16.737Z"
   },
   {
    "duration": 236,
    "start_time": "2021-07-22T13:35:28.846Z"
   },
   {
    "duration": 267,
    "start_time": "2021-07-22T13:35:39.164Z"
   },
   {
    "duration": 240,
    "start_time": "2021-07-22T13:35:55.366Z"
   },
   {
    "duration": 441,
    "start_time": "2021-07-22T13:36:21.562Z"
   },
   {
    "duration": 535,
    "start_time": "2021-07-22T13:38:02.201Z"
   },
   {
    "duration": 11,
    "start_time": "2021-07-22T13:43:08.824Z"
   },
   {
    "duration": 11,
    "start_time": "2021-07-22T13:43:41.631Z"
   },
   {
    "duration": 220,
    "start_time": "2021-07-22T13:48:07.499Z"
   },
   {
    "duration": 112,
    "start_time": "2021-07-22T13:48:21.412Z"
   },
   {
    "duration": 110,
    "start_time": "2021-07-22T13:48:46.625Z"
   },
   {
    "duration": 111,
    "start_time": "2021-07-22T13:49:05.397Z"
   },
   {
    "duration": 141,
    "start_time": "2021-07-22T13:49:29.292Z"
   },
   {
    "duration": 148,
    "start_time": "2021-07-22T13:49:41.884Z"
   },
   {
    "duration": 148,
    "start_time": "2021-07-22T13:50:21.013Z"
   },
   {
    "duration": 199,
    "start_time": "2021-07-22T13:52:03.941Z"
   },
   {
    "duration": 391,
    "start_time": "2021-07-22T13:52:19.318Z"
   },
   {
    "duration": 203,
    "start_time": "2021-07-22T13:52:28.891Z"
   },
   {
    "duration": 4,
    "start_time": "2021-07-22T13:53:30.876Z"
   },
   {
    "duration": 203,
    "start_time": "2021-07-22T13:53:41.603Z"
   },
   {
    "duration": 231,
    "start_time": "2021-07-22T13:56:32.194Z"
   },
   {
    "duration": 198,
    "start_time": "2021-07-22T13:56:33.903Z"
   },
   {
    "duration": 213,
    "start_time": "2021-07-22T13:58:30.413Z"
   },
   {
    "duration": 222,
    "start_time": "2021-07-22T13:58:41.509Z"
   },
   {
    "duration": 201,
    "start_time": "2021-07-22T13:58:48.870Z"
   },
   {
    "duration": 220,
    "start_time": "2021-07-22T13:59:41.685Z"
   },
   {
    "duration": 7,
    "start_time": "2021-07-22T14:03:57.491Z"
   },
   {
    "duration": 161,
    "start_time": "2021-07-22T14:06:26.195Z"
   },
   {
    "duration": 136,
    "start_time": "2021-07-22T14:06:41.371Z"
   },
   {
    "duration": 232,
    "start_time": "2021-07-22T14:06:54.009Z"
   },
   {
    "duration": 254,
    "start_time": "2021-07-22T14:07:01.749Z"
   },
   {
    "duration": 329,
    "start_time": "2021-07-22T14:07:11.381Z"
   },
   {
    "duration": 315,
    "start_time": "2021-07-22T14:07:32.989Z"
   },
   {
    "duration": 1600,
    "start_time": "2021-07-22T19:54:37.854Z"
   },
   {
    "duration": 3484,
    "start_time": "2021-07-22T19:54:41.487Z"
   },
   {
    "duration": 4631,
    "start_time": "2021-07-22T19:54:56.749Z"
   },
   {
    "duration": 825,
    "start_time": "2021-07-22T19:55:01.383Z"
   },
   {
    "duration": 56,
    "start_time": "2021-07-22T19:55:17.185Z"
   },
   {
    "duration": 14,
    "start_time": "2021-07-22T19:55:17.762Z"
   },
   {
    "duration": 21,
    "start_time": "2021-07-22T19:55:18.429Z"
   },
   {
    "duration": 25,
    "start_time": "2021-07-22T19:55:19.311Z"
   },
   {
    "duration": 14,
    "start_time": "2021-07-22T19:55:20.660Z"
   },
   {
    "duration": 7,
    "start_time": "2021-07-22T19:55:22.458Z"
   },
   {
    "duration": 15,
    "start_time": "2021-07-22T20:04:00.767Z"
   },
   {
    "duration": 4,
    "start_time": "2021-07-22T20:04:05.886Z"
   },
   {
    "duration": 3081,
    "start_time": "2021-07-22T20:04:06.646Z"
   },
   {
    "duration": 4,
    "start_time": "2021-07-22T20:04:09.730Z"
   },
   {
    "duration": 66,
    "start_time": "2021-07-22T20:04:09.737Z"
   },
   {
    "duration": 11,
    "start_time": "2021-07-22T20:04:09.806Z"
   },
   {
    "duration": 20,
    "start_time": "2021-07-22T20:04:09.820Z"
   },
   {
    "duration": 14,
    "start_time": "2021-07-22T20:04:10.299Z"
   },
   {
    "duration": 13,
    "start_time": "2021-07-22T20:04:22.676Z"
   },
   {
    "duration": 4,
    "start_time": "2021-07-22T20:08:08.966Z"
   },
   {
    "duration": 3015,
    "start_time": "2021-07-22T20:08:10.479Z"
   },
   {
    "duration": 4,
    "start_time": "2021-07-22T20:08:13.498Z"
   },
   {
    "duration": 72,
    "start_time": "2021-07-22T20:08:13.506Z"
   },
   {
    "duration": 16,
    "start_time": "2021-07-22T20:08:17.861Z"
   },
   {
    "duration": 5,
    "start_time": "2021-07-22T20:09:22.748Z"
   },
   {
    "duration": 3070,
    "start_time": "2021-07-22T20:09:23.443Z"
   },
   {
    "duration": 4,
    "start_time": "2021-07-22T20:09:26.516Z"
   },
   {
    "duration": 62,
    "start_time": "2021-07-22T20:09:26.523Z"
   },
   {
    "duration": 12,
    "start_time": "2021-07-22T20:09:26.588Z"
   },
   {
    "duration": 13,
    "start_time": "2021-07-22T20:09:27.505Z"
   },
   {
    "duration": 14,
    "start_time": "2021-07-22T20:15:07.256Z"
   },
   {
    "duration": 33,
    "start_time": "2021-07-22T20:15:09.858Z"
   },
   {
    "duration": 13,
    "start_time": "2021-07-22T20:15:21.149Z"
   },
   {
    "duration": 15,
    "start_time": "2021-07-22T20:15:43.603Z"
   },
   {
    "duration": 16,
    "start_time": "2021-07-22T20:15:52.552Z"
   },
   {
    "duration": 28,
    "start_time": "2021-07-22T20:16:39.735Z"
   },
   {
    "duration": 8,
    "start_time": "2021-07-22T20:18:10.041Z"
   },
   {
    "duration": 9,
    "start_time": "2021-07-22T20:18:42.932Z"
   },
   {
    "duration": 11,
    "start_time": "2021-07-22T20:32:23.707Z"
   },
   {
    "duration": 3099,
    "start_time": "2021-07-22T20:32:24.310Z"
   },
   {
    "duration": 4,
    "start_time": "2021-07-22T20:32:27.412Z"
   },
   {
    "duration": 72,
    "start_time": "2021-07-22T20:32:27.418Z"
   },
   {
    "duration": 13,
    "start_time": "2021-07-22T20:32:27.492Z"
   },
   {
    "duration": 21,
    "start_time": "2021-07-22T20:32:27.507Z"
   },
   {
    "duration": 15,
    "start_time": "2021-07-22T20:32:33.840Z"
   },
   {
    "duration": 10,
    "start_time": "2021-07-22T20:34:26.626Z"
   },
   {
    "duration": 17,
    "start_time": "2021-07-22T20:34:33.543Z"
   },
   {
    "duration": 32,
    "start_time": "2021-07-22T20:34:34.128Z"
   },
   {
    "duration": 11,
    "start_time": "2021-07-22T20:34:34.957Z"
   },
   {
    "duration": 452,
    "start_time": "2021-07-22T20:58:44.929Z"
   },
   {
    "duration": 10,
    "start_time": "2021-07-22T20:58:49.914Z"
   },
   {
    "duration": 7,
    "start_time": "2021-07-22T20:58:50.966Z"
   },
   {
    "duration": 91,
    "start_time": "2021-07-22T20:58:52.335Z"
   },
   {
    "duration": 11,
    "start_time": "2021-07-22T21:01:43.224Z"
   },
   {
    "duration": 6,
    "start_time": "2021-07-22T21:01:51.242Z"
   },
   {
    "duration": 10,
    "start_time": "2021-07-22T21:01:51.969Z"
   },
   {
    "duration": 106,
    "start_time": "2021-07-22T21:02:36.263Z"
   },
   {
    "duration": 24,
    "start_time": "2021-07-22T21:02:36.866Z"
   },
   {
    "duration": 726,
    "start_time": "2021-07-22T21:03:06.967Z"
   },
   {
    "duration": 570,
    "start_time": "2021-07-22T21:03:35.660Z"
   },
   {
    "duration": 576,
    "start_time": "2021-07-22T21:04:48.681Z"
   },
   {
    "duration": 4,
    "start_time": "2021-07-22T21:05:28.661Z"
   },
   {
    "duration": 3010,
    "start_time": "2021-07-22T21:05:29.737Z"
   },
   {
    "duration": 4,
    "start_time": "2021-07-22T21:05:32.750Z"
   },
   {
    "duration": 72,
    "start_time": "2021-07-22T21:05:32.756Z"
   },
   {
    "duration": 13,
    "start_time": "2021-07-22T21:05:33.576Z"
   },
   {
    "duration": 16,
    "start_time": "2021-07-22T21:05:34.401Z"
   },
   {
    "duration": 16,
    "start_time": "2021-07-22T21:05:35.683Z"
   },
   {
    "duration": 41,
    "start_time": "2021-07-22T21:05:36.370Z"
   },
   {
    "duration": 11,
    "start_time": "2021-07-22T21:05:37.068Z"
   },
   {
    "duration": 33,
    "start_time": "2021-07-22T21:05:39.221Z"
   },
   {
    "duration": 10,
    "start_time": "2021-07-22T21:05:42.627Z"
   },
   {
    "duration": 4,
    "start_time": "2021-07-22T21:05:43.468Z"
   },
   {
    "duration": 5,
    "start_time": "2021-07-22T21:05:44.335Z"
   },
   {
    "duration": 6,
    "start_time": "2021-07-22T21:05:45.222Z"
   },
   {
    "duration": 9,
    "start_time": "2021-07-22T21:05:46.050Z"
   },
   {
    "duration": 612,
    "start_time": "2021-07-22T21:05:47.004Z"
   },
   {
    "duration": 7,
    "start_time": "2021-07-22T21:06:24.298Z"
   },
   {
    "duration": 9,
    "start_time": "2021-07-22T21:06:24.893Z"
   },
   {
    "duration": 294,
    "start_time": "2021-07-22T21:06:25.646Z"
   },
   {
    "duration": 10,
    "start_time": "2021-07-22T21:07:27.476Z"
   },
   {
    "duration": 3,
    "start_time": "2021-07-22T21:07:28.191Z"
   },
   {
    "duration": 3,
    "start_time": "2021-07-22T21:07:28.908Z"
   },
   {
    "duration": 6,
    "start_time": "2021-07-22T21:07:29.555Z"
   },
   {
    "duration": 8,
    "start_time": "2021-07-22T21:07:30.148Z"
   },
   {
    "duration": 579,
    "start_time": "2021-07-22T21:07:33.120Z"
   },
   {
    "duration": 5,
    "start_time": "2021-07-22T21:08:32.559Z"
   },
   {
    "duration": 10,
    "start_time": "2021-07-22T21:08:33.247Z"
   },
   {
    "duration": 369,
    "start_time": "2021-07-22T21:08:33.908Z"
   },
   {
    "duration": 301,
    "start_time": "2021-07-22T21:10:19.508Z"
   },
   {
    "duration": 13,
    "start_time": "2021-07-22T21:10:36.797Z"
   },
   {
    "duration": 9,
    "start_time": "2021-07-22T21:10:54.555Z"
   },
   {
    "duration": 8,
    "start_time": "2021-07-22T21:10:55.317Z"
   },
   {
    "duration": 11,
    "start_time": "2021-07-22T21:11:04.427Z"
   },
   {
    "duration": 4,
    "start_time": "2021-07-22T21:11:04.872Z"
   },
   {
    "duration": 5,
    "start_time": "2021-07-22T21:11:05.320Z"
   },
   {
    "duration": 6,
    "start_time": "2021-07-22T21:11:05.957Z"
   },
   {
    "duration": 9,
    "start_time": "2021-07-22T21:11:06.915Z"
   },
   {
    "duration": 513,
    "start_time": "2021-07-22T21:11:17.059Z"
   },
   {
    "duration": 490,
    "start_time": "2021-07-22T21:11:56.841Z"
   },
   {
    "duration": 358,
    "start_time": "2021-07-22T21:12:08.733Z"
   },
   {
    "duration": 351,
    "start_time": "2021-07-22T21:12:24.703Z"
   },
   {
    "duration": 433,
    "start_time": "2021-07-22T21:12:39.044Z"
   },
   {
    "duration": 468,
    "start_time": "2021-07-22T21:12:44.245Z"
   },
   {
    "duration": 358,
    "start_time": "2021-07-22T21:16:15.243Z"
   },
   {
    "duration": 364,
    "start_time": "2021-07-22T21:16:48.701Z"
   },
   {
    "duration": 423,
    "start_time": "2021-07-22T21:17:09.408Z"
   },
   {
    "duration": 374,
    "start_time": "2021-07-22T21:17:24.888Z"
   },
   {
    "duration": 5,
    "start_time": "2021-07-22T21:19:06.364Z"
   },
   {
    "duration": 9,
    "start_time": "2021-07-22T21:19:07.228Z"
   },
   {
    "duration": 7,
    "start_time": "2021-07-22T21:23:13.937Z"
   },
   {
    "duration": 9,
    "start_time": "2021-07-22T21:23:15.326Z"
   },
   {
    "duration": 9,
    "start_time": "2021-07-22T21:23:22.354Z"
   },
   {
    "duration": 285,
    "start_time": "2021-07-22T21:23:23.364Z"
   },
   {
    "duration": 247,
    "start_time": "2021-07-22T21:23:33.533Z"
   },
   {
    "duration": 253,
    "start_time": "2021-07-22T21:25:07.743Z"
   },
   {
    "duration": 254,
    "start_time": "2021-07-22T21:25:18.573Z"
   },
   {
    "duration": 255,
    "start_time": "2021-07-22T21:25:36.864Z"
   },
   {
    "duration": 12,
    "start_time": "2021-07-22T21:28:01.475Z"
   },
   {
    "duration": 8,
    "start_time": "2021-07-22T21:30:05.130Z"
   },
   {
    "duration": 34,
    "start_time": "2021-07-22T21:36:23.773Z"
   },
   {
    "duration": 288,
    "start_time": "2021-07-22T21:41:29.554Z"
   },
   {
    "duration": 387,
    "start_time": "2021-07-22T21:41:55.220Z"
   },
   {
    "duration": 1072,
    "start_time": "2021-07-22T21:42:48.064Z"
   },
   {
    "duration": 33,
    "start_time": "2021-07-22T21:42:58.455Z"
   },
   {
    "duration": 5,
    "start_time": "2021-07-22T21:43:19.927Z"
   },
   {
    "duration": 14,
    "start_time": "2021-07-22T21:43:40.568Z"
   },
   {
    "duration": 6,
    "start_time": "2021-07-22T21:44:41.303Z"
   },
   {
    "duration": 14,
    "start_time": "2021-07-22T21:44:48.919Z"
   },
   {
    "duration": 286,
    "start_time": "2021-07-22T21:44:52.111Z"
   },
   {
    "duration": 293,
    "start_time": "2021-07-22T21:46:20.663Z"
   },
   {
    "duration": 287,
    "start_time": "2021-07-22T21:46:49.981Z"
   },
   {
    "duration": 529,
    "start_time": "2021-07-22T21:47:39.296Z"
   },
   {
    "duration": 308,
    "start_time": "2021-07-22T21:48:20.775Z"
   },
   {
    "duration": 305,
    "start_time": "2021-07-22T21:49:07.859Z"
   },
   {
    "duration": 542,
    "start_time": "2021-07-22T21:49:35.230Z"
   },
   {
    "duration": 484,
    "start_time": "2021-07-22T21:50:05.128Z"
   },
   {
    "duration": 1143,
    "start_time": "2021-07-23T10:37:17.921Z"
   },
   {
    "duration": 3194,
    "start_time": "2021-07-23T10:37:19.474Z"
   },
   {
    "duration": 379,
    "start_time": "2021-07-23T10:37:22.670Z"
   },
   {
    "duration": 46,
    "start_time": "2021-07-23T10:37:23.051Z"
   },
   {
    "duration": 11,
    "start_time": "2021-07-23T10:37:23.228Z"
   },
   {
    "duration": 14,
    "start_time": "2021-07-23T10:37:23.954Z"
   },
   {
    "duration": 11,
    "start_time": "2021-07-23T10:37:25.429Z"
   },
   {
    "duration": 22,
    "start_time": "2021-07-23T10:37:26.035Z"
   },
   {
    "duration": 7,
    "start_time": "2021-07-23T10:37:26.646Z"
   },
   {
    "duration": 18,
    "start_time": "2021-07-23T10:37:32.996Z"
   },
   {
    "duration": 9,
    "start_time": "2021-07-23T10:37:47.782Z"
   },
   {
    "duration": 3,
    "start_time": "2021-07-23T10:37:48.597Z"
   },
   {
    "duration": 6,
    "start_time": "2021-07-23T10:37:49.747Z"
   },
   {
    "duration": 19,
    "start_time": "2021-07-23T10:37:50.354Z"
   },
   {
    "duration": 19,
    "start_time": "2021-07-23T10:37:51.000Z"
   },
   {
    "duration": 300,
    "start_time": "2021-07-23T10:37:51.847Z"
   },
   {
    "duration": 7,
    "start_time": "2021-07-23T10:38:02.732Z"
   },
   {
    "duration": 6,
    "start_time": "2021-07-23T10:38:03.404Z"
   },
   {
    "duration": 152,
    "start_time": "2021-07-23T10:38:03.945Z"
   },
   {
    "duration": 17,
    "start_time": "2021-07-23T10:38:15.784Z"
   },
   {
    "duration": 11,
    "start_time": "2021-07-23T10:38:16.586Z"
   },
   {
    "duration": 241,
    "start_time": "2021-07-23T10:38:17.549Z"
   },
   {
    "duration": 234,
    "start_time": "2021-07-23T10:40:19.850Z"
   },
   {
    "duration": 6,
    "start_time": "2021-07-23T10:42:49.036Z"
   },
   {
    "duration": 9,
    "start_time": "2021-07-23T10:42:49.653Z"
   },
   {
    "duration": 8,
    "start_time": "2021-07-23T10:42:54.315Z"
   },
   {
    "duration": 168,
    "start_time": "2021-07-23T10:45:06.526Z"
   },
   {
    "duration": 13,
    "start_time": "2021-07-23T10:46:26.834Z"
   },
   {
    "duration": 10,
    "start_time": "2021-07-23T10:46:27.235Z"
   },
   {
    "duration": 8,
    "start_time": "2021-07-23T10:46:28.012Z"
   },
   {
    "duration": 5,
    "start_time": "2021-07-23T10:46:40.454Z"
   },
   {
    "duration": 298,
    "start_time": "2021-07-23T10:46:52.406Z"
   },
   {
    "duration": 7,
    "start_time": "2021-07-23T10:47:02.650Z"
   },
   {
    "duration": 5,
    "start_time": "2021-07-23T10:47:13.471Z"
   },
   {
    "duration": 266,
    "start_time": "2021-07-23T10:47:23.221Z"
   },
   {
    "duration": 10,
    "start_time": "2021-07-23T10:49:48.890Z"
   },
   {
    "duration": 10,
    "start_time": "2021-07-23T10:51:27.895Z"
   },
   {
    "duration": 5,
    "start_time": "2021-07-23T10:51:34.148Z"
   },
   {
    "duration": 9,
    "start_time": "2021-07-23T10:52:00.124Z"
   },
   {
    "duration": 203,
    "start_time": "2021-07-23T10:53:25.083Z"
   },
   {
    "duration": 181,
    "start_time": "2021-07-23T10:55:56.290Z"
   },
   {
    "duration": 175,
    "start_time": "2021-07-23T10:56:16.993Z"
   },
   {
    "duration": 8,
    "start_time": "2021-07-23T10:56:23.153Z"
   },
   {
    "duration": 5,
    "start_time": "2021-07-23T10:57:14.639Z"
   },
   {
    "duration": 317,
    "start_time": "2021-07-23T10:57:15.483Z"
   },
   {
    "duration": 15,
    "start_time": "2021-07-23T11:03:17.538Z"
   },
   {
    "duration": 5,
    "start_time": "2021-07-23T11:07:01.242Z"
   },
   {
    "duration": 239,
    "start_time": "2021-07-23T11:07:02.597Z"
   },
   {
    "duration": 250,
    "start_time": "2021-07-23T11:07:51.827Z"
   },
   {
    "duration": 5,
    "start_time": "2021-07-23T11:08:34.368Z"
   },
   {
    "duration": 240,
    "start_time": "2021-07-23T11:08:35.496Z"
   },
   {
    "duration": 241,
    "start_time": "2021-07-23T11:08:56.594Z"
   },
   {
    "duration": 11,
    "start_time": "2021-07-23T11:11:40.637Z"
   },
   {
    "duration": 11,
    "start_time": "2021-07-23T11:11:57.302Z"
   },
   {
    "duration": 990,
    "start_time": "2021-07-23T11:12:18.906Z"
   },
   {
    "duration": 1077,
    "start_time": "2021-07-23T11:13:31.676Z"
   },
   {
    "duration": 1174,
    "start_time": "2021-07-23T11:13:46.105Z"
   },
   {
    "duration": 1068,
    "start_time": "2021-07-23T11:14:49.920Z"
   },
   {
    "duration": 906,
    "start_time": "2021-07-23T11:15:47.681Z"
   },
   {
    "duration": 817,
    "start_time": "2021-07-23T11:16:17.158Z"
   },
   {
    "duration": 1027,
    "start_time": "2021-07-23T11:19:33.731Z"
   },
   {
    "duration": 1101,
    "start_time": "2021-07-23T11:19:53.784Z"
   },
   {
    "duration": 899,
    "start_time": "2021-07-23T11:20:43.816Z"
   },
   {
    "duration": 1053,
    "start_time": "2021-07-23T11:21:12.576Z"
   },
   {
    "duration": 873,
    "start_time": "2021-07-23T11:23:14.600Z"
   },
   {
    "duration": 5,
    "start_time": "2021-07-23T11:32:42.205Z"
   },
   {
    "duration": 248,
    "start_time": "2021-07-23T11:32:43.106Z"
   },
   {
    "duration": 8,
    "start_time": "2021-07-23T11:32:46.956Z"
   },
   {
    "duration": 879,
    "start_time": "2021-07-23T11:33:06.032Z"
   },
   {
    "duration": 5,
    "start_time": "2021-07-23T11:34:37.157Z"
   },
   {
    "duration": 241,
    "start_time": "2021-07-23T11:34:37.929Z"
   },
   {
    "duration": 7,
    "start_time": "2021-07-23T11:34:50.072Z"
   },
   {
    "duration": 994,
    "start_time": "2021-07-23T11:34:53.192Z"
   },
   {
    "duration": 12,
    "start_time": "2021-07-23T11:36:12.395Z"
   },
   {
    "duration": 399,
    "start_time": "2021-07-23T11:36:14.186Z"
   },
   {
    "duration": 398,
    "start_time": "2021-07-23T11:37:48.591Z"
   },
   {
    "duration": 381,
    "start_time": "2021-07-23T11:38:54.932Z"
   },
   {
    "duration": 379,
    "start_time": "2021-07-23T11:39:04.227Z"
   },
   {
    "duration": 382,
    "start_time": "2021-07-23T11:39:20.078Z"
   },
   {
    "duration": 374,
    "start_time": "2021-07-23T11:39:43.878Z"
   },
   {
    "duration": 359,
    "start_time": "2021-07-23T11:39:59.582Z"
   },
   {
    "duration": 348,
    "start_time": "2021-07-23T11:40:15.540Z"
   },
   {
    "duration": 362,
    "start_time": "2021-07-23T11:40:26.762Z"
   },
   {
    "duration": 384,
    "start_time": "2021-07-23T11:40:41.075Z"
   },
   {
    "duration": 379,
    "start_time": "2021-07-23T11:40:53.187Z"
   },
   {
    "duration": 184,
    "start_time": "2021-07-23T11:42:37.339Z"
   },
   {
    "duration": 11,
    "start_time": "2021-07-23T11:42:47.608Z"
   },
   {
    "duration": 12,
    "start_time": "2021-07-23T11:44:07.124Z"
   },
   {
    "duration": 369,
    "start_time": "2021-07-23T11:44:15.236Z"
   },
   {
    "duration": 28,
    "start_time": "2021-07-23T11:44:42.480Z"
   },
   {
    "duration": 11,
    "start_time": "2021-07-23T11:44:43.528Z"
   },
   {
    "duration": 11,
    "start_time": "2021-07-23T11:44:45.423Z"
   },
   {
    "duration": 7,
    "start_time": "2021-07-23T11:44:53.375Z"
   },
   {
    "duration": 10,
    "start_time": "2021-07-23T11:44:58.681Z"
   },
   {
    "duration": 10,
    "start_time": "2021-07-23T11:44:59.720Z"
   },
   {
    "duration": 11,
    "start_time": "2021-07-23T11:45:01.330Z"
   },
   {
    "duration": 9,
    "start_time": "2021-07-23T11:47:56.712Z"
   },
   {
    "duration": 9,
    "start_time": "2021-07-23T11:48:00.581Z"
   },
   {
    "duration": 60,
    "start_time": "2021-07-23T12:01:26.768Z"
   },
   {
    "duration": 56,
    "start_time": "2021-07-23T12:01:58.769Z"
   },
   {
    "duration": 55,
    "start_time": "2021-07-23T12:03:33.852Z"
   },
   {
    "duration": 73,
    "start_time": "2021-07-23T12:06:07.750Z"
   },
   {
    "duration": 9,
    "start_time": "2021-07-23T12:08:23.305Z"
   },
   {
    "duration": 923,
    "start_time": "2021-07-23T12:09:37.780Z"
   },
   {
    "duration": 18,
    "start_time": "2021-07-23T12:10:06.045Z"
   },
   {
    "duration": 65,
    "start_time": "2021-07-23T12:12:35.947Z"
   },
   {
    "duration": 20,
    "start_time": "2021-07-23T12:12:44.720Z"
   },
   {
    "duration": 8,
    "start_time": "2021-07-23T12:13:56.765Z"
   },
   {
    "duration": 7,
    "start_time": "2021-07-23T12:14:33.953Z"
   },
   {
    "duration": 9,
    "start_time": "2021-07-23T12:16:38.673Z"
   },
   {
    "duration": 10,
    "start_time": "2021-07-23T12:16:57.942Z"
   },
   {
    "duration": 10,
    "start_time": "2021-07-23T12:17:07.094Z"
   },
   {
    "duration": 9,
    "start_time": "2021-07-23T12:18:54.256Z"
   },
   {
    "duration": 360,
    "start_time": "2021-07-23T12:19:39.065Z"
   },
   {
    "duration": 369,
    "start_time": "2021-07-23T12:22:27.076Z"
   },
   {
    "duration": 321,
    "start_time": "2021-07-23T12:22:37.367Z"
   },
   {
    "duration": 536,
    "start_time": "2021-07-23T12:22:50.109Z"
   },
   {
    "duration": 10,
    "start_time": "2021-07-23T12:23:53.618Z"
   },
   {
    "duration": 11,
    "start_time": "2021-07-23T12:23:58.262Z"
   },
   {
    "duration": 364,
    "start_time": "2021-07-23T12:23:59.327Z"
   },
   {
    "duration": 351,
    "start_time": "2021-07-23T12:24:08.958Z"
   },
   {
    "duration": 419,
    "start_time": "2021-07-23T12:32:07.426Z"
   },
   {
    "duration": 13,
    "start_time": "2021-07-23T12:32:08.392Z"
   },
   {
    "duration": 9,
    "start_time": "2021-07-23T12:32:26.801Z"
   },
   {
    "duration": 8,
    "start_time": "2021-07-23T12:32:31.951Z"
   },
   {
    "duration": 9,
    "start_time": "2021-07-23T12:32:32.941Z"
   },
   {
    "duration": 7,
    "start_time": "2021-07-23T12:33:25.061Z"
   },
   {
    "duration": 297,
    "start_time": "2021-07-23T12:33:58.867Z"
   },
   {
    "duration": 7,
    "start_time": "2021-07-23T12:34:04.653Z"
   },
   {
    "duration": 11,
    "start_time": "2021-07-23T12:34:05.567Z"
   },
   {
    "duration": 8,
    "start_time": "2021-07-23T12:34:35.960Z"
   },
   {
    "duration": 5,
    "start_time": "2021-07-23T12:35:09.392Z"
   },
   {
    "duration": 31,
    "start_time": "2021-07-23T12:37:24.942Z"
   },
   {
    "duration": 1544,
    "start_time": "2021-07-23T19:34:39.035Z"
   },
   {
    "duration": 82,
    "start_time": "2021-07-23T19:34:55.277Z"
   },
   {
    "duration": 13,
    "start_time": "2021-07-23T19:34:55.972Z"
   },
   {
    "duration": 20,
    "start_time": "2021-07-23T19:34:57.168Z"
   },
   {
    "duration": 15,
    "start_time": "2021-07-23T19:35:26.045Z"
   },
   {
    "duration": 32,
    "start_time": "2021-07-23T19:35:26.892Z"
   },
   {
    "duration": 10,
    "start_time": "2021-07-23T19:35:36.120Z"
   },
   {
    "duration": 24,
    "start_time": "2021-07-23T19:35:38.631Z"
   },
   {
    "duration": 11,
    "start_time": "2021-07-23T19:36:01.127Z"
   },
   {
    "duration": 4,
    "start_time": "2021-07-23T19:36:03.339Z"
   },
   {
    "duration": 10,
    "start_time": "2021-07-23T19:36:04.085Z"
   },
   {
    "duration": 586,
    "start_time": "2021-07-23T19:36:05.240Z"
   },
   {
    "duration": 24,
    "start_time": "2021-07-23T19:36:07.109Z"
   },
   {
    "duration": 11,
    "start_time": "2021-07-23T19:38:18.305Z"
   },
   {
    "duration": 5,
    "start_time": "2021-07-23T19:38:19.895Z"
   },
   {
    "duration": 7,
    "start_time": "2021-07-23T19:38:23.475Z"
   },
   {
    "duration": 8,
    "start_time": "2021-07-23T19:38:26.763Z"
   },
   {
    "duration": 12,
    "start_time": "2021-07-23T19:38:28.364Z"
   },
   {
    "duration": 388,
    "start_time": "2021-07-23T19:38:31.220Z"
   },
   {
    "duration": 10,
    "start_time": "2021-07-23T19:38:54.665Z"
   },
   {
    "duration": 11,
    "start_time": "2021-07-23T19:40:58.746Z"
   },
   {
    "duration": 8,
    "start_time": "2021-07-23T19:40:59.347Z"
   },
   {
    "duration": 258,
    "start_time": "2021-07-23T19:41:00.963Z"
   },
   {
    "duration": 97,
    "start_time": "2021-07-23T19:41:10.137Z"
   },
   {
    "duration": 25,
    "start_time": "2021-07-23T19:54:38.757Z"
   },
   {
    "duration": 16,
    "start_time": "2021-07-23T19:54:40.269Z"
   },
   {
    "duration": 455,
    "start_time": "2021-07-23T19:54:41.955Z"
   },
   {
    "duration": 8,
    "start_time": "2021-07-23T19:55:07.981Z"
   },
   {
    "duration": 14,
    "start_time": "2021-07-23T19:55:08.687Z"
   },
   {
    "duration": 15,
    "start_time": "2021-07-23T19:55:10.325Z"
   },
   {
    "duration": 8,
    "start_time": "2021-07-23T19:59:06.033Z"
   },
   {
    "duration": 13,
    "start_time": "2021-07-23T19:59:06.745Z"
   },
   {
    "duration": 12,
    "start_time": "2021-07-23T19:59:07.906Z"
   },
   {
    "duration": 269,
    "start_time": "2021-07-23T19:59:27.716Z"
   },
   {
    "duration": 20,
    "start_time": "2021-07-23T20:00:05.901Z"
   },
   {
    "duration": 14,
    "start_time": "2021-07-23T20:00:08.556Z"
   },
   {
    "duration": 11,
    "start_time": "2021-07-23T20:01:15.963Z"
   },
   {
    "duration": 8,
    "start_time": "2021-07-23T20:01:24.024Z"
   },
   {
    "duration": 284,
    "start_time": "2021-07-23T20:01:25.251Z"
   },
   {
    "duration": 7,
    "start_time": "2021-07-23T20:02:08.317Z"
   },
   {
    "duration": 366,
    "start_time": "2021-07-23T20:02:22.945Z"
   },
   {
    "duration": 10,
    "start_time": "2021-07-23T20:02:28.807Z"
   },
   {
    "duration": 1323,
    "start_time": "2021-07-23T20:02:51.003Z"
   },
   {
    "duration": 19,
    "start_time": "2021-07-23T20:03:43.159Z"
   },
   {
    "duration": 19,
    "start_time": "2021-07-23T20:08:27.306Z"
   },
   {
    "duration": 590,
    "start_time": "2021-07-23T20:08:29.148Z"
   },
   {
    "duration": 406,
    "start_time": "2021-07-23T20:11:46.873Z"
   },
   {
    "duration": 44,
    "start_time": "2021-07-23T20:11:56.993Z"
   },
   {
    "duration": 16,
    "start_time": "2021-07-23T20:11:57.522Z"
   },
   {
    "duration": 16,
    "start_time": "2021-07-23T20:11:58.060Z"
   },
   {
    "duration": 8,
    "start_time": "2021-07-23T20:11:58.722Z"
   },
   {
    "duration": 13,
    "start_time": "2021-07-23T20:11:59.222Z"
   },
   {
    "duration": 14,
    "start_time": "2021-07-23T20:11:59.874Z"
   },
   {
    "duration": 14,
    "start_time": "2021-07-23T20:12:02.438Z"
   },
   {
    "duration": 13,
    "start_time": "2021-07-23T20:12:04.568Z"
   },
   {
    "duration": 16,
    "start_time": "2021-07-23T20:12:06.656Z"
   },
   {
    "duration": 550,
    "start_time": "2021-07-23T20:12:27.266Z"
   },
   {
    "duration": 17,
    "start_time": "2021-07-23T20:13:27.516Z"
   },
   {
    "duration": 608,
    "start_time": "2021-07-23T20:13:50.174Z"
   },
   {
    "duration": 425,
    "start_time": "2021-07-23T20:13:52.640Z"
   },
   {
    "duration": 11,
    "start_time": "2021-07-23T20:13:56.809Z"
   },
   {
    "duration": 10,
    "start_time": "2021-07-23T20:13:57.602Z"
   },
   {
    "duration": 682,
    "start_time": "2021-07-23T20:14:40.543Z"
   },
   {
    "duration": 15,
    "start_time": "2021-07-23T20:14:41.407Z"
   },
   {
    "duration": 8,
    "start_time": "2021-07-23T20:19:48.979Z"
   },
   {
    "duration": 12,
    "start_time": "2021-07-23T20:20:01.928Z"
   },
   {
    "duration": 12,
    "start_time": "2021-07-23T20:20:17.423Z"
   },
   {
    "duration": 14,
    "start_time": "2021-07-23T20:20:54.600Z"
   },
   {
    "duration": 7,
    "start_time": "2021-07-23T20:22:09.778Z"
   },
   {
    "duration": 14,
    "start_time": "2021-07-23T20:24:16.168Z"
   },
   {
    "duration": 14,
    "start_time": "2021-07-23T20:27:43.280Z"
   },
   {
    "duration": 6,
    "start_time": "2021-07-23T20:29:03.357Z"
   },
   {
    "duration": 14,
    "start_time": "2021-07-23T20:41:31.435Z"
   },
   {
    "duration": 16,
    "start_time": "2021-07-23T20:42:13.483Z"
   },
   {
    "duration": 9,
    "start_time": "2021-07-23T20:42:41.877Z"
   },
   {
    "duration": 11,
    "start_time": "2021-07-23T20:44:22.501Z"
   },
   {
    "duration": 20,
    "start_time": "2021-07-23T20:44:23.293Z"
   },
   {
    "duration": 16,
    "start_time": "2021-07-23T20:48:52.776Z"
   },
   {
    "duration": 14,
    "start_time": "2021-07-23T20:50:32.029Z"
   },
   {
    "duration": 14,
    "start_time": "2021-07-23T20:50:42.780Z"
   },
   {
    "duration": 14,
    "start_time": "2021-07-23T20:51:05.489Z"
   },
   {
    "duration": 9,
    "start_time": "2021-07-23T20:51:43.638Z"
   },
   {
    "duration": 6,
    "start_time": "2021-07-23T20:51:45.568Z"
   },
   {
    "duration": 17,
    "start_time": "2021-07-23T20:52:03.069Z"
   },
   {
    "duration": 13,
    "start_time": "2021-07-23T20:56:35.564Z"
   },
   {
    "duration": 10,
    "start_time": "2021-07-23T20:56:48.819Z"
   },
   {
    "duration": 9,
    "start_time": "2021-07-23T20:57:18.314Z"
   },
   {
    "duration": 11,
    "start_time": "2021-07-23T20:57:36.794Z"
   },
   {
    "duration": 13,
    "start_time": "2021-07-23T20:57:54.227Z"
   },
   {
    "duration": 18,
    "start_time": "2021-07-23T20:59:05.138Z"
   },
   {
    "duration": 14,
    "start_time": "2021-07-23T21:00:48.967Z"
   },
   {
    "duration": 15,
    "start_time": "2021-07-23T21:04:45.946Z"
   },
   {
    "duration": 12,
    "start_time": "2021-07-23T21:17:07.198Z"
   },
   {
    "duration": 9,
    "start_time": "2021-07-23T21:19:09.196Z"
   },
   {
    "duration": 8,
    "start_time": "2021-07-23T21:19:21.473Z"
   },
   {
    "duration": 645,
    "start_time": "2021-07-23T21:19:22.758Z"
   },
   {
    "duration": 607,
    "start_time": "2021-07-23T21:19:35.256Z"
   },
   {
    "duration": 624,
    "start_time": "2021-07-23T21:20:32.252Z"
   },
   {
    "duration": 10,
    "start_time": "2021-07-23T21:21:29.388Z"
   },
   {
    "duration": 8,
    "start_time": "2021-07-23T21:21:32.697Z"
   },
   {
    "duration": 621,
    "start_time": "2021-07-23T21:21:33.415Z"
   },
   {
    "duration": 1010,
    "start_time": "2021-07-23T21:22:26.644Z"
   },
   {
    "duration": 1249,
    "start_time": "2021-07-23T21:22:42.467Z"
   },
   {
    "duration": 1026,
    "start_time": "2021-07-23T21:23:01.700Z"
   },
   {
    "duration": 597,
    "start_time": "2021-07-23T21:23:22.779Z"
   },
   {
    "duration": 2071,
    "start_time": "2021-07-24T16:39:42.416Z"
   },
   {
    "duration": 75,
    "start_time": "2021-07-24T16:39:44.490Z"
   },
   {
    "duration": 17,
    "start_time": "2021-07-24T16:39:44.569Z"
   },
   {
    "duration": 28,
    "start_time": "2021-07-24T16:39:44.590Z"
   },
   {
    "duration": 24,
    "start_time": "2021-07-24T16:39:45.411Z"
   },
   {
    "duration": 52,
    "start_time": "2021-07-24T16:39:46.008Z"
   },
   {
    "duration": 15,
    "start_time": "2021-07-24T16:39:46.569Z"
   },
   {
    "duration": 34,
    "start_time": "2021-07-24T16:39:48.530Z"
   },
   {
    "duration": 14,
    "start_time": "2021-07-24T16:39:51.961Z"
   },
   {
    "duration": 5,
    "start_time": "2021-07-24T16:39:52.544Z"
   },
   {
    "duration": 9,
    "start_time": "2021-07-24T16:39:53.153Z"
   },
   {
    "duration": 575,
    "start_time": "2021-07-24T16:39:53.706Z"
   },
   {
    "duration": 25,
    "start_time": "2021-07-24T16:39:54.320Z"
   },
   {
    "duration": 387,
    "start_time": "2021-07-24T16:39:54.982Z"
   },
   {
    "duration": 11,
    "start_time": "2021-07-24T16:39:57.313Z"
   },
   {
    "duration": 8,
    "start_time": "2021-07-24T16:39:57.867Z"
   },
   {
    "duration": 274,
    "start_time": "2021-07-24T16:39:58.448Z"
   },
   {
    "duration": 112,
    "start_time": "2021-07-24T16:40:00.972Z"
   },
   {
    "duration": 15,
    "start_time": "2021-07-24T16:40:01.601Z"
   },
   {
    "duration": 413,
    "start_time": "2021-07-24T16:40:02.161Z"
   },
   {
    "duration": 8,
    "start_time": "2021-07-24T16:40:05.423Z"
   },
   {
    "duration": 14,
    "start_time": "2021-07-24T16:40:05.935Z"
   },
   {
    "duration": 11,
    "start_time": "2021-07-24T16:40:06.617Z"
   },
   {
    "duration": 299,
    "start_time": "2021-07-24T16:40:07.247Z"
   },
   {
    "duration": 19,
    "start_time": "2021-07-24T16:40:09.432Z"
   },
   {
    "duration": 15,
    "start_time": "2021-07-24T16:40:10.014Z"
   },
   {
    "duration": 10,
    "start_time": "2021-07-24T16:40:10.541Z"
   },
   {
    "duration": 7,
    "start_time": "2021-07-24T16:40:11.551Z"
   },
   {
    "duration": 290,
    "start_time": "2021-07-24T16:40:12.037Z"
   },
   {
    "duration": 11,
    "start_time": "2021-07-24T16:40:12.582Z"
   },
   {
    "duration": 7,
    "start_time": "2021-07-24T16:40:13.312Z"
   },
   {
    "duration": 394,
    "start_time": "2021-07-24T16:40:13.546Z"
   },
   {
    "duration": 19,
    "start_time": "2021-07-24T16:40:13.943Z"
   },
   {
    "duration": 1368,
    "start_time": "2021-07-24T16:40:14.587Z"
   },
   {
    "duration": 19,
    "start_time": "2021-07-24T16:40:22.807Z"
   },
   {
    "duration": 618,
    "start_time": "2021-07-24T16:40:23.229Z"
   },
   {
    "duration": 44,
    "start_time": "2021-07-24T16:40:43.254Z"
   },
   {
    "duration": 16,
    "start_time": "2021-07-24T16:40:45.240Z"
   },
   {
    "duration": 18,
    "start_time": "2021-07-24T16:40:45.969Z"
   },
   {
    "duration": 9,
    "start_time": "2021-07-24T16:40:46.494Z"
   },
   {
    "duration": 12,
    "start_time": "2021-07-24T16:40:46.884Z"
   },
   {
    "duration": 14,
    "start_time": "2021-07-24T16:40:47.140Z"
   },
   {
    "duration": 13,
    "start_time": "2021-07-24T16:40:48.672Z"
   },
   {
    "duration": 13,
    "start_time": "2021-07-24T16:40:50.245Z"
   },
   {
    "duration": 15,
    "start_time": "2021-07-24T16:40:51.832Z"
   },
   {
    "duration": 583,
    "start_time": "2021-07-24T16:40:52.443Z"
   },
   {
    "duration": 526,
    "start_time": "2021-07-24T16:40:54.059Z"
   },
   {
    "duration": 15,
    "start_time": "2021-07-24T16:40:54.592Z"
   },
   {
    "duration": 14,
    "start_time": "2021-07-24T16:40:55.085Z"
   },
   {
    "duration": 21,
    "start_time": "2021-07-24T16:40:55.527Z"
   },
   {
    "duration": 20,
    "start_time": "2021-07-24T16:40:56.038Z"
   },
   {
    "duration": 22,
    "start_time": "2021-07-24T16:40:56.632Z"
   },
   {
    "duration": 6,
    "start_time": "2021-07-24T16:40:57.472Z"
   },
   {
    "duration": 10,
    "start_time": "2021-07-24T16:41:28.509Z"
   },
   {
    "duration": 8,
    "start_time": "2021-07-24T16:41:29.111Z"
   },
   {
    "duration": 10,
    "start_time": "2021-07-24T16:41:30.625Z"
   },
   {
    "duration": 13,
    "start_time": "2021-07-24T16:41:30.958Z"
   },
   {
    "duration": 15,
    "start_time": "2021-07-24T16:41:31.476Z"
   },
   {
    "duration": 15,
    "start_time": "2021-07-24T16:41:32.463Z"
   },
   {
    "duration": 10,
    "start_time": "2021-07-24T16:41:49.452Z"
   },
   {
    "duration": 8,
    "start_time": "2021-07-24T16:41:50.162Z"
   },
   {
    "duration": 10,
    "start_time": "2021-07-24T16:42:02.992Z"
   },
   {
    "duration": 7,
    "start_time": "2021-07-24T16:42:03.546Z"
   },
   {
    "duration": 638,
    "start_time": "2021-07-24T16:42:04.784Z"
   },
   {
    "duration": 22,
    "start_time": "2021-07-24T16:42:05.561Z"
   },
   {
    "duration": 621,
    "start_time": "2021-07-24T16:56:58.350Z"
   },
   {
    "duration": 569,
    "start_time": "2021-07-24T16:57:06.423Z"
   },
   {
    "duration": 742,
    "start_time": "2021-07-24T16:57:19.802Z"
   },
   {
    "duration": 685,
    "start_time": "2021-07-24T16:57:36.040Z"
   },
   {
    "duration": 914,
    "start_time": "2021-07-24T16:58:22.905Z"
   },
   {
    "duration": 818,
    "start_time": "2021-07-24T17:00:51.967Z"
   },
   {
    "duration": 513,
    "start_time": "2021-07-24T17:06:24.598Z"
   },
   {
    "duration": 527,
    "start_time": "2021-07-24T17:07:18.937Z"
   },
   {
    "duration": 542,
    "start_time": "2021-07-24T17:08:31.233Z"
   },
   {
    "duration": 8,
    "start_time": "2021-07-24T17:08:44.490Z"
   },
   {
    "duration": 709,
    "start_time": "2021-07-24T17:09:06.879Z"
   },
   {
    "duration": 994,
    "start_time": "2021-07-24T17:10:57.375Z"
   },
   {
    "duration": 969,
    "start_time": "2021-07-24T17:12:21.760Z"
   },
   {
    "duration": 1138,
    "start_time": "2021-07-24T17:13:57.273Z"
   },
   {
    "duration": 1001,
    "start_time": "2021-07-24T17:14:43.202Z"
   },
   {
    "duration": 724,
    "start_time": "2021-07-24T17:15:25.137Z"
   },
   {
    "duration": 1603,
    "start_time": "2021-07-25T10:06:46.742Z"
   },
   {
    "duration": 55,
    "start_time": "2021-07-25T10:06:48.347Z"
   },
   {
    "duration": 11,
    "start_time": "2021-07-25T10:06:48.405Z"
   },
   {
    "duration": 18,
    "start_time": "2021-07-25T10:06:48.418Z"
   },
   {
    "duration": 13,
    "start_time": "2021-07-25T10:06:48.438Z"
   },
   {
    "duration": 31,
    "start_time": "2021-07-25T10:06:49.737Z"
   },
   {
    "duration": 10,
    "start_time": "2021-07-25T10:06:50.502Z"
   },
   {
    "duration": 24,
    "start_time": "2021-07-25T10:06:51.877Z"
   },
   {
    "duration": 10,
    "start_time": "2021-07-25T10:06:53.601Z"
   },
   {
    "duration": 4,
    "start_time": "2021-07-25T10:06:53.873Z"
   },
   {
    "duration": 10,
    "start_time": "2021-07-25T10:06:54.718Z"
   },
   {
    "duration": 654,
    "start_time": "2021-07-25T10:06:55.195Z"
   },
   {
    "duration": 33,
    "start_time": "2021-07-25T10:06:55.851Z"
   },
   {
    "duration": 406,
    "start_time": "2021-07-25T10:06:55.888Z"
   },
   {
    "duration": 10,
    "start_time": "2021-07-25T10:06:57.417Z"
   },
   {
    "duration": 10,
    "start_time": "2021-07-25T10:06:57.771Z"
   },
   {
    "duration": 257,
    "start_time": "2021-07-25T10:06:58.327Z"
   },
   {
    "duration": 102,
    "start_time": "2021-07-25T10:06:59.702Z"
   },
   {
    "duration": 16,
    "start_time": "2021-07-25T10:07:00.392Z"
   },
   {
    "duration": 375,
    "start_time": "2021-07-25T10:07:01.220Z"
   },
   {
    "duration": 8,
    "start_time": "2021-07-25T10:07:03.018Z"
   },
   {
    "duration": 13,
    "start_time": "2021-07-25T10:07:03.236Z"
   },
   {
    "duration": 11,
    "start_time": "2021-07-25T10:07:03.447Z"
   },
   {
    "duration": 285,
    "start_time": "2021-07-25T10:07:03.734Z"
   },
   {
    "duration": 18,
    "start_time": "2021-07-25T10:09:31.437Z"
   },
   {
    "duration": 15,
    "start_time": "2021-07-25T10:09:31.942Z"
   },
   {
    "duration": 12,
    "start_time": "2021-07-25T10:09:32.621Z"
   },
   {
    "duration": 8,
    "start_time": "2021-07-25T10:09:34.004Z"
   },
   {
    "duration": 314,
    "start_time": "2021-07-25T10:09:34.755Z"
   },
   {
    "duration": 11,
    "start_time": "2021-07-25T10:09:35.281Z"
   },
   {
    "duration": 6,
    "start_time": "2021-07-25T10:09:36.321Z"
   },
   {
    "duration": 383,
    "start_time": "2021-07-25T10:09:36.807Z"
   },
   {
    "duration": 10,
    "start_time": "2021-07-25T10:09:37.559Z"
   },
   {
    "duration": 1371,
    "start_time": "2021-07-25T10:09:38.749Z"
   },
   {
    "duration": 1363,
    "start_time": "2021-07-25T10:11:11.160Z"
   },
   {
    "duration": 1477,
    "start_time": "2021-07-25T10:13:00.681Z"
   },
   {
    "duration": 1359,
    "start_time": "2021-07-25T10:13:12.271Z"
   },
   {
    "duration": 1350,
    "start_time": "2021-07-25T10:13:51.872Z"
   },
   {
    "duration": 1637,
    "start_time": "2021-07-25T10:16:40.733Z"
   },
   {
    "duration": 1597,
    "start_time": "2021-07-25T10:17:52.280Z"
   },
   {
    "duration": 1337,
    "start_time": "2021-07-25T10:18:14.399Z"
   },
   {
    "duration": 1420,
    "start_time": "2021-07-25T10:18:27.028Z"
   },
   {
    "duration": 1450,
    "start_time": "2021-07-25T10:21:18.053Z"
   },
   {
    "duration": 1443,
    "start_time": "2021-07-25T10:21:33.478Z"
   },
   {
    "duration": 1542,
    "start_time": "2021-07-25T10:22:02.210Z"
   },
   {
    "duration": 1397,
    "start_time": "2021-07-25T10:22:12.690Z"
   },
   {
    "duration": 1405,
    "start_time": "2021-07-25T10:22:53.477Z"
   },
   {
    "duration": 1689,
    "start_time": "2021-07-25T10:23:06.463Z"
   },
   {
    "duration": 1428,
    "start_time": "2021-07-25T10:23:53.099Z"
   },
   {
    "duration": 1456,
    "start_time": "2021-07-25T10:24:00.309Z"
   },
   {
    "duration": 129,
    "start_time": "2021-07-25T10:26:09.468Z"
   },
   {
    "duration": 1427,
    "start_time": "2021-07-25T10:26:21.190Z"
   },
   {
    "duration": 1737,
    "start_time": "2021-07-25T10:26:42.345Z"
   },
   {
    "duration": 1380,
    "start_time": "2021-07-25T10:26:59.882Z"
   },
   {
    "duration": 1425,
    "start_time": "2021-07-25T10:27:15.469Z"
   },
   {
    "duration": 2052,
    "start_time": "2021-07-25T10:30:29.827Z"
   },
   {
    "duration": 1312,
    "start_time": "2021-07-25T10:31:01.436Z"
   },
   {
    "duration": 1441,
    "start_time": "2021-07-25T10:31:09.052Z"
   },
   {
    "duration": 6,
    "start_time": "2021-07-25T10:41:26.725Z"
   },
   {
    "duration": 402,
    "start_time": "2021-07-25T10:41:27.522Z"
   },
   {
    "duration": 11,
    "start_time": "2021-07-25T10:41:38.787Z"
   },
   {
    "duration": 6,
    "start_time": "2021-07-25T10:46:19.342Z"
   },
   {
    "duration": 393,
    "start_time": "2021-07-25T10:46:19.832Z"
   },
   {
    "duration": 11,
    "start_time": "2021-07-25T10:46:20.539Z"
   },
   {
    "duration": 6,
    "start_time": "2021-07-25T10:46:26.267Z"
   },
   {
    "duration": 399,
    "start_time": "2021-07-25T10:46:26.764Z"
   },
   {
    "duration": 11,
    "start_time": "2021-07-25T10:46:28.021Z"
   },
   {
    "duration": 1457,
    "start_time": "2021-07-25T10:46:32.512Z"
   },
   {
    "duration": 18,
    "start_time": "2021-07-25T10:47:28.304Z"
   },
   {
    "duration": 604,
    "start_time": "2021-07-25T10:47:29.246Z"
   },
   {
    "duration": 501,
    "start_time": "2021-07-25T10:48:24.414Z"
   },
   {
    "duration": 495,
    "start_time": "2021-07-25T10:48:43.912Z"
   },
   {
    "duration": 485,
    "start_time": "2021-07-25T10:49:07.111Z"
   },
   {
    "duration": 474,
    "start_time": "2021-07-25T10:49:19.468Z"
   },
   {
    "duration": 40,
    "start_time": "2021-07-25T10:51:51.488Z"
   },
   {
    "duration": 16,
    "start_time": "2021-07-25T10:51:52.187Z"
   },
   {
    "duration": 17,
    "start_time": "2021-07-25T10:51:52.474Z"
   },
   {
    "duration": 10,
    "start_time": "2021-07-25T10:51:52.768Z"
   },
   {
    "duration": 13,
    "start_time": "2021-07-25T10:51:53.103Z"
   },
   {
    "duration": 14,
    "start_time": "2021-07-25T10:51:53.386Z"
   },
   {
    "duration": 14,
    "start_time": "2021-07-25T10:51:54.976Z"
   },
   {
    "duration": 14,
    "start_time": "2021-07-25T10:51:55.223Z"
   },
   {
    "duration": 15,
    "start_time": "2021-07-25T10:51:55.951Z"
   },
   {
    "duration": 567,
    "start_time": "2021-07-25T10:51:57.172Z"
   },
   {
    "duration": 545,
    "start_time": "2021-07-25T10:52:08.519Z"
   },
   {
    "duration": 495,
    "start_time": "2021-07-25T10:52:21.827Z"
   },
   {
    "duration": 762,
    "start_time": "2021-07-25T11:18:35.616Z"
   },
   {
    "duration": 354,
    "start_time": "2021-07-25T11:18:44.235Z"
   },
   {
    "duration": -6342,
    "start_time": "2021-07-25T11:18:50.934Z"
   },
   {
    "duration": 316,
    "start_time": "2021-07-25T11:18:45.259Z"
   },
   {
    "duration": 360,
    "start_time": "2021-07-25T11:18:46.222Z"
   },
   {
    "duration": 5,
    "start_time": "2021-07-25T11:18:56.834Z"
   },
   {
    "duration": 54,
    "start_time": "2021-07-25T11:18:57.130Z"
   },
   {
    "duration": 13,
    "start_time": "2021-07-25T11:18:57.383Z"
   },
   {
    "duration": 14,
    "start_time": "2021-07-25T11:18:57.657Z"
   },
   {
    "duration": 15,
    "start_time": "2021-07-25T11:18:58.163Z"
   },
   {
    "duration": 32,
    "start_time": "2021-07-25T11:18:58.414Z"
   },
   {
    "duration": 10,
    "start_time": "2021-07-25T11:18:58.724Z"
   },
   {
    "duration": 25,
    "start_time": "2021-07-25T11:18:59.431Z"
   },
   {
    "duration": 10,
    "start_time": "2021-07-25T11:19:00.770Z"
   },
   {
    "duration": 4,
    "start_time": "2021-07-25T11:19:00.960Z"
   },
   {
    "duration": 5,
    "start_time": "2021-07-25T11:19:01.167Z"
   },
   {
    "duration": 5,
    "start_time": "2021-07-25T11:19:01.381Z"
   },
   {
    "duration": 12,
    "start_time": "2021-07-25T11:19:01.584Z"
   },
   {
    "duration": 362,
    "start_time": "2021-07-25T11:19:01.790Z"
   },
   {
    "duration": 10,
    "start_time": "2021-07-25T11:19:02.536Z"
   },
   {
    "duration": 8,
    "start_time": "2021-07-25T11:19:02.721Z"
   },
   {
    "duration": 254,
    "start_time": "2021-07-25T11:19:02.916Z"
   },
   {
    "duration": 25,
    "start_time": "2021-07-25T11:19:03.793Z"
   },
   {
    "duration": 15,
    "start_time": "2021-07-25T11:19:03.985Z"
   },
   {
    "duration": 382,
    "start_time": "2021-07-25T11:19:04.183Z"
   },
   {
    "duration": 7,
    "start_time": "2021-07-25T11:19:05.160Z"
   },
   {
    "duration": 13,
    "start_time": "2021-07-25T11:19:05.350Z"
   },
   {
    "duration": 11,
    "start_time": "2021-07-25T11:19:05.545Z"
   },
   {
    "duration": 274,
    "start_time": "2021-07-25T11:19:05.738Z"
   },
   {
    "duration": 17,
    "start_time": "2021-07-25T11:19:06.327Z"
   },
   {
    "duration": 15,
    "start_time": "2021-07-25T11:19:06.505Z"
   },
   {
    "duration": 13,
    "start_time": "2021-07-25T11:19:06.695Z"
   },
   {
    "duration": 7,
    "start_time": "2021-07-25T11:19:07.054Z"
   },
   {
    "duration": 280,
    "start_time": "2021-07-25T11:19:07.236Z"
   },
   {
    "duration": 11,
    "start_time": "2021-07-25T11:19:07.519Z"
   },
   {
    "duration": 7,
    "start_time": "2021-07-25T11:19:07.807Z"
   },
   {
    "duration": 406,
    "start_time": "2021-07-25T11:19:08.008Z"
   },
   {
    "duration": 13,
    "start_time": "2021-07-25T11:19:08.417Z"
   },
   {
    "duration": 1478,
    "start_time": "2021-07-25T11:19:08.537Z"
   },
   {
    "duration": 18,
    "start_time": "2021-07-25T11:19:10.018Z"
   },
   {
    "duration": 495,
    "start_time": "2021-07-25T11:19:10.039Z"
   },
   {
    "duration": 276,
    "start_time": "2021-07-25T11:19:10.536Z"
   },
   {
    "duration": 14,
    "start_time": "2021-07-25T11:19:10.815Z"
   },
   {
    "duration": 17,
    "start_time": "2021-07-25T11:19:10.832Z"
   },
   {
    "duration": 34,
    "start_time": "2021-07-25T11:19:10.851Z"
   },
   {
    "duration": 15,
    "start_time": "2021-07-25T11:19:10.888Z"
   },
   {
    "duration": 17,
    "start_time": "2021-07-25T11:19:10.905Z"
   },
   {
    "duration": 13,
    "start_time": "2021-07-25T11:19:11.645Z"
   },
   {
    "duration": 14,
    "start_time": "2021-07-25T11:19:11.821Z"
   },
   {
    "duration": 17,
    "start_time": "2021-07-25T11:19:12.224Z"
   },
   {
    "duration": 496,
    "start_time": "2021-07-25T11:19:12.447Z"
   },
   {
    "duration": 412,
    "start_time": "2021-07-25T11:19:13.081Z"
   },
   {
    "duration": 12,
    "start_time": "2021-07-25T11:19:13.496Z"
   },
   {
    "duration": 17,
    "start_time": "2021-07-25T11:19:13.511Z"
   },
   {
    "duration": 16,
    "start_time": "2021-07-25T11:19:13.696Z"
   },
   {
    "duration": 14,
    "start_time": "2021-07-25T11:19:13.901Z"
   },
   {
    "duration": 16,
    "start_time": "2021-07-25T11:19:14.087Z"
   },
   {
    "duration": 6,
    "start_time": "2021-07-25T11:19:14.282Z"
   },
   {
    "duration": 9,
    "start_time": "2021-07-25T11:19:15.089Z"
   },
   {
    "duration": 9,
    "start_time": "2021-07-25T11:19:15.295Z"
   },
   {
    "duration": 12,
    "start_time": "2021-07-25T11:19:15.976Z"
   },
   {
    "duration": 14,
    "start_time": "2021-07-25T11:19:16.210Z"
   },
   {
    "duration": 15,
    "start_time": "2021-07-25T11:19:16.446Z"
   },
   {
    "duration": 16,
    "start_time": "2021-07-25T11:19:16.901Z"
   },
   {
    "duration": 11,
    "start_time": "2021-07-25T11:19:18.019Z"
   },
   {
    "duration": 8,
    "start_time": "2021-07-25T11:19:18.228Z"
   },
   {
    "duration": 808,
    "start_time": "2021-07-25T11:19:18.458Z"
   },
   {
    "duration": -6386,
    "start_time": "2021-07-25T11:19:25.656Z"
   },
   {
    "duration": 8,
    "start_time": "2021-07-25T11:19:19.740Z"
   },
   {
    "duration": 703,
    "start_time": "2021-07-25T11:19:31.485Z"
   },
   {
    "duration": 604,
    "start_time": "2021-07-25T11:19:47.584Z"
   },
   {
    "duration": 7,
    "start_time": "2021-07-25T11:19:48.741Z"
   },
   {
    "duration": 701,
    "start_time": "2021-07-25T11:19:49.807Z"
   },
   {
    "duration": 1014,
    "start_time": "2021-07-25T11:19:51.075Z"
   },
   {
    "duration": 522,
    "start_time": "2021-07-25T11:20:53.126Z"
   },
   {
    "duration": 7,
    "start_time": "2021-07-25T11:20:59.660Z"
   },
   {
    "duration": 730,
    "start_time": "2021-07-25T11:21:00.465Z"
   },
   {
    "duration": 1578,
    "start_time": "2021-07-26T12:00:20.003Z"
   },
   {
    "duration": 59,
    "start_time": "2021-07-26T12:00:23.251Z"
   },
   {
    "duration": 14,
    "start_time": "2021-07-26T12:00:23.848Z"
   },
   {
    "duration": 18,
    "start_time": "2021-07-26T12:00:24.824Z"
   },
   {
    "duration": 16,
    "start_time": "2021-07-26T12:00:45.391Z"
   },
   {
    "duration": 32,
    "start_time": "2021-07-26T12:00:45.904Z"
   },
   {
    "duration": 15,
    "start_time": "2021-07-26T12:00:46.451Z"
   },
   {
    "duration": 27,
    "start_time": "2021-07-26T12:00:48.076Z"
   },
   {
    "duration": 10,
    "start_time": "2021-07-26T12:01:04.609Z"
   },
   {
    "duration": 4,
    "start_time": "2021-07-26T12:01:05.221Z"
   },
   {
    "duration": 9,
    "start_time": "2021-07-26T12:01:06.289Z"
   },
   {
    "duration": 702,
    "start_time": "2021-07-26T12:01:06.732Z"
   },
   {
    "duration": 27,
    "start_time": "2021-07-26T12:01:07.437Z"
   },
   {
    "duration": 372,
    "start_time": "2021-07-26T12:01:07.779Z"
   },
   {
    "duration": 11,
    "start_time": "2021-07-26T12:01:30.502Z"
   },
   {
    "duration": 8,
    "start_time": "2021-07-26T12:01:30.912Z"
   },
   {
    "duration": 265,
    "start_time": "2021-07-26T12:01:31.433Z"
   },
   {
    "duration": 114,
    "start_time": "2021-07-26T12:01:36.042Z"
   },
   {
    "duration": 15,
    "start_time": "2021-07-26T12:01:40.305Z"
   },
   {
    "duration": 370,
    "start_time": "2021-07-26T12:01:40.696Z"
   },
   {
    "duration": 9,
    "start_time": "2021-07-26T12:01:49.127Z"
   },
   {
    "duration": 13,
    "start_time": "2021-07-26T12:01:54.565Z"
   },
   {
    "duration": 12,
    "start_time": "2021-07-26T12:01:55.020Z"
   },
   {
    "duration": 272,
    "start_time": "2021-07-26T12:01:55.517Z"
   },
   {
    "duration": 17,
    "start_time": "2021-07-26T12:02:05.352Z"
   },
   {
    "duration": 15,
    "start_time": "2021-07-26T12:02:05.694Z"
   },
   {
    "duration": 11,
    "start_time": "2021-07-26T12:02:06.167Z"
   },
   {
    "duration": 7,
    "start_time": "2021-07-26T12:02:16.451Z"
   },
   {
    "duration": 282,
    "start_time": "2021-07-26T12:02:17.894Z"
   },
   {
    "duration": 10,
    "start_time": "2021-07-26T12:02:18.856Z"
   },
   {
    "duration": 7,
    "start_time": "2021-07-26T12:02:20.579Z"
   },
   {
    "duration": 397,
    "start_time": "2021-07-26T12:02:32.345Z"
   },
   {
    "duration": 11,
    "start_time": "2021-07-26T12:02:32.776Z"
   },
   {
    "duration": 1329,
    "start_time": "2021-07-26T12:02:34.476Z"
   },
   {
    "duration": 19,
    "start_time": "2021-07-26T12:02:58.122Z"
   },
   {
    "duration": 477,
    "start_time": "2021-07-26T12:02:58.948Z"
   },
   {
    "duration": 43,
    "start_time": "2021-07-26T12:03:04.525Z"
   },
   {
    "duration": 16,
    "start_time": "2021-07-26T12:03:05.017Z"
   },
   {
    "duration": 17,
    "start_time": "2021-07-26T12:03:05.757Z"
   },
   {
    "duration": 9,
    "start_time": "2021-07-26T12:03:10.278Z"
   },
   {
    "duration": 14,
    "start_time": "2021-07-26T12:03:10.726Z"
   },
   {
    "duration": 15,
    "start_time": "2021-07-26T12:03:11.142Z"
   },
   {
    "duration": 14,
    "start_time": "2021-07-26T12:03:21.132Z"
   },
   {
    "duration": 13,
    "start_time": "2021-07-26T12:03:22.812Z"
   },
   {
    "duration": 17,
    "start_time": "2021-07-26T12:03:24.079Z"
   },
   {
    "duration": 508,
    "start_time": "2021-07-26T12:03:24.921Z"
   },
   {
    "duration": 642,
    "start_time": "2021-07-26T12:03:55.397Z"
   },
   {
    "duration": 12,
    "start_time": "2021-07-26T12:03:56.042Z"
   },
   {
    "duration": 10,
    "start_time": "2021-07-26T12:03:56.335Z"
   },
   {
    "duration": 16,
    "start_time": "2021-07-26T12:03:56.799Z"
   },
   {
    "duration": 15,
    "start_time": "2021-07-26T12:03:57.493Z"
   },
   {
    "duration": 16,
    "start_time": "2021-07-26T12:03:58.214Z"
   },
   {
    "duration": 5,
    "start_time": "2021-07-26T12:03:58.777Z"
   },
   {
    "duration": 10,
    "start_time": "2021-07-26T12:04:07.653Z"
   },
   {
    "duration": 10,
    "start_time": "2021-07-26T12:04:08.031Z"
   },
   {
    "duration": 11,
    "start_time": "2021-07-26T12:04:09.075Z"
   },
   {
    "duration": 18,
    "start_time": "2021-07-26T12:04:09.515Z"
   },
   {
    "duration": 15,
    "start_time": "2021-07-26T12:04:09.804Z"
   },
   {
    "duration": 16,
    "start_time": "2021-07-26T12:04:10.558Z"
   },
   {
    "duration": 10,
    "start_time": "2021-07-26T12:04:23.908Z"
   },
   {
    "duration": 8,
    "start_time": "2021-07-26T12:04:24.204Z"
   },
   {
    "duration": 608,
    "start_time": "2021-07-26T12:04:24.611Z"
   },
   {
    "duration": 8,
    "start_time": "2021-07-26T12:04:28.168Z"
   },
   {
    "duration": 728,
    "start_time": "2021-07-26T12:04:29.275Z"
   },
   {
    "duration": 1009,
    "start_time": "2021-07-26T12:04:54.453Z"
   },
   {
    "duration": 106,
    "start_time": "2021-07-26T20:31:28.132Z"
   },
   {
    "duration": 100,
    "start_time": "2021-07-26T20:40:19.303Z"
   },
   {
    "duration": 1548,
    "start_time": "2021-07-27T10:27:51.292Z"
   },
   {
    "duration": 58,
    "start_time": "2021-07-27T10:27:52.843Z"
   },
   {
    "duration": 15,
    "start_time": "2021-07-27T10:27:53.163Z"
   },
   {
    "duration": 18,
    "start_time": "2021-07-27T10:27:53.707Z"
   },
   {
    "duration": 14,
    "start_time": "2021-07-27T10:27:54.886Z"
   },
   {
    "duration": 31,
    "start_time": "2021-07-27T10:27:55.389Z"
   },
   {
    "duration": 9,
    "start_time": "2021-07-27T10:27:55.907Z"
   },
   {
    "duration": 24,
    "start_time": "2021-07-27T10:27:58.352Z"
   },
   {
    "duration": 11,
    "start_time": "2021-07-27T10:28:03.943Z"
   },
   {
    "duration": 4,
    "start_time": "2021-07-27T10:28:04.488Z"
   },
   {
    "duration": 10,
    "start_time": "2021-07-27T10:28:04.869Z"
   },
   {
    "duration": 553,
    "start_time": "2021-07-27T10:28:05.108Z"
   },
   {
    "duration": 25,
    "start_time": "2021-07-27T10:28:05.664Z"
   },
   {
    "duration": 375,
    "start_time": "2021-07-27T10:28:06.065Z"
   },
   {
    "duration": 739,
    "start_time": "2021-07-27T10:28:29.822Z"
   },
   {
    "duration": 554,
    "start_time": "2021-07-27T10:32:40.971Z"
   },
   {
    "duration": 370,
    "start_time": "2021-07-27T10:33:40.857Z"
   },
   {
    "duration": 361,
    "start_time": "2021-07-27T10:33:57.905Z"
   },
   {
    "duration": 10,
    "start_time": "2021-07-27T10:39:19.693Z"
   },
   {
    "duration": 8,
    "start_time": "2021-07-27T10:39:19.928Z"
   },
   {
    "duration": 248,
    "start_time": "2021-07-27T10:39:20.189Z"
   },
   {
    "duration": 24,
    "start_time": "2021-07-27T10:39:23.929Z"
   },
   {
    "duration": 21,
    "start_time": "2021-07-27T10:39:24.444Z"
   },
   {
    "duration": 379,
    "start_time": "2021-07-27T10:39:24.978Z"
   },
   {
    "duration": 359,
    "start_time": "2021-07-27T10:39:39.298Z"
   },
   {
    "duration": 11,
    "start_time": "2021-07-27T10:39:43.252Z"
   },
   {
    "duration": 7,
    "start_time": "2021-07-27T10:39:43.531Z"
   },
   {
    "duration": 248,
    "start_time": "2021-07-27T10:39:43.768Z"
   },
   {
    "duration": 26,
    "start_time": "2021-07-27T10:39:52.914Z"
   },
   {
    "duration": 15,
    "start_time": "2021-07-27T10:39:53.572Z"
   },
   {
    "duration": 387,
    "start_time": "2021-07-27T10:39:54.852Z"
   },
   {
    "duration": 385,
    "start_time": "2021-07-27T10:39:59.572Z"
   },
   {
    "duration": 9,
    "start_time": "2021-07-27T10:40:07.853Z"
   },
   {
    "duration": 15,
    "start_time": "2021-07-27T10:40:08.391Z"
   },
   {
    "duration": 11,
    "start_time": "2021-07-27T10:40:08.827Z"
   },
   {
    "duration": 285,
    "start_time": "2021-07-27T10:40:09.364Z"
   },
   {
    "duration": 20,
    "start_time": "2021-07-27T10:40:10.922Z"
   },
   {
    "duration": 14,
    "start_time": "2021-07-27T10:40:11.366Z"
   },
   {
    "duration": 13,
    "start_time": "2021-07-27T10:40:11.989Z"
   },
   {
    "duration": 8,
    "start_time": "2021-07-27T10:40:13.184Z"
   },
   {
    "duration": 295,
    "start_time": "2021-07-27T10:40:14.752Z"
   },
   {
    "duration": 11,
    "start_time": "2021-07-27T10:40:15.576Z"
   },
   {
    "duration": 7,
    "start_time": "2021-07-27T10:40:16.881Z"
   },
   {
    "duration": 490,
    "start_time": "2021-07-27T10:40:17.676Z"
   },
   {
    "duration": 11,
    "start_time": "2021-07-27T10:40:18.467Z"
   },
   {
    "duration": 387,
    "start_time": "2021-07-27T10:40:27.905Z"
   },
   {
    "duration": 11,
    "start_time": "2021-07-27T10:40:36.621Z"
   },
   {
    "duration": 1336,
    "start_time": "2021-07-27T10:40:38.173Z"
   },
   {
    "duration": 281,
    "start_time": "2021-07-27T10:42:54.693Z"
   },
   {
    "duration": 18,
    "start_time": "2021-07-27T10:49:27.722Z"
   },
   {
    "duration": 468,
    "start_time": "2021-07-27T10:49:28.077Z"
   },
   {
    "duration": 53,
    "start_time": "2021-07-27T10:49:31.496Z"
   },
   {
    "duration": 15,
    "start_time": "2021-07-27T10:50:32.712Z"
   },
   {
    "duration": 17,
    "start_time": "2021-07-27T10:50:33.396Z"
   },
   {
    "duration": 9,
    "start_time": "2021-07-27T10:50:33.955Z"
   },
   {
    "duration": 19,
    "start_time": "2021-07-27T10:50:34.467Z"
   },
   {
    "duration": 14,
    "start_time": "2021-07-27T10:50:35.163Z"
   },
   {
    "duration": 14,
    "start_time": "2021-07-27T10:50:37.182Z"
   },
   {
    "duration": 14,
    "start_time": "2021-07-27T10:50:37.770Z"
   },
   {
    "duration": 17,
    "start_time": "2021-07-27T10:50:38.805Z"
   },
   {
    "duration": 498,
    "start_time": "2021-07-27T10:50:39.492Z"
   },
   {
    "duration": 478,
    "start_time": "2021-07-27T10:50:42.713Z"
   },
   {
    "duration": 4763,
    "start_time": "2021-07-27T11:00:17.112Z"
   },
   {
    "duration": 700,
    "start_time": "2021-07-27T11:01:57.999Z"
   },
   {
    "duration": 38,
    "start_time": "2021-07-27T11:02:08.748Z"
   },
   {
    "duration": 4814,
    "start_time": "2021-07-27T11:03:54.492Z"
   },
   {
    "duration": -912,
    "start_time": "2021-07-27T11:04:00.221Z"
   },
   {
    "duration": 4534,
    "start_time": "2021-07-27T11:04:53.374Z"
   },
   {
    "duration": 4366,
    "start_time": "2021-07-27T11:05:50.096Z"
   },
   {
    "duration": 4399,
    "start_time": "2021-07-27T11:08:47.395Z"
   },
   {
    "duration": 12,
    "start_time": "2021-07-27T11:14:28.876Z"
   },
   {
    "duration": 10,
    "start_time": "2021-07-27T11:14:29.112Z"
   },
   {
    "duration": 15,
    "start_time": "2021-07-27T11:14:29.451Z"
   },
   {
    "duration": 14,
    "start_time": "2021-07-27T11:14:30.029Z"
   },
   {
    "duration": 16,
    "start_time": "2021-07-27T11:14:31.118Z"
   },
   {
    "duration": 15,
    "start_time": "2021-07-27T11:22:54.779Z"
   },
   {
    "duration": 5,
    "start_time": "2021-07-27T11:22:55.201Z"
   },
   {
    "duration": 10,
    "start_time": "2021-07-27T11:22:56.901Z"
   },
   {
    "duration": 11,
    "start_time": "2021-07-27T11:22:57.270Z"
   },
   {
    "duration": 15,
    "start_time": "2021-07-27T11:22:58.409Z"
   },
   {
    "duration": 19,
    "start_time": "2021-07-27T11:22:58.740Z"
   },
   {
    "duration": 16,
    "start_time": "2021-07-27T11:22:59.091Z"
   },
   {
    "duration": 17,
    "start_time": "2021-07-27T11:22:59.782Z"
   },
   {
    "duration": 14,
    "start_time": "2021-07-27T11:23:04.392Z"
   },
   {
    "duration": 7,
    "start_time": "2021-07-27T11:23:04.648Z"
   },
   {
    "duration": 820,
    "start_time": "2021-07-27T11:23:04.992Z"
   },
   {
    "duration": 7,
    "start_time": "2021-07-27T11:23:05.815Z"
   },
   {
    "duration": 1139,
    "start_time": "2021-07-27T11:23:05.960Z"
   },
   {
    "duration": 1633,
    "start_time": "2021-07-27T11:23:12.700Z"
   },
   {
    "duration": 1587,
    "start_time": "2021-07-27T19:52:04.441Z"
   },
   {
    "duration": 90,
    "start_time": "2021-07-27T19:52:06.031Z"
   },
   {
    "duration": 14,
    "start_time": "2021-07-27T19:52:06.123Z"
   },
   {
    "duration": 26,
    "start_time": "2021-07-27T19:52:06.140Z"
   },
   {
    "duration": 16,
    "start_time": "2021-07-27T19:52:23.626Z"
   },
   {
    "duration": 41,
    "start_time": "2021-07-27T19:52:24.197Z"
   },
   {
    "duration": 10,
    "start_time": "2021-07-27T19:52:24.579Z"
   },
   {
    "duration": 24,
    "start_time": "2021-07-27T19:52:30.944Z"
   },
   {
    "duration": 11,
    "start_time": "2021-07-27T19:53:12.065Z"
   },
   {
    "duration": 4,
    "start_time": "2021-07-27T19:53:12.349Z"
   },
   {
    "duration": 11,
    "start_time": "2021-07-27T19:53:12.643Z"
   },
   {
    "duration": 613,
    "start_time": "2021-07-27T19:53:12.998Z"
   },
   {
    "duration": 27,
    "start_time": "2021-07-27T19:53:13.614Z"
   },
   {
    "duration": 418,
    "start_time": "2021-07-27T19:53:13.645Z"
   },
   {
    "duration": 11,
    "start_time": "2021-07-27T19:53:20.874Z"
   },
   {
    "duration": 7,
    "start_time": "2021-07-27T19:53:21.333Z"
   },
   {
    "duration": 262,
    "start_time": "2021-07-27T19:53:21.781Z"
   },
   {
    "duration": 345,
    "start_time": "2021-07-27T19:53:39.605Z"
   },
   {
    "duration": 27,
    "start_time": "2021-07-27T19:53:45.114Z"
   },
   {
    "duration": 16,
    "start_time": "2021-07-27T19:53:45.641Z"
   },
   {
    "duration": 425,
    "start_time": "2021-07-27T19:53:46.120Z"
   },
   {
    "duration": 8,
    "start_time": "2021-07-27T19:53:49.745Z"
   },
   {
    "duration": 13,
    "start_time": "2021-07-27T19:53:50.062Z"
   },
   {
    "duration": 11,
    "start_time": "2021-07-27T19:53:50.330Z"
   },
   {
    "duration": 297,
    "start_time": "2021-07-27T19:53:50.590Z"
   },
   {
    "duration": 19,
    "start_time": "2021-07-27T19:53:51.641Z"
   },
   {
    "duration": 14,
    "start_time": "2021-07-27T19:53:52.144Z"
   },
   {
    "duration": 10,
    "start_time": "2021-07-27T19:53:52.422Z"
   },
   {
    "duration": 8,
    "start_time": "2021-07-27T19:53:52.975Z"
   },
   {
    "duration": 287,
    "start_time": "2021-07-27T19:53:54.042Z"
   },
   {
    "duration": 13,
    "start_time": "2021-07-27T19:53:55.221Z"
   },
   {
    "duration": 7,
    "start_time": "2021-07-27T19:53:56.533Z"
   },
   {
    "duration": 472,
    "start_time": "2021-07-27T19:53:57.055Z"
   },
   {
    "duration": 10,
    "start_time": "2021-07-27T19:53:57.609Z"
   },
   {
    "duration": 1385,
    "start_time": "2021-07-27T19:53:58.765Z"
   },
   {
    "duration": 19,
    "start_time": "2021-07-27T19:54:40.176Z"
   },
   {
    "duration": 492,
    "start_time": "2021-07-27T19:54:40.388Z"
   },
   {
    "duration": 45,
    "start_time": "2021-07-27T19:54:46.734Z"
   },
   {
    "duration": 15,
    "start_time": "2021-07-27T20:04:54.497Z"
   },
   {
    "duration": 17,
    "start_time": "2021-07-27T20:04:54.956Z"
   },
   {
    "duration": 8,
    "start_time": "2021-07-27T20:04:55.858Z"
   },
   {
    "duration": 14,
    "start_time": "2021-07-27T20:04:56.474Z"
   },
   {
    "duration": 15,
    "start_time": "2021-07-27T20:04:56.984Z"
   },
   {
    "duration": 14,
    "start_time": "2021-07-27T20:05:00.092Z"
   },
   {
    "duration": 16,
    "start_time": "2021-07-27T20:05:01.656Z"
   },
   {
    "duration": 17,
    "start_time": "2021-07-27T20:05:03.277Z"
   },
   {
    "duration": 588,
    "start_time": "2021-07-27T20:05:03.771Z"
   },
   {
    "duration": 466,
    "start_time": "2021-07-27T20:05:06.504Z"
   },
   {
    "duration": 4768,
    "start_time": "2021-07-27T20:06:47.275Z"
   },
   {
    "duration": 4,
    "start_time": "2021-07-27T20:49:30.915Z"
   },
   {
    "duration": 61,
    "start_time": "2021-07-27T20:49:31.380Z"
   },
   {
    "duration": 15,
    "start_time": "2021-07-27T20:49:31.917Z"
   },
   {
    "duration": 16,
    "start_time": "2021-07-27T20:49:32.400Z"
   },
   {
    "duration": 16,
    "start_time": "2021-07-27T20:49:33.426Z"
   },
   {
    "duration": 33,
    "start_time": "2021-07-27T20:49:33.952Z"
   },
   {
    "duration": 12,
    "start_time": "2021-07-27T20:49:34.450Z"
   },
   {
    "duration": 24,
    "start_time": "2021-07-27T20:49:37.120Z"
   },
   {
    "duration": 10,
    "start_time": "2021-07-27T20:49:49.104Z"
   },
   {
    "duration": 4,
    "start_time": "2021-07-27T20:49:49.830Z"
   },
   {
    "duration": 6,
    "start_time": "2021-07-27T20:49:50.527Z"
   },
   {
    "duration": 7,
    "start_time": "2021-07-27T20:49:51.118Z"
   },
   {
    "duration": 9,
    "start_time": "2021-07-27T20:49:51.626Z"
   },
   {
    "duration": 515,
    "start_time": "2021-07-27T20:49:52.218Z"
   },
   {
    "duration": 10,
    "start_time": "2021-07-27T20:49:55.793Z"
   },
   {
    "duration": 10,
    "start_time": "2021-07-27T20:49:56.537Z"
   },
   {
    "duration": 267,
    "start_time": "2021-07-27T20:49:57.402Z"
   },
   {
    "duration": 25,
    "start_time": "2021-07-27T20:49:59.458Z"
   },
   {
    "duration": 15,
    "start_time": "2021-07-27T20:49:59.766Z"
   },
   {
    "duration": 392,
    "start_time": "2021-07-27T20:50:00.044Z"
   },
   {
    "duration": 8,
    "start_time": "2021-07-27T20:50:02.486Z"
   },
   {
    "duration": 19,
    "start_time": "2021-07-27T20:50:02.969Z"
   },
   {
    "duration": 12,
    "start_time": "2021-07-27T20:50:03.548Z"
   },
   {
    "duration": 291,
    "start_time": "2021-07-27T20:50:04.077Z"
   },
   {
    "duration": 23,
    "start_time": "2021-07-27T20:50:05.173Z"
   },
   {
    "duration": 20,
    "start_time": "2021-07-27T20:50:05.376Z"
   },
   {
    "duration": 12,
    "start_time": "2021-07-27T20:50:05.625Z"
   },
   {
    "duration": 8,
    "start_time": "2021-07-27T20:50:06.258Z"
   },
   {
    "duration": 281,
    "start_time": "2021-07-27T20:50:06.888Z"
   },
   {
    "duration": 11,
    "start_time": "2021-07-27T20:50:07.412Z"
   },
   {
    "duration": 7,
    "start_time": "2021-07-27T20:50:08.415Z"
   },
   {
    "duration": 407,
    "start_time": "2021-07-27T20:50:08.986Z"
   },
   {
    "duration": 12,
    "start_time": "2021-07-27T20:50:09.579Z"
   },
   {
    "duration": 1990,
    "start_time": "2021-07-27T20:50:10.617Z"
   },
   {
    "duration": 20,
    "start_time": "2021-07-27T20:50:16.816Z"
   },
   {
    "duration": 500,
    "start_time": "2021-07-27T20:50:17.375Z"
   },
   {
    "duration": 177,
    "start_time": "2021-07-27T20:50:19.932Z"
   },
   {
    "duration": 16,
    "start_time": "2021-07-27T20:50:21.016Z"
   },
   {
    "duration": 18,
    "start_time": "2021-07-27T20:50:22.322Z"
   },
   {
    "duration": 10,
    "start_time": "2021-07-27T20:50:22.886Z"
   },
   {
    "duration": 14,
    "start_time": "2021-07-27T20:50:23.422Z"
   },
   {
    "duration": 15,
    "start_time": "2021-07-27T20:50:23.946Z"
   },
   {
    "duration": 14,
    "start_time": "2021-07-27T20:50:26.304Z"
   },
   {
    "duration": 14,
    "start_time": "2021-07-27T20:50:26.793Z"
   },
   {
    "duration": 18,
    "start_time": "2021-07-27T20:50:27.871Z"
   },
   {
    "duration": 506,
    "start_time": "2021-07-27T20:50:28.346Z"
   },
   {
    "duration": 5442,
    "start_time": "2021-07-27T20:50:36.365Z"
   },
   {
    "duration": 5082,
    "start_time": "2021-07-27T20:51:52.977Z"
   },
   {
    "duration": 4995,
    "start_time": "2021-07-27T20:54:17.389Z"
   },
   {
    "duration": 5048,
    "start_time": "2021-07-27T20:56:42.157Z"
   },
   {
    "duration": 639,
    "start_time": "2021-07-27T20:59:20.311Z"
   },
   {
    "duration": 40,
    "start_time": "2021-07-27T20:59:36.452Z"
   },
   {
    "duration": 30,
    "start_time": "2021-07-27T20:59:47.653Z"
   },
   {
    "duration": 658,
    "start_time": "2021-07-27T21:00:50.319Z"
   },
   {
    "duration": 43,
    "start_time": "2021-07-27T21:00:51.975Z"
   },
   {
    "duration": 4836,
    "start_time": "2021-07-27T21:02:22.339Z"
   },
   {
    "duration": 4,
    "start_time": "2021-07-27T21:14:26.091Z"
   },
   {
    "duration": 8815,
    "start_time": "2021-07-27T21:15:15.455Z"
   },
   {
    "duration": 5255,
    "start_time": "2021-07-27T21:15:51.436Z"
   },
   {
    "duration": 3,
    "start_time": "2021-07-27T21:16:14.931Z"
   },
   {
    "duration": 11,
    "start_time": "2021-07-27T21:35:14.494Z"
   },
   {
    "duration": 4,
    "start_time": "2021-07-27T21:35:14.720Z"
   },
   {
    "duration": 6,
    "start_time": "2021-07-27T21:35:14.967Z"
   },
   {
    "duration": 6,
    "start_time": "2021-07-27T21:35:15.236Z"
   },
   {
    "duration": 9,
    "start_time": "2021-07-27T21:35:15.458Z"
   },
   {
    "duration": 366,
    "start_time": "2021-07-27T21:35:15.695Z"
   },
   {
    "duration": 12,
    "start_time": "2021-07-27T21:35:33.141Z"
   },
   {
    "duration": 8,
    "start_time": "2021-07-27T21:35:33.333Z"
   },
   {
    "duration": 257,
    "start_time": "2021-07-27T21:35:33.549Z"
   },
   {
    "duration": 26,
    "start_time": "2021-07-27T21:35:35.123Z"
   },
   {
    "duration": 15,
    "start_time": "2021-07-27T21:35:35.337Z"
   },
   {
    "duration": 378,
    "start_time": "2021-07-27T21:35:35.550Z"
   },
   {
    "duration": 7,
    "start_time": "2021-07-27T21:35:37.602Z"
   },
   {
    "duration": 15,
    "start_time": "2021-07-27T21:35:37.801Z"
   },
   {
    "duration": 12,
    "start_time": "2021-07-27T21:35:38.019Z"
   },
   {
    "duration": 287,
    "start_time": "2021-07-27T21:35:38.385Z"
   },
   {
    "duration": 18,
    "start_time": "2021-07-27T21:35:39.458Z"
   },
   {
    "duration": 16,
    "start_time": "2021-07-27T21:35:39.671Z"
   },
   {
    "duration": 11,
    "start_time": "2021-07-27T21:35:39.878Z"
   },
   {
    "duration": 7,
    "start_time": "2021-07-27T21:35:40.267Z"
   },
   {
    "duration": 278,
    "start_time": "2021-07-27T21:35:41.812Z"
   },
   {
    "duration": 11,
    "start_time": "2021-07-27T21:35:42.693Z"
   },
   {
    "duration": 7,
    "start_time": "2021-07-27T21:35:43.144Z"
   },
   {
    "duration": 400,
    "start_time": "2021-07-27T21:35:43.817Z"
   },
   {
    "duration": 12,
    "start_time": "2021-07-27T21:35:44.219Z"
   },
   {
    "duration": 1445,
    "start_time": "2021-07-27T21:35:44.926Z"
   },
   {
    "duration": 18,
    "start_time": "2021-07-27T21:35:55.129Z"
   },
   {
    "duration": 471,
    "start_time": "2021-07-27T21:35:55.473Z"
   },
   {
    "duration": 46,
    "start_time": "2021-07-27T21:35:57.696Z"
   },
   {
    "duration": 14,
    "start_time": "2021-07-27T21:36:11.498Z"
   },
   {
    "duration": 17,
    "start_time": "2021-07-27T21:36:11.984Z"
   },
   {
    "duration": 9,
    "start_time": "2021-07-27T21:36:12.308Z"
   },
   {
    "duration": 15,
    "start_time": "2021-07-27T21:36:12.547Z"
   },
   {
    "duration": 15,
    "start_time": "2021-07-27T21:36:12.753Z"
   },
   {
    "duration": 18,
    "start_time": "2021-07-27T21:36:13.682Z"
   },
   {
    "duration": 14,
    "start_time": "2021-07-27T21:36:13.907Z"
   },
   {
    "duration": 19,
    "start_time": "2021-07-27T21:36:14.326Z"
   },
   {
    "duration": 514,
    "start_time": "2021-07-27T21:36:14.552Z"
   },
   {
    "duration": 4,
    "start_time": "2021-07-27T21:36:16.642Z"
   },
   {
    "duration": 291,
    "start_time": "2021-07-27T21:36:17.319Z"
   },
   {
    "duration": 12,
    "start_time": "2021-07-27T21:36:36.172Z"
   },
   {
    "duration": 10,
    "start_time": "2021-07-27T21:36:36.366Z"
   },
   {
    "duration": 15,
    "start_time": "2021-07-27T21:36:36.562Z"
   },
   {
    "duration": 14,
    "start_time": "2021-07-27T21:36:37.146Z"
   },
   {
    "duration": 15,
    "start_time": "2021-07-27T21:36:45.895Z"
   },
   {
    "duration": 5,
    "start_time": "2021-07-27T21:36:46.193Z"
   },
   {
    "duration": 10,
    "start_time": "2021-07-27T21:36:47.050Z"
   },
   {
    "duration": 9,
    "start_time": "2021-07-27T21:36:47.261Z"
   },
   {
    "duration": 11,
    "start_time": "2021-07-27T21:36:47.836Z"
   },
   {
    "duration": 14,
    "start_time": "2021-07-27T21:36:48.019Z"
   },
   {
    "duration": 16,
    "start_time": "2021-07-27T21:36:48.209Z"
   },
   {
    "duration": 16,
    "start_time": "2021-07-27T21:36:48.593Z"
   },
   {
    "duration": 10,
    "start_time": "2021-07-27T21:36:50.567Z"
   },
   {
    "duration": 8,
    "start_time": "2021-07-27T21:36:50.760Z"
   },
   {
    "duration": 519,
    "start_time": "2021-07-27T21:36:50.938Z"
   },
   {
    "duration": 7,
    "start_time": "2021-07-27T21:36:51.459Z"
   },
   {
    "duration": 713,
    "start_time": "2021-07-27T21:36:51.469Z"
   },
   {
    "duration": 995,
    "start_time": "2021-07-27T21:36:53.011Z"
   },
   {
    "duration": 1275,
    "start_time": "2021-07-28T12:08:19.497Z"
   },
   {
    "duration": 63,
    "start_time": "2021-07-28T12:08:20.774Z"
   },
   {
    "duration": 9,
    "start_time": "2021-07-28T12:08:20.840Z"
   },
   {
    "duration": 16,
    "start_time": "2021-07-28T12:08:20.851Z"
   },
   {
    "duration": 25,
    "start_time": "2021-07-28T12:08:20.869Z"
   },
   {
    "duration": 33,
    "start_time": "2021-07-28T12:08:20.897Z"
   },
   {
    "duration": 8,
    "start_time": "2021-07-28T12:08:20.932Z"
   },
   {
    "duration": 17,
    "start_time": "2021-07-28T12:08:20.942Z"
   },
   {
    "duration": 12,
    "start_time": "2021-07-28T12:08:20.987Z"
   },
   {
    "duration": 5,
    "start_time": "2021-07-28T12:08:21.004Z"
   },
   {
    "duration": 12,
    "start_time": "2021-07-28T12:08:21.011Z"
   },
   {
    "duration": 964,
    "start_time": "2021-07-28T12:08:21.025Z"
   },
   {
    "duration": 31,
    "start_time": "2021-07-28T12:08:21.993Z"
   },
   {
    "duration": 307,
    "start_time": "2021-07-28T12:08:22.026Z"
   },
   {
    "duration": 8,
    "start_time": "2021-07-28T12:08:22.335Z"
   },
   {
    "duration": 10,
    "start_time": "2021-07-28T12:08:22.345Z"
   },
   {
    "duration": 215,
    "start_time": "2021-07-28T12:08:22.357Z"
   },
   {
    "duration": 113,
    "start_time": "2021-07-28T12:08:22.573Z"
   },
   {
    "duration": 18,
    "start_time": "2021-07-28T12:08:22.691Z"
   },
   {
    "duration": 312,
    "start_time": "2021-07-28T12:08:22.712Z"
   },
   {
    "duration": 6,
    "start_time": "2021-07-28T12:08:23.026Z"
   },
   {
    "duration": 12,
    "start_time": "2021-07-28T12:08:23.034Z"
   },
   {
    "duration": 14,
    "start_time": "2021-07-28T12:08:23.048Z"
   },
   {
    "duration": 254,
    "start_time": "2021-07-28T12:08:23.063Z"
   },
   {
    "duration": 16,
    "start_time": "2021-07-28T12:08:23.320Z"
   },
   {
    "duration": 18,
    "start_time": "2021-07-28T12:08:23.338Z"
   },
   {
    "duration": 31,
    "start_time": "2021-07-28T12:08:23.362Z"
   },
   {
    "duration": 12,
    "start_time": "2021-07-28T12:08:23.397Z"
   },
   {
    "duration": 226,
    "start_time": "2021-07-28T12:08:23.412Z"
   },
   {
    "duration": 7,
    "start_time": "2021-07-28T12:08:23.640Z"
   },
   {
    "duration": 9,
    "start_time": "2021-07-28T12:08:23.649Z"
   },
   {
    "duration": 309,
    "start_time": "2021-07-28T12:08:23.659Z"
   },
   {
    "duration": 17,
    "start_time": "2021-07-28T12:08:23.970Z"
   },
   {
    "duration": 1099,
    "start_time": "2021-07-28T12:08:23.991Z"
   },
   {
    "duration": 21,
    "start_time": "2021-07-28T12:08:25.093Z"
   },
   {
    "duration": 384,
    "start_time": "2021-07-28T12:08:25.116Z"
   },
   {
    "duration": 38,
    "start_time": "2021-07-28T12:08:25.503Z"
   },
   {
    "duration": 14,
    "start_time": "2021-07-28T12:08:25.543Z"
   },
   {
    "duration": 31,
    "start_time": "2021-07-28T12:08:25.558Z"
   },
   {
    "duration": 11,
    "start_time": "2021-07-28T12:08:25.592Z"
   },
   {
    "duration": 15,
    "start_time": "2021-07-28T12:08:25.607Z"
   },
   {
    "duration": 11,
    "start_time": "2021-07-28T12:08:25.624Z"
   },
   {
    "duration": 11,
    "start_time": "2021-07-28T12:08:25.637Z"
   },
   {
    "duration": 36,
    "start_time": "2021-07-28T12:08:25.649Z"
   },
   {
    "duration": 18,
    "start_time": "2021-07-28T12:08:25.687Z"
   },
   {
    "duration": 403,
    "start_time": "2021-07-28T12:08:25.710Z"
   },
   {
    "duration": 4,
    "start_time": "2021-07-28T12:08:26.116Z"
   },
   {
    "duration": 502,
    "start_time": "2021-07-28T12:08:26.121Z"
   },
   {
    "duration": 8,
    "start_time": "2021-07-28T12:08:26.625Z"
   },
   {
    "duration": 8,
    "start_time": "2021-07-28T12:08:26.635Z"
   },
   {
    "duration": 9,
    "start_time": "2021-07-28T12:08:26.645Z"
   },
   {
    "duration": 11,
    "start_time": "2021-07-28T12:08:26.656Z"
   },
   {
    "duration": 28,
    "start_time": "2021-07-28T12:08:26.668Z"
   },
   {
    "duration": 6,
    "start_time": "2021-07-28T12:08:26.698Z"
   },
   {
    "duration": 13,
    "start_time": "2021-07-28T12:08:26.706Z"
   },
   {
    "duration": 7,
    "start_time": "2021-07-28T12:08:26.721Z"
   },
   {
    "duration": 8,
    "start_time": "2021-07-28T12:08:26.730Z"
   },
   {
    "duration": 10,
    "start_time": "2021-07-28T12:08:26.740Z"
   },
   {
    "duration": 52,
    "start_time": "2021-07-28T12:08:26.752Z"
   },
   {
    "duration": 15,
    "start_time": "2021-07-28T12:08:26.808Z"
   },
   {
    "duration": 6,
    "start_time": "2021-07-28T12:08:26.826Z"
   },
   {
    "duration": 8,
    "start_time": "2021-07-28T12:08:26.834Z"
   },
   {
    "duration": 421,
    "start_time": "2021-07-28T12:08:26.844Z"
   },
   {
    "duration": 6,
    "start_time": "2021-07-28T12:08:27.267Z"
   },
   {
    "duration": 539,
    "start_time": "2021-07-28T12:08:27.284Z"
   },
   {
    "duration": 734,
    "start_time": "2021-07-28T12:08:27.825Z"
   },
   {
    "duration": 1016,
    "start_time": "2021-07-28T12:09:20.345Z"
   },
   {
    "duration": 1215,
    "start_time": "2021-07-28T12:11:25.011Z"
   },
   {
    "duration": 1032,
    "start_time": "2021-07-28T12:11:38.934Z"
   },
   {
    "duration": 1321,
    "start_time": "2021-07-28T12:11:54.307Z"
   },
   {
    "duration": 90,
    "start_time": "2021-07-28T12:12:39.919Z"
   },
   {
    "duration": 1013,
    "start_time": "2021-07-28T12:12:43.112Z"
   },
   {
    "duration": 1073,
    "start_time": "2021-07-28T12:12:53.074Z"
   },
   {
    "duration": 59,
    "start_time": "2021-07-28T12:13:40.630Z"
   },
   {
    "duration": 1093,
    "start_time": "2021-07-28T12:16:25.923Z"
   }
  ],
  "kernelspec": {
   "display_name": "Python 3",
   "language": "python",
   "name": "python3"
  },
  "language_info": {
   "codemirror_mode": {
    "name": "ipython",
    "version": 3
   },
   "file_extension": ".py",
   "mimetype": "text/x-python",
   "name": "python",
   "nbconvert_exporter": "python",
   "pygments_lexer": "ipython3",
   "version": "3.8.8"
  },
  "toc": {
   "base_numbering": 1,
   "nav_menu": {},
   "number_sections": true,
   "sideBar": true,
   "skip_h1_title": true,
   "title_cell": "Table of Contents",
   "title_sidebar": "Contents",
   "toc_cell": false,
   "toc_position": {},
   "toc_section_display": true,
   "toc_window_display": true
  }
 },
 "nbformat": 4,
 "nbformat_minor": 2
}
