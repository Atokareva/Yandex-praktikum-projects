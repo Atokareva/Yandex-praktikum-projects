{
 "cells": [
  {
   "cell_type": "markdown",
   "metadata": {},
   "source": [
    "# Стратегия взаимодействия с клиентами сети фитнес-центров «Культурист-датасаентист»"
   ]
  },
  {
   "cell_type": "markdown",
   "metadata": {},
   "source": [
    "## Изучение данных и подготовка к анализу"
   ]
  },
  {
   "cell_type": "code",
   "execution_count": 1,
   "metadata": {},
   "outputs": [],
   "source": [
    "import pandas as pd\n",
    "from matplotlib import pyplot as plt\n",
    "import seaborn as sns\n",
    "from sklearn.preprocessing import StandardScaler\n",
    "from sklearn.model_selection import train_test_split\n",
    "from sklearn.linear_model import LogisticRegression\n",
    "from sklearn.ensemble import RandomForestClassifier\n",
    "from sklearn.metrics import accuracy_score, precision_score, recall_score, f1_score, roc_auc_score\n",
    "from sklearn.cluster import KMeans\n",
    "from scipy.cluster.hierarchy import dendrogram, linkage"
   ]
  },
  {
   "cell_type": "code",
   "execution_count": 2,
   "metadata": {},
   "outputs": [],
   "source": [
    "df = pd.read_csv('/datasets/gym_churn.csv')"
   ]
  },
  {
   "cell_type": "code",
   "execution_count": 3,
   "metadata": {},
   "outputs": [
    {
     "name": "stdout",
     "output_type": "stream",
     "text": [
      "<class 'pandas.core.frame.DataFrame'>\n",
      "RangeIndex: 4000 entries, 0 to 3999\n",
      "Data columns (total 14 columns):\n",
      "gender                               4000 non-null int64\n",
      "Near_Location                        4000 non-null int64\n",
      "Partner                              4000 non-null int64\n",
      "Promo_friends                        4000 non-null int64\n",
      "Phone                                4000 non-null int64\n",
      "Contract_period                      4000 non-null int64\n",
      "Group_visits                         4000 non-null int64\n",
      "Age                                  4000 non-null int64\n",
      "Avg_additional_charges_total         4000 non-null float64\n",
      "Month_to_end_contract                4000 non-null float64\n",
      "Lifetime                             4000 non-null int64\n",
      "Avg_class_frequency_total            4000 non-null float64\n",
      "Avg_class_frequency_current_month    4000 non-null float64\n",
      "Churn                                4000 non-null int64\n",
      "dtypes: float64(4), int64(10)\n",
      "memory usage: 437.6 KB\n"
     ]
    }
   ],
   "source": [
    "df.info()"
   ]
  },
  {
   "cell_type": "code",
   "execution_count": 4,
   "metadata": {},
   "outputs": [],
   "source": [
    "df.columns = map(str.lower, df.columns)"
   ]
  },
  {
   "cell_type": "code",
   "execution_count": 5,
   "metadata": {
    "scrolled": true
   },
   "outputs": [
    {
     "data": {
      "text/html": [
       "<div>\n",
       "<style scoped>\n",
       "    .dataframe tbody tr th:only-of-type {\n",
       "        vertical-align: middle;\n",
       "    }\n",
       "\n",
       "    .dataframe tbody tr th {\n",
       "        vertical-align: top;\n",
       "    }\n",
       "\n",
       "    .dataframe thead th {\n",
       "        text-align: right;\n",
       "    }\n",
       "</style>\n",
       "<table border=\"1\" class=\"dataframe\">\n",
       "  <thead>\n",
       "    <tr style=\"text-align: right;\">\n",
       "      <th></th>\n",
       "      <th>gender</th>\n",
       "      <th>near_location</th>\n",
       "      <th>partner</th>\n",
       "      <th>promo_friends</th>\n",
       "      <th>phone</th>\n",
       "      <th>contract_period</th>\n",
       "      <th>group_visits</th>\n",
       "      <th>age</th>\n",
       "      <th>avg_additional_charges_total</th>\n",
       "      <th>month_to_end_contract</th>\n",
       "      <th>lifetime</th>\n",
       "      <th>avg_class_frequency_total</th>\n",
       "      <th>avg_class_frequency_current_month</th>\n",
       "      <th>churn</th>\n",
       "    </tr>\n",
       "  </thead>\n",
       "  <tbody>\n",
       "    <tr>\n",
       "      <td>0</td>\n",
       "      <td>1</td>\n",
       "      <td>1</td>\n",
       "      <td>1</td>\n",
       "      <td>1</td>\n",
       "      <td>0</td>\n",
       "      <td>6</td>\n",
       "      <td>1</td>\n",
       "      <td>29</td>\n",
       "      <td>14.227470</td>\n",
       "      <td>5.0</td>\n",
       "      <td>3</td>\n",
       "      <td>0.020398</td>\n",
       "      <td>0.000000</td>\n",
       "      <td>0</td>\n",
       "    </tr>\n",
       "    <tr>\n",
       "      <td>1</td>\n",
       "      <td>0</td>\n",
       "      <td>1</td>\n",
       "      <td>0</td>\n",
       "      <td>0</td>\n",
       "      <td>1</td>\n",
       "      <td>12</td>\n",
       "      <td>1</td>\n",
       "      <td>31</td>\n",
       "      <td>113.202938</td>\n",
       "      <td>12.0</td>\n",
       "      <td>7</td>\n",
       "      <td>1.922936</td>\n",
       "      <td>1.910244</td>\n",
       "      <td>0</td>\n",
       "    </tr>\n",
       "    <tr>\n",
       "      <td>2</td>\n",
       "      <td>0</td>\n",
       "      <td>1</td>\n",
       "      <td>1</td>\n",
       "      <td>0</td>\n",
       "      <td>1</td>\n",
       "      <td>1</td>\n",
       "      <td>0</td>\n",
       "      <td>28</td>\n",
       "      <td>129.448479</td>\n",
       "      <td>1.0</td>\n",
       "      <td>2</td>\n",
       "      <td>1.859098</td>\n",
       "      <td>1.736502</td>\n",
       "      <td>0</td>\n",
       "    </tr>\n",
       "    <tr>\n",
       "      <td>3</td>\n",
       "      <td>0</td>\n",
       "      <td>1</td>\n",
       "      <td>1</td>\n",
       "      <td>1</td>\n",
       "      <td>1</td>\n",
       "      <td>12</td>\n",
       "      <td>1</td>\n",
       "      <td>33</td>\n",
       "      <td>62.669863</td>\n",
       "      <td>12.0</td>\n",
       "      <td>2</td>\n",
       "      <td>3.205633</td>\n",
       "      <td>3.357215</td>\n",
       "      <td>0</td>\n",
       "    </tr>\n",
       "    <tr>\n",
       "      <td>4</td>\n",
       "      <td>1</td>\n",
       "      <td>1</td>\n",
       "      <td>1</td>\n",
       "      <td>1</td>\n",
       "      <td>1</td>\n",
       "      <td>1</td>\n",
       "      <td>0</td>\n",
       "      <td>26</td>\n",
       "      <td>198.362265</td>\n",
       "      <td>1.0</td>\n",
       "      <td>3</td>\n",
       "      <td>1.113884</td>\n",
       "      <td>1.120078</td>\n",
       "      <td>0</td>\n",
       "    </tr>\n",
       "  </tbody>\n",
       "</table>\n",
       "</div>"
      ],
      "text/plain": [
       "   gender  near_location  partner  promo_friends  phone  contract_period  \\\n",
       "0       1              1        1              1      0                6   \n",
       "1       0              1        0              0      1               12   \n",
       "2       0              1        1              0      1                1   \n",
       "3       0              1        1              1      1               12   \n",
       "4       1              1        1              1      1                1   \n",
       "\n",
       "   group_visits  age  avg_additional_charges_total  month_to_end_contract  \\\n",
       "0             1   29                     14.227470                    5.0   \n",
       "1             1   31                    113.202938                   12.0   \n",
       "2             0   28                    129.448479                    1.0   \n",
       "3             1   33                     62.669863                   12.0   \n",
       "4             0   26                    198.362265                    1.0   \n",
       "\n",
       "   lifetime  avg_class_frequency_total  avg_class_frequency_current_month  \\\n",
       "0         3                   0.020398                           0.000000   \n",
       "1         7                   1.922936                           1.910244   \n",
       "2         2                   1.859098                           1.736502   \n",
       "3         2                   3.205633                           3.357215   \n",
       "4         3                   1.113884                           1.120078   \n",
       "\n",
       "   churn  \n",
       "0      0  \n",
       "1      0  \n",
       "2      0  \n",
       "3      0  \n",
       "4      0  "
      ]
     },
     "execution_count": 5,
     "metadata": {},
     "output_type": "execute_result"
    }
   ],
   "source": [
    "df.head()"
   ]
  },
  {
   "cell_type": "markdown",
   "metadata": {},
   "source": [
    "### Вывод"
   ]
  },
  {
   "cell_type": "markdown",
   "metadata": {},
   "source": [
    "В данных нет пропущенных значений. Для удобства названия признаков (столбцов датасета) были приведены к нижнему регистру."
   ]
  },
  {
   "cell_type": "markdown",
   "metadata": {},
   "source": [
    "## Исследовательский анализ данных (EDA)"
   ]
  },
  {
   "cell_type": "code",
   "execution_count": 6,
   "metadata": {},
   "outputs": [
    {
     "data": {
      "text/html": [
       "<div>\n",
       "<style scoped>\n",
       "    .dataframe tbody tr th:only-of-type {\n",
       "        vertical-align: middle;\n",
       "    }\n",
       "\n",
       "    .dataframe tbody tr th {\n",
       "        vertical-align: top;\n",
       "    }\n",
       "\n",
       "    .dataframe thead th {\n",
       "        text-align: right;\n",
       "    }\n",
       "</style>\n",
       "<table border=\"1\" class=\"dataframe\">\n",
       "  <thead>\n",
       "    <tr style=\"text-align: right;\">\n",
       "      <th></th>\n",
       "      <th>gender</th>\n",
       "      <th>near_location</th>\n",
       "      <th>partner</th>\n",
       "      <th>promo_friends</th>\n",
       "      <th>phone</th>\n",
       "      <th>contract_period</th>\n",
       "      <th>group_visits</th>\n",
       "      <th>age</th>\n",
       "      <th>avg_additional_charges_total</th>\n",
       "      <th>month_to_end_contract</th>\n",
       "      <th>lifetime</th>\n",
       "      <th>avg_class_frequency_total</th>\n",
       "      <th>avg_class_frequency_current_month</th>\n",
       "      <th>churn</th>\n",
       "    </tr>\n",
       "  </thead>\n",
       "  <tbody>\n",
       "    <tr>\n",
       "      <td>count</td>\n",
       "      <td>4000.000000</td>\n",
       "      <td>4000.000000</td>\n",
       "      <td>4000.000000</td>\n",
       "      <td>4000.000000</td>\n",
       "      <td>4000.000000</td>\n",
       "      <td>4000.000000</td>\n",
       "      <td>4000.000000</td>\n",
       "      <td>4000.000000</td>\n",
       "      <td>4000.000000</td>\n",
       "      <td>4000.000000</td>\n",
       "      <td>4000.000000</td>\n",
       "      <td>4000.000000</td>\n",
       "      <td>4000.000000</td>\n",
       "      <td>4000.000000</td>\n",
       "    </tr>\n",
       "    <tr>\n",
       "      <td>mean</td>\n",
       "      <td>0.510250</td>\n",
       "      <td>0.845250</td>\n",
       "      <td>0.486750</td>\n",
       "      <td>0.308500</td>\n",
       "      <td>0.903500</td>\n",
       "      <td>4.681250</td>\n",
       "      <td>0.412250</td>\n",
       "      <td>29.184250</td>\n",
       "      <td>146.943728</td>\n",
       "      <td>4.322750</td>\n",
       "      <td>3.724750</td>\n",
       "      <td>1.879020</td>\n",
       "      <td>1.767052</td>\n",
       "      <td>0.265250</td>\n",
       "    </tr>\n",
       "    <tr>\n",
       "      <td>std</td>\n",
       "      <td>0.499957</td>\n",
       "      <td>0.361711</td>\n",
       "      <td>0.499887</td>\n",
       "      <td>0.461932</td>\n",
       "      <td>0.295313</td>\n",
       "      <td>4.549706</td>\n",
       "      <td>0.492301</td>\n",
       "      <td>3.258367</td>\n",
       "      <td>96.355602</td>\n",
       "      <td>4.191297</td>\n",
       "      <td>3.749267</td>\n",
       "      <td>0.972245</td>\n",
       "      <td>1.052906</td>\n",
       "      <td>0.441521</td>\n",
       "    </tr>\n",
       "    <tr>\n",
       "      <td>min</td>\n",
       "      <td>0.000000</td>\n",
       "      <td>0.000000</td>\n",
       "      <td>0.000000</td>\n",
       "      <td>0.000000</td>\n",
       "      <td>0.000000</td>\n",
       "      <td>1.000000</td>\n",
       "      <td>0.000000</td>\n",
       "      <td>18.000000</td>\n",
       "      <td>0.148205</td>\n",
       "      <td>1.000000</td>\n",
       "      <td>0.000000</td>\n",
       "      <td>0.000000</td>\n",
       "      <td>0.000000</td>\n",
       "      <td>0.000000</td>\n",
       "    </tr>\n",
       "    <tr>\n",
       "      <td>25%</td>\n",
       "      <td>0.000000</td>\n",
       "      <td>1.000000</td>\n",
       "      <td>0.000000</td>\n",
       "      <td>0.000000</td>\n",
       "      <td>1.000000</td>\n",
       "      <td>1.000000</td>\n",
       "      <td>0.000000</td>\n",
       "      <td>27.000000</td>\n",
       "      <td>68.868830</td>\n",
       "      <td>1.000000</td>\n",
       "      <td>1.000000</td>\n",
       "      <td>1.180875</td>\n",
       "      <td>0.963003</td>\n",
       "      <td>0.000000</td>\n",
       "    </tr>\n",
       "    <tr>\n",
       "      <td>50%</td>\n",
       "      <td>1.000000</td>\n",
       "      <td>1.000000</td>\n",
       "      <td>0.000000</td>\n",
       "      <td>0.000000</td>\n",
       "      <td>1.000000</td>\n",
       "      <td>1.000000</td>\n",
       "      <td>0.000000</td>\n",
       "      <td>29.000000</td>\n",
       "      <td>136.220159</td>\n",
       "      <td>1.000000</td>\n",
       "      <td>3.000000</td>\n",
       "      <td>1.832768</td>\n",
       "      <td>1.719574</td>\n",
       "      <td>0.000000</td>\n",
       "    </tr>\n",
       "    <tr>\n",
       "      <td>75%</td>\n",
       "      <td>1.000000</td>\n",
       "      <td>1.000000</td>\n",
       "      <td>1.000000</td>\n",
       "      <td>1.000000</td>\n",
       "      <td>1.000000</td>\n",
       "      <td>6.000000</td>\n",
       "      <td>1.000000</td>\n",
       "      <td>31.000000</td>\n",
       "      <td>210.949625</td>\n",
       "      <td>6.000000</td>\n",
       "      <td>5.000000</td>\n",
       "      <td>2.536078</td>\n",
       "      <td>2.510336</td>\n",
       "      <td>1.000000</td>\n",
       "    </tr>\n",
       "    <tr>\n",
       "      <td>max</td>\n",
       "      <td>1.000000</td>\n",
       "      <td>1.000000</td>\n",
       "      <td>1.000000</td>\n",
       "      <td>1.000000</td>\n",
       "      <td>1.000000</td>\n",
       "      <td>12.000000</td>\n",
       "      <td>1.000000</td>\n",
       "      <td>41.000000</td>\n",
       "      <td>552.590740</td>\n",
       "      <td>12.000000</td>\n",
       "      <td>31.000000</td>\n",
       "      <td>6.023668</td>\n",
       "      <td>6.146783</td>\n",
       "      <td>1.000000</td>\n",
       "    </tr>\n",
       "  </tbody>\n",
       "</table>\n",
       "</div>"
      ],
      "text/plain": [
       "            gender  near_location      partner  promo_friends        phone  \\\n",
       "count  4000.000000    4000.000000  4000.000000    4000.000000  4000.000000   \n",
       "mean      0.510250       0.845250     0.486750       0.308500     0.903500   \n",
       "std       0.499957       0.361711     0.499887       0.461932     0.295313   \n",
       "min       0.000000       0.000000     0.000000       0.000000     0.000000   \n",
       "25%       0.000000       1.000000     0.000000       0.000000     1.000000   \n",
       "50%       1.000000       1.000000     0.000000       0.000000     1.000000   \n",
       "75%       1.000000       1.000000     1.000000       1.000000     1.000000   \n",
       "max       1.000000       1.000000     1.000000       1.000000     1.000000   \n",
       "\n",
       "       contract_period  group_visits          age  \\\n",
       "count      4000.000000   4000.000000  4000.000000   \n",
       "mean          4.681250      0.412250    29.184250   \n",
       "std           4.549706      0.492301     3.258367   \n",
       "min           1.000000      0.000000    18.000000   \n",
       "25%           1.000000      0.000000    27.000000   \n",
       "50%           1.000000      0.000000    29.000000   \n",
       "75%           6.000000      1.000000    31.000000   \n",
       "max          12.000000      1.000000    41.000000   \n",
       "\n",
       "       avg_additional_charges_total  month_to_end_contract     lifetime  \\\n",
       "count                   4000.000000            4000.000000  4000.000000   \n",
       "mean                     146.943728               4.322750     3.724750   \n",
       "std                       96.355602               4.191297     3.749267   \n",
       "min                        0.148205               1.000000     0.000000   \n",
       "25%                       68.868830               1.000000     1.000000   \n",
       "50%                      136.220159               1.000000     3.000000   \n",
       "75%                      210.949625               6.000000     5.000000   \n",
       "max                      552.590740              12.000000    31.000000   \n",
       "\n",
       "       avg_class_frequency_total  avg_class_frequency_current_month  \\\n",
       "count                4000.000000                        4000.000000   \n",
       "mean                    1.879020                           1.767052   \n",
       "std                     0.972245                           1.052906   \n",
       "min                     0.000000                           0.000000   \n",
       "25%                     1.180875                           0.963003   \n",
       "50%                     1.832768                           1.719574   \n",
       "75%                     2.536078                           2.510336   \n",
       "max                     6.023668                           6.146783   \n",
       "\n",
       "             churn  \n",
       "count  4000.000000  \n",
       "mean      0.265250  \n",
       "std       0.441521  \n",
       "min       0.000000  \n",
       "25%       0.000000  \n",
       "50%       0.000000  \n",
       "75%       1.000000  \n",
       "max       1.000000  "
      ]
     },
     "execution_count": 6,
     "metadata": {},
     "output_type": "execute_result"
    }
   ],
   "source": [
    "df.describe()"
   ]
  },
  {
   "cell_type": "markdown",
   "metadata": {},
   "source": [
    "Посмотрим на средние значения признаков в двух группах — тех, кто ушел в отток и тех, кто остался:"
   ]
  },
  {
   "cell_type": "code",
   "execution_count": 7,
   "metadata": {},
   "outputs": [
    {
     "data": {
      "text/html": [
       "<div>\n",
       "<style scoped>\n",
       "    .dataframe tbody tr th:only-of-type {\n",
       "        vertical-align: middle;\n",
       "    }\n",
       "\n",
       "    .dataframe tbody tr th {\n",
       "        vertical-align: top;\n",
       "    }\n",
       "\n",
       "    .dataframe thead th {\n",
       "        text-align: right;\n",
       "    }\n",
       "</style>\n",
       "<table border=\"1\" class=\"dataframe\">\n",
       "  <thead>\n",
       "    <tr style=\"text-align: right;\">\n",
       "      <th></th>\n",
       "      <th>gender</th>\n",
       "      <th>near_location</th>\n",
       "      <th>partner</th>\n",
       "      <th>promo_friends</th>\n",
       "      <th>phone</th>\n",
       "      <th>contract_period</th>\n",
       "      <th>group_visits</th>\n",
       "      <th>age</th>\n",
       "      <th>avg_additional_charges_total</th>\n",
       "      <th>month_to_end_contract</th>\n",
       "      <th>lifetime</th>\n",
       "      <th>avg_class_frequency_total</th>\n",
       "      <th>avg_class_frequency_current_month</th>\n",
       "    </tr>\n",
       "    <tr>\n",
       "      <th>churn</th>\n",
       "      <th></th>\n",
       "      <th></th>\n",
       "      <th></th>\n",
       "      <th></th>\n",
       "      <th></th>\n",
       "      <th></th>\n",
       "      <th></th>\n",
       "      <th></th>\n",
       "      <th></th>\n",
       "      <th></th>\n",
       "      <th></th>\n",
       "      <th></th>\n",
       "      <th></th>\n",
       "    </tr>\n",
       "  </thead>\n",
       "  <tbody>\n",
       "    <tr>\n",
       "      <td>0</td>\n",
       "      <td>0.510037</td>\n",
       "      <td>0.873086</td>\n",
       "      <td>0.534195</td>\n",
       "      <td>0.353522</td>\n",
       "      <td>0.903709</td>\n",
       "      <td>5.747193</td>\n",
       "      <td>0.464103</td>\n",
       "      <td>29.976523</td>\n",
       "      <td>158.445715</td>\n",
       "      <td>5.283089</td>\n",
       "      <td>4.711807</td>\n",
       "      <td>2.024876</td>\n",
       "      <td>2.027882</td>\n",
       "    </tr>\n",
       "    <tr>\n",
       "      <td>1</td>\n",
       "      <td>0.510839</td>\n",
       "      <td>0.768143</td>\n",
       "      <td>0.355325</td>\n",
       "      <td>0.183789</td>\n",
       "      <td>0.902922</td>\n",
       "      <td>1.728558</td>\n",
       "      <td>0.268615</td>\n",
       "      <td>26.989632</td>\n",
       "      <td>115.082899</td>\n",
       "      <td>1.662582</td>\n",
       "      <td>0.990575</td>\n",
       "      <td>1.474995</td>\n",
       "      <td>1.044546</td>\n",
       "    </tr>\n",
       "  </tbody>\n",
       "</table>\n",
       "</div>"
      ],
      "text/plain": [
       "         gender  near_location   partner  promo_friends     phone  \\\n",
       "churn                                                               \n",
       "0      0.510037       0.873086  0.534195       0.353522  0.903709   \n",
       "1      0.510839       0.768143  0.355325       0.183789  0.902922   \n",
       "\n",
       "       contract_period  group_visits        age  avg_additional_charges_total  \\\n",
       "churn                                                                           \n",
       "0             5.747193      0.464103  29.976523                    158.445715   \n",
       "1             1.728558      0.268615  26.989632                    115.082899   \n",
       "\n",
       "       month_to_end_contract  lifetime  avg_class_frequency_total  \\\n",
       "churn                                                               \n",
       "0                   5.283089  4.711807                   2.024876   \n",
       "1                   1.662582  0.990575                   1.474995   \n",
       "\n",
       "       avg_class_frequency_current_month  \n",
       "churn                                     \n",
       "0                               2.027882  \n",
       "1                               1.044546  "
      ]
     },
     "execution_count": 7,
     "metadata": {},
     "output_type": "execute_result"
    }
   ],
   "source": [
    "df.groupby('churn').mean()"
   ]
  },
  {
   "cell_type": "markdown",
   "metadata": {},
   "source": [
    "В группе тех, кто остаётся средние значения всех признаков больше, чем у тех, кто ушел в отток. Особенно видна разница у следующих признаков:\n",
    "- contract_period (длительность текущего действующего абонемента )\n",
    "- month_to_end_contract (срок до окончания текущего действующего абонемента)\n",
    "- lifetime (время с момента первого обращения в фитнес-центр )"
   ]
  },
  {
   "cell_type": "markdown",
   "metadata": {},
   "source": [
    "Построим распределения признаков для тех, кто ушёл (отток) и тех, кто остался (не попали в отток):"
   ]
  },
  {
   "cell_type": "code",
   "execution_count": 8,
   "metadata": {},
   "outputs": [],
   "source": [
    "df_1 = df.query('churn == 0')\n",
    "df_2 = df.query('churn == 1')"
   ]
  },
  {
   "cell_type": "code",
   "execution_count": 9,
   "metadata": {},
   "outputs": [],
   "source": [
    "X_1= df.drop('churn', axis = 1)"
   ]
  },
  {
   "cell_type": "code",
   "execution_count": 10,
   "metadata": {},
   "outputs": [
    {
     "data": {
      "application/javascript": [
       "IPython.OutputArea.prototype._should_scroll = function(lines) {return false;}\n"
      ],
      "text/plain": [
       "<IPython.core.display.Javascript object>"
      ]
     },
     "metadata": {},
     "output_type": "display_data"
    }
   ],
   "source": [
    "%%javascript\n",
    "IPython.OutputArea.prototype._should_scroll = function(lines) {return false;}"
   ]
  },
  {
   "cell_type": "code",
   "execution_count": 11,
   "metadata": {},
   "outputs": [
    {
     "data": {
      "image/png": "[encoded data removed]",
      "text/plain": [
       "<Figure size 432x288 with 1 Axes>"
      ]
     },
     "metadata": {
      "needs_background": "light"
     },
     "output_type": "display_data"
    },
    {
     "data": {
      "image/png": "[encoded data removed]",
      "text/plain": [
       "<Figure size 432x288 with 1 Axes>"
      ]
     },
     "metadata": {
      "needs_background": "light"
     },
     "output_type": "display_data"
    },
    {
     "data": {
      "image/png": "[encoded data removed]",
      "text/plain": [
       "<Figure size 432x288 with 1 Axes>"
      ]
     },
     "metadata": {
      "needs_background": "light"
     },
     "output_type": "display_data"
    },
    {
     "data": {
      "image/png": "[encoded data removed]",
      "text/plain": [
       "<Figure size 432x288 with 1 Axes>"
      ]
     },
     "metadata": {
      "needs_background": "light"
     },
     "output_type": "display_data"
    },
    {
     "data": {
      "image/png": "[encoded data removed]",
      "text/plain": [
       "<Figure size 432x288 with 1 Axes>"
      ]
     },
     "metadata": {
      "needs_background": "light"
     },
     "output_type": "display_data"
    },
    {
     "data": {
      "image/png": "[encoded data removed]",
      "text/plain": [
       "<Figure size 432x288 with 1 Axes>"
      ]
     },
     "metadata": {
      "needs_background": "light"
     },
     "output_type": "display_data"
    },
    {
     "data": {
      "image/png": "[encoded data removed]",
      "text/plain": [
       "<Figure size 432x288 with 1 Axes>"
      ]
     },
     "metadata": {
      "needs_background": "light"
     },
     "output_type": "display_data"
    },
    {
     "data": {
      "image/png": "[encoded data removed]",
      "text/plain": [
       "<Figure size 432x288 with 1 Axes>"
      ]
     },
     "metadata": {
      "needs_background": "light"
     },
     "output_type": "display_data"
    },
    {
     "data": {
      "image/png": "[encoded data removed]",
      "text/plain": [
       "<Figure size 432x288 with 1 Axes>"
      ]
     },
     "metadata": {
      "needs_background": "light"
     },
     "output_type": "display_data"
    },
    {
     "data": {
      "image/png": "[encoded data removed]",
      "text/plain": [
       "<Figure size 432x288 with 1 Axes>"
      ]
     },
     "metadata": {
      "needs_background": "light"
     },
     "output_type": "display_data"
    },
    {
     "data": {
      "image/png": "[encoded data removed]",
      "text/plain": [
       "<Figure size 432x288 with 1 Axes>"
      ]
     },
     "metadata": {
      "needs_background": "light"
     },
     "output_type": "display_data"
    },
    {
     "data": {
      "image/png": "[encoded data removed]",
      "text/plain": [
       "<Figure size 432x288 with 1 Axes>"
      ]
     },
     "metadata": {
      "needs_background": "light"
     },
     "output_type": "display_data"
    },
    {
     "data": {
      "image/png": "[encoded data removed]",
      "text/plain": [
       "<Figure size 432x288 with 1 Axes>"
      ]
     },
     "metadata": {
      "needs_background": "light"
     },
     "output_type": "display_data"
    }
   ],
   "source": [
    "for feature in X_1:\n",
    "    sns.distplot(df_1[feature])\n",
    "    sns.distplot(df_2[feature])\n",
    "    plt.legend(labels = ('Остались', 'Ушли'))\n",
    "    plt.title('Распределение для признака ' + feature)\n",
    "    plt.show()"
   ]
  },
  {
   "cell_type": "markdown",
   "metadata": {},
   "source": [
    "- остаются люди более старшего возраста, в основном 30ти летние, а уходят 25 летние\n",
    "- те кто уходят в основном посещади 1-2 раза в неделю, а те кто остаются 2-3\n",
    "- те кто уходят в последний перед уходом месяц начинают ходять реже, 0-1 раз в неделю\n",
    "- уходят в основном новенькие, они с клубом не более 2,5 месяцев\n",
    "- уходят в основном те, кто покупал абонемент на 1 месяц\n",
    "- уходят в основном те, у кого остаётся один месяц до конца абонемента\n",
    "- те кто уходит тратит на доп услуги меньше тех, кто остаётся"
   ]
  },
  {
   "cell_type": "markdown",
   "metadata": {},
   "source": [
    "Построим матрицу корреляций:"
   ]
  },
  {
   "cell_type": "code",
   "execution_count": 12,
   "metadata": {},
   "outputs": [],
   "source": [
    "cm = df.corr() "
   ]
  },
  {
   "cell_type": "code",
   "execution_count": 13,
   "metadata": {},
   "outputs": [
    {
     "data": {
      "image/png": "[encoded data removed]",
      "text/plain": [
       "<Figure size 1080x864 with 2 Axes>"
      ]
     },
     "metadata": {
      "needs_background": "light"
     },
     "output_type": "display_data"
    }
   ],
   "source": [
    "plt.figure(figsize=(15,12))\n",
    "sns.heatmap(cm, annot = True, square=True, cmap=\"coolwarm\")\n",
    "plt.show()"
   ]
  },
  {
   "cell_type": "markdown",
   "metadata": {},
   "source": [
    "- сильная взаимосвязь (кореляция 0,97) между contract_period и month_to_end_contract\n",
    "(длительность текущего действующего абонемента и срок до окончания текущего действующего абонемента)\n",
    "- сильная взаимосвязь (кореляция 0,95) между avg_class_frequency_total и avg_class_frequency_current_month (ср. частота посещений в неделю за все время с начала действия абонемента и ср. частота посещений в неделю за предыдущий месяц)\n",
    "- есть взаимосвязь (кореляция 0,45) между partner и promo_friends (сотрудник компании-партнёра клуба и факт первоначальной записи в рамках акции «приведи друга»)\n",
    "- есть обратная (не слишком сильная) взаимосвязь между churn и lifetime (-0,44), churn и age (-0,4), churn и avg_class_frequency_current_month (-0,41), churn и contract_period (-0,39), churn и month_to_end_contract (-0,38) (фактом оттока и временем с момента первого обращения, фактом оттока и возрастом клиента, фактом оттока и средней частотой посещений в неделю за предыдущий месяц, фактом оттока и длительностью текущего действующего абонемента, фактом оттока и  сроком до окончания текущего действующего абонемента)"
   ]
  },
  {
   "cell_type": "markdown",
   "metadata": {},
   "source": [
    "### Вывод"
   ]
  },
  {
   "cell_type": "markdown",
   "metadata": {},
   "source": [
    "Похоже, что реже уходят более постоянные клиенты (они раньше начали посещать клуб), клиенты, которые чаще его посещают и у которых не совсем скоро заканчивается абонемент. Взаимосвязь между фактом первоначальной записи по акции \"приведи друга\" и фактом, что клиент является сотрудником компании партнёра клуба может говорить о том, что акциия хорошо работает среди работающих в одной компании людей. Так же есть интересная взаимосвяль между фактом оттока и возратом клиента."
   ]
  },
  {
   "cell_type": "markdown",
   "metadata": {},
   "source": [
    "## Модель прогнозирования оттока клиентов"
   ]
  },
  {
   "cell_type": "markdown",
   "metadata": {},
   "source": [
    "Посмотрим, как соотносятся классы для нашего набора данных"
   ]
  },
  {
   "cell_type": "code",
   "execution_count": 14,
   "metadata": {},
   "outputs": [
    {
     "data": {
      "text/plain": [
       "0    2939\n",
       "1    1061\n",
       "Name: churn, dtype: int64"
      ]
     },
     "execution_count": 14,
     "metadata": {},
     "output_type": "execute_result"
    }
   ],
   "source": [
    "df['churn'].value_counts()"
   ]
  },
  {
   "cell_type": "markdown",
   "metadata": {},
   "source": [
    "Классы несбалансированны, поэтому при проверке качества модели будем смотреть ещё на метрику AUC-ROC — тк она хорошо подходит даже для несбалансированных классов. Определим функцию, которая будет выводить метрики."
   ]
  },
  {
   "cell_type": "code",
   "execution_count": 15,
   "metadata": {},
   "outputs": [],
   "source": [
    "def print_all_metrics(y_true, y_pred, y_proba, title='Метрики классификации'):\n",
    "    print(title)\n",
    "    print('\\tAccuracy: {:.2f}'.format(accuracy_score(y_true, y_pred)))\n",
    "    print('\\tPrecision: {:.2f}'.format(precision_score(y_true, y_pred)))\n",
    "    print('\\tRecall: {:.2f}'.format(recall_score(y_true, y_pred)))\n",
    "    print('\\tF1: {:.2f}'.format(f1_score(y_true, y_pred)))\n",
    "    print('\\tROC_AUC: {:.2f}'.format(roc_auc_score(y_true, y_proba)))"
   ]
  },
  {
   "cell_type": "markdown",
   "metadata": {},
   "source": [
    "Разделим данные на признаки и целевую переменную:"
   ]
  },
  {
   "cell_type": "code",
   "execution_count": 16,
   "metadata": {},
   "outputs": [],
   "source": [
    "X = df.drop('churn', axis = 1)\n",
    "y = df['churn']"
   ]
  },
  {
   "cell_type": "markdown",
   "metadata": {},
   "source": [
    "Разделим данные на обучающую и валидационную выборку:"
   ]
  },
  {
   "cell_type": "code",
   "execution_count": 17,
   "metadata": {},
   "outputs": [],
   "source": [
    "X_train, X_test, y_train, y_test = train_test_split(X, y, test_size=0.2, random_state=0)"
   ]
  },
  {
   "cell_type": "markdown",
   "metadata": {},
   "source": [
    "Стандартизируем данные на валидационной выборке:"
   ]
  },
  {
   "cell_type": "code",
   "execution_count": 18,
   "metadata": {},
   "outputs": [],
   "source": [
    "scaler = StandardScaler()\n",
    "X_train_st = scaler.fit_transform(X_train)"
   ]
  },
  {
   "cell_type": "code",
   "execution_count": 19,
   "metadata": {},
   "outputs": [],
   "source": [
    "X_test_st = scaler.transform(X_test)"
   ]
  },
  {
   "cell_type": "markdown",
   "metadata": {},
   "source": [
    "### Логистическая регрессия"
   ]
  },
  {
   "cell_type": "code",
   "execution_count": 67,
   "metadata": {},
   "outputs": [],
   "source": [
    "lr_model = LogisticRegression(solver='liblinear', random_state=0) "
   ]
  },
  {
   "cell_type": "markdown",
   "metadata": {},
   "source": [
    "Обучим нашу модель:"
   ]
  },
  {
   "cell_type": "code",
   "execution_count": 68,
   "metadata": {},
   "outputs": [
    {
     "data": {
      "text/plain": [
       "LogisticRegression(C=1.0, class_weight=None, dual=False, fit_intercept=True,\n",
       "                   intercept_scaling=1, l1_ratio=None, max_iter=100,\n",
       "                   multi_class='warn', n_jobs=None, penalty='l2',\n",
       "                   random_state=0, solver='liblinear', tol=0.0001, verbose=0,\n",
       "                   warm_start=False)"
      ]
     },
     "execution_count": 68,
     "metadata": {},
     "output_type": "execute_result"
    }
   ],
   "source": [
    "lr_model.fit(X_train_st, y_train)"
   ]
  },
  {
   "cell_type": "markdown",
   "metadata": {},
   "source": [
    "Воспользуемся уже обученной моделью, чтобы сделать прогнозы:"
   ]
  },
  {
   "cell_type": "code",
   "execution_count": 69,
   "metadata": {},
   "outputs": [],
   "source": [
    "lr_predictions = lr_model.predict(X_test_st)\n",
    "lr_probabilities = lr_model.predict_proba(X_test_st)[:, 1]"
   ]
  },
  {
   "cell_type": "code",
   "execution_count": 70,
   "metadata": {},
   "outputs": [
    {
     "name": "stdout",
     "output_type": "stream",
     "text": [
      "Метрики для модели логистической регрессии:\n",
      "\tAccuracy: 0.92\n",
      "\tPrecision: 0.85\n",
      "\tRecall: 0.83\n",
      "\tF1: 0.84\n",
      "\tROC_AUC: 0.97\n"
     ]
    }
   ],
   "source": [
    "print_all_metrics(\n",
    "    y_test,\n",
    "    lr_predictions,\n",
    "    lr_probabilities,\n",
    "    title='Метрики для модели логистической регрессии:',\n",
    ")"
   ]
  },
  {
   "cell_type": "markdown",
   "metadata": {},
   "source": [
    "Все метрики высокие, но мы знаем, что accuracy работает не всегда, а только при условии баланса классов — когда объектов каждого класса примерно поровну. Попробуем рассчитать вектор финальных прогнозов с учётом порога 0,4 и сравним с метриками, полученными при автоматическом расчёте классов."
   ]
  },
  {
   "cell_type": "code",
   "execution_count": 71,
   "metadata": {},
   "outputs": [],
   "source": [
    "threshold = 0.4"
   ]
  },
  {
   "cell_type": "code",
   "execution_count": 72,
   "metadata": {},
   "outputs": [],
   "source": [
    "lr_custom_predictions = [0 if i < threshold else 1 for i in lr_probabilities]"
   ]
  },
  {
   "cell_type": "code",
   "execution_count": 73,
   "metadata": {},
   "outputs": [
    {
     "name": "stdout",
     "output_type": "stream",
     "text": [
      "Метрики для прогноза с кастомным порогом:\n",
      "\tAccuracy: 0.92\n",
      "\tPrecision: 0.82\n",
      "\tRecall: 0.86\n",
      "\tF1: 0.84\n",
      "\tROC_AUC: 0.97\n"
     ]
    }
   ],
   "source": [
    "print_all_metrics(\n",
    "    y_test,\n",
    "    lr_custom_predictions,\n",
    "    lr_probabilities,\n",
    "    title='Метрики для прогноза с кастомным порогом:',\n",
    ")"
   ]
  },
  {
   "cell_type": "markdown",
   "metadata": {},
   "source": [
    "- Модель правильно прогнозирует более 90% ответов\n",
    "- Более 80% прогнозов относительно \"1\" класса верно\n",
    "- Модель смогла обнаружить более 85% объектов класса \"1\" (Факта оттока) \n",
    "- Баланс между метриками тоже высокий - более 80%\n",
    "- AUC-ROC, которая хорошо подходит даже для несбалансированных классов - очень высокий - 97%\n",
    "- При смещении порога вниз приоритетная метрика Recall (полнота) выросла, на Accuracy (доля правильных ответов) и F1 (баланс метрик) это никак не повлияло, а Precision (точность) стала ниже\n",
    "- Тк метрика AUC-ROC и так была высокой, можно было не применять порог для нашей модели или же с ним надо экспериментировать"
   ]
  },
  {
   "cell_type": "markdown",
   "metadata": {},
   "source": [
    "### Случайный лес"
   ]
  },
  {
   "cell_type": "code",
   "execution_count": 74,
   "metadata": {},
   "outputs": [],
   "source": [
    "rf_model = RandomForestClassifier(n_estimators = 100, random_state=0)\n",
    "rf_model.fit(X_train_st, y_train)\n",
    "rf_predictions = rf_model.predict(X_test_st)\n",
    "rf_probabilities = rf_model.predict_proba(X_test_st)[:, 1]"
   ]
  },
  {
   "cell_type": "code",
   "execution_count": 75,
   "metadata": {},
   "outputs": [
    {
     "name": "stdout",
     "output_type": "stream",
     "text": [
      "Метрики для модели случайного леса:\n",
      "\tAccuracy: 0.91\n",
      "\tPrecision: 0.83\n",
      "\tRecall: 0.81\n",
      "\tF1: 0.82\n",
      "\tROC_AUC: 0.97\n"
     ]
    }
   ],
   "source": [
    "print_all_metrics(\n",
    "    y_test,\n",
    "    rf_predictions,\n",
    "    rf_probabilities, \n",
    "    title='Метрики для модели случайного леса:'\n",
    ")\n"
   ]
  },
  {
   "cell_type": "markdown",
   "metadata": {},
   "source": [
    "### Вывод"
   ]
  },
  {
   "cell_type": "markdown",
   "metadata": {},
   "source": [
    "В целом модели отличаются не сильно, но модель линейной регрессии более точно прогнозирует вероятность оттока для каждого клиента, чем модель случайного леса. Однако метрика ROC_AUC, которая содержит в себе максимальное количество информации относительно качества модели у них одинаково высокая - 0,97."
   ]
  },
  {
   "cell_type": "markdown",
   "metadata": {},
   "source": [
    "## Кластеризация клиентов"
   ]
  },
  {
   "cell_type": "code",
   "execution_count": 76,
   "metadata": {},
   "outputs": [],
   "source": [
    "x_sc = scaler.fit_transform(df.drop(columns = ['churn']))"
   ]
  },
  {
   "cell_type": "code",
   "execution_count": 77,
   "metadata": {},
   "outputs": [
    {
     "data": {
      "text/plain": [
       "array([[ 0.97970588,  0.42788074,  1.02686062,  1.49716101, -3.05985201,\n",
       "         0.28989014,  1.19403206, -0.0565538 , -1.37753121,  0.16160501,\n",
       "        -0.19332863, -1.91191971, -1.67847198, -0.75613502],\n",
       "       [-1.0207145 ,  0.42788074, -0.973842  , -0.66793083,  0.32681319,\n",
       "         1.60882159,  1.19403206,  0.55732732, -0.35021325,  1.83194105,\n",
       "         0.87368001,  0.04517569,  0.1360137 , -1.42395133],\n",
       "       [-1.0207145 ,  0.42788074,  1.02686062, -0.66793083,  0.32681319,\n",
       "        -0.8092194 , -0.83749845, -0.36349436, -0.1815923 , -0.79287273,\n",
       "        -0.46008079, -0.02049263, -0.02901851,  0.5794976 ],\n",
       "       [-1.0207145 ,  0.42788074,  1.02686062,  1.49716101,  0.32681319,\n",
       "         1.60882159,  1.19403206,  1.17120844, -0.87472237,  1.83194105,\n",
       "        -0.46008079,  1.36465509,  1.51045005, -1.42395133],\n",
       "       [ 0.97970588,  0.42788074,  1.02686062,  1.49716101,  0.32681319,\n",
       "        -0.8092194 , -0.83749845, -0.97737548,  0.5336998 , -0.79287273,\n",
       "        -0.19332863, -0.78707638, -0.61454183,  0.5794976 ],\n",
       "       [ 0.97970588,  0.42788074, -0.973842  , -0.66793083,  0.32681319,\n",
       "        -0.8092194 ,  1.19403206,  1.478149  ,  3.15330097, -0.79287273,\n",
       "        -0.19332863,  0.76580519,  0.82634551,  1.24731391],\n",
       "       [ 0.97970588,  0.42788074,  1.02686062,  1.49716101, -3.05985201,\n",
       "         0.28989014,  1.19403206,  0.86426788, -0.54676556,  0.40022445,\n",
       "        -0.46008079, -0.76130102, -0.46525669, -0.75613502],\n",
       "       [-1.0207145 ,  0.42788074, -0.973842  , -0.66793083,  0.32681319,\n",
       "        -0.8092194 , -0.83749845,  0.25038676,  0.73531552, -0.79287273,\n",
       "        -0.99358511, -0.68460218, -0.68168915,  0.5794976 ],\n",
       "       [ 0.97970588,  0.42788074,  1.02686062,  1.49716101,  0.32681319,\n",
       "        -0.8092194 ,  1.19403206, -1.89819716, -1.05387243, -0.79287273,\n",
       "        -0.72683295, -0.79494109, -0.67224189,  0.5794976 ],\n",
       "       [-1.0207145 ,  0.42788074, -0.973842  , -0.66793083,  0.32681319,\n",
       "        -0.8092194 , -0.83749845,  0.55732732, -0.84731033, -0.79287273,\n",
       "         1.94068865, -0.07012259,  0.17507634,  1.24731391]])"
      ]
     },
     "execution_count": 77,
     "metadata": {},
     "output_type": "execute_result"
    }
   ],
   "source": [
    "x_sc[:10]"
   ]
  },
  {
   "cell_type": "code",
   "execution_count": 78,
   "metadata": {},
   "outputs": [],
   "source": [
    "linked = linkage(x_sc, method = 'ward') "
   ]
  },
  {
   "cell_type": "code",
   "execution_count": 79,
   "metadata": {},
   "outputs": [
    {
     "data": {
      "image/png": "[encoded data removed]",
      "text/plain": [
       "<Figure size 1080x720 with 1 Axes>"
      ]
     },
     "metadata": {
      "needs_background": "light"
     },
     "output_type": "display_data"
    }
   ],
   "source": [
    "plt.figure(figsize=(15, 10))  \n",
    "dendrogram(linked, orientation='top', no_labels=True)\n",
    "plt.show()"
   ]
  },
  {
   "cell_type": "markdown",
   "metadata": {},
   "source": [
    "Зададим модель на основании алгоритма K-means c числом кластеров n=5:"
   ]
  },
  {
   "cell_type": "code",
   "execution_count": 80,
   "metadata": {},
   "outputs": [],
   "source": [
    "km = KMeans(n_clusters = 5, random_state=0)"
   ]
  },
  {
   "cell_type": "markdown",
   "metadata": {},
   "source": [
    "Спрогнозируем кластеры для клиентов:"
   ]
  },
  {
   "cell_type": "code",
   "execution_count": 81,
   "metadata": {},
   "outputs": [],
   "source": [
    "labels = km.fit_predict(x_sc)"
   ]
  },
  {
   "cell_type": "markdown",
   "metadata": {},
   "source": [
    "Сохраним метки кластера в поле нашего датасета:"
   ]
  },
  {
   "cell_type": "code",
   "execution_count": 82,
   "metadata": {},
   "outputs": [],
   "source": [
    "df['cluster_km'] = labels"
   ]
  },
  {
   "cell_type": "markdown",
   "metadata": {},
   "source": [
    "Посмотрим на средние значения признаков по полученным кластерам:"
   ]
  },
  {
   "cell_type": "code",
   "execution_count": 83,
   "metadata": {},
   "outputs": [
    {
     "data": {
      "text/html": [
       "<div>\n",
       "<style scoped>\n",
       "    .dataframe tbody tr th:only-of-type {\n",
       "        vertical-align: middle;\n",
       "    }\n",
       "\n",
       "    .dataframe tbody tr th {\n",
       "        vertical-align: top;\n",
       "    }\n",
       "\n",
       "    .dataframe thead th {\n",
       "        text-align: right;\n",
       "    }\n",
       "</style>\n",
       "<table border=\"1\" class=\"dataframe\">\n",
       "  <thead>\n",
       "    <tr style=\"text-align: right;\">\n",
       "      <th></th>\n",
       "      <th>gender</th>\n",
       "      <th>near_location</th>\n",
       "      <th>partner</th>\n",
       "      <th>promo_friends</th>\n",
       "      <th>phone</th>\n",
       "      <th>contract_period</th>\n",
       "      <th>group_visits</th>\n",
       "      <th>age</th>\n",
       "      <th>avg_additional_charges_total</th>\n",
       "      <th>month_to_end_contract</th>\n",
       "      <th>lifetime</th>\n",
       "      <th>avg_class_frequency_total</th>\n",
       "      <th>avg_class_frequency_current_month</th>\n",
       "      <th>churn</th>\n",
       "    </tr>\n",
       "    <tr>\n",
       "      <th>cluster_km</th>\n",
       "      <th></th>\n",
       "      <th></th>\n",
       "      <th></th>\n",
       "      <th></th>\n",
       "      <th></th>\n",
       "      <th></th>\n",
       "      <th></th>\n",
       "      <th></th>\n",
       "      <th></th>\n",
       "      <th></th>\n",
       "      <th></th>\n",
       "      <th></th>\n",
       "      <th></th>\n",
       "      <th></th>\n",
       "    </tr>\n",
       "  </thead>\n",
       "  <tbody>\n",
       "    <tr>\n",
       "      <td>0</td>\n",
       "      <td>0.502473</td>\n",
       "      <td>0.959446</td>\n",
       "      <td>0.783383</td>\n",
       "      <td>0.574679</td>\n",
       "      <td>1.000000</td>\n",
       "      <td>10.884273</td>\n",
       "      <td>0.543027</td>\n",
       "      <td>29.980218</td>\n",
       "      <td>160.706969</td>\n",
       "      <td>9.950544</td>\n",
       "      <td>4.738872</td>\n",
       "      <td>1.983305</td>\n",
       "      <td>1.976225</td>\n",
       "      <td>0.027695</td>\n",
       "    </tr>\n",
       "    <tr>\n",
       "      <td>1</td>\n",
       "      <td>0.560335</td>\n",
       "      <td>0.976105</td>\n",
       "      <td>0.356033</td>\n",
       "      <td>0.229391</td>\n",
       "      <td>0.998805</td>\n",
       "      <td>2.665472</td>\n",
       "      <td>0.473118</td>\n",
       "      <td>30.127838</td>\n",
       "      <td>161.724258</td>\n",
       "      <td>2.455197</td>\n",
       "      <td>4.896057</td>\n",
       "      <td>2.851531</td>\n",
       "      <td>2.849473</td>\n",
       "      <td>0.068100</td>\n",
       "    </tr>\n",
       "    <tr>\n",
       "      <td>2</td>\n",
       "      <td>0.495050</td>\n",
       "      <td>0.000000</td>\n",
       "      <td>0.463366</td>\n",
       "      <td>0.079208</td>\n",
       "      <td>1.000000</td>\n",
       "      <td>2.352475</td>\n",
       "      <td>0.215842</td>\n",
       "      <td>28.477228</td>\n",
       "      <td>135.457501</td>\n",
       "      <td>2.198020</td>\n",
       "      <td>2.809901</td>\n",
       "      <td>1.660461</td>\n",
       "      <td>1.477324</td>\n",
       "      <td>0.443564</td>\n",
       "    </tr>\n",
       "    <tr>\n",
       "      <td>3</td>\n",
       "      <td>0.522078</td>\n",
       "      <td>0.862338</td>\n",
       "      <td>0.470130</td>\n",
       "      <td>0.306494</td>\n",
       "      <td>0.000000</td>\n",
       "      <td>4.787013</td>\n",
       "      <td>0.425974</td>\n",
       "      <td>29.301299</td>\n",
       "      <td>143.957664</td>\n",
       "      <td>4.475325</td>\n",
       "      <td>3.924675</td>\n",
       "      <td>1.847220</td>\n",
       "      <td>1.716369</td>\n",
       "      <td>0.267532</td>\n",
       "    </tr>\n",
       "    <tr>\n",
       "      <td>4</td>\n",
       "      <td>0.485737</td>\n",
       "      <td>1.000000</td>\n",
       "      <td>0.350238</td>\n",
       "      <td>0.240095</td>\n",
       "      <td>1.000000</td>\n",
       "      <td>1.948494</td>\n",
       "      <td>0.341521</td>\n",
       "      <td>28.167987</td>\n",
       "      <td>131.622204</td>\n",
       "      <td>1.856577</td>\n",
       "      <td>2.440571</td>\n",
       "      <td>1.247634</td>\n",
       "      <td>1.012983</td>\n",
       "      <td>0.514263</td>\n",
       "    </tr>\n",
       "  </tbody>\n",
       "</table>\n",
       "</div>"
      ],
      "text/plain": [
       "              gender  near_location   partner  promo_friends     phone  \\\n",
       "cluster_km                                                               \n",
       "0           0.502473       0.959446  0.783383       0.574679  1.000000   \n",
       "1           0.560335       0.976105  0.356033       0.229391  0.998805   \n",
       "2           0.495050       0.000000  0.463366       0.079208  1.000000   \n",
       "3           0.522078       0.862338  0.470130       0.306494  0.000000   \n",
       "4           0.485737       1.000000  0.350238       0.240095  1.000000   \n",
       "\n",
       "            contract_period  group_visits        age  \\\n",
       "cluster_km                                             \n",
       "0                 10.884273      0.543027  29.980218   \n",
       "1                  2.665472      0.473118  30.127838   \n",
       "2                  2.352475      0.215842  28.477228   \n",
       "3                  4.787013      0.425974  29.301299   \n",
       "4                  1.948494      0.341521  28.167987   \n",
       "\n",
       "            avg_additional_charges_total  month_to_end_contract  lifetime  \\\n",
       "cluster_km                                                                  \n",
       "0                             160.706969               9.950544  4.738872   \n",
       "1                             161.724258               2.455197  4.896057   \n",
       "2                             135.457501               2.198020  2.809901   \n",
       "3                             143.957664               4.475325  3.924675   \n",
       "4                             131.622204               1.856577  2.440571   \n",
       "\n",
       "            avg_class_frequency_total  avg_class_frequency_current_month  \\\n",
       "cluster_km                                                                 \n",
       "0                            1.983305                           1.976225   \n",
       "1                            2.851531                           2.849473   \n",
       "2                            1.660461                           1.477324   \n",
       "3                            1.847220                           1.716369   \n",
       "4                            1.247634                           1.012983   \n",
       "\n",
       "               churn  \n",
       "cluster_km            \n",
       "0           0.027695  \n",
       "1           0.068100  \n",
       "2           0.443564  \n",
       "3           0.267532  \n",
       "4           0.514263  "
      ]
     },
     "execution_count": 83,
     "metadata": {},
     "output_type": "execute_result"
    }
   ],
   "source": [
    "df.groupby('cluster_km').mean()"
   ]
  },
  {
   "cell_type": "markdown",
   "metadata": {},
   "source": [
    "- В '0' кластере значительная часть сотрудников компаний-партнёров клуба (почти 80%), самые длинные абонементы (почти 11 мес в среднем), более 50% клиентов посещают групповые занятия, почти 96% клиентов проживают или работают в районе фитнес-центра\n",
    "- В '4' кластере 97% проживают или работают в районе фитрес-центра, 47% посещают групповые занятия, самая крупная средняя выручка от доп услуг центра по сравнению с клиентами из др кластеров (162), ср. длительность с момента первого посещения центра наибольшая (4,9 мес), частота посещений в неделю самая высокая (2,8 в ср)\n",
    "- Во '2' кластере мало клиентов посещают групповые занятия (22%), мало кто их них пришел по акции 'приведи друга' (8%) \n",
    "- В '3' кластере наименьшее кол-во клиентов сотрудников компаний-партнёров клуба (35%), наименьшая длительность текущего действующего абонемента (1,9 в ср), наименьшая суммарная выручка от доп услуг центра"
   ]
  },
  {
   "cell_type": "markdown",
   "metadata": {},
   "source": [
    "Посмотрим на распределения признаков для кластеров:"
   ]
  },
  {
   "cell_type": "code",
   "execution_count": 84,
   "metadata": {},
   "outputs": [],
   "source": [
    "X_2 = df.drop('churn', axis = 1)"
   ]
  },
  {
   "cell_type": "code",
   "execution_count": 85,
   "metadata": {},
   "outputs": [
    {
     "data": {
      "application/javascript": [
       "IPython.OutputArea.prototype._should_scroll = function(lines) {return false;}\n"
      ],
      "text/plain": [
       "<IPython.core.display.Javascript object>"
      ]
     },
     "metadata": {},
     "output_type": "display_data"
    }
   ],
   "source": [
    "%%javascript\n",
    "IPython.OutputArea.prototype._should_scroll = function(lines) {return false;}"
   ]
  },
  {
   "cell_type": "code",
   "execution_count": 86,
   "metadata": {},
   "outputs": [
    {
     "name": "stderr",
     "output_type": "stream",
     "text": [
      "/opt/conda/lib/python3.7/site-packages/statsmodels/nonparametric/kde.py:487: RuntimeWarning: invalid value encountered in true_divide\n",
      "  binned = fast_linbin(X, a, b, gridsize) / (delta * nobs)\n",
      "/opt/conda/lib/python3.7/site-packages/statsmodels/nonparametric/kdetools.py:34: RuntimeWarning: invalid value encountered in double_scalars\n",
      "  FAC1 = 2*(np.pi*bw/RANGE)**2\n"
     ]
    },
    {
     "data": {
      "image/png": "[encoded data removed]",
      "text/plain": [
       "<Figure size 432x288 with 1 Axes>"
      ]
     },
     "metadata": {
      "needs_background": "light"
     },
     "output_type": "display_data"
    },
    {
     "data": {
      "image/png": "[encoded data removed]",
      "text/plain": [
       "<Figure size 432x288 with 1 Axes>"
      ]
     },
     "metadata": {
      "needs_background": "light"
     },
     "output_type": "display_data"
    },
    {
     "data": {
      "image/png": "[encoded data removed]",
      "text/plain": [
       "<Figure size 432x288 with 1 Axes>"
      ]
     },
     "metadata": {
      "needs_background": "light"
     },
     "output_type": "display_data"
    },
    {
     "data": {
      "image/png": "[encoded data removed]",
      "text/plain": [
       "<Figure size 432x288 with 1 Axes>"
      ]
     },
     "metadata": {
      "needs_background": "light"
     },
     "output_type": "display_data"
    },
    {
     "data": {
      "image/png": "[encoded data removed]",
      "text/plain": [
       "<Figure size 432x288 with 1 Axes>"
      ]
     },
     "metadata": {
      "needs_background": "light"
     },
     "output_type": "display_data"
    },
    {
     "data": {
      "image/png": "[encoded data removed]",
      "text/plain": [
       "<Figure size 432x288 with 1 Axes>"
      ]
     },
     "metadata": {
      "needs_background": "light"
     },
     "output_type": "display_data"
    },
    {
     "data": {
      "image/png": "[encoded data removed]",
      "text/plain": [
       "<Figure size 432x288 with 1 Axes>"
      ]
     },
     "metadata": {
      "needs_background": "light"
     },
     "output_type": "display_data"
    },
    {
     "data": {
      "image/png": "[encoded data removed]",
      "text/plain": [
       "<Figure size 432x288 with 1 Axes>"
      ]
     },
     "metadata": {
      "needs_background": "light"
     },
     "output_type": "display_data"
    },
    {
     "data": {
      "image/png": "[encoded data removed]",
      "text/plain": [
       "<Figure size 432x288 with 1 Axes>"
      ]
     },
     "metadata": {
      "needs_background": "light"
     },
     "output_type": "display_data"
    },
    {
     "data": {
      "image/png": "[encoded data removed]",
      "text/plain": [
       "<Figure size 432x288 with 1 Axes>"
      ]
     },
     "metadata": {
      "needs_background": "light"
     },
     "output_type": "display_data"
    },
    {
     "data": {
      "image/png": "[encoded data removed]",
      "text/plain": [
       "<Figure size 432x288 with 1 Axes>"
      ]
     },
     "metadata": {
      "needs_background": "light"
     },
     "output_type": "display_data"
    },
    {
     "data": {
      "image/png": "[encoded data removed]",
      "text/plain": [
       "<Figure size 432x288 with 1 Axes>"
      ]
     },
     "metadata": {
      "needs_background": "light"
     },
     "output_type": "display_data"
    },
    {
     "data": {
      "image/png": "[encoded data removed]",
      "text/plain": [
       "<Figure size 432x288 with 1 Axes>"
      ]
     },
     "metadata": {
      "needs_background": "light"
     },
     "output_type": "display_data"
    },
    {
     "data": {
      "image/png": "[encoded data removed]",
      "text/plain": [
       "<Figure size 432x288 with 1 Axes>"
      ]
     },
     "metadata": {
      "needs_background": "light"
     },
     "output_type": "display_data"
    }
   ],
   "source": [
    "for feature in X_1:\n",
    "    plt.figure()\n",
    "    for i in range(0,5):\n",
    "        sns.distplot(X_2.query('cluster_km == @i')[feature],\n",
    "                    hist=False,\n",
    "                    rug=True,\n",
    "                    kde_kws={'label':'Кластер'+ str(i)},\n",
    "                    )\n",
    "plt.show()"
   ]
  },
  {
   "cell_type": "markdown",
   "metadata": {},
   "source": [
    "- В кластерах '0' и '4' наиболее старшие люди по возрасту (в основном ~30 лет)\n",
    "- Во '2' и '3' кластере в оновном клиенты с самым коротким Lifetime и самой маленькой частотой посещений в неделю и в основном это самые молодые по возрасту"
   ]
  },
  {
   "cell_type": "markdown",
   "metadata": {},
   "source": [
    "Посмотрим, какие кластеры склонны к оттоку, а какие — надёжны:"
   ]
  },
  {
   "cell_type": "code",
   "execution_count": 87,
   "metadata": {},
   "outputs": [
    {
     "data": {
      "text/html": [
       "<div>\n",
       "<style scoped>\n",
       "    .dataframe tbody tr th:only-of-type {\n",
       "        vertical-align: middle;\n",
       "    }\n",
       "\n",
       "    .dataframe tbody tr th {\n",
       "        vertical-align: top;\n",
       "    }\n",
       "\n",
       "    .dataframe thead th {\n",
       "        text-align: right;\n",
       "    }\n",
       "</style>\n",
       "<table border=\"1\" class=\"dataframe\">\n",
       "  <thead>\n",
       "    <tr style=\"text-align: right;\">\n",
       "      <th></th>\n",
       "      <th>churn</th>\n",
       "    </tr>\n",
       "    <tr>\n",
       "      <th>cluster_km</th>\n",
       "      <th></th>\n",
       "    </tr>\n",
       "  </thead>\n",
       "  <tbody>\n",
       "    <tr>\n",
       "      <td>0</td>\n",
       "      <td>0.027695</td>\n",
       "    </tr>\n",
       "    <tr>\n",
       "      <td>1</td>\n",
       "      <td>0.068100</td>\n",
       "    </tr>\n",
       "    <tr>\n",
       "      <td>2</td>\n",
       "      <td>0.443564</td>\n",
       "    </tr>\n",
       "    <tr>\n",
       "      <td>3</td>\n",
       "      <td>0.267532</td>\n",
       "    </tr>\n",
       "    <tr>\n",
       "      <td>4</td>\n",
       "      <td>0.514263</td>\n",
       "    </tr>\n",
       "  </tbody>\n",
       "</table>\n",
       "</div>"
      ],
      "text/plain": [
       "               churn\n",
       "cluster_km          \n",
       "0           0.027695\n",
       "1           0.068100\n",
       "2           0.443564\n",
       "3           0.267532\n",
       "4           0.514263"
      ]
     },
     "execution_count": 87,
     "metadata": {},
     "output_type": "execute_result"
    }
   ],
   "source": [
    "df.pivot_table(index=['cluster_km'],\n",
    "    values=('churn'),\n",
    "    aggfunc='mean')"
   ]
  },
  {
   "cell_type": "markdown",
   "metadata": {},
   "source": [
    "- Кластер '3' - самый наиболее склонный к оттоку (51% доля оттока)\n",
    "- Кластер '2' - тоже склонен к оттоку (44%)\n",
    "- Кластер '1' - менее склонен, чем предыдущие (27%)\n",
    "- Кластер '4' - почти не склонен (7%)\n",
    "- Кластер '0' - самый надёжный (3%)"
   ]
  },
  {
   "cell_type": "markdown",
   "metadata": {},
   "source": [
    "### Вывод"
   ]
  },
  {
   "cell_type": "markdown",
   "metadata": {},
   "source": [
    "## Общий вывод"
   ]
  },
  {
   "cell_type": "markdown",
   "metadata": {},
   "source": [
    "Самые надёжные клиенты фитнес-центра: близко живут или работают, посещают групповые занятия, покупают абонементы на большой срок, среди них много сотрудников компаний-партнёров и довольно часто они впервые приходят по акции \"приведи друга\". Склонные к оттоку клиенты: более молодые, покупают абонементы на короткий срок, среди них очень мало сотрудников компаний-партнёров и пришедших по акции \"приведи друга\" и они реже посещают занятия. \n",
    "\n",
    "<p>Рекомендации по повышению качества работы с клиентами:\n",
    "\n",
    "    - Запустить акцию \"рассрочка\" в целях стимулирования клиентов приобрести абонемент на бОльший срок\n",
    "    - Предоставлять новым клиентам скидку на абонементы, длительностью более 1 месяца\n",
    "    - Предоставлять скидки в течение первого месяца на услуги фитнес-центра новым клиентам\n",
    "    - Осуществлять 2 раза в месяц email/sms рассылки с напоминанием о действующих акциях"
   ]
  }
 ],
 "metadata": {
  "ExecuteTimeLog": [
   {
    "duration": 345,
    "start_time": "2021-09-20T11:38:13.935Z"
   },
   {
    "duration": 642,
    "start_time": "2021-09-20T11:38:22.556Z"
   },
   {
    "duration": 25,
    "start_time": "2021-09-20T11:38:24.516Z"
   },
   {
    "duration": 23,
    "start_time": "2021-09-20T11:38:31.728Z"
   },
   {
    "duration": 17,
    "start_time": "2021-09-20T11:39:05.588Z"
   },
   {
    "duration": 8,
    "start_time": "2021-09-20T11:39:34.139Z"
   },
   {
    "duration": 46,
    "start_time": "2021-09-20T11:41:14.811Z"
   },
   {
    "duration": 17,
    "start_time": "2021-09-20T11:42:57.229Z"
   },
   {
    "duration": 5,
    "start_time": "2021-09-20T11:54:30.565Z"
   },
   {
    "duration": 3,
    "start_time": "2021-09-20T11:54:41.370Z"
   },
   {
    "duration": 360,
    "start_time": "2021-09-20T11:54:49.692Z"
   },
   {
    "duration": 298,
    "start_time": "2021-09-20T11:55:12.529Z"
   },
   {
    "duration": 287,
    "start_time": "2021-09-20T11:55:32.405Z"
   },
   {
    "duration": 377,
    "start_time": "2021-09-20T11:55:37.395Z"
   },
   {
    "duration": 403,
    "start_time": "2021-09-20T11:57:14.564Z"
   },
   {
    "duration": 307,
    "start_time": "2021-09-20T11:57:30.866Z"
   },
   {
    "duration": 3,
    "start_time": "2021-09-20T11:57:40.044Z"
   },
   {
    "duration": 23,
    "start_time": "2021-09-20T11:57:40.528Z"
   },
   {
    "duration": 8,
    "start_time": "2021-09-20T11:57:41.001Z"
   },
   {
    "duration": 42,
    "start_time": "2021-09-20T11:57:41.447Z"
   },
   {
    "duration": 12,
    "start_time": "2021-09-20T11:57:41.969Z"
   },
   {
    "duration": 4,
    "start_time": "2021-09-20T11:57:42.530Z"
   },
   {
    "duration": 13,
    "start_time": "2021-09-20T11:57:48.342Z"
   },
   {
    "duration": 661,
    "start_time": "2021-09-20T11:58:07.633Z"
   },
   {
    "duration": 5,
    "start_time": "2021-09-20T12:07:37.902Z"
   },
   {
    "duration": 18,
    "start_time": "2021-09-20T12:10:47.773Z"
   },
   {
    "duration": 636,
    "start_time": "2021-09-20T12:24:15.862Z"
   },
   {
    "duration": 25,
    "start_time": "2021-09-20T12:24:17.212Z"
   },
   {
    "duration": 11,
    "start_time": "2021-09-20T12:24:17.747Z"
   },
   {
    "duration": 67,
    "start_time": "2021-09-20T12:24:18.215Z"
   },
   {
    "duration": 5,
    "start_time": "2021-09-20T12:24:18.683Z"
   },
   {
    "duration": 16,
    "start_time": "2021-09-20T12:24:19.206Z"
   },
   {
    "duration": 17,
    "start_time": "2021-09-20T12:24:19.789Z"
   },
   {
    "duration": 23,
    "start_time": "2021-09-20T12:24:20.353Z"
   },
   {
    "duration": 6,
    "start_time": "2021-09-20T12:26:28.970Z"
   },
   {
    "duration": 24,
    "start_time": "2021-09-20T12:26:34.886Z"
   },
   {
    "duration": 3,
    "start_time": "2021-09-20T12:27:26.865Z"
   },
   {
    "duration": 510,
    "start_time": "2021-09-20T12:28:11.987Z"
   },
   {
    "duration": 3,
    "start_time": "2021-09-20T12:28:54.496Z"
   },
   {
    "duration": 23,
    "start_time": "2021-09-20T12:28:55.011Z"
   },
   {
    "duration": 8,
    "start_time": "2021-09-20T12:28:55.449Z"
   },
   {
    "duration": 43,
    "start_time": "2021-09-20T12:28:55.909Z"
   },
   {
    "duration": 3,
    "start_time": "2021-09-20T12:28:56.378Z"
   },
   {
    "duration": 11,
    "start_time": "2021-09-20T12:28:56.872Z"
   },
   {
    "duration": 15,
    "start_time": "2021-09-20T12:28:57.431Z"
   },
   {
    "duration": 15,
    "start_time": "2021-09-20T12:28:58.115Z"
   },
   {
    "duration": 6,
    "start_time": "2021-09-20T12:28:58.909Z"
   },
   {
    "duration": 4,
    "start_time": "2021-09-20T12:28:59.433Z"
   },
   {
    "duration": 2411,
    "start_time": "2021-09-20T12:29:00.129Z"
   },
   {
    "duration": 5,
    "start_time": "2021-09-20T12:33:11.827Z"
   },
   {
    "duration": 4,
    "start_time": "2021-09-20T12:33:32.327Z"
   },
   {
    "duration": 2503,
    "start_time": "2021-09-20T12:33:38.373Z"
   },
   {
    "duration": 5,
    "start_time": "2021-09-20T12:33:40.878Z"
   },
   {
    "duration": 2435,
    "start_time": "2021-09-20T12:34:18.472Z"
   },
   {
    "duration": 5,
    "start_time": "2021-09-20T12:36:39.544Z"
   },
   {
    "duration": 1080,
    "start_time": "2021-09-20T12:36:53.771Z"
   },
   {
    "duration": 1014,
    "start_time": "2021-09-20T12:37:50.116Z"
   },
   {
    "duration": 1147,
    "start_time": "2021-09-20T12:38:03.585Z"
   },
   {
    "duration": 1123,
    "start_time": "2021-09-20T12:38:17.138Z"
   },
   {
    "duration": 1097,
    "start_time": "2021-09-20T12:38:31.229Z"
   },
   {
    "duration": 103,
    "start_time": "2021-09-20T12:38:48.718Z"
   },
   {
    "duration": 1166,
    "start_time": "2021-09-20T12:38:54.568Z"
   },
   {
    "duration": 1249,
    "start_time": "2021-09-20T12:39:13.541Z"
   },
   {
    "duration": 1240,
    "start_time": "2021-09-20T12:39:24.940Z"
   },
   {
    "duration": 1208,
    "start_time": "2021-09-20T12:39:45.389Z"
   },
   {
    "duration": 1007,
    "start_time": "2021-09-20T19:53:33.841Z"
   },
   {
    "duration": 45,
    "start_time": "2021-09-20T19:53:34.849Z"
   },
   {
    "duration": 7,
    "start_time": "2021-09-20T19:53:35.693Z"
   },
   {
    "duration": 44,
    "start_time": "2021-09-20T19:53:36.307Z"
   },
   {
    "duration": 3,
    "start_time": "2021-09-20T19:53:36.917Z"
   },
   {
    "duration": 11,
    "start_time": "2021-09-20T19:53:37.474Z"
   },
   {
    "duration": 283,
    "start_time": "2021-09-20T19:53:38.030Z"
   },
   {
    "duration": 19,
    "start_time": "2021-09-20T19:53:38.580Z"
   },
   {
    "duration": 7,
    "start_time": "2021-09-20T19:53:39.245Z"
   },
   {
    "duration": 5,
    "start_time": "2021-09-20T19:53:39.767Z"
   },
   {
    "duration": 2482,
    "start_time": "2021-09-20T19:53:40.367Z"
   },
   {
    "duration": 7,
    "start_time": "2021-09-20T19:53:42.851Z"
   },
   {
    "duration": 2317,
    "start_time": "2021-09-20T19:53:42.860Z"
   },
   {
    "duration": 116,
    "start_time": "2021-09-20T20:09:24.249Z"
   },
   {
    "duration": 22,
    "start_time": "2021-09-20T20:09:25.137Z"
   },
   {
    "duration": 8,
    "start_time": "2021-09-20T20:09:25.750Z"
   },
   {
    "duration": 44,
    "start_time": "2021-09-20T20:09:26.846Z"
   },
   {
    "duration": 3,
    "start_time": "2021-09-20T20:09:27.323Z"
   },
   {
    "duration": 11,
    "start_time": "2021-09-20T20:09:27.843Z"
   },
   {
    "duration": 15,
    "start_time": "2021-09-20T20:09:28.337Z"
   },
   {
    "duration": 15,
    "start_time": "2021-09-20T20:09:28.866Z"
   },
   {
    "duration": 6,
    "start_time": "2021-09-20T20:09:29.745Z"
   },
   {
    "duration": 4,
    "start_time": "2021-09-20T20:09:30.240Z"
   },
   {
    "duration": 2401,
    "start_time": "2021-09-20T20:09:30.725Z"
   },
   {
    "duration": 5,
    "start_time": "2021-09-20T20:09:33.128Z"
   },
   {
    "duration": 2376,
    "start_time": "2021-09-20T20:09:33.135Z"
   },
   {
    "duration": 4,
    "start_time": "2021-09-20T20:09:35.513Z"
   },
   {
    "duration": 1227,
    "start_time": "2021-09-20T20:09:35.519Z"
   },
   {
    "duration": 5,
    "start_time": "2021-09-20T20:11:07.498Z"
   },
   {
    "duration": 3,
    "start_time": "2021-09-20T20:12:14.915Z"
   },
   {
    "duration": 7,
    "start_time": "2021-09-20T20:12:15.905Z"
   },
   {
    "duration": 2,
    "start_time": "2021-09-20T20:12:29.623Z"
   },
   {
    "duration": 25,
    "start_time": "2021-09-20T20:12:39.246Z"
   },
   {
    "duration": 9,
    "start_time": "2021-09-20T20:13:05.072Z"
   },
   {
    "duration": 5,
    "start_time": "2021-09-20T20:13:17.758Z"
   },
   {
    "duration": 11,
    "start_time": "2021-09-20T20:13:29.085Z"
   },
   {
    "duration": 288,
    "start_time": "2021-09-20T20:19:03.629Z"
   },
   {
    "duration": 1246,
    "start_time": "2021-09-20T20:19:27.949Z"
   },
   {
    "duration": 1341,
    "start_time": "2021-09-21T11:13:49.460Z"
   },
   {
    "duration": 23,
    "start_time": "2021-09-21T11:13:50.803Z"
   },
   {
    "duration": 8,
    "start_time": "2021-09-21T11:13:51.504Z"
   },
   {
    "duration": 64,
    "start_time": "2021-09-21T11:13:53.351Z"
   },
   {
    "duration": 4,
    "start_time": "2021-09-21T11:13:54.155Z"
   },
   {
    "duration": 11,
    "start_time": "2021-09-21T11:13:55.031Z"
   },
   {
    "duration": 606,
    "start_time": "2021-09-21T11:13:55.740Z"
   },
   {
    "duration": 24,
    "start_time": "2021-09-21T11:13:57.365Z"
   },
   {
    "duration": 8,
    "start_time": "2021-09-21T11:13:58.181Z"
   },
   {
    "duration": 4,
    "start_time": "2021-09-21T11:13:59.102Z"
   },
   {
    "duration": 2750,
    "start_time": "2021-09-21T11:14:00.032Z"
   },
   {
    "duration": 8,
    "start_time": "2021-09-21T11:14:02.785Z"
   },
   {
    "duration": 2617,
    "start_time": "2021-09-21T11:14:02.795Z"
   },
   {
    "duration": 5,
    "start_time": "2021-09-21T11:14:05.414Z"
   },
   {
    "duration": 1309,
    "start_time": "2021-09-21T11:14:05.421Z"
   },
   {
    "duration": 4,
    "start_time": "2021-09-21T11:14:09.238Z"
   },
   {
    "duration": 6,
    "start_time": "2021-09-21T11:14:10.390Z"
   },
   {
    "duration": 3,
    "start_time": "2021-09-21T11:14:11.014Z"
   },
   {
    "duration": 28,
    "start_time": "2021-09-21T11:14:11.636Z"
   },
   {
    "duration": 7,
    "start_time": "2021-09-21T11:14:12.348Z"
   },
   {
    "duration": 5,
    "start_time": "2021-09-21T11:14:13.499Z"
   },
   {
    "duration": 12,
    "start_time": "2021-09-21T11:14:14.114Z"
   },
   {
    "duration": 31,
    "start_time": "2021-09-21T11:23:29.334Z"
   },
   {
    "duration": 22,
    "start_time": "2021-09-21T11:23:30.384Z"
   },
   {
    "duration": 7,
    "start_time": "2021-09-21T11:23:31.103Z"
   },
   {
    "duration": 58,
    "start_time": "2021-09-21T11:23:32.143Z"
   },
   {
    "duration": 3,
    "start_time": "2021-09-21T11:23:32.664Z"
   },
   {
    "duration": 12,
    "start_time": "2021-09-21T11:23:33.166Z"
   },
   {
    "duration": 17,
    "start_time": "2021-09-21T11:23:33.619Z"
   },
   {
    "duration": 23,
    "start_time": "2021-09-21T11:23:34.058Z"
   },
   {
    "duration": 6,
    "start_time": "2021-09-21T11:23:34.961Z"
   },
   {
    "duration": 7,
    "start_time": "2021-09-21T11:23:35.433Z"
   },
   {
    "duration": 3683,
    "start_time": "2021-09-21T11:23:35.944Z"
   },
   {
    "duration": 6,
    "start_time": "2021-09-21T11:23:39.629Z"
   },
   {
    "duration": 3062,
    "start_time": "2021-09-21T11:23:39.638Z"
   },
   {
    "duration": 7,
    "start_time": "2021-09-21T11:23:42.703Z"
   },
   {
    "duration": 1412,
    "start_time": "2021-09-21T11:23:42.712Z"
   },
   {
    "duration": 4,
    "start_time": "2021-09-21T11:23:44.125Z"
   },
   {
    "duration": 7,
    "start_time": "2021-09-21T11:23:44.132Z"
   },
   {
    "duration": 3,
    "start_time": "2021-09-21T11:23:44.141Z"
   },
   {
    "duration": 66,
    "start_time": "2021-09-21T11:23:44.145Z"
   },
   {
    "duration": 175,
    "start_time": "2021-09-21T11:23:44.213Z"
   },
   {
    "duration": 7,
    "start_time": "2021-09-21T11:23:44.390Z"
   },
   {
    "duration": 150,
    "start_time": "2021-09-21T11:23:44.400Z"
   },
   {
    "duration": 7,
    "start_time": "2021-09-21T11:25:18.932Z"
   },
   {
    "duration": 4,
    "start_time": "2021-09-21T12:07:24.918Z"
   },
   {
    "duration": 24,
    "start_time": "2021-09-21T12:07:25.542Z"
   },
   {
    "duration": 8,
    "start_time": "2021-09-21T12:07:26.106Z"
   },
   {
    "duration": 54,
    "start_time": "2021-09-21T12:07:27.185Z"
   },
   {
    "duration": 4,
    "start_time": "2021-09-21T12:07:27.685Z"
   },
   {
    "duration": 11,
    "start_time": "2021-09-21T12:07:28.150Z"
   },
   {
    "duration": 15,
    "start_time": "2021-09-21T12:07:28.741Z"
   },
   {
    "duration": 17,
    "start_time": "2021-09-21T12:07:29.257Z"
   },
   {
    "duration": 8,
    "start_time": "2021-09-21T12:07:29.784Z"
   },
   {
    "duration": 4,
    "start_time": "2021-09-21T12:07:30.249Z"
   },
   {
    "duration": 2836,
    "start_time": "2021-09-21T12:07:30.683Z"
   },
   {
    "duration": 6,
    "start_time": "2021-09-21T12:07:33.521Z"
   },
   {
    "duration": 2589,
    "start_time": "2021-09-21T12:07:33.529Z"
   },
   {
    "duration": 7,
    "start_time": "2021-09-21T12:07:36.127Z"
   },
   {
    "duration": 1344,
    "start_time": "2021-09-21T12:07:36.136Z"
   },
   {
    "duration": 9,
    "start_time": "2021-09-21T12:07:37.483Z"
   },
   {
    "duration": 4,
    "start_time": "2021-09-21T12:07:43.750Z"
   },
   {
    "duration": 6,
    "start_time": "2021-09-21T12:07:50.460Z"
   },
   {
    "duration": 400,
    "start_time": "2021-09-21T12:08:18.458Z"
   },
   {
    "duration": 5,
    "start_time": "2021-09-21T12:08:59.227Z"
   },
   {
    "duration": 22,
    "start_time": "2021-09-21T12:08:59.924Z"
   },
   {
    "duration": 9,
    "start_time": "2021-09-21T12:09:00.496Z"
   },
   {
    "duration": 57,
    "start_time": "2021-09-21T12:09:01.359Z"
   },
   {
    "duration": 5,
    "start_time": "2021-09-21T12:09:01.701Z"
   },
   {
    "duration": 14,
    "start_time": "2021-09-21T12:09:01.972Z"
   },
   {
    "duration": 16,
    "start_time": "2021-09-21T12:09:02.253Z"
   },
   {
    "duration": 16,
    "start_time": "2021-09-21T12:09:02.536Z"
   },
   {
    "duration": 8,
    "start_time": "2021-09-21T12:09:02.798Z"
   },
   {
    "duration": 5,
    "start_time": "2021-09-21T12:09:03.067Z"
   },
   {
    "duration": 2850,
    "start_time": "2021-09-21T12:09:03.352Z"
   },
   {
    "duration": 5,
    "start_time": "2021-09-21T12:09:06.205Z"
   },
   {
    "duration": 2522,
    "start_time": "2021-09-21T12:09:06.212Z"
   },
   {
    "duration": 5,
    "start_time": "2021-09-21T12:09:08.736Z"
   },
   {
    "duration": 1459,
    "start_time": "2021-09-21T12:09:08.743Z"
   },
   {
    "duration": 6,
    "start_time": "2021-09-21T12:09:10.204Z"
   },
   {
    "duration": 10,
    "start_time": "2021-09-21T12:09:10.212Z"
   },
   {
    "duration": 8,
    "start_time": "2021-09-21T12:09:10.224Z"
   },
   {
    "duration": 13,
    "start_time": "2021-09-21T12:09:10.234Z"
   },
   {
    "duration": 5,
    "start_time": "2021-09-21T12:09:32.311Z"
   },
   {
    "duration": 3,
    "start_time": "2021-09-21T12:11:12.925Z"
   },
   {
    "duration": 16,
    "start_time": "2021-09-21T12:11:33.615Z"
   },
   {
    "duration": 58,
    "start_time": "2021-09-21T12:12:32.436Z"
   },
   {
    "duration": 6,
    "start_time": "2021-09-21T12:12:35.954Z"
   },
   {
    "duration": 5,
    "start_time": "2021-09-21T12:16:11.332Z"
   },
   {
    "duration": 7,
    "start_time": "2021-09-21T12:16:13.152Z"
   },
   {
    "duration": 6,
    "start_time": "2021-09-21T12:16:15.370Z"
   },
   {
    "duration": 6,
    "start_time": "2021-09-21T12:16:16.549Z"
   },
   {
    "duration": 9,
    "start_time": "2021-09-21T12:16:17.183Z"
   },
   {
    "duration": 6,
    "start_time": "2021-09-21T12:16:17.726Z"
   },
   {
    "duration": 4,
    "start_time": "2021-09-21T12:16:18.279Z"
   },
   {
    "duration": 15,
    "start_time": "2021-09-21T12:16:18.847Z"
   },
   {
    "duration": 92,
    "start_time": "2021-09-21T12:16:19.485Z"
   },
   {
    "duration": 8,
    "start_time": "2021-09-21T12:16:47.797Z"
   },
   {
    "duration": 3,
    "start_time": "2021-09-21T12:17:33.849Z"
   },
   {
    "duration": 316,
    "start_time": "2021-09-21T12:17:47.391Z"
   },
   {
    "duration": 56,
    "start_time": "2021-09-21T12:18:05.598Z"
   },
   {
    "duration": 10,
    "start_time": "2021-09-21T12:18:19.416Z"
   },
   {
    "duration": 6,
    "start_time": "2021-09-21T12:31:30.517Z"
   },
   {
    "duration": 7,
    "start_time": "2021-09-21T12:32:24.635Z"
   },
   {
    "duration": 6,
    "start_time": "2021-09-21T12:32:37.637Z"
   },
   {
    "duration": 19,
    "start_time": "2021-09-21T12:34:58.167Z"
   },
   {
    "duration": 21,
    "start_time": "2021-09-21T12:34:58.905Z"
   },
   {
    "duration": 8,
    "start_time": "2021-09-21T12:34:59.516Z"
   },
   {
    "duration": 43,
    "start_time": "2021-09-21T12:35:00.478Z"
   },
   {
    "duration": 3,
    "start_time": "2021-09-21T12:35:00.979Z"
   },
   {
    "duration": 11,
    "start_time": "2021-09-21T12:35:01.437Z"
   },
   {
    "duration": 15,
    "start_time": "2021-09-21T12:35:01.968Z"
   },
   {
    "duration": 22,
    "start_time": "2021-09-21T12:35:02.470Z"
   },
   {
    "duration": 7,
    "start_time": "2021-09-21T12:35:02.952Z"
   },
   {
    "duration": 5,
    "start_time": "2021-09-21T12:35:03.479Z"
   },
   {
    "duration": 2452,
    "start_time": "2021-09-21T12:35:03.942Z"
   },
   {
    "duration": 6,
    "start_time": "2021-09-21T12:35:06.397Z"
   },
   {
    "duration": 2347,
    "start_time": "2021-09-21T12:35:06.406Z"
   },
   {
    "duration": 6,
    "start_time": "2021-09-21T12:35:08.755Z"
   },
   {
    "duration": 1231,
    "start_time": "2021-09-21T12:35:08.762Z"
   },
   {
    "duration": 4,
    "start_time": "2021-09-21T12:35:09.994Z"
   },
   {
    "duration": 8,
    "start_time": "2021-09-21T12:35:10.000Z"
   },
   {
    "duration": 11,
    "start_time": "2021-09-21T12:35:10.010Z"
   },
   {
    "duration": 6,
    "start_time": "2021-09-21T12:35:10.638Z"
   },
   {
    "duration": 8,
    "start_time": "2021-09-21T12:35:11.474Z"
   },
   {
    "duration": 4,
    "start_time": "2021-09-21T12:35:12.007Z"
   },
   {
    "duration": 3,
    "start_time": "2021-09-21T12:35:12.451Z"
   },
   {
    "duration": 16,
    "start_time": "2021-09-21T12:35:12.963Z"
   },
   {
    "duration": 4,
    "start_time": "2021-09-21T12:35:13.511Z"
   },
   {
    "duration": 8,
    "start_time": "2021-09-21T12:35:14.087Z"
   },
   {
    "duration": 3,
    "start_time": "2021-09-21T12:35:14.636Z"
   },
   {
    "duration": 307,
    "start_time": "2021-09-21T12:35:15.091Z"
   },
   {
    "duration": 37,
    "start_time": "2021-09-21T12:35:15.572Z"
   },
   {
    "duration": 7,
    "start_time": "2021-09-21T12:35:16.088Z"
   },
   {
    "duration": 4,
    "start_time": "2021-09-21T12:43:44.627Z"
   },
   {
    "duration": 21,
    "start_time": "2021-09-21T12:43:45.353Z"
   },
   {
    "duration": 7,
    "start_time": "2021-09-21T12:43:46.842Z"
   },
   {
    "duration": 44,
    "start_time": "2021-09-21T12:43:49.528Z"
   },
   {
    "duration": 3,
    "start_time": "2021-09-21T12:43:50.168Z"
   },
   {
    "duration": 11,
    "start_time": "2021-09-21T12:43:58.426Z"
   },
   {
    "duration": 15,
    "start_time": "2021-09-21T12:43:59.305Z"
   },
   {
    "duration": 16,
    "start_time": "2021-09-21T12:43:59.777Z"
   },
   {
    "duration": 6,
    "start_time": "2021-09-21T12:44:00.168Z"
   },
   {
    "duration": 4,
    "start_time": "2021-09-21T12:44:00.570Z"
   },
   {
    "duration": 2618,
    "start_time": "2021-09-21T12:44:00.877Z"
   },
   {
    "duration": 5,
    "start_time": "2021-09-21T12:44:03.497Z"
   },
   {
    "duration": 2346,
    "start_time": "2021-09-21T12:44:03.504Z"
   },
   {
    "duration": 6,
    "start_time": "2021-09-21T12:44:05.851Z"
   },
   {
    "duration": 1192,
    "start_time": "2021-09-21T12:44:05.858Z"
   },
   {
    "duration": 4,
    "start_time": "2021-09-21T12:44:07.052Z"
   },
   {
    "duration": 19,
    "start_time": "2021-09-21T12:44:07.058Z"
   },
   {
    "duration": 4,
    "start_time": "2021-09-21T12:44:07.079Z"
   },
   {
    "duration": 7,
    "start_time": "2021-09-21T12:44:07.085Z"
   },
   {
    "duration": 6,
    "start_time": "2021-09-21T12:44:08.656Z"
   },
   {
    "duration": 4,
    "start_time": "2021-09-21T12:44:09.226Z"
   },
   {
    "duration": 3,
    "start_time": "2021-09-21T12:44:09.627Z"
   },
   {
    "duration": 15,
    "start_time": "2021-09-21T12:44:10.014Z"
   },
   {
    "duration": 10,
    "start_time": "2021-09-21T12:44:10.426Z"
   },
   {
    "duration": 8,
    "start_time": "2021-09-21T12:44:10.871Z"
   },
   {
    "duration": 3,
    "start_time": "2021-09-21T12:44:11.287Z"
   },
   {
    "duration": 307,
    "start_time": "2021-09-21T12:44:11.739Z"
   },
   {
    "duration": 44,
    "start_time": "2021-09-21T12:44:12.168Z"
   },
   {
    "duration": 8,
    "start_time": "2021-09-21T12:44:13.048Z"
   },
   {
    "duration": 7,
    "start_time": "2021-09-21T12:44:15.244Z"
   },
   {
    "duration": 5,
    "start_time": "2021-09-21T12:44:16.389Z"
   },
   {
    "duration": 279,
    "start_time": "2021-09-21T12:44:49.963Z"
   },
   {
    "duration": 7,
    "start_time": "2021-09-21T12:44:55.094Z"
   },
   {
    "duration": 5,
    "start_time": "2021-09-21T12:44:55.767Z"
   },
   {
    "duration": 303,
    "start_time": "2021-09-21T12:44:56.646Z"
   },
   {
    "duration": 575,
    "start_time": "2021-09-21T12:45:07.307Z"
   },
   {
    "duration": 83001,
    "start_time": "2021-09-21T12:45:26.061Z"
   },
   {
    "duration": 583,
    "start_time": "2021-09-21T12:48:45.694Z"
   },
   {
    "duration": 2,
    "start_time": "2021-09-21T12:51:17.667Z"
   },
   {
    "duration": 1008,
    "start_time": "2021-09-21T12:51:37.572Z"
   },
   {
    "duration": 4,
    "start_time": "2021-09-21T12:52:39.224Z"
   },
   {
    "duration": 296,
    "start_time": "2021-09-21T12:52:50.907Z"
   },
   {
    "duration": 16,
    "start_time": "2021-09-21T12:52:58.209Z"
   },
   {
    "duration": 3,
    "start_time": "2021-09-21T13:03:28.010Z"
   },
   {
    "duration": 1991,
    "start_time": "2021-09-21T13:03:32.889Z"
   },
   {
    "duration": 2,
    "start_time": "2021-09-21T13:03:34.882Z"
   },
   {
    "duration": 20,
    "start_time": "2021-09-21T13:03:34.886Z"
   },
   {
    "duration": 1120,
    "start_time": "2021-09-22T12:03:59.598Z"
   },
   {
    "duration": 46,
    "start_time": "2021-09-22T12:04:00.720Z"
   },
   {
    "duration": 10,
    "start_time": "2021-09-22T12:04:00.768Z"
   },
   {
    "duration": 57,
    "start_time": "2021-09-22T12:04:00.780Z"
   },
   {
    "duration": 4,
    "start_time": "2021-09-22T12:04:00.839Z"
   },
   {
    "duration": 12,
    "start_time": "2021-09-22T12:04:01.068Z"
   },
   {
    "duration": 282,
    "start_time": "2021-09-22T12:04:01.305Z"
   },
   {
    "duration": 25,
    "start_time": "2021-09-22T12:04:01.590Z"
   },
   {
    "duration": 6,
    "start_time": "2021-09-22T12:04:01.766Z"
   },
   {
    "duration": 4,
    "start_time": "2021-09-22T12:04:01.998Z"
   },
   {
    "duration": 2468,
    "start_time": "2021-09-22T12:04:02.242Z"
   },
   {
    "duration": 6,
    "start_time": "2021-09-22T12:04:04.712Z"
   },
   {
    "duration": 2476,
    "start_time": "2021-09-22T12:04:04.720Z"
   },
   {
    "duration": 5,
    "start_time": "2021-09-22T12:04:07.197Z"
   },
   {
    "duration": 1233,
    "start_time": "2021-09-22T12:04:07.203Z"
   },
   {
    "duration": 3,
    "start_time": "2021-09-22T12:04:08.438Z"
   },
   {
    "duration": 9,
    "start_time": "2021-09-22T12:04:08.443Z"
   },
   {
    "duration": 3,
    "start_time": "2021-09-22T12:04:08.454Z"
   },
   {
    "duration": 8,
    "start_time": "2021-09-22T12:04:08.459Z"
   },
   {
    "duration": 8,
    "start_time": "2021-09-22T12:04:08.468Z"
   },
   {
    "duration": 6,
    "start_time": "2021-09-22T12:04:08.478Z"
   },
   {
    "duration": 15,
    "start_time": "2021-09-22T12:04:08.485Z"
   },
   {
    "duration": 26,
    "start_time": "2021-09-22T12:04:08.502Z"
   },
   {
    "duration": 4,
    "start_time": "2021-09-22T12:04:08.530Z"
   },
   {
    "duration": 169,
    "start_time": "2021-09-22T12:04:08.536Z"
   },
   {
    "duration": 3,
    "start_time": "2021-09-22T12:04:08.707Z"
   },
   {
    "duration": 314,
    "start_time": "2021-09-22T12:04:08.711Z"
   },
   {
    "duration": 35,
    "start_time": "2021-09-22T12:04:09.026Z"
   },
   {
    "duration": 6,
    "start_time": "2021-09-22T12:04:09.063Z"
   },
   {
    "duration": 7,
    "start_time": "2021-09-22T12:04:09.071Z"
   },
   {
    "duration": 5,
    "start_time": "2021-09-22T12:04:09.100Z"
   },
   {
    "duration": 505,
    "start_time": "2021-09-22T12:04:09.360Z"
   },
   {
    "duration": 455,
    "start_time": "2021-09-22T12:04:09.917Z"
   },
   {
    "duration": 3,
    "start_time": "2021-09-22T12:04:10.485Z"
   },
   {
    "duration": 1586,
    "start_time": "2021-09-22T12:04:11.014Z"
   },
   {
    "duration": 3,
    "start_time": "2021-09-22T12:04:12.602Z"
   },
   {
    "duration": 44,
    "start_time": "2021-09-22T12:04:12.607Z"
   },
   {
    "duration": 3,
    "start_time": "2021-09-22T13:23:34.842Z"
   },
   {
    "duration": 21,
    "start_time": "2021-09-22T13:23:35.389Z"
   },
   {
    "duration": 7,
    "start_time": "2021-09-22T13:23:36.056Z"
   },
   {
    "duration": 44,
    "start_time": "2021-09-22T13:23:37.831Z"
   },
   {
    "duration": 3,
    "start_time": "2021-09-22T13:23:38.780Z"
   },
   {
    "duration": 11,
    "start_time": "2021-09-22T13:23:39.509Z"
   },
   {
    "duration": 16,
    "start_time": "2021-09-22T13:23:41.628Z"
   },
   {
    "duration": 15,
    "start_time": "2021-09-22T13:23:42.508Z"
   },
   {
    "duration": 5,
    "start_time": "2021-09-22T13:23:43.577Z"
   },
   {
    "duration": 4,
    "start_time": "2021-09-22T13:23:44.209Z"
   },
   {
    "duration": 2474,
    "start_time": "2021-09-22T13:23:45.109Z"
   },
   {
    "duration": 15,
    "start_time": "2021-09-22T13:23:47.585Z"
   },
   {
    "duration": 2715,
    "start_time": "2021-09-22T13:27:55.010Z"
   },
   {
    "duration": 8,
    "start_time": "2021-09-22T13:28:16.889Z"
   },
   {
    "duration": 4,
    "start_time": "2021-09-22T13:28:21.889Z"
   },
   {
    "duration": 2787,
    "start_time": "2021-09-22T13:28:23.464Z"
   },
   {
    "duration": 3920,
    "start_time": "2021-09-22T13:29:32.839Z"
   },
   {
    "duration": 3867,
    "start_time": "2021-09-22T13:30:35.305Z"
   },
   {
    "duration": 4,
    "start_time": "2021-09-22T13:35:29.165Z"
   },
   {
    "duration": 3918,
    "start_time": "2021-09-22T13:35:34.109Z"
   },
   {
    "duration": 72,
    "start_time": "2021-09-22T13:36:34.560Z"
   },
   {
    "duration": 3968,
    "start_time": "2021-09-22T13:36:36.860Z"
   },
   {
    "duration": 21,
    "start_time": "2021-09-22T13:43:45.711Z"
   },
   {
    "duration": 16,
    "start_time": "2021-09-22T13:45:04.891Z"
   },
   {
    "duration": 1204,
    "start_time": "2021-09-22T14:14:27.972Z"
   },
   {
    "duration": 1592,
    "start_time": "2021-09-23T10:36:11.148Z"
   },
   {
    "duration": 27,
    "start_time": "2021-09-23T10:36:12.742Z"
   },
   {
    "duration": 14,
    "start_time": "2021-09-23T10:36:13.629Z"
   },
   {
    "duration": 77,
    "start_time": "2021-09-23T10:36:14.689Z"
   },
   {
    "duration": 4,
    "start_time": "2021-09-23T10:36:15.119Z"
   },
   {
    "duration": 17,
    "start_time": "2021-09-23T10:36:15.409Z"
   },
   {
    "duration": 677,
    "start_time": "2021-09-23T10:36:15.690Z"
   },
   {
    "duration": 26,
    "start_time": "2021-09-23T10:36:16.371Z"
   },
   {
    "duration": 11,
    "start_time": "2021-09-23T10:36:16.400Z"
   },
   {
    "duration": 6,
    "start_time": "2021-09-23T10:36:16.510Z"
   },
   {
    "duration": 118,
    "start_time": "2021-09-23T10:36:16.851Z"
   },
   {
    "duration": 6930,
    "start_time": "2021-09-23T10:36:17.326Z"
   },
   {
    "duration": 7,
    "start_time": "2021-09-23T10:36:24.261Z"
   },
   {
    "duration": 1940,
    "start_time": "2021-09-23T10:36:24.271Z"
   },
   {
    "duration": 7,
    "start_time": "2021-09-23T10:36:26.215Z"
   },
   {
    "duration": 37,
    "start_time": "2021-09-23T10:36:26.226Z"
   },
   {
    "duration": 6,
    "start_time": "2021-09-23T10:36:26.266Z"
   },
   {
    "duration": 26,
    "start_time": "2021-09-23T10:36:26.275Z"
   },
   {
    "duration": 24,
    "start_time": "2021-09-23T10:36:26.304Z"
   },
   {
    "duration": 4,
    "start_time": "2021-09-23T10:39:01.337Z"
   },
   {
    "duration": 1194,
    "start_time": "2021-09-23T10:39:02.399Z"
   },
   {
    "duration": 10,
    "start_time": "2021-09-23T10:39:03.596Z"
   },
   {
    "duration": 73,
    "start_time": "2021-09-23T10:39:03.821Z"
   },
   {
    "duration": 5,
    "start_time": "2021-09-23T10:39:04.255Z"
   },
   {
    "duration": 19,
    "start_time": "2021-09-23T10:39:04.683Z"
   },
   {
    "duration": 24,
    "start_time": "2021-09-23T10:39:05.106Z"
   },
   {
    "duration": 25,
    "start_time": "2021-09-23T10:39:05.644Z"
   },
   {
    "duration": 11,
    "start_time": "2021-09-23T10:39:06.135Z"
   },
   {
    "duration": 5,
    "start_time": "2021-09-23T10:39:06.653Z"
   },
   {
    "duration": 112,
    "start_time": "2021-09-23T10:39:07.065Z"
   },
   {
    "duration": 6836,
    "start_time": "2021-09-23T10:39:07.521Z"
   },
   {
    "duration": 6,
    "start_time": "2021-09-23T10:39:14.363Z"
   },
   {
    "duration": 1929,
    "start_time": "2021-09-23T10:39:14.372Z"
   },
   {
    "duration": 5,
    "start_time": "2021-09-23T10:39:16.303Z"
   },
   {
    "duration": 12,
    "start_time": "2021-09-23T10:39:16.311Z"
   },
   {
    "duration": 6,
    "start_time": "2021-09-23T10:39:19.595Z"
   },
   {
    "duration": 8,
    "start_time": "2021-09-23T10:39:20.931Z"
   },
   {
    "duration": 8,
    "start_time": "2021-09-23T10:39:24.767Z"
   },
   {
    "duration": 6,
    "start_time": "2021-09-23T10:39:31.779Z"
   },
   {
    "duration": 4,
    "start_time": "2021-09-23T10:39:32.349Z"
   },
   {
    "duration": 28,
    "start_time": "2021-09-23T10:39:32.961Z"
   },
   {
    "duration": 6,
    "start_time": "2021-09-23T10:39:34.082Z"
   },
   {
    "duration": 10,
    "start_time": "2021-09-23T10:39:38.212Z"
   },
   {
    "duration": 5,
    "start_time": "2021-09-23T10:40:51.493Z"
   },
   {
    "duration": 8,
    "start_time": "2021-09-23T10:40:54.098Z"
   },
   {
    "duration": 6,
    "start_time": "2021-09-23T10:40:56.572Z"
   },
   {
    "duration": 8,
    "start_time": "2021-09-23T10:40:57.937Z"
   },
   {
    "duration": 7,
    "start_time": "2021-09-23T10:40:59.637Z"
   },
   {
    "duration": 6,
    "start_time": "2021-09-23T10:41:01.190Z"
   },
   {
    "duration": 4,
    "start_time": "2021-09-23T10:41:01.640Z"
   },
   {
    "duration": 26,
    "start_time": "2021-09-23T10:41:02.133Z"
   },
   {
    "duration": 55,
    "start_time": "2021-09-23T10:41:03.108Z"
   },
   {
    "duration": 12,
    "start_time": "2021-09-23T10:41:04.996Z"
   },
   {
    "duration": 4,
    "start_time": "2021-09-23T10:41:25.102Z"
   },
   {
    "duration": 454,
    "start_time": "2021-09-23T10:41:25.679Z"
   },
   {
    "duration": 57,
    "start_time": "2021-09-23T10:41:27.286Z"
   },
   {
    "duration": 12,
    "start_time": "2021-09-23T10:41:27.767Z"
   },
   {
    "duration": 6,
    "start_time": "2021-09-23T10:56:47.919Z"
   },
   {
    "duration": 22,
    "start_time": "2021-09-23T10:56:48.336Z"
   },
   {
    "duration": 10,
    "start_time": "2021-09-23T10:56:48.794Z"
   },
   {
    "duration": 74,
    "start_time": "2021-09-23T10:56:49.710Z"
   },
   {
    "duration": 4,
    "start_time": "2021-09-23T10:56:50.103Z"
   },
   {
    "duration": 18,
    "start_time": "2021-09-23T10:56:50.446Z"
   },
   {
    "duration": 24,
    "start_time": "2021-09-23T10:56:50.715Z"
   },
   {
    "duration": 23,
    "start_time": "2021-09-23T10:56:51.012Z"
   },
   {
    "duration": 10,
    "start_time": "2021-09-23T10:56:51.311Z"
   },
   {
    "duration": 5,
    "start_time": "2021-09-23T10:56:51.609Z"
   },
   {
    "duration": 116,
    "start_time": "2021-09-23T10:56:51.858Z"
   },
   {
    "duration": 6636,
    "start_time": "2021-09-23T10:56:52.189Z"
   },
   {
    "duration": 7,
    "start_time": "2021-09-23T10:56:58.827Z"
   },
   {
    "duration": 1969,
    "start_time": "2021-09-23T10:56:58.836Z"
   },
   {
    "duration": 6,
    "start_time": "2021-09-23T10:57:00.807Z"
   },
   {
    "duration": 29,
    "start_time": "2021-09-23T10:57:00.815Z"
   },
   {
    "duration": 21,
    "start_time": "2021-09-23T10:57:00.846Z"
   },
   {
    "duration": 15,
    "start_time": "2021-09-23T10:57:00.869Z"
   },
   {
    "duration": 16,
    "start_time": "2021-09-23T10:57:00.887Z"
   },
   {
    "duration": 14,
    "start_time": "2021-09-23T10:57:00.906Z"
   },
   {
    "duration": 12,
    "start_time": "2021-09-23T10:57:00.923Z"
   },
   {
    "duration": 40,
    "start_time": "2021-09-23T10:57:00.938Z"
   },
   {
    "duration": 5,
    "start_time": "2021-09-23T10:57:00.980Z"
   },
   {
    "duration": 85,
    "start_time": "2021-09-23T10:57:00.988Z"
   },
   {
    "duration": 4,
    "start_time": "2021-09-23T10:57:02.023Z"
   },
   {
    "duration": 454,
    "start_time": "2021-09-23T10:57:02.668Z"
   },
   {
    "duration": 60,
    "start_time": "2021-09-23T10:57:03.233Z"
   },
   {
    "duration": 13,
    "start_time": "2021-09-23T10:57:03.846Z"
   },
   {
    "duration": 3,
    "start_time": "2021-09-23T10:58:01.160Z"
   },
   {
    "duration": 531,
    "start_time": "2021-09-23T10:58:15.503Z"
   },
   {
    "duration": 5,
    "start_time": "2021-09-23T10:58:52.327Z"
   },
   {
    "duration": 392,
    "start_time": "2021-09-23T10:59:23.732Z"
   },
   {
    "duration": 14,
    "start_time": "2021-09-23T10:59:33.581Z"
   },
   {
    "duration": 6,
    "start_time": "2021-09-23T11:31:05.247Z"
   },
   {
    "duration": 5,
    "start_time": "2021-09-23T11:31:27.981Z"
   },
   {
    "duration": 21,
    "start_time": "2021-09-23T11:31:28.757Z"
   },
   {
    "duration": 11,
    "start_time": "2021-09-23T11:31:29.118Z"
   },
   {
    "duration": 80,
    "start_time": "2021-09-23T11:31:29.952Z"
   },
   {
    "duration": 4,
    "start_time": "2021-09-23T11:31:30.373Z"
   },
   {
    "duration": 18,
    "start_time": "2021-09-23T11:31:30.670Z"
   },
   {
    "duration": 24,
    "start_time": "2021-09-23T11:31:30.927Z"
   },
   {
    "duration": 25,
    "start_time": "2021-09-23T11:31:31.134Z"
   },
   {
    "duration": 11,
    "start_time": "2021-09-23T11:31:31.344Z"
   },
   {
    "duration": 6,
    "start_time": "2021-09-23T11:31:31.551Z"
   },
   {
    "duration": 123,
    "start_time": "2021-09-23T11:31:31.745Z"
   },
   {
    "duration": 6400,
    "start_time": "2021-09-23T11:31:31.936Z"
   },
   {
    "duration": 24,
    "start_time": "2021-09-23T11:31:38.339Z"
   },
   {
    "duration": 1840,
    "start_time": "2021-09-23T11:31:38.366Z"
   },
   {
    "duration": 5,
    "start_time": "2021-09-23T11:31:40.208Z"
   },
   {
    "duration": 14,
    "start_time": "2021-09-23T11:31:40.216Z"
   },
   {
    "duration": 31,
    "start_time": "2021-09-23T11:31:40.232Z"
   },
   {
    "duration": 14,
    "start_time": "2021-09-23T11:31:40.265Z"
   },
   {
    "duration": 9,
    "start_time": "2021-09-23T11:31:40.283Z"
   },
   {
    "duration": 6,
    "start_time": "2021-09-23T11:31:40.296Z"
   },
   {
    "duration": 17,
    "start_time": "2021-09-23T11:31:40.304Z"
   },
   {
    "duration": 55,
    "start_time": "2021-09-23T11:31:40.323Z"
   },
   {
    "duration": 5,
    "start_time": "2021-09-23T11:31:40.380Z"
   },
   {
    "duration": 175,
    "start_time": "2021-09-23T11:31:40.388Z"
   },
   {
    "duration": 3,
    "start_time": "2021-09-23T11:31:40.566Z"
   },
   {
    "duration": 463,
    "start_time": "2021-09-23T11:31:40.571Z"
   },
   {
    "duration": 70,
    "start_time": "2021-09-23T11:31:41.036Z"
   },
   {
    "duration": 14,
    "start_time": "2021-09-23T11:31:41.109Z"
   },
   {
    "duration": 4,
    "start_time": "2021-09-23T11:31:43.944Z"
   },
   {
    "duration": 4,
    "start_time": "2021-09-23T11:31:44.547Z"
   },
   {
    "duration": 5,
    "start_time": "2021-09-23T11:32:02.337Z"
   },
   {
    "duration": 8,
    "start_time": "2021-09-23T11:32:02.782Z"
   },
   {
    "duration": 5,
    "start_time": "2021-09-23T11:32:03.675Z"
   },
   {
    "duration": 9,
    "start_time": "2021-09-23T11:32:04.088Z"
   },
   {
    "duration": 7,
    "start_time": "2021-09-23T11:32:04.305Z"
   },
   {
    "duration": 5,
    "start_time": "2021-09-23T11:32:04.570Z"
   },
   {
    "duration": 4,
    "start_time": "2021-09-23T11:32:04.808Z"
   },
   {
    "duration": 27,
    "start_time": "2021-09-23T11:32:05.092Z"
   },
   {
    "duration": 5,
    "start_time": "2021-09-23T11:32:05.307Z"
   },
   {
    "duration": 15,
    "start_time": "2021-09-23T11:32:05.556Z"
   },
   {
    "duration": 3,
    "start_time": "2021-09-23T11:32:05.818Z"
   },
   {
    "duration": 6,
    "start_time": "2021-09-23T11:32:29.794Z"
   },
   {
    "duration": 8,
    "start_time": "2021-09-23T11:32:33.429Z"
   },
   {
    "duration": 5,
    "start_time": "2021-09-23T11:32:34.168Z"
   },
   {
    "duration": 7,
    "start_time": "2021-09-23T11:32:34.700Z"
   },
   {
    "duration": 8,
    "start_time": "2021-09-23T11:32:34.928Z"
   },
   {
    "duration": 5,
    "start_time": "2021-09-23T11:32:35.149Z"
   },
   {
    "duration": 4,
    "start_time": "2021-09-23T11:32:35.341Z"
   },
   {
    "duration": 27,
    "start_time": "2021-09-23T11:32:35.603Z"
   },
   {
    "duration": 5,
    "start_time": "2021-09-23T11:32:35.901Z"
   },
   {
    "duration": 15,
    "start_time": "2021-09-23T11:32:36.923Z"
   },
   {
    "duration": 4,
    "start_time": "2021-09-23T11:32:37.761Z"
   },
   {
    "duration": 8,
    "start_time": "2021-09-23T11:33:45.985Z"
   },
   {
    "duration": 5,
    "start_time": "2021-09-23T11:33:46.366Z"
   },
   {
    "duration": 4,
    "start_time": "2021-09-23T11:33:46.782Z"
   },
   {
    "duration": 26,
    "start_time": "2021-09-23T11:33:47.211Z"
   },
   {
    "duration": 10,
    "start_time": "2021-09-23T11:33:47.710Z"
   },
   {
    "duration": 16,
    "start_time": "2021-09-23T11:33:48.254Z"
   },
   {
    "duration": 3,
    "start_time": "2021-09-23T11:33:50.377Z"
   },
   {
    "duration": 463,
    "start_time": "2021-09-23T11:33:51.711Z"
   },
   {
    "duration": 57,
    "start_time": "2021-09-23T11:33:53.315Z"
   },
   {
    "duration": 14,
    "start_time": "2021-09-23T11:33:54.923Z"
   },
   {
    "duration": 4,
    "start_time": "2021-09-23T11:34:42.105Z"
   },
   {
    "duration": 4,
    "start_time": "2021-09-23T11:34:42.902Z"
   },
   {
    "duration": 17,
    "start_time": "2021-09-23T11:34:43.514Z"
   },
   {
    "duration": 15,
    "start_time": "2021-09-23T11:35:33.612Z"
   },
   {
    "duration": 4,
    "start_time": "2021-09-23T11:42:45.725Z"
   },
   {
    "duration": 4,
    "start_time": "2021-09-23T11:43:11.715Z"
   },
   {
    "duration": 15,
    "start_time": "2021-09-23T11:44:13.214Z"
   },
   {
    "duration": 6,
    "start_time": "2021-09-23T11:44:23.904Z"
   },
   {
    "duration": 21,
    "start_time": "2021-09-23T11:44:24.499Z"
   },
   {
    "duration": 11,
    "start_time": "2021-09-23T11:44:25.065Z"
   },
   {
    "duration": 74,
    "start_time": "2021-09-23T11:44:26.089Z"
   },
   {
    "duration": 4,
    "start_time": "2021-09-23T11:44:26.655Z"
   },
   {
    "duration": 18,
    "start_time": "2021-09-23T11:44:27.252Z"
   },
   {
    "duration": 24,
    "start_time": "2021-09-23T11:44:27.739Z"
   },
   {
    "duration": 24,
    "start_time": "2021-09-23T11:44:28.311Z"
   },
   {
    "duration": 15,
    "start_time": "2021-09-23T11:44:28.851Z"
   },
   {
    "duration": 6,
    "start_time": "2021-09-23T11:44:29.445Z"
   },
   {
    "duration": 744,
    "start_time": "2021-09-23T11:44:30.005Z"
   },
   {
    "duration": 6723,
    "start_time": "2021-09-23T11:44:30.752Z"
   },
   {
    "duration": 6,
    "start_time": "2021-09-23T11:44:37.478Z"
   },
   {
    "duration": 1945,
    "start_time": "2021-09-23T11:44:37.487Z"
   },
   {
    "duration": 5,
    "start_time": "2021-09-23T11:44:39.434Z"
   },
   {
    "duration": 25,
    "start_time": "2021-09-23T11:44:39.441Z"
   },
   {
    "duration": 16,
    "start_time": "2021-09-23T11:44:39.470Z"
   },
   {
    "duration": 10,
    "start_time": "2021-09-23T11:44:39.489Z"
   },
   {
    "duration": 7,
    "start_time": "2021-09-23T11:44:39.502Z"
   },
   {
    "duration": 6,
    "start_time": "2021-09-23T11:44:39.511Z"
   },
   {
    "duration": 4,
    "start_time": "2021-09-23T11:44:40.114Z"
   },
   {
    "duration": 26,
    "start_time": "2021-09-23T11:44:40.765Z"
   },
   {
    "duration": 74,
    "start_time": "2021-09-23T11:44:41.889Z"
   },
   {
    "duration": 15,
    "start_time": "2021-09-23T11:44:42.752Z"
   },
   {
    "duration": 3,
    "start_time": "2021-09-23T11:44:46.018Z"
   },
   {
    "duration": 4,
    "start_time": "2021-09-23T11:44:46.609Z"
   },
   {
    "duration": 15,
    "start_time": "2021-09-23T11:44:48.057Z"
   },
   {
    "duration": 6,
    "start_time": "2021-09-23T11:45:20.010Z"
   },
   {
    "duration": 9,
    "start_time": "2021-09-23T11:45:20.482Z"
   },
   {
    "duration": 6,
    "start_time": "2021-09-23T11:45:22.504Z"
   },
   {
    "duration": 7,
    "start_time": "2021-09-23T11:45:23.523Z"
   },
   {
    "duration": 8,
    "start_time": "2021-09-23T11:45:24.033Z"
   },
   {
    "duration": 5,
    "start_time": "2021-09-23T11:45:24.550Z"
   },
   {
    "duration": 6,
    "start_time": "2021-09-23T11:45:25.469Z"
   },
   {
    "duration": 34,
    "start_time": "2021-09-23T11:45:25.961Z"
   },
   {
    "duration": 110,
    "start_time": "2021-09-23T11:45:26.660Z"
   },
   {
    "duration": 20,
    "start_time": "2021-09-23T11:45:27.225Z"
   },
   {
    "duration": 4,
    "start_time": "2021-09-23T11:45:27.922Z"
   },
   {
    "duration": 6,
    "start_time": "2021-09-23T11:45:28.558Z"
   },
   {
    "duration": 24,
    "start_time": "2021-09-23T11:45:29.281Z"
   },
   {
    "duration": 4,
    "start_time": "2021-09-23T11:46:10.314Z"
   },
   {
    "duration": 17,
    "start_time": "2021-09-23T11:46:10.787Z"
   },
   {
    "duration": 4,
    "start_time": "2021-09-23T11:46:11.838Z"
   },
   {
    "duration": 473,
    "start_time": "2021-09-23T11:46:12.342Z"
   },
   {
    "duration": 63,
    "start_time": "2021-09-23T11:46:12.935Z"
   },
   {
    "duration": 14,
    "start_time": "2021-09-23T11:46:13.646Z"
   },
   {
    "duration": 3,
    "start_time": "2021-09-23T11:46:15.567Z"
   },
   {
    "duration": 4,
    "start_time": "2021-09-23T11:46:16.404Z"
   },
   {
    "duration": 16,
    "start_time": "2021-09-23T11:46:17.029Z"
   },
   {
    "duration": 4,
    "start_time": "2021-09-23T11:47:59.390Z"
   },
   {
    "duration": 4,
    "start_time": "2021-09-23T11:48:29.635Z"
   },
   {
    "duration": 15,
    "start_time": "2021-09-23T11:48:30.892Z"
   },
   {
    "duration": 15,
    "start_time": "2021-09-23T11:48:40.137Z"
   },
   {
    "duration": 137,
    "start_time": "2021-09-23T11:49:36.693Z"
   },
   {
    "duration": 427,
    "start_time": "2021-09-23T11:49:50.939Z"
   },
   {
    "duration": 19,
    "start_time": "2021-09-23T11:50:38.873Z"
   },
   {
    "duration": 20,
    "start_time": "2021-09-23T11:50:48.317Z"
   },
   {
    "duration": 5,
    "start_time": "2021-09-23T11:50:56.358Z"
   },
   {
    "duration": 22,
    "start_time": "2021-09-23T11:50:56.879Z"
   },
   {
    "duration": 15,
    "start_time": "2021-09-23T11:50:57.500Z"
   },
   {
    "duration": 76,
    "start_time": "2021-09-23T11:50:58.425Z"
   },
   {
    "duration": 3,
    "start_time": "2021-09-23T11:50:58.744Z"
   },
   {
    "duration": 18,
    "start_time": "2021-09-23T11:50:59.087Z"
   },
   {
    "duration": 26,
    "start_time": "2021-09-23T11:50:59.401Z"
   },
   {
    "duration": 26,
    "start_time": "2021-09-23T11:50:59.997Z"
   },
   {
    "duration": 11,
    "start_time": "2021-09-23T11:51:00.436Z"
   },
   {
    "duration": 5,
    "start_time": "2021-09-23T11:51:00.886Z"
   },
   {
    "duration": 127,
    "start_time": "2021-09-23T11:51:01.337Z"
   },
   {
    "duration": 6747,
    "start_time": "2021-09-23T11:51:01.744Z"
   },
   {
    "duration": 7,
    "start_time": "2021-09-23T11:51:08.494Z"
   },
   {
    "duration": 1959,
    "start_time": "2021-09-23T11:51:08.503Z"
   },
   {
    "duration": 6,
    "start_time": "2021-09-23T11:51:10.464Z"
   },
   {
    "duration": 17,
    "start_time": "2021-09-23T11:51:10.472Z"
   },
   {
    "duration": 12,
    "start_time": "2021-09-23T11:51:10.491Z"
   },
   {
    "duration": 8,
    "start_time": "2021-09-23T11:51:37.729Z"
   },
   {
    "duration": 8,
    "start_time": "2021-09-23T11:51:38.846Z"
   },
   {
    "duration": 6,
    "start_time": "2021-09-23T11:51:39.429Z"
   },
   {
    "duration": 4,
    "start_time": "2021-09-23T11:51:40.753Z"
   },
   {
    "duration": 27,
    "start_time": "2021-09-23T11:51:42.353Z"
   },
   {
    "duration": 11,
    "start_time": "2021-09-23T11:51:42.946Z"
   },
   {
    "duration": 18,
    "start_time": "2021-09-23T11:51:44.531Z"
   },
   {
    "duration": 4,
    "start_time": "2021-09-23T11:51:45.178Z"
   },
   {
    "duration": 4,
    "start_time": "2021-09-23T11:51:46.637Z"
   },
   {
    "duration": 14,
    "start_time": "2021-09-23T11:51:48.483Z"
   },
   {
    "duration": 4,
    "start_time": "2021-09-23T11:52:09.419Z"
   },
   {
    "duration": 28,
    "start_time": "2021-09-23T11:52:09.869Z"
   },
   {
    "duration": 12,
    "start_time": "2021-09-23T11:52:10.490Z"
   },
   {
    "duration": 15,
    "start_time": "2021-09-23T11:52:11.064Z"
   },
   {
    "duration": 3,
    "start_time": "2021-09-23T11:52:11.630Z"
   },
   {
    "duration": 5,
    "start_time": "2021-09-23T11:52:12.606Z"
   },
   {
    "duration": 15,
    "start_time": "2021-09-23T11:52:13.330Z"
   },
   {
    "duration": 4,
    "start_time": "2021-09-23T11:52:25.657Z"
   },
   {
    "duration": 463,
    "start_time": "2021-09-23T11:52:26.291Z"
   },
   {
    "duration": 62,
    "start_time": "2021-09-23T11:52:26.761Z"
   },
   {
    "duration": 16,
    "start_time": "2021-09-23T11:52:27.278Z"
   },
   {
    "duration": 4,
    "start_time": "2021-09-23T11:52:29.311Z"
   },
   {
    "duration": 4,
    "start_time": "2021-09-23T11:52:30.073Z"
   },
   {
    "duration": 15,
    "start_time": "2021-09-23T11:52:30.677Z"
   },
   {
    "duration": 18,
    "start_time": "2021-09-23T11:52:31.610Z"
   },
   {
    "duration": 5,
    "start_time": "2021-09-23T12:02:03.838Z"
   },
   {
    "duration": 8,
    "start_time": "2021-09-23T12:02:04.456Z"
   },
   {
    "duration": 6,
    "start_time": "2021-09-23T12:02:08.719Z"
   },
   {
    "duration": 8,
    "start_time": "2021-09-23T12:02:09.763Z"
   },
   {
    "duration": 12,
    "start_time": "2021-09-23T12:02:10.390Z"
   },
   {
    "duration": 7,
    "start_time": "2021-09-23T12:02:10.877Z"
   },
   {
    "duration": 3,
    "start_time": "2021-09-23T12:02:11.993Z"
   },
   {
    "duration": 28,
    "start_time": "2021-09-23T12:02:12.875Z"
   },
   {
    "duration": 13,
    "start_time": "2021-09-23T12:02:14.178Z"
   },
   {
    "duration": 16,
    "start_time": "2021-09-23T12:02:16.780Z"
   },
   {
    "duration": 3,
    "start_time": "2021-09-23T12:02:17.666Z"
   },
   {
    "duration": 4,
    "start_time": "2021-09-23T12:02:18.348Z"
   },
   {
    "duration": 16,
    "start_time": "2021-09-23T12:02:20.903Z"
   },
   {
    "duration": 5,
    "start_time": "2021-09-23T12:02:39.807Z"
   },
   {
    "duration": 7,
    "start_time": "2021-09-23T12:02:40.234Z"
   },
   {
    "duration": 6,
    "start_time": "2021-09-23T12:02:41.668Z"
   },
   {
    "duration": 9,
    "start_time": "2021-09-23T12:02:42.651Z"
   },
   {
    "duration": 10,
    "start_time": "2021-09-23T12:02:43.158Z"
   },
   {
    "duration": 5,
    "start_time": "2021-09-23T12:02:43.653Z"
   },
   {
    "duration": 4,
    "start_time": "2021-09-23T12:02:45.515Z"
   },
   {
    "duration": 30,
    "start_time": "2021-09-23T12:02:45.975Z"
   },
   {
    "duration": 4,
    "start_time": "2021-09-23T12:02:46.416Z"
   },
   {
    "duration": 16,
    "start_time": "2021-09-23T12:02:46.879Z"
   },
   {
    "duration": 3,
    "start_time": "2021-09-23T12:02:47.353Z"
   },
   {
    "duration": 4,
    "start_time": "2021-09-23T12:02:47.866Z"
   },
   {
    "duration": 18,
    "start_time": "2021-09-23T12:02:48.385Z"
   },
   {
    "duration": 4,
    "start_time": "2021-09-23T12:03:28.556Z"
   },
   {
    "duration": 18,
    "start_time": "2021-09-23T12:03:54.244Z"
   },
   {
    "duration": 5,
    "start_time": "2021-09-23T12:25:44.284Z"
   },
   {
    "duration": 22,
    "start_time": "2021-09-23T12:25:44.567Z"
   },
   {
    "duration": 10,
    "start_time": "2021-09-23T12:25:44.852Z"
   },
   {
    "duration": 76,
    "start_time": "2021-09-23T12:25:45.364Z"
   },
   {
    "duration": 4,
    "start_time": "2021-09-23T12:25:45.634Z"
   },
   {
    "duration": 18,
    "start_time": "2021-09-23T12:25:45.871Z"
   },
   {
    "duration": 24,
    "start_time": "2021-09-23T12:25:46.097Z"
   },
   {
    "duration": 24,
    "start_time": "2021-09-23T12:25:46.357Z"
   },
   {
    "duration": 11,
    "start_time": "2021-09-23T12:25:46.599Z"
   },
   {
    "duration": 6,
    "start_time": "2021-09-23T12:25:46.844Z"
   },
   {
    "duration": 113,
    "start_time": "2021-09-23T12:25:47.066Z"
   },
   {
    "duration": 7008,
    "start_time": "2021-09-23T12:25:47.313Z"
   },
   {
    "duration": 6,
    "start_time": "2021-09-23T12:25:54.324Z"
   },
   {
    "duration": 1891,
    "start_time": "2021-09-23T12:25:54.333Z"
   },
   {
    "duration": 8,
    "start_time": "2021-09-23T12:25:56.227Z"
   },
   {
    "duration": 30,
    "start_time": "2021-09-23T12:25:56.237Z"
   },
   {
    "duration": 5,
    "start_time": "2021-09-23T12:26:00.634Z"
   },
   {
    "duration": 7,
    "start_time": "2021-09-23T12:26:01.958Z"
   },
   {
    "duration": 9,
    "start_time": "2021-09-23T12:26:02.580Z"
   },
   {
    "duration": 5,
    "start_time": "2021-09-23T12:26:03.601Z"
   },
   {
    "duration": 3,
    "start_time": "2021-09-23T12:26:05.475Z"
   },
   {
    "duration": 27,
    "start_time": "2021-09-23T12:26:06.282Z"
   },
   {
    "duration": 5,
    "start_time": "2021-09-23T12:26:06.839Z"
   },
   {
    "duration": 16,
    "start_time": "2021-09-23T12:26:07.691Z"
   },
   {
    "duration": 4,
    "start_time": "2021-09-23T12:26:11.859Z"
   },
   {
    "duration": 4,
    "start_time": "2021-09-23T12:26:12.689Z"
   },
   {
    "duration": 18,
    "start_time": "2021-09-23T12:26:15.103Z"
   },
   {
    "duration": 130,
    "start_time": "2021-09-23T12:54:47.183Z"
   },
   {
    "duration": 9,
    "start_time": "2021-09-23T12:54:57.202Z"
   },
   {
    "duration": 8,
    "start_time": "2021-09-23T12:56:34.013Z"
   },
   {
    "duration": 8,
    "start_time": "2021-09-23T12:57:10.011Z"
   },
   {
    "duration": 8,
    "start_time": "2021-09-23T12:57:52.528Z"
   },
   {
    "duration": 5,
    "start_time": "2021-09-23T12:57:54.839Z"
   },
   {
    "duration": 26,
    "start_time": "2021-09-23T12:58:37.503Z"
   },
   {
    "duration": 6,
    "start_time": "2021-09-23T12:58:39.261Z"
   },
   {
    "duration": 15,
    "start_time": "2021-09-23T12:58:43.366Z"
   },
   {
    "duration": 4,
    "start_time": "2021-09-23T12:58:45.082Z"
   },
   {
    "duration": 4,
    "start_time": "2021-09-23T13:07:01.096Z"
   },
   {
    "duration": 4,
    "start_time": "2021-09-23T13:07:10.487Z"
   },
   {
    "duration": 16,
    "start_time": "2021-09-23T13:07:11.416Z"
   },
   {
    "duration": 5,
    "start_time": "2021-09-23T13:07:37.125Z"
   },
   {
    "duration": 24,
    "start_time": "2021-09-23T13:07:37.311Z"
   },
   {
    "duration": 10,
    "start_time": "2021-09-23T13:07:37.508Z"
   },
   {
    "duration": 88,
    "start_time": "2021-09-23T13:07:37.910Z"
   },
   {
    "duration": 4,
    "start_time": "2021-09-23T13:07:38.121Z"
   },
   {
    "duration": 19,
    "start_time": "2021-09-23T13:07:38.344Z"
   },
   {
    "duration": 23,
    "start_time": "2021-09-23T13:07:38.564Z"
   },
   {
    "duration": 24,
    "start_time": "2021-09-23T13:07:38.776Z"
   },
   {
    "duration": 11,
    "start_time": "2021-09-23T13:07:39.004Z"
   },
   {
    "duration": 5,
    "start_time": "2021-09-23T13:07:39.228Z"
   },
   {
    "duration": 138,
    "start_time": "2021-09-23T13:07:39.485Z"
   },
   {
    "duration": 6868,
    "start_time": "2021-09-23T13:07:39.718Z"
   },
   {
    "duration": 10,
    "start_time": "2021-09-23T13:07:46.589Z"
   },
   {
    "duration": 1977,
    "start_time": "2021-09-23T13:07:46.603Z"
   },
   {
    "duration": 8,
    "start_time": "2021-09-23T13:07:48.583Z"
   },
   {
    "duration": 8,
    "start_time": "2021-09-23T13:07:48.594Z"
   },
   {
    "duration": 13,
    "start_time": "2021-09-23T13:07:48.604Z"
   },
   {
    "duration": 12,
    "start_time": "2021-09-23T13:07:48.619Z"
   },
   {
    "duration": 32,
    "start_time": "2021-09-23T13:07:48.635Z"
   },
   {
    "duration": 9,
    "start_time": "2021-09-23T13:07:48.670Z"
   },
   {
    "duration": 6,
    "start_time": "2021-09-23T13:07:48.682Z"
   },
   {
    "duration": 37,
    "start_time": "2021-09-23T13:07:48.690Z"
   },
   {
    "duration": 34,
    "start_time": "2021-09-23T13:07:48.729Z"
   },
   {
    "duration": 106,
    "start_time": "2021-09-23T13:07:48.765Z"
   },
   {
    "duration": 3,
    "start_time": "2021-09-23T13:07:48.873Z"
   },
   {
    "duration": 8,
    "start_time": "2021-09-23T13:07:48.878Z"
   },
   {
    "duration": 89,
    "start_time": "2021-09-23T13:07:48.889Z"
   },
   {
    "duration": 4,
    "start_time": "2021-09-23T13:07:59.915Z"
   },
   {
    "duration": 7,
    "start_time": "2021-09-23T13:08:09.127Z"
   },
   {
    "duration": 6,
    "start_time": "2021-09-23T13:08:09.537Z"
   },
   {
    "duration": 8,
    "start_time": "2021-09-23T13:08:09.992Z"
   },
   {
    "duration": 11,
    "start_time": "2021-09-23T13:08:10.491Z"
   },
   {
    "duration": 11,
    "start_time": "2021-09-23T13:08:11.257Z"
   },
   {
    "duration": 6,
    "start_time": "2021-09-23T13:08:11.502Z"
   },
   {
    "duration": 4,
    "start_time": "2021-09-23T13:08:11.994Z"
   },
   {
    "duration": 33,
    "start_time": "2021-09-23T13:08:12.530Z"
   },
   {
    "duration": 17,
    "start_time": "2021-09-23T13:08:12.763Z"
   },
   {
    "duration": 22,
    "start_time": "2021-09-23T13:08:13.035Z"
   },
   {
    "duration": 5,
    "start_time": "2021-09-23T13:08:14.062Z"
   },
   {
    "duration": 4,
    "start_time": "2021-09-23T13:08:14.551Z"
   },
   {
    "duration": 18,
    "start_time": "2021-09-23T13:08:14.833Z"
   },
   {
    "duration": 3,
    "start_time": "2021-09-23T13:08:29.796Z"
   },
   {
    "duration": 6,
    "start_time": "2021-09-23T13:08:43.538Z"
   },
   {
    "duration": 17,
    "start_time": "2021-09-23T13:08:44.078Z"
   },
   {
    "duration": 3,
    "start_time": "2021-09-23T13:08:45.797Z"
   },
   {
    "duration": 461,
    "start_time": "2021-09-23T13:08:46.435Z"
   },
   {
    "duration": 72,
    "start_time": "2021-09-23T13:08:47.024Z"
   },
   {
    "duration": 14,
    "start_time": "2021-09-23T13:08:47.790Z"
   },
   {
    "duration": 3,
    "start_time": "2021-09-23T13:08:49.800Z"
   },
   {
    "duration": 62,
    "start_time": "2021-09-23T13:12:01.773Z"
   },
   {
    "duration": 16,
    "start_time": "2021-09-23T13:12:06.676Z"
   },
   {
    "duration": 1686,
    "start_time": "2021-09-24T11:03:38.049Z"
   },
   {
    "duration": 26,
    "start_time": "2021-09-24T11:03:41.027Z"
   },
   {
    "duration": 10,
    "start_time": "2021-09-24T11:03:41.882Z"
   },
   {
    "duration": 81,
    "start_time": "2021-09-24T11:03:45.438Z"
   },
   {
    "duration": 4,
    "start_time": "2021-09-24T11:03:46.150Z"
   },
   {
    "duration": 17,
    "start_time": "2021-09-24T11:03:46.790Z"
   },
   {
    "duration": 775,
    "start_time": "2021-09-24T11:03:47.562Z"
   },
   {
    "duration": 26,
    "start_time": "2021-09-24T11:03:48.340Z"
   },
   {
    "duration": 13,
    "start_time": "2021-09-24T11:03:49.176Z"
   },
   {
    "duration": 5,
    "start_time": "2021-09-24T11:03:50.075Z"
   },
   {
    "duration": 109,
    "start_time": "2021-09-24T11:03:50.716Z"
   },
   {
    "duration": 7589,
    "start_time": "2021-09-24T11:03:51.724Z"
   },
   {
    "duration": 9,
    "start_time": "2021-09-24T11:03:59.324Z"
   },
   {
    "duration": 2774,
    "start_time": "2021-09-24T11:04:02.071Z"
   },
   {
    "duration": 11,
    "start_time": "2021-09-24T11:05:45.763Z"
   },
   {
    "duration": 7,
    "start_time": "2021-09-24T11:06:25.506Z"
   },
   {
    "duration": 5,
    "start_time": "2021-09-24T11:06:29.568Z"
   },
   {
    "duration": 7,
    "start_time": "2021-09-24T11:06:31.871Z"
   },
   {
    "duration": 7,
    "start_time": "2021-09-24T11:06:33.022Z"
   },
   {
    "duration": 6,
    "start_time": "2021-09-24T11:06:34.012Z"
   },
   {
    "duration": 3,
    "start_time": "2021-09-24T11:06:38.748Z"
   },
   {
    "duration": 28,
    "start_time": "2021-09-24T11:06:44.463Z"
   },
   {
    "duration": 10,
    "start_time": "2021-09-24T11:06:45.480Z"
   },
   {
    "duration": 9,
    "start_time": "2021-09-24T11:07:39.809Z"
   },
   {
    "duration": 15,
    "start_time": "2021-09-24T11:07:42.021Z"
   },
   {
    "duration": 4,
    "start_time": "2021-09-24T11:08:42.770Z"
   },
   {
    "duration": 4,
    "start_time": "2021-09-24T11:08:43.940Z"
   },
   {
    "duration": 478,
    "start_time": "2021-09-24T11:08:45.970Z"
   },
   {
    "duration": 19,
    "start_time": "2021-09-24T11:09:07.127Z"
   },
   {
    "duration": 487,
    "start_time": "2021-09-24T11:11:23.119Z"
   },
   {
    "duration": 16,
    "start_time": "2021-09-24T11:11:27.073Z"
   },
   {
    "duration": 15,
    "start_time": "2021-09-24T11:11:46.417Z"
   },
   {
    "duration": 3,
    "start_time": "2021-09-24T11:40:51.881Z"
   },
   {
    "duration": 290,
    "start_time": "2021-09-24T11:41:35.003Z"
   },
   {
    "duration": 10,
    "start_time": "2021-09-24T11:41:41.886Z"
   },
   {
    "duration": 9,
    "start_time": "2021-09-24T11:41:42.627Z"
   },
   {
    "duration": 736,
    "start_time": "2021-09-24T11:41:43.337Z"
   },
   {
    "duration": 791,
    "start_time": "2021-09-24T11:41:44.075Z"
   },
   {
    "duration": 4,
    "start_time": "2021-09-24T11:41:45.712Z"
   },
   {
    "duration": 1949,
    "start_time": "2021-09-24T11:41:47.279Z"
   },
   {
    "duration": 5,
    "start_time": "2021-09-24T11:43:08.723Z"
   },
   {
    "duration": 25,
    "start_time": "2021-09-24T11:44:41.248Z"
   },
   {
    "duration": 319,
    "start_time": "2021-09-24T11:52:48.929Z"
   },
   {
    "duration": 6,
    "start_time": "2021-09-24T11:58:03.927Z"
   },
   {
    "duration": 5,
    "start_time": "2021-09-24T11:58:08.862Z"
   },
   {
    "duration": 26,
    "start_time": "2021-09-24T11:58:09.178Z"
   },
   {
    "duration": 10,
    "start_time": "2021-09-24T11:58:09.704Z"
   },
   {
    "duration": 70,
    "start_time": "2021-09-24T11:58:11.261Z"
   },
   {
    "duration": 4,
    "start_time": "2021-09-24T11:58:12.110Z"
   },
   {
    "duration": 17,
    "start_time": "2021-09-24T11:58:12.622Z"
   },
   {
    "duration": 23,
    "start_time": "2021-09-24T11:58:13.543Z"
   },
   {
    "duration": 23,
    "start_time": "2021-09-24T11:58:14.211Z"
   },
   {
    "duration": 10,
    "start_time": "2021-09-24T11:58:16.501Z"
   },
   {
    "duration": 6,
    "start_time": "2021-09-24T11:58:29.230Z"
   },
   {
    "duration": 101,
    "start_time": "2021-09-24T11:58:30.560Z"
   },
   {
    "duration": 6421,
    "start_time": "2021-09-24T11:58:32.552Z"
   },
   {
    "duration": 8,
    "start_time": "2021-09-24T11:58:54.751Z"
   },
   {
    "duration": 2094,
    "start_time": "2021-09-24T11:58:55.766Z"
   },
   {
    "duration": 8,
    "start_time": "2021-09-24T11:59:01.876Z"
   },
   {
    "duration": 5,
    "start_time": "2021-09-24T11:59:03.344Z"
   },
   {
    "duration": 5,
    "start_time": "2021-09-24T11:59:04.332Z"
   },
   {
    "duration": 9,
    "start_time": "2021-09-24T11:59:05.360Z"
   },
   {
    "duration": 8,
    "start_time": "2021-09-24T11:59:06.380Z"
   },
   {
    "duration": 6,
    "start_time": "2021-09-24T11:59:06.918Z"
   },
   {
    "duration": 4,
    "start_time": "2021-09-24T11:59:08.044Z"
   },
   {
    "duration": 32,
    "start_time": "2021-09-24T11:59:09.134Z"
   },
   {
    "duration": 65,
    "start_time": "2021-09-24T11:59:10.158Z"
   },
   {
    "duration": 18,
    "start_time": "2021-09-24T11:59:10.673Z"
   },
   {
    "duration": 4,
    "start_time": "2021-09-24T11:59:11.842Z"
   },
   {
    "duration": 4,
    "start_time": "2021-09-24T11:59:12.353Z"
   },
   {
    "duration": 18,
    "start_time": "2021-09-24T11:59:12.887Z"
   },
   {
    "duration": 521,
    "start_time": "2021-09-24T11:59:14.645Z"
   },
   {
    "duration": 15,
    "start_time": "2021-09-24T11:59:15.206Z"
   },
   {
    "duration": 13,
    "start_time": "2021-09-24T11:59:17.809Z"
   },
   {
    "duration": 9,
    "start_time": "2021-09-24T11:59:19.357Z"
   },
   {
    "duration": 953,
    "start_time": "2021-09-24T11:59:19.926Z"
   },
   {
    "duration": 726,
    "start_time": "2021-09-24T11:59:20.881Z"
   },
   {
    "duration": 3,
    "start_time": "2021-09-24T11:59:23.346Z"
   },
   {
    "duration": 1680,
    "start_time": "2021-09-24T11:59:23.352Z"
   },
   {
    "duration": 6,
    "start_time": "2021-09-24T11:59:25.035Z"
   },
   {
    "duration": 26,
    "start_time": "2021-09-24T11:59:27.141Z"
   },
   {
    "duration": 16,
    "start_time": "2021-09-24T11:59:57.238Z"
   },
   {
    "duration": 18,
    "start_time": "2021-09-24T12:00:23.285Z"
   },
   {
    "duration": 6,
    "start_time": "2021-09-24T12:01:10.085Z"
   },
   {
    "duration": 17,
    "start_time": "2021-09-24T12:01:10.859Z"
   },
   {
    "duration": 17,
    "start_time": "2021-09-24T12:01:19.890Z"
   },
   {
    "duration": 10854,
    "start_time": "2021-09-24T12:02:07.087Z"
   },
   {
    "duration": 12515,
    "start_time": "2021-09-24T12:03:07.043Z"
   },
   {
    "duration": 10979,
    "start_time": "2021-09-24T12:05:26.520Z"
   },
   {
    "duration": 4843,
    "start_time": "2021-09-24T12:05:58.864Z"
   },
   {
    "duration": 11292,
    "start_time": "2021-09-24T12:06:18.671Z"
   },
   {
    "duration": 10135,
    "start_time": "2021-09-24T12:10:58.531Z"
   },
   {
    "duration": 383,
    "start_time": "2021-09-24T12:14:59.729Z"
   },
   {
    "duration": 5,
    "start_time": "2021-09-24T12:51:59.947Z"
   },
   {
    "duration": 24,
    "start_time": "2021-09-24T12:52:00.392Z"
   },
   {
    "duration": 10,
    "start_time": "2021-09-24T12:52:00.810Z"
   },
   {
    "duration": 70,
    "start_time": "2021-09-24T12:52:01.709Z"
   },
   {
    "duration": 4,
    "start_time": "2021-09-24T12:52:02.165Z"
   },
   {
    "duration": 17,
    "start_time": "2021-09-24T12:52:02.547Z"
   },
   {
    "duration": 25,
    "start_time": "2021-09-24T12:52:02.865Z"
   },
   {
    "duration": 23,
    "start_time": "2021-09-24T12:52:03.220Z"
   },
   {
    "duration": 11,
    "start_time": "2021-09-24T12:52:04.329Z"
   },
   {
    "duration": 5,
    "start_time": "2021-09-24T12:52:04.878Z"
   },
   {
    "duration": 117,
    "start_time": "2021-09-24T12:52:05.297Z"
   },
   {
    "duration": 6319,
    "start_time": "2021-09-24T12:52:05.748Z"
   },
   {
    "duration": 7,
    "start_time": "2021-09-24T12:52:12.069Z"
   },
   {
    "duration": 1953,
    "start_time": "2021-09-24T12:52:12.079Z"
   },
   {
    "duration": 8,
    "start_time": "2021-09-24T12:52:14.035Z"
   },
   {
    "duration": 12,
    "start_time": "2021-09-24T12:52:14.046Z"
   },
   {
    "duration": 6,
    "start_time": "2021-09-24T12:52:15.620Z"
   },
   {
    "duration": 7,
    "start_time": "2021-09-24T12:52:21.392Z"
   },
   {
    "duration": 9,
    "start_time": "2021-09-24T12:52:22.591Z"
   },
   {
    "duration": 6,
    "start_time": "2021-09-24T12:52:23.254Z"
   },
   {
    "duration": 4,
    "start_time": "2021-09-24T12:52:24.341Z"
   },
   {
    "duration": 27,
    "start_time": "2021-09-24T12:52:25.423Z"
   },
   {
    "duration": 11,
    "start_time": "2021-09-24T12:52:26.502Z"
   },
   {
    "duration": 15,
    "start_time": "2021-09-24T12:52:27.035Z"
   },
   {
    "duration": 4,
    "start_time": "2021-09-24T12:52:28.101Z"
   },
   {
    "duration": 4,
    "start_time": "2021-09-24T12:52:28.628Z"
   },
   {
    "duration": 21,
    "start_time": "2021-09-24T12:52:29.166Z"
   },
   {
    "duration": 510,
    "start_time": "2021-09-24T12:52:30.945Z"
   },
   {
    "duration": 16,
    "start_time": "2021-09-24T12:52:31.591Z"
   },
   {
    "duration": 9,
    "start_time": "2021-09-24T12:52:34.232Z"
   },
   {
    "duration": 7,
    "start_time": "2021-09-24T12:52:34.902Z"
   },
   {
    "duration": 781,
    "start_time": "2021-09-24T12:52:35.671Z"
   },
   {
    "duration": 971,
    "start_time": "2021-09-24T12:52:37.023Z"
   },
   {
    "duration": 4,
    "start_time": "2021-09-24T12:52:38.357Z"
   },
   {
    "duration": 1912,
    "start_time": "2021-09-24T12:52:39.912Z"
   },
   {
    "duration": 5,
    "start_time": "2021-09-24T12:52:41.827Z"
   },
   {
    "duration": 25,
    "start_time": "2021-09-24T12:52:44.222Z"
   },
   {
    "duration": 5,
    "start_time": "2021-09-24T12:52:56.594Z"
   },
   {
    "duration": 18,
    "start_time": "2021-09-24T12:52:57.901Z"
   },
   {
    "duration": 9775,
    "start_time": "2021-09-24T12:52:59.262Z"
   },
   {
    "duration": 9,
    "start_time": "2021-09-24T12:53:59.448Z"
   },
   {
    "duration": 10,
    "start_time": "2021-09-24T12:54:12.647Z"
   },
   {
    "duration": 8,
    "start_time": "2021-09-24T12:57:13.115Z"
   },
   {
    "duration": 24,
    "start_time": "2021-09-24T12:57:38.713Z"
   },
   {
    "duration": 259,
    "start_time": "2021-09-24T12:58:23.628Z"
   },
   {
    "duration": 18,
    "start_time": "2021-09-24T13:01:43.516Z"
   },
   {
    "duration": 710,
    "start_time": "2021-09-24T13:02:07.937Z"
   },
   {
    "duration": 19,
    "start_time": "2021-09-24T13:02:15.769Z"
   },
   {
    "duration": 29,
    "start_time": "2021-09-24T13:04:56.045Z"
   },
   {
    "duration": 19,
    "start_time": "2021-09-24T13:05:31.224Z"
   },
   {
    "duration": 5,
    "start_time": "2021-09-24T13:18:57.205Z"
   },
   {
    "duration": 9488,
    "start_time": "2021-09-24T13:18:58.265Z"
   },
   {
    "duration": 20,
    "start_time": "2021-09-24T13:19:13.774Z"
   },
   {
    "duration": 6,
    "start_time": "2021-09-24T13:19:46.274Z"
   },
   {
    "duration": 9440,
    "start_time": "2021-09-24T13:19:48.316Z"
   },
   {
    "duration": 19,
    "start_time": "2021-09-24T13:36:39.607Z"
   },
   {
    "duration": 5,
    "start_time": "2021-09-24T14:03:15.334Z"
   },
   {
    "duration": 20,
    "start_time": "2021-09-24T14:03:37.636Z"
   },
   {
    "duration": 24,
    "start_time": "2021-09-24T14:04:00.378Z"
   },
   {
    "duration": 1194,
    "start_time": "2021-09-24T20:11:45.916Z"
   },
   {
    "duration": 22,
    "start_time": "2021-09-24T20:11:47.112Z"
   },
   {
    "duration": 8,
    "start_time": "2021-09-24T20:11:48.047Z"
   },
   {
    "duration": 3,
    "start_time": "2021-09-24T20:11:48.859Z"
   },
   {
    "duration": 15,
    "start_time": "2021-09-24T20:11:49.515Z"
   },
   {
    "duration": 43,
    "start_time": "2021-09-24T20:11:53.433Z"
   },
   {
    "duration": 19,
    "start_time": "2021-09-24T20:11:54.217Z"
   },
   {
    "duration": 12,
    "start_time": "2021-09-24T20:11:54.941Z"
   },
   {
    "duration": 4,
    "start_time": "2021-09-24T20:11:57.709Z"
   },
   {
    "duration": 103,
    "start_time": "2021-09-24T20:11:58.276Z"
   },
   {
    "duration": 4140,
    "start_time": "2021-09-24T20:11:59.160Z"
   },
   {
    "duration": 4,
    "start_time": "2021-09-24T20:20:26.404Z"
   },
   {
    "duration": 21,
    "start_time": "2021-09-24T20:20:26.649Z"
   },
   {
    "duration": 9,
    "start_time": "2021-09-24T20:20:26.921Z"
   },
   {
    "duration": 3,
    "start_time": "2021-09-24T20:20:27.246Z"
   },
   {
    "duration": 44,
    "start_time": "2021-09-24T20:23:15.061Z"
   },
   {
    "duration": 16,
    "start_time": "2021-09-24T20:23:20.470Z"
   },
   {
    "duration": 8,
    "start_time": "2021-09-24T20:32:51.468Z"
   },
   {
    "duration": 4,
    "start_time": "2021-09-24T20:32:52.012Z"
   },
   {
    "duration": 121,
    "start_time": "2021-09-24T20:32:59.019Z"
   },
   {
    "duration": 3975,
    "start_time": "2021-09-24T20:33:00.613Z"
   },
   {
    "duration": 6,
    "start_time": "2021-09-24T20:33:58.970Z"
   },
   {
    "duration": 1274,
    "start_time": "2021-09-24T20:34:00.311Z"
   },
   {
    "duration": 6,
    "start_time": "2021-09-24T20:59:55.236Z"
   },
   {
    "duration": 3,
    "start_time": "2021-09-24T20:59:55.897Z"
   },
   {
    "duration": 4,
    "start_time": "2021-09-24T20:59:56.386Z"
   },
   {
    "duration": 6,
    "start_time": "2021-09-24T20:59:56.881Z"
   },
   {
    "duration": 8,
    "start_time": "2021-09-24T20:59:57.365Z"
   },
   {
    "duration": 5,
    "start_time": "2021-09-24T20:59:57.641Z"
   },
   {
    "duration": 3,
    "start_time": "2021-09-24T20:59:58.102Z"
   },
   {
    "duration": 16,
    "start_time": "2021-09-24T20:59:58.502Z"
   },
   {
    "duration": 12,
    "start_time": "2021-09-24T20:59:58.921Z"
   },
   {
    "duration": 11,
    "start_time": "2021-09-24T20:59:59.139Z"
   },
   {
    "duration": 3,
    "start_time": "2021-09-24T20:59:59.672Z"
   },
   {
    "duration": 3,
    "start_time": "2021-09-24T21:00:00.173Z"
   },
   {
    "duration": 12,
    "start_time": "2021-09-24T21:00:00.411Z"
   },
   {
    "duration": 344,
    "start_time": "2021-09-24T21:00:03.571Z"
   },
   {
    "duration": 11,
    "start_time": "2021-09-24T21:00:03.917Z"
   },
   {
    "duration": 8,
    "start_time": "2021-09-24T21:00:07.555Z"
   },
   {
    "duration": 5,
    "start_time": "2021-09-24T21:00:08.186Z"
   },
   {
    "duration": 589,
    "start_time": "2021-09-24T21:00:08.805Z"
   },
   {
    "duration": 484,
    "start_time": "2021-09-24T21:00:09.399Z"
   },
   {
    "duration": 3,
    "start_time": "2021-09-24T21:00:10.506Z"
   },
   {
    "duration": 1431,
    "start_time": "2021-09-24T21:00:11.351Z"
   },
   {
    "duration": 93,
    "start_time": "2021-09-24T21:00:12.786Z"
   },
   {
    "duration": 36,
    "start_time": "2021-09-24T21:00:12.881Z"
   },
   {
    "duration": 95,
    "start_time": "2021-09-24T21:24:32.163Z"
   },
   {
    "duration": 378,
    "start_time": "2021-09-24T21:24:32.911Z"
   },
   {
    "duration": 3,
    "start_time": "2021-09-24T21:24:39.576Z"
   },
   {
    "duration": 88,
    "start_time": "2021-09-24T21:24:40.073Z"
   },
   {
    "duration": 6616,
    "start_time": "2021-09-24T21:24:40.694Z"
   },
   {
    "duration": 12,
    "start_time": "2021-09-24T21:41:21.102Z"
   },
   {
    "duration": 46,
    "start_time": "2021-09-24T21:41:27.676Z"
   },
   {
    "duration": 17,
    "start_time": "2021-09-24T21:41:31.715Z"
   },
   {
    "duration": 8,
    "start_time": "2021-09-24T21:41:47.980Z"
   },
   {
    "duration": 4,
    "start_time": "2021-09-24T21:41:48.651Z"
   },
   {
    "duration": 91,
    "start_time": "2021-09-24T21:41:49.141Z"
   },
   {
    "duration": 4179,
    "start_time": "2021-09-24T21:41:49.685Z"
   },
   {
    "duration": 6,
    "start_time": "2021-09-24T21:42:01.356Z"
   },
   {
    "duration": 1260,
    "start_time": "2021-09-24T21:42:02.097Z"
   },
   {
    "duration": 8,
    "start_time": "2021-09-24T21:42:24.966Z"
   },
   {
    "duration": 4,
    "start_time": "2021-09-24T21:42:25.964Z"
   },
   {
    "duration": 4,
    "start_time": "2021-09-24T21:42:27.099Z"
   },
   {
    "duration": 7,
    "start_time": "2021-09-24T21:42:27.643Z"
   },
   {
    "duration": 7,
    "start_time": "2021-09-24T21:42:28.138Z"
   },
   {
    "duration": 4,
    "start_time": "2021-09-24T21:42:28.375Z"
   },
   {
    "duration": 3,
    "start_time": "2021-09-24T21:42:28.885Z"
   },
   {
    "duration": 15,
    "start_time": "2021-09-24T21:42:29.404Z"
   },
   {
    "duration": 95,
    "start_time": "2021-09-24T21:42:29.982Z"
   },
   {
    "duration": 10,
    "start_time": "2021-09-24T21:42:30.243Z"
   },
   {
    "duration": 3,
    "start_time": "2021-09-24T21:42:30.828Z"
   },
   {
    "duration": 3,
    "start_time": "2021-09-24T21:42:31.148Z"
   },
   {
    "duration": 11,
    "start_time": "2021-09-24T21:42:39.808Z"
   },
   {
    "duration": 426,
    "start_time": "2021-09-24T21:42:47.286Z"
   },
   {
    "duration": 10,
    "start_time": "2021-09-24T21:42:47.814Z"
   },
   {
    "duration": 8,
    "start_time": "2021-09-24T21:42:53.416Z"
   },
   {
    "duration": 6,
    "start_time": "2021-09-24T21:42:53.696Z"
   },
   {
    "duration": 578,
    "start_time": "2021-09-24T21:42:53.977Z"
   },
   {
    "duration": 457,
    "start_time": "2021-09-24T21:42:54.559Z"
   },
   {
    "duration": 3,
    "start_time": "2021-09-24T21:42:58.871Z"
   },
   {
    "duration": 1139,
    "start_time": "2021-09-24T21:43:00.638Z"
   },
   {
    "duration": 2,
    "start_time": "2021-09-24T21:43:01.779Z"
   },
   {
    "duration": 20,
    "start_time": "2021-09-24T21:43:02.058Z"
   },
   {
    "duration": 4,
    "start_time": "2021-09-24T21:43:05.474Z"
   },
   {
    "duration": 115,
    "start_time": "2021-09-24T21:43:06.679Z"
   },
   {
    "duration": 8621,
    "start_time": "2021-09-24T21:43:07.006Z"
   },
   {
    "duration": 13,
    "start_time": "2021-09-24T21:43:15.629Z"
   },
   {
    "duration": 1716,
    "start_time": "2021-09-26T21:07:36.368Z"
   },
   {
    "duration": 25,
    "start_time": "2021-09-26T21:07:38.087Z"
   },
   {
    "duration": 11,
    "start_time": "2021-09-26T21:07:38.990Z"
   },
   {
    "duration": 4,
    "start_time": "2021-09-26T21:07:39.689Z"
   },
   {
    "duration": 24,
    "start_time": "2021-09-26T21:07:40.202Z"
   },
   {
    "duration": 75,
    "start_time": "2021-09-26T21:07:42.305Z"
   },
   {
    "duration": 37,
    "start_time": "2021-09-26T21:07:43.351Z"
   },
   {
    "duration": 16,
    "start_time": "2021-09-26T21:07:44.785Z"
   },
   {
    "duration": 5,
    "start_time": "2021-09-26T21:07:45.366Z"
   },
   {
    "duration": 126,
    "start_time": "2021-09-26T21:07:45.906Z"
   },
   {
    "duration": 6680,
    "start_time": "2021-09-26T21:07:46.528Z"
   },
   {
    "duration": 9,
    "start_time": "2021-09-26T21:07:53.211Z"
   },
   {
    "duration": 1924,
    "start_time": "2021-09-26T21:07:53.224Z"
   },
   {
    "duration": 25,
    "start_time": "2021-09-26T21:07:55.151Z"
   },
   {
    "duration": 6,
    "start_time": "2021-09-26T21:07:56.094Z"
   },
   {
    "duration": 6,
    "start_time": "2021-09-26T21:07:57.661Z"
   },
   {
    "duration": 8,
    "start_time": "2021-09-26T21:07:59.611Z"
   },
   {
    "duration": 8,
    "start_time": "2021-09-26T21:08:01.133Z"
   },
   {
    "duration": 6,
    "start_time": "2021-09-26T21:08:02.562Z"
   }
  ],
  "kernelspec": {
   "display_name": "Python 3",
   "language": "python",
   "name": "python3"
  },
  "language_info": {
   "codemirror_mode": {
    "name": "ipython",
    "version": 3
   },
   "file_extension": ".py",
   "mimetype": "text/x-python",
   "name": "python",
   "nbconvert_exporter": "python",
   "pygments_lexer": "ipython3",
   "version": "3.8.8"
  },
  "toc": {
   "base_numbering": 1,
   "nav_menu": {},
   "number_sections": true,
   "sideBar": true,
   "skip_h1_title": true,
   "title_cell": "Table of Contents",
   "title_sidebar": "Contents",
   "toc_cell": false,
   "toc_position": {},
   "toc_section_display": true,
   "toc_window_display": true
  }
 },
 "nbformat": 4,
 "nbformat_minor": 2
}
