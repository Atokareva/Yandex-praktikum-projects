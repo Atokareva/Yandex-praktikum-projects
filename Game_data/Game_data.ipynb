{
 "cells": [
  {
   "cell_type": "markdown",
   "metadata": {},
   "source": [
    "# Изучение закономерностей, определяющих успешность игр"
   ]
  },
  {
   "cell_type": "markdown",
   "metadata": {},
   "source": [
    "## Изучение данных из файла"
   ]
  },
  {
   "cell_type": "code",
   "execution_count": 1,
   "metadata": {},
   "outputs": [],
   "source": [
    "import pandas as pd\n",
    "import numpy as np\n",
    "import matplotlib.pyplot as plt\n",
    "import math\n",
    "from scipy import stats as st\n",
    "import seaborn as sns"
   ]
  },
  {
   "cell_type": "code",
   "execution_count": 2,
   "metadata": {},
   "outputs": [],
   "source": [
    "df = pd.read_csv('/datasets/games.csv')"
   ]
  },
  {
   "cell_type": "code",
   "execution_count": 3,
   "metadata": {},
   "outputs": [
    {
     "data": {
      "text/html": [
       "<div>\n",
       "<style scoped>\n",
       "    .dataframe tbody tr th:only-of-type {\n",
       "        vertical-align: middle;\n",
       "    }\n",
       "\n",
       "    .dataframe tbody tr th {\n",
       "        vertical-align: top;\n",
       "    }\n",
       "\n",
       "    .dataframe thead th {\n",
       "        text-align: right;\n",
       "    }\n",
       "</style>\n",
       "<table border=\"1\" class=\"dataframe\">\n",
       "  <thead>\n",
       "    <tr style=\"text-align: right;\">\n",
       "      <th></th>\n",
       "      <th>Name</th>\n",
       "      <th>Platform</th>\n",
       "      <th>Year_of_Release</th>\n",
       "      <th>Genre</th>\n",
       "      <th>NA_sales</th>\n",
       "      <th>EU_sales</th>\n",
       "      <th>JP_sales</th>\n",
       "      <th>Other_sales</th>\n",
       "      <th>Critic_Score</th>\n",
       "      <th>User_Score</th>\n",
       "      <th>Rating</th>\n",
       "    </tr>\n",
       "  </thead>\n",
       "  <tbody>\n",
       "    <tr>\n",
       "      <td>0</td>\n",
       "      <td>Wii Sports</td>\n",
       "      <td>Wii</td>\n",
       "      <td>2006.0</td>\n",
       "      <td>Sports</td>\n",
       "      <td>41.36</td>\n",
       "      <td>28.96</td>\n",
       "      <td>3.77</td>\n",
       "      <td>8.45</td>\n",
       "      <td>76.0</td>\n",
       "      <td>8</td>\n",
       "      <td>E</td>\n",
       "    </tr>\n",
       "    <tr>\n",
       "      <td>1</td>\n",
       "      <td>Super Mario Bros.</td>\n",
       "      <td>NES</td>\n",
       "      <td>1985.0</td>\n",
       "      <td>Platform</td>\n",
       "      <td>29.08</td>\n",
       "      <td>3.58</td>\n",
       "      <td>6.81</td>\n",
       "      <td>0.77</td>\n",
       "      <td>NaN</td>\n",
       "      <td>NaN</td>\n",
       "      <td>NaN</td>\n",
       "    </tr>\n",
       "    <tr>\n",
       "      <td>2</td>\n",
       "      <td>Mario Kart Wii</td>\n",
       "      <td>Wii</td>\n",
       "      <td>2008.0</td>\n",
       "      <td>Racing</td>\n",
       "      <td>15.68</td>\n",
       "      <td>12.76</td>\n",
       "      <td>3.79</td>\n",
       "      <td>3.29</td>\n",
       "      <td>82.0</td>\n",
       "      <td>8.3</td>\n",
       "      <td>E</td>\n",
       "    </tr>\n",
       "    <tr>\n",
       "      <td>3</td>\n",
       "      <td>Wii Sports Resort</td>\n",
       "      <td>Wii</td>\n",
       "      <td>2009.0</td>\n",
       "      <td>Sports</td>\n",
       "      <td>15.61</td>\n",
       "      <td>10.93</td>\n",
       "      <td>3.28</td>\n",
       "      <td>2.95</td>\n",
       "      <td>80.0</td>\n",
       "      <td>8</td>\n",
       "      <td>E</td>\n",
       "    </tr>\n",
       "    <tr>\n",
       "      <td>4</td>\n",
       "      <td>Pokemon Red/Pokemon Blue</td>\n",
       "      <td>GB</td>\n",
       "      <td>1996.0</td>\n",
       "      <td>Role-Playing</td>\n",
       "      <td>11.27</td>\n",
       "      <td>8.89</td>\n",
       "      <td>10.22</td>\n",
       "      <td>1.00</td>\n",
       "      <td>NaN</td>\n",
       "      <td>NaN</td>\n",
       "      <td>NaN</td>\n",
       "    </tr>\n",
       "  </tbody>\n",
       "</table>\n",
       "</div>"
      ],
      "text/plain": [
       "                       Name Platform  Year_of_Release         Genre  NA_sales  \\\n",
       "0                Wii Sports      Wii           2006.0        Sports     41.36   \n",
       "1         Super Mario Bros.      NES           1985.0      Platform     29.08   \n",
       "2            Mario Kart Wii      Wii           2008.0        Racing     15.68   \n",
       "3         Wii Sports Resort      Wii           2009.0        Sports     15.61   \n",
       "4  Pokemon Red/Pokemon Blue       GB           1996.0  Role-Playing     11.27   \n",
       "\n",
       "   EU_sales  JP_sales  Other_sales  Critic_Score User_Score Rating  \n",
       "0     28.96      3.77         8.45          76.0          8      E  \n",
       "1      3.58      6.81         0.77           NaN        NaN    NaN  \n",
       "2     12.76      3.79         3.29          82.0        8.3      E  \n",
       "3     10.93      3.28         2.95          80.0          8      E  \n",
       "4      8.89     10.22         1.00           NaN        NaN    NaN  "
      ]
     },
     "execution_count": 3,
     "metadata": {},
     "output_type": "execute_result"
    }
   ],
   "source": [
    "df.head()"
   ]
  },
  {
   "cell_type": "code",
   "execution_count": 4,
   "metadata": {},
   "outputs": [
    {
     "name": "stdout",
     "output_type": "stream",
     "text": [
      "<class 'pandas.core.frame.DataFrame'>\n",
      "RangeIndex: 16715 entries, 0 to 16714\n",
      "Data columns (total 11 columns):\n",
      "Name               16713 non-null object\n",
      "Platform           16715 non-null object\n",
      "Year_of_Release    16446 non-null float64\n",
      "Genre              16713 non-null object\n",
      "NA_sales           16715 non-null float64\n",
      "EU_sales           16715 non-null float64\n",
      "JP_sales           16715 non-null float64\n",
      "Other_sales        16715 non-null float64\n",
      "Critic_Score       8137 non-null float64\n",
      "User_Score         10014 non-null object\n",
      "Rating             9949 non-null object\n",
      "dtypes: float64(6), object(5)\n",
      "memory usage: 1.4+ MB\n"
     ]
    }
   ],
   "source": [
    "df.info()"
   ]
  },
  {
   "cell_type": "markdown",
   "metadata": {},
   "source": [
    "### Вывод"
   ]
  },
  {
   "cell_type": "markdown",
   "metadata": {},
   "source": [
    "У нас есть таблица, в которой каждая строка содержит информацию о продажах игры в разных регионах, оценках пользователей и экспертов, о жанре и платформе, а так же о годе выпуска игры. Для корректного анализа данных и выявления закономерностей, определяющих успешность игры необходимо сначала обработать таблицу: привести названия столбцов к нижнему регистру, заполнить пропуски в переменных (где большое количество пропусков), посчитать продажи игр по всему миру и изменить типы данных в перемененных (год выпуска игры и оценка пользователей)."
   ]
  },
  {
   "cell_type": "markdown",
   "metadata": {},
   "source": [
    "## Предобработка данных"
   ]
  },
  {
   "cell_type": "markdown",
   "metadata": {},
   "source": [
    "Приведём названия столбцов к нижнему регистру:"
   ]
  },
  {
   "cell_type": "code",
   "execution_count": 5,
   "metadata": {},
   "outputs": [],
   "source": [
    "df.columns = map(str.lower, df.columns)"
   ]
  },
  {
   "cell_type": "code",
   "execution_count": 6,
   "metadata": {},
   "outputs": [
    {
     "data": {
      "text/plain": [
       "Index(['name', 'platform', 'year_of_release', 'genre', 'na_sales', 'eu_sales',\n",
       "       'jp_sales', 'other_sales', 'critic_score', 'user_score', 'rating'],\n",
       "      dtype='object')"
      ]
     },
     "execution_count": 6,
     "metadata": {},
     "output_type": "execute_result"
    }
   ],
   "source": [
    "df.columns"
   ]
  },
  {
   "cell_type": "markdown",
   "metadata": {},
   "source": [
    "### Работа с пропусками"
   ]
  },
  {
   "cell_type": "code",
   "execution_count": 7,
   "metadata": {},
   "outputs": [
    {
     "data": {
      "text/html": [
       "<style  type=\"text/css\" >\n",
       "    #T_52ae3bb6_b871_11eb_b084_02420a3910fcrow0_col0 {\n",
       "            background-color:  #3b4cc0;\n",
       "            color:  #f1f1f1;\n",
       "        }    #T_52ae3bb6_b871_11eb_b084_02420a3910fcrow1_col0 {\n",
       "            background-color:  #3b4cc0;\n",
       "            color:  #f1f1f1;\n",
       "        }    #T_52ae3bb6_b871_11eb_b084_02420a3910fcrow2_col0 {\n",
       "            background-color:  #445acc;\n",
       "            color:  #f1f1f1;\n",
       "        }    #T_52ae3bb6_b871_11eb_b084_02420a3910fcrow3_col0 {\n",
       "            background-color:  #3b4cc0;\n",
       "            color:  #f1f1f1;\n",
       "        }    #T_52ae3bb6_b871_11eb_b084_02420a3910fcrow4_col0 {\n",
       "            background-color:  #3b4cc0;\n",
       "            color:  #f1f1f1;\n",
       "        }    #T_52ae3bb6_b871_11eb_b084_02420a3910fcrow5_col0 {\n",
       "            background-color:  #3b4cc0;\n",
       "            color:  #f1f1f1;\n",
       "        }    #T_52ae3bb6_b871_11eb_b084_02420a3910fcrow6_col0 {\n",
       "            background-color:  #3b4cc0;\n",
       "            color:  #f1f1f1;\n",
       "        }    #T_52ae3bb6_b871_11eb_b084_02420a3910fcrow7_col0 {\n",
       "            background-color:  #3b4cc0;\n",
       "            color:  #f1f1f1;\n",
       "        }    #T_52ae3bb6_b871_11eb_b084_02420a3910fcrow8_col0 {\n",
       "            background-color:  #b40426;\n",
       "            color:  #f1f1f1;\n",
       "        }    #T_52ae3bb6_b871_11eb_b084_02420a3910fcrow9_col0 {\n",
       "            background-color:  #f18d6f;\n",
       "            color:  #000000;\n",
       "        }    #T_52ae3bb6_b871_11eb_b084_02420a3910fcrow10_col0 {\n",
       "            background-color:  #f08a6c;\n",
       "            color:  #000000;\n",
       "        }</style><table id=\"T_52ae3bb6_b871_11eb_b084_02420a3910fc\" ><thead>    <tr>        <th class=\"blank level0\" ></th>        <th class=\"col_heading level0 col0\" >0</th>    </tr></thead><tbody>\n",
       "                <tr>\n",
       "                        <th id=\"T_52ae3bb6_b871_11eb_b084_02420a3910fclevel0_row0\" class=\"row_heading level0 row0\" >name</th>\n",
       "                        <td id=\"T_52ae3bb6_b871_11eb_b084_02420a3910fcrow0_col0\" class=\"data row0 col0\" >0.01</td>\n",
       "            </tr>\n",
       "            <tr>\n",
       "                        <th id=\"T_52ae3bb6_b871_11eb_b084_02420a3910fclevel0_row1\" class=\"row_heading level0 row1\" >platform</th>\n",
       "                        <td id=\"T_52ae3bb6_b871_11eb_b084_02420a3910fcrow1_col0\" class=\"data row1 col0\" >0</td>\n",
       "            </tr>\n",
       "            <tr>\n",
       "                        <th id=\"T_52ae3bb6_b871_11eb_b084_02420a3910fclevel0_row2\" class=\"row_heading level0 row2\" >year_of_release</th>\n",
       "                        <td id=\"T_52ae3bb6_b871_11eb_b084_02420a3910fcrow2_col0\" class=\"data row2 col0\" >1.61</td>\n",
       "            </tr>\n",
       "            <tr>\n",
       "                        <th id=\"T_52ae3bb6_b871_11eb_b084_02420a3910fclevel0_row3\" class=\"row_heading level0 row3\" >genre</th>\n",
       "                        <td id=\"T_52ae3bb6_b871_11eb_b084_02420a3910fcrow3_col0\" class=\"data row3 col0\" >0.01</td>\n",
       "            </tr>\n",
       "            <tr>\n",
       "                        <th id=\"T_52ae3bb6_b871_11eb_b084_02420a3910fclevel0_row4\" class=\"row_heading level0 row4\" >na_sales</th>\n",
       "                        <td id=\"T_52ae3bb6_b871_11eb_b084_02420a3910fcrow4_col0\" class=\"data row4 col0\" >0</td>\n",
       "            </tr>\n",
       "            <tr>\n",
       "                        <th id=\"T_52ae3bb6_b871_11eb_b084_02420a3910fclevel0_row5\" class=\"row_heading level0 row5\" >eu_sales</th>\n",
       "                        <td id=\"T_52ae3bb6_b871_11eb_b084_02420a3910fcrow5_col0\" class=\"data row5 col0\" >0</td>\n",
       "            </tr>\n",
       "            <tr>\n",
       "                        <th id=\"T_52ae3bb6_b871_11eb_b084_02420a3910fclevel0_row6\" class=\"row_heading level0 row6\" >jp_sales</th>\n",
       "                        <td id=\"T_52ae3bb6_b871_11eb_b084_02420a3910fcrow6_col0\" class=\"data row6 col0\" >0</td>\n",
       "            </tr>\n",
       "            <tr>\n",
       "                        <th id=\"T_52ae3bb6_b871_11eb_b084_02420a3910fclevel0_row7\" class=\"row_heading level0 row7\" >other_sales</th>\n",
       "                        <td id=\"T_52ae3bb6_b871_11eb_b084_02420a3910fcrow7_col0\" class=\"data row7 col0\" >0</td>\n",
       "            </tr>\n",
       "            <tr>\n",
       "                        <th id=\"T_52ae3bb6_b871_11eb_b084_02420a3910fclevel0_row8\" class=\"row_heading level0 row8\" >critic_score</th>\n",
       "                        <td id=\"T_52ae3bb6_b871_11eb_b084_02420a3910fcrow8_col0\" class=\"data row8 col0\" >51.32</td>\n",
       "            </tr>\n",
       "            <tr>\n",
       "                        <th id=\"T_52ae3bb6_b871_11eb_b084_02420a3910fclevel0_row9\" class=\"row_heading level0 row9\" >user_score</th>\n",
       "                        <td id=\"T_52ae3bb6_b871_11eb_b084_02420a3910fcrow9_col0\" class=\"data row9 col0\" >40.09</td>\n",
       "            </tr>\n",
       "            <tr>\n",
       "                        <th id=\"T_52ae3bb6_b871_11eb_b084_02420a3910fclevel0_row10\" class=\"row_heading level0 row10\" >rating</th>\n",
       "                        <td id=\"T_52ae3bb6_b871_11eb_b084_02420a3910fcrow10_col0\" class=\"data row10 col0\" >40.48</td>\n",
       "            </tr>\n",
       "    </tbody></table>"
      ],
      "text/plain": [
       "<pandas.io.formats.style.Styler at 0x7fa33a118d10>"
      ]
     },
     "execution_count": 7,
     "metadata": {},
     "output_type": "execute_result"
    }
   ],
   "source": [
    "pd.DataFrame(round((df.isna().mean()*100),2)).style.background_gradient('coolwarm')"
   ]
  },
  {
   "cell_type": "markdown",
   "metadata": {},
   "source": [
    "В нескольких столбцах есть пропущенные значения, их доля особенно большая (более 40%) в переменных critic_score, user_score и rating.\n",
    "Пустые значения свидетельствуют о том, что для некоторых игр доступна не вся информация. Причины могут быть разные, возможно при обработке открытых источников возникли ошибки. \n",
    "Доля пропусков в переменных name, year_of_release и genre очень мала, поэтому удалим эти строки:"
   ]
  },
  {
   "cell_type": "code",
   "execution_count": 8,
   "metadata": {},
   "outputs": [],
   "source": [
    "df.dropna(subset = ['year_of_release', 'name', 'genre'], inplace = True)"
   ]
  },
  {
   "cell_type": "markdown",
   "metadata": {},
   "source": [
    "Посмотрим на список уникальных значений переменных critic_score, user_score и rating:"
   ]
  },
  {
   "cell_type": "code",
   "execution_count": 9,
   "metadata": {},
   "outputs": [
    {
     "data": {
      "text/plain": [
       "array([76., nan, 82., 80., 89., 58., 87., 91., 61., 97., 95., 77., 88.,\n",
       "       83., 94., 93., 85., 86., 98., 96., 90., 84., 73., 74., 78., 92.,\n",
       "       71., 72., 68., 62., 49., 67., 81., 66., 56., 79., 70., 59., 64.,\n",
       "       75., 60., 63., 69., 50., 25., 42., 44., 55., 48., 57., 29., 47.,\n",
       "       65., 54., 20., 53., 37., 38., 33., 52., 30., 32., 43., 45., 51.,\n",
       "       40., 46., 39., 34., 41., 36., 31., 27., 35., 26., 19., 28., 23.,\n",
       "       24., 21., 17., 13.])"
      ]
     },
     "execution_count": 9,
     "metadata": {},
     "output_type": "execute_result"
    }
   ],
   "source": [
    "df['critic_score'].unique()"
   ]
  },
  {
   "cell_type": "code",
   "execution_count": 10,
   "metadata": {},
   "outputs": [
    {
     "data": {
      "text/plain": [
       "array(['E', nan, 'M', 'T', 'E10+', 'K-A', 'AO', 'EC', 'RP'], dtype=object)"
      ]
     },
     "execution_count": 10,
     "metadata": {},
     "output_type": "execute_result"
    }
   ],
   "source": [
    "df['rating'].unique()"
   ]
  },
  {
   "cell_type": "code",
   "execution_count": 11,
   "metadata": {},
   "outputs": [
    {
     "data": {
      "text/plain": [
       "array(['8', nan, '8.3', '8.5', '6.6', '8.4', '8.6', '7.7', '6.3', '7.4',\n",
       "       '8.2', '9', '7.9', '8.1', '8.7', '7.1', '3.4', '5.3', '4.8', '3.2',\n",
       "       '8.9', '6.4', '7.8', '7.5', '2.6', '7.2', '9.2', '7', '7.3', '4.3',\n",
       "       '7.6', '5.7', '5', '9.1', '6.5', 'tbd', '8.8', '6.9', '9.4', '6.8',\n",
       "       '6.1', '6.7', '5.4', '4', '4.9', '4.5', '9.3', '6.2', '4.2', '6',\n",
       "       '3.7', '4.1', '5.8', '5.6', '5.5', '4.4', '4.6', '5.9', '3.9',\n",
       "       '3.1', '2.9', '5.2', '3.3', '4.7', '5.1', '3.5', '2.5', '1.9', '3',\n",
       "       '2.7', '2.2', '2', '9.5', '2.1', '3.6', '2.8', '1.8', '3.8', '0',\n",
       "       '1.6', '9.6', '2.4', '1.7', '1.1', '0.3', '1.5', '0.7', '1.2',\n",
       "       '2.3', '0.5', '1.3', '0.2', '0.6', '1.4', '0.9', '1', '9.7'],\n",
       "      dtype=object)"
      ]
     },
     "execution_count": 11,
     "metadata": {},
     "output_type": "execute_result"
    }
   ],
   "source": [
    "df['user_score'].unique()"
   ]
  },
  {
   "cell_type": "markdown",
   "metadata": {},
   "source": [
    "В значениях переменной user_score кроме nan есть ещё одно неопределённое значение - 'tbd'.\n",
    "Согласно определению в Интернете: TBD - аббревиатура от английского To Be Determined (будет определено) или To Be Decided (будет решено). Используется, если какая-то информация еще не определена или решение по вопросу не принято. Акроним служит для отметки неясностей или пропусков, которые надо заполнить, в информации требований."
   ]
  },
  {
   "cell_type": "markdown",
   "metadata": {},
   "source": [
    "Промаркируем пропуски в переменных user_score и critic_score, заменив их на '-1', чтобы в дальнейшем исключить их из анализа. Значение 'tbd'  в переменной user_score тоже заменим на '-1'. Пропуски в переменной rating заменим на строку 'unknown'. Потом убедимся, что наша таблица больше не содержит пропусков."
   ]
  },
  {
   "cell_type": "code",
   "execution_count": 12,
   "metadata": {},
   "outputs": [],
   "source": [
    "df['user_score'] = df['user_score'].fillna(-1)"
   ]
  },
  {
   "cell_type": "code",
   "execution_count": 13,
   "metadata": {},
   "outputs": [],
   "source": [
    "df['user_score'] = df['user_score'].replace('tbd', -1)"
   ]
  },
  {
   "cell_type": "code",
   "execution_count": 14,
   "metadata": {},
   "outputs": [],
   "source": [
    "df['critic_score'] = df['critic_score'].fillna(-1)"
   ]
  },
  {
   "cell_type": "code",
   "execution_count": 15,
   "metadata": {},
   "outputs": [],
   "source": [
    "df['rating'] = df['rating'].fillna('unknown')"
   ]
  },
  {
   "cell_type": "code",
   "execution_count": 16,
   "metadata": {},
   "outputs": [
    {
     "data": {
      "text/html": [
       "<style  type=\"text/css\" >\n",
       "    #T_52cdd75a_b871_11eb_b084_02420a3910fcrow0_col0 {\n",
       "            background-color:  #3b4cc0;\n",
       "            color:  #f1f1f1;\n",
       "        }    #T_52cdd75a_b871_11eb_b084_02420a3910fcrow1_col0 {\n",
       "            background-color:  #3b4cc0;\n",
       "            color:  #f1f1f1;\n",
       "        }    #T_52cdd75a_b871_11eb_b084_02420a3910fcrow2_col0 {\n",
       "            background-color:  #3b4cc0;\n",
       "            color:  #f1f1f1;\n",
       "        }    #T_52cdd75a_b871_11eb_b084_02420a3910fcrow3_col0 {\n",
       "            background-color:  #3b4cc0;\n",
       "            color:  #f1f1f1;\n",
       "        }    #T_52cdd75a_b871_11eb_b084_02420a3910fcrow4_col0 {\n",
       "            background-color:  #3b4cc0;\n",
       "            color:  #f1f1f1;\n",
       "        }    #T_52cdd75a_b871_11eb_b084_02420a3910fcrow5_col0 {\n",
       "            background-color:  #3b4cc0;\n",
       "            color:  #f1f1f1;\n",
       "        }    #T_52cdd75a_b871_11eb_b084_02420a3910fcrow6_col0 {\n",
       "            background-color:  #3b4cc0;\n",
       "            color:  #f1f1f1;\n",
       "        }    #T_52cdd75a_b871_11eb_b084_02420a3910fcrow7_col0 {\n",
       "            background-color:  #3b4cc0;\n",
       "            color:  #f1f1f1;\n",
       "        }    #T_52cdd75a_b871_11eb_b084_02420a3910fcrow8_col0 {\n",
       "            background-color:  #3b4cc0;\n",
       "            color:  #f1f1f1;\n",
       "        }    #T_52cdd75a_b871_11eb_b084_02420a3910fcrow9_col0 {\n",
       "            background-color:  #3b4cc0;\n",
       "            color:  #f1f1f1;\n",
       "        }    #T_52cdd75a_b871_11eb_b084_02420a3910fcrow10_col0 {\n",
       "            background-color:  #3b4cc0;\n",
       "            color:  #f1f1f1;\n",
       "        }</style><table id=\"T_52cdd75a_b871_11eb_b084_02420a3910fc\" ><thead>    <tr>        <th class=\"blank level0\" ></th>        <th class=\"col_heading level0 col0\" >0</th>    </tr></thead><tbody>\n",
       "                <tr>\n",
       "                        <th id=\"T_52cdd75a_b871_11eb_b084_02420a3910fclevel0_row0\" class=\"row_heading level0 row0\" >name</th>\n",
       "                        <td id=\"T_52cdd75a_b871_11eb_b084_02420a3910fcrow0_col0\" class=\"data row0 col0\" >0</td>\n",
       "            </tr>\n",
       "            <tr>\n",
       "                        <th id=\"T_52cdd75a_b871_11eb_b084_02420a3910fclevel0_row1\" class=\"row_heading level0 row1\" >platform</th>\n",
       "                        <td id=\"T_52cdd75a_b871_11eb_b084_02420a3910fcrow1_col0\" class=\"data row1 col0\" >0</td>\n",
       "            </tr>\n",
       "            <tr>\n",
       "                        <th id=\"T_52cdd75a_b871_11eb_b084_02420a3910fclevel0_row2\" class=\"row_heading level0 row2\" >year_of_release</th>\n",
       "                        <td id=\"T_52cdd75a_b871_11eb_b084_02420a3910fcrow2_col0\" class=\"data row2 col0\" >0</td>\n",
       "            </tr>\n",
       "            <tr>\n",
       "                        <th id=\"T_52cdd75a_b871_11eb_b084_02420a3910fclevel0_row3\" class=\"row_heading level0 row3\" >genre</th>\n",
       "                        <td id=\"T_52cdd75a_b871_11eb_b084_02420a3910fcrow3_col0\" class=\"data row3 col0\" >0</td>\n",
       "            </tr>\n",
       "            <tr>\n",
       "                        <th id=\"T_52cdd75a_b871_11eb_b084_02420a3910fclevel0_row4\" class=\"row_heading level0 row4\" >na_sales</th>\n",
       "                        <td id=\"T_52cdd75a_b871_11eb_b084_02420a3910fcrow4_col0\" class=\"data row4 col0\" >0</td>\n",
       "            </tr>\n",
       "            <tr>\n",
       "                        <th id=\"T_52cdd75a_b871_11eb_b084_02420a3910fclevel0_row5\" class=\"row_heading level0 row5\" >eu_sales</th>\n",
       "                        <td id=\"T_52cdd75a_b871_11eb_b084_02420a3910fcrow5_col0\" class=\"data row5 col0\" >0</td>\n",
       "            </tr>\n",
       "            <tr>\n",
       "                        <th id=\"T_52cdd75a_b871_11eb_b084_02420a3910fclevel0_row6\" class=\"row_heading level0 row6\" >jp_sales</th>\n",
       "                        <td id=\"T_52cdd75a_b871_11eb_b084_02420a3910fcrow6_col0\" class=\"data row6 col0\" >0</td>\n",
       "            </tr>\n",
       "            <tr>\n",
       "                        <th id=\"T_52cdd75a_b871_11eb_b084_02420a3910fclevel0_row7\" class=\"row_heading level0 row7\" >other_sales</th>\n",
       "                        <td id=\"T_52cdd75a_b871_11eb_b084_02420a3910fcrow7_col0\" class=\"data row7 col0\" >0</td>\n",
       "            </tr>\n",
       "            <tr>\n",
       "                        <th id=\"T_52cdd75a_b871_11eb_b084_02420a3910fclevel0_row8\" class=\"row_heading level0 row8\" >critic_score</th>\n",
       "                        <td id=\"T_52cdd75a_b871_11eb_b084_02420a3910fcrow8_col0\" class=\"data row8 col0\" >0</td>\n",
       "            </tr>\n",
       "            <tr>\n",
       "                        <th id=\"T_52cdd75a_b871_11eb_b084_02420a3910fclevel0_row9\" class=\"row_heading level0 row9\" >user_score</th>\n",
       "                        <td id=\"T_52cdd75a_b871_11eb_b084_02420a3910fcrow9_col0\" class=\"data row9 col0\" >0</td>\n",
       "            </tr>\n",
       "            <tr>\n",
       "                        <th id=\"T_52cdd75a_b871_11eb_b084_02420a3910fclevel0_row10\" class=\"row_heading level0 row10\" >rating</th>\n",
       "                        <td id=\"T_52cdd75a_b871_11eb_b084_02420a3910fcrow10_col0\" class=\"data row10 col0\" >0</td>\n",
       "            </tr>\n",
       "    </tbody></table>"
      ],
      "text/plain": [
       "<pandas.io.formats.style.Styler at 0x7fa339da8510>"
      ]
     },
     "execution_count": 16,
     "metadata": {},
     "output_type": "execute_result"
    }
   ],
   "source": [
    "pd.DataFrame(round((df.isna().mean()*100),2)).style.background_gradient('coolwarm')"
   ]
  },
  {
   "cell_type": "markdown",
   "metadata": {},
   "source": [
    "### Изменение типов данных"
   ]
  },
  {
   "cell_type": "markdown",
   "metadata": {},
   "source": [
    "Заменим типы данных в двух переменных: user_score и year_of_release. Проверим результат."
   ]
  },
  {
   "cell_type": "code",
   "execution_count": 17,
   "metadata": {},
   "outputs": [],
   "source": [
    "df['user_score'] = pd.to_numeric(df['user_score']) "
   ]
  },
  {
   "cell_type": "code",
   "execution_count": 18,
   "metadata": {},
   "outputs": [],
   "source": [
    "df['year_of_release'] = df['year_of_release'].astype('int')"
   ]
  },
  {
   "cell_type": "code",
   "execution_count": 19,
   "metadata": {},
   "outputs": [
    {
     "name": "stdout",
     "output_type": "stream",
     "text": [
      "<class 'pandas.core.frame.DataFrame'>\n",
      "Int64Index: 16444 entries, 0 to 16714\n",
      "Data columns (total 11 columns):\n",
      "name               16444 non-null object\n",
      "platform           16444 non-null object\n",
      "year_of_release    16444 non-null int64\n",
      "genre              16444 non-null object\n",
      "na_sales           16444 non-null float64\n",
      "eu_sales           16444 non-null float64\n",
      "jp_sales           16444 non-null float64\n",
      "other_sales        16444 non-null float64\n",
      "critic_score       16444 non-null float64\n",
      "user_score         16444 non-null float64\n",
      "rating             16444 non-null object\n",
      "dtypes: float64(6), int64(1), object(4)\n",
      "memory usage: 1.5+ MB\n"
     ]
    }
   ],
   "source": [
    "df.info()"
   ]
  },
  {
   "cell_type": "markdown",
   "metadata": {},
   "source": [
    "### Добавление данных в таблицу"
   ]
  },
  {
   "cell_type": "markdown",
   "metadata": {},
   "source": [
    "Посчитаем суммарные продажи во всех регионах и запишем их в отдельный столбец:"
   ]
  },
  {
   "cell_type": "code",
   "execution_count": 20,
   "metadata": {},
   "outputs": [],
   "source": [
    "df['sales_sum'] = df['na_sales'] + df['eu_sales'] + df['jp_sales'] + df['other_sales']"
   ]
  },
  {
   "cell_type": "markdown",
   "metadata": {},
   "source": [
    "### Вывод"
   ]
  },
  {
   "cell_type": "markdown",
   "metadata": {},
   "source": [
    "В исходной таблице были обнаружены проблемы в названиях столбцов, найдены пропущенные значения в переменных name (название игры), year_of_release (год выпуска игры), genre (жанр игры), critic_score (оценка критиков), user_score (оценка пользователей) и rating (рейтинг от организации ESRB).\n",
    "Мы привели к нижнему регистру названия столбцов, удалили пропуски в названиях, годах выпуска и жанрах, а в оценках критиков и пользователей заменили их на значение '-1'. В переменной user_score был обнаружено значение 'tbd', которое по сути тоже является пропуском, поэтому его тоже заменили на '-1'.\n",
    "Пропущенные значения в столбце с рейтингом заменили на строку 'unknown'. Изменили типы данных: год выпуска теперь целочисленный тип, а оценки пользователей - с плавающей точкой. Посчитали суммарные продажи во всех регионах и добавили результат в таблицу.\n",
    "Теперь таблица удобна для дальнейшей работы."
   ]
  },
  {
   "cell_type": "markdown",
   "metadata": {},
   "source": [
    "## Анализ"
   ]
  },
  {
   "cell_type": "markdown",
   "metadata": {},
   "source": [
    "### Важны ли данные за все периоды?"
   ]
  },
  {
   "cell_type": "markdown",
   "metadata": {},
   "source": [
    "Посмотрим, сколько игр выпускалось в разные годы:"
   ]
  },
  {
   "cell_type": "code",
   "execution_count": 21,
   "metadata": {},
   "outputs": [
    {
     "data": {
      "text/plain": [
       "<matplotlib.legend.Legend at 0x7fa339ce75d0>"
      ]
     },
     "execution_count": 21,
     "metadata": {},
     "output_type": "execute_result"
    },
    {
     "data": {
      "image/png": "[encoded data removed]",
      "text/plain": [
       "<Figure size 720x288 with 1 Axes>"
      ]
     },
     "metadata": {
      "needs_background": "light"
     },
     "output_type": "display_data"
    }
   ],
   "source": [
    "games_per_year = df.pivot_table(index='year_of_release', values='name', aggfunc='count')\n",
    "plt.figure(figsize=(10,4))\n",
    "sns.lineplot(data=games_per_year)\n",
    "plt.title(\"Количество игр, выпускаемых в разные года\")\n",
    "plt.xlabel(\"Год выпуска\")\n",
    "plt.ylabel(\"Количество выпущенных игр\")\n",
    "plt.legend('')"
   ]
  },
  {
   "cell_type": "markdown",
   "metadata": {},
   "source": [
    "Рынок компьютерных игр начал стабильно расти после 2005 года и достиг своего пика в 2008-09 годах, после чего начал снова падать. Тк продажи игр до 2005 года совсем небольшие в сравнениии с периодом после, будем пока считать, что они не важны. Рассмотрим ещё продажи по платформам, чтобы определиться с актуальным периодом годов выпуска, который будем использовать в нашем исследовании."
   ]
  },
  {
   "cell_type": "markdown",
   "metadata": {},
   "source": [
    "Найдём платформы с наибольшими суммарными продажами и посмотрим распределение по годам. "
   ]
  },
  {
   "cell_type": "code",
   "execution_count": 22,
   "metadata": {},
   "outputs": [],
   "source": [
    "platform_top = df.pivot_table(\n",
    "    index='platform',\n",
    "    values ='sales_sum',\n",
    "    aggfunc='sum').sort_values('sales_sum', ascending=False)"
   ]
  },
  {
   "cell_type": "code",
   "execution_count": 23,
   "metadata": {},
   "outputs": [
    {
     "data": {
      "text/html": [
       "<div>\n",
       "<style scoped>\n",
       "    .dataframe tbody tr th:only-of-type {\n",
       "        vertical-align: middle;\n",
       "    }\n",
       "\n",
       "    .dataframe tbody tr th {\n",
       "        vertical-align: top;\n",
       "    }\n",
       "\n",
       "    .dataframe thead th {\n",
       "        text-align: right;\n",
       "    }\n",
       "</style>\n",
       "<table border=\"1\" class=\"dataframe\">\n",
       "  <thead>\n",
       "    <tr style=\"text-align: right;\">\n",
       "      <th></th>\n",
       "      <th>sales_sum</th>\n",
       "    </tr>\n",
       "    <tr>\n",
       "      <th>platform</th>\n",
       "      <th></th>\n",
       "    </tr>\n",
       "  </thead>\n",
       "  <tbody>\n",
       "    <tr>\n",
       "      <td>PS2</td>\n",
       "      <td>1233.56</td>\n",
       "    </tr>\n",
       "    <tr>\n",
       "      <td>X360</td>\n",
       "      <td>961.24</td>\n",
       "    </tr>\n",
       "    <tr>\n",
       "      <td>PS3</td>\n",
       "      <td>931.34</td>\n",
       "    </tr>\n",
       "    <tr>\n",
       "      <td>Wii</td>\n",
       "      <td>891.18</td>\n",
       "    </tr>\n",
       "    <tr>\n",
       "      <td>DS</td>\n",
       "      <td>802.78</td>\n",
       "    </tr>\n",
       "    <tr>\n",
       "      <td>PS</td>\n",
       "      <td>727.58</td>\n",
       "    </tr>\n",
       "    <tr>\n",
       "      <td>PS4</td>\n",
       "      <td>314.14</td>\n",
       "    </tr>\n",
       "    <tr>\n",
       "      <td>GBA</td>\n",
       "      <td>312.88</td>\n",
       "    </tr>\n",
       "    <tr>\n",
       "      <td>PSP</td>\n",
       "      <td>289.53</td>\n",
       "    </tr>\n",
       "    <tr>\n",
       "      <td>3DS</td>\n",
       "      <td>257.81</td>\n",
       "    </tr>\n",
       "  </tbody>\n",
       "</table>\n",
       "</div>"
      ],
      "text/plain": [
       "          sales_sum\n",
       "platform           \n",
       "PS2         1233.56\n",
       "X360         961.24\n",
       "PS3          931.34\n",
       "Wii          891.18\n",
       "DS           802.78\n",
       "PS           727.58\n",
       "PS4          314.14\n",
       "GBA          312.88\n",
       "PSP          289.53\n",
       "3DS          257.81"
      ]
     },
     "execution_count": 23,
     "metadata": {},
     "output_type": "execute_result"
    }
   ],
   "source": [
    "platform_top.head(10)"
   ]
  },
  {
   "cell_type": "markdown",
   "metadata": {},
   "source": [
    "Выберем топ-6 платформ с наибольшими суммарными продажами и посмотрим распределение по годам:"
   ]
  },
  {
   "cell_type": "code",
   "execution_count": 24,
   "metadata": {},
   "outputs": [],
   "source": [
    "platform_top_6 = df[df['platform'].isin(('PS2', 'X360', 'PS3', 'Wii', 'DS', 'PS'))]"
   ]
  },
  {
   "cell_type": "code",
   "execution_count": 25,
   "metadata": {},
   "outputs": [],
   "source": [
    "df_top_6 = platform_top_6.pivot_table(\n",
    "    index=['platform', 'year_of_release'],\n",
    "    values='sales_sum',\n",
    "    aggfunc='sum').reset_index()"
   ]
  },
  {
   "cell_type": "code",
   "execution_count": 26,
   "metadata": {},
   "outputs": [
    {
     "data": {
      "text/plain": [
       "<matplotlib.legend.Legend at 0x7fa39d911d90>"
      ]
     },
     "execution_count": 26,
     "metadata": {},
     "output_type": "execute_result"
    },
    {
     "data": {
      "image/png": "[encoded data removed]",
      "text/plain": [
       "<Figure size 618.5x360 with 1 Axes>"
      ]
     },
     "metadata": {
      "needs_background": "light"
     },
     "output_type": "display_data"
    }
   ],
   "source": [
    "sns.relplot(x='year_of_release',\n",
    "            y='sales_sum',\n",
    "            hue='platform',\n",
    "            kind='line',\n",
    "            height = 5,\n",
    "            aspect = 1.5,\n",
    "            data=df_top_6)\n",
    "plt.title(\"Продажи по платформам\")\n",
    "plt.xlabel(\"Год выпуска\")\n",
    "plt.ylabel(\"Суммарные продажи\")\n",
    "plt.legend('')"
   ]
  },
  {
   "cell_type": "markdown",
   "metadata": {},
   "source": [
    "Из графика видно, что для всех представленных на графике платформ (кроме DS) есть характерный срок за которых платформа появляется, а затем исчезает - чуть более 10 лет. Пик продаж наступает примерно посередине этого периода, те через 5 лет после появления платформы. "
   ]
  },
  {
   "cell_type": "markdown",
   "metadata": {},
   "source": [
    "Посмотим на тот же график, но для всех платформ с годом выпуска после 2005:"
   ]
  },
  {
   "cell_type": "code",
   "execution_count": 27,
   "metadata": {},
   "outputs": [],
   "source": [
    "df_all_platform = df[df['year_of_release'] >= 2005]"
   ]
  },
  {
   "cell_type": "code",
   "execution_count": 28,
   "metadata": {},
   "outputs": [
    {
     "data": {
      "text/plain": [
       "<matplotlib.legend.Legend at 0x7fa3538020d0>"
      ]
     },
     "execution_count": 28,
     "metadata": {},
     "output_type": "execute_result"
    },
    {
     "data": {
      "image/png": "[encoded data removed]",
      "text/plain": [
       "<Figure size 618.5x360 with 1 Axes>"
      ]
     },
     "metadata": {
      "needs_background": "light"
     },
     "output_type": "display_data"
    }
   ],
   "source": [
    "sns.relplot(x='year_of_release',\n",
    "            y='sales_sum',\n",
    "            hue='platform',\n",
    "            kind='line',\n",
    "            height = 5,\n",
    "            aspect = 1.5,\n",
    "            ci=None,\n",
    "            data=df_all_platform)\n",
    "plt.title(\"Продажи по платформам\")\n",
    "plt.xlabel(\"Год выпуска\")\n",
    "plt.ylabel(\"Суммарные продажи\")\n",
    "plt.legend('')"
   ]
  },
  {
   "cell_type": "markdown",
   "metadata": {},
   "source": [
    "Видно, что после 2013 года появились новые платфомы, а старые либо исчезли либо имеют тенденцию к снижению продаж. Соотнеся график выше с этим возьмём в качестве актуального периода для дальнейшего анализа - с 2013 по 2016 включительно. Сохраним таблицу, с котороой дальше будем работать в переменной df_final."
   ]
  },
  {
   "cell_type": "code",
   "execution_count": 29,
   "metadata": {},
   "outputs": [],
   "source": [
    "df_final = df[df['year_of_release'] >= 2013]"
   ]
  },
  {
   "cell_type": "markdown",
   "metadata": {},
   "source": [
    "### Какие платформы потенциально прибыльные?"
   ]
  },
  {
   "cell_type": "markdown",
   "metadata": {},
   "source": [
    "Посмотрим для всех платформ распределение по годам уже для выбранного нами актуального периода:"
   ]
  },
  {
   "cell_type": "code",
   "execution_count": 30,
   "metadata": {},
   "outputs": [
    {
     "data": {
      "text/plain": [
       "<matplotlib.legend.Legend at 0x7fa3537d5a90>"
      ]
     },
     "execution_count": 30,
     "metadata": {},
     "output_type": "execute_result"
    },
    {
     "data": {
      "image/png": "[encoded data removed]",
      "text/plain": [
       "<Figure size 618.5x360 with 1 Axes>"
      ]
     },
     "metadata": {
      "needs_background": "light"
     },
     "output_type": "display_data"
    }
   ],
   "source": [
    "sns.relplot(x='year_of_release',\n",
    "            y='sales_sum',\n",
    "            hue='platform',\n",
    "            kind='line',\n",
    "            height = 5,\n",
    "            aspect = 1.5,\n",
    "            ci=None,\n",
    "            data=df_final)\n",
    "plt.title(\"Продажи по платформам\")\n",
    "plt.xlabel(\"Год выпуска\")\n",
    "plt.ylabel(\"Суммарные продажи\")\n",
    "plt.legend('')"
   ]
  },
  {
   "cell_type": "markdown",
   "metadata": {},
   "source": [
    "Исходя из графика лидируют по продажам платформы PS4, XOne и WiiU. У многих платформ наблюдается падение продаж с 2013 года, кроме платформы 3DS, у которой до 2015 был спад, а потом пошёл рост и PSV, у которой с 2015 года стагнация продаж. В 2016 году самые прибыльные платформы - это PS4, 3DS, XOne и WiiU. Скорее всего они же и будут потенциально самыми прибыльными в 2017 году.\n",
    "Сохраним таблицу только с этими платформами и изучим их детальнее с помощью диаграмм размаха:"
   ]
  },
  {
   "cell_type": "code",
   "execution_count": 31,
   "metadata": {},
   "outputs": [],
   "source": [
    "platform_profit = df[df['platform'].isin(('PS4', '3DS', 'XOne', 'WiiU'))]"
   ]
  },
  {
   "cell_type": "code",
   "execution_count": 32,
   "metadata": {},
   "outputs": [
    {
     "data": {
      "text/plain": [
       "<matplotlib.legend.Legend at 0x7fa3536b07d0>"
      ]
     },
     "execution_count": 32,
     "metadata": {},
     "output_type": "execute_result"
    },
    {
     "data": {
      "image/png": "[encoded data removed]",
      "text/plain": [
       "<Figure size 792x576 with 1 Axes>"
      ]
     },
     "metadata": {
      "needs_background": "light"
     },
     "output_type": "display_data"
    }
   ],
   "source": [
    "plt.figure(figsize=(11,8))\n",
    "sns.boxplot(x='platform',\n",
    "            y='sales_sum',\n",
    "            data=platform_profit)\n",
    "plt.title(\"Глобальные продажи игр\")\n",
    "plt.xlabel(\"Платформа\")\n",
    "plt.ylabel(\"Суммарные продажи\")\n",
    "plt.legend('')"
   ]
  },
  {
   "cell_type": "markdown",
   "metadata": {},
   "source": [
    "Исходя из графиков можно сказать, что из этих четырёх платформ самые прибыльные это PS4 и XOne (у них больше медианы и много значений больше медианных). У платформ PS4 и 3DS есть много выбросных значений, которые означают, что для этих платформ есть игры, которые расходились тиражом даже 15 млн копий. У платформ 3DS и WiiU тоже есть выбросы, но максимальные значения чуть чуть не доходят до 8 млн копий."
   ]
  },
  {
   "cell_type": "markdown",
   "metadata": {},
   "source": [
    "### Как влияют на продажи отзывы пользователей и критиков?"
   ]
  },
  {
   "cell_type": "markdown",
   "metadata": {},
   "source": [
    "Для анализа взаимосвязи между отзывами пользователей и критиков и продажами нам нужно сначала исключить значения, которые мы промаркировали в переменных user_score и critic_score как '-1'. Сохраним новую таблицу в переменную profit_final."
   ]
  },
  {
   "cell_type": "code",
   "execution_count": 33,
   "metadata": {},
   "outputs": [],
   "source": [
    "profit_final = platform_profit.query('(user_score != -1) and (critic_score != -1)')"
   ]
  },
  {
   "cell_type": "markdown",
   "metadata": {},
   "source": [
    "Построим диаграммы рассеяния сразу для всех потенциально прибыльных платформ. Сначала посмотрим на взамосвязь между продажами и отзывами критиков."
   ]
  },
  {
   "cell_type": "code",
   "execution_count": 34,
   "metadata": {},
   "outputs": [
    {
     "data": {
      "image/png": "[encoded data removed]",
      "text/plain": [
       "<Figure size 432x288 with 1 Axes>"
      ]
     },
     "metadata": {
      "needs_background": "light"
     },
     "output_type": "display_data"
    },
    {
     "data": {
      "image/png": "[encoded data removed]",
      "text/plain": [
       "<Figure size 432x288 with 1 Axes>"
      ]
     },
     "metadata": {
      "needs_background": "light"
     },
     "output_type": "display_data"
    },
    {
     "data": {
      "image/png": "[encoded data removed]",
      "text/plain": [
       "<Figure size 432x288 with 1 Axes>"
      ]
     },
     "metadata": {
      "needs_background": "light"
     },
     "output_type": "display_data"
    },
    {
     "data": {
      "image/png": "[encoded data removed]",
      "text/plain": [
       "<Figure size 432x288 with 1 Axes>"
      ]
     },
     "metadata": {
      "needs_background": "light"
     },
     "output_type": "display_data"
    }
   ],
   "source": [
    "for name, group_data in profit_final.groupby('platform'):\n",
    "    group_data.plot(x='critic_score', y='sales_sum', title='Взаимосвязь продаж и отзывов критиков для платформы  ' + name, kind='scatter', grid=True)"
   ]
  },
  {
   "cell_type": "markdown",
   "metadata": {},
   "source": [
    "Из диаграмм видно, что отзывы критиков влияют на продажи для всех четырёх платформ. Больще всего эта взаимосвязь прослеживается для платформы PS4."
   ]
  },
  {
   "cell_type": "markdown",
   "metadata": {},
   "source": [
    "Теперь с помощью диаграмм рассеяния посмотрим на взаимосвязь продаж и отзывов пользователей:"
   ]
  },
  {
   "cell_type": "code",
   "execution_count": 35,
   "metadata": {},
   "outputs": [
    {
     "data": {
      "image/png": "[encoded data removed]",
      "text/plain": [
       "<Figure size 432x288 with 1 Axes>"
      ]
     },
     "metadata": {
      "needs_background": "light"
     },
     "output_type": "display_data"
    },
    {
     "data": {
      "image/png": "[encoded data removed]",
      "text/plain": [
       "<Figure size 432x288 with 1 Axes>"
      ]
     },
     "metadata": {
      "needs_background": "light"
     },
     "output_type": "display_data"
    },
    {
     "data": {
      "image/png": "[encoded data removed]",
      "text/plain": [
       "<Figure size 432x288 with 1 Axes>"
      ]
     },
     "metadata": {
      "needs_background": "light"
     },
     "output_type": "display_data"
    },
    {
     "data": {
      "image/png": "[encoded data removed]",
      "text/plain": [
       "<Figure size 432x288 with 1 Axes>"
      ]
     },
     "metadata": {
      "needs_background": "light"
     },
     "output_type": "display_data"
    }
   ],
   "source": [
    "for name, group_data in profit_final.groupby('platform'):\n",
    "    group_data.plot(x='user_score', y='sales_sum', title='Взаимосвязь продаж и отзывов пользователей для платформы  ' + name, kind='scatter', grid=True)"
   ]
  },
  {
   "cell_type": "markdown",
   "metadata": {},
   "source": [
    "Здесь взаимосвязь практически не наблюдается. Только у платформы WiiU возможно есть небольшое влияние отзывов пользователей на продажи. Похоже, что оценки пользователей не взияют на продажи игр. Посчитаем коэффициенты корреляции с помощью функции."
   ]
  },
  {
   "cell_type": "code",
   "execution_count": 36,
   "metadata": {},
   "outputs": [],
   "source": [
    "def corr(platform):\n",
    "    print(str(platform)+':')\n",
    "    df = profit_final.query('platform == @platform')\n",
    "    for column in ['user_score', 'critic_score']:\n",
    "        print('Корреляция между', column, 'и sales_sum ' '{:.3f}'.format(df[column].corr(df['sales_sum'])))"
   ]
  },
  {
   "cell_type": "code",
   "execution_count": 37,
   "metadata": {},
   "outputs": [],
   "source": [
    "platforms_profit = ['PS4', '3DS', 'XOne', 'WiiU']"
   ]
  },
  {
   "cell_type": "code",
   "execution_count": 38,
   "metadata": {},
   "outputs": [
    {
     "name": "stdout",
     "output_type": "stream",
     "text": [
      "PS4:\n",
      "Корреляция между user_score и sales_sum -0.034\n",
      "Корреляция между critic_score и sales_sum 0.406\n",
      "3DS:\n",
      "Корреляция между user_score и sales_sum 0.232\n",
      "Корреляция между critic_score и sales_sum 0.339\n",
      "XOne:\n",
      "Корреляция между user_score и sales_sum -0.094\n",
      "Корреляция между critic_score и sales_sum 0.410\n",
      "WiiU:\n",
      "Корреляция между user_score и sales_sum 0.392\n",
      "Корреляция между critic_score и sales_sum 0.351\n"
     ]
    }
   ],
   "source": [
    "for platforms in platforms_profit:\n",
    "    corr(platforms)"
   ]
  },
  {
   "cell_type": "markdown",
   "metadata": {},
   "source": [
    "Корреляция между оценками пользователей и продажами очень слабая, либо отсутствует вовсе для всех платформ, кроме WiiU. Для WiiU корреляция 0,39 говорит о наличии связи, однако не сильной.\n",
    "Корреляция между оценками критиков и продажами для всех исследуемых платформ выше 0.3, а для PS4 и XOne 0.4, что говорит о наличии взаимосвязи, однако не сильной.\n"
   ]
  },
  {
   "cell_type": "markdown",
   "metadata": {},
   "source": [
    "### Какие жанры самые прибыльные?"
   ]
  },
  {
   "cell_type": "markdown",
   "metadata": {},
   "source": [
    "Вернёмся к нашей таблице, в которой присутствуют продажи для всех платформ за выбранный нами актуальный период. Построим свобдную таблицу по жанрам и продажами каждого жанра."
   ]
  },
  {
   "cell_type": "code",
   "execution_count": 76,
   "metadata": {},
   "outputs": [],
   "source": [
    "genre_pivot = df_final.pivot_table(\n",
    "    index=['genre'],\n",
    "    values='sales_sum',\n",
    "    aggfunc=('count','sum')).reset_index().sort_values('sum', ascending=False)"
   ]
  },
  {
   "cell_type": "code",
   "execution_count": 77,
   "metadata": {},
   "outputs": [
    {
     "data": {
      "text/html": [
       "<div>\n",
       "<style scoped>\n",
       "    .dataframe tbody tr th:only-of-type {\n",
       "        vertical-align: middle;\n",
       "    }\n",
       "\n",
       "    .dataframe tbody tr th {\n",
       "        vertical-align: top;\n",
       "    }\n",
       "\n",
       "    .dataframe thead th {\n",
       "        text-align: right;\n",
       "    }\n",
       "</style>\n",
       "<table border=\"1\" class=\"dataframe\">\n",
       "  <thead>\n",
       "    <tr style=\"text-align: right;\">\n",
       "      <th></th>\n",
       "      <th>genre</th>\n",
       "      <th>count</th>\n",
       "      <th>sum</th>\n",
       "    </tr>\n",
       "  </thead>\n",
       "  <tbody>\n",
       "    <tr>\n",
       "      <td>0</td>\n",
       "      <td>Action</td>\n",
       "      <td>766</td>\n",
       "      <td>321.87</td>\n",
       "    </tr>\n",
       "    <tr>\n",
       "      <td>8</td>\n",
       "      <td>Shooter</td>\n",
       "      <td>187</td>\n",
       "      <td>232.98</td>\n",
       "    </tr>\n",
       "    <tr>\n",
       "      <td>10</td>\n",
       "      <td>Sports</td>\n",
       "      <td>214</td>\n",
       "      <td>150.65</td>\n",
       "    </tr>\n",
       "    <tr>\n",
       "      <td>7</td>\n",
       "      <td>Role-Playing</td>\n",
       "      <td>292</td>\n",
       "      <td>145.89</td>\n",
       "    </tr>\n",
       "    <tr>\n",
       "      <td>3</td>\n",
       "      <td>Misc</td>\n",
       "      <td>155</td>\n",
       "      <td>62.82</td>\n",
       "    </tr>\n",
       "    <tr>\n",
       "      <td>4</td>\n",
       "      <td>Platform</td>\n",
       "      <td>74</td>\n",
       "      <td>42.63</td>\n",
       "    </tr>\n",
       "    <tr>\n",
       "      <td>6</td>\n",
       "      <td>Racing</td>\n",
       "      <td>85</td>\n",
       "      <td>39.89</td>\n",
       "    </tr>\n",
       "    <tr>\n",
       "      <td>2</td>\n",
       "      <td>Fighting</td>\n",
       "      <td>80</td>\n",
       "      <td>35.31</td>\n",
       "    </tr>\n",
       "    <tr>\n",
       "      <td>1</td>\n",
       "      <td>Adventure</td>\n",
       "      <td>245</td>\n",
       "      <td>23.64</td>\n",
       "    </tr>\n",
       "    <tr>\n",
       "      <td>9</td>\n",
       "      <td>Simulation</td>\n",
       "      <td>62</td>\n",
       "      <td>21.76</td>\n",
       "    </tr>\n",
       "    <tr>\n",
       "      <td>11</td>\n",
       "      <td>Strategy</td>\n",
       "      <td>56</td>\n",
       "      <td>10.08</td>\n",
       "    </tr>\n",
       "    <tr>\n",
       "      <td>5</td>\n",
       "      <td>Puzzle</td>\n",
       "      <td>17</td>\n",
       "      <td>3.17</td>\n",
       "    </tr>\n",
       "  </tbody>\n",
       "</table>\n",
       "</div>"
      ],
      "text/plain": [
       "           genre  count     sum\n",
       "0         Action    766  321.87\n",
       "8        Shooter    187  232.98\n",
       "10        Sports    214  150.65\n",
       "7   Role-Playing    292  145.89\n",
       "3           Misc    155   62.82\n",
       "4       Platform     74   42.63\n",
       "6         Racing     85   39.89\n",
       "2       Fighting     80   35.31\n",
       "1      Adventure    245   23.64\n",
       "9     Simulation     62   21.76\n",
       "11      Strategy     56   10.08\n",
       "5         Puzzle     17    3.17"
      ]
     },
     "execution_count": 77,
     "metadata": {},
     "output_type": "execute_result"
    }
   ],
   "source": [
    "genre_pivot"
   ]
  },
  {
   "cell_type": "markdown",
   "metadata": {},
   "source": [
    "Топ-4 продаваемых жанров - Action, Shooter, Sports, Role-Playing. Продажи остальных жанров отличаются более чем в 2 раза от лидеров."
   ]
  },
  {
   "cell_type": "markdown",
   "metadata": {},
   "source": [
    "### Вывод"
   ]
  },
  {
   "cell_type": "markdown",
   "metadata": {},
   "source": [
    "В исходной таблице были данные о продажах игр, которые выпускались с 1980 по 2016 год. Мы изучили сколько игр выпускалось и как менялись продажи по платформам и поняли, что для выявления закономерностей нам важны данные об играх, выпускаемых с 2013 по 2016 год. Самые популярные платформы, а значит и потенциально прибыльные в 2017 году - это PS4, 3DS, XOne и WiiU. У платформ PS4 и 3DS есть игры, которые расходились тиражом даже 15 млн копий. У платформ 3DS и WiiU максимальные продажи игры доходили примерно до 8 млн копий. Для всех популярных платформ отзывы критиков оказывают влияние на продажи, однако не слишком сильное.\n",
    "Отзывы пользователей либо вообще не оказывают влияние на продажи, либо оно очень и очень маленькое. Топ-4 продаваемых жанров - Action, Shooter, Sports, Role-Playing. Самые невостребованные жанры - Simulation, Strategy, Puzzle. Продажи игр в этих жанрах в десятки раз меньше, чем самых популярных."
   ]
  },
  {
   "cell_type": "markdown",
   "metadata": {},
   "source": [
    "## Портрет пользователя каждого региона"
   ]
  },
  {
   "cell_type": "markdown",
   "metadata": {},
   "source": [
    "### Какие платформы самые популярные в Северной Америке, Европе и Японии?"
   ]
  },
  {
   "cell_type": "markdown",
   "metadata": {},
   "source": [
    "С помощью сводной таблицы и расчёта доли рынка посмотрим, какие платформы самые популярные в Северной Америке:"
   ]
  },
  {
   "cell_type": "code",
   "execution_count": 41,
   "metadata": {},
   "outputs": [],
   "source": [
    "na_pivot = df_final.pivot_table(\n",
    "    index=['platform'],\n",
    "    values=('na_sales'),\n",
    "    aggfunc='sum')"
   ]
  },
  {
   "cell_type": "code",
   "execution_count": 42,
   "metadata": {},
   "outputs": [],
   "source": [
    "na_pivot['percent'] = na_pivot['na_sales'] / na_pivot['na_sales'].sum()"
   ]
  },
  {
   "cell_type": "code",
   "execution_count": 43,
   "metadata": {},
   "outputs": [
    {
     "data": {
      "text/html": [
       "<div>\n",
       "<style scoped>\n",
       "    .dataframe tbody tr th:only-of-type {\n",
       "        vertical-align: middle;\n",
       "    }\n",
       "\n",
       "    .dataframe tbody tr th {\n",
       "        vertical-align: top;\n",
       "    }\n",
       "\n",
       "    .dataframe thead th {\n",
       "        text-align: right;\n",
       "    }\n",
       "</style>\n",
       "<table border=\"1\" class=\"dataframe\">\n",
       "  <thead>\n",
       "    <tr style=\"text-align: right;\">\n",
       "      <th></th>\n",
       "      <th>na_sales</th>\n",
       "      <th>percent</th>\n",
       "    </tr>\n",
       "    <tr>\n",
       "      <th>platform</th>\n",
       "      <th></th>\n",
       "      <th></th>\n",
       "    </tr>\n",
       "  </thead>\n",
       "  <tbody>\n",
       "    <tr>\n",
       "      <td>PS4</td>\n",
       "      <td>108.74</td>\n",
       "      <td>0.248429</td>\n",
       "    </tr>\n",
       "    <tr>\n",
       "      <td>XOne</td>\n",
       "      <td>93.12</td>\n",
       "      <td>0.212744</td>\n",
       "    </tr>\n",
       "    <tr>\n",
       "      <td>X360</td>\n",
       "      <td>81.66</td>\n",
       "      <td>0.186562</td>\n",
       "    </tr>\n",
       "    <tr>\n",
       "      <td>PS3</td>\n",
       "      <td>63.50</td>\n",
       "      <td>0.145073</td>\n",
       "    </tr>\n",
       "    <tr>\n",
       "      <td>3DS</td>\n",
       "      <td>38.20</td>\n",
       "      <td>0.087272</td>\n",
       "    </tr>\n",
       "  </tbody>\n",
       "</table>\n",
       "</div>"
      ],
      "text/plain": [
       "          na_sales   percent\n",
       "platform                    \n",
       "PS4         108.74  0.248429\n",
       "XOne         93.12  0.212744\n",
       "X360         81.66  0.186562\n",
       "PS3          63.50  0.145073\n",
       "3DS          38.20  0.087272"
      ]
     },
     "execution_count": 43,
     "metadata": {},
     "output_type": "execute_result"
    }
   ],
   "source": [
    "na_pivot.sort_values('na_sales', ascending = False).head()"
   ]
  },
  {
   "cell_type": "markdown",
   "metadata": {},
   "source": [
    "Топ-5 популярных платформ в Северной Америке - PS4, XOne, X360, PS3, 3DS "
   ]
  },
  {
   "cell_type": "markdown",
   "metadata": {},
   "source": [
    "Тоже самое проделаем для Европы:"
   ]
  },
  {
   "cell_type": "code",
   "execution_count": 44,
   "metadata": {},
   "outputs": [],
   "source": [
    "eu_pivot = df_final.pivot_table(\n",
    "    index=['platform'],\n",
    "    values=('eu_sales'),\n",
    "    aggfunc='sum')"
   ]
  },
  {
   "cell_type": "code",
   "execution_count": 45,
   "metadata": {},
   "outputs": [],
   "source": [
    "eu_pivot['percent'] = eu_pivot['eu_sales'] / eu_pivot['eu_sales'].sum()"
   ]
  },
  {
   "cell_type": "code",
   "execution_count": 46,
   "metadata": {},
   "outputs": [
    {
     "data": {
      "text/html": [
       "<div>\n",
       "<style scoped>\n",
       "    .dataframe tbody tr th:only-of-type {\n",
       "        vertical-align: middle;\n",
       "    }\n",
       "\n",
       "    .dataframe tbody tr th {\n",
       "        vertical-align: top;\n",
       "    }\n",
       "\n",
       "    .dataframe thead th {\n",
       "        text-align: right;\n",
       "    }\n",
       "</style>\n",
       "<table border=\"1\" class=\"dataframe\">\n",
       "  <thead>\n",
       "    <tr style=\"text-align: right;\">\n",
       "      <th></th>\n",
       "      <th>eu_sales</th>\n",
       "      <th>percent</th>\n",
       "    </tr>\n",
       "    <tr>\n",
       "      <th>platform</th>\n",
       "      <th></th>\n",
       "      <th></th>\n",
       "    </tr>\n",
       "  </thead>\n",
       "  <tbody>\n",
       "    <tr>\n",
       "      <td>PS4</td>\n",
       "      <td>141.09</td>\n",
       "      <td>0.359712</td>\n",
       "    </tr>\n",
       "    <tr>\n",
       "      <td>PS3</td>\n",
       "      <td>67.81</td>\n",
       "      <td>0.172883</td>\n",
       "    </tr>\n",
       "    <tr>\n",
       "      <td>XOne</td>\n",
       "      <td>51.59</td>\n",
       "      <td>0.131530</td>\n",
       "    </tr>\n",
       "    <tr>\n",
       "      <td>X360</td>\n",
       "      <td>42.52</td>\n",
       "      <td>0.108406</td>\n",
       "    </tr>\n",
       "    <tr>\n",
       "      <td>3DS</td>\n",
       "      <td>30.96</td>\n",
       "      <td>0.078933</td>\n",
       "    </tr>\n",
       "  </tbody>\n",
       "</table>\n",
       "</div>"
      ],
      "text/plain": [
       "          eu_sales   percent\n",
       "platform                    \n",
       "PS4         141.09  0.359712\n",
       "PS3          67.81  0.172883\n",
       "XOne         51.59  0.131530\n",
       "X360         42.52  0.108406\n",
       "3DS          30.96  0.078933"
      ]
     },
     "execution_count": 46,
     "metadata": {},
     "output_type": "execute_result"
    }
   ],
   "source": [
    "eu_pivot.sort_values('eu_sales', ascending = False).head()"
   ]
  },
  {
   "cell_type": "markdown",
   "metadata": {},
   "source": [
    "Топ-5 популярных платформ в Европе - PS4, PS3, XOne, X360, 3DS."
   ]
  },
  {
   "cell_type": "code",
   "execution_count": 47,
   "metadata": {},
   "outputs": [],
   "source": [
    "jp_pivot = df_final.pivot_table(\n",
    "    index=['platform'],\n",
    "    values=('jp_sales'),\n",
    "    aggfunc='sum')"
   ]
  },
  {
   "cell_type": "markdown",
   "metadata": {},
   "source": [
    "И для Японии:"
   ]
  },
  {
   "cell_type": "code",
   "execution_count": 48,
   "metadata": {},
   "outputs": [],
   "source": [
    "jp_pivot['percent'] = jp_pivot['jp_sales'] / jp_pivot['jp_sales'].sum()"
   ]
  },
  {
   "cell_type": "code",
   "execution_count": 49,
   "metadata": {},
   "outputs": [
    {
     "data": {
      "text/html": [
       "<div>\n",
       "<style scoped>\n",
       "    .dataframe tbody tr th:only-of-type {\n",
       "        vertical-align: middle;\n",
       "    }\n",
       "\n",
       "    .dataframe tbody tr th {\n",
       "        vertical-align: top;\n",
       "    }\n",
       "\n",
       "    .dataframe thead th {\n",
       "        text-align: right;\n",
       "    }\n",
       "</style>\n",
       "<table border=\"1\" class=\"dataframe\">\n",
       "  <thead>\n",
       "    <tr style=\"text-align: right;\">\n",
       "      <th></th>\n",
       "      <th>jp_sales</th>\n",
       "      <th>percent</th>\n",
       "    </tr>\n",
       "    <tr>\n",
       "      <th>platform</th>\n",
       "      <th></th>\n",
       "      <th></th>\n",
       "    </tr>\n",
       "  </thead>\n",
       "  <tbody>\n",
       "    <tr>\n",
       "      <td>3DS</td>\n",
       "      <td>67.81</td>\n",
       "      <td>0.481674</td>\n",
       "    </tr>\n",
       "    <tr>\n",
       "      <td>PS3</td>\n",
       "      <td>23.35</td>\n",
       "      <td>0.165862</td>\n",
       "    </tr>\n",
       "    <tr>\n",
       "      <td>PSV</td>\n",
       "      <td>18.59</td>\n",
       "      <td>0.132050</td>\n",
       "    </tr>\n",
       "    <tr>\n",
       "      <td>PS4</td>\n",
       "      <td>15.96</td>\n",
       "      <td>0.113368</td>\n",
       "    </tr>\n",
       "    <tr>\n",
       "      <td>WiiU</td>\n",
       "      <td>10.88</td>\n",
       "      <td>0.077284</td>\n",
       "    </tr>\n",
       "  </tbody>\n",
       "</table>\n",
       "</div>"
      ],
      "text/plain": [
       "          jp_sales   percent\n",
       "platform                    \n",
       "3DS          67.81  0.481674\n",
       "PS3          23.35  0.165862\n",
       "PSV          18.59  0.132050\n",
       "PS4          15.96  0.113368\n",
       "WiiU         10.88  0.077284"
      ]
     },
     "execution_count": 49,
     "metadata": {},
     "output_type": "execute_result"
    }
   ],
   "source": [
    "jp_pivot.sort_values('jp_sales', ascending = False).head()"
   ]
  },
  {
   "cell_type": "markdown",
   "metadata": {},
   "source": [
    "Топ-5 популярных платформ в Японии - 3DS, PS3, PSV, PS4, WiiU. PS4 в Японии не на первом месте, как в другиз регионах. Здесь лидирует 3DS. "
   ]
  },
  {
   "cell_type": "markdown",
   "metadata": {},
   "source": [
    "PS4 имеет самую большую долю рынка в Европе (36%), XOne - в Северной Америке (21%) и не находится в топе в Японии вообще, X360 - в Северной Америке (19%), а Японии не находится в топе вообще, PS3 в Европе (17%) и Японии похожая доля рынка (16,5%), 3DS в Японии (48%)."
   ]
  },
  {
   "cell_type": "markdown",
   "metadata": {},
   "source": [
    "### Какие жанры самые популярные в Северной Америке, Европе и Японии?"
   ]
  },
  {
   "cell_type": "markdown",
   "metadata": {},
   "source": [
    "Посмотрим, какие жанры самые популярные в разных регионах."
   ]
  },
  {
   "cell_type": "code",
   "execution_count": 50,
   "metadata": {},
   "outputs": [
    {
     "data": {
      "text/html": [
       "<div>\n",
       "<style scoped>\n",
       "    .dataframe tbody tr th:only-of-type {\n",
       "        vertical-align: middle;\n",
       "    }\n",
       "\n",
       "    .dataframe tbody tr th {\n",
       "        vertical-align: top;\n",
       "    }\n",
       "\n",
       "    .dataframe thead th {\n",
       "        text-align: right;\n",
       "    }\n",
       "</style>\n",
       "<table border=\"1\" class=\"dataframe\">\n",
       "  <thead>\n",
       "    <tr style=\"text-align: right;\">\n",
       "      <th></th>\n",
       "      <th>na_sales</th>\n",
       "    </tr>\n",
       "    <tr>\n",
       "      <th>genre</th>\n",
       "      <th></th>\n",
       "    </tr>\n",
       "  </thead>\n",
       "  <tbody>\n",
       "    <tr>\n",
       "      <td>Action</td>\n",
       "      <td>126.05</td>\n",
       "    </tr>\n",
       "    <tr>\n",
       "      <td>Shooter</td>\n",
       "      <td>109.74</td>\n",
       "    </tr>\n",
       "    <tr>\n",
       "      <td>Sports</td>\n",
       "      <td>65.27</td>\n",
       "    </tr>\n",
       "    <tr>\n",
       "      <td>Role-Playing</td>\n",
       "      <td>46.40</td>\n",
       "    </tr>\n",
       "    <tr>\n",
       "      <td>Misc</td>\n",
       "      <td>27.49</td>\n",
       "    </tr>\n",
       "  </tbody>\n",
       "</table>\n",
       "</div>"
      ],
      "text/plain": [
       "              na_sales\n",
       "genre                 \n",
       "Action          126.05\n",
       "Shooter         109.74\n",
       "Sports           65.27\n",
       "Role-Playing     46.40\n",
       "Misc             27.49"
      ]
     },
     "execution_count": 50,
     "metadata": {},
     "output_type": "execute_result"
    }
   ],
   "source": [
    "df_final.pivot_table(\n",
    "    index=['genre'],\n",
    "    values='na_sales',\n",
    "    aggfunc='sum').sort_values('na_sales', ascending = False).head()"
   ]
  },
  {
   "cell_type": "code",
   "execution_count": 51,
   "metadata": {},
   "outputs": [
    {
     "data": {
      "text/html": [
       "<div>\n",
       "<style scoped>\n",
       "    .dataframe tbody tr th:only-of-type {\n",
       "        vertical-align: middle;\n",
       "    }\n",
       "\n",
       "    .dataframe tbody tr th {\n",
       "        vertical-align: top;\n",
       "    }\n",
       "\n",
       "    .dataframe thead th {\n",
       "        text-align: right;\n",
       "    }\n",
       "</style>\n",
       "<table border=\"1\" class=\"dataframe\">\n",
       "  <thead>\n",
       "    <tr style=\"text-align: right;\">\n",
       "      <th></th>\n",
       "      <th>eu_sales</th>\n",
       "    </tr>\n",
       "    <tr>\n",
       "      <th>genre</th>\n",
       "      <th></th>\n",
       "    </tr>\n",
       "  </thead>\n",
       "  <tbody>\n",
       "    <tr>\n",
       "      <td>Action</td>\n",
       "      <td>118.13</td>\n",
       "    </tr>\n",
       "    <tr>\n",
       "      <td>Shooter</td>\n",
       "      <td>87.86</td>\n",
       "    </tr>\n",
       "    <tr>\n",
       "      <td>Sports</td>\n",
       "      <td>60.52</td>\n",
       "    </tr>\n",
       "    <tr>\n",
       "      <td>Role-Playing</td>\n",
       "      <td>36.97</td>\n",
       "    </tr>\n",
       "    <tr>\n",
       "      <td>Racing</td>\n",
       "      <td>20.19</td>\n",
       "    </tr>\n",
       "  </tbody>\n",
       "</table>\n",
       "</div>"
      ],
      "text/plain": [
       "              eu_sales\n",
       "genre                 \n",
       "Action          118.13\n",
       "Shooter          87.86\n",
       "Sports           60.52\n",
       "Role-Playing     36.97\n",
       "Racing           20.19"
      ]
     },
     "execution_count": 51,
     "metadata": {},
     "output_type": "execute_result"
    }
   ],
   "source": [
    "df_final.pivot_table(\n",
    "    index=['genre'],\n",
    "    values='eu_sales',\n",
    "    aggfunc='sum').sort_values('eu_sales', ascending = False).head()"
   ]
  },
  {
   "cell_type": "code",
   "execution_count": 52,
   "metadata": {},
   "outputs": [
    {
     "data": {
      "text/html": [
       "<div>\n",
       "<style scoped>\n",
       "    .dataframe tbody tr th:only-of-type {\n",
       "        vertical-align: middle;\n",
       "    }\n",
       "\n",
       "    .dataframe tbody tr th {\n",
       "        vertical-align: top;\n",
       "    }\n",
       "\n",
       "    .dataframe thead th {\n",
       "        text-align: right;\n",
       "    }\n",
       "</style>\n",
       "<table border=\"1\" class=\"dataframe\">\n",
       "  <thead>\n",
       "    <tr style=\"text-align: right;\">\n",
       "      <th></th>\n",
       "      <th>jp_sales</th>\n",
       "    </tr>\n",
       "    <tr>\n",
       "      <th>genre</th>\n",
       "      <th></th>\n",
       "    </tr>\n",
       "  </thead>\n",
       "  <tbody>\n",
       "    <tr>\n",
       "      <td>Role-Playing</td>\n",
       "      <td>51.04</td>\n",
       "    </tr>\n",
       "    <tr>\n",
       "      <td>Action</td>\n",
       "      <td>40.49</td>\n",
       "    </tr>\n",
       "    <tr>\n",
       "      <td>Misc</td>\n",
       "      <td>9.20</td>\n",
       "    </tr>\n",
       "    <tr>\n",
       "      <td>Fighting</td>\n",
       "      <td>7.65</td>\n",
       "    </tr>\n",
       "    <tr>\n",
       "      <td>Shooter</td>\n",
       "      <td>6.61</td>\n",
       "    </tr>\n",
       "  </tbody>\n",
       "</table>\n",
       "</div>"
      ],
      "text/plain": [
       "              jp_sales\n",
       "genre                 \n",
       "Role-Playing     51.04\n",
       "Action           40.49\n",
       "Misc              9.20\n",
       "Fighting          7.65\n",
       "Shooter           6.61"
      ]
     },
     "execution_count": 52,
     "metadata": {},
     "output_type": "execute_result"
    }
   ],
   "source": [
    "df_final.pivot_table(\n",
    "    index=['genre'],\n",
    "    values='jp_sales',\n",
    "    aggfunc='sum').sort_values('jp_sales', ascending = False).head()"
   ]
  },
  {
   "cell_type": "markdown",
   "metadata": {},
   "source": [
    "В Северной Америке и Европе в топе почти одни и теже жанры, только в Северной Америке предпочитают Misc, а в Европе Racing.\n",
    "В Японии лидирует Role-Playing, а ещё в списке лидеров есть Fighting, которого нет в топе в других двух регионах."
   ]
  },
  {
   "cell_type": "markdown",
   "metadata": {},
   "source": [
    "### Влияет ли рейтинг ESRB на продажи?"
   ]
  },
  {
   "cell_type": "code",
   "execution_count": 53,
   "metadata": {},
   "outputs": [
    {
     "data": {
      "text/html": [
       "<div>\n",
       "<style scoped>\n",
       "    .dataframe tbody tr th:only-of-type {\n",
       "        vertical-align: middle;\n",
       "    }\n",
       "\n",
       "    .dataframe tbody tr th {\n",
       "        vertical-align: top;\n",
       "    }\n",
       "\n",
       "    .dataframe thead th {\n",
       "        text-align: right;\n",
       "    }\n",
       "</style>\n",
       "<table border=\"1\" class=\"dataframe\">\n",
       "  <thead>\n",
       "    <tr style=\"text-align: right;\">\n",
       "      <th></th>\n",
       "      <th>na_sales</th>\n",
       "    </tr>\n",
       "    <tr>\n",
       "      <th>rating</th>\n",
       "      <th></th>\n",
       "    </tr>\n",
       "  </thead>\n",
       "  <tbody>\n",
       "    <tr>\n",
       "      <td>M</td>\n",
       "      <td>165.21</td>\n",
       "    </tr>\n",
       "    <tr>\n",
       "      <td>unknown</td>\n",
       "      <td>89.42</td>\n",
       "    </tr>\n",
       "    <tr>\n",
       "      <td>E</td>\n",
       "      <td>79.05</td>\n",
       "    </tr>\n",
       "    <tr>\n",
       "      <td>E10+</td>\n",
       "      <td>54.24</td>\n",
       "    </tr>\n",
       "    <tr>\n",
       "      <td>T</td>\n",
       "      <td>49.79</td>\n",
       "    </tr>\n",
       "  </tbody>\n",
       "</table>\n",
       "</div>"
      ],
      "text/plain": [
       "         na_sales\n",
       "rating           \n",
       "M          165.21\n",
       "unknown     89.42\n",
       "E           79.05\n",
       "E10+        54.24\n",
       "T           49.79"
      ]
     },
     "execution_count": 53,
     "metadata": {},
     "output_type": "execute_result"
    }
   ],
   "source": [
    "df_final.pivot_table(\n",
    "    index=['rating'],\n",
    "    values='na_sales',\n",
    "    aggfunc='sum').sort_values('na_sales', ascending = False).head()"
   ]
  },
  {
   "cell_type": "code",
   "execution_count": 54,
   "metadata": {},
   "outputs": [
    {
     "data": {
      "text/html": [
       "<div>\n",
       "<style scoped>\n",
       "    .dataframe tbody tr th:only-of-type {\n",
       "        vertical-align: middle;\n",
       "    }\n",
       "\n",
       "    .dataframe tbody tr th {\n",
       "        vertical-align: top;\n",
       "    }\n",
       "\n",
       "    .dataframe thead th {\n",
       "        text-align: right;\n",
       "    }\n",
       "</style>\n",
       "<table border=\"1\" class=\"dataframe\">\n",
       "  <thead>\n",
       "    <tr style=\"text-align: right;\">\n",
       "      <th></th>\n",
       "      <th>eu_sales</th>\n",
       "    </tr>\n",
       "    <tr>\n",
       "      <th>rating</th>\n",
       "      <th></th>\n",
       "    </tr>\n",
       "  </thead>\n",
       "  <tbody>\n",
       "    <tr>\n",
       "      <td>M</td>\n",
       "      <td>145.32</td>\n",
       "    </tr>\n",
       "    <tr>\n",
       "      <td>E</td>\n",
       "      <td>83.36</td>\n",
       "    </tr>\n",
       "    <tr>\n",
       "      <td>unknown</td>\n",
       "      <td>78.91</td>\n",
       "    </tr>\n",
       "    <tr>\n",
       "      <td>E10+</td>\n",
       "      <td>42.69</td>\n",
       "    </tr>\n",
       "    <tr>\n",
       "      <td>T</td>\n",
       "      <td>41.95</td>\n",
       "    </tr>\n",
       "  </tbody>\n",
       "</table>\n",
       "</div>"
      ],
      "text/plain": [
       "         eu_sales\n",
       "rating           \n",
       "M          145.32\n",
       "E           83.36\n",
       "unknown     78.91\n",
       "E10+        42.69\n",
       "T           41.95"
      ]
     },
     "execution_count": 54,
     "metadata": {},
     "output_type": "execute_result"
    }
   ],
   "source": [
    "df_final.pivot_table(\n",
    "    index=['rating'],\n",
    "    values='eu_sales',\n",
    "    aggfunc='sum').sort_values('eu_sales', ascending = False).head()"
   ]
  },
  {
   "cell_type": "code",
   "execution_count": 55,
   "metadata": {},
   "outputs": [
    {
     "data": {
      "text/html": [
       "<div>\n",
       "<style scoped>\n",
       "    .dataframe tbody tr th:only-of-type {\n",
       "        vertical-align: middle;\n",
       "    }\n",
       "\n",
       "    .dataframe tbody tr th {\n",
       "        vertical-align: top;\n",
       "    }\n",
       "\n",
       "    .dataframe thead th {\n",
       "        text-align: right;\n",
       "    }\n",
       "</style>\n",
       "<table border=\"1\" class=\"dataframe\">\n",
       "  <thead>\n",
       "    <tr style=\"text-align: right;\">\n",
       "      <th></th>\n",
       "      <th>jp_sales</th>\n",
       "    </tr>\n",
       "    <tr>\n",
       "      <th>rating</th>\n",
       "      <th></th>\n",
       "    </tr>\n",
       "  </thead>\n",
       "  <tbody>\n",
       "    <tr>\n",
       "      <td>unknown</td>\n",
       "      <td>85.05</td>\n",
       "    </tr>\n",
       "    <tr>\n",
       "      <td>T</td>\n",
       "      <td>20.59</td>\n",
       "    </tr>\n",
       "    <tr>\n",
       "      <td>E</td>\n",
       "      <td>15.14</td>\n",
       "    </tr>\n",
       "    <tr>\n",
       "      <td>M</td>\n",
       "      <td>14.11</td>\n",
       "    </tr>\n",
       "    <tr>\n",
       "      <td>E10+</td>\n",
       "      <td>5.89</td>\n",
       "    </tr>\n",
       "  </tbody>\n",
       "</table>\n",
       "</div>"
      ],
      "text/plain": [
       "         jp_sales\n",
       "rating           \n",
       "unknown     85.05\n",
       "T           20.59\n",
       "E           15.14\n",
       "M           14.11\n",
       "E10+         5.89"
      ]
     },
     "execution_count": 55,
     "metadata": {},
     "output_type": "execute_result"
    }
   ],
   "source": [
    "df_final.pivot_table(\n",
    "    index=['rating'],\n",
    "    values='jp_sales',\n",
    "    aggfunc='sum').sort_values('jp_sales', ascending = False).head()"
   ]
  },
  {
   "cell_type": "markdown",
   "metadata": {},
   "source": [
    "Согласно Википедии буквы означают: \n",
    "- «M» («Mature») — «Для взрослых»: Материалы игры не подходят для подростков младше 17 лет. \n",
    "- «E» («Everyone») — «Для всех»: Содержание вполне подходит для возрастной категории от 6 лет и старше; \n",
    "- «E10+» («Everyone 10 and older») — «Для всех от 10 лет и старше»:\n",
    "- «T» («Teen») — «Подросткам»: Игра подходит для лиц от 13 лет и старше."
   ]
  },
  {
   "cell_type": "markdown",
   "metadata": {},
   "source": [
    "В Северной Америке и Европе лидируют по продажам игры с рейтингом ESRB - «M» («Mature») — «Для взрослых». Далее идут в одинаковом порядке «E» («Everyone») — «Для всех», «E10+» («Everyone 10 and older»), «T» («Teen») — «Подросткам».<br>\n",
    "А в Японии рейтинг ESRB влияет на продажи по другому: на первом месте по продажам игры «T» («Teen») — «Подросткам», потом «E» («Everyone») — «Для всех», «M» («Mature») — «Для взрослых» и на последнем месте «E10+» («Everyone 10 and older»).\n",
    "Похоже, что в Японии в компьютерные игры больше играют подростки, а в Северной Америке и Европе - взрослые."
   ]
  },
  {
   "cell_type": "markdown",
   "metadata": {},
   "source": [
    "### Вывод"
   ]
  },
  {
   "cell_type": "markdown",
   "metadata": {},
   "source": [
    "## Проверка гипотез"
   ]
  },
  {
   "cell_type": "markdown",
   "metadata": {},
   "source": [
    "**Нулевая гипотеза H₀:**<br>\n",
    "Средние пользовательские рейтинги платформ Xbox One и PC одинаковые\n",
    "\n",
    "**Альтернативная гипотеза H₁:**<br>\n",
    "Средние пользовательские рейтинги платформ Xbox One и PC различаются"
   ]
  },
  {
   "cell_type": "code",
   "execution_count": 56,
   "metadata": {},
   "outputs": [],
   "source": [
    "final_XOne = df_final.query(\n",
    "    '(platform == \"XOne\") and (user_score != -1) and (critic_score != -1)')"
   ]
  },
  {
   "cell_type": "code",
   "execution_count": 57,
   "metadata": {},
   "outputs": [],
   "source": [
    "final_PC = df_final.query(\n",
    "    '(platform == \"PC\") and (user_score != -1) and (critic_score != -1)')"
   ]
  },
  {
   "cell_type": "code",
   "execution_count": 58,
   "metadata": {},
   "outputs": [
    {
     "data": {
      "text/plain": [
       "1.79639911308204"
      ]
     },
     "execution_count": 58,
     "metadata": {},
     "output_type": "execute_result"
    }
   ],
   "source": [
    "final_XOne['user_score'].var(ddof=1)"
   ]
  },
  {
   "cell_type": "code",
   "execution_count": 59,
   "metadata": {},
   "outputs": [
    {
     "data": {
      "text/plain": [
       "2.932444842801986"
      ]
     },
     "execution_count": 59,
     "metadata": {},
     "output_type": "execute_result"
    }
   ],
   "source": [
    "final_PC['user_score'].var(ddof=1)"
   ]
  },
  {
   "cell_type": "code",
   "execution_count": 60,
   "metadata": {},
   "outputs": [
    {
     "name": "stdout",
     "output_type": "stream",
     "text": [
      "p-значение: 0.17882648263401307\n",
      "Не получилось отвергнуть нулевую гипотезу\n"
     ]
    }
   ],
   "source": [
    "sample_1 = final_XOne['user_score']\n",
    "sample_2 = final_PC['user_score']\n",
    "alpha = 0.05\n",
    "results = st.ttest_ind(sample_1, sample_2, equal_var = False)\n",
    "print('p-значение:', results.pvalue)\n",
    "if results.pvalue < alpha:\n",
    "    print('Отвергаем нулевую гипотезу')\n",
    "else:\n",
    "    print('Не получилось отвергнуть нулевую гипотезу') "
   ]
  },
  {
   "cell_type": "code",
   "execution_count": 61,
   "metadata": {},
   "outputs": [
    {
     "data": {
      "text/plain": [
       "6.538181818181818"
      ]
     },
     "execution_count": 61,
     "metadata": {},
     "output_type": "execute_result"
    }
   ],
   "source": [
    "final_XOne['user_score'].mean()"
   ]
  },
  {
   "cell_type": "code",
   "execution_count": 62,
   "metadata": {},
   "outputs": [
    {
     "data": {
      "text/plain": [
       "6.3020270270270276"
      ]
     },
     "execution_count": 62,
     "metadata": {},
     "output_type": "execute_result"
    }
   ],
   "source": [
    "final_PC['user_score'].mean()"
   ]
  },
  {
   "cell_type": "markdown",
   "metadata": {},
   "source": [
    "Тест показал, что нулевую гипотезу отвергнуть не получилось, средние пользовательские рейтинги платформ Xbox One и PC не различаются. Другими словами с вероятностью в 18% различие можно получить случайно. Это явно слишком большая вероятность, чтобы делать вывод о значимом различии между средними рейтингами."
   ]
  },
  {
   "cell_type": "markdown",
   "metadata": {},
   "source": [
    "**Нулевая гипотеза H₀:**<br>\n",
    "Средние пользовательские рейтинги жанров Action (англ. «действие», экшен-игры) и Sports (англ. «спортивные соревнования») одинаковые.\n",
    "\n",
    "**Альтернативная гипотеза H₁:**<br>\n",
    "Средние пользовательские рейтинги жанров Action (англ. «действие», экшен-игры) и Sports (англ. «спортивные соревнования») разные."
   ]
  },
  {
   "cell_type": "code",
   "execution_count": 63,
   "metadata": {},
   "outputs": [],
   "source": [
    "final_Action = df_final.query(\n",
    "    '(genre == \"Action\") and (user_score != -1) and (critic_score != -1)')"
   ]
  },
  {
   "cell_type": "code",
   "execution_count": 64,
   "metadata": {},
   "outputs": [],
   "source": [
    "final_Sports = df_final.query(\n",
    "    '(genre == \"Sports\") and (user_score != -1) and (critic_score != -1)')"
   ]
  },
  {
   "cell_type": "code",
   "execution_count": 65,
   "metadata": {},
   "outputs": [
    {
     "data": {
      "text/plain": [
       "1.6462144328163746"
      ]
     },
     "execution_count": 65,
     "metadata": {},
     "output_type": "execute_result"
    }
   ],
   "source": [
    "final_Action['user_score'].var(ddof=1)"
   ]
  },
  {
   "cell_type": "code",
   "execution_count": 66,
   "metadata": {},
   "outputs": [
    {
     "data": {
      "text/plain": [
       "2.1316396997497913"
      ]
     },
     "execution_count": 66,
     "metadata": {},
     "output_type": "execute_result"
    }
   ],
   "source": [
    "final_Sports['user_score'].var(ddof=1)"
   ]
  },
  {
   "cell_type": "code",
   "execution_count": 67,
   "metadata": {},
   "outputs": [
    {
     "name": "stdout",
     "output_type": "stream",
     "text": [
      "p-значение: 1.0496920005008588e-13\n",
      "Отвергаем нулевую гипотезу\n"
     ]
    }
   ],
   "source": [
    "array_1 = final_Action['user_score']\n",
    "array_2 = final_Sports['user_score']\n",
    "alpha = 0.05\n",
    "results = st.ttest_ind(array_1, array_2, equal_var = False)\n",
    "print('p-значение:', results.pvalue)\n",
    "if results.pvalue < alpha:\n",
    "    print('Отвергаем нулевую гипотезу')\n",
    "else:\n",
    "    print('Не получилось отвергнуть нулевую гипотезу') "
   ]
  },
  {
   "cell_type": "markdown",
   "metadata": {},
   "source": [
    "Посчитаем средние значения пользовательских рейтингов для обоих жанров, чтобы посмотреть, у какого жанра они выше."
   ]
  },
  {
   "cell_type": "code",
   "execution_count": 68,
   "metadata": {},
   "outputs": [
    {
     "data": {
      "text/plain": [
       "6.9362459546925574"
      ]
     },
     "execution_count": 68,
     "metadata": {},
     "output_type": "execute_result"
    }
   ],
   "source": [
    "final_Action['user_score'].mean()"
   ]
  },
  {
   "cell_type": "code",
   "execution_count": 69,
   "metadata": {},
   "outputs": [
    {
     "data": {
      "text/plain": [
       "5.665454545454545"
      ]
     },
     "execution_count": 69,
     "metadata": {},
     "output_type": "execute_result"
    }
   ],
   "source": [
    "final_Sports['user_score'].mean()"
   ]
  },
  {
   "cell_type": "markdown",
   "metadata": {},
   "source": [
    "Получается, что мы отвергаем гипотезу о равенстве средних пользовательских рейтингов жанров Action и Sports  и принимаем альтернативную гипотезу - средних пользовательских рейтингов этих жанров различаются.\n",
    "Мы приняли alpha = 0.05 (общепринятое пороговое значение), что означает, что мы признаём 5%-ю вероятность слишком малой и на этом основании отвергаем нулевую гипотезу."
   ]
  },
  {
   "cell_type": "markdown",
   "metadata": {},
   "source": [
    "## Вывод"
   ]
  },
  {
   "cell_type": "markdown",
   "metadata": {},
   "source": [
    "Характерный срок жизни платформы примерно 10 лет, а пик продаж самых прибыльных платформ за весь период, который был в нашем распоряжении (1980-2016) был примерно посередине этого десятилетнего периода. Поэтому мы оставили для анализа только данные об играх, выпускаемых с 2013 по 2016 год, тк посчитали, что именно они помогут построить прогноз на 2017 год.<br>\n",
    "В 2016 году самые прибыльные платформы - это PS4, 3DS, XOne и WiiU. Скорее всего они же и будут потенциально самыми прибыльными в 2017 году. У платформ PS4 и 3DS есть игры, которые расходились тиражом даже 15 млн копий. У платформ 3DS и WiiU максимальные продажи игры доходили примерно до 8 млн копий.<br>\n",
    "Для всех популярных платформ отзывы критиков оказывают влияние на продажи, однако не слишком сильное. Отзывы пользователей либо вообще не оказывают влияние на продажи, либо оно очень и очень слабое.<br>\n",
    "Топ-4 продаваемых жанров - Action, Shooter, Sports, Role-Playing. Самые невостребованные жанры - Simulation, Strategy, Puzzle. Продажи игр в этих жанрах в десятки раз меньше, чем самых популярных.<br>\n",
    "Топ-5 популярных платформ в Северной Америке - PS4, XOne, X360, PS3, 3DS. Доли рынка 25%/21%/19%/14%/9%.<br>\n",
    "Топ-5 популярных платформ в Европе - PS4, PS3, XOne, X360, 3DS. Доли рынка 36%/17%/13%/11%/8%.<br>\n",
    "Топ-5 популярных платформ в Японии - 3DS, PS3, PSV, PS4, WiiU. Доли рынка 48%/17%/13%/11%/8%.<br>\n",
    "В Северной Америке и Европе в топе почти одни и теже жанры: Action, Shooter, Sports, Role-Playing. Только последнее место в топ-5 в Северной Америке занимает Misc, а в Европе Racing. В Японии лидирует Role-Playing, а ещё в списке лидеров есть Fighting, которого нет в топе в других двух регионах.<br>\n",
    "В Северной Америке и Европе лидируют по продажам игры с рейтингом ESRB - «M» («Mature») — «Для взрослых». А в Японии рейтинг ESRB влияет на продажи по другому: на первом месте по продажам игры «T» («Teen») — «Подросткам». Похоже, что в Японии в компьютерные игры больше играют подростки, а в Северной Америке и Европе - взрослые.<br>\n",
    "Средние пользовательские рейтинги платформ Xbox One и PC не различаются. Средние пользовательские рейтинги жанров Action и Sports разные."
   ]
  }
 ],
 "metadata": {
  "kernelspec": {
   "display_name": "Python 3",
   "language": "python",
   "name": "python3"
  },
  "language_info": {
   "codemirror_mode": {
    "name": "ipython",
    "version": 3
   },
   "file_extension": ".py",
   "mimetype": "text/x-python",
   "name": "python",
   "nbconvert_exporter": "python",
   "pygments_lexer": "ipython3",
   "version": "3.8.8"
  },
  "toc": {
   "base_numbering": 1,
   "nav_menu": {},
   "number_sections": true,
   "sideBar": true,
   "skip_h1_title": true,
   "title_cell": "Table of Contents",
   "title_sidebar": "Contents",
   "toc_cell": false,
   "toc_position": {},
   "toc_section_display": true,
   "toc_window_display": true
  }
 },
 "nbformat": 4,
 "nbformat_minor": 2
}
