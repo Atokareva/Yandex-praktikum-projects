{
 "cells": [
  {
   "cell_type": "markdown",
   "metadata": {},
   "source": [
    "# Проверка гипотез по увеличению выручки в интернет-магазине"
   ]
  },
  {
   "cell_type": "markdown",
   "metadata": {},
   "source": [
    "## Приоритизация гипотез"
   ]
  },
  {
   "cell_type": "code",
   "execution_count": 31,
   "metadata": {},
   "outputs": [],
   "source": [
    "import pandas as pd\n",
    "import datetime as dt\n",
    "import numpy as np\n",
    "import matplotlib.pyplot as plt\n",
    "import scipy.stats as stats"
   ]
  },
  {
   "cell_type": "code",
   "execution_count": 32,
   "metadata": {},
   "outputs": [],
   "source": [
    "from pandas.plotting import register_matplotlib_converters\n",
    "register_matplotlib_converters()"
   ]
  },
  {
   "cell_type": "code",
   "execution_count": 33,
   "metadata": {},
   "outputs": [],
   "source": [
    "pd.set_option('max_colwidth', 120)\n",
    "pd.set_option('display.width', 500)"
   ]
  },
  {
   "cell_type": "code",
   "execution_count": 34,
   "metadata": {},
   "outputs": [],
   "source": [
    "data = pd.read_csv('/datasets/hypothesis.csv')"
   ]
  },
  {
   "cell_type": "code",
   "execution_count": 35,
   "metadata": {},
   "outputs": [
    {
     "data": {
      "text/html": [
       "<style  type=\"text/css\" >\n",
       "</style><table id=\"T_2a04c396_5827_11ec_a545_02420a391b68\" ><thead>    <tr>        <th class=\"blank level0\" ></th>        <th class=\"col_heading level0 col0\" >Hypothesis</th>        <th class=\"col_heading level0 col1\" >Reach</th>        <th class=\"col_heading level0 col2\" >Impact</th>        <th class=\"col_heading level0 col3\" >Confidence</th>        <th class=\"col_heading level0 col4\" >Efforts</th>    </tr></thead><tbody>\n",
       "                <tr>\n",
       "                        <th id=\"T_2a04c396_5827_11ec_a545_02420a391b68level0_row0\" class=\"row_heading level0 row0\" >0</th>\n",
       "                        <td id=\"T_2a04c396_5827_11ec_a545_02420a391b68row0_col0\" class=\"data row0 col0\" >Добавить два новых канала привлечения трафика, что позволит привлекать на 30% больше пользователей</td>\n",
       "                        <td id=\"T_2a04c396_5827_11ec_a545_02420a391b68row0_col1\" class=\"data row0 col1\" >3</td>\n",
       "                        <td id=\"T_2a04c396_5827_11ec_a545_02420a391b68row0_col2\" class=\"data row0 col2\" >10</td>\n",
       "                        <td id=\"T_2a04c396_5827_11ec_a545_02420a391b68row0_col3\" class=\"data row0 col3\" >8</td>\n",
       "                        <td id=\"T_2a04c396_5827_11ec_a545_02420a391b68row0_col4\" class=\"data row0 col4\" >6</td>\n",
       "            </tr>\n",
       "            <tr>\n",
       "                        <th id=\"T_2a04c396_5827_11ec_a545_02420a391b68level0_row1\" class=\"row_heading level0 row1\" >1</th>\n",
       "                        <td id=\"T_2a04c396_5827_11ec_a545_02420a391b68row1_col0\" class=\"data row1 col0\" >Запустить собственную службу доставки, что сократит срок доставки заказов</td>\n",
       "                        <td id=\"T_2a04c396_5827_11ec_a545_02420a391b68row1_col1\" class=\"data row1 col1\" >2</td>\n",
       "                        <td id=\"T_2a04c396_5827_11ec_a545_02420a391b68row1_col2\" class=\"data row1 col2\" >5</td>\n",
       "                        <td id=\"T_2a04c396_5827_11ec_a545_02420a391b68row1_col3\" class=\"data row1 col3\" >4</td>\n",
       "                        <td id=\"T_2a04c396_5827_11ec_a545_02420a391b68row1_col4\" class=\"data row1 col4\" >10</td>\n",
       "            </tr>\n",
       "            <tr>\n",
       "                        <th id=\"T_2a04c396_5827_11ec_a545_02420a391b68level0_row2\" class=\"row_heading level0 row2\" >2</th>\n",
       "                        <td id=\"T_2a04c396_5827_11ec_a545_02420a391b68row2_col0\" class=\"data row2 col0\" >Добавить блоки рекомендаций товаров на сайт интернет магазина, чтобы повысить конверсию и средний чек заказа</td>\n",
       "                        <td id=\"T_2a04c396_5827_11ec_a545_02420a391b68row2_col1\" class=\"data row2 col1\" >8</td>\n",
       "                        <td id=\"T_2a04c396_5827_11ec_a545_02420a391b68row2_col2\" class=\"data row2 col2\" >3</td>\n",
       "                        <td id=\"T_2a04c396_5827_11ec_a545_02420a391b68row2_col3\" class=\"data row2 col3\" >7</td>\n",
       "                        <td id=\"T_2a04c396_5827_11ec_a545_02420a391b68row2_col4\" class=\"data row2 col4\" >3</td>\n",
       "            </tr>\n",
       "            <tr>\n",
       "                        <th id=\"T_2a04c396_5827_11ec_a545_02420a391b68level0_row3\" class=\"row_heading level0 row3\" >3</th>\n",
       "                        <td id=\"T_2a04c396_5827_11ec_a545_02420a391b68row3_col0\" class=\"data row3 col0\" >Изменить структура категорий, что увеличит конверсию, т.к. пользователи быстрее найдут нужный товар</td>\n",
       "                        <td id=\"T_2a04c396_5827_11ec_a545_02420a391b68row3_col1\" class=\"data row3 col1\" >8</td>\n",
       "                        <td id=\"T_2a04c396_5827_11ec_a545_02420a391b68row3_col2\" class=\"data row3 col2\" >3</td>\n",
       "                        <td id=\"T_2a04c396_5827_11ec_a545_02420a391b68row3_col3\" class=\"data row3 col3\" >3</td>\n",
       "                        <td id=\"T_2a04c396_5827_11ec_a545_02420a391b68row3_col4\" class=\"data row3 col4\" >8</td>\n",
       "            </tr>\n",
       "            <tr>\n",
       "                        <th id=\"T_2a04c396_5827_11ec_a545_02420a391b68level0_row4\" class=\"row_heading level0 row4\" >4</th>\n",
       "                        <td id=\"T_2a04c396_5827_11ec_a545_02420a391b68row4_col0\" class=\"data row4 col0\" >Изменить цвет фона главной страницы, чтобы увеличить вовлеченность пользователей</td>\n",
       "                        <td id=\"T_2a04c396_5827_11ec_a545_02420a391b68row4_col1\" class=\"data row4 col1\" >3</td>\n",
       "                        <td id=\"T_2a04c396_5827_11ec_a545_02420a391b68row4_col2\" class=\"data row4 col2\" >1</td>\n",
       "                        <td id=\"T_2a04c396_5827_11ec_a545_02420a391b68row4_col3\" class=\"data row4 col3\" >1</td>\n",
       "                        <td id=\"T_2a04c396_5827_11ec_a545_02420a391b68row4_col4\" class=\"data row4 col4\" >1</td>\n",
       "            </tr>\n",
       "            <tr>\n",
       "                        <th id=\"T_2a04c396_5827_11ec_a545_02420a391b68level0_row5\" class=\"row_heading level0 row5\" >5</th>\n",
       "                        <td id=\"T_2a04c396_5827_11ec_a545_02420a391b68row5_col0\" class=\"data row5 col0\" >Добавить страницу отзывов клиентов о магазине, что позволит увеличить количество заказов</td>\n",
       "                        <td id=\"T_2a04c396_5827_11ec_a545_02420a391b68row5_col1\" class=\"data row5 col1\" >3</td>\n",
       "                        <td id=\"T_2a04c396_5827_11ec_a545_02420a391b68row5_col2\" class=\"data row5 col2\" >2</td>\n",
       "                        <td id=\"T_2a04c396_5827_11ec_a545_02420a391b68row5_col3\" class=\"data row5 col3\" >2</td>\n",
       "                        <td id=\"T_2a04c396_5827_11ec_a545_02420a391b68row5_col4\" class=\"data row5 col4\" >3</td>\n",
       "            </tr>\n",
       "            <tr>\n",
       "                        <th id=\"T_2a04c396_5827_11ec_a545_02420a391b68level0_row6\" class=\"row_heading level0 row6\" >6</th>\n",
       "                        <td id=\"T_2a04c396_5827_11ec_a545_02420a391b68row6_col0\" class=\"data row6 col0\" >Показать на главной странице баннеры с актуальными акциями и распродажами, чтобы увеличить конверсию</td>\n",
       "                        <td id=\"T_2a04c396_5827_11ec_a545_02420a391b68row6_col1\" class=\"data row6 col1\" >5</td>\n",
       "                        <td id=\"T_2a04c396_5827_11ec_a545_02420a391b68row6_col2\" class=\"data row6 col2\" >3</td>\n",
       "                        <td id=\"T_2a04c396_5827_11ec_a545_02420a391b68row6_col3\" class=\"data row6 col3\" >8</td>\n",
       "                        <td id=\"T_2a04c396_5827_11ec_a545_02420a391b68row6_col4\" class=\"data row6 col4\" >3</td>\n",
       "            </tr>\n",
       "            <tr>\n",
       "                        <th id=\"T_2a04c396_5827_11ec_a545_02420a391b68level0_row7\" class=\"row_heading level0 row7\" >7</th>\n",
       "                        <td id=\"T_2a04c396_5827_11ec_a545_02420a391b68row7_col0\" class=\"data row7 col0\" >Добавить форму подписки на все основные страницы, чтобы собрать базу клиентов для email-рассылок</td>\n",
       "                        <td id=\"T_2a04c396_5827_11ec_a545_02420a391b68row7_col1\" class=\"data row7 col1\" >10</td>\n",
       "                        <td id=\"T_2a04c396_5827_11ec_a545_02420a391b68row7_col2\" class=\"data row7 col2\" >7</td>\n",
       "                        <td id=\"T_2a04c396_5827_11ec_a545_02420a391b68row7_col3\" class=\"data row7 col3\" >8</td>\n",
       "                        <td id=\"T_2a04c396_5827_11ec_a545_02420a391b68row7_col4\" class=\"data row7 col4\" >5</td>\n",
       "            </tr>\n",
       "            <tr>\n",
       "                        <th id=\"T_2a04c396_5827_11ec_a545_02420a391b68level0_row8\" class=\"row_heading level0 row8\" >8</th>\n",
       "                        <td id=\"T_2a04c396_5827_11ec_a545_02420a391b68row8_col0\" class=\"data row8 col0\" >Запустить акцию, дающую скидку на товар в день рождения</td>\n",
       "                        <td id=\"T_2a04c396_5827_11ec_a545_02420a391b68row8_col1\" class=\"data row8 col1\" >1</td>\n",
       "                        <td id=\"T_2a04c396_5827_11ec_a545_02420a391b68row8_col2\" class=\"data row8 col2\" >9</td>\n",
       "                        <td id=\"T_2a04c396_5827_11ec_a545_02420a391b68row8_col3\" class=\"data row8 col3\" >9</td>\n",
       "                        <td id=\"T_2a04c396_5827_11ec_a545_02420a391b68row8_col4\" class=\"data row8 col4\" >5</td>\n",
       "            </tr>\n",
       "    </tbody></table>"
      ],
      "text/plain": [
       "<pandas.io.formats.style.Styler at 0x7f7721baab90>"
      ]
     },
     "execution_count": 35,
     "metadata": {},
     "output_type": "execute_result"
    }
   ],
   "source": [
    "data.style"
   ]
  },
  {
   "cell_type": "code",
   "execution_count": 36,
   "metadata": {},
   "outputs": [],
   "source": [
    "data.columns = map(str.lower, data.columns)"
   ]
  },
  {
   "cell_type": "markdown",
   "metadata": {},
   "source": [
    "Применим фреймворк ICE для приоритизации гипотез:"
   ]
  },
  {
   "cell_type": "code",
   "execution_count": 37,
   "metadata": {},
   "outputs": [
    {
     "data": {
      "text/html": [
       "<div>\n",
       "<style scoped>\n",
       "    .dataframe tbody tr th:only-of-type {\n",
       "        vertical-align: middle;\n",
       "    }\n",
       "\n",
       "    .dataframe tbody tr th {\n",
       "        vertical-align: top;\n",
       "    }\n",
       "\n",
       "    .dataframe thead th {\n",
       "        text-align: right;\n",
       "    }\n",
       "</style>\n",
       "<table border=\"1\" class=\"dataframe\">\n",
       "  <thead>\n",
       "    <tr style=\"text-align: right;\">\n",
       "      <th></th>\n",
       "      <th>hypothesis</th>\n",
       "      <th>ICE</th>\n",
       "    </tr>\n",
       "  </thead>\n",
       "  <tbody>\n",
       "    <tr>\n",
       "      <td>8</td>\n",
       "      <td>Запустить акцию, дающую скидку на товар в день рождения</td>\n",
       "      <td>16.0</td>\n",
       "    </tr>\n",
       "    <tr>\n",
       "      <td>0</td>\n",
       "      <td>Добавить два новых канала привлечения трафика, что позволит привлекать на 30% больше пользователей</td>\n",
       "      <td>13.0</td>\n",
       "    </tr>\n",
       "    <tr>\n",
       "      <td>7</td>\n",
       "      <td>Добавить форму подписки на все основные страницы, чтобы собрать базу клиентов для email-рассылок</td>\n",
       "      <td>11.0</td>\n",
       "    </tr>\n",
       "    <tr>\n",
       "      <td>6</td>\n",
       "      <td>Показать на главной странице баннеры с актуальными акциями и распродажами, чтобы увеличить конверсию</td>\n",
       "      <td>8.0</td>\n",
       "    </tr>\n",
       "    <tr>\n",
       "      <td>2</td>\n",
       "      <td>Добавить блоки рекомендаций товаров на сайт интернет магазина, чтобы повысить конверсию и средний чек заказа</td>\n",
       "      <td>7.0</td>\n",
       "    </tr>\n",
       "    <tr>\n",
       "      <td>1</td>\n",
       "      <td>Запустить собственную службу доставки, что сократит срок доставки заказов</td>\n",
       "      <td>2.0</td>\n",
       "    </tr>\n",
       "    <tr>\n",
       "      <td>5</td>\n",
       "      <td>Добавить страницу отзывов клиентов о магазине, что позволит увеличить количество заказов</td>\n",
       "      <td>1.0</td>\n",
       "    </tr>\n",
       "    <tr>\n",
       "      <td>3</td>\n",
       "      <td>Изменить структура категорий, что увеличит конверсию, т.к. пользователи быстрее найдут нужный товар</td>\n",
       "      <td>1.0</td>\n",
       "    </tr>\n",
       "    <tr>\n",
       "      <td>4</td>\n",
       "      <td>Изменить цвет фона главной страницы, чтобы увеличить вовлеченность пользователей</td>\n",
       "      <td>1.0</td>\n",
       "    </tr>\n",
       "  </tbody>\n",
       "</table>\n",
       "</div>"
      ],
      "text/plain": [
       "                                                                                                     hypothesis   ICE\n",
       "8                                                       Запустить акцию, дающую скидку на товар в день рождения  16.0\n",
       "0            Добавить два новых канала привлечения трафика, что позволит привлекать на 30% больше пользователей  13.0\n",
       "7              Добавить форму подписки на все основные страницы, чтобы собрать базу клиентов для email-рассылок  11.0\n",
       "6          Показать на главной странице баннеры с актуальными акциями и распродажами, чтобы увеличить конверсию   8.0\n",
       "2  Добавить блоки рекомендаций товаров на сайт интернет магазина, чтобы повысить конверсию и средний чек заказа   7.0\n",
       "1                                     Запустить собственную службу доставки, что сократит срок доставки заказов   2.0\n",
       "5                      Добавить страницу отзывов клиентов о магазине, что позволит увеличить количество заказов   1.0\n",
       "3           Изменить структура категорий, что увеличит конверсию, т.к. пользователи быстрее найдут нужный товар   1.0\n",
       "4                              Изменить цвет фона главной страницы, чтобы увеличить вовлеченность пользователей   1.0"
      ]
     },
     "execution_count": 37,
     "metadata": {},
     "output_type": "execute_result"
    }
   ],
   "source": [
    "data['ICE'] = (data['impact'] * data['confidence'])/data['efforts']\n",
    "data_ICE = data[['hypothesis', 'ICE']].sort_values('ICE', ascending=False)\n",
    "data_ICE['ICE'] = data_ICE['ICE'].round()\n",
    "data_ICE"
   ]
  },
  {
   "cell_type": "markdown",
   "metadata": {},
   "source": [
    "По методу ICE самая перспективная гипотеза: **запустить акцию, дающую скидку на товар в день рождения.**\n",
    "Затем по приоритетности идут гипотезы:\n",
    "- добавить два новых канала привлечения трафика, что позволит привлекать на 30% больше пользователей;\n",
    "- добавить форму подписки на все основные страницы, чтобы собрать базу клиентов для email-рассылок;\n",
    "- показать на главной странице баннеры с актуальными акциями и распродажами, чтобы увеличить конверсию.\n"
   ]
  },
  {
   "cell_type": "markdown",
   "metadata": {},
   "source": [
    "Теперь применим фреймворк RICE для приоритизации гипотез:"
   ]
  },
  {
   "cell_type": "code",
   "execution_count": 38,
   "metadata": {},
   "outputs": [],
   "source": [
    "data['RICE'] = (data['reach'] * data['impact'] * data['confidence'])/data['efforts']"
   ]
  },
  {
   "cell_type": "code",
   "execution_count": 39,
   "metadata": {},
   "outputs": [
    {
     "data": {
      "text/html": [
       "<div>\n",
       "<style scoped>\n",
       "    .dataframe tbody tr th:only-of-type {\n",
       "        vertical-align: middle;\n",
       "    }\n",
       "\n",
       "    .dataframe tbody tr th {\n",
       "        vertical-align: top;\n",
       "    }\n",
       "\n",
       "    .dataframe thead th {\n",
       "        text-align: right;\n",
       "    }\n",
       "</style>\n",
       "<table border=\"1\" class=\"dataframe\">\n",
       "  <thead>\n",
       "    <tr style=\"text-align: right;\">\n",
       "      <th></th>\n",
       "      <th>hypothesis</th>\n",
       "      <th>RICE</th>\n",
       "    </tr>\n",
       "  </thead>\n",
       "  <tbody>\n",
       "    <tr>\n",
       "      <td>7</td>\n",
       "      <td>Добавить форму подписки на все основные страницы, чтобы собрать базу клиентов для email-рассылок</td>\n",
       "      <td>112.0</td>\n",
       "    </tr>\n",
       "    <tr>\n",
       "      <td>2</td>\n",
       "      <td>Добавить блоки рекомендаций товаров на сайт интернет магазина, чтобы повысить конверсию и средний чек заказа</td>\n",
       "      <td>56.0</td>\n",
       "    </tr>\n",
       "    <tr>\n",
       "      <td>0</td>\n",
       "      <td>Добавить два новых канала привлечения трафика, что позволит привлекать на 30% больше пользователей</td>\n",
       "      <td>40.0</td>\n",
       "    </tr>\n",
       "    <tr>\n",
       "      <td>6</td>\n",
       "      <td>Показать на главной странице баннеры с актуальными акциями и распродажами, чтобы увеличить конверсию</td>\n",
       "      <td>40.0</td>\n",
       "    </tr>\n",
       "    <tr>\n",
       "      <td>8</td>\n",
       "      <td>Запустить акцию, дающую скидку на товар в день рождения</td>\n",
       "      <td>16.2</td>\n",
       "    </tr>\n",
       "    <tr>\n",
       "      <td>3</td>\n",
       "      <td>Изменить структура категорий, что увеличит конверсию, т.к. пользователи быстрее найдут нужный товар</td>\n",
       "      <td>9.0</td>\n",
       "    </tr>\n",
       "    <tr>\n",
       "      <td>1</td>\n",
       "      <td>Запустить собственную службу доставки, что сократит срок доставки заказов</td>\n",
       "      <td>4.0</td>\n",
       "    </tr>\n",
       "    <tr>\n",
       "      <td>5</td>\n",
       "      <td>Добавить страницу отзывов клиентов о магазине, что позволит увеличить количество заказов</td>\n",
       "      <td>4.0</td>\n",
       "    </tr>\n",
       "    <tr>\n",
       "      <td>4</td>\n",
       "      <td>Изменить цвет фона главной страницы, чтобы увеличить вовлеченность пользователей</td>\n",
       "      <td>3.0</td>\n",
       "    </tr>\n",
       "  </tbody>\n",
       "</table>\n",
       "</div>"
      ],
      "text/plain": [
       "                                                                                                     hypothesis   RICE\n",
       "7              Добавить форму подписки на все основные страницы, чтобы собрать базу клиентов для email-рассылок  112.0\n",
       "2  Добавить блоки рекомендаций товаров на сайт интернет магазина, чтобы повысить конверсию и средний чек заказа   56.0\n",
       "0            Добавить два новых канала привлечения трафика, что позволит привлекать на 30% больше пользователей   40.0\n",
       "6          Показать на главной странице баннеры с актуальными акциями и распродажами, чтобы увеличить конверсию   40.0\n",
       "8                                                       Запустить акцию, дающую скидку на товар в день рождения   16.2\n",
       "3           Изменить структура категорий, что увеличит конверсию, т.к. пользователи быстрее найдут нужный товар    9.0\n",
       "1                                     Запустить собственную службу доставки, что сократит срок доставки заказов    4.0\n",
       "5                      Добавить страницу отзывов клиентов о магазине, что позволит увеличить количество заказов    4.0\n",
       "4                              Изменить цвет фона главной страницы, чтобы увеличить вовлеченность пользователей    3.0"
      ]
     },
     "execution_count": 39,
     "metadata": {},
     "output_type": "execute_result"
    }
   ],
   "source": [
    "data[['hypothesis', 'RICE']].sort_values('RICE', ascending=False)"
   ]
  },
  {
   "cell_type": "code",
   "execution_count": 40,
   "metadata": {},
   "outputs": [],
   "source": [
    "data['ICE'] = data['ICE'].round()"
   ]
  },
  {
   "cell_type": "code",
   "execution_count": 41,
   "metadata": {},
   "outputs": [
    {
     "data": {
      "text/html": [
       "<style  type=\"text/css\" >\n",
       "    #T_2c7fada2_5827_11ec_a545_02420a391b68row0_col5 {\n",
       "            : ;\n",
       "            background-color:  #ffffb3;\n",
       "        }    #T_2c7fada2_5827_11ec_a545_02420a391b68row0_col6 {\n",
       "            : ;\n",
       "            background-color:  #ffffb3;\n",
       "        }    #T_2c7fada2_5827_11ec_a545_02420a391b68row1_col5 {\n",
       "            : ;\n",
       "            background-color:  #ffffb3;\n",
       "        }    #T_2c7fada2_5827_11ec_a545_02420a391b68row1_col6 {\n",
       "            : ;\n",
       "            background-color:  #ffffb3;\n",
       "        }    #T_2c7fada2_5827_11ec_a545_02420a391b68row2_col5 {\n",
       "            : ;\n",
       "            background-color:  #ffffb3;\n",
       "        }    #T_2c7fada2_5827_11ec_a545_02420a391b68row2_col6 {\n",
       "            : ;\n",
       "            background-color:  #ffffb3;\n",
       "        }    #T_2c7fada2_5827_11ec_a545_02420a391b68row3_col5 {\n",
       "            : ;\n",
       "            background-color:  #ffffb3;\n",
       "        }    #T_2c7fada2_5827_11ec_a545_02420a391b68row3_col6 {\n",
       "            : ;\n",
       "            background-color:  #ffffb3;\n",
       "        }    #T_2c7fada2_5827_11ec_a545_02420a391b68row4_col5 {\n",
       "            : ;\n",
       "            background-color:  #ffffb3;\n",
       "        }    #T_2c7fada2_5827_11ec_a545_02420a391b68row4_col6 {\n",
       "            : ;\n",
       "            background-color:  #ffffb3;\n",
       "        }    #T_2c7fada2_5827_11ec_a545_02420a391b68row5_col5 {\n",
       "            : ;\n",
       "            background-color:  #ffffb3;\n",
       "        }    #T_2c7fada2_5827_11ec_a545_02420a391b68row5_col6 {\n",
       "            : ;\n",
       "            background-color:  #ffffb3;\n",
       "        }    #T_2c7fada2_5827_11ec_a545_02420a391b68row6_col5 {\n",
       "            : ;\n",
       "            background-color:  #ffffb3;\n",
       "        }    #T_2c7fada2_5827_11ec_a545_02420a391b68row6_col6 {\n",
       "            : ;\n",
       "            background-color:  #ffffb3;\n",
       "        }    #T_2c7fada2_5827_11ec_a545_02420a391b68row7_col5 {\n",
       "            : ;\n",
       "            background-color:  #ffffb3;\n",
       "        }    #T_2c7fada2_5827_11ec_a545_02420a391b68row7_col6 {\n",
       "            color: red;\n",
       "            background-color:  #ffffb3;\n",
       "        }    #T_2c7fada2_5827_11ec_a545_02420a391b68row8_col5 {\n",
       "            color: red;\n",
       "            background-color:  #ffffb3;\n",
       "        }    #T_2c7fada2_5827_11ec_a545_02420a391b68row8_col6 {\n",
       "            : ;\n",
       "            background-color:  #ffffb3;\n",
       "        }</style><table id=\"T_2c7fada2_5827_11ec_a545_02420a391b68\" ><thead>    <tr>        <th class=\"blank level0\" ></th>        <th class=\"col_heading level0 col0\" >hypothesis</th>        <th class=\"col_heading level0 col1\" >reach</th>        <th class=\"col_heading level0 col2\" >impact</th>        <th class=\"col_heading level0 col3\" >confidence</th>        <th class=\"col_heading level0 col4\" >efforts</th>        <th class=\"col_heading level0 col5\" >ICE</th>        <th class=\"col_heading level0 col6\" >RICE</th>    </tr></thead><tbody>\n",
       "                <tr>\n",
       "                        <th id=\"T_2c7fada2_5827_11ec_a545_02420a391b68level0_row0\" class=\"row_heading level0 row0\" >0</th>\n",
       "                        <td id=\"T_2c7fada2_5827_11ec_a545_02420a391b68row0_col0\" class=\"data row0 col0\" >Добавить два новых канала привлечения трафика, что позволит привлекать на 30% больше пользователей</td>\n",
       "                        <td id=\"T_2c7fada2_5827_11ec_a545_02420a391b68row0_col1\" class=\"data row0 col1\" >3</td>\n",
       "                        <td id=\"T_2c7fada2_5827_11ec_a545_02420a391b68row0_col2\" class=\"data row0 col2\" >10</td>\n",
       "                        <td id=\"T_2c7fada2_5827_11ec_a545_02420a391b68row0_col3\" class=\"data row0 col3\" >8</td>\n",
       "                        <td id=\"T_2c7fada2_5827_11ec_a545_02420a391b68row0_col4\" class=\"data row0 col4\" >6</td>\n",
       "                        <td id=\"T_2c7fada2_5827_11ec_a545_02420a391b68row0_col5\" class=\"data row0 col5\" >13</td>\n",
       "                        <td id=\"T_2c7fada2_5827_11ec_a545_02420a391b68row0_col6\" class=\"data row0 col6\" >40</td>\n",
       "            </tr>\n",
       "            <tr>\n",
       "                        <th id=\"T_2c7fada2_5827_11ec_a545_02420a391b68level0_row1\" class=\"row_heading level0 row1\" >1</th>\n",
       "                        <td id=\"T_2c7fada2_5827_11ec_a545_02420a391b68row1_col0\" class=\"data row1 col0\" >Запустить собственную службу доставки, что сократит срок доставки заказов</td>\n",
       "                        <td id=\"T_2c7fada2_5827_11ec_a545_02420a391b68row1_col1\" class=\"data row1 col1\" >2</td>\n",
       "                        <td id=\"T_2c7fada2_5827_11ec_a545_02420a391b68row1_col2\" class=\"data row1 col2\" >5</td>\n",
       "                        <td id=\"T_2c7fada2_5827_11ec_a545_02420a391b68row1_col3\" class=\"data row1 col3\" >4</td>\n",
       "                        <td id=\"T_2c7fada2_5827_11ec_a545_02420a391b68row1_col4\" class=\"data row1 col4\" >10</td>\n",
       "                        <td id=\"T_2c7fada2_5827_11ec_a545_02420a391b68row1_col5\" class=\"data row1 col5\" >2</td>\n",
       "                        <td id=\"T_2c7fada2_5827_11ec_a545_02420a391b68row1_col6\" class=\"data row1 col6\" >4</td>\n",
       "            </tr>\n",
       "            <tr>\n",
       "                        <th id=\"T_2c7fada2_5827_11ec_a545_02420a391b68level0_row2\" class=\"row_heading level0 row2\" >2</th>\n",
       "                        <td id=\"T_2c7fada2_5827_11ec_a545_02420a391b68row2_col0\" class=\"data row2 col0\" >Добавить блоки рекомендаций товаров на сайт интернет магазина, чтобы повысить конверсию и средний чек заказа</td>\n",
       "                        <td id=\"T_2c7fada2_5827_11ec_a545_02420a391b68row2_col1\" class=\"data row2 col1\" >8</td>\n",
       "                        <td id=\"T_2c7fada2_5827_11ec_a545_02420a391b68row2_col2\" class=\"data row2 col2\" >3</td>\n",
       "                        <td id=\"T_2c7fada2_5827_11ec_a545_02420a391b68row2_col3\" class=\"data row2 col3\" >7</td>\n",
       "                        <td id=\"T_2c7fada2_5827_11ec_a545_02420a391b68row2_col4\" class=\"data row2 col4\" >3</td>\n",
       "                        <td id=\"T_2c7fada2_5827_11ec_a545_02420a391b68row2_col5\" class=\"data row2 col5\" >7</td>\n",
       "                        <td id=\"T_2c7fada2_5827_11ec_a545_02420a391b68row2_col6\" class=\"data row2 col6\" >56</td>\n",
       "            </tr>\n",
       "            <tr>\n",
       "                        <th id=\"T_2c7fada2_5827_11ec_a545_02420a391b68level0_row3\" class=\"row_heading level0 row3\" >3</th>\n",
       "                        <td id=\"T_2c7fada2_5827_11ec_a545_02420a391b68row3_col0\" class=\"data row3 col0\" >Изменить структура категорий, что увеличит конверсию, т.к. пользователи быстрее найдут нужный товар</td>\n",
       "                        <td id=\"T_2c7fada2_5827_11ec_a545_02420a391b68row3_col1\" class=\"data row3 col1\" >8</td>\n",
       "                        <td id=\"T_2c7fada2_5827_11ec_a545_02420a391b68row3_col2\" class=\"data row3 col2\" >3</td>\n",
       "                        <td id=\"T_2c7fada2_5827_11ec_a545_02420a391b68row3_col3\" class=\"data row3 col3\" >3</td>\n",
       "                        <td id=\"T_2c7fada2_5827_11ec_a545_02420a391b68row3_col4\" class=\"data row3 col4\" >8</td>\n",
       "                        <td id=\"T_2c7fada2_5827_11ec_a545_02420a391b68row3_col5\" class=\"data row3 col5\" >1</td>\n",
       "                        <td id=\"T_2c7fada2_5827_11ec_a545_02420a391b68row3_col6\" class=\"data row3 col6\" >9</td>\n",
       "            </tr>\n",
       "            <tr>\n",
       "                        <th id=\"T_2c7fada2_5827_11ec_a545_02420a391b68level0_row4\" class=\"row_heading level0 row4\" >4</th>\n",
       "                        <td id=\"T_2c7fada2_5827_11ec_a545_02420a391b68row4_col0\" class=\"data row4 col0\" >Изменить цвет фона главной страницы, чтобы увеличить вовлеченность пользователей</td>\n",
       "                        <td id=\"T_2c7fada2_5827_11ec_a545_02420a391b68row4_col1\" class=\"data row4 col1\" >3</td>\n",
       "                        <td id=\"T_2c7fada2_5827_11ec_a545_02420a391b68row4_col2\" class=\"data row4 col2\" >1</td>\n",
       "                        <td id=\"T_2c7fada2_5827_11ec_a545_02420a391b68row4_col3\" class=\"data row4 col3\" >1</td>\n",
       "                        <td id=\"T_2c7fada2_5827_11ec_a545_02420a391b68row4_col4\" class=\"data row4 col4\" >1</td>\n",
       "                        <td id=\"T_2c7fada2_5827_11ec_a545_02420a391b68row4_col5\" class=\"data row4 col5\" >1</td>\n",
       "                        <td id=\"T_2c7fada2_5827_11ec_a545_02420a391b68row4_col6\" class=\"data row4 col6\" >3</td>\n",
       "            </tr>\n",
       "            <tr>\n",
       "                        <th id=\"T_2c7fada2_5827_11ec_a545_02420a391b68level0_row5\" class=\"row_heading level0 row5\" >5</th>\n",
       "                        <td id=\"T_2c7fada2_5827_11ec_a545_02420a391b68row5_col0\" class=\"data row5 col0\" >Добавить страницу отзывов клиентов о магазине, что позволит увеличить количество заказов</td>\n",
       "                        <td id=\"T_2c7fada2_5827_11ec_a545_02420a391b68row5_col1\" class=\"data row5 col1\" >3</td>\n",
       "                        <td id=\"T_2c7fada2_5827_11ec_a545_02420a391b68row5_col2\" class=\"data row5 col2\" >2</td>\n",
       "                        <td id=\"T_2c7fada2_5827_11ec_a545_02420a391b68row5_col3\" class=\"data row5 col3\" >2</td>\n",
       "                        <td id=\"T_2c7fada2_5827_11ec_a545_02420a391b68row5_col4\" class=\"data row5 col4\" >3</td>\n",
       "                        <td id=\"T_2c7fada2_5827_11ec_a545_02420a391b68row5_col5\" class=\"data row5 col5\" >1</td>\n",
       "                        <td id=\"T_2c7fada2_5827_11ec_a545_02420a391b68row5_col6\" class=\"data row5 col6\" >4</td>\n",
       "            </tr>\n",
       "            <tr>\n",
       "                        <th id=\"T_2c7fada2_5827_11ec_a545_02420a391b68level0_row6\" class=\"row_heading level0 row6\" >6</th>\n",
       "                        <td id=\"T_2c7fada2_5827_11ec_a545_02420a391b68row6_col0\" class=\"data row6 col0\" >Показать на главной странице баннеры с актуальными акциями и распродажами, чтобы увеличить конверсию</td>\n",
       "                        <td id=\"T_2c7fada2_5827_11ec_a545_02420a391b68row6_col1\" class=\"data row6 col1\" >5</td>\n",
       "                        <td id=\"T_2c7fada2_5827_11ec_a545_02420a391b68row6_col2\" class=\"data row6 col2\" >3</td>\n",
       "                        <td id=\"T_2c7fada2_5827_11ec_a545_02420a391b68row6_col3\" class=\"data row6 col3\" >8</td>\n",
       "                        <td id=\"T_2c7fada2_5827_11ec_a545_02420a391b68row6_col4\" class=\"data row6 col4\" >3</td>\n",
       "                        <td id=\"T_2c7fada2_5827_11ec_a545_02420a391b68row6_col5\" class=\"data row6 col5\" >8</td>\n",
       "                        <td id=\"T_2c7fada2_5827_11ec_a545_02420a391b68row6_col6\" class=\"data row6 col6\" >40</td>\n",
       "            </tr>\n",
       "            <tr>\n",
       "                        <th id=\"T_2c7fada2_5827_11ec_a545_02420a391b68level0_row7\" class=\"row_heading level0 row7\" >7</th>\n",
       "                        <td id=\"T_2c7fada2_5827_11ec_a545_02420a391b68row7_col0\" class=\"data row7 col0\" >Добавить форму подписки на все основные страницы, чтобы собрать базу клиентов для email-рассылок</td>\n",
       "                        <td id=\"T_2c7fada2_5827_11ec_a545_02420a391b68row7_col1\" class=\"data row7 col1\" >10</td>\n",
       "                        <td id=\"T_2c7fada2_5827_11ec_a545_02420a391b68row7_col2\" class=\"data row7 col2\" >7</td>\n",
       "                        <td id=\"T_2c7fada2_5827_11ec_a545_02420a391b68row7_col3\" class=\"data row7 col3\" >8</td>\n",
       "                        <td id=\"T_2c7fada2_5827_11ec_a545_02420a391b68row7_col4\" class=\"data row7 col4\" >5</td>\n",
       "                        <td id=\"T_2c7fada2_5827_11ec_a545_02420a391b68row7_col5\" class=\"data row7 col5\" >11</td>\n",
       "                        <td id=\"T_2c7fada2_5827_11ec_a545_02420a391b68row7_col6\" class=\"data row7 col6\" >112</td>\n",
       "            </tr>\n",
       "            <tr>\n",
       "                        <th id=\"T_2c7fada2_5827_11ec_a545_02420a391b68level0_row8\" class=\"row_heading level0 row8\" >8</th>\n",
       "                        <td id=\"T_2c7fada2_5827_11ec_a545_02420a391b68row8_col0\" class=\"data row8 col0\" >Запустить акцию, дающую скидку на товар в день рождения</td>\n",
       "                        <td id=\"T_2c7fada2_5827_11ec_a545_02420a391b68row8_col1\" class=\"data row8 col1\" >1</td>\n",
       "                        <td id=\"T_2c7fada2_5827_11ec_a545_02420a391b68row8_col2\" class=\"data row8 col2\" >9</td>\n",
       "                        <td id=\"T_2c7fada2_5827_11ec_a545_02420a391b68row8_col3\" class=\"data row8 col3\" >9</td>\n",
       "                        <td id=\"T_2c7fada2_5827_11ec_a545_02420a391b68row8_col4\" class=\"data row8 col4\" >5</td>\n",
       "                        <td id=\"T_2c7fada2_5827_11ec_a545_02420a391b68row8_col5\" class=\"data row8 col5\" >16</td>\n",
       "                        <td id=\"T_2c7fada2_5827_11ec_a545_02420a391b68row8_col6\" class=\"data row8 col6\" >16.2</td>\n",
       "            </tr>\n",
       "    </tbody></table>"
      ],
      "text/plain": [
       "<pandas.io.formats.style.Styler at 0x7f77212f4850>"
      ]
     },
     "execution_count": 41,
     "metadata": {},
     "output_type": "execute_result"
    }
   ],
   "source": [
    "def highlight_max(s, props=''):\n",
    "    return np.where(s == np.nanmax(s.values), props, '')\n",
    "slice_ = ['ICE', 'RICE']\n",
    "data.style.apply(highlight_max, props='color:red;', axis=0, subset=slice_)\\\n",
    "         .set_properties(**{'background-color': '#ffffb3'}, subset=slice_)"
   ]
  },
  {
   "cell_type": "markdown",
   "metadata": {},
   "source": [
    "### Вывод"
   ]
  },
  {
   "cell_type": "markdown",
   "metadata": {},
   "source": [
    "При применении метода RICE для приоритизации гипотез получилась другая картина:\n",
    "самая перспективная гипотеза по RICE: **добавить форму подписки на все основные страницы, чтобы собрать базу клиентов для email-рассылок.**\n",
    "\n",
    "Затем по приоритетности идут гипотезы:\n",
    "- добавить блоки рекомендаций товаров на сайт интернет магазина, чтобы повысить конверсию и средний чек заказа;\n",
    "- добавить два новых канала привлечения трафика, что позволит привлекать на 30% больше пользователей;\n",
    "- показать на главной странице баннеры с актуальными акциями и распродажами, чтобы увеличить конверсию\n",
    "\n",
    "Гипотеза, которая была самой перспективной по методу ICE (запустить акцию, дающую скидку на товар в день рождения) теперь на пятом месте. Причина в том, что у неё параметр Reach равен 1, в то время как у гипотезы-лидера по RICE (добавить форму подписки на все основные страницы, чтобы собрать базу клиентов для email-рассылок) он равен 10. Это означает, что гипотеза-лидер по RICE имеет намного больший охват пользователей. (параметр Reach — скольких пользователей затронет изменение, которое планируется ввести).\n",
    "\n",
    "В целом по ICE и по RICE в лидерах одни и те же топ-5 гипотез, только приоритетности они находятся на разных позициях, в зависимости от фреймворка."
   ]
  },
  {
   "cell_type": "markdown",
   "metadata": {},
   "source": [
    "## Анализ A/B-теста"
   ]
  },
  {
   "cell_type": "markdown",
   "metadata": {},
   "source": [
    "### Изучение данных и подготовка к анализу\n"
   ]
  },
  {
   "cell_type": "markdown",
   "metadata": {},
   "source": [
    "Прочтём данные из файлов с результатами A/B-тестирования:"
   ]
  },
  {
   "cell_type": "code",
   "execution_count": 42,
   "metadata": {},
   "outputs": [],
   "source": [
    "orders = pd.read_csv('/datasets/orders.csv', sep=',')\n",
    "visitors = pd.read_csv('/datasets/visitors.csv', sep=',')"
   ]
  },
  {
   "cell_type": "code",
   "execution_count": 43,
   "metadata": {},
   "outputs": [],
   "source": [
    "orders['date'] = orders['date'].map(lambda x: dt.datetime.strptime(x, '%Y-%m-%d'))\n",
    "visitors['date'] = visitors['date'].map(lambda x: dt.datetime.strptime(x, '%Y-%m-%d'))"
   ]
  },
  {
   "cell_type": "code",
   "execution_count": 44,
   "metadata": {},
   "outputs": [
    {
     "name": "stdout",
     "output_type": "stream",
     "text": [
      "<class 'pandas.core.frame.DataFrame'>\n",
      "RangeIndex: 1197 entries, 0 to 1196\n",
      "Data columns (total 5 columns):\n",
      "transactionId    1197 non-null int64\n",
      "visitorId        1197 non-null int64\n",
      "date             1197 non-null datetime64[ns]\n",
      "revenue          1197 non-null int64\n",
      "group            1197 non-null object\n",
      "dtypes: datetime64[ns](1), int64(3), object(1)\n",
      "memory usage: 46.9+ KB\n"
     ]
    }
   ],
   "source": [
    "orders.info()"
   ]
  },
  {
   "cell_type": "code",
   "execution_count": 45,
   "metadata": {},
   "outputs": [
    {
     "name": "stdout",
     "output_type": "stream",
     "text": [
      "<class 'pandas.core.frame.DataFrame'>\n",
      "RangeIndex: 62 entries, 0 to 61\n",
      "Data columns (total 3 columns):\n",
      "date        62 non-null datetime64[ns]\n",
      "group       62 non-null object\n",
      "visitors    62 non-null int64\n",
      "dtypes: datetime64[ns](1), int64(1), object(1)\n",
      "memory usage: 1.6+ KB\n"
     ]
    }
   ],
   "source": [
    "visitors.info()"
   ]
  },
  {
   "cell_type": "code",
   "execution_count": 46,
   "metadata": {},
   "outputs": [
    {
     "data": {
      "text/plain": [
       "0"
      ]
     },
     "execution_count": 46,
     "metadata": {},
     "output_type": "execute_result"
    }
   ],
   "source": [
    "orders.duplicated().sum()"
   ]
  },
  {
   "cell_type": "code",
   "execution_count": 47,
   "metadata": {},
   "outputs": [
    {
     "data": {
      "text/plain": [
       "0"
      ]
     },
     "execution_count": 47,
     "metadata": {},
     "output_type": "execute_result"
    }
   ],
   "source": [
    "visitors.duplicated().sum()"
   ]
  },
  {
   "cell_type": "code",
   "execution_count": 48,
   "metadata": {},
   "outputs": [
    {
     "data": {
      "text/html": [
       "<div>\n",
       "<style scoped>\n",
       "    .dataframe tbody tr th:only-of-type {\n",
       "        vertical-align: middle;\n",
       "    }\n",
       "\n",
       "    .dataframe tbody tr th {\n",
       "        vertical-align: top;\n",
       "    }\n",
       "\n",
       "    .dataframe thead th {\n",
       "        text-align: right;\n",
       "    }\n",
       "</style>\n",
       "<table border=\"1\" class=\"dataframe\">\n",
       "  <thead>\n",
       "    <tr style=\"text-align: right;\">\n",
       "      <th></th>\n",
       "      <th>date</th>\n",
       "      <th>group</th>\n",
       "      <th>visitors</th>\n",
       "    </tr>\n",
       "  </thead>\n",
       "  <tbody>\n",
       "    <tr>\n",
       "      <td>0</td>\n",
       "      <td>2019-08-01</td>\n",
       "      <td>A</td>\n",
       "      <td>719</td>\n",
       "    </tr>\n",
       "    <tr>\n",
       "      <td>1</td>\n",
       "      <td>2019-08-02</td>\n",
       "      <td>A</td>\n",
       "      <td>619</td>\n",
       "    </tr>\n",
       "    <tr>\n",
       "      <td>2</td>\n",
       "      <td>2019-08-03</td>\n",
       "      <td>A</td>\n",
       "      <td>507</td>\n",
       "    </tr>\n",
       "    <tr>\n",
       "      <td>3</td>\n",
       "      <td>2019-08-04</td>\n",
       "      <td>A</td>\n",
       "      <td>717</td>\n",
       "    </tr>\n",
       "    <tr>\n",
       "      <td>4</td>\n",
       "      <td>2019-08-05</td>\n",
       "      <td>A</td>\n",
       "      <td>756</td>\n",
       "    </tr>\n",
       "  </tbody>\n",
       "</table>\n",
       "</div>"
      ],
      "text/plain": [
       "        date group  visitors\n",
       "0 2019-08-01     A       719\n",
       "1 2019-08-02     A       619\n",
       "2 2019-08-03     A       507\n",
       "3 2019-08-04     A       717\n",
       "4 2019-08-05     A       756"
      ]
     },
     "execution_count": 48,
     "metadata": {},
     "output_type": "execute_result"
    }
   ],
   "source": [
    "visitors.head()"
   ]
  },
  {
   "cell_type": "code",
   "execution_count": 49,
   "metadata": {},
   "outputs": [
    {
     "name": "stdout",
     "output_type": "stream",
     "text": [
      "Минимальная дата посещений: 2019-08-01 00:00:00\n",
      "Максимальная дата посещений: 2019-08-31 00:00:00\n"
     ]
    }
   ],
   "source": [
    "min_analysis_date = visitors['date'].min()\n",
    "max_analysis_date = visitors['date'].max()\n",
    "print('Минимальная дата посещений:', min_analysis_date)\n",
    "print('Максимальная дата посещений:', max_analysis_date)"
   ]
  },
  {
   "cell_type": "code",
   "execution_count": 50,
   "metadata": {},
   "outputs": [
    {
     "data": {
      "text/html": [
       "<div>\n",
       "<style scoped>\n",
       "    .dataframe tbody tr th:only-of-type {\n",
       "        vertical-align: middle;\n",
       "    }\n",
       "\n",
       "    .dataframe tbody tr th {\n",
       "        vertical-align: top;\n",
       "    }\n",
       "\n",
       "    .dataframe thead th {\n",
       "        text-align: right;\n",
       "    }\n",
       "</style>\n",
       "<table border=\"1\" class=\"dataframe\">\n",
       "  <thead>\n",
       "    <tr style=\"text-align: right;\">\n",
       "      <th></th>\n",
       "      <th>transactionId</th>\n",
       "      <th>visitorId</th>\n",
       "      <th>date</th>\n",
       "      <th>revenue</th>\n",
       "      <th>group</th>\n",
       "    </tr>\n",
       "  </thead>\n",
       "  <tbody>\n",
       "    <tr>\n",
       "      <td>0</td>\n",
       "      <td>3667963787</td>\n",
       "      <td>3312258926</td>\n",
       "      <td>2019-08-15</td>\n",
       "      <td>1650</td>\n",
       "      <td>B</td>\n",
       "    </tr>\n",
       "    <tr>\n",
       "      <td>1</td>\n",
       "      <td>2804400009</td>\n",
       "      <td>3642806036</td>\n",
       "      <td>2019-08-15</td>\n",
       "      <td>730</td>\n",
       "      <td>B</td>\n",
       "    </tr>\n",
       "    <tr>\n",
       "      <td>2</td>\n",
       "      <td>2961555356</td>\n",
       "      <td>4069496402</td>\n",
       "      <td>2019-08-15</td>\n",
       "      <td>400</td>\n",
       "      <td>A</td>\n",
       "    </tr>\n",
       "    <tr>\n",
       "      <td>3</td>\n",
       "      <td>3797467345</td>\n",
       "      <td>1196621759</td>\n",
       "      <td>2019-08-15</td>\n",
       "      <td>9759</td>\n",
       "      <td>B</td>\n",
       "    </tr>\n",
       "    <tr>\n",
       "      <td>4</td>\n",
       "      <td>2282983706</td>\n",
       "      <td>2322279887</td>\n",
       "      <td>2019-08-15</td>\n",
       "      <td>2308</td>\n",
       "      <td>B</td>\n",
       "    </tr>\n",
       "  </tbody>\n",
       "</table>\n",
       "</div>"
      ],
      "text/plain": [
       "   transactionId   visitorId       date  revenue group\n",
       "0     3667963787  3312258926 2019-08-15     1650     B\n",
       "1     2804400009  3642806036 2019-08-15      730     B\n",
       "2     2961555356  4069496402 2019-08-15      400     A\n",
       "3     3797467345  1196621759 2019-08-15     9759     B\n",
       "4     2282983706  2322279887 2019-08-15     2308     B"
      ]
     },
     "execution_count": 50,
     "metadata": {},
     "output_type": "execute_result"
    }
   ],
   "source": [
    "orders.head()"
   ]
  },
  {
   "cell_type": "code",
   "execution_count": 51,
   "metadata": {},
   "outputs": [
    {
     "data": {
      "text/html": [
       "<div>\n",
       "<style scoped>\n",
       "    .dataframe tbody tr th:only-of-type {\n",
       "        vertical-align: middle;\n",
       "    }\n",
       "\n",
       "    .dataframe tbody tr th {\n",
       "        vertical-align: top;\n",
       "    }\n",
       "\n",
       "    .dataframe thead th {\n",
       "        text-align: right;\n",
       "    }\n",
       "</style>\n",
       "<table border=\"1\" class=\"dataframe\">\n",
       "  <thead>\n",
       "    <tr style=\"text-align: right;\">\n",
       "      <th></th>\n",
       "      <th>transactionId</th>\n",
       "      <th>visitorId</th>\n",
       "      <th>date</th>\n",
       "      <th>revenue</th>\n",
       "      <th>group</th>\n",
       "    </tr>\n",
       "  </thead>\n",
       "  <tbody>\n",
       "    <tr>\n",
       "      <td>56</td>\n",
       "      <td>900025958</td>\n",
       "      <td>5114589</td>\n",
       "      <td>2019-08-16</td>\n",
       "      <td>570</td>\n",
       "      <td>B</td>\n",
       "    </tr>\n",
       "    <tr>\n",
       "      <td>573</td>\n",
       "      <td>1887336629</td>\n",
       "      <td>6958315</td>\n",
       "      <td>2019-08-04</td>\n",
       "      <td>1490</td>\n",
       "      <td>B</td>\n",
       "    </tr>\n",
       "    <tr>\n",
       "      <td>71</td>\n",
       "      <td>3679129301</td>\n",
       "      <td>8300375</td>\n",
       "      <td>2019-08-01</td>\n",
       "      <td>10510</td>\n",
       "      <td>B</td>\n",
       "    </tr>\n",
       "    <tr>\n",
       "      <td>703</td>\n",
       "      <td>4293855558</td>\n",
       "      <td>8300375</td>\n",
       "      <td>2019-08-07</td>\n",
       "      <td>1790</td>\n",
       "      <td>A</td>\n",
       "    </tr>\n",
       "    <tr>\n",
       "      <td>233</td>\n",
       "      <td>797272237</td>\n",
       "      <td>11685486</td>\n",
       "      <td>2019-08-23</td>\n",
       "      <td>6201</td>\n",
       "      <td>A</td>\n",
       "    </tr>\n",
       "    <tr>\n",
       "      <td>912</td>\n",
       "      <td>437876380</td>\n",
       "      <td>39475350</td>\n",
       "      <td>2019-08-08</td>\n",
       "      <td>3990</td>\n",
       "      <td>B</td>\n",
       "    </tr>\n",
       "    <tr>\n",
       "      <td>924</td>\n",
       "      <td>3778001764</td>\n",
       "      <td>47206413</td>\n",
       "      <td>2019-08-10</td>\n",
       "      <td>730</td>\n",
       "      <td>B</td>\n",
       "    </tr>\n",
       "    <tr>\n",
       "      <td>951</td>\n",
       "      <td>965979600</td>\n",
       "      <td>48147722</td>\n",
       "      <td>2019-08-22</td>\n",
       "      <td>1090</td>\n",
       "      <td>B</td>\n",
       "    </tr>\n",
       "    <tr>\n",
       "      <td>1003</td>\n",
       "      <td>2765619353</td>\n",
       "      <td>54447517</td>\n",
       "      <td>2019-08-08</td>\n",
       "      <td>130</td>\n",
       "      <td>A</td>\n",
       "    </tr>\n",
       "    <tr>\n",
       "      <td>567</td>\n",
       "      <td>2952636658</td>\n",
       "      <td>56960363</td>\n",
       "      <td>2019-08-09</td>\n",
       "      <td>1490</td>\n",
       "      <td>B</td>\n",
       "    </tr>\n",
       "  </tbody>\n",
       "</table>\n",
       "</div>"
      ],
      "text/plain": [
       "      transactionId  visitorId       date  revenue group\n",
       "56        900025958    5114589 2019-08-16      570     B\n",
       "573      1887336629    6958315 2019-08-04     1490     B\n",
       "71       3679129301    8300375 2019-08-01    10510     B\n",
       "703      4293855558    8300375 2019-08-07     1790     A\n",
       "233       797272237   11685486 2019-08-23     6201     A\n",
       "912       437876380   39475350 2019-08-08     3990     B\n",
       "924      3778001764   47206413 2019-08-10      730     B\n",
       "951       965979600   48147722 2019-08-22     1090     B\n",
       "1003     2765619353   54447517 2019-08-08      130     A\n",
       "567      2952636658   56960363 2019-08-09     1490     B"
      ]
     },
     "execution_count": 51,
     "metadata": {},
     "output_type": "execute_result"
    }
   ],
   "source": [
    "orders.sort_values('visitorId').head(10)"
   ]
  },
  {
   "cell_type": "code",
   "execution_count": 52,
   "metadata": {},
   "outputs": [
    {
     "data": {
      "text/html": [
       "<div>\n",
       "<style scoped>\n",
       "    .dataframe tbody tr th:only-of-type {\n",
       "        vertical-align: middle;\n",
       "    }\n",
       "\n",
       "    .dataframe tbody tr th {\n",
       "        vertical-align: top;\n",
       "    }\n",
       "\n",
       "    .dataframe thead th {\n",
       "        text-align: right;\n",
       "    }\n",
       "</style>\n",
       "<table border=\"1\" class=\"dataframe\">\n",
       "  <thead>\n",
       "    <tr style=\"text-align: right;\">\n",
       "      <th>group</th>\n",
       "      <th>A</th>\n",
       "      <th>B</th>\n",
       "    </tr>\n",
       "    <tr>\n",
       "      <th>visitorId</th>\n",
       "      <th></th>\n",
       "      <th></th>\n",
       "    </tr>\n",
       "  </thead>\n",
       "  <tbody>\n",
       "    <tr>\n",
       "      <td>5114589</td>\n",
       "      <td>NaN</td>\n",
       "      <td>1.0</td>\n",
       "    </tr>\n",
       "    <tr>\n",
       "      <td>6958315</td>\n",
       "      <td>NaN</td>\n",
       "      <td>1.0</td>\n",
       "    </tr>\n",
       "    <tr>\n",
       "      <td>8300375</td>\n",
       "      <td>1.0</td>\n",
       "      <td>1.0</td>\n",
       "    </tr>\n",
       "    <tr>\n",
       "      <td>11685486</td>\n",
       "      <td>1.0</td>\n",
       "      <td>NaN</td>\n",
       "    </tr>\n",
       "    <tr>\n",
       "      <td>39475350</td>\n",
       "      <td>NaN</td>\n",
       "      <td>1.0</td>\n",
       "    </tr>\n",
       "    <tr>\n",
       "      <td>47206413</td>\n",
       "      <td>NaN</td>\n",
       "      <td>1.0</td>\n",
       "    </tr>\n",
       "    <tr>\n",
       "      <td>48147722</td>\n",
       "      <td>NaN</td>\n",
       "      <td>1.0</td>\n",
       "    </tr>\n",
       "    <tr>\n",
       "      <td>54447517</td>\n",
       "      <td>1.0</td>\n",
       "      <td>NaN</td>\n",
       "    </tr>\n",
       "    <tr>\n",
       "      <td>56960363</td>\n",
       "      <td>NaN</td>\n",
       "      <td>1.0</td>\n",
       "    </tr>\n",
       "    <tr>\n",
       "      <td>66685450</td>\n",
       "      <td>1.0</td>\n",
       "      <td>NaN</td>\n",
       "    </tr>\n",
       "  </tbody>\n",
       "</table>\n",
       "</div>"
      ],
      "text/plain": [
       "group        A    B\n",
       "visitorId          \n",
       "5114589    NaN  1.0\n",
       "6958315    NaN  1.0\n",
       "8300375    1.0  1.0\n",
       "11685486   1.0  NaN\n",
       "39475350   NaN  1.0\n",
       "47206413   NaN  1.0\n",
       "48147722   NaN  1.0\n",
       "54447517   1.0  NaN\n",
       "56960363   NaN  1.0\n",
       "66685450   1.0  NaN"
      ]
     },
     "execution_count": 52,
     "metadata": {},
     "output_type": "execute_result"
    }
   ],
   "source": [
    "visitorId = orders.pivot_table(index = 'visitorId', columns = 'group', values = 'transactionId', aggfunc='count')\n",
    "visitorId.head(10)"
   ]
  },
  {
   "cell_type": "code",
   "execution_count": 53,
   "metadata": {},
   "outputs": [
    {
     "data": {
      "text/plain": [
       "58"
      ]
     },
     "execution_count": 53,
     "metadata": {},
     "output_type": "execute_result"
    }
   ],
   "source": [
    "len(visitorId.query('A>0 and B>0'))"
   ]
  },
  {
   "cell_type": "markdown",
   "metadata": {},
   "source": [
    "### Вывод"
   ]
  },
  {
   "cell_type": "markdown",
   "metadata": {},
   "source": [
    "В нашем распоряжении две таблицы - таблица с визитами (visitors) и таблица с заказами (orders). Дубликатов и пропусков в таблицах нет. Даты мы привели к формату дат. Теперь тип данных во всех колонках соответствует значениям. В тесте есть пользователи, которые попали в две разные группы, их 58. Для корректного проведения А/В теста такого быть не должно, но удалять их без согласования с заказчиком мы не будем, тк не знаем, сколько визитов совершили эти 58 пользователей до совершения заказов. Будем иметь ввиду, что попавшие в обе группы пользователи как-то влияют на результаты теста, из-зи них результат будет менее точным.\n",
    "Период проведения теста - один месяц (с 1 по 31 августа 2019 года)."
   ]
  },
  {
   "cell_type": "markdown",
   "metadata": {},
   "source": [
    "### График кумулятивной выручки по группам"
   ]
  },
  {
   "cell_type": "code",
   "execution_count": 54,
   "metadata": {},
   "outputs": [],
   "source": [
    "# создаем массив уникальных пар значений дат и групп теста\n",
    "datesGroups = orders[['date','group']].drop_duplicates() "
   ]
  },
  {
   "cell_type": "code",
   "execution_count": 55,
   "metadata": {},
   "outputs": [],
   "source": [
    "# получаем агрегированные кумулятивные по дням данные о заказах \n",
    "ordersAggregated = datesGroups.apply(lambda x: orders[np.logical_and(orders['date'] <= x['date'], orders['group'] == x['group'])]\\\n",
    ".agg({'date' : 'max', 'group' : 'max', 'transactionId' : pd.Series.nunique, 'visitorId' : pd.Series.nunique, 'revenue' : 'sum'}), axis=1).sort_values(by=['date','group'])"
   ]
  },
  {
   "cell_type": "code",
   "execution_count": 56,
   "metadata": {},
   "outputs": [],
   "source": [
    "# получаем агрегированные кумулятивные по дням данные о посетителях интернет-магазина\n",
    "visitorsAggregated = datesGroups.apply(lambda x: visitors[np.logical_and(visitors['date'] <= x['date'], visitors['group'] == x['group'])].agg({'date' : 'max', 'group' : 'max', 'visitors' : 'sum'}), axis=1).sort_values(by=['date','group'])"
   ]
  },
  {
   "cell_type": "code",
   "execution_count": 57,
   "metadata": {},
   "outputs": [],
   "source": [
    "# объединяем кумулятивные данные в одной таблице и присваиваем ее столбцам понятные названия\n",
    "cumulativeData = ordersAggregated.merge(visitorsAggregated, left_on=['date', 'group'], right_on=['date', 'group'])\n",
    "cumulativeData.columns = ['date', 'group', 'orders', 'buyers', 'revenue', 'visitors']"
   ]
  },
  {
   "cell_type": "code",
   "execution_count": 58,
   "metadata": {},
   "outputs": [
    {
     "data": {
      "text/html": [
       "<div>\n",
       "<style scoped>\n",
       "    .dataframe tbody tr th:only-of-type {\n",
       "        vertical-align: middle;\n",
       "    }\n",
       "\n",
       "    .dataframe tbody tr th {\n",
       "        vertical-align: top;\n",
       "    }\n",
       "\n",
       "    .dataframe thead th {\n",
       "        text-align: right;\n",
       "    }\n",
       "</style>\n",
       "<table border=\"1\" class=\"dataframe\">\n",
       "  <thead>\n",
       "    <tr style=\"text-align: right;\">\n",
       "      <th></th>\n",
       "      <th>date</th>\n",
       "      <th>group</th>\n",
       "      <th>orders</th>\n",
       "      <th>buyers</th>\n",
       "      <th>revenue</th>\n",
       "      <th>visitors</th>\n",
       "    </tr>\n",
       "  </thead>\n",
       "  <tbody>\n",
       "    <tr>\n",
       "      <td>0</td>\n",
       "      <td>2019-08-01</td>\n",
       "      <td>A</td>\n",
       "      <td>24</td>\n",
       "      <td>20</td>\n",
       "      <td>148579</td>\n",
       "      <td>719</td>\n",
       "    </tr>\n",
       "    <tr>\n",
       "      <td>1</td>\n",
       "      <td>2019-08-01</td>\n",
       "      <td>B</td>\n",
       "      <td>21</td>\n",
       "      <td>20</td>\n",
       "      <td>101217</td>\n",
       "      <td>713</td>\n",
       "    </tr>\n",
       "    <tr>\n",
       "      <td>2</td>\n",
       "      <td>2019-08-02</td>\n",
       "      <td>A</td>\n",
       "      <td>44</td>\n",
       "      <td>38</td>\n",
       "      <td>242401</td>\n",
       "      <td>1338</td>\n",
       "    </tr>\n",
       "    <tr>\n",
       "      <td>3</td>\n",
       "      <td>2019-08-02</td>\n",
       "      <td>B</td>\n",
       "      <td>45</td>\n",
       "      <td>43</td>\n",
       "      <td>266748</td>\n",
       "      <td>1294</td>\n",
       "    </tr>\n",
       "    <tr>\n",
       "      <td>4</td>\n",
       "      <td>2019-08-03</td>\n",
       "      <td>A</td>\n",
       "      <td>68</td>\n",
       "      <td>62</td>\n",
       "      <td>354874</td>\n",
       "      <td>1845</td>\n",
       "    </tr>\n",
       "  </tbody>\n",
       "</table>\n",
       "</div>"
      ],
      "text/plain": [
       "        date group  orders  buyers  revenue  visitors\n",
       "0 2019-08-01     A      24      20   148579       719\n",
       "1 2019-08-01     B      21      20   101217       713\n",
       "2 2019-08-02     A      44      38   242401      1338\n",
       "3 2019-08-02     B      45      43   266748      1294\n",
       "4 2019-08-03     A      68      62   354874      1845"
      ]
     },
     "execution_count": 58,
     "metadata": {},
     "output_type": "execute_result"
    }
   ],
   "source": [
    "cumulativeData.head(5)"
   ]
  },
  {
   "cell_type": "code",
   "execution_count": 59,
   "metadata": {},
   "outputs": [],
   "source": [
    "# датафрейм с кумулятивным количеством заказов и кумулятивной выручкой по дням в группе А\n",
    "cumulativeRevenueA = cumulativeData[cumulativeData['group']=='A'][['date','revenue', 'orders']]"
   ]
  },
  {
   "cell_type": "code",
   "execution_count": 60,
   "metadata": {},
   "outputs": [],
   "source": [
    "# датафрейм с кумулятивным количеством заказов и кумулятивной выручкой по дням в группе B\n",
    "cumulativeRevenueB = cumulativeData[cumulativeData['group']=='B'][['date','revenue', 'orders']]"
   ]
  },
  {
   "cell_type": "code",
   "execution_count": 61,
   "metadata": {},
   "outputs": [
    {
     "data": {
      "image/png": "[encoded data removed]",
      "text/plain": [
       "<Figure size 864x432 with 1 Axes>"
      ]
     },
     "metadata": {
      "needs_background": "light"
     },
     "output_type": "display_data"
    }
   ],
   "source": [
    "# Строим график выручки группы А\n",
    "plt.figure(figsize =(12, 6))\n",
    "plt.plot(cumulativeRevenueA['date'], cumulativeRevenueA['revenue'], label='A')\n",
    "# Строим график выручки группы B\n",
    "plt.plot(cumulativeRevenueB['date'], cumulativeRevenueB['revenue'], label='B')\n",
    "plt.title('График кумулятивной выручки по группам', fontsize=15)\n",
    "plt.xlabel('Дата', fontsize=14)\n",
    "plt.ylabel('Кумулятивная выручка', fontsize=14)\n",
    "plt.annotate('скачок', xy=('2019-08-17', 2800000), xytext=('2019-08-10', 3500000),\n",
    "            arrowprops=dict(facecolor='g'))\n",
    "plt.annotate('отрыв', xy=('2019-08-05', 800000), xytext=('2019-08-05', 2000000),\n",
    "            arrowprops=dict(facecolor='g')) \n",
    "plt.legend()\n",
    "plt.show()"
   ]
  },
  {
   "cell_type": "markdown",
   "metadata": {},
   "source": [
    "Выручка увеличивается в течение всего теста сначала равномерно в обеих группах, а затем чуть позже середины теста график группы В в одной точке резко растет и группа В начинает лидировать весь остаток теста. Это может сигнализировать о всплеске числа заказов, либо о появлении очень дорогих заказов в выборке. "
   ]
  },
  {
   "cell_type": "markdown",
   "metadata": {},
   "source": [
    "### График кумулятивного среднего чека по группам"
   ]
  },
  {
   "cell_type": "markdown",
   "metadata": {},
   "source": [
    "Построим графики среднего чека по группам — разделим кумулятивную выручку на кумулятивное число заказов:"
   ]
  },
  {
   "cell_type": "code",
   "execution_count": 62,
   "metadata": {},
   "outputs": [
    {
     "data": {
      "text/plain": [
       "<matplotlib.legend.Legend at 0x7f77213eec50>"
      ]
     },
     "execution_count": 62,
     "metadata": {},
     "output_type": "execute_result"
    },
    {
     "data": {
      "image/png": "[encoded data removed]",
      "text/plain": [
       "<Figure size 864x432 with 1 Axes>"
      ]
     },
     "metadata": {
      "needs_background": "light"
     },
     "output_type": "display_data"
    }
   ],
   "source": [
    "plt.figure(figsize =(12, 6))\n",
    "plt.plot(cumulativeRevenueA['date'], cumulativeRevenueA['revenue']/cumulativeRevenueA['orders'], label='A')\n",
    "plt.plot(cumulativeRevenueB['date'], cumulativeRevenueB['revenue']/cumulativeRevenueB['orders'], label='B')\n",
    "plt.title('График кумулятивного среднего чека по группам', fontsize=15)\n",
    "plt.xlabel('Дата', fontsize=14)\n",
    "plt.ylabel('Кумулятивный средний чек', fontsize=14)\n",
    "plt.legend()"
   ]
  },
  {
   "cell_type": "markdown",
   "metadata": {},
   "source": [
    "Кумулятивное значение среднего чека по сегментам сильно колеблется. Принимать решение по этой метрике рано. Требуется дополнительный анализ выбросов, которые могут искажать результаты."
   ]
  },
  {
   "cell_type": "markdown",
   "metadata": {},
   "source": [
    "### График относительного изменения кумулятивного среднего чека группы B к группе A"
   ]
  },
  {
   "cell_type": "code",
   "execution_count": 63,
   "metadata": {},
   "outputs": [],
   "source": [
    "# собираем данные в одном датафрейме\n",
    "mergedCumulativeRevenue = cumulativeRevenueA.merge(cumulativeRevenueB, left_on='date', right_on='date', how='left', suffixes=['A', 'B'])"
   ]
  },
  {
   "cell_type": "code",
   "execution_count": 64,
   "metadata": {},
   "outputs": [
    {
     "data": {
      "text/plain": [
       "Text(0, 0.5, 'Относительное различие')"
      ]
     },
     "execution_count": 64,
     "metadata": {},
     "output_type": "execute_result"
    },
    {
     "data": {
      "image/png": "[encoded data removed]",
      "text/plain": [
       "<Figure size 864x432 with 1 Axes>"
      ]
     },
     "metadata": {
      "needs_background": "light"
     },
     "output_type": "display_data"
    }
   ],
   "source": [
    "# cтроим отношение средних чеков\n",
    "plt.figure(figsize =(12, 6))\n",
    "plt.plot(mergedCumulativeRevenue['date'], (mergedCumulativeRevenue['revenueB']/mergedCumulativeRevenue['ordersB'])/(mergedCumulativeRevenue['revenueA']/mergedCumulativeRevenue['ordersA'])-1)\n",
    "# добавляем ось X\n",
    "plt.axhline(y=0, color='black', linestyle='--')\n",
    "plt.title('График относительного различия в среднем чеке между группами', fontsize=15)\n",
    "plt.xlabel('Дата', fontsize=14)\n",
    "plt.ylabel('Относительное различие', fontsize=14)"
   ]
  },
  {
   "cell_type": "markdown",
   "metadata": {},
   "source": [
    "В нескольких точках график различия между сегментами резко «скачет». Видимо, именно тогда были совершены аномальные заказы."
   ]
  },
  {
   "cell_type": "markdown",
   "metadata": {},
   "source": [
    "### График кумулятивной конверсии по группам."
   ]
  },
  {
   "cell_type": "code",
   "execution_count": 65,
   "metadata": {},
   "outputs": [],
   "source": [
    "# считаем кумулятивную конверсию\n",
    "cumulativeData['conversion'] = cumulativeData['orders']/cumulativeData['visitors']"
   ]
  },
  {
   "cell_type": "code",
   "execution_count": 66,
   "metadata": {},
   "outputs": [],
   "source": [
    "# отделяем данные по группе A\n",
    "cumulativeDataA = cumulativeData[cumulativeData['group']=='A']"
   ]
  },
  {
   "cell_type": "code",
   "execution_count": 67,
   "metadata": {},
   "outputs": [],
   "source": [
    "# отделяем данные по группе B\n",
    "cumulativeDataB = cumulativeData[cumulativeData['group']=='B']"
   ]
  },
  {
   "cell_type": "code",
   "execution_count": 68,
   "metadata": {},
   "outputs": [
    {
     "data": {
      "text/plain": [
       "['2019-07-31', '2019-09-01', 0, 0.05]"
      ]
     },
     "execution_count": 68,
     "metadata": {},
     "output_type": "execute_result"
    },
    {
     "data": {
      "image/png": "[encoded data removed]",
      "text/plain": [
       "<Figure size 864x432 with 1 Axes>"
      ]
     },
     "metadata": {
      "needs_background": "light"
     },
     "output_type": "display_data"
    }
   ],
   "source": [
    "# строим графики\n",
    "plt.figure(figsize =(12, 6))\n",
    "plt.plot(cumulativeDataA['date'], cumulativeDataA['conversion'], label='A')\n",
    "plt.plot(cumulativeDataB['date'], cumulativeDataB['conversion'], label='B')\n",
    "plt.title('График кумулятивной конверсии по группам', fontsize=15)\n",
    "plt.xlabel('Дата', fontsize=14)\n",
    "plt.ylabel('Конверсия', fontsize=14)\n",
    "plt.legend()\n",
    "\n",
    "# задаем масштаб осей\n",
    "plt.axis([\"2019-07-31\", '2019-09-01', 0, 0.05])"
   ]
  },
  {
   "cell_type": "markdown",
   "metadata": {},
   "source": [
    "Некоторое время в начале сегмент А имел большую конверсию, но  сегмент В выровнялся и зафиксировался примерно около одного значения, больше чем значения сегмента А."
   ]
  },
  {
   "cell_type": "markdown",
   "metadata": {},
   "source": [
    "### График относительного изменения кумулятивной конверсии"
   ]
  },
  {
   "cell_type": "code",
   "execution_count": 69,
   "metadata": {},
   "outputs": [],
   "source": [
    "mergedCumulativeConversions = cumulativeDataA[['date','conversion']].merge(cumulativeDataB[['date','conversion']], left_on='date', right_on='date', how='left', suffixes=['A', 'B'])"
   ]
  },
  {
   "cell_type": "code",
   "execution_count": 70,
   "metadata": {},
   "outputs": [
    {
     "data": {
      "text/plain": [
       "0    -0.117637\n",
       "1     0.057503\n",
       "2    -0.082045\n",
       "3    -0.075398\n",
       "4    -0.062659\n",
       "5     0.028655\n",
       "6     0.051764\n",
       "7     0.105562\n",
       "8     0.147998\n",
       "9     0.178524\n",
       "10    0.166894\n",
       "11    0.153001\n",
       "12    0.169860\n",
       "13    0.149508\n",
       "14    0.208611\n",
       "15    0.196741\n",
       "16    0.202231\n",
       "17    0.160047\n",
       "18    0.148564\n",
       "19    0.167169\n",
       "20    0.132949\n",
       "21    0.146582\n",
       "22    0.108338\n",
       "23    0.108165\n",
       "24    0.110494\n",
       "25    0.129238\n",
       "26    0.097221\n",
       "27    0.111443\n",
       "28    0.105957\n",
       "29    0.127550\n",
       "30    0.138079\n",
       "dtype: float64"
      ]
     },
     "execution_count": 70,
     "metadata": {},
     "output_type": "execute_result"
    }
   ],
   "source": [
    "mergedCumulativeConversions['conversionB']/mergedCumulativeConversions['conversionA']-1"
   ]
  },
  {
   "cell_type": "code",
   "execution_count": 71,
   "metadata": {},
   "outputs": [
    {
     "data": {
      "text/plain": [
       "Text(0, 0.5, 'Относительное различие')"
      ]
     },
     "execution_count": 71,
     "metadata": {},
     "output_type": "execute_result"
    },
    {
     "data": {
      "image/png": "[encoded data removed]",
      "text/plain": [
       "<Figure size 864x432 with 1 Axes>"
      ]
     },
     "metadata": {
      "needs_background": "light"
     },
     "output_type": "display_data"
    }
   ],
   "source": [
    "plt.figure(figsize =(12, 6))\n",
    "plt.plot(mergedCumulativeConversions['date'], mergedCumulativeConversions['conversionB']/mergedCumulativeConversions['conversionA']-1, label=\"Относительный прирост конверсии группы B относительно группы A\")\n",
    "\n",
    "\n",
    "plt.axhline(y=0, color='black', linestyle='--')\n",
    "plt.axhline(y=0.139, color='grey', linestyle='--')\n",
    "plt.axis([\"2019-07-31\", '2019-09-01', -0.5, 0.5])\n",
    "plt.title('График относительного изменения кумулятивной конверсии', fontsize=15)\n",
    "plt.xlabel('Дата', fontsize=14)\n",
    "plt.ylabel('Относительное различие', fontsize=14)\n"
   ]
  },
  {
   "cell_type": "markdown",
   "metadata": {},
   "source": [
    "Почти с самого начала теста группа В лидирует по конверсии и зафиксировалась около прироста в 14% относительно группы А."
   ]
  },
  {
   "cell_type": "markdown",
   "metadata": {},
   "source": [
    "### Точечный график количества заказов по пользователям"
   ]
  },
  {
   "cell_type": "code",
   "execution_count": 72,
   "metadata": {},
   "outputs": [
    {
     "data": {
      "text/html": [
       "<div>\n",
       "<style scoped>\n",
       "    .dataframe tbody tr th:only-of-type {\n",
       "        vertical-align: middle;\n",
       "    }\n",
       "\n",
       "    .dataframe tbody tr th {\n",
       "        vertical-align: top;\n",
       "    }\n",
       "\n",
       "    .dataframe thead th {\n",
       "        text-align: right;\n",
       "    }\n",
       "</style>\n",
       "<table border=\"1\" class=\"dataframe\">\n",
       "  <thead>\n",
       "    <tr style=\"text-align: right;\">\n",
       "      <th></th>\n",
       "      <th>transactionId</th>\n",
       "      <th>visitorId</th>\n",
       "      <th>date</th>\n",
       "      <th>revenue</th>\n",
       "      <th>group</th>\n",
       "    </tr>\n",
       "  </thead>\n",
       "  <tbody>\n",
       "    <tr>\n",
       "      <td>0</td>\n",
       "      <td>3667963787</td>\n",
       "      <td>3312258926</td>\n",
       "      <td>2019-08-15</td>\n",
       "      <td>1650</td>\n",
       "      <td>B</td>\n",
       "    </tr>\n",
       "    <tr>\n",
       "      <td>1</td>\n",
       "      <td>2804400009</td>\n",
       "      <td>3642806036</td>\n",
       "      <td>2019-08-15</td>\n",
       "      <td>730</td>\n",
       "      <td>B</td>\n",
       "    </tr>\n",
       "    <tr>\n",
       "      <td>2</td>\n",
       "      <td>2961555356</td>\n",
       "      <td>4069496402</td>\n",
       "      <td>2019-08-15</td>\n",
       "      <td>400</td>\n",
       "      <td>A</td>\n",
       "    </tr>\n",
       "    <tr>\n",
       "      <td>3</td>\n",
       "      <td>3797467345</td>\n",
       "      <td>1196621759</td>\n",
       "      <td>2019-08-15</td>\n",
       "      <td>9759</td>\n",
       "      <td>B</td>\n",
       "    </tr>\n",
       "    <tr>\n",
       "      <td>4</td>\n",
       "      <td>2282983706</td>\n",
       "      <td>2322279887</td>\n",
       "      <td>2019-08-15</td>\n",
       "      <td>2308</td>\n",
       "      <td>B</td>\n",
       "    </tr>\n",
       "  </tbody>\n",
       "</table>\n",
       "</div>"
      ],
      "text/plain": [
       "   transactionId   visitorId       date  revenue group\n",
       "0     3667963787  3312258926 2019-08-15     1650     B\n",
       "1     2804400009  3642806036 2019-08-15      730     B\n",
       "2     2961555356  4069496402 2019-08-15      400     A\n",
       "3     3797467345  1196621759 2019-08-15     9759     B\n",
       "4     2282983706  2322279887 2019-08-15     2308     B"
      ]
     },
     "execution_count": 72,
     "metadata": {},
     "output_type": "execute_result"
    }
   ],
   "source": [
    "orders.head()"
   ]
  },
  {
   "cell_type": "markdown",
   "metadata": {},
   "source": [
    "Подсчитаем количество заказов по пользователям и посмотрим на результат:"
   ]
  },
  {
   "cell_type": "code",
   "execution_count": 73,
   "metadata": {},
   "outputs": [],
   "source": [
    "ordersByUsers = (\n",
    "    orders.drop(['group', 'revenue', 'date'], axis=1)\n",
    "    .groupby('visitorId', as_index=False)\n",
    "    .agg({'transactionId': pd.Series.nunique})\n",
    ")\n",
    "\n",
    "ordersByUsers.columns = ['userId', 'orders']\n"
   ]
  },
  {
   "cell_type": "code",
   "execution_count": 74,
   "metadata": {},
   "outputs": [
    {
     "data": {
      "text/html": [
       "<div>\n",
       "<style scoped>\n",
       "    .dataframe tbody tr th:only-of-type {\n",
       "        vertical-align: middle;\n",
       "    }\n",
       "\n",
       "    .dataframe tbody tr th {\n",
       "        vertical-align: top;\n",
       "    }\n",
       "\n",
       "    .dataframe thead th {\n",
       "        text-align: right;\n",
       "    }\n",
       "</style>\n",
       "<table border=\"1\" class=\"dataframe\">\n",
       "  <thead>\n",
       "    <tr style=\"text-align: right;\">\n",
       "      <th></th>\n",
       "      <th>userId</th>\n",
       "      <th>orders</th>\n",
       "    </tr>\n",
       "  </thead>\n",
       "  <tbody>\n",
       "    <tr>\n",
       "      <td>1023</td>\n",
       "      <td>4256040402</td>\n",
       "      <td>11</td>\n",
       "    </tr>\n",
       "    <tr>\n",
       "      <td>591</td>\n",
       "      <td>2458001652</td>\n",
       "      <td>11</td>\n",
       "    </tr>\n",
       "    <tr>\n",
       "      <td>569</td>\n",
       "      <td>2378935119</td>\n",
       "      <td>9</td>\n",
       "    </tr>\n",
       "    <tr>\n",
       "      <td>487</td>\n",
       "      <td>2038680547</td>\n",
       "      <td>8</td>\n",
       "    </tr>\n",
       "    <tr>\n",
       "      <td>44</td>\n",
       "      <td>199603092</td>\n",
       "      <td>5</td>\n",
       "    </tr>\n",
       "    <tr>\n",
       "      <td>744</td>\n",
       "      <td>3062433592</td>\n",
       "      <td>5</td>\n",
       "    </tr>\n",
       "    <tr>\n",
       "      <td>55</td>\n",
       "      <td>237748145</td>\n",
       "      <td>5</td>\n",
       "    </tr>\n",
       "    <tr>\n",
       "      <td>917</td>\n",
       "      <td>3803269165</td>\n",
       "      <td>5</td>\n",
       "    </tr>\n",
       "    <tr>\n",
       "      <td>299</td>\n",
       "      <td>1230306981</td>\n",
       "      <td>5</td>\n",
       "    </tr>\n",
       "    <tr>\n",
       "      <td>897</td>\n",
       "      <td>3717692402</td>\n",
       "      <td>5</td>\n",
       "    </tr>\n",
       "  </tbody>\n",
       "</table>\n",
       "</div>"
      ],
      "text/plain": [
       "          userId  orders\n",
       "1023  4256040402      11\n",
       "591   2458001652      11\n",
       "569   2378935119       9\n",
       "487   2038680547       8\n",
       "44     199603092       5\n",
       "744   3062433592       5\n",
       "55     237748145       5\n",
       "917   3803269165       5\n",
       "299   1230306981       5\n",
       "897   3717692402       5"
      ]
     },
     "execution_count": 74,
     "metadata": {},
     "output_type": "execute_result"
    }
   ],
   "source": [
    "ordersByUsers.sort_values(by='orders', ascending=False).head(10)"
   ]
  },
  {
   "cell_type": "markdown",
   "metadata": {},
   "source": [
    "Есть пользователи, которые совершали 8, 9 и 11 заказов."
   ]
  },
  {
   "cell_type": "markdown",
   "metadata": {},
   "source": [
    "Построим гистрограмму распределения количества заказов на одного пользователя."
   ]
  },
  {
   "cell_type": "code",
   "execution_count": 75,
   "metadata": {},
   "outputs": [
    {
     "data": {
      "image/png": "[encoded data removed]",
      "text/plain": [
       "<Figure size 864x360 with 1 Axes>"
      ]
     },
     "metadata": {
      "needs_background": "light"
     },
     "output_type": "display_data"
    }
   ],
   "source": [
    "plt.figure(figsize= (12,5))\n",
    "ordersByUsers['orders'].hist().set(title = 'Распределение количества заказов на одного пользователя', xlabel = 'Число заказов', ylabel = 'Частота')\n",
    "plt.show()"
   ]
  },
  {
   "cell_type": "markdown",
   "metadata": {},
   "source": [
    "Большинство покупателей заказывали только один раз. Однако доля пользователей с 2-4 заказами тоже значительна."
   ]
  },
  {
   "cell_type": "markdown",
   "metadata": {},
   "source": [
    "Построим точечную диаграмму числа заказов на одного пользователя:"
   ]
  },
  {
   "cell_type": "code",
   "execution_count": 76,
   "metadata": {},
   "outputs": [
    {
     "data": {
      "text/plain": [
       "Text(0, 0.5, 'Частотность')"
      ]
     },
     "execution_count": 76,
     "metadata": {},
     "output_type": "execute_result"
    },
    {
     "data": {
      "image/png": "[encoded data removed]",
      "text/plain": [
       "<Figure size 864x360 with 1 Axes>"
      ]
     },
     "metadata": {
      "needs_background": "light"
     },
     "output_type": "display_data"
    }
   ],
   "source": [
    "plt.figure(figsize= (12,5))\n",
    "x_values = pd.Series(range(0, len(ordersByUsers)))\n",
    "plt.scatter(x_values, ordersByUsers['orders']) \n",
    "plt.title('Точечный график количества заказов по пользователям', fontsize=12)\n",
    "plt.xlabel('Число заказов', fontsize=10)\n",
    "plt.ylabel('Частотность', fontsize=10)\n"
   ]
  },
  {
   "cell_type": "markdown",
   "metadata": {},
   "source": [
    "Выводы подтверждаются: много пользователей с 2-4 заказами. Их точная доля не ясна — непонятно, считать их аномалиями или нет."
   ]
  },
  {
   "cell_type": "markdown",
   "metadata": {},
   "source": [
    "Посчитаем выборочные перцентили количества заказов на одного пользователя:"
   ]
  },
  {
   "cell_type": "code",
   "execution_count": 77,
   "metadata": {},
   "outputs": [
    {
     "data": {
      "text/plain": [
       "array([2., 4.])"
      ]
     },
     "execution_count": 77,
     "metadata": {},
     "output_type": "execute_result"
    }
   ],
   "source": [
    "np.percentile(ordersByUsers['orders'], [95, 99])"
   ]
  },
  {
   "cell_type": "markdown",
   "metadata": {},
   "source": [
    "Не более 5% пользователей совершали больше двух заказов. И не более 1% пользователей - больше четырёх заказов."
   ]
  },
  {
   "cell_type": "markdown",
   "metadata": {},
   "source": [
    "Примем за аномальных пользователей тех, кто совершил 4 заказа и более. Так мы уберём 1% пользователей с наибольшим числом заказов."
   ]
  },
  {
   "cell_type": "markdown",
   "metadata": {},
   "source": [
    "### Точечный график стоимостей заказов"
   ]
  },
  {
   "cell_type": "code",
   "execution_count": 78,
   "metadata": {},
   "outputs": [
    {
     "data": {
      "text/html": [
       "<div>\n",
       "<style scoped>\n",
       "    .dataframe tbody tr th:only-of-type {\n",
       "        vertical-align: middle;\n",
       "    }\n",
       "\n",
       "    .dataframe tbody tr th {\n",
       "        vertical-align: top;\n",
       "    }\n",
       "\n",
       "    .dataframe thead th {\n",
       "        text-align: right;\n",
       "    }\n",
       "</style>\n",
       "<table border=\"1\" class=\"dataframe\">\n",
       "  <thead>\n",
       "    <tr style=\"text-align: right;\">\n",
       "      <th></th>\n",
       "      <th>transactionId</th>\n",
       "      <th>visitorId</th>\n",
       "      <th>date</th>\n",
       "      <th>revenue</th>\n",
       "      <th>group</th>\n",
       "    </tr>\n",
       "  </thead>\n",
       "  <tbody>\n",
       "    <tr>\n",
       "      <td>425</td>\n",
       "      <td>590470918</td>\n",
       "      <td>1920142716</td>\n",
       "      <td>2019-08-19</td>\n",
       "      <td>1294500</td>\n",
       "      <td>B</td>\n",
       "    </tr>\n",
       "    <tr>\n",
       "      <td>1196</td>\n",
       "      <td>3936777065</td>\n",
       "      <td>2108080724</td>\n",
       "      <td>2019-08-15</td>\n",
       "      <td>202740</td>\n",
       "      <td>B</td>\n",
       "    </tr>\n",
       "    <tr>\n",
       "      <td>858</td>\n",
       "      <td>192721366</td>\n",
       "      <td>1316129916</td>\n",
       "      <td>2019-08-27</td>\n",
       "      <td>93940</td>\n",
       "      <td>A</td>\n",
       "    </tr>\n",
       "    <tr>\n",
       "      <td>1136</td>\n",
       "      <td>666610489</td>\n",
       "      <td>1307669133</td>\n",
       "      <td>2019-08-13</td>\n",
       "      <td>92550</td>\n",
       "      <td>A</td>\n",
       "    </tr>\n",
       "    <tr>\n",
       "      <td>744</td>\n",
       "      <td>3668308183</td>\n",
       "      <td>888512513</td>\n",
       "      <td>2019-08-27</td>\n",
       "      <td>86620</td>\n",
       "      <td>B</td>\n",
       "    </tr>\n",
       "    <tr>\n",
       "      <td>682</td>\n",
       "      <td>1216533772</td>\n",
       "      <td>4266935830</td>\n",
       "      <td>2019-08-29</td>\n",
       "      <td>78990</td>\n",
       "      <td>B</td>\n",
       "    </tr>\n",
       "    <tr>\n",
       "      <td>662</td>\n",
       "      <td>1811671147</td>\n",
       "      <td>4266935830</td>\n",
       "      <td>2019-08-29</td>\n",
       "      <td>78990</td>\n",
       "      <td>A</td>\n",
       "    </tr>\n",
       "    <tr>\n",
       "      <td>743</td>\n",
       "      <td>3603576309</td>\n",
       "      <td>4133034833</td>\n",
       "      <td>2019-08-09</td>\n",
       "      <td>67990</td>\n",
       "      <td>A</td>\n",
       "    </tr>\n",
       "    <tr>\n",
       "      <td>1103</td>\n",
       "      <td>1348774318</td>\n",
       "      <td>1164614297</td>\n",
       "      <td>2019-08-12</td>\n",
       "      <td>66350</td>\n",
       "      <td>A</td>\n",
       "    </tr>\n",
       "    <tr>\n",
       "      <td>1099</td>\n",
       "      <td>316924019</td>\n",
       "      <td>148427295</td>\n",
       "      <td>2019-08-12</td>\n",
       "      <td>65710</td>\n",
       "      <td>A</td>\n",
       "    </tr>\n",
       "  </tbody>\n",
       "</table>\n",
       "</div>"
      ],
      "text/plain": [
       "      transactionId   visitorId       date  revenue group\n",
       "425       590470918  1920142716 2019-08-19  1294500     B\n",
       "1196     3936777065  2108080724 2019-08-15   202740     B\n",
       "858       192721366  1316129916 2019-08-27    93940     A\n",
       "1136      666610489  1307669133 2019-08-13    92550     A\n",
       "744      3668308183   888512513 2019-08-27    86620     B\n",
       "682      1216533772  4266935830 2019-08-29    78990     B\n",
       "662      1811671147  4266935830 2019-08-29    78990     A\n",
       "743      3603576309  4133034833 2019-08-09    67990     A\n",
       "1103     1348774318  1164614297 2019-08-12    66350     A\n",
       "1099      316924019   148427295 2019-08-12    65710     A"
      ]
     },
     "execution_count": 78,
     "metadata": {},
     "output_type": "execute_result"
    }
   ],
   "source": [
    "orders.sort_values(by='revenue', ascending=False).head(10)"
   ]
  },
  {
   "cell_type": "markdown",
   "metadata": {},
   "source": [
    "Есть заказы стоимостью 1 294 500 руб, 202 740 руб. "
   ]
  },
  {
   "cell_type": "markdown",
   "metadata": {},
   "source": [
    "Построим точечную диаграмму стоимостей заказов:"
   ]
  },
  {
   "cell_type": "code",
   "execution_count": 79,
   "metadata": {},
   "outputs": [
    {
     "data": {
      "text/plain": [
       "Text(0, 0.5, 'Стоимость заказа')"
      ]
     },
     "execution_count": 79,
     "metadata": {},
     "output_type": "execute_result"
    },
    {
     "data": {
      "image/png": "[encoded data removed]",
      "text/plain": [
       "<Figure size 864x360 with 1 Axes>"
      ]
     },
     "metadata": {
      "needs_background": "light"
     },
     "output_type": "display_data"
    }
   ],
   "source": [
    "plt.figure(figsize= (12,5))\n",
    "x_values = pd.Series(range(0,len(orders['revenue'])))\n",
    "plt.scatter(x_values, orders['revenue'])\n",
    "plt.title('Точечный график стоимостей заказов', fontsize=10)\n",
    "plt.xlabel('Частотность', fontsize=10)\n",
    "plt.ylabel('Стоимость заказа', fontsize=10)"
   ]
  },
  {
   "cell_type": "markdown",
   "metadata": {},
   "source": [
    "Заказов стоимостью выше 93940 рублей всего два. Заказ на почти на 1,3 миллиона в интернет-магазине выглядит весьма аномально. "
   ]
  },
  {
   "cell_type": "markdown",
   "metadata": {},
   "source": [
    "Посчитаем 95-й и 99-й перцентили стоимости заказов:"
   ]
  },
  {
   "cell_type": "code",
   "execution_count": 80,
   "metadata": {},
   "outputs": [
    {
     "data": {
      "text/plain": [
       "array([28000. , 58233.2])"
      ]
     },
     "execution_count": 80,
     "metadata": {},
     "output_type": "execute_result"
    }
   ],
   "source": [
    "np.percentile(orders['revenue'], [95, 99])"
   ]
  },
  {
   "cell_type": "markdown",
   "metadata": {},
   "source": [
    "Не более, чем у 5% заказов чек дороже 28 000 рублей. И не больше, чем у 1% заказов - дороже 58 233 рублей."
   ]
  },
  {
   "cell_type": "markdown",
   "metadata": {},
   "source": [
    "Примем за аномальных пользователей тех, кто совершил заказ на сумму свыше 50 000 рублей. Так мы уберём от 1% до 5% заказов с наибольшей стоимостью."
   ]
  },
  {
   "cell_type": "markdown",
   "metadata": {},
   "source": [
    "### Расчет статистической значимости различий в конверсии и среднем чеке между группами по «сырым» данным"
   ]
  },
  {
   "cell_type": "markdown",
   "metadata": {},
   "source": [
    "Посчитаем статистическую значимость различий в конверсии и среднем чеке между группами по «сырым» данным — без удаления аномальных пользователей.\n",
    "Начнём с подготовки данных. Соберём таблицу data:"
   ]
  },
  {
   "cell_type": "code",
   "execution_count": 81,
   "metadata": {},
   "outputs": [
    {
     "data": {
      "text/html": [
       "<div>\n",
       "<style scoped>\n",
       "    .dataframe tbody tr th:only-of-type {\n",
       "        vertical-align: middle;\n",
       "    }\n",
       "\n",
       "    .dataframe tbody tr th {\n",
       "        vertical-align: top;\n",
       "    }\n",
       "\n",
       "    .dataframe thead th {\n",
       "        text-align: right;\n",
       "    }\n",
       "</style>\n",
       "<table border=\"1\" class=\"dataframe\">\n",
       "  <thead>\n",
       "    <tr style=\"text-align: right;\">\n",
       "      <th></th>\n",
       "      <th>date</th>\n",
       "      <th>ordersPerDateA</th>\n",
       "      <th>revenuePerDateA</th>\n",
       "      <th>ordersPerDateB</th>\n",
       "      <th>revenuePerDateB</th>\n",
       "      <th>ordersCummulativeA</th>\n",
       "      <th>revenueCummulativeA</th>\n",
       "      <th>ordersCummulativeB</th>\n",
       "      <th>revenueCummulativeB</th>\n",
       "      <th>visitorsPerDateA</th>\n",
       "      <th>visitorsPerDateB</th>\n",
       "      <th>visitorsCummulativeA</th>\n",
       "      <th>visitorsCummulativeB</th>\n",
       "    </tr>\n",
       "  </thead>\n",
       "  <tbody>\n",
       "    <tr>\n",
       "      <td>0</td>\n",
       "      <td>2019-08-01</td>\n",
       "      <td>24</td>\n",
       "      <td>148579</td>\n",
       "      <td>21</td>\n",
       "      <td>101217</td>\n",
       "      <td>24</td>\n",
       "      <td>148579</td>\n",
       "      <td>21</td>\n",
       "      <td>101217</td>\n",
       "      <td>719</td>\n",
       "      <td>713</td>\n",
       "      <td>719</td>\n",
       "      <td>713</td>\n",
       "    </tr>\n",
       "    <tr>\n",
       "      <td>1</td>\n",
       "      <td>2019-08-02</td>\n",
       "      <td>20</td>\n",
       "      <td>93822</td>\n",
       "      <td>24</td>\n",
       "      <td>165531</td>\n",
       "      <td>44</td>\n",
       "      <td>242401</td>\n",
       "      <td>45</td>\n",
       "      <td>266748</td>\n",
       "      <td>619</td>\n",
       "      <td>581</td>\n",
       "      <td>1338</td>\n",
       "      <td>1294</td>\n",
       "    </tr>\n",
       "    <tr>\n",
       "      <td>2</td>\n",
       "      <td>2019-08-03</td>\n",
       "      <td>24</td>\n",
       "      <td>112473</td>\n",
       "      <td>16</td>\n",
       "      <td>114248</td>\n",
       "      <td>68</td>\n",
       "      <td>354874</td>\n",
       "      <td>61</td>\n",
       "      <td>380996</td>\n",
       "      <td>507</td>\n",
       "      <td>509</td>\n",
       "      <td>1845</td>\n",
       "      <td>1803</td>\n",
       "    </tr>\n",
       "    <tr>\n",
       "      <td>3</td>\n",
       "      <td>2019-08-04</td>\n",
       "      <td>16</td>\n",
       "      <td>70825</td>\n",
       "      <td>17</td>\n",
       "      <td>108571</td>\n",
       "      <td>84</td>\n",
       "      <td>425699</td>\n",
       "      <td>78</td>\n",
       "      <td>489567</td>\n",
       "      <td>717</td>\n",
       "      <td>770</td>\n",
       "      <td>2562</td>\n",
       "      <td>2573</td>\n",
       "    </tr>\n",
       "    <tr>\n",
       "      <td>4</td>\n",
       "      <td>2019-08-05</td>\n",
       "      <td>25</td>\n",
       "      <td>124218</td>\n",
       "      <td>23</td>\n",
       "      <td>92428</td>\n",
       "      <td>109</td>\n",
       "      <td>549917</td>\n",
       "      <td>101</td>\n",
       "      <td>581995</td>\n",
       "      <td>756</td>\n",
       "      <td>707</td>\n",
       "      <td>3318</td>\n",
       "      <td>3280</td>\n",
       "    </tr>\n",
       "  </tbody>\n",
       "</table>\n",
       "</div>"
      ],
      "text/plain": [
       "        date  ordersPerDateA  revenuePerDateA  ordersPerDateB  revenuePerDateB  ordersCummulativeA  revenueCummulativeA  ordersCummulativeB  revenueCummulativeB  visitorsPerDateA  visitorsPerDateB  visitorsCummulativeA  visitorsCummulativeB\n",
       "0 2019-08-01              24           148579              21           101217                  24               148579                  21               101217               719               713                   719                   713\n",
       "1 2019-08-02              20            93822              24           165531                  44               242401                  45               266748               619               581                  1338                  1294\n",
       "2 2019-08-03              24           112473              16           114248                  68               354874                  61               380996               507               509                  1845                  1803\n",
       "3 2019-08-04              16            70825              17           108571                  84               425699                  78               489567               717               770                  2562                  2573\n",
       "4 2019-08-05              25           124218              23            92428                 109               549917                 101               581995               756               707                  3318                  3280"
      ]
     },
     "execution_count": 81,
     "metadata": {},
     "output_type": "execute_result"
    }
   ],
   "source": [
    "visitorsADaily = visitors[visitors['group'] == 'A'][['date', 'visitors']]\n",
    "visitorsADaily.columns = ['date', 'visitorsPerDateA']\n",
    "\n",
    "visitorsACummulative = visitorsADaily.apply(\n",
    "    lambda x: visitorsADaily[visitorsADaily['date'] <= x['date']].agg(\n",
    "        {'date': 'max', 'visitorsPerDateA': 'sum'}\n",
    "    ),\n",
    "    axis=1,\n",
    ")\n",
    "visitorsACummulative.columns = ['date', 'visitorsCummulativeA']\n",
    "\n",
    "visitorsBDaily = visitors[visitors['group'] == 'B'][['date', 'visitors']]\n",
    "visitorsBDaily.columns = ['date', 'visitorsPerDateB']\n",
    "\n",
    "visitorsBCummulative = visitorsBDaily.apply(\n",
    "    lambda x: visitorsBDaily[visitorsBDaily['date'] <= x['date']].agg(\n",
    "        {'date': 'max', 'visitorsPerDateB': 'sum'}\n",
    "    ),\n",
    "    axis=1,\n",
    ")\n",
    "visitorsBCummulative.columns = ['date', 'visitorsCummulativeB']\n",
    "\n",
    "ordersADaily = (\n",
    "    orders[orders['group'] == 'A'][['date', 'transactionId', 'visitorId', 'revenue']]\n",
    "    .groupby('date', as_index=False)\n",
    "    .agg({'transactionId': pd.Series.nunique, 'revenue': 'sum'})\n",
    ")\n",
    "ordersADaily.columns = ['date', 'ordersPerDateA', 'revenuePerDateA']\n",
    "\n",
    "ordersACummulative = ordersADaily.apply(\n",
    "    lambda x: ordersADaily[ordersADaily['date'] <= x['date']].agg(\n",
    "        {'date': 'max', 'ordersPerDateA': 'sum', 'revenuePerDateA': 'sum'}\n",
    "    ),\n",
    "    axis=1,\n",
    ").sort_values(by=['date'])\n",
    "ordersACummulative.columns = [\n",
    "    'date',\n",
    "    'ordersCummulativeA',\n",
    "    'revenueCummulativeA',\n",
    "]\n",
    "\n",
    "ordersBDaily = (\n",
    "    orders[orders['group'] == 'B'][['date', 'transactionId', 'visitorId', 'revenue']]\n",
    "    .groupby('date', as_index=False)\n",
    "    .agg({'transactionId': pd.Series.nunique, 'revenue': 'sum'})\n",
    ")\n",
    "ordersBDaily.columns = ['date', 'ordersPerDateB', 'revenuePerDateB']\n",
    "\n",
    "ordersBCummulative = ordersBDaily.apply(\n",
    "    lambda x: ordersBDaily[ordersBDaily['date'] <= x['date']].agg(\n",
    "        {'date': 'max', 'ordersPerDateB': 'sum', 'revenuePerDateB': 'sum'}\n",
    "    ),\n",
    "    axis=1,\n",
    ").sort_values(by=['date'])\n",
    "ordersBCummulative.columns = [\n",
    "    'date',\n",
    "    'ordersCummulativeB',\n",
    "    'revenueCummulativeB',\n",
    "]\n",
    "\n",
    "data = (\n",
    "    ordersADaily.merge(\n",
    "        ordersBDaily, left_on='date', right_on='date', how='left'\n",
    "    )\n",
    "    .merge(ordersACummulative, left_on='date', right_on='date', how='left')\n",
    "    .merge(ordersBCummulative, left_on='date', right_on='date', how='left')\n",
    "    .merge(visitorsADaily, left_on='date', right_on='date', how='left')\n",
    "    .merge(visitorsBDaily, left_on='date', right_on='date', how='left')\n",
    "    .merge(visitorsACummulative, left_on='date', right_on='date', how='left')\n",
    "    .merge(visitorsBCummulative, left_on='date', right_on='date', how='left')\n",
    ")\n",
    "\n",
    "data.head(5)"
   ]
  },
  {
   "cell_type": "markdown",
   "metadata": {},
   "source": [
    "Значения столбцов таблицы data:</p>\n",
    "* date — дата;\n",
    "* ordersPerDateA — количество заказов в выбранную дату в группе A;\n",
    "* revenuePerDateA — суммарная выручка в выбранную дату в группе A;\n",
    "* ordersPerDateB — количество заказов в выбранную дату в группе B;\n",
    "* revenuePerDateB — суммарная выручка в выбранную дату в группе B;\n",
    "* ordersCummulativeA — суммарное число заказов до выбранной даты включительно в группе A;\n",
    "* revenueCummulativeA — суммарная выручка до выбранной даты включительно в группе A;\n",
    "* ordersCummulativeB — суммарное количество заказов до выбранной даты включительно в группе B;\n",
    "* revenueCummulativeB — суммарная выручка до выбранной даты включительно в группе B;\n",
    "* visitorsPerDateA — количество пользователей в выбранную дату в группе A;\n",
    "* visitorsPerDateB — количество пользователей в выбранную дату в группе B;\n",
    "* visitorsCummulativeA — количество пользователей до выбранной даты включительно в группе A;\n",
    "* visitorsCummulativeB — количество пользователей до выбранной даты включительно в группе B."
   ]
  },
  {
   "cell_type": "markdown",
   "metadata": {},
   "source": [
    "Посчитаем статистическую значимость различия в конверсии между группами."
   ]
  },
  {
   "cell_type": "markdown",
   "metadata": {},
   "source": [
    "**Нулевая гипотеза H₀:**<br>\n",
    "Конверсия группы А равна конверсии группы В\n",
    "\n",
    "**Альтернативная гипотеза H₁:**<br>\n",
    "Конверсии групп А и В различаются"
   ]
  },
  {
   "cell_type": "markdown",
   "metadata": {},
   "source": [
    "Создадим переменные ordersByUsersA и ordersByUsersB. В них для пользователей, которые заказывали хотя бы 1 раз, укажем число совершённых заказов."
   ]
  },
  {
   "cell_type": "code",
   "execution_count": 82,
   "metadata": {},
   "outputs": [],
   "source": [
    "ordersByUsersA = (\n",
    "    orders[orders['group'] == 'A']\n",
    "    .groupby('visitorId', as_index=False)\n",
    "    .agg({'transactionId': pd.Series.nunique})\n",
    ")\n",
    "ordersByUsersA.columns = ['userId', 'orders']"
   ]
  },
  {
   "cell_type": "code",
   "execution_count": 83,
   "metadata": {},
   "outputs": [],
   "source": [
    "ordersByUsersB = (\n",
    "    orders[orders['group'] == 'B']\n",
    "    .groupby('visitorId', as_index=False)\n",
    "    .agg({'transactionId': pd.Series.nunique})\n",
    ")\n",
    "ordersByUsersB.columns = ['userId', 'orders']"
   ]
  },
  {
   "cell_type": "markdown",
   "metadata": {},
   "source": [
    "Объявим переменные sampleA и sampleB, в которых пользователям из разных групп будет соответствовать количество заказов. Тем, кто ничего не заказал, будут соответствовать нули. "
   ]
  },
  {
   "cell_type": "code",
   "execution_count": 84,
   "metadata": {},
   "outputs": [],
   "source": [
    "sampleA = pd.concat([ordersByUsersA['orders'],pd.Series(0, index=np.arange(data['visitorsPerDateA'].sum() - len(ordersByUsersA['orders'])), name='orders')],axis=0)"
   ]
  },
  {
   "cell_type": "code",
   "execution_count": 85,
   "metadata": {},
   "outputs": [],
   "source": [
    "sampleB = pd.concat([ordersByUsersB['orders'],pd.Series(0, index=np.arange(data['visitorsPerDateB'].sum() - len(ordersByUsersB['orders'])), name='orders')],axis=0)"
   ]
  },
  {
   "cell_type": "markdown",
   "metadata": {},
   "source": [
    "Применим критерий и отформатируем p-value, округлив его до трёх знаков после запятой."
   ]
  },
  {
   "cell_type": "code",
   "execution_count": 86,
   "metadata": {},
   "outputs": [
    {
     "data": {
      "text/plain": [
       "'0.017'"
      ]
     },
     "execution_count": 86,
     "metadata": {},
     "output_type": "execute_result"
    }
   ],
   "source": [
    "\"{0:.3f}\".format(stats.mannwhitneyu(sampleA, sampleB, alternative = 'two-sided')[1])"
   ]
  },
  {
   "cell_type": "markdown",
   "metadata": {},
   "source": [
    "Выведем относительный прирост конверсии группы B. Округлим до трёх знаков после запятой."
   ]
  },
  {
   "cell_type": "code",
   "execution_count": 87,
   "metadata": {},
   "outputs": [
    {
     "data": {
      "text/plain": [
       "'0.138'"
      ]
     },
     "execution_count": 87,
     "metadata": {},
     "output_type": "execute_result"
    }
   ],
   "source": [
    "\"{0:.3f}\".format(sampleB.mean() / sampleA.mean() - 1)"
   ]
  },
  {
   "cell_type": "markdown",
   "metadata": {},
   "source": [
    "P-value = 0.017 меньше 0.05. Значит, нулевую гипотезу о том, что статистически значимых различий в конверсии между группами нет, отвергаем. Анализ \"сырых\" данных сообщает, что в конверсии между группами есть статистически значимые различия. Относительный прирост конверсии группы В к конверсии группы А равен 13.8% — второе число в выводе."
   ]
  },
  {
   "cell_type": "markdown",
   "metadata": {},
   "source": [
    "Посчитаем статистическую значимость различий в среднем чеке заказа между группами."
   ]
  },
  {
   "cell_type": "markdown",
   "metadata": {},
   "source": [
    "**Нулевая гипотеза H₀:**<br>\n",
    "Средний чек пользователей группы А равен среднему чеку пользователей группы В\n",
    "\n",
    "**Альтернативная гипотеза H₁:**<br>\n",
    "Средние чеки пользователей групп А и В различаются"
   ]
  },
  {
   "cell_type": "markdown",
   "metadata": {},
   "source": [
    "Чтобы рассчитать статистическую значимость различий в среднем чеке между сегментами, передадим критерию mannwhitneyu() данные о выручке с заказов.\n",
    "А ещё найдём относительные различия в среднем чеке между группами:"
   ]
  },
  {
   "cell_type": "code",
   "execution_count": 88,
   "metadata": {},
   "outputs": [
    {
     "data": {
      "text/plain": [
       "'0.729'"
      ]
     },
     "execution_count": 88,
     "metadata": {},
     "output_type": "execute_result"
    }
   ],
   "source": [
    "'{0:.3f}'.format(stats.mannwhitneyu(orders[orders['group']=='A']['revenue'], orders[orders['group']=='B']['revenue'], alternative = 'two-sided')[1])"
   ]
  },
  {
   "cell_type": "code",
   "execution_count": 89,
   "metadata": {},
   "outputs": [
    {
     "data": {
      "text/plain": [
       "'0.259'"
      ]
     },
     "execution_count": 89,
     "metadata": {},
     "output_type": "execute_result"
    }
   ],
   "source": [
    "'{0:.3f}'.format(orders[orders['group']=='B']['revenue'].mean()/orders[orders['group']=='A']['revenue'].mean()-1)"
   ]
  },
  {
   "cell_type": "markdown",
   "metadata": {},
   "source": [
    "P-value значительно больше 0.05. Значит, причин отвергать нулевую гипотезу и считать, что в среднем чеке есть различия, нет. Средний чек группы А значительно ниже среднего чека группы В (относительное различие между сегментами 25,9%)"
   ]
  },
  {
   "cell_type": "markdown",
   "metadata": {},
   "source": [
    "### Расчет статистической значимости различий в конверсии и среднем чеке между группами по «очищенным» данным."
   ]
  },
  {
   "cell_type": "markdown",
   "metadata": {},
   "source": [
    "Мы решили принять за аномальных пользователей тех, кто совершил 4 заказа и более и тех, кто совершил заказ на сумму свыше 50 000 рублей."
   ]
  },
  {
   "cell_type": "markdown",
   "metadata": {},
   "source": [
    "Узнаем, сколько всего аномальных пользователей. Сделаем срезы пользователей с числом заказов больше 4 — usersWithManyOrders и пользователей, совершивших заказы дороже 50 000 — usersWithExpensiveOrders. Объединим их в таблице abnormalUsers"
   ]
  },
  {
   "cell_type": "code",
   "execution_count": 90,
   "metadata": {},
   "outputs": [],
   "source": [
    "usersWithManyOrders = pd.concat(\n",
    "    [\n",
    "        ordersByUsersA[ordersByUsersA['orders'] > 4]['userId'],\n",
    "        ordersByUsersB[ordersByUsersB['orders'] > 4]['userId'],\n",
    "    ],\n",
    "    axis=0,\n",
    ")"
   ]
  },
  {
   "cell_type": "code",
   "execution_count": 91,
   "metadata": {},
   "outputs": [],
   "source": [
    "usersWithExpensiveOrders = orders[orders['revenue'] > 50000]['visitorId']"
   ]
  },
  {
   "cell_type": "code",
   "execution_count": 92,
   "metadata": {},
   "outputs": [
    {
     "data": {
      "text/plain": [
       "1099     148427295\n",
       "1137     759473111\n",
       "949      887908475\n",
       "744      888512513\n",
       "1103    1164614297\n",
       "dtype: int64"
      ]
     },
     "execution_count": 92,
     "metadata": {},
     "output_type": "execute_result"
    }
   ],
   "source": [
    "abnormalUsers = (\n",
    "    pd.concat([usersWithManyOrders, usersWithExpensiveOrders], axis=0)\n",
    "    .drop_duplicates()\n",
    "    .sort_values()\n",
    ")\n",
    "abnormalUsers.head(5)"
   ]
  },
  {
   "cell_type": "code",
   "execution_count": 93,
   "metadata": {},
   "outputs": [
    {
     "data": {
      "text/plain": [
       "21"
      ]
     },
     "execution_count": 93,
     "metadata": {},
     "output_type": "execute_result"
    }
   ],
   "source": [
    "len(abnormalUsers)"
   ]
  },
  {
   "cell_type": "markdown",
   "metadata": {},
   "source": [
    "Всего 21 аномальных пользователя."
   ]
  },
  {
   "cell_type": "markdown",
   "metadata": {},
   "source": [
    "Узнаем, как их действия повлияли на результаты теста. Посчитаем статистическую значимость различий в конверсии между группами теста по очищенным данным. Сначала подготовим выборки количества заказов по пользователям по группам теста:"
   ]
  },
  {
   "cell_type": "markdown",
   "metadata": {},
   "source": [
    "**Нулевая гипотеза H₀:**<br>\n",
    "Конверсия группы А равна конверсии группы В\n",
    "\n",
    "**Альтернативная гипотеза H₁:**<br>\n",
    "Конверсии групп А и В различаются"
   ]
  },
  {
   "cell_type": "code",
   "execution_count": 94,
   "metadata": {},
   "outputs": [],
   "source": [
    "sampleAFiltered = pd.concat(\n",
    "    [\n",
    "        ordersByUsersA[\n",
    "            np.logical_not(ordersByUsersA['userId'].isin(abnormalUsers))\n",
    "        ]['orders'],\n",
    "        pd.Series(\n",
    "            0,\n",
    "            index=np.arange(\n",
    "                data['visitorsPerDateA'].sum() - len(ordersByUsersA['orders'])\n",
    "            ),\n",
    "            name='orders',\n",
    "        ),\n",
    "    ],\n",
    "    axis=0,\n",
    ")"
   ]
  },
  {
   "cell_type": "code",
   "execution_count": 95,
   "metadata": {},
   "outputs": [],
   "source": [
    "sampleBFiltered = pd.concat(\n",
    "    [\n",
    "        ordersByUsersB[\n",
    "            np.logical_not(ordersByUsersB['userId'].isin(abnormalUsers))\n",
    "        ]['orders'],\n",
    "        pd.Series(\n",
    "            0,\n",
    "            index=np.arange(\n",
    "                data['visitorsPerDateB'].sum() - len(ordersByUsersB['orders'])\n",
    "            ),\n",
    "            name='orders',\n",
    "        ),\n",
    "    ],\n",
    "    axis=0,\n",
    ")"
   ]
  },
  {
   "cell_type": "markdown",
   "metadata": {},
   "source": [
    "Применим статистический критерий Манна-Уитни к полученным выборкам:"
   ]
  },
  {
   "cell_type": "code",
   "execution_count": 96,
   "metadata": {},
   "outputs": [
    {
     "data": {
      "text/plain": [
       "'0.01185'"
      ]
     },
     "execution_count": 96,
     "metadata": {},
     "output_type": "execute_result"
    }
   ],
   "source": [
    "'{0:.5f}'.format(stats.mannwhitneyu(sampleAFiltered, sampleBFiltered, alternative = 'two-sided')[1])"
   ]
  },
  {
   "cell_type": "code",
   "execution_count": 97,
   "metadata": {},
   "outputs": [
    {
     "data": {
      "text/plain": [
       "'0.160'"
      ]
     },
     "execution_count": 97,
     "metadata": {},
     "output_type": "execute_result"
    }
   ],
   "source": [
    "'{0:.3f}'.format(sampleBFiltered.mean()/sampleAFiltered.mean()-1)"
   ]
  },
  {
   "cell_type": "markdown",
   "metadata": {},
   "source": [
    "Результаты по конверсии не сильно изменились. Как и в случае с сырыми данными, статистическая значимость достигнута. Сегмент В лучше сегмента А."
   ]
  },
  {
   "cell_type": "markdown",
   "metadata": {},
   "source": [
    "Посмотрим, произошло ли что-нибудь с результатами по среднему чеку:"
   ]
  },
  {
   "cell_type": "markdown",
   "metadata": {},
   "source": [
    "**Нулевая гипотеза H₀:**<br>\n",
    "Средний чек пользователей группы А равен среднему чеку пользователей группы В\n",
    "\n",
    "**Альтернативная гипотеза H₁:**<br>\n",
    "Средние чеки пользователей групп А и В различаются"
   ]
  },
  {
   "cell_type": "code",
   "execution_count": 98,
   "metadata": {},
   "outputs": [
    {
     "data": {
      "text/plain": [
       "'0.715'"
      ]
     },
     "execution_count": 98,
     "metadata": {},
     "output_type": "execute_result"
    }
   ],
   "source": [
    "'{0:.3f}'.format(\n",
    "        stats.mannwhitneyu(\n",
    "            orders[\n",
    "                np.logical_and(\n",
    "                    orders['group'] == 'A',\n",
    "                    np.logical_not(orders['visitorId'].isin(abnormalUsers)),\n",
    "                )\n",
    "            ]['revenue'],\n",
    "            orders[\n",
    "                np.logical_and(\n",
    "                    orders['group'] == 'B',\n",
    "                    np.logical_not(orders['visitorId'].isin(abnormalUsers)),\n",
    "                )\n",
    "            ]['revenue'], alternative = 'two-sided'\n",
    "        )[1]\n",
    "    )"
   ]
  },
  {
   "cell_type": "code",
   "execution_count": 99,
   "metadata": {},
   "outputs": [
    {
     "data": {
      "text/plain": [
       "'0.032'"
      ]
     },
     "execution_count": 99,
     "metadata": {},
     "output_type": "execute_result"
    }
   ],
   "source": [
    "\"{0:.3f}\".format(\n",
    "        orders[\n",
    "            np.logical_and(\n",
    "                orders['group'] == 'B',\n",
    "                np.logical_not(orders['visitorId'].isin(abnormalUsers)),\n",
    "            )\n",
    "        ]['revenue'].mean()\n",
    "        / orders[\n",
    "            np.logical_and(\n",
    "                orders['group'] == 'A',\n",
    "                np.logical_not(orders['visitorId'].isin(abnormalUsers)),\n",
    "            )\n",
    "        ]['revenue'].mean()\n",
    "        - 1\n",
    "    )"
   ]
  },
  {
   "cell_type": "markdown",
   "metadata": {},
   "source": [
    "P-value практически не изменился, причин отвергать нулевую гипотезу и считать, что в среднем чеке есть различия, нет. Разница между сегментами сократилась с 25,9% до 3,2%, но по прежнему средний чек группы А ниже среднего чека группы В."
   ]
  },
  {
   "cell_type": "markdown",
   "metadata": {},
   "source": [
    "### Вывод"
   ]
  },
  {
   "cell_type": "markdown",
   "metadata": {},
   "source": [
    "- Есть статистически значимое различие по конверсии между группами как по сырым данным, так и после фильтрации аномалий. Сегмент В лучше сегмента А.\n",
    "- Нет статистически значимого различия по среднему чеку между группами ни по «сырым», ни по данным после фильтрации аномалий;\n",
    "- График различия конверсии между группами сообщает, что результаты группы B лучше группы A. Почти с самого начала теста группа В лидирует по конверсии и зафиксировалась около прироста в 14% относительно группы А.\n",
    "- График различия среднего чека колеблется: он-то и позволил вам найти аномалии. Сделать из этого графика определённые выводы нельзя.\n",
    "\n",
    "Исходя из фактов выше следует остановить тест, признать его успешным и перейти к проверке следующей гипотезы."
   ]
  },
  {
   "cell_type": "markdown",
   "metadata": {},
   "source": [
    "## Вывод"
   ]
  },
  {
   "cell_type": "markdown",
   "metadata": {},
   "source": [
    "Приоритизация гипотез по фреймворку ICE показала, что первой следует проверить гипотезу о запускеь акции, дающей скидку на товар в день рождения. По фреймворку RICE самой перспективной оказалась гипотеза - добавить форму подписки на все основные страницы, чтобы собрать базу клиентов для email-рассылок. Приоритизация гипотез при применении RICE вместо ICE изменилась из-за параметра, который указывает на охват пользователей, которых затронет изменение. У гипотезы о добавлении формы подписки охват значительно больше, чем у гипотезы о запуске акции со скидкой в день рождения.\n",
    "\n",
    "Анализ А/В теста показал, что по конверсии между группами A и B (как по сырым данным, так и по очищенным) есть статистически значимые различия. А по среднему чеку между группами A и B (как по сырым данным, так и по очищенным) нет статистически значимых различий. Данный тест можно остановить и считать успешно проведенным. Конверсия из пользователя в покупателя у группы B статистически значимо выше, чем у группы A. При этом средний чек между группами не отличается.\n",
    "\n",
    "В процессе работы были найдены пользователи, которые от сессии к сессии могли видеть как одну версию сайта, так и другую, что нарушает один из основных принцип работы A/B-теста.\n",
    "В связи с этим, нам необходимо проверить корректность отработки метода показа пользователям одной или другой версии сайта и поправить его, чтобы одному и тому же пользователю показывалась только та версия сайта, которую он увидел при первом визите."
   ]
  }
 ],
 "metadata": {
  "ExecuteTimeLog": [
   {
    "duration": 923,
    "start_time": "2021-07-06T11:52:16.167Z"
   },
   {
    "duration": 18,
    "start_time": "2021-07-06T11:52:17.455Z"
   },
   {
    "duration": 21,
    "start_time": "2021-07-06T11:52:18.377Z"
   },
   {
    "duration": 9137,
    "start_time": "2021-07-06T11:52:52.993Z"
   },
   {
    "duration": 18,
    "start_time": "2021-07-06T11:55:42.240Z"
   },
   {
    "duration": 12,
    "start_time": "2021-07-06T11:55:43.031Z"
   },
   {
    "duration": 4,
    "start_time": "2021-07-06T11:55:45.585Z"
   },
   {
    "duration": 4,
    "start_time": "2021-07-06T11:56:22.362Z"
   },
   {
    "duration": 338,
    "start_time": "2021-07-06T11:56:23.389Z"
   },
   {
    "duration": 15,
    "start_time": "2021-07-06T11:56:32.819Z"
   },
   {
    "duration": 5,
    "start_time": "2021-07-06T11:57:48.363Z"
   },
   {
    "duration": 14,
    "start_time": "2021-07-06T11:58:00.755Z"
   },
   {
    "duration": 574,
    "start_time": "2021-07-06T19:37:11.286Z"
   },
   {
    "duration": 19,
    "start_time": "2021-07-06T19:37:13.747Z"
   },
   {
    "duration": 14,
    "start_time": "2021-07-06T19:37:14.694Z"
   },
   {
    "duration": 3,
    "start_time": "2021-07-06T19:37:15.361Z"
   },
   {
    "duration": 12,
    "start_time": "2021-07-06T19:37:15.862Z"
   },
   {
    "duration": 4,
    "start_time": "2021-07-06T19:37:16.491Z"
   },
   {
    "duration": 9,
    "start_time": "2021-07-06T19:37:17.083Z"
   },
   {
    "duration": 3,
    "start_time": "2021-07-06T19:47:33.694Z"
   },
   {
    "duration": 15,
    "start_time": "2021-07-06T19:47:34.599Z"
   },
   {
    "duration": 8,
    "start_time": "2021-07-06T19:47:35.200Z"
   },
   {
    "duration": 3,
    "start_time": "2021-07-06T19:47:36.024Z"
   },
   {
    "duration": 10,
    "start_time": "2021-07-06T19:47:36.567Z"
   },
   {
    "duration": 4,
    "start_time": "2021-07-06T19:47:37.068Z"
   },
   {
    "duration": 10,
    "start_time": "2021-07-06T19:47:37.631Z"
   },
   {
    "duration": 1040,
    "start_time": "2021-07-06T19:48:55.924Z"
   },
   {
    "duration": 49,
    "start_time": "2021-07-06T19:50:58.586Z"
   },
   {
    "duration": 15,
    "start_time": "2021-07-06T19:51:07.286Z"
   },
   {
    "duration": 8,
    "start_time": "2021-07-06T19:51:29.890Z"
   },
   {
    "duration": 6,
    "start_time": "2021-07-06T19:51:52.012Z"
   },
   {
    "duration": 9,
    "start_time": "2021-07-06T19:52:04.639Z"
   },
   {
    "duration": 809,
    "start_time": "2021-07-06T19:53:12.821Z"
   },
   {
    "duration": 805,
    "start_time": "2021-07-06T19:55:11.305Z"
   },
   {
    "duration": 3,
    "start_time": "2021-07-06T19:55:23.125Z"
   },
   {
    "duration": 3,
    "start_time": "2021-07-06T19:55:26.727Z"
   },
   {
    "duration": 15,
    "start_time": "2021-07-06T19:55:27.211Z"
   },
   {
    "duration": 8,
    "start_time": "2021-07-06T19:55:27.762Z"
   },
   {
    "duration": 3,
    "start_time": "2021-07-06T19:55:28.259Z"
   },
   {
    "duration": 10,
    "start_time": "2021-07-06T19:55:28.776Z"
   },
   {
    "duration": 4,
    "start_time": "2021-07-06T19:55:29.249Z"
   },
   {
    "duration": 10,
    "start_time": "2021-07-06T19:55:29.729Z"
   },
   {
    "duration": 49,
    "start_time": "2021-07-06T19:55:31.311Z"
   },
   {
    "duration": 813,
    "start_time": "2021-07-06T19:55:32.084Z"
   },
   {
    "duration": 13,
    "start_time": "2021-07-06T19:57:44.095Z"
   },
   {
    "duration": 18,
    "start_time": "2021-07-06T19:59:15.078Z"
   },
   {
    "duration": 1028,
    "start_time": "2021-07-06T19:59:17.974Z"
   },
   {
    "duration": 48,
    "start_time": "2021-07-06T19:59:35.928Z"
   },
   {
    "duration": 12,
    "start_time": "2021-07-06T19:59:36.668Z"
   },
   {
    "duration": 12,
    "start_time": "2021-07-06T19:59:47.225Z"
   },
   {
    "duration": 6,
    "start_time": "2021-07-06T19:59:58.732Z"
   },
   {
    "duration": 9,
    "start_time": "2021-07-06T20:00:27.649Z"
   },
   {
    "duration": 799,
    "start_time": "2021-07-06T20:01:15.728Z"
   },
   {
    "duration": 1756,
    "start_time": "2021-07-06T20:01:23.163Z"
   },
   {
    "duration": 13,
    "start_time": "2021-07-06T20:01:24.921Z"
   },
   {
    "duration": 10,
    "start_time": "2021-07-06T20:01:25.624Z"
   },
   {
    "duration": 6,
    "start_time": "2021-07-06T20:01:39.064Z"
   },
   {
    "duration": 8,
    "start_time": "2021-07-06T20:03:32.347Z"
   },
   {
    "duration": 9,
    "start_time": "2021-07-06T20:03:44.339Z"
   },
   {
    "duration": 4923,
    "start_time": "2021-07-06T20:04:14.882Z"
   },
   {
    "duration": 340,
    "start_time": "2021-07-06T20:07:57.807Z"
   },
   {
    "duration": 10,
    "start_time": "2021-07-06T20:08:18.537Z"
   },
   {
    "duration": 6,
    "start_time": "2021-07-06T20:09:55.053Z"
   },
   {
    "duration": 6,
    "start_time": "2021-07-06T20:10:06.796Z"
   },
   {
    "duration": 178,
    "start_time": "2021-07-06T20:10:17.109Z"
   },
   {
    "duration": 71,
    "start_time": "2021-07-06T20:10:36.857Z"
   },
   {
    "duration": 16,
    "start_time": "2021-07-06T20:10:39.802Z"
   },
   {
    "duration": 7,
    "start_time": "2021-07-06T20:10:40.535Z"
   },
   {
    "duration": 3,
    "start_time": "2021-07-06T20:10:41.017Z"
   },
   {
    "duration": 11,
    "start_time": "2021-07-06T20:10:41.473Z"
   },
   {
    "duration": 4,
    "start_time": "2021-07-06T20:10:41.906Z"
   },
   {
    "duration": 12,
    "start_time": "2021-07-06T20:10:42.385Z"
   },
   {
    "duration": 57,
    "start_time": "2021-07-06T20:10:43.933Z"
   },
   {
    "duration": 24,
    "start_time": "2021-07-06T20:10:44.478Z"
   },
   {
    "duration": 10,
    "start_time": "2021-07-06T20:10:45.077Z"
   },
   {
    "duration": 8,
    "start_time": "2021-07-06T20:10:45.676Z"
   },
   {
    "duration": 349,
    "start_time": "2021-07-06T20:10:46.241Z"
   },
   {
    "duration": 10,
    "start_time": "2021-07-06T20:10:46.837Z"
   },
   {
    "duration": 6,
    "start_time": "2021-07-06T20:10:47.462Z"
   },
   {
    "duration": 5,
    "start_time": "2021-07-06T20:10:48.044Z"
   },
   {
    "duration": 200,
    "start_time": "2021-07-06T20:10:48.650Z"
   },
   {
    "duration": 194,
    "start_time": "2021-07-06T20:11:14.225Z"
   },
   {
    "duration": 241,
    "start_time": "2021-07-06T20:11:48.272Z"
   },
   {
    "duration": 189,
    "start_time": "2021-07-06T20:14:49.754Z"
   },
   {
    "duration": 6,
    "start_time": "2021-07-06T20:16:19.402Z"
   },
   {
    "duration": 194,
    "start_time": "2021-07-06T20:16:35.887Z"
   },
   {
    "duration": 280,
    "start_time": "2021-07-06T20:17:07.049Z"
   },
   {
    "duration": 4,
    "start_time": "2021-07-06T20:19:10.927Z"
   },
   {
    "duration": 5,
    "start_time": "2021-07-06T20:19:23.579Z"
   },
   {
    "duration": 187,
    "start_time": "2021-07-06T20:19:34.809Z"
   },
   {
    "duration": 4,
    "start_time": "2021-07-06T20:25:32.136Z"
   },
   {
    "duration": 4,
    "start_time": "2021-07-06T20:26:17.619Z"
   },
   {
    "duration": 185,
    "start_time": "2021-07-06T20:26:45.643Z"
   },
   {
    "duration": 8,
    "start_time": "2021-07-06T20:29:15.937Z"
   },
   {
    "duration": 276,
    "start_time": "2021-07-06T20:30:04.439Z"
   },
   {
    "duration": 607,
    "start_time": "2021-07-07T13:01:39.119Z"
   },
   {
    "duration": 16,
    "start_time": "2021-07-07T13:01:39.728Z"
   },
   {
    "duration": 12,
    "start_time": "2021-07-07T13:01:40.212Z"
   },
   {
    "duration": 3,
    "start_time": "2021-07-07T13:01:41.051Z"
   },
   {
    "duration": 12,
    "start_time": "2021-07-07T13:01:41.377Z"
   },
   {
    "duration": 5,
    "start_time": "2021-07-07T13:01:42.014Z"
   },
   {
    "duration": 10,
    "start_time": "2021-07-07T13:01:42.607Z"
   },
   {
    "duration": 50,
    "start_time": "2021-07-07T13:01:45.016Z"
   },
   {
    "duration": 14,
    "start_time": "2021-07-07T13:01:45.422Z"
   },
   {
    "duration": 9,
    "start_time": "2021-07-07T13:01:46.044Z"
   },
   {
    "duration": 8,
    "start_time": "2021-07-07T13:01:46.605Z"
   },
   {
    "duration": 342,
    "start_time": "2021-07-07T13:01:47.292Z"
   },
   {
    "duration": 9,
    "start_time": "2021-07-07T13:01:47.906Z"
   },
   {
    "duration": 6,
    "start_time": "2021-07-07T13:01:48.613Z"
   },
   {
    "duration": 5,
    "start_time": "2021-07-07T13:01:49.205Z"
   },
   {
    "duration": 208,
    "start_time": "2021-07-07T13:01:49.836Z"
   },
   {
    "duration": 190,
    "start_time": "2021-07-07T13:01:51.028Z"
   },
   {
    "duration": 7,
    "start_time": "2021-07-07T13:01:52.426Z"
   },
   {
    "duration": 301,
    "start_time": "2021-07-07T13:01:53.097Z"
   },
   {
    "duration": 4,
    "start_time": "2021-07-07T13:01:54.510Z"
   },
   {
    "duration": 6,
    "start_time": "2021-07-07T13:01:55.183Z"
   },
   {
    "duration": 228,
    "start_time": "2021-07-07T13:01:55.928Z"
   },
   {
    "duration": 8,
    "start_time": "2021-07-07T13:01:57.317Z"
   },
   {
    "duration": 328,
    "start_time": "2021-07-07T13:01:57.964Z"
   },
   {
    "duration": 311,
    "start_time": "2021-07-07T13:02:33.862Z"
   },
   {
    "duration": 262,
    "start_time": "2021-07-07T13:02:45.636Z"
   },
   {
    "duration": 478,
    "start_time": "2021-07-07T13:03:11.985Z"
   },
   {
    "duration": 283,
    "start_time": "2021-07-07T13:03:21.322Z"
   },
   {
    "duration": 4813,
    "start_time": "2021-07-07T13:05:51.704Z"
   },
   {
    "duration": 283,
    "start_time": "2021-07-07T13:07:22.948Z"
   },
   {
    "duration": 12,
    "start_time": "2021-07-07T13:15:32.054Z"
   },
   {
    "duration": 9,
    "start_time": "2021-07-07T13:15:43.867Z"
   },
   {
    "duration": 92,
    "start_time": "2021-07-07T13:16:20.304Z"
   },
   {
    "duration": 8,
    "start_time": "2021-07-07T13:16:27.337Z"
   },
   {
    "duration": 275,
    "start_time": "2021-07-07T13:18:15.211Z"
   },
   {
    "duration": 61,
    "start_time": "2021-07-07T13:19:02.433Z"
   },
   {
    "duration": 8,
    "start_time": "2021-07-07T13:19:09.708Z"
   },
   {
    "duration": 5,
    "start_time": "2021-07-07T13:20:46.880Z"
   },
   {
    "duration": 11,
    "start_time": "2021-07-07T13:26:14.920Z"
   },
   {
    "duration": 6,
    "start_time": "2021-07-07T13:30:00.030Z"
   },
   {
    "duration": 5,
    "start_time": "2021-07-07T13:30:08.141Z"
   },
   {
    "duration": 313,
    "start_time": "2021-07-07T13:42:42.597Z"
   },
   {
    "duration": 268,
    "start_time": "2021-07-07T13:45:43.838Z"
   },
   {
    "duration": 337,
    "start_time": "2021-07-07T13:46:23.009Z"
   },
   {
    "duration": 108,
    "start_time": "2021-07-07T13:47:16.804Z"
   },
   {
    "duration": 7,
    "start_time": "2021-07-07T13:48:00.903Z"
   },
   {
    "duration": 181,
    "start_time": "2021-07-07T13:49:23.558Z"
   },
   {
    "duration": 443,
    "start_time": "2021-07-07T13:49:53.182Z"
   },
   {
    "duration": 16,
    "start_time": "2021-07-07T13:49:54.673Z"
   },
   {
    "duration": 8,
    "start_time": "2021-07-07T13:49:55.179Z"
   },
   {
    "duration": 3,
    "start_time": "2021-07-07T13:49:55.627Z"
   },
   {
    "duration": 11,
    "start_time": "2021-07-07T13:49:56.054Z"
   },
   {
    "duration": 5,
    "start_time": "2021-07-07T13:49:56.392Z"
   },
   {
    "duration": 10,
    "start_time": "2021-07-07T13:49:56.680Z"
   },
   {
    "duration": 66,
    "start_time": "2021-07-07T13:49:57.695Z"
   },
   {
    "duration": 15,
    "start_time": "2021-07-07T13:49:57.958Z"
   },
   {
    "duration": 9,
    "start_time": "2021-07-07T13:49:58.215Z"
   },
   {
    "duration": 9,
    "start_time": "2021-07-07T13:49:58.454Z"
   },
   {
    "duration": 357,
    "start_time": "2021-07-07T13:49:58.694Z"
   },
   {
    "duration": 9,
    "start_time": "2021-07-07T13:49:59.053Z"
   },
   {
    "duration": 5,
    "start_time": "2021-07-07T13:49:59.215Z"
   },
   {
    "duration": 5,
    "start_time": "2021-07-07T13:49:59.445Z"
   },
   {
    "duration": 210,
    "start_time": "2021-07-07T13:49:59.711Z"
   },
   {
    "duration": 198,
    "start_time": "2021-07-07T13:50:00.214Z"
   },
   {
    "duration": 7,
    "start_time": "2021-07-07T13:50:00.685Z"
   },
   {
    "duration": 298,
    "start_time": "2021-07-07T13:50:00.908Z"
   },
   {
    "duration": 4,
    "start_time": "2021-07-07T13:50:01.399Z"
   },
   {
    "duration": 5,
    "start_time": "2021-07-07T13:50:01.645Z"
   },
   {
    "duration": 215,
    "start_time": "2021-07-07T13:50:01.898Z"
   },
   {
    "duration": 8,
    "start_time": "2021-07-07T13:50:02.395Z"
   },
   {
    "duration": 327,
    "start_time": "2021-07-07T13:50:02.660Z"
   },
   {
    "duration": 9,
    "start_time": "2021-07-07T13:50:03.092Z"
   },
   {
    "duration": 98,
    "start_time": "2021-07-07T13:50:03.301Z"
   },
   {
    "duration": 8,
    "start_time": "2021-07-07T13:50:03.504Z"
   },
   {
    "duration": 269,
    "start_time": "2021-07-07T13:50:03.706Z"
   },
   {
    "duration": 5,
    "start_time": "2021-07-07T13:50:03.985Z"
   },
   {
    "duration": 11,
    "start_time": "2021-07-07T13:50:04.601Z"
   },
   {
    "duration": 269,
    "start_time": "2021-07-07T13:50:04.834Z"
   },
   {
    "duration": 6,
    "start_time": "2021-07-07T13:50:05.288Z"
   },
   {
    "duration": 298,
    "start_time": "2021-07-07T13:50:05.969Z"
   },
   {
    "duration": 121,
    "start_time": "2021-07-07T13:50:06.269Z"
   },
   {
    "duration": 7,
    "start_time": "2021-07-07T13:50:06.392Z"
   },
   {
    "duration": 9,
    "start_time": "2021-07-07T13:50:06.804Z"
   },
   {
    "duration": 204,
    "start_time": "2021-07-07T13:50:43.681Z"
   },
   {
    "duration": 8,
    "start_time": "2021-07-07T13:52:53.090Z"
   },
   {
    "duration": 7,
    "start_time": "2021-07-07T13:53:01.787Z"
   },
   {
    "duration": 5,
    "start_time": "2021-07-07T13:53:05.872Z"
   },
   {
    "duration": 909,
    "start_time": "2021-07-07T20:12:33.144Z"
   },
   {
    "duration": 16,
    "start_time": "2021-07-07T20:12:34.055Z"
   },
   {
    "duration": 9,
    "start_time": "2021-07-07T20:12:34.335Z"
   },
   {
    "duration": 4,
    "start_time": "2021-07-07T20:12:34.949Z"
   },
   {
    "duration": 13,
    "start_time": "2021-07-07T20:12:35.759Z"
   },
   {
    "duration": 4,
    "start_time": "2021-07-07T20:12:36.317Z"
   },
   {
    "duration": 9,
    "start_time": "2021-07-07T20:12:36.919Z"
   },
   {
    "duration": 49,
    "start_time": "2021-07-07T20:12:38.968Z"
   },
   {
    "duration": 12,
    "start_time": "2021-07-07T20:12:39.329Z"
   },
   {
    "duration": 7,
    "start_time": "2021-07-07T20:12:39.875Z"
   },
   {
    "duration": 7,
    "start_time": "2021-07-07T20:12:40.321Z"
   },
   {
    "duration": 302,
    "start_time": "2021-07-07T20:12:40.834Z"
   },
   {
    "duration": 8,
    "start_time": "2021-07-07T20:12:41.344Z"
   },
   {
    "duration": 5,
    "start_time": "2021-07-07T20:12:41.832Z"
   },
   {
    "duration": 5,
    "start_time": "2021-07-07T20:12:42.379Z"
   },
   {
    "duration": 179,
    "start_time": "2021-07-07T20:12:42.883Z"
   },
   {
    "duration": 162,
    "start_time": "2021-07-07T20:12:44.169Z"
   },
   {
    "duration": 6,
    "start_time": "2021-07-07T20:12:45.731Z"
   },
   {
    "duration": 242,
    "start_time": "2021-07-07T20:12:46.431Z"
   },
   {
    "duration": 4,
    "start_time": "2021-07-07T20:12:48.234Z"
   },
   {
    "duration": 6,
    "start_time": "2021-07-07T20:12:48.874Z"
   },
   {
    "duration": 160,
    "start_time": "2021-07-07T20:12:49.466Z"
   },
   {
    "duration": 8,
    "start_time": "2021-07-07T20:12:50.737Z"
   },
   {
    "duration": 282,
    "start_time": "2021-07-07T20:12:51.396Z"
   },
   {
    "duration": 8,
    "start_time": "2021-07-07T20:12:52.868Z"
   },
   {
    "duration": 106,
    "start_time": "2021-07-07T20:12:53.588Z"
   },
   {
    "duration": 8,
    "start_time": "2021-07-07T20:12:54.321Z"
   },
   {
    "duration": 254,
    "start_time": "2021-07-07T20:12:55.015Z"
   },
   {
    "duration": 5,
    "start_time": "2021-07-07T20:12:55.654Z"
   },
   {
    "duration": 9,
    "start_time": "2021-07-07T20:13:41.035Z"
   },
   {
    "duration": 252,
    "start_time": "2021-07-07T20:13:41.754Z"
   },
   {
    "duration": 4,
    "start_time": "2021-07-07T20:13:42.920Z"
   },
   {
    "duration": 237,
    "start_time": "2021-07-07T20:13:44.529Z"
   },
   {
    "duration": 110,
    "start_time": "2021-07-07T20:13:45.190Z"
   },
   {
    "duration": 6,
    "start_time": "2021-07-07T20:13:45.984Z"
   },
   {
    "duration": 8,
    "start_time": "2021-07-07T20:13:46.702Z"
   },
   {
    "duration": 4,
    "start_time": "2021-07-07T20:13:47.310Z"
   },
   {
    "duration": 7,
    "start_time": "2021-07-07T20:15:06.962Z"
   },
   {
    "duration": 9,
    "start_time": "2021-07-07T20:15:19.387Z"
   },
   {
    "duration": 2,
    "start_time": "2021-07-07T20:35:20.291Z"
   },
   {
    "duration": 6359,
    "start_time": "2021-07-07T20:36:19.255Z"
   },
   {
    "duration": 5217,
    "start_time": "2021-07-07T20:37:41.815Z"
   },
   {
    "duration": 10,
    "start_time": "2021-07-07T20:37:57.750Z"
   },
   {
    "duration": 9,
    "start_time": "2021-07-07T20:38:08.945Z"
   },
   {
    "duration": 11,
    "start_time": "2021-07-07T20:38:19.278Z"
   },
   {
    "duration": 227,
    "start_time": "2021-07-07T20:42:40.581Z"
   },
   {
    "duration": 5,
    "start_time": "2021-07-07T20:42:56.270Z"
   },
   {
    "duration": 19,
    "start_time": "2021-07-07T20:52:30.218Z"
   },
   {
    "duration": 5,
    "start_time": "2021-07-07T20:52:40.063Z"
   },
   {
    "duration": 8,
    "start_time": "2021-07-07T20:52:53.182Z"
   },
   {
    "duration": 6,
    "start_time": "2021-07-07T20:53:01.677Z"
   },
   {
    "duration": 6390,
    "start_time": "2021-07-07T20:56:21.357Z"
   },
   {
    "duration": 11,
    "start_time": "2021-07-07T20:56:59.555Z"
   },
   {
    "duration": 5870,
    "start_time": "2021-07-07T20:57:59.735Z"
   },
   {
    "duration": 13,
    "start_time": "2021-07-07T20:58:15.442Z"
   },
   {
    "duration": 1636,
    "start_time": "2021-07-08T13:24:03.710Z"
   },
   {
    "duration": 673,
    "start_time": "2021-07-08T13:24:05.349Z"
   },
   {
    "duration": 24,
    "start_time": "2021-07-08T13:24:06.027Z"
   },
   {
    "duration": 4,
    "start_time": "2021-07-08T13:24:30.829Z"
   },
   {
    "duration": 32,
    "start_time": "2021-07-08T13:24:31.840Z"
   },
   {
    "duration": 8,
    "start_time": "2021-07-08T13:24:32.299Z"
   },
   {
    "duration": 15,
    "start_time": "2021-07-08T13:24:32.753Z"
   },
   {
    "duration": 1369,
    "start_time": "2021-07-08T21:15:05.606Z"
   },
   {
    "duration": 19,
    "start_time": "2021-07-08T21:15:06.978Z"
   },
   {
    "duration": 19,
    "start_time": "2021-07-08T21:15:07.000Z"
   },
   {
    "duration": 3,
    "start_time": "2021-07-08T21:15:07.029Z"
   },
   {
    "duration": 20,
    "start_time": "2021-07-08T21:15:08.085Z"
   },
   {
    "duration": 6,
    "start_time": "2021-07-08T21:15:09.562Z"
   },
   {
    "duration": 14,
    "start_time": "2021-07-08T21:15:10.004Z"
   },
   {
    "duration": 50,
    "start_time": "2021-07-08T21:15:12.693Z"
   },
   {
    "duration": 21,
    "start_time": "2021-07-08T21:15:13.420Z"
   },
   {
    "duration": 13,
    "start_time": "2021-07-08T21:15:15.898Z"
   },
   {
    "duration": 10,
    "start_time": "2021-07-08T21:15:16.853Z"
   },
   {
    "duration": 55,
    "start_time": "2021-07-08T21:15:57.780Z"
   },
   {
    "duration": 22,
    "start_time": "2021-07-08T21:15:58.626Z"
   },
   {
    "duration": 12,
    "start_time": "2021-07-08T21:16:01.614Z"
   },
   {
    "duration": 9,
    "start_time": "2021-07-08T21:18:45.277Z"
   },
   {
    "duration": 321,
    "start_time": "2021-07-08T21:19:27.585Z"
   },
   {
    "duration": 269,
    "start_time": "2021-07-08T21:20:54.232Z"
   },
   {
    "duration": 9,
    "start_time": "2021-07-08T21:21:25.056Z"
   },
   {
    "duration": 12,
    "start_time": "2021-07-08T21:21:35.449Z"
   },
   {
    "duration": 376,
    "start_time": "2021-07-08T21:24:58.040Z"
   },
   {
    "duration": 7,
    "start_time": "2021-07-08T21:25:09.154Z"
   },
   {
    "duration": 6,
    "start_time": "2021-07-08T21:25:10.189Z"
   },
   {
    "duration": 563,
    "start_time": "2021-07-08T21:25:11.012Z"
   },
   {
    "duration": 321,
    "start_time": "2021-07-08T21:26:12.147Z"
   },
   {
    "duration": 306,
    "start_time": "2021-07-08T21:26:37.770Z"
   },
   {
    "duration": 92,
    "start_time": "2021-07-08T21:27:10.365Z"
   },
   {
    "duration": 511,
    "start_time": "2021-07-08T21:27:21.677Z"
   },
   {
    "duration": 299,
    "start_time": "2021-07-08T21:28:28.374Z"
   },
   {
    "duration": 320,
    "start_time": "2021-07-08T21:30:51.865Z"
   },
   {
    "duration": 432,
    "start_time": "2021-07-08T21:31:02.279Z"
   },
   {
    "duration": 370,
    "start_time": "2021-07-08T21:31:18.367Z"
   },
   {
    "duration": 365,
    "start_time": "2021-07-08T21:31:43.760Z"
   },
   {
    "duration": 479,
    "start_time": "2021-07-08T21:31:59.164Z"
   },
   {
    "duration": 411,
    "start_time": "2021-07-08T21:32:17.133Z"
   },
   {
    "duration": 410,
    "start_time": "2021-07-08T21:32:30.958Z"
   },
   {
    "duration": 387,
    "start_time": "2021-07-08T21:32:36.919Z"
   },
   {
    "duration": 417,
    "start_time": "2021-07-08T21:36:25.586Z"
   },
   {
    "duration": 3,
    "start_time": "2021-07-08T21:55:23.632Z"
   },
   {
    "duration": 21,
    "start_time": "2021-07-08T21:55:24.189Z"
   },
   {
    "duration": 11,
    "start_time": "2021-07-08T21:55:24.758Z"
   },
   {
    "duration": 4,
    "start_time": "2021-07-08T21:55:25.477Z"
   },
   {
    "duration": 15,
    "start_time": "2021-07-08T21:55:29.113Z"
   },
   {
    "duration": 18,
    "start_time": "2021-07-08T21:56:03.293Z"
   },
   {
    "duration": 11,
    "start_time": "2021-07-08T21:56:04.031Z"
   },
   {
    "duration": 4,
    "start_time": "2021-07-08T21:56:09.945Z"
   },
   {
    "duration": 268,
    "start_time": "2021-07-08T21:58:49.130Z"
   },
   {
    "duration": 4,
    "start_time": "2021-07-08T21:59:05.154Z"
   },
   {
    "duration": 282,
    "start_time": "2021-07-08T21:59:05.872Z"
   },
   {
    "duration": 276,
    "start_time": "2021-07-08T22:01:18.945Z"
   },
   {
    "duration": 306,
    "start_time": "2021-07-08T22:01:49.562Z"
   },
   {
    "duration": 4,
    "start_time": "2021-07-08T22:03:44.979Z"
   },
   {
    "duration": 261,
    "start_time": "2021-07-08T22:03:45.904Z"
   },
   {
    "duration": 4,
    "start_time": "2021-07-08T22:03:48.959Z"
   },
   {
    "duration": 18,
    "start_time": "2021-07-08T22:03:50.023Z"
   },
   {
    "duration": 12,
    "start_time": "2021-07-08T22:03:50.890Z"
   },
   {
    "duration": 4,
    "start_time": "2021-07-08T22:09:56.396Z"
   },
   {
    "duration": 4,
    "start_time": "2021-07-08T22:10:02.868Z"
   },
   {
    "duration": 17,
    "start_time": "2021-07-08T22:10:05.871Z"
   },
   {
    "duration": 21,
    "start_time": "2021-07-08T22:10:06.541Z"
   },
   {
    "duration": 4,
    "start_time": "2021-07-08T22:10:27.946Z"
   },
   {
    "duration": 15,
    "start_time": "2021-07-08T22:10:29.740Z"
   },
   {
    "duration": 6,
    "start_time": "2021-07-08T22:10:46.185Z"
   },
   {
    "duration": 15,
    "start_time": "2021-07-08T22:10:46.820Z"
   },
   {
    "duration": 51,
    "start_time": "2021-07-08T22:13:08.483Z"
   },
   {
    "duration": 21,
    "start_time": "2021-07-08T22:13:09.060Z"
   },
   {
    "duration": 13,
    "start_time": "2021-07-08T22:13:09.680Z"
   },
   {
    "duration": 11,
    "start_time": "2021-07-08T22:13:10.366Z"
   },
   {
    "duration": 9,
    "start_time": "2021-07-08T22:13:11.675Z"
   },
   {
    "duration": 328,
    "start_time": "2021-07-08T22:13:12.337Z"
   },
   {
    "duration": 255,
    "start_time": "2021-07-08T22:13:13.715Z"
   },
   {
    "duration": 9,
    "start_time": "2021-07-08T22:13:14.283Z"
   },
   {
    "duration": 13,
    "start_time": "2021-07-08T22:13:14.845Z"
   },
   {
    "duration": 7,
    "start_time": "2021-07-08T22:13:15.596Z"
   },
   {
    "duration": 7,
    "start_time": "2021-07-08T22:16:28.901Z"
   },
   {
    "duration": 547,
    "start_time": "2021-07-08T22:16:29.695Z"
   },
   {
    "duration": 364,
    "start_time": "2021-07-08T22:16:33.123Z"
   },
   {
    "duration": 98,
    "start_time": "2021-07-08T22:18:06.501Z"
   },
   {
    "duration": 388,
    "start_time": "2021-07-08T22:18:19.226Z"
   },
   {
    "duration": 381,
    "start_time": "2021-07-08T22:18:40.031Z"
   },
   {
    "duration": 275,
    "start_time": "2021-07-08T22:30:26.980Z"
   },
   {
    "duration": 9,
    "start_time": "2021-07-08T22:30:35.173Z"
   },
   {
    "duration": 471,
    "start_time": "2021-07-08T22:30:35.760Z"
   },
   {
    "duration": 551,
    "start_time": "2021-07-08T22:32:15.872Z"
   },
   {
    "duration": 6,
    "start_time": "2021-07-08T22:34:13.788Z"
   },
   {
    "duration": 5,
    "start_time": "2021-07-08T22:34:18.588Z"
   },
   {
    "duration": 6,
    "start_time": "2021-07-08T22:34:19.111Z"
   },
   {
    "duration": 5,
    "start_time": "2021-07-08T22:34:19.572Z"
   },
   {
    "duration": 298,
    "start_time": "2021-07-08T22:34:20.915Z"
   },
   {
    "duration": 622,
    "start_time": "2021-07-08T22:35:25.978Z"
   },
   {
    "duration": 5,
    "start_time": "2021-07-08T22:35:34.430Z"
   },
   {
    "duration": 6,
    "start_time": "2021-07-08T22:35:34.781Z"
   },
   {
    "duration": 5,
    "start_time": "2021-07-08T22:35:35.199Z"
   },
   {
    "duration": 339,
    "start_time": "2021-07-08T22:35:35.670Z"
   },
   {
    "duration": 376,
    "start_time": "2021-07-08T22:35:58.959Z"
   },
   {
    "duration": 1378,
    "start_time": "2021-07-09T13:22:10.737Z"
   },
   {
    "duration": 5,
    "start_time": "2021-07-09T13:22:12.118Z"
   },
   {
    "duration": 23,
    "start_time": "2021-07-09T13:22:12.127Z"
   },
   {
    "duration": 18,
    "start_time": "2021-07-09T13:22:13.034Z"
   },
   {
    "duration": 5,
    "start_time": "2021-07-09T13:22:13.735Z"
   },
   {
    "duration": 27,
    "start_time": "2021-07-09T13:22:14.982Z"
   },
   {
    "duration": 7,
    "start_time": "2021-07-09T13:22:16.760Z"
   },
   {
    "duration": 14,
    "start_time": "2021-07-09T13:22:17.327Z"
   },
   {
    "duration": 83,
    "start_time": "2021-07-09T13:22:20.718Z"
   },
   {
    "duration": 22,
    "start_time": "2021-07-09T13:22:21.605Z"
   },
   {
    "duration": 12,
    "start_time": "2021-07-09T13:22:22.203Z"
   },
   {
    "duration": 16,
    "start_time": "2021-07-09T13:22:22.883Z"
   },
   {
    "duration": 7,
    "start_time": "2021-07-09T13:22:23.712Z"
   },
   {
    "duration": 364,
    "start_time": "2021-07-09T13:22:24.395Z"
   },
   {
    "duration": 292,
    "start_time": "2021-07-09T13:22:25.054Z"
   },
   {
    "duration": 14,
    "start_time": "2021-07-09T13:22:25.688Z"
   },
   {
    "duration": 16,
    "start_time": "2021-07-09T13:22:26.276Z"
   },
   {
    "duration": 7,
    "start_time": "2021-07-09T13:22:27.029Z"
   },
   {
    "duration": 7,
    "start_time": "2021-07-09T13:22:27.642Z"
   },
   {
    "duration": 470,
    "start_time": "2021-07-09T13:22:28.494Z"
   },
   {
    "duration": 453,
    "start_time": "2021-07-09T13:22:39.544Z"
   },
   {
    "duration": 10,
    "start_time": "2021-07-09T13:22:51.399Z"
   },
   {
    "duration": 573,
    "start_time": "2021-07-09T13:22:52.449Z"
   },
   {
    "duration": 440,
    "start_time": "2021-07-09T13:25:41.685Z"
   },
   {
    "duration": 4,
    "start_time": "2021-07-09T13:25:56.349Z"
   },
   {
    "duration": 4,
    "start_time": "2021-07-09T13:25:56.930Z"
   },
   {
    "duration": 19,
    "start_time": "2021-07-09T13:25:57.380Z"
   },
   {
    "duration": 12,
    "start_time": "2021-07-09T13:25:57.733Z"
   },
   {
    "duration": 4,
    "start_time": "2021-07-09T13:25:58.139Z"
   },
   {
    "duration": 16,
    "start_time": "2021-07-09T13:25:58.885Z"
   },
   {
    "duration": 7,
    "start_time": "2021-07-09T13:25:59.790Z"
   },
   {
    "duration": 16,
    "start_time": "2021-07-09T13:26:00.083Z"
   },
   {
    "duration": 65,
    "start_time": "2021-07-09T13:26:01.861Z"
   },
   {
    "duration": 25,
    "start_time": "2021-07-09T13:26:02.195Z"
   },
   {
    "duration": 14,
    "start_time": "2021-07-09T13:26:02.456Z"
   },
   {
    "duration": 12,
    "start_time": "2021-07-09T13:26:02.707Z"
   },
   {
    "duration": 10,
    "start_time": "2021-07-09T13:26:03.011Z"
   },
   {
    "duration": 364,
    "start_time": "2021-07-09T13:26:03.302Z"
   },
   {
    "duration": 290,
    "start_time": "2021-07-09T13:26:03.669Z"
   },
   {
    "duration": 28,
    "start_time": "2021-07-09T13:26:03.963Z"
   },
   {
    "duration": 15,
    "start_time": "2021-07-09T13:26:04.133Z"
   },
   {
    "duration": 9,
    "start_time": "2021-07-09T13:26:04.311Z"
   },
   {
    "duration": 11,
    "start_time": "2021-07-09T13:26:04.520Z"
   },
   {
    "duration": 761,
    "start_time": "2021-07-09T13:26:04.757Z"
   },
   {
    "duration": 735,
    "start_time": "2021-07-09T13:26:06.498Z"
   },
   {
    "duration": 9,
    "start_time": "2021-07-09T13:26:07.805Z"
   },
   {
    "duration": 573,
    "start_time": "2021-07-09T13:26:08.365Z"
   },
   {
    "duration": 5,
    "start_time": "2021-07-09T13:26:10.368Z"
   },
   {
    "duration": 6,
    "start_time": "2021-07-09T13:26:10.911Z"
   },
   {
    "duration": 6,
    "start_time": "2021-07-09T13:26:11.506Z"
   },
   {
    "duration": 418,
    "start_time": "2021-07-09T13:26:12.138Z"
   },
   {
    "duration": 544,
    "start_time": "2021-07-09T13:26:41.060Z"
   },
   {
    "duration": 474,
    "start_time": "2021-07-09T13:26:51.568Z"
   },
   {
    "duration": 400,
    "start_time": "2021-07-09T13:32:16.968Z"
   },
   {
    "duration": 12,
    "start_time": "2021-07-09T13:32:19.561Z"
   },
   {
    "duration": 483,
    "start_time": "2021-07-09T13:32:20.524Z"
   },
   {
    "duration": 503,
    "start_time": "2021-07-09T13:33:08.315Z"
   },
   {
    "duration": 591,
    "start_time": "2021-07-09T13:51:40.970Z"
   },
   {
    "duration": 585,
    "start_time": "2021-07-09T13:52:03.650Z"
   },
   {
    "duration": 14,
    "start_time": "2021-07-09T14:01:35.511Z"
   },
   {
    "duration": 7,
    "start_time": "2021-07-09T14:03:32.895Z"
   },
   {
    "duration": 489,
    "start_time": "2021-07-09T14:04:21.224Z"
   },
   {
    "duration": 356,
    "start_time": "2021-07-09T14:20:10.866Z"
   },
   {
    "duration": 233,
    "start_time": "2021-07-09T14:20:19.503Z"
   },
   {
    "duration": 13,
    "start_time": "2021-07-09T14:20:20.109Z"
   },
   {
    "duration": 278,
    "start_time": "2021-07-09T14:20:21.930Z"
   },
   {
    "duration": 414,
    "start_time": "2021-07-09T14:21:48.347Z"
   },
   {
    "duration": 9,
    "start_time": "2021-07-09T14:23:45.112Z"
   },
   {
    "duration": 16,
    "start_time": "2021-07-09T14:23:47.523Z"
   },
   {
    "duration": 7933,
    "start_time": "2021-07-09T14:27:53.967Z"
   },
   {
    "duration": 310,
    "start_time": "2021-07-09T14:28:38.981Z"
   },
   {
    "duration": 659,
    "start_time": "2021-07-09T14:29:51.654Z"
   },
   {
    "duration": 418,
    "start_time": "2021-07-09T14:35:21.843Z"
   },
   {
    "duration": 9,
    "start_time": "2021-07-09T14:35:36.735Z"
   },
   {
    "duration": 543,
    "start_time": "2021-07-09T14:35:43.380Z"
   },
   {
    "duration": 5,
    "start_time": "2021-07-09T14:35:56.783Z"
   },
   {
    "duration": 6,
    "start_time": "2021-07-09T14:35:57.363Z"
   },
   {
    "duration": 6,
    "start_time": "2021-07-09T14:35:57.693Z"
   },
   {
    "duration": 512,
    "start_time": "2021-07-09T14:35:58.520Z"
   },
   {
    "duration": 320,
    "start_time": "2021-07-09T14:41:54.312Z"
   },
   {
    "duration": 8,
    "start_time": "2021-07-09T14:42:06.161Z"
   },
   {
    "duration": 9,
    "start_time": "2021-07-09T14:42:21.672Z"
   },
   {
    "duration": 111,
    "start_time": "2021-07-09T15:00:32.006Z"
   },
   {
    "duration": 139,
    "start_time": "2021-07-09T15:00:35.478Z"
   },
   {
    "duration": 9139,
    "start_time": "2021-07-09T15:01:23.126Z"
   },
   {
    "duration": 8700,
    "start_time": "2021-07-09T15:01:35.631Z"
   },
   {
    "duration": 1450,
    "start_time": "2021-07-09T15:01:55.647Z"
   },
   {
    "duration": 4,
    "start_time": "2021-07-09T15:01:57.099Z"
   },
   {
    "duration": 24,
    "start_time": "2021-07-09T15:01:57.107Z"
   },
   {
    "duration": 18,
    "start_time": "2021-07-09T15:01:57.134Z"
   },
   {
    "duration": 31,
    "start_time": "2021-07-09T15:01:57.155Z"
   },
   {
    "duration": 31,
    "start_time": "2021-07-09T15:01:57.190Z"
   },
   {
    "duration": 6,
    "start_time": "2021-07-09T15:01:57.223Z"
   },
   {
    "duration": 54,
    "start_time": "2021-07-09T15:01:57.233Z"
   },
   {
    "duration": 54,
    "start_time": "2021-07-09T15:01:57.290Z"
   },
   {
    "duration": 22,
    "start_time": "2021-07-09T15:01:57.347Z"
   },
   {
    "duration": 15,
    "start_time": "2021-07-09T15:01:57.372Z"
   },
   {
    "duration": 12,
    "start_time": "2021-07-09T15:01:57.390Z"
   },
   {
    "duration": 9,
    "start_time": "2021-07-09T15:01:57.405Z"
   },
   {
    "duration": 11,
    "start_time": "2021-07-09T15:01:57.417Z"
   },
   {
    "duration": 56,
    "start_time": "2021-07-09T15:01:57.431Z"
   },
   {
    "duration": 373,
    "start_time": "2021-07-09T15:01:57.490Z"
   },
   {
    "duration": 273,
    "start_time": "2021-07-09T15:01:57.866Z"
   },
   {
    "duration": 9,
    "start_time": "2021-07-09T15:01:58.142Z"
   },
   {
    "duration": 34,
    "start_time": "2021-07-09T15:01:58.154Z"
   },
   {
    "duration": 9,
    "start_time": "2021-07-09T15:01:58.191Z"
   },
   {
    "duration": 12,
    "start_time": "2021-07-09T15:01:58.203Z"
   },
   {
    "duration": 472,
    "start_time": "2021-07-09T15:01:58.218Z"
   },
   {
    "duration": 445,
    "start_time": "2021-07-09T15:01:58.698Z"
   },
   {
    "duration": 10,
    "start_time": "2021-07-09T15:01:59.148Z"
   },
   {
    "duration": 577,
    "start_time": "2021-07-09T15:01:59.162Z"
   },
   {
    "duration": 6,
    "start_time": "2021-07-09T15:01:59.742Z"
   },
   {
    "duration": 8,
    "start_time": "2021-07-09T15:01:59.751Z"
   },
   {
    "duration": 27,
    "start_time": "2021-07-09T15:01:59.762Z"
   },
   {
    "duration": 522,
    "start_time": "2021-07-09T15:01:59.791Z"
   },
   {
    "duration": 12,
    "start_time": "2021-07-09T15:02:00.316Z"
   },
   {
    "duration": 19,
    "start_time": "2021-07-09T15:02:00.330Z"
   },
   {
    "duration": 555,
    "start_time": "2021-07-09T15:02:00.351Z"
   },
   {
    "duration": 14,
    "start_time": "2021-07-09T15:02:00.908Z"
   },
   {
    "duration": 198,
    "start_time": "2021-07-09T15:02:00.924Z"
   },
   {
    "duration": 10,
    "start_time": "2021-07-09T15:02:01.125Z"
   },
   {
    "duration": 280,
    "start_time": "2021-07-09T15:02:01.138Z"
   },
   {
    "duration": 359,
    "start_time": "2021-07-09T15:02:01.421Z"
   },
   {
    "duration": 7,
    "start_time": "2021-07-09T15:02:01.785Z"
   },
   {
    "duration": 28,
    "start_time": "2021-07-09T15:02:01.794Z"
   },
   {
    "duration": 421,
    "start_time": "2021-07-09T15:02:01.824Z"
   },
   {
    "duration": 8,
    "start_time": "2021-07-09T15:02:02.247Z"
   },
   {
    "duration": 485,
    "start_time": "2021-07-09T15:02:02.258Z"
   },
   {
    "duration": 111,
    "start_time": "2021-07-09T15:02:02.746Z"
   },
   {
    "duration": 149,
    "start_time": "2021-07-09T15:02:02.859Z"
   },
   {
    "duration": 7,
    "start_time": "2021-07-09T15:02:03.011Z"
   },
   {
    "duration": 13,
    "start_time": "2021-07-09T15:02:03.020Z"
   },
   {
    "duration": 18,
    "start_time": "2021-07-09T15:02:03.035Z"
   },
   {
    "duration": 33,
    "start_time": "2021-07-09T15:02:03.056Z"
   },
   {
    "duration": 23,
    "start_time": "2021-07-09T15:02:03.091Z"
   },
   {
    "duration": 27,
    "start_time": "2021-07-09T15:02:03.117Z"
   },
   {
    "duration": 49,
    "start_time": "2021-07-09T15:02:03.146Z"
   },
   {
    "duration": 14,
    "start_time": "2021-07-09T15:02:03.197Z"
   },
   {
    "duration": 17,
    "start_time": "2021-07-09T15:02:03.213Z"
   },
   {
    "duration": 21,
    "start_time": "2021-07-09T15:02:03.232Z"
   },
   {
    "duration": 32,
    "start_time": "2021-07-09T15:02:03.255Z"
   },
   {
    "duration": 23,
    "start_time": "2021-07-09T15:02:03.289Z"
   },
   {
    "duration": 18,
    "start_time": "2021-07-09T15:02:03.314Z"
   },
   {
    "duration": 6,
    "start_time": "2021-07-09T16:01:13.179Z"
   },
   {
    "duration": 4,
    "start_time": "2021-07-09T16:01:13.732Z"
   },
   {
    "duration": 19,
    "start_time": "2021-07-09T16:01:14.539Z"
   },
   {
    "duration": 13,
    "start_time": "2021-07-09T16:01:15.269Z"
   },
   {
    "duration": 5,
    "start_time": "2021-07-09T16:01:16.002Z"
   },
   {
    "duration": 20,
    "start_time": "2021-07-09T16:01:17.151Z"
   },
   {
    "duration": 7,
    "start_time": "2021-07-09T16:01:18.974Z"
   },
   {
    "duration": 16,
    "start_time": "2021-07-09T16:01:19.499Z"
   },
   {
    "duration": 53,
    "start_time": "2021-07-09T16:01:22.213Z"
   },
   {
    "duration": 21,
    "start_time": "2021-07-09T16:01:22.699Z"
   },
   {
    "duration": 11,
    "start_time": "2021-07-09T16:01:23.099Z"
   },
   {
    "duration": 11,
    "start_time": "2021-07-09T16:01:23.402Z"
   },
   {
    "duration": 8,
    "start_time": "2021-07-09T16:01:23.649Z"
   },
   {
    "duration": 8,
    "start_time": "2021-07-09T16:01:23.910Z"
   },
   {
    "duration": 7,
    "start_time": "2021-07-09T16:01:24.151Z"
   },
   {
    "duration": 353,
    "start_time": "2021-07-09T16:01:24.389Z"
   },
   {
    "duration": 279,
    "start_time": "2021-07-09T16:01:24.745Z"
   },
   {
    "duration": 12,
    "start_time": "2021-07-09T16:01:25.028Z"
   },
   {
    "duration": 13,
    "start_time": "2021-07-09T16:01:25.182Z"
   },
   {
    "duration": 7,
    "start_time": "2021-07-09T16:01:25.449Z"
   },
   {
    "duration": 6,
    "start_time": "2021-07-09T16:01:25.673Z"
   },
   {
    "duration": 489,
    "start_time": "2021-07-09T16:01:25.923Z"
   },
   {
    "duration": 415,
    "start_time": "2021-07-09T16:01:26.732Z"
   },
   {
    "duration": 9,
    "start_time": "2021-07-09T16:01:27.550Z"
   },
   {
    "duration": 536,
    "start_time": "2021-07-09T16:01:27.779Z"
   },
   {
    "duration": 5,
    "start_time": "2021-07-09T16:01:28.586Z"
   },
   {
    "duration": 6,
    "start_time": "2021-07-09T16:01:28.835Z"
   },
   {
    "duration": 6,
    "start_time": "2021-07-09T16:01:28.995Z"
   },
   {
    "duration": 520,
    "start_time": "2021-07-09T16:01:29.212Z"
   },
   {
    "duration": 13,
    "start_time": "2021-07-09T16:01:29.942Z"
   },
   {
    "duration": 9,
    "start_time": "2021-07-09T16:01:30.070Z"
   },
   {
    "duration": 496,
    "start_time": "2021-07-09T16:01:30.293Z"
   },
   {
    "duration": 13,
    "start_time": "2021-07-09T16:01:30.969Z"
   },
   {
    "duration": 184,
    "start_time": "2021-07-09T16:01:31.398Z"
   },
   {
    "duration": 10,
    "start_time": "2021-07-09T16:01:31.594Z"
   },
   {
    "duration": 260,
    "start_time": "2021-07-09T16:01:32.216Z"
   },
   {
    "duration": 365,
    "start_time": "2021-07-09T16:01:32.913Z"
   },
   {
    "duration": 7,
    "start_time": "2021-07-09T16:01:33.657Z"
   },
   {
    "duration": 14,
    "start_time": "2021-07-09T16:01:34.635Z"
   },
   {
    "duration": 371,
    "start_time": "2021-07-09T16:01:35.736Z"
   },
   {
    "duration": 7,
    "start_time": "2021-07-09T16:01:36.438Z"
   },
   {
    "duration": 462,
    "start_time": "2021-07-09T16:01:37.794Z"
   },
   {
    "duration": 107,
    "start_time": "2021-07-09T16:01:40.440Z"
   },
   {
    "duration": 123,
    "start_time": "2021-07-09T16:01:40.712Z"
   },
   {
    "duration": 7,
    "start_time": "2021-07-09T16:01:41.595Z"
   },
   {
    "duration": 6,
    "start_time": "2021-07-09T16:01:42.141Z"
   },
   {
    "duration": 11,
    "start_time": "2021-07-09T16:01:43.298Z"
   },
   {
    "duration": 7,
    "start_time": "2021-07-09T16:01:44.255Z"
   },
   {
    "duration": 11,
    "start_time": "2021-07-09T16:01:46.308Z"
   },
   {
    "duration": 13,
    "start_time": "2021-07-09T16:01:46.930Z"
   },
   {
    "duration": 7,
    "start_time": "2021-07-09T16:11:11.446Z"
   },
   {
    "duration": 6,
    "start_time": "2021-07-09T16:11:12.314Z"
   },
   {
    "duration": 10,
    "start_time": "2021-07-09T16:11:13.000Z"
   },
   {
    "duration": 6,
    "start_time": "2021-07-09T16:11:15.170Z"
   },
   {
    "duration": 8,
    "start_time": "2021-07-09T16:12:31.120Z"
   },
   {
    "duration": 8,
    "start_time": "2021-07-09T16:12:37.686Z"
   },
   {
    "duration": 15,
    "start_time": "2021-07-09T16:18:40.593Z"
   },
   {
    "duration": 16,
    "start_time": "2021-07-09T16:18:42.611Z"
   },
   {
    "duration": 6,
    "start_time": "2021-07-09T16:47:38.779Z"
   },
   {
    "duration": 10,
    "start_time": "2021-07-09T16:47:40.894Z"
   },
   {
    "duration": 6,
    "start_time": "2021-07-09T16:47:41.964Z"
   },
   {
    "duration": 8,
    "start_time": "2021-07-09T16:47:45.208Z"
   },
   {
    "duration": 8,
    "start_time": "2021-07-09T16:47:46.073Z"
   },
   {
    "duration": 12,
    "start_time": "2021-07-09T16:47:47.439Z"
   },
   {
    "duration": 10,
    "start_time": "2021-07-09T16:47:48.419Z"
   },
   {
    "duration": 24,
    "start_time": "2021-07-09T16:48:07.991Z"
   },
   {
    "duration": 23,
    "start_time": "2021-07-09T16:48:08.637Z"
   },
   {
    "duration": 6,
    "start_time": "2021-07-09T16:48:50.801Z"
   },
   {
    "duration": 20,
    "start_time": "2021-07-09T16:48:50.812Z"
   },
   {
    "duration": 7,
    "start_time": "2021-07-09T16:48:51.334Z"
   },
   {
    "duration": 9,
    "start_time": "2021-07-09T16:48:53.190Z"
   },
   {
    "duration": 11,
    "start_time": "2021-07-09T16:48:53.559Z"
   },
   {
    "duration": 10,
    "start_time": "2021-07-09T16:48:54.716Z"
   },
   {
    "duration": 7,
    "start_time": "2021-07-09T16:48:55.460Z"
   },
   {
    "duration": 15,
    "start_time": "2021-07-09T16:48:57.772Z"
   },
   {
    "duration": 15,
    "start_time": "2021-07-09T16:48:58.862Z"
   },
   {
    "duration": 8,
    "start_time": "2021-07-09T16:50:16.232Z"
   },
   {
    "duration": 7,
    "start_time": "2021-07-09T16:50:16.928Z"
   },
   {
    "duration": 11,
    "start_time": "2021-07-09T16:50:19.629Z"
   },
   {
    "duration": 8,
    "start_time": "2021-07-09T16:50:19.644Z"
   },
   {
    "duration": 9,
    "start_time": "2021-07-09T16:50:26.159Z"
   },
   {
    "duration": 10,
    "start_time": "2021-07-09T16:50:26.842Z"
   },
   {
    "duration": 11,
    "start_time": "2021-07-09T16:50:28.096Z"
   },
   {
    "duration": 7,
    "start_time": "2021-07-09T16:50:28.829Z"
   },
   {
    "duration": 15,
    "start_time": "2021-07-09T16:50:36.860Z"
   },
   {
    "duration": 15,
    "start_time": "2021-07-09T16:50:37.329Z"
   },
   {
    "duration": 8,
    "start_time": "2021-07-09T16:51:09.374Z"
   },
   {
    "duration": 6,
    "start_time": "2021-07-09T16:51:09.918Z"
   },
   {
    "duration": 9,
    "start_time": "2021-07-09T16:51:10.473Z"
   },
   {
    "duration": 5,
    "start_time": "2021-07-09T16:51:11.744Z"
   },
   {
    "duration": 9,
    "start_time": "2021-07-09T16:51:18.822Z"
   },
   {
    "duration": 8,
    "start_time": "2021-07-09T16:51:19.404Z"
   },
   {
    "duration": 9,
    "start_time": "2021-07-09T16:51:20.582Z"
   },
   {
    "duration": 7,
    "start_time": "2021-07-09T16:51:21.236Z"
   },
   {
    "duration": 23,
    "start_time": "2021-07-09T16:51:37.081Z"
   },
   {
    "duration": 25,
    "start_time": "2021-07-09T16:51:37.424Z"
   },
   {
    "duration": 8,
    "start_time": "2021-07-09T16:52:28.402Z"
   },
   {
    "duration": 7,
    "start_time": "2021-07-09T16:52:29.292Z"
   },
   {
    "duration": 6,
    "start_time": "2021-07-09T16:52:35.789Z"
   },
   {
    "duration": 11,
    "start_time": "2021-07-09T16:52:36.453Z"
   },
   {
    "duration": 6,
    "start_time": "2021-07-09T16:52:37.765Z"
   },
   {
    "duration": 9,
    "start_time": "2021-07-09T16:52:47.047Z"
   },
   {
    "duration": 9,
    "start_time": "2021-07-09T16:52:47.987Z"
   },
   {
    "duration": 9,
    "start_time": "2021-07-09T16:52:49.342Z"
   },
   {
    "duration": 9,
    "start_time": "2021-07-09T16:52:50.189Z"
   },
   {
    "duration": 17,
    "start_time": "2021-07-09T16:53:13.454Z"
   },
   {
    "duration": 14,
    "start_time": "2021-07-09T16:53:14.429Z"
   },
   {
    "duration": 4,
    "start_time": "2021-07-09T16:59:00.031Z"
   },
   {
    "duration": 4,
    "start_time": "2021-07-09T16:59:01.827Z"
   },
   {
    "duration": 41,
    "start_time": "2021-07-09T16:59:01.834Z"
   },
   {
    "duration": 14,
    "start_time": "2021-07-09T16:59:02.381Z"
   },
   {
    "duration": 5,
    "start_time": "2021-07-09T16:59:03.567Z"
   },
   {
    "duration": 16,
    "start_time": "2021-07-09T16:59:05.174Z"
   },
   {
    "duration": 7,
    "start_time": "2021-07-09T16:59:20.846Z"
   },
   {
    "duration": 13,
    "start_time": "2021-07-09T16:59:21.395Z"
   },
   {
    "duration": 55,
    "start_time": "2021-07-09T16:59:42.006Z"
   },
   {
    "duration": 40,
    "start_time": "2021-07-09T16:59:47.401Z"
   },
   {
    "duration": 19,
    "start_time": "2021-07-09T16:59:48.042Z"
   },
   {
    "duration": 10,
    "start_time": "2021-07-09T16:59:48.728Z"
   },
   {
    "duration": 8,
    "start_time": "2021-07-09T16:59:49.439Z"
   },
   {
    "duration": 10,
    "start_time": "2021-07-09T16:59:50.421Z"
   },
   {
    "duration": 9,
    "start_time": "2021-07-09T16:59:56.135Z"
   },
   {
    "duration": 363,
    "start_time": "2021-07-09T16:59:56.826Z"
   },
   {
    "duration": 272,
    "start_time": "2021-07-09T16:59:57.396Z"
   },
   {
    "duration": 10,
    "start_time": "2021-07-09T16:59:58.631Z"
   },
   {
    "duration": 15,
    "start_time": "2021-07-09T17:00:03.479Z"
   },
   {
    "duration": 9,
    "start_time": "2021-07-09T17:00:04.185Z"
   },
   {
    "duration": 7,
    "start_time": "2021-07-09T17:00:07.879Z"
   },
   {
    "duration": 447,
    "start_time": "2021-07-09T17:00:16.286Z"
   },
   {
    "duration": 508,
    "start_time": "2021-07-09T17:00:51.746Z"
   },
   {
    "duration": 14,
    "start_time": "2021-07-09T17:01:13.911Z"
   },
   {
    "duration": 518,
    "start_time": "2021-07-09T17:01:15.104Z"
   },
   {
    "duration": 5,
    "start_time": "2021-07-09T17:01:46.827Z"
   },
   {
    "duration": 6,
    "start_time": "2021-07-09T17:01:47.451Z"
   },
   {
    "duration": 6,
    "start_time": "2021-07-09T17:01:47.995Z"
   },
   {
    "duration": 411,
    "start_time": "2021-07-09T17:01:49.509Z"
   },
   {
    "duration": 11,
    "start_time": "2021-07-09T17:02:16.134Z"
   },
   {
    "duration": 8,
    "start_time": "2021-07-09T17:02:16.570Z"
   },
   {
    "duration": 610,
    "start_time": "2021-07-09T17:02:17.209Z"
   },
   {
    "duration": 822,
    "start_time": "2021-07-09T17:03:11.590Z"
   },
   {
    "duration": 22,
    "start_time": "2021-07-09T17:03:22.420Z"
   },
   {
    "duration": 390,
    "start_time": "2021-07-09T17:03:24.253Z"
   },
   {
    "duration": 16,
    "start_time": "2021-07-09T17:03:26.993Z"
   },
   {
    "duration": 494,
    "start_time": "2021-07-09T17:03:33.206Z"
   },
   {
    "duration": 597,
    "start_time": "2021-07-09T17:03:45.801Z"
   },
   {
    "duration": 9,
    "start_time": "2021-07-09T17:04:05.826Z"
   },
   {
    "duration": 407,
    "start_time": "2021-07-09T17:05:19.248Z"
   },
   {
    "duration": 404,
    "start_time": "2021-07-09T17:05:25.843Z"
   },
   {
    "duration": 8,
    "start_time": "2021-07-09T17:07:20.863Z"
   },
   {
    "duration": 15,
    "start_time": "2021-07-09T17:07:23.420Z"
   },
   {
    "duration": 401,
    "start_time": "2021-07-09T17:07:26.413Z"
   },
   {
    "duration": 434,
    "start_time": "2021-07-09T17:08:05.837Z"
   },
   {
    "duration": 8,
    "start_time": "2021-07-09T17:08:48.039Z"
   },
   {
    "duration": 481,
    "start_time": "2021-07-09T17:09:05.597Z"
   },
   {
    "duration": 109,
    "start_time": "2021-07-09T17:09:08.903Z"
   },
   {
    "duration": 145,
    "start_time": "2021-07-09T17:09:09.445Z"
   },
   {
    "duration": 7,
    "start_time": "2021-07-09T17:09:10.561Z"
   },
   {
    "duration": 6,
    "start_time": "2021-07-09T17:09:11.219Z"
   },
   {
    "duration": 13,
    "start_time": "2021-07-09T17:09:12.527Z"
   },
   {
    "duration": 8,
    "start_time": "2021-07-09T17:09:13.949Z"
   },
   {
    "duration": 15,
    "start_time": "2021-07-09T17:09:24.501Z"
   },
   {
    "duration": 15,
    "start_time": "2021-07-09T17:09:25.080Z"
   },
   {
    "duration": 8,
    "start_time": "2021-07-09T17:12:34.964Z"
   },
   {
    "duration": 6,
    "start_time": "2021-07-09T17:12:35.627Z"
   },
   {
    "duration": 10,
    "start_time": "2021-07-09T17:12:36.295Z"
   },
   {
    "duration": 5,
    "start_time": "2021-07-09T17:12:37.425Z"
   },
   {
    "duration": 9,
    "start_time": "2021-07-09T17:12:43.790Z"
   },
   {
    "duration": 8,
    "start_time": "2021-07-09T17:12:44.384Z"
   },
   {
    "duration": 9,
    "start_time": "2021-07-09T17:12:47.739Z"
   },
   {
    "duration": 6,
    "start_time": "2021-07-09T17:12:48.658Z"
   },
   {
    "duration": 17,
    "start_time": "2021-07-09T17:12:54.705Z"
   },
   {
    "duration": 18,
    "start_time": "2021-07-09T17:12:55.383Z"
   },
   {
    "duration": 90,
    "start_time": "2021-07-10T06:40:10.140Z"
   },
   {
    "duration": 81,
    "start_time": "2021-07-10T06:40:47.932Z"
   },
   {
    "duration": 1361,
    "start_time": "2021-07-10T20:11:48.977Z"
   },
   {
    "duration": 4,
    "start_time": "2021-07-10T20:11:50.341Z"
   },
   {
    "duration": 31,
    "start_time": "2021-07-10T20:11:50.347Z"
   },
   {
    "duration": 16,
    "start_time": "2021-07-10T20:11:51.587Z"
   },
   {
    "duration": 4,
    "start_time": "2021-07-10T20:11:52.666Z"
   },
   {
    "duration": 21,
    "start_time": "2021-07-10T20:11:54.089Z"
   },
   {
    "duration": 5,
    "start_time": "2021-07-10T20:11:58.234Z"
   },
   {
    "duration": 9,
    "start_time": "2021-07-10T20:14:33.276Z"
   },
   {
    "duration": 9,
    "start_time": "2021-07-10T20:14:44.861Z"
   },
   {
    "duration": 19,
    "start_time": "2021-07-10T20:14:54.658Z"
   },
   {
    "duration": 580,
    "start_time": "2021-07-10T20:23:03.316Z"
   },
   {
    "duration": 1713,
    "start_time": "2021-07-10T20:23:13.983Z"
   },
   {
    "duration": 19,
    "start_time": "2021-07-10T20:23:40.590Z"
   },
   {
    "duration": 263,
    "start_time": "2021-07-10T20:33:16.827Z"
   },
   {
    "duration": 8,
    "start_time": "2021-07-10T20:36:04.922Z"
   },
   {
    "duration": 90,
    "start_time": "2021-07-10T20:36:06.261Z"
   },
   {
    "duration": 265,
    "start_time": "2021-07-10T20:36:14.099Z"
   },
   {
    "duration": 24,
    "start_time": "2021-07-10T20:36:28.811Z"
   },
   {
    "duration": 32,
    "start_time": "2021-07-10T20:36:59.424Z"
   },
   {
    "duration": 27,
    "start_time": "2021-07-10T20:37:03.599Z"
   },
   {
    "duration": 259,
    "start_time": "2021-07-10T20:37:45.546Z"
   },
   {
    "duration": 4,
    "start_time": "2021-07-10T20:37:56.886Z"
   },
   {
    "duration": 5,
    "start_time": "2021-07-10T20:37:57.202Z"
   },
   {
    "duration": 20,
    "start_time": "2021-07-10T20:37:57.428Z"
   },
   {
    "duration": 12,
    "start_time": "2021-07-10T20:37:57.760Z"
   },
   {
    "duration": 4,
    "start_time": "2021-07-10T20:37:58.130Z"
   },
   {
    "duration": 16,
    "start_time": "2021-07-10T20:37:58.861Z"
   },
   {
    "duration": 22,
    "start_time": "2021-07-10T20:37:59.173Z"
   },
   {
    "duration": 6,
    "start_time": "2021-07-10T20:38:01.392Z"
   },
   {
    "duration": 14,
    "start_time": "2021-07-10T20:38:02.068Z"
   },
   {
    "duration": 53,
    "start_time": "2021-07-10T20:38:06.909Z"
   },
   {
    "duration": 22,
    "start_time": "2021-07-10T20:38:07.289Z"
   },
   {
    "duration": 12,
    "start_time": "2021-07-10T20:38:07.680Z"
   },
   {
    "duration": 10,
    "start_time": "2021-07-10T20:38:08.219Z"
   },
   {
    "duration": 9,
    "start_time": "2021-07-10T20:38:11.023Z"
   },
   {
    "duration": 366,
    "start_time": "2021-07-10T20:38:11.588Z"
   },
   {
    "duration": 301,
    "start_time": "2021-07-10T20:38:11.956Z"
   },
   {
    "duration": 10,
    "start_time": "2021-07-10T20:38:12.260Z"
   },
   {
    "duration": 13,
    "start_time": "2021-07-10T20:38:12.432Z"
   },
   {
    "duration": 7,
    "start_time": "2021-07-10T20:38:12.803Z"
   },
   {
    "duration": 7,
    "start_time": "2021-07-10T20:38:13.126Z"
   },
   {
    "duration": 431,
    "start_time": "2021-07-10T20:38:13.469Z"
   },
   {
    "duration": 426,
    "start_time": "2021-07-10T20:38:21.478Z"
   },
   {
    "duration": 493,
    "start_time": "2021-07-10T20:40:53.343Z"
   },
   {
    "duration": 277,
    "start_time": "2021-07-10T20:42:00.622Z"
   },
   {
    "duration": 53,
    "start_time": "2021-07-10T20:42:09.187Z"
   },
   {
    "duration": 21,
    "start_time": "2021-07-10T20:42:09.379Z"
   },
   {
    "duration": 12,
    "start_time": "2021-07-10T20:42:09.583Z"
   },
   {
    "duration": 11,
    "start_time": "2021-07-10T20:42:09.822Z"
   },
   {
    "duration": 8,
    "start_time": "2021-07-10T20:42:10.286Z"
   },
   {
    "duration": 352,
    "start_time": "2021-07-10T20:42:10.577Z"
   },
   {
    "duration": 286,
    "start_time": "2021-07-10T20:42:10.936Z"
   },
   {
    "duration": 11,
    "start_time": "2021-07-10T20:42:11.226Z"
   },
   {
    "duration": 18,
    "start_time": "2021-07-10T20:42:11.398Z"
   },
   {
    "duration": 7,
    "start_time": "2021-07-10T20:42:11.654Z"
   },
   {
    "duration": 7,
    "start_time": "2021-07-10T20:42:11.832Z"
   },
   {
    "duration": 500,
    "start_time": "2021-07-10T20:42:12.243Z"
   },
   {
    "duration": 477,
    "start_time": "2021-07-10T20:42:15.510Z"
   },
   {
    "duration": 9,
    "start_time": "2021-07-10T20:42:17.146Z"
   },
   {
    "duration": 520,
    "start_time": "2021-07-10T20:42:17.621Z"
   },
   {
    "duration": 266,
    "start_time": "2021-07-10T20:43:13.713Z"
   },
   {
    "duration": 6,
    "start_time": "2021-07-10T20:43:22.223Z"
   },
   {
    "duration": 6,
    "start_time": "2021-07-10T20:43:22.945Z"
   },
   {
    "duration": 5,
    "start_time": "2021-07-10T20:43:23.151Z"
   },
   {
    "duration": 391,
    "start_time": "2021-07-10T20:43:23.358Z"
   },
   {
    "duration": 12,
    "start_time": "2021-07-10T20:43:24.036Z"
   },
   {
    "duration": 7,
    "start_time": "2021-07-10T20:43:24.353Z"
   },
   {
    "duration": 457,
    "start_time": "2021-07-10T20:43:25.326Z"
   },
   {
    "duration": 11,
    "start_time": "2021-07-10T20:43:53.828Z"
   },
   {
    "duration": 226,
    "start_time": "2021-07-10T20:43:54.910Z"
   },
   {
    "duration": 11,
    "start_time": "2021-07-10T20:43:55.408Z"
   },
   {
    "duration": 266,
    "start_time": "2021-07-10T20:43:57.704Z"
   },
   {
    "duration": 367,
    "start_time": "2021-07-10T20:44:07.319Z"
   },
   {
    "duration": 6,
    "start_time": "2021-07-10T20:44:09.892Z"
   },
   {
    "duration": 20,
    "start_time": "2021-07-10T20:44:11.945Z"
   },
   {
    "duration": 402,
    "start_time": "2021-07-10T20:44:13.879Z"
   },
   {
    "duration": 6,
    "start_time": "2021-07-10T20:44:16.061Z"
   },
   {
    "duration": 468,
    "start_time": "2021-07-10T20:44:20.837Z"
   },
   {
    "duration": 144,
    "start_time": "2021-07-10T20:44:23.294Z"
   },
   {
    "duration": 112,
    "start_time": "2021-07-10T20:44:23.778Z"
   },
   {
    "duration": 6,
    "start_time": "2021-07-10T20:44:24.951Z"
   },
   {
    "duration": 6,
    "start_time": "2021-07-10T20:44:25.518Z"
   },
   {
    "duration": 1509,
    "start_time": "2021-07-11T11:08:59.067Z"
   },
   {
    "duration": 4,
    "start_time": "2021-07-11T11:09:01.346Z"
   },
   {
    "duration": 19,
    "start_time": "2021-07-11T11:09:02.115Z"
   },
   {
    "duration": 17,
    "start_time": "2021-07-11T11:09:03.456Z"
   },
   {
    "duration": 5,
    "start_time": "2021-07-11T11:09:05.921Z"
   },
   {
    "duration": 936,
    "start_time": "2021-07-11T11:09:10.478Z"
   },
   {
    "duration": 7,
    "start_time": "2021-07-11T11:10:00.126Z"
   },
   {
    "duration": 16,
    "start_time": "2021-07-11T11:10:04.757Z"
   },
   {
    "duration": 15,
    "start_time": "2021-07-11T11:10:23.221Z"
   },
   {
    "duration": 12,
    "start_time": "2021-07-11T11:12:02.017Z"
   },
   {
    "duration": 496,
    "start_time": "2021-07-11T11:22:16.007Z"
   },
   {
    "duration": 389,
    "start_time": "2021-07-11T11:22:23.668Z"
   },
   {
    "duration": 26,
    "start_time": "2021-07-11T11:27:59.192Z"
   },
   {
    "duration": 27,
    "start_time": "2021-07-11T11:28:46.722Z"
   },
   {
    "duration": 31,
    "start_time": "2021-07-11T11:29:10.109Z"
   },
   {
    "duration": 8,
    "start_time": "2021-07-11T11:31:37.944Z"
   },
   {
    "duration": 20,
    "start_time": "2021-07-11T11:31:45.659Z"
   },
   {
    "duration": 4,
    "start_time": "2021-07-11T11:31:59.356Z"
   },
   {
    "duration": 4,
    "start_time": "2021-07-11T11:31:59.877Z"
   },
   {
    "duration": 17,
    "start_time": "2021-07-11T11:32:00.411Z"
   },
   {
    "duration": 9,
    "start_time": "2021-07-11T11:32:01.069Z"
   },
   {
    "duration": 3,
    "start_time": "2021-07-11T11:32:02.658Z"
   },
   {
    "duration": 19,
    "start_time": "2021-07-11T11:32:04.793Z"
   },
   {
    "duration": 16,
    "start_time": "2021-07-11T11:33:51.255Z"
   },
   {
    "duration": 23,
    "start_time": "2021-07-11T11:34:29.493Z"
   },
   {
    "duration": 6,
    "start_time": "2021-07-11T11:39:18.443Z"
   },
   {
    "duration": 15,
    "start_time": "2021-07-11T11:39:20.449Z"
   },
   {
    "duration": 14,
    "start_time": "2021-07-11T11:39:38.689Z"
   },
   {
    "duration": 31,
    "start_time": "2021-07-11T11:39:39.941Z"
   },
   {
    "duration": 16,
    "start_time": "2021-07-11T11:40:54.623Z"
   },
   {
    "duration": 31,
    "start_time": "2021-07-11T11:40:56.157Z"
   },
   {
    "duration": 14,
    "start_time": "2021-07-11T11:41:04.426Z"
   },
   {
    "duration": 31,
    "start_time": "2021-07-11T11:41:09.417Z"
   },
   {
    "duration": 4,
    "start_time": "2021-07-11T11:42:48.504Z"
   },
   {
    "duration": 3,
    "start_time": "2021-07-11T11:42:48.963Z"
   },
   {
    "duration": 16,
    "start_time": "2021-07-11T11:42:49.440Z"
   },
   {
    "duration": 10,
    "start_time": "2021-07-11T11:42:50.024Z"
   },
   {
    "duration": 4,
    "start_time": "2021-07-11T11:42:51.581Z"
   },
   {
    "duration": 16,
    "start_time": "2021-07-11T11:42:53.066Z"
   },
   {
    "duration": 7,
    "start_time": "2021-07-11T11:42:57.280Z"
   },
   {
    "duration": 14,
    "start_time": "2021-07-11T11:42:58.005Z"
   },
   {
    "duration": 31,
    "start_time": "2021-07-11T11:43:13.673Z"
   },
   {
    "duration": 15,
    "start_time": "2021-07-11T11:43:23.979Z"
   },
   {
    "duration": 4,
    "start_time": "2021-07-11T11:43:28.430Z"
   },
   {
    "duration": 31,
    "start_time": "2021-07-11T11:43:29.140Z"
   },
   {
    "duration": 3,
    "start_time": "2021-07-11T11:49:33.987Z"
   },
   {
    "duration": 4,
    "start_time": "2021-07-11T11:49:34.501Z"
   },
   {
    "duration": 17,
    "start_time": "2021-07-11T11:49:35.056Z"
   },
   {
    "duration": 9,
    "start_time": "2021-07-11T11:49:35.913Z"
   },
   {
    "duration": 5,
    "start_time": "2021-07-11T11:49:36.834Z"
   },
   {
    "duration": 16,
    "start_time": "2021-07-11T11:49:38.343Z"
   },
   {
    "duration": 6,
    "start_time": "2021-07-11T11:50:13.158Z"
   },
   {
    "duration": 14,
    "start_time": "2021-07-11T11:50:13.621Z"
   },
   {
    "duration": 5,
    "start_time": "2021-07-11T11:50:16.783Z"
   },
   {
    "duration": 34,
    "start_time": "2021-07-11T11:50:18.054Z"
   },
   {
    "duration": 1780,
    "start_time": "2021-07-11T11:55:55.756Z"
   },
   {
    "duration": 412,
    "start_time": "2021-07-11T11:56:52.808Z"
   },
   {
    "duration": 4,
    "start_time": "2021-07-11T12:01:55.230Z"
   },
   {
    "duration": 5,
    "start_time": "2021-07-11T12:01:55.736Z"
   },
   {
    "duration": 17,
    "start_time": "2021-07-11T12:01:56.209Z"
   },
   {
    "duration": 11,
    "start_time": "2021-07-11T12:01:56.731Z"
   },
   {
    "duration": 4,
    "start_time": "2021-07-11T12:01:57.393Z"
   },
   {
    "duration": 15,
    "start_time": "2021-07-11T12:01:58.471Z"
   },
   {
    "duration": 6,
    "start_time": "2021-07-11T12:02:00.584Z"
   },
   {
    "duration": 14,
    "start_time": "2021-07-11T12:02:01.096Z"
   },
   {
    "duration": 6,
    "start_time": "2021-07-11T12:02:02.181Z"
   },
   {
    "duration": 32,
    "start_time": "2021-07-11T12:02:02.871Z"
   },
   {
    "duration": 47,
    "start_time": "2021-07-11T12:02:20.428Z"
   },
   {
    "duration": 22,
    "start_time": "2021-07-11T12:02:20.937Z"
   },
   {
    "duration": 11,
    "start_time": "2021-07-11T12:02:21.585Z"
   },
   {
    "duration": 11,
    "start_time": "2021-07-11T12:02:22.190Z"
   },
   {
    "duration": 48,
    "start_time": "2021-07-11T12:06:16.179Z"
   },
   {
    "duration": 20,
    "start_time": "2021-07-11T12:06:16.953Z"
   },
   {
    "duration": 10,
    "start_time": "2021-07-11T12:06:48.524Z"
   },
   {
    "duration": 9,
    "start_time": "2021-07-11T12:07:13.295Z"
   },
   {
    "duration": 10,
    "start_time": "2021-07-11T12:08:00.270Z"
   },
   {
    "duration": 8,
    "start_time": "2021-07-11T12:08:19.124Z"
   },
   {
    "duration": 11,
    "start_time": "2021-07-11T12:09:20.712Z"
   },
   {
    "duration": 12,
    "start_time": "2021-07-11T12:10:45.061Z"
   },
   {
    "duration": 46,
    "start_time": "2021-07-11T12:20:45.237Z"
   },
   {
    "duration": 17,
    "start_time": "2021-07-11T12:21:08.175Z"
   },
   {
    "duration": 38,
    "start_time": "2021-07-11T12:21:55.509Z"
   },
   {
    "duration": 109,
    "start_time": "2021-07-11T12:22:13.414Z"
   },
   {
    "duration": 16,
    "start_time": "2021-07-11T12:22:19.900Z"
   },
   {
    "duration": 31,
    "start_time": "2021-07-11T12:25:47.270Z"
   },
   {
    "duration": 5,
    "start_time": "2021-07-11T12:49:21.752Z"
   },
   {
    "duration": 4,
    "start_time": "2021-07-11T12:49:22.093Z"
   },
   {
    "duration": 17,
    "start_time": "2021-07-11T12:49:22.460Z"
   },
   {
    "duration": 11,
    "start_time": "2021-07-11T12:49:22.924Z"
   },
   {
    "duration": 4,
    "start_time": "2021-07-11T12:49:23.229Z"
   },
   {
    "duration": 17,
    "start_time": "2021-07-11T12:49:23.987Z"
   },
   {
    "duration": 6,
    "start_time": "2021-07-11T12:49:25.767Z"
   },
   {
    "duration": 14,
    "start_time": "2021-07-11T12:49:26.245Z"
   },
   {
    "duration": 5,
    "start_time": "2021-07-11T12:49:27.056Z"
   },
   {
    "duration": 33,
    "start_time": "2021-07-11T12:49:27.384Z"
   },
   {
    "duration": 48,
    "start_time": "2021-07-11T12:49:30.365Z"
   },
   {
    "duration": 22,
    "start_time": "2021-07-11T12:49:30.617Z"
   },
   {
    "duration": 9,
    "start_time": "2021-07-11T12:49:30.903Z"
   },
   {
    "duration": 9,
    "start_time": "2021-07-11T12:49:31.171Z"
   },
   {
    "duration": 8,
    "start_time": "2021-07-11T12:49:31.466Z"
   },
   {
    "duration": 8,
    "start_time": "2021-07-11T12:49:32.169Z"
   },
   {
    "duration": 10,
    "start_time": "2021-07-11T12:49:32.975Z"
   },
   {
    "duration": 12,
    "start_time": "2021-07-11T12:49:33.833Z"
   },
   {
    "duration": 20,
    "start_time": "2021-07-11T12:49:45.860Z"
   },
   {
    "duration": 14,
    "start_time": "2021-07-11T12:50:05.081Z"
   },
   {
    "duration": 1388,
    "start_time": "2021-07-11T12:56:32.068Z"
   },
   {
    "duration": 17,
    "start_time": "2021-07-11T12:56:52.179Z"
   },
   {
    "duration": 14,
    "start_time": "2021-07-11T12:58:08.983Z"
   },
   {
    "duration": 1331,
    "start_time": "2021-07-11T12:59:18.591Z"
   },
   {
    "duration": 108,
    "start_time": "2021-07-11T12:59:36.654Z"
   },
   {
    "duration": 22,
    "start_time": "2021-07-11T12:59:43.245Z"
   },
   {
    "duration": 23,
    "start_time": "2021-07-11T13:00:26.312Z"
   },
   {
    "duration": 17,
    "start_time": "2021-07-11T13:01:08.713Z"
   },
   {
    "duration": 1352,
    "start_time": "2021-07-11T13:06:02.880Z"
   },
   {
    "duration": 1385,
    "start_time": "2021-07-11T13:06:37.688Z"
   },
   {
    "duration": 432,
    "start_time": "2021-07-11T13:06:55.967Z"
   },
   {
    "duration": 1375,
    "start_time": "2021-07-11T20:46:57.399Z"
   },
   {
    "duration": 4,
    "start_time": "2021-07-11T20:46:58.777Z"
   },
   {
    "duration": 24,
    "start_time": "2021-07-11T20:46:58.783Z"
   },
   {
    "duration": 682,
    "start_time": "2021-07-11T20:46:58.949Z"
   },
   {
    "duration": 4,
    "start_time": "2021-07-11T20:46:59.635Z"
   },
   {
    "duration": 28,
    "start_time": "2021-07-11T20:47:00.989Z"
   },
   {
    "duration": 6,
    "start_time": "2021-07-11T20:47:03.550Z"
   },
   {
    "duration": 13,
    "start_time": "2021-07-11T20:47:04.137Z"
   },
   {
    "duration": 5,
    "start_time": "2021-07-11T20:47:05.958Z"
   },
   {
    "duration": 34,
    "start_time": "2021-07-11T20:47:06.775Z"
   },
   {
    "duration": 42,
    "start_time": "2021-07-11T20:47:14.532Z"
   },
   {
    "duration": 23,
    "start_time": "2021-07-11T20:47:15.191Z"
   },
   {
    "duration": 11,
    "start_time": "2021-07-11T20:47:15.792Z"
   },
   {
    "duration": 9,
    "start_time": "2021-07-11T20:47:16.423Z"
   },
   {
    "duration": 11,
    "start_time": "2021-07-11T20:47:17.365Z"
   },
   {
    "duration": 7,
    "start_time": "2021-07-11T20:47:17.984Z"
   },
   {
    "duration": 18,
    "start_time": "2021-07-11T20:47:18.603Z"
   },
   {
    "duration": 18,
    "start_time": "2021-07-11T20:47:19.242Z"
   },
   {
    "duration": 22,
    "start_time": "2021-07-11T20:47:19.954Z"
   },
   {
    "duration": 468,
    "start_time": "2021-07-11T20:47:20.609Z"
   },
   {
    "duration": 37,
    "start_time": "2021-07-11T20:50:35.061Z"
   },
   {
    "duration": 43,
    "start_time": "2021-07-11T20:51:43.445Z"
   },
   {
    "duration": 24,
    "start_time": "2021-07-11T20:51:44.102Z"
   },
   {
    "duration": 9,
    "start_time": "2021-07-11T20:51:44.757Z"
   },
   {
    "duration": 9,
    "start_time": "2021-07-11T20:51:45.496Z"
   },
   {
    "duration": 12,
    "start_time": "2021-07-11T20:51:47.222Z"
   },
   {
    "duration": 7,
    "start_time": "2021-07-11T20:51:47.740Z"
   },
   {
    "duration": 11,
    "start_time": "2021-07-11T20:51:48.371Z"
   },
   {
    "duration": 12,
    "start_time": "2021-07-11T20:51:49.296Z"
   },
   {
    "duration": 14,
    "start_time": "2021-07-11T20:51:52.669Z"
   },
   {
    "duration": 37,
    "start_time": "2021-07-11T20:51:53.984Z"
   },
   {
    "duration": 28,
    "start_time": "2021-07-11T20:52:23.660Z"
   },
   {
    "duration": 19,
    "start_time": "2021-07-11T20:53:23.283Z"
   },
   {
    "duration": 29,
    "start_time": "2021-07-11T20:53:37.886Z"
   },
   {
    "duration": 27,
    "start_time": "2021-07-11T20:53:48.563Z"
   },
   {
    "duration": 247,
    "start_time": "2021-07-11T20:54:56.015Z"
   },
   {
    "duration": 18,
    "start_time": "2021-07-11T20:55:10.969Z"
   },
   {
    "duration": 12,
    "start_time": "2021-07-11T20:55:27.875Z"
   },
   {
    "duration": 17,
    "start_time": "2021-07-11T20:55:56.033Z"
   },
   {
    "duration": 9,
    "start_time": "2021-07-11T20:56:08.162Z"
   },
   {
    "duration": 27,
    "start_time": "2021-07-11T20:58:02.357Z"
   },
   {
    "duration": 11,
    "start_time": "2021-07-11T20:58:04.185Z"
   },
   {
    "duration": 31,
    "start_time": "2021-07-11T20:58:20.500Z"
   },
   {
    "duration": 27,
    "start_time": "2021-07-11T20:59:21.390Z"
   },
   {
    "duration": 32,
    "start_time": "2021-07-11T20:59:40.878Z"
   },
   {
    "duration": 10,
    "start_time": "2021-07-11T20:59:53.811Z"
   },
   {
    "duration": 9,
    "start_time": "2021-07-11T21:00:16.950Z"
   },
   {
    "duration": 25,
    "start_time": "2021-07-11T21:00:32.365Z"
   },
   {
    "duration": 5,
    "start_time": "2021-07-11T21:02:52.673Z"
   },
   {
    "duration": 7,
    "start_time": "2021-07-11T21:07:14.340Z"
   },
   {
    "duration": 6,
    "start_time": "2021-07-11T21:07:30.557Z"
   },
   {
    "duration": 121,
    "start_time": "2021-07-11T21:08:13.770Z"
   },
   {
    "duration": 7,
    "start_time": "2021-07-11T21:08:22.639Z"
   },
   {
    "duration": 7,
    "start_time": "2021-07-11T21:09:25.040Z"
   },
   {
    "duration": 8,
    "start_time": "2021-07-11T21:23:40.894Z"
   },
   {
    "duration": 582,
    "start_time": "2021-07-11T21:23:41.281Z"
   },
   {
    "duration": 443,
    "start_time": "2021-07-11T21:23:41.866Z"
   },
   {
    "duration": 14,
    "start_time": "2021-07-11T21:23:42.313Z"
   },
   {
    "duration": 32,
    "start_time": "2021-07-11T21:23:42.330Z"
   },
   {
    "duration": 10,
    "start_time": "2021-07-11T21:23:42.365Z"
   },
   {
    "duration": 10,
    "start_time": "2021-07-11T21:23:42.474Z"
   },
   {
    "duration": 863,
    "start_time": "2021-07-11T21:23:42.856Z"
   },
   {
    "duration": 658,
    "start_time": "2021-07-11T21:23:52.620Z"
   },
   {
    "duration": 13,
    "start_time": "2021-07-11T21:23:55.492Z"
   },
   {
    "duration": 779,
    "start_time": "2021-07-11T21:23:56.395Z"
   },
   {
    "duration": 5,
    "start_time": "2021-07-11T21:24:03.146Z"
   },
   {
    "duration": 7,
    "start_time": "2021-07-11T21:24:03.757Z"
   },
   {
    "duration": 5,
    "start_time": "2021-07-11T21:24:04.544Z"
   },
   {
    "duration": 401,
    "start_time": "2021-07-11T21:24:05.326Z"
   },
   {
    "duration": 12,
    "start_time": "2021-07-11T21:24:07.963Z"
   },
   {
    "duration": 9,
    "start_time": "2021-07-11T21:24:10.261Z"
   },
   {
    "duration": 492,
    "start_time": "2021-07-11T21:24:11.447Z"
   },
   {
    "duration": 13,
    "start_time": "2021-07-11T21:24:23.551Z"
   },
   {
    "duration": 206,
    "start_time": "2021-07-11T21:24:25.234Z"
   },
   {
    "duration": 13,
    "start_time": "2021-07-11T21:24:25.917Z"
   },
   {
    "duration": 271,
    "start_time": "2021-07-11T21:24:27.723Z"
   },
   {
    "duration": 751,
    "start_time": "2021-07-11T21:26:07.948Z"
   },
   {
    "duration": 107,
    "start_time": "2021-07-11T21:26:19.196Z"
   },
   {
    "duration": 109,
    "start_time": "2021-07-11T21:26:25.673Z"
   },
   {
    "duration": 350,
    "start_time": "2021-07-11T21:27:17.585Z"
   },
   {
    "duration": 362,
    "start_time": "2021-07-11T21:28:00.474Z"
   },
   {
    "duration": 561,
    "start_time": "2021-07-11T21:30:10.631Z"
   },
   {
    "duration": 443,
    "start_time": "2021-07-11T21:30:34.653Z"
   },
   {
    "duration": 465,
    "start_time": "2021-07-11T21:31:33.563Z"
   },
   {
    "duration": 501,
    "start_time": "2021-07-11T21:31:54.877Z"
   },
   {
    "duration": 7,
    "start_time": "2021-07-11T21:32:13.280Z"
   },
   {
    "duration": 463,
    "start_time": "2021-07-11T21:32:21.146Z"
   },
   {
    "duration": 115,
    "start_time": "2021-07-11T21:32:23.294Z"
   },
   {
    "duration": 121,
    "start_time": "2021-07-11T21:32:23.512Z"
   },
   {
    "duration": 6,
    "start_time": "2021-07-11T21:32:28.001Z"
   },
   {
    "duration": 7,
    "start_time": "2021-07-11T21:32:28.581Z"
   },
   {
    "duration": 12,
    "start_time": "2021-07-11T21:38:08.866Z"
   },
   {
    "duration": 11,
    "start_time": "2021-07-11T21:38:09.858Z"
   },
   {
    "duration": 7,
    "start_time": "2021-07-11T21:38:14.690Z"
   },
   {
    "duration": 6,
    "start_time": "2021-07-11T21:38:15.450Z"
   },
   {
    "duration": 11,
    "start_time": "2021-07-11T21:38:16.267Z"
   },
   {
    "duration": 5,
    "start_time": "2021-07-11T21:38:16.931Z"
   },
   {
    "duration": 15,
    "start_time": "2021-07-11T21:39:50.448Z"
   },
   {
    "duration": 13,
    "start_time": "2021-07-11T21:39:50.952Z"
   },
   {
    "duration": 4,
    "start_time": "2021-07-11T21:41:44.210Z"
   },
   {
    "duration": 4,
    "start_time": "2021-07-11T21:41:44.732Z"
   },
   {
    "duration": 17,
    "start_time": "2021-07-11T21:41:45.147Z"
   },
   {
    "duration": 9,
    "start_time": "2021-07-11T21:41:45.375Z"
   },
   {
    "duration": 4,
    "start_time": "2021-07-11T21:41:45.623Z"
   },
   {
    "duration": 16,
    "start_time": "2021-07-11T21:41:46.273Z"
   },
   {
    "duration": 6,
    "start_time": "2021-07-11T21:41:47.799Z"
   },
   {
    "duration": 14,
    "start_time": "2021-07-11T21:41:48.109Z"
   },
   {
    "duration": 4,
    "start_time": "2021-07-11T21:41:48.860Z"
   },
   {
    "duration": 30,
    "start_time": "2021-07-11T21:41:49.362Z"
   },
   {
    "duration": 42,
    "start_time": "2021-07-11T21:41:52.578Z"
   },
   {
    "duration": 21,
    "start_time": "2021-07-11T21:41:52.855Z"
   },
   {
    "duration": 9,
    "start_time": "2021-07-11T21:41:53.165Z"
   },
   {
    "duration": 9,
    "start_time": "2021-07-11T21:41:53.428Z"
   },
   {
    "duration": 9,
    "start_time": "2021-07-11T21:41:53.816Z"
   },
   {
    "duration": 7,
    "start_time": "2021-07-11T21:41:54.157Z"
   },
   {
    "duration": 11,
    "start_time": "2021-07-11T21:41:54.626Z"
   },
   {
    "duration": 9,
    "start_time": "2021-07-11T21:41:55.235Z"
   },
   {
    "duration": 18,
    "start_time": "2021-07-11T21:41:55.780Z"
   },
   {
    "duration": 18,
    "start_time": "2021-07-11T21:41:56.404Z"
   },
   {
    "duration": 40,
    "start_time": "2021-07-11T21:41:56.952Z"
   },
   {
    "duration": 14,
    "start_time": "2021-07-11T21:41:57.643Z"
   },
   {
    "duration": 9,
    "start_time": "2021-07-11T21:42:05.101Z"
   },
   {
    "duration": 350,
    "start_time": "2021-07-11T21:42:05.671Z"
   },
   {
    "duration": 293,
    "start_time": "2021-07-11T21:42:06.024Z"
   },
   {
    "duration": 14,
    "start_time": "2021-07-11T21:42:06.327Z"
   },
   {
    "duration": 14,
    "start_time": "2021-07-11T21:42:06.714Z"
   },
   {
    "duration": 7,
    "start_time": "2021-07-11T21:42:07.108Z"
   },
   {
    "duration": 7,
    "start_time": "2021-07-11T21:42:07.507Z"
   },
   {
    "duration": 526,
    "start_time": "2021-07-11T21:42:07.976Z"
   },
   {
    "duration": 431,
    "start_time": "2021-07-11T21:42:13.812Z"
   },
   {
    "duration": 9,
    "start_time": "2021-07-11T21:42:15.570Z"
   },
   {
    "duration": 528,
    "start_time": "2021-07-11T21:42:15.929Z"
   },
   {
    "duration": 6,
    "start_time": "2021-07-11T21:42:19.270Z"
   },
   {
    "duration": 5,
    "start_time": "2021-07-11T21:42:19.848Z"
   },
   {
    "duration": 6,
    "start_time": "2021-07-11T21:42:20.330Z"
   },
   {
    "duration": 399,
    "start_time": "2021-07-11T21:42:20.671Z"
   },
   {
    "duration": 13,
    "start_time": "2021-07-11T21:42:23.145Z"
   },
   {
    "duration": 8,
    "start_time": "2021-07-11T21:42:23.660Z"
   },
   {
    "duration": 529,
    "start_time": "2021-07-11T21:42:24.362Z"
   },
   {
    "duration": 12,
    "start_time": "2021-07-11T21:42:28.140Z"
   },
   {
    "duration": 231,
    "start_time": "2021-07-11T21:42:29.526Z"
   },
   {
    "duration": 15,
    "start_time": "2021-07-11T21:42:30.127Z"
   },
   {
    "duration": 446,
    "start_time": "2021-07-11T21:42:32.355Z"
   },
   {
    "duration": 469,
    "start_time": "2021-07-11T21:42:36.265Z"
   },
   {
    "duration": 7,
    "start_time": "2021-07-11T21:42:38.646Z"
   },
   {
    "duration": 15,
    "start_time": "2021-07-11T21:42:45.669Z"
   },
   {
    "duration": 480,
    "start_time": "2021-07-11T21:42:47.558Z"
   },
   {
    "duration": 7,
    "start_time": "2021-07-11T21:42:55.114Z"
   },
   {
    "duration": 488,
    "start_time": "2021-07-11T21:43:19.830Z"
   },
   {
    "duration": 114,
    "start_time": "2021-07-11T21:43:24.754Z"
   },
   {
    "duration": 111,
    "start_time": "2021-07-11T21:43:25.184Z"
   },
   {
    "duration": 6,
    "start_time": "2021-07-11T21:43:25.901Z"
   },
   {
    "duration": 6,
    "start_time": "2021-07-11T21:43:26.188Z"
   },
   {
    "duration": 9,
    "start_time": "2021-07-11T21:43:28.775Z"
   },
   {
    "duration": 10,
    "start_time": "2021-07-11T21:44:37.376Z"
   },
   {
    "duration": 11,
    "start_time": "2021-07-11T21:45:20.558Z"
   },
   {
    "duration": 11,
    "start_time": "2021-07-11T21:45:39.270Z"
   },
   {
    "duration": 10,
    "start_time": "2021-07-11T21:45:45.594Z"
   },
   {
    "duration": 8,
    "start_time": "2021-07-11T21:45:51.538Z"
   },
   {
    "duration": 6,
    "start_time": "2021-07-11T21:45:52.127Z"
   },
   {
    "duration": 10,
    "start_time": "2021-07-11T21:45:52.894Z"
   },
   {
    "duration": 5,
    "start_time": "2021-07-11T21:45:54.155Z"
   },
   {
    "duration": 8,
    "start_time": "2021-07-11T21:45:58.576Z"
   },
   {
    "duration": 9,
    "start_time": "2021-07-11T21:46:02.037Z"
   },
   {
    "duration": 9,
    "start_time": "2021-07-11T21:46:09.182Z"
   },
   {
    "duration": 8,
    "start_time": "2021-07-11T21:46:37.016Z"
   },
   {
    "duration": 8,
    "start_time": "2021-07-11T21:46:55.680Z"
   },
   {
    "duration": 6,
    "start_time": "2021-07-11T21:47:01.192Z"
   },
   {
    "duration": 14,
    "start_time": "2021-07-11T21:47:13.124Z"
   },
   {
    "duration": 13,
    "start_time": "2021-07-11T21:47:13.903Z"
   },
   {
    "duration": 14,
    "start_time": "2021-07-11T21:47:27.608Z"
   },
   {
    "duration": 13,
    "start_time": "2021-07-11T21:47:30.645Z"
   },
   {
    "duration": 13,
    "start_time": "2021-07-11T21:47:59.718Z"
   },
   {
    "duration": 1477,
    "start_time": "2021-07-12T06:28:32.553Z"
   },
   {
    "duration": 8,
    "start_time": "2021-07-12T06:28:34.032Z"
   },
   {
    "duration": 20,
    "start_time": "2021-07-12T06:28:34.044Z"
   },
   {
    "duration": 54858,
    "start_time": "2021-07-12T06:28:34.068Z"
   },
   {
    "duration": 5,
    "start_time": "2021-07-12T06:29:28.930Z"
   },
   {
    "duration": 113,
    "start_time": "2021-07-12T06:29:28.938Z"
   },
   {
    "duration": 5,
    "start_time": "2021-07-12T06:29:29.054Z"
   },
   {
    "duration": 15,
    "start_time": "2021-07-12T06:29:29.063Z"
   },
   {
    "duration": 6,
    "start_time": "2021-07-12T06:29:29.081Z"
   },
   {
    "duration": 33,
    "start_time": "2021-07-12T06:29:29.090Z"
   },
   {
    "duration": 49,
    "start_time": "2021-07-12T06:29:29.125Z"
   },
   {
    "duration": 23,
    "start_time": "2021-07-12T06:29:29.177Z"
   },
   {
    "duration": 15,
    "start_time": "2021-07-12T06:29:29.203Z"
   },
   {
    "duration": 9,
    "start_time": "2021-07-12T06:29:29.220Z"
   },
   {
    "duration": 9,
    "start_time": "2021-07-12T06:29:29.231Z"
   },
   {
    "duration": 8,
    "start_time": "2021-07-12T06:29:29.262Z"
   },
   {
    "duration": 12,
    "start_time": "2021-07-12T06:29:29.274Z"
   },
   {
    "duration": 28,
    "start_time": "2021-07-12T06:29:29.290Z"
   },
   {
    "duration": 14,
    "start_time": "2021-07-12T06:29:29.321Z"
   },
   {
    "duration": 33,
    "start_time": "2021-07-12T06:29:29.337Z"
   },
   {
    "duration": 43,
    "start_time": "2021-07-12T06:29:29.372Z"
   },
   {
    "duration": 13,
    "start_time": "2021-07-12T06:29:29.418Z"
   },
   {
    "duration": 11,
    "start_time": "2021-07-12T06:29:29.461Z"
   },
   {
    "duration": 547,
    "start_time": "2021-07-12T06:29:29.478Z"
   },
   {
    "duration": 405,
    "start_time": "2021-07-12T06:29:30.029Z"
   },
   {
    "duration": 13,
    "start_time": "2021-07-12T06:29:30.437Z"
   },
   {
    "duration": 19,
    "start_time": "2021-07-12T06:29:30.462Z"
   },
   {
    "duration": 13,
    "start_time": "2021-07-12T06:29:30.484Z"
   },
   {
    "duration": 17,
    "start_time": "2021-07-12T06:29:30.500Z"
   },
   {
    "duration": 606,
    "start_time": "2021-07-12T06:29:30.519Z"
   },
   {
    "duration": 458,
    "start_time": "2021-07-12T06:29:31.127Z"
   },
   {
    "duration": 9,
    "start_time": "2021-07-12T06:29:31.588Z"
   },
   {
    "duration": 608,
    "start_time": "2021-07-12T06:29:31.599Z"
   },
   {
    "duration": 5,
    "start_time": "2021-07-12T06:29:32.209Z"
   },
   {
    "duration": 10,
    "start_time": "2021-07-12T06:29:32.216Z"
   },
   {
    "duration": 33,
    "start_time": "2021-07-12T06:29:32.229Z"
   },
   {
    "duration": 435,
    "start_time": "2021-07-12T06:29:32.264Z"
   },
   {
    "duration": 12,
    "start_time": "2021-07-12T06:29:32.701Z"
   },
   {
    "duration": 11,
    "start_time": "2021-07-12T06:29:32.715Z"
   },
   {
    "duration": 537,
    "start_time": "2021-07-12T06:29:32.728Z"
   },
   {
    "duration": 12,
    "start_time": "2021-07-12T06:29:33.267Z"
   },
   {
    "duration": 197,
    "start_time": "2021-07-12T06:29:33.282Z"
   },
   {
    "duration": 10,
    "start_time": "2021-07-12T06:29:33.482Z"
   },
   {
    "duration": 385,
    "start_time": "2021-07-12T06:29:33.495Z"
   },
   {
    "duration": 574,
    "start_time": "2021-07-12T06:29:33.883Z"
   },
   {
    "duration": 7,
    "start_time": "2021-07-12T06:29:34.459Z"
   },
   {
    "duration": 15,
    "start_time": "2021-07-12T06:29:34.468Z"
   },
   {
    "duration": 479,
    "start_time": "2021-07-12T06:29:34.486Z"
   },
   {
    "duration": 6,
    "start_time": "2021-07-12T06:29:34.967Z"
   },
   {
    "duration": 504,
    "start_time": "2021-07-12T06:29:34.975Z"
   },
   {
    "duration": 129,
    "start_time": "2021-07-12T06:29:35.481Z"
   },
   {
    "duration": 126,
    "start_time": "2021-07-12T06:29:35.612Z"
   },
   {
    "duration": 6,
    "start_time": "2021-07-12T06:29:35.741Z"
   },
   {
    "duration": 15,
    "start_time": "2021-07-12T06:29:35.749Z"
   },
   {
    "duration": 15,
    "start_time": "2021-07-12T06:29:35.767Z"
   },
   {
    "duration": 6,
    "start_time": "2021-07-12T06:29:35.784Z"
   },
   {
    "duration": 14,
    "start_time": "2021-07-12T06:29:35.792Z"
   },
   {
    "duration": 10,
    "start_time": "2021-07-12T06:29:35.809Z"
   },
   {
    "duration": 45,
    "start_time": "2021-07-12T06:29:35.821Z"
   },
   {
    "duration": 8,
    "start_time": "2021-07-12T06:29:35.869Z"
   },
   {
    "duration": 14,
    "start_time": "2021-07-12T06:29:35.879Z"
   },
   {
    "duration": 8,
    "start_time": "2021-07-12T06:29:35.895Z"
   },
   {
    "duration": 11,
    "start_time": "2021-07-12T06:29:35.905Z"
   },
   {
    "duration": 44,
    "start_time": "2021-07-12T06:29:35.918Z"
   },
   {
    "duration": 8,
    "start_time": "2021-07-12T06:29:35.965Z"
   },
   {
    "duration": 5,
    "start_time": "2021-07-12T06:29:35.976Z"
   },
   {
    "duration": 14,
    "start_time": "2021-07-12T06:29:35.984Z"
   },
   {
    "duration": 58,
    "start_time": "2021-07-12T06:29:36.005Z"
   },
   {
    "duration": 357,
    "start_time": "2021-10-15T16:55:04.735Z"
   },
   {
    "duration": 243,
    "start_time": "2021-10-15T16:55:16.664Z"
   },
   {
    "duration": 1388,
    "start_time": "2021-12-08T13:01:33.055Z"
   },
   {
    "duration": 5,
    "start_time": "2021-12-08T13:01:35.398Z"
   },
   {
    "duration": 17,
    "start_time": "2021-12-08T13:01:36.171Z"
   },
   {
    "duration": 892,
    "start_time": "2021-12-08T13:01:36.981Z"
   },
   {
    "duration": 5,
    "start_time": "2021-12-08T13:01:38.477Z"
   },
   {
    "duration": 25,
    "start_time": "2021-12-08T13:01:39.540Z"
   },
   {
    "duration": 6,
    "start_time": "2021-12-08T13:01:42.099Z"
   },
   {
    "duration": 14,
    "start_time": "2021-12-08T13:01:42.776Z"
   },
   {
    "duration": 5,
    "start_time": "2021-12-08T13:01:44.353Z"
   },
   {
    "duration": 34,
    "start_time": "2021-12-08T13:01:45.184Z"
   },
   {
    "duration": 41,
    "start_time": "2021-12-08T13:01:49.282Z"
   },
   {
    "duration": 26,
    "start_time": "2021-12-08T13:01:49.514Z"
   },
   {
    "duration": 9,
    "start_time": "2021-12-08T13:01:49.771Z"
   },
   {
    "duration": 9,
    "start_time": "2021-12-08T13:01:50.067Z"
   },
   {
    "duration": 9,
    "start_time": "2021-12-08T13:01:50.523Z"
   },
   {
    "duration": 7,
    "start_time": "2021-12-08T13:01:50.820Z"
   },
   {
    "duration": 11,
    "start_time": "2021-12-08T13:01:51.102Z"
   },
   {
    "duration": 6,
    "start_time": "2021-12-08T13:01:51.446Z"
   },
   {
    "duration": 12,
    "start_time": "2021-12-08T13:01:51.795Z"
   },
   {
    "duration": 14,
    "start_time": "2021-12-08T13:01:52.125Z"
   },
   {
    "duration": 27,
    "start_time": "2021-12-08T13:01:52.447Z"
   },
   {
    "duration": 10,
    "start_time": "2021-12-08T13:01:52.771Z"
   },
   {
    "duration": 8,
    "start_time": "2021-12-08T13:01:55.194Z"
   },
   {
    "duration": 364,
    "start_time": "2021-12-08T13:01:55.472Z"
   },
   {
    "duration": 283,
    "start_time": "2021-12-08T13:01:55.839Z"
   },
   {
    "duration": 9,
    "start_time": "2021-12-08T13:01:56.125Z"
   },
   {
    "duration": 13,
    "start_time": "2021-12-08T13:01:56.603Z"
   },
   {
    "duration": 8,
    "start_time": "2021-12-08T13:01:57.116Z"
   },
   {
    "duration": 6,
    "start_time": "2021-12-08T13:01:57.570Z"
   },
   {
    "duration": 578,
    "start_time": "2021-12-08T13:01:57.951Z"
   },
   {
    "duration": 5,
    "start_time": "2021-12-08T13:02:55.198Z"
   },
   {
    "duration": 3,
    "start_time": "2021-12-08T13:02:55.754Z"
   },
   {
    "duration": 4,
    "start_time": "2021-12-08T13:02:56.345Z"
   },
   {
    "duration": 16,
    "start_time": "2021-12-08T13:02:56.994Z"
   },
   {
    "duration": 10,
    "start_time": "2021-12-08T13:02:57.354Z"
   },
   {
    "duration": 4,
    "start_time": "2021-12-08T13:02:57.688Z"
   },
   {
    "duration": 25,
    "start_time": "2021-12-08T13:02:58.263Z"
   },
   {
    "duration": 8,
    "start_time": "2021-12-08T13:02:59.906Z"
   },
   {
    "duration": 18,
    "start_time": "2021-12-08T13:03:00.254Z"
   },
   {
    "duration": 5,
    "start_time": "2021-12-08T13:03:01.185Z"
   },
   {
    "duration": 34,
    "start_time": "2021-12-08T13:03:01.493Z"
   },
   {
    "duration": 45,
    "start_time": "2021-12-08T13:03:04.573Z"
   },
   {
    "duration": 22,
    "start_time": "2021-12-08T13:03:04.860Z"
   },
   {
    "duration": 8,
    "start_time": "2021-12-08T13:03:05.129Z"
   },
   {
    "duration": 8,
    "start_time": "2021-12-08T13:03:05.458Z"
   },
   {
    "duration": 9,
    "start_time": "2021-12-08T13:03:05.792Z"
   },
   {
    "duration": 8,
    "start_time": "2021-12-08T13:03:06.079Z"
   },
   {
    "duration": 11,
    "start_time": "2021-12-08T13:03:06.354Z"
   },
   {
    "duration": 5,
    "start_time": "2021-12-08T13:03:06.693Z"
   },
   {
    "duration": 12,
    "start_time": "2021-12-08T13:03:06.988Z"
   },
   {
    "duration": 14,
    "start_time": "2021-12-08T13:03:07.302Z"
   },
   {
    "duration": 27,
    "start_time": "2021-12-08T13:03:07.668Z"
   },
   {
    "duration": 9,
    "start_time": "2021-12-08T13:03:07.916Z"
   },
   {
    "duration": 8,
    "start_time": "2021-12-08T13:03:10.601Z"
   },
   {
    "duration": 350,
    "start_time": "2021-12-08T13:03:10.881Z"
   },
   {
    "duration": 289,
    "start_time": "2021-12-08T13:03:11.233Z"
   },
   {
    "duration": 9,
    "start_time": "2021-12-08T13:03:11.525Z"
   },
   {
    "duration": 13,
    "start_time": "2021-12-08T13:03:11.730Z"
   },
   {
    "duration": 8,
    "start_time": "2021-12-08T13:03:12.062Z"
   },
   {
    "duration": 6,
    "start_time": "2021-12-08T13:03:12.342Z"
   },
   {
    "duration": 551,
    "start_time": "2021-12-08T13:03:12.671Z"
   },
   {
    "duration": 467,
    "start_time": "2021-12-08T13:03:22.904Z"
   },
   {
    "duration": 13,
    "start_time": "2021-12-08T13:03:23.375Z"
   },
   {
    "duration": 653,
    "start_time": "2021-12-08T13:03:23.392Z"
   },
   {
    "duration": 6,
    "start_time": "2021-12-08T13:03:25.948Z"
   },
   {
    "duration": 6,
    "start_time": "2021-12-08T13:03:26.228Z"
   },
   {
    "duration": 6,
    "start_time": "2021-12-08T13:03:26.800Z"
   },
   {
    "duration": 429,
    "start_time": "2021-12-08T13:03:27.601Z"
   },
   {
    "duration": 12,
    "start_time": "2021-12-08T13:03:29.163Z"
   },
   {
    "duration": 8,
    "start_time": "2021-12-08T13:03:29.839Z"
   },
   {
    "duration": 485,
    "start_time": "2021-12-08T13:03:30.492Z"
   },
   {
    "duration": 13,
    "start_time": "2021-12-08T13:03:33.205Z"
   },
   {
    "duration": 221,
    "start_time": "2021-12-08T13:03:33.799Z"
   },
   {
    "duration": 11,
    "start_time": "2021-12-08T13:03:34.119Z"
   },
   {
    "duration": 448,
    "start_time": "2021-12-08T13:03:35.121Z"
   },
   {
    "duration": 466,
    "start_time": "2021-12-08T13:03:37.165Z"
   },
   {
    "duration": 8,
    "start_time": "2021-12-08T13:03:38.182Z"
   },
   {
    "duration": 19,
    "start_time": "2021-12-08T13:03:39.378Z"
   },
   {
    "duration": 507,
    "start_time": "2021-12-08T13:03:40.268Z"
   },
   {
    "duration": 6,
    "start_time": "2021-12-08T13:03:41.323Z"
   },
   {
    "duration": 468,
    "start_time": "2021-12-08T13:03:43.885Z"
   },
   {
    "duration": 121,
    "start_time": "2021-12-08T13:03:45.387Z"
   },
   {
    "duration": 125,
    "start_time": "2021-12-08T13:03:45.675Z"
   },
   {
    "duration": 6,
    "start_time": "2021-12-08T13:03:46.367Z"
   },
   {
    "duration": 6,
    "start_time": "2021-12-08T13:03:46.740Z"
   },
   {
    "duration": 10,
    "start_time": "2021-12-08T13:03:48.301Z"
   },
   {
    "duration": 6,
    "start_time": "2021-12-08T13:03:49.295Z"
   },
   {
    "duration": 11,
    "start_time": "2021-12-08T13:03:51.036Z"
   },
   {
    "duration": 11,
    "start_time": "2021-12-08T13:03:51.562Z"
   },
   {
    "duration": 8,
    "start_time": "2021-12-08T13:03:53.172Z"
   },
   {
    "duration": 5,
    "start_time": "2021-12-08T13:04:06.875Z"
   },
   {
    "duration": 9,
    "start_time": "2021-12-08T13:04:07.284Z"
   },
   {
    "duration": 7,
    "start_time": "2021-12-08T13:04:07.639Z"
   },
   {
    "duration": 8,
    "start_time": "2021-12-08T13:04:08.765Z"
   },
   {
    "duration": 11,
    "start_time": "2021-12-08T13:04:09.174Z"
   },
   {
    "duration": 13,
    "start_time": "2021-12-08T13:04:09.906Z"
   },
   {
    "duration": 8,
    "start_time": "2021-12-08T13:04:10.313Z"
   },
   {
    "duration": 14,
    "start_time": "2021-12-08T13:04:11.453Z"
   },
   {
    "duration": 15,
    "start_time": "2021-12-08T13:04:11.714Z"
   }
  ],
  "kernelspec": {
   "display_name": "Python 3",
   "language": "python",
   "name": "python3"
  },
  "language_info": {
   "codemirror_mode": {
    "name": "ipython",
    "version": 3
   },
   "file_extension": ".py",
   "mimetype": "text/x-python",
   "name": "python",
   "nbconvert_exporter": "python",
   "pygments_lexer": "ipython3",
   "version": "3.8.8"
  },
  "toc": {
   "base_numbering": 1,
   "nav_menu": {},
   "number_sections": true,
   "sideBar": true,
   "skip_h1_title": true,
   "title_cell": "Table of Contents",
   "title_sidebar": "Contents",
   "toc_cell": false,
   "toc_position": {},
   "toc_section_display": true,
   "toc_window_display": true
  }
 },
 "nbformat": 4,
 "nbformat_minor": 2
}
