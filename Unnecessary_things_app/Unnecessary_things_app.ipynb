{
 "cells": [
  {
   "cell_type": "markdown",
   "metadata": {},
   "source": [
    "# Материалы\n",
    "* Презентация: https://disk.yandex.ru/i/bHR20_-24jumFQ"
   ]
  },
  {
   "cell_type": "markdown",
   "metadata": {},
   "source": [
    "## Изучение данных и подготовка к анализу"
   ]
  },
  {
   "cell_type": "code",
   "execution_count": 1,
   "metadata": {},
   "outputs": [],
   "source": [
    "import pandas as pd\n",
    "import numpy as np\n",
    "import math as mth\n",
    "from scipy import stats as st\n",
    "from datetime import datetime, timedelta\n",
    "from matplotlib import pyplot as plt\n",
    "import seaborn as sns\n",
    "from pandas.plotting import register_matplotlib_converters\n",
    "register_matplotlib_converters()\n",
    "from plotly import graph_objects as go"
   ]
  },
  {
   "cell_type": "code",
   "execution_count": 2,
   "metadata": {},
   "outputs": [],
   "source": [
    "data = pd.read_csv('https://code.s3.yandex.net/datasets/mobile_dataset.csv')"
   ]
  },
  {
   "cell_type": "code",
   "execution_count": 3,
   "metadata": {},
   "outputs": [
    {
     "data": {
      "text/html": [
       "<div>\n",
       "<style scoped>\n",
       "    .dataframe tbody tr th:only-of-type {\n",
       "        vertical-align: middle;\n",
       "    }\n",
       "\n",
       "    .dataframe tbody tr th {\n",
       "        vertical-align: top;\n",
       "    }\n",
       "\n",
       "    .dataframe thead th {\n",
       "        text-align: right;\n",
       "    }\n",
       "</style>\n",
       "<table border=\"1\" class=\"dataframe\">\n",
       "  <thead>\n",
       "    <tr style=\"text-align: right;\">\n",
       "      <th></th>\n",
       "      <th>event.time</th>\n",
       "      <th>event.name</th>\n",
       "      <th>user.id</th>\n",
       "    </tr>\n",
       "  </thead>\n",
       "  <tbody>\n",
       "    <tr>\n",
       "      <td>0</td>\n",
       "      <td>2019-10-07 00:00:00.431357</td>\n",
       "      <td>advert_open</td>\n",
       "      <td>020292ab-89bc-4156-9acf-68bc2783f894</td>\n",
       "    </tr>\n",
       "    <tr>\n",
       "      <td>1</td>\n",
       "      <td>2019-10-07 00:00:01.236320</td>\n",
       "      <td>tips_show</td>\n",
       "      <td>020292ab-89bc-4156-9acf-68bc2783f894</td>\n",
       "    </tr>\n",
       "    <tr>\n",
       "      <td>2</td>\n",
       "      <td>2019-10-07 00:00:02.245341</td>\n",
       "      <td>tips_show</td>\n",
       "      <td>cf7eda61-9349-469f-ac27-e5b6f5ec475c</td>\n",
       "    </tr>\n",
       "    <tr>\n",
       "      <td>3</td>\n",
       "      <td>2019-10-07 00:00:07.039334</td>\n",
       "      <td>tips_show</td>\n",
       "      <td>020292ab-89bc-4156-9acf-68bc2783f894</td>\n",
       "    </tr>\n",
       "    <tr>\n",
       "      <td>4</td>\n",
       "      <td>2019-10-07 00:00:56.319813</td>\n",
       "      <td>advert_open</td>\n",
       "      <td>cf7eda61-9349-469f-ac27-e5b6f5ec475c</td>\n",
       "    </tr>\n",
       "  </tbody>\n",
       "</table>\n",
       "</div>"
      ],
      "text/plain": [
       "                   event.time   event.name  \\\n",
       "0  2019-10-07 00:00:00.431357  advert_open   \n",
       "1  2019-10-07 00:00:01.236320    tips_show   \n",
       "2  2019-10-07 00:00:02.245341    tips_show   \n",
       "3  2019-10-07 00:00:07.039334    tips_show   \n",
       "4  2019-10-07 00:00:56.319813  advert_open   \n",
       "\n",
       "                                user.id  \n",
       "0  020292ab-89bc-4156-9acf-68bc2783f894  \n",
       "1  020292ab-89bc-4156-9acf-68bc2783f894  \n",
       "2  cf7eda61-9349-469f-ac27-e5b6f5ec475c  \n",
       "3  020292ab-89bc-4156-9acf-68bc2783f894  \n",
       "4  cf7eda61-9349-469f-ac27-e5b6f5ec475c  "
      ]
     },
     "execution_count": 3,
     "metadata": {},
     "output_type": "execute_result"
    }
   ],
   "source": [
    "data.head()"
   ]
  },
  {
   "cell_type": "code",
   "execution_count": 4,
   "metadata": {},
   "outputs": [
    {
     "name": "stdout",
     "output_type": "stream",
     "text": [
      "<class 'pandas.core.frame.DataFrame'>\n",
      "RangeIndex: 74197 entries, 0 to 74196\n",
      "Data columns (total 3 columns):\n",
      "event.time    74197 non-null object\n",
      "event.name    74197 non-null object\n",
      "user.id       74197 non-null object\n",
      "dtypes: object(3)\n",
      "memory usage: 1.7+ MB\n"
     ]
    }
   ],
   "source": [
    "data.info()"
   ]
  },
  {
   "cell_type": "code",
   "execution_count": 5,
   "metadata": {},
   "outputs": [],
   "source": [
    "sources = pd.read_csv('https://code.s3.yandex.net/datasets/mobile_soures.csv')"
   ]
  },
  {
   "cell_type": "code",
   "execution_count": 6,
   "metadata": {},
   "outputs": [
    {
     "data": {
      "text/html": [
       "<div>\n",
       "<style scoped>\n",
       "    .dataframe tbody tr th:only-of-type {\n",
       "        vertical-align: middle;\n",
       "    }\n",
       "\n",
       "    .dataframe tbody tr th {\n",
       "        vertical-align: top;\n",
       "    }\n",
       "\n",
       "    .dataframe thead th {\n",
       "        text-align: right;\n",
       "    }\n",
       "</style>\n",
       "<table border=\"1\" class=\"dataframe\">\n",
       "  <thead>\n",
       "    <tr style=\"text-align: right;\">\n",
       "      <th></th>\n",
       "      <th>userId</th>\n",
       "      <th>source</th>\n",
       "    </tr>\n",
       "  </thead>\n",
       "  <tbody>\n",
       "    <tr>\n",
       "      <td>0</td>\n",
       "      <td>020292ab-89bc-4156-9acf-68bc2783f894</td>\n",
       "      <td>other</td>\n",
       "    </tr>\n",
       "    <tr>\n",
       "      <td>1</td>\n",
       "      <td>cf7eda61-9349-469f-ac27-e5b6f5ec475c</td>\n",
       "      <td>yandex</td>\n",
       "    </tr>\n",
       "    <tr>\n",
       "      <td>2</td>\n",
       "      <td>8c356c42-3ba9-4cb6-80b8-3f868d0192c3</td>\n",
       "      <td>yandex</td>\n",
       "    </tr>\n",
       "    <tr>\n",
       "      <td>3</td>\n",
       "      <td>d9b06b47-0f36-419b-bbb0-3533e582a6cb</td>\n",
       "      <td>other</td>\n",
       "    </tr>\n",
       "    <tr>\n",
       "      <td>4</td>\n",
       "      <td>f32e1e2a-3027-4693-b793-b7b3ff274439</td>\n",
       "      <td>google</td>\n",
       "    </tr>\n",
       "  </tbody>\n",
       "</table>\n",
       "</div>"
      ],
      "text/plain": [
       "                                 userId  source\n",
       "0  020292ab-89bc-4156-9acf-68bc2783f894   other\n",
       "1  cf7eda61-9349-469f-ac27-e5b6f5ec475c  yandex\n",
       "2  8c356c42-3ba9-4cb6-80b8-3f868d0192c3  yandex\n",
       "3  d9b06b47-0f36-419b-bbb0-3533e582a6cb   other\n",
       "4  f32e1e2a-3027-4693-b793-b7b3ff274439  google"
      ]
     },
     "execution_count": 6,
     "metadata": {},
     "output_type": "execute_result"
    }
   ],
   "source": [
    "sources.head()"
   ]
  },
  {
   "cell_type": "code",
   "execution_count": 7,
   "metadata": {
    "scrolled": true
   },
   "outputs": [
    {
     "name": "stdout",
     "output_type": "stream",
     "text": [
      "<class 'pandas.core.frame.DataFrame'>\n",
      "RangeIndex: 4293 entries, 0 to 4292\n",
      "Data columns (total 2 columns):\n",
      "userId    4293 non-null object\n",
      "source    4293 non-null object\n",
      "dtypes: object(2)\n",
      "memory usage: 67.2+ KB\n"
     ]
    }
   ],
   "source": [
    "sources.info()"
   ]
  },
  {
   "cell_type": "markdown",
   "metadata": {},
   "source": [
    "Переименуем названия столбцов в обеих таблицах:"
   ]
  },
  {
   "cell_type": "code",
   "execution_count": 8,
   "metadata": {},
   "outputs": [],
   "source": [
    "data = data.rename(columns={'event.time': 'event_time', 'event.name': 'event_name',\n",
    "                        'user.id': 'user_id'})"
   ]
  },
  {
   "cell_type": "code",
   "execution_count": 9,
   "metadata": {},
   "outputs": [],
   "source": [
    "sources = sources.rename(columns={'userId': 'user_id'})"
   ]
  },
  {
   "cell_type": "markdown",
   "metadata": {},
   "source": [
    "Заменим тип данных в таблице data в столбце event_time и добавим новый столбец дат:"
   ]
  },
  {
   "cell_type": "code",
   "execution_count": 10,
   "metadata": {},
   "outputs": [],
   "source": [
    "data['event_time'] = pd.to_datetime(data['event_time'])\n",
    "data['event_date'] = data['event_time'].astype('datetime64[D]')"
   ]
  },
  {
   "cell_type": "markdown",
   "metadata": {},
   "source": [
    "Проверим данные на наличие дубликатов:"
   ]
  },
  {
   "cell_type": "code",
   "execution_count": 11,
   "metadata": {},
   "outputs": [
    {
     "data": {
      "text/plain": [
       "0"
      ]
     },
     "execution_count": 11,
     "metadata": {},
     "output_type": "execute_result"
    }
   ],
   "source": [
    "data.duplicated().sum()"
   ]
  },
  {
   "cell_type": "code",
   "execution_count": 12,
   "metadata": {},
   "outputs": [
    {
     "data": {
      "text/plain": [
       "0"
      ]
     },
     "execution_count": 12,
     "metadata": {},
     "output_type": "execute_result"
    }
   ],
   "source": [
    "sources.duplicated().sum()"
   ]
  },
  {
   "cell_type": "markdown",
   "metadata": {},
   "source": [
    "Объединим две имеющиеся таблицы по столбцу user_id:"
   ]
  },
  {
   "cell_type": "code",
   "execution_count": 13,
   "metadata": {},
   "outputs": [],
   "source": [
    "df = data.merge(sources, on='user_id', how = 'outer')"
   ]
  },
  {
   "cell_type": "code",
   "execution_count": 14,
   "metadata": {},
   "outputs": [
    {
     "data": {
      "text/html": [
       "<div>\n",
       "<style scoped>\n",
       "    .dataframe tbody tr th:only-of-type {\n",
       "        vertical-align: middle;\n",
       "    }\n",
       "\n",
       "    .dataframe tbody tr th {\n",
       "        vertical-align: top;\n",
       "    }\n",
       "\n",
       "    .dataframe thead th {\n",
       "        text-align: right;\n",
       "    }\n",
       "</style>\n",
       "<table border=\"1\" class=\"dataframe\">\n",
       "  <thead>\n",
       "    <tr style=\"text-align: right;\">\n",
       "      <th></th>\n",
       "      <th>event_time</th>\n",
       "      <th>event_name</th>\n",
       "      <th>user_id</th>\n",
       "      <th>event_date</th>\n",
       "      <th>source</th>\n",
       "    </tr>\n",
       "  </thead>\n",
       "  <tbody>\n",
       "    <tr>\n",
       "      <td>0</td>\n",
       "      <td>2019-10-07 00:00:00.431357</td>\n",
       "      <td>advert_open</td>\n",
       "      <td>020292ab-89bc-4156-9acf-68bc2783f894</td>\n",
       "      <td>2019-10-07</td>\n",
       "      <td>other</td>\n",
       "    </tr>\n",
       "    <tr>\n",
       "      <td>1</td>\n",
       "      <td>2019-10-07 00:00:01.236320</td>\n",
       "      <td>tips_show</td>\n",
       "      <td>020292ab-89bc-4156-9acf-68bc2783f894</td>\n",
       "      <td>2019-10-07</td>\n",
       "      <td>other</td>\n",
       "    </tr>\n",
       "    <tr>\n",
       "      <td>2</td>\n",
       "      <td>2019-10-07 00:00:07.039334</td>\n",
       "      <td>tips_show</td>\n",
       "      <td>020292ab-89bc-4156-9acf-68bc2783f894</td>\n",
       "      <td>2019-10-07</td>\n",
       "      <td>other</td>\n",
       "    </tr>\n",
       "    <tr>\n",
       "      <td>3</td>\n",
       "      <td>2019-10-07 00:01:27.770232</td>\n",
       "      <td>advert_open</td>\n",
       "      <td>020292ab-89bc-4156-9acf-68bc2783f894</td>\n",
       "      <td>2019-10-07</td>\n",
       "      <td>other</td>\n",
       "    </tr>\n",
       "    <tr>\n",
       "      <td>4</td>\n",
       "      <td>2019-10-07 00:01:34.804591</td>\n",
       "      <td>tips_show</td>\n",
       "      <td>020292ab-89bc-4156-9acf-68bc2783f894</td>\n",
       "      <td>2019-10-07</td>\n",
       "      <td>other</td>\n",
       "    </tr>\n",
       "  </tbody>\n",
       "</table>\n",
       "</div>"
      ],
      "text/plain": [
       "                  event_time   event_name  \\\n",
       "0 2019-10-07 00:00:00.431357  advert_open   \n",
       "1 2019-10-07 00:00:01.236320    tips_show   \n",
       "2 2019-10-07 00:00:07.039334    tips_show   \n",
       "3 2019-10-07 00:01:27.770232  advert_open   \n",
       "4 2019-10-07 00:01:34.804591    tips_show   \n",
       "\n",
       "                                user_id event_date source  \n",
       "0  020292ab-89bc-4156-9acf-68bc2783f894 2019-10-07  other  \n",
       "1  020292ab-89bc-4156-9acf-68bc2783f894 2019-10-07  other  \n",
       "2  020292ab-89bc-4156-9acf-68bc2783f894 2019-10-07  other  \n",
       "3  020292ab-89bc-4156-9acf-68bc2783f894 2019-10-07  other  \n",
       "4  020292ab-89bc-4156-9acf-68bc2783f894 2019-10-07  other  "
      ]
     },
     "execution_count": 14,
     "metadata": {},
     "output_type": "execute_result"
    }
   ],
   "source": [
    "df.head()"
   ]
  },
  {
   "cell_type": "code",
   "execution_count": 15,
   "metadata": {},
   "outputs": [
    {
     "name": "stdout",
     "output_type": "stream",
     "text": [
      "<class 'pandas.core.frame.DataFrame'>\n",
      "Int64Index: 74197 entries, 0 to 74196\n",
      "Data columns (total 5 columns):\n",
      "event_time    74197 non-null datetime64[ns]\n",
      "event_name    74197 non-null object\n",
      "user_id       74197 non-null object\n",
      "event_date    74197 non-null datetime64[ns]\n",
      "source        74197 non-null object\n",
      "dtypes: datetime64[ns](2), object(3)\n",
      "memory usage: 3.4+ MB\n"
     ]
    }
   ],
   "source": [
    "df.info()"
   ]
  },
  {
   "cell_type": "markdown",
   "metadata": {},
   "source": [
    "Методом value_counts() выведем на экран количество уникальных значений в столбцах event_name и source и убедимся, что все названия в этих столбцах записаны одинаковым регистром. Таким образом проверим данные на наличие неявных дубликатов."
   ]
  },
  {
   "cell_type": "code",
   "execution_count": 16,
   "metadata": {},
   "outputs": [
    {
     "data": {
      "text/plain": [
       "tips_show        40055\n",
       "photos_show      10012\n",
       "advert_open       6164\n",
       "contacts_show     4450\n",
       "map               3881\n",
       "search_1          3506\n",
       "favorites_add     1417\n",
       "search_5          1049\n",
       "tips_click         814\n",
       "search_4           701\n",
       "contacts_call      541\n",
       "search_3           522\n",
       "search_6           460\n",
       "search_2           324\n",
       "search_7           222\n",
       "show_contacts       79\n",
       "Name: event_name, dtype: int64"
      ]
     },
     "execution_count": 16,
     "metadata": {},
     "output_type": "execute_result"
    }
   ],
   "source": [
    "df['event_name'].value_counts()"
   ]
  },
  {
   "cell_type": "markdown",
   "metadata": {},
   "source": [
    "Заменим название всех действий, связанных с поиском по сайту на search, а название действия show_contacts на contacts_show, тк это по сути одно и тоже действие."
   ]
  },
  {
   "cell_type": "code",
   "execution_count": 17,
   "metadata": {},
   "outputs": [],
   "source": [
    "df['event_name'] = df['event_name'].str.replace('search_+\\d', 'search')"
   ]
  },
  {
   "cell_type": "code",
   "execution_count": 18,
   "metadata": {},
   "outputs": [],
   "source": [
    "df['event_name'] = df['event_name'].str.replace('show_contacts', 'contacts_show')"
   ]
  },
  {
   "cell_type": "markdown",
   "metadata": {},
   "source": [
    "### Вывод"
   ]
  },
  {
   "cell_type": "markdown",
   "metadata": {},
   "source": [
    "В нашем распоряжении таблица с данными пользователей (df), впервые совершивших действия в приложении после 7 октября 2019 года. Мы получили таблицу df путём объединения исходных двух таблиц с данными о событиях и с данными об источниках. В таблице df нет пропусков и дубликатов. Тип данных в cтолбце даты и времени был заменён на корректный, был добавлен новый столбец дат, заменены названия стобцов. Название целевого события show_contacts было заменено на contacts_show, а все названия событий, связанных с поиском по приложению - на search. Теперь данные готовы для анализа."
   ]
  },
  {
   "cell_type": "markdown",
   "metadata": {},
   "source": [
    "## Исследовательский анализ данных"
   ]
  },
  {
   "cell_type": "markdown",
   "metadata": {},
   "source": [
    "* Сколько всего событий в логе?\n",
    "* Сколько всего пользователей в логе?\n",
    "* Сколько в среднем событий приходится на пользователя?\n",
    "* Данными за какой период мы располагаем?\n",
    "* Нам доступны одинаково полные данные за весь период?"
   ]
  },
  {
   "cell_type": "code",
   "execution_count": 19,
   "metadata": {},
   "outputs": [
    {
     "name": "stdout",
     "output_type": "stream",
     "text": [
      "Событий в логе: 74197\n"
     ]
    }
   ],
   "source": [
    "total_events = len(df)\n",
    "print('Событий в логе:', total_events)"
   ]
  },
  {
   "cell_type": "code",
   "execution_count": 20,
   "metadata": {},
   "outputs": [
    {
     "name": "stdout",
     "output_type": "stream",
     "text": [
      "Пользователей в логе: 4293\n"
     ]
    }
   ],
   "source": [
    "total_users = len(df['user_id'].unique())\n",
    "print('Пользователей в логе:', total_users)"
   ]
  },
  {
   "cell_type": "code",
   "execution_count": 21,
   "metadata": {},
   "outputs": [
    {
     "name": "stdout",
     "output_type": "stream",
     "text": [
      "В среднем событий приходится на пользователя: 17\n"
     ]
    }
   ],
   "source": [
    "events_per_user = (total_events / total_users)\n",
    "print('В среднем событий приходится на пользователя:', round(events_per_user))"
   ]
  },
  {
   "cell_type": "code",
   "execution_count": 22,
   "metadata": {},
   "outputs": [
    {
     "name": "stdout",
     "output_type": "stream",
     "text": [
      "Минимальная дата: 2019-10-07 00:00:00\n",
      "Максимальная дата: 2019-11-03 00:00:00\n"
     ]
    }
   ],
   "source": [
    "min_analysis_date = df['event_date'].min()\n",
    "max_analysis_date = df['event_date'].max()\n",
    "print('Минимальная дата:', min_analysis_date)\n",
    "print('Максимальная дата:', max_analysis_date)"
   ]
  },
  {
   "cell_type": "code",
   "execution_count": 23,
   "metadata": {},
   "outputs": [
    {
     "data": {
      "image/png": "[encoded data removed]",
      "text/plain": [
       "<Figure size 1224x504 with 1 Axes>"
      ]
     },
     "metadata": {
      "needs_background": "light"
     },
     "output_type": "display_data"
    }
   ],
   "source": [
    "plt.figure(figsize= (17,7))\n",
    "df['event_time'].hist(bins=100).set(\n",
    "    title = 'Распределение по дате и времени', xlabel = 'Дата', ylabel = 'Частота')\n",
    "plt.show()"
   ]
  },
  {
   "cell_type": "markdown",
   "metadata": {},
   "source": [
    "Данные распределены равномерно, значит нам доступны одинакого полные данные за период 7.10.2019 - 3.11.2019 (4 недели)."
   ]
  },
  {
   "cell_type": "markdown",
   "metadata": {},
   "source": [
    "### Из каких источников приходят пользователи?"
   ]
  },
  {
   "cell_type": "code",
   "execution_count": 24,
   "metadata": {},
   "outputs": [
    {
     "data": {
      "text/html": [
       "<style  type=\"text/css\" >\n",
       "</style><table id=\"T_c708e6a0_2cd9_11ec_88cd_02420a397f6c\" ><thead>    <tr>        <th class=\"blank level0\" ></th>        <th class=\"col_heading level0 col0\" >source</th>        <th class=\"col_heading level0 col1\" >user_id</th>        <th class=\"col_heading level0 col2\" >part</th>    </tr></thead><tbody>\n",
       "                <tr>\n",
       "                        <th id=\"T_c708e6a0_2cd9_11ec_88cd_02420a397f6clevel0_row0\" class=\"row_heading level0 row0\" >2</th>\n",
       "                        <td id=\"T_c708e6a0_2cd9_11ec_88cd_02420a397f6crow0_col0\" class=\"data row0 col0\" >yandex</td>\n",
       "                        <td id=\"T_c708e6a0_2cd9_11ec_88cd_02420a397f6crow0_col1\" class=\"data row0 col1\" >1934</td>\n",
       "                        <td id=\"T_c708e6a0_2cd9_11ec_88cd_02420a397f6crow0_col2\" class=\"data row0 col2\" >45.1%</td>\n",
       "            </tr>\n",
       "            <tr>\n",
       "                        <th id=\"T_c708e6a0_2cd9_11ec_88cd_02420a397f6clevel0_row1\" class=\"row_heading level0 row1\" >1</th>\n",
       "                        <td id=\"T_c708e6a0_2cd9_11ec_88cd_02420a397f6crow1_col0\" class=\"data row1 col0\" >other</td>\n",
       "                        <td id=\"T_c708e6a0_2cd9_11ec_88cd_02420a397f6crow1_col1\" class=\"data row1 col1\" >1230</td>\n",
       "                        <td id=\"T_c708e6a0_2cd9_11ec_88cd_02420a397f6crow1_col2\" class=\"data row1 col2\" >28.7%</td>\n",
       "            </tr>\n",
       "            <tr>\n",
       "                        <th id=\"T_c708e6a0_2cd9_11ec_88cd_02420a397f6clevel0_row2\" class=\"row_heading level0 row2\" >0</th>\n",
       "                        <td id=\"T_c708e6a0_2cd9_11ec_88cd_02420a397f6crow2_col0\" class=\"data row2 col0\" >google</td>\n",
       "                        <td id=\"T_c708e6a0_2cd9_11ec_88cd_02420a397f6crow2_col1\" class=\"data row2 col1\" >1129</td>\n",
       "                        <td id=\"T_c708e6a0_2cd9_11ec_88cd_02420a397f6crow2_col2\" class=\"data row2 col2\" >26.3%</td>\n",
       "            </tr>\n",
       "    </tbody></table>"
      ],
      "text/plain": [
       "<pandas.io.formats.style.Styler at 0x7fe93ad4b7d0>"
      ]
     },
     "execution_count": 24,
     "metadata": {},
     "output_type": "execute_result"
    }
   ],
   "source": [
    "df_sources = df.groupby('source').agg({'user_id': 'nunique'}).reset_index()\n",
    "df_sources['part'] = df_sources['user_id'] / df_sources['user_id'].sum()\n",
    "data_sources = df_sources.sort_values(\n",
    "    'user_id', ascending = False).style.format({'part': '{:,.1%}'.format})\n",
    "data_sources\n",
    "\n"
   ]
  },
  {
   "cell_type": "code",
   "execution_count": 25,
   "metadata": {},
   "outputs": [
    {
     "data": {
      "image/png": "[encoded data removed]",
      "text/plain": [
       "<Figure size 504x432 with 1 Axes>"
      ]
     },
     "metadata": {
      "needs_background": "light"
     },
     "output_type": "display_data"
    }
   ],
   "source": [
    "plt.figure(figsize=(7,6))\n",
    "sns.barplot(x=\"source\", y=\"user_id\", palette='hls', data=df_sources)\n",
    "plt.title('Количество пользователей по типам источников')\n",
    "plt.xlabel('Источник')\n",
    "plt.ylabel('Количество пользователей')\n",
    "plt.grid()\n",
    "plt.show()"
   ]
  },
  {
   "cell_type": "markdown",
   "metadata": {},
   "source": [
    "Наибольшая часть пользователей (45%) установили приложение из Yandex, 29% из других источников и 26% - из Google."
   ]
  },
  {
   "cell_type": "markdown",
   "metadata": {},
   "source": [
    "### Как часто встречается каждое из событий?"
   ]
  },
  {
   "cell_type": "code",
   "execution_count": 26,
   "metadata": {},
   "outputs": [
    {
     "data": {
      "text/html": [
       "<style  type=\"text/css\" >\n",
       "</style><table id=\"T_d19b96da_2cd9_11ec_88cd_02420a397f6c\" ><thead>    <tr>        <th class=\"blank level0\" ></th>        <th class=\"col_heading level0 col0\" >event_name</th>        <th class=\"col_heading level0 col1\" >count</th>        <th class=\"col_heading level0 col2\" >part</th>    </tr></thead><tbody>\n",
       "                <tr>\n",
       "                        <th id=\"T_d19b96da_2cd9_11ec_88cd_02420a397f6clevel0_row0\" class=\"row_heading level0 row0\" >0</th>\n",
       "                        <td id=\"T_d19b96da_2cd9_11ec_88cd_02420a397f6crow0_col0\" class=\"data row0 col0\" >tips_show</td>\n",
       "                        <td id=\"T_d19b96da_2cd9_11ec_88cd_02420a397f6crow0_col1\" class=\"data row0 col1\" >40055</td>\n",
       "                        <td id=\"T_d19b96da_2cd9_11ec_88cd_02420a397f6crow0_col2\" class=\"data row0 col2\" >54.0%</td>\n",
       "            </tr>\n",
       "            <tr>\n",
       "                        <th id=\"T_d19b96da_2cd9_11ec_88cd_02420a397f6clevel0_row1\" class=\"row_heading level0 row1\" >1</th>\n",
       "                        <td id=\"T_d19b96da_2cd9_11ec_88cd_02420a397f6crow1_col0\" class=\"data row1 col0\" >photos_show</td>\n",
       "                        <td id=\"T_d19b96da_2cd9_11ec_88cd_02420a397f6crow1_col1\" class=\"data row1 col1\" >10012</td>\n",
       "                        <td id=\"T_d19b96da_2cd9_11ec_88cd_02420a397f6crow1_col2\" class=\"data row1 col2\" >13.5%</td>\n",
       "            </tr>\n",
       "            <tr>\n",
       "                        <th id=\"T_d19b96da_2cd9_11ec_88cd_02420a397f6clevel0_row2\" class=\"row_heading level0 row2\" >2</th>\n",
       "                        <td id=\"T_d19b96da_2cd9_11ec_88cd_02420a397f6crow2_col0\" class=\"data row2 col0\" >search</td>\n",
       "                        <td id=\"T_d19b96da_2cd9_11ec_88cd_02420a397f6crow2_col1\" class=\"data row2 col1\" >6784</td>\n",
       "                        <td id=\"T_d19b96da_2cd9_11ec_88cd_02420a397f6crow2_col2\" class=\"data row2 col2\" >9.1%</td>\n",
       "            </tr>\n",
       "            <tr>\n",
       "                        <th id=\"T_d19b96da_2cd9_11ec_88cd_02420a397f6clevel0_row3\" class=\"row_heading level0 row3\" >3</th>\n",
       "                        <td id=\"T_d19b96da_2cd9_11ec_88cd_02420a397f6crow3_col0\" class=\"data row3 col0\" >advert_open</td>\n",
       "                        <td id=\"T_d19b96da_2cd9_11ec_88cd_02420a397f6crow3_col1\" class=\"data row3 col1\" >6164</td>\n",
       "                        <td id=\"T_d19b96da_2cd9_11ec_88cd_02420a397f6crow3_col2\" class=\"data row3 col2\" >8.3%</td>\n",
       "            </tr>\n",
       "            <tr>\n",
       "                        <th id=\"T_d19b96da_2cd9_11ec_88cd_02420a397f6clevel0_row4\" class=\"row_heading level0 row4\" >4</th>\n",
       "                        <td id=\"T_d19b96da_2cd9_11ec_88cd_02420a397f6crow4_col0\" class=\"data row4 col0\" >contacts_show</td>\n",
       "                        <td id=\"T_d19b96da_2cd9_11ec_88cd_02420a397f6crow4_col1\" class=\"data row4 col1\" >4529</td>\n",
       "                        <td id=\"T_d19b96da_2cd9_11ec_88cd_02420a397f6crow4_col2\" class=\"data row4 col2\" >6.1%</td>\n",
       "            </tr>\n",
       "            <tr>\n",
       "                        <th id=\"T_d19b96da_2cd9_11ec_88cd_02420a397f6clevel0_row5\" class=\"row_heading level0 row5\" >5</th>\n",
       "                        <td id=\"T_d19b96da_2cd9_11ec_88cd_02420a397f6crow5_col0\" class=\"data row5 col0\" >map</td>\n",
       "                        <td id=\"T_d19b96da_2cd9_11ec_88cd_02420a397f6crow5_col1\" class=\"data row5 col1\" >3881</td>\n",
       "                        <td id=\"T_d19b96da_2cd9_11ec_88cd_02420a397f6crow5_col2\" class=\"data row5 col2\" >5.2%</td>\n",
       "            </tr>\n",
       "            <tr>\n",
       "                        <th id=\"T_d19b96da_2cd9_11ec_88cd_02420a397f6clevel0_row6\" class=\"row_heading level0 row6\" >6</th>\n",
       "                        <td id=\"T_d19b96da_2cd9_11ec_88cd_02420a397f6crow6_col0\" class=\"data row6 col0\" >favorites_add</td>\n",
       "                        <td id=\"T_d19b96da_2cd9_11ec_88cd_02420a397f6crow6_col1\" class=\"data row6 col1\" >1417</td>\n",
       "                        <td id=\"T_d19b96da_2cd9_11ec_88cd_02420a397f6crow6_col2\" class=\"data row6 col2\" >1.9%</td>\n",
       "            </tr>\n",
       "            <tr>\n",
       "                        <th id=\"T_d19b96da_2cd9_11ec_88cd_02420a397f6clevel0_row7\" class=\"row_heading level0 row7\" >7</th>\n",
       "                        <td id=\"T_d19b96da_2cd9_11ec_88cd_02420a397f6crow7_col0\" class=\"data row7 col0\" >tips_click</td>\n",
       "                        <td id=\"T_d19b96da_2cd9_11ec_88cd_02420a397f6crow7_col1\" class=\"data row7 col1\" >814</td>\n",
       "                        <td id=\"T_d19b96da_2cd9_11ec_88cd_02420a397f6crow7_col2\" class=\"data row7 col2\" >1.1%</td>\n",
       "            </tr>\n",
       "            <tr>\n",
       "                        <th id=\"T_d19b96da_2cd9_11ec_88cd_02420a397f6clevel0_row8\" class=\"row_heading level0 row8\" >8</th>\n",
       "                        <td id=\"T_d19b96da_2cd9_11ec_88cd_02420a397f6crow8_col0\" class=\"data row8 col0\" >contacts_call</td>\n",
       "                        <td id=\"T_d19b96da_2cd9_11ec_88cd_02420a397f6crow8_col1\" class=\"data row8 col1\" >541</td>\n",
       "                        <td id=\"T_d19b96da_2cd9_11ec_88cd_02420a397f6crow8_col2\" class=\"data row8 col2\" >0.7%</td>\n",
       "            </tr>\n",
       "    </tbody></table>"
      ],
      "text/plain": [
       "<pandas.io.formats.style.Styler at 0x7fe93ae59410>"
      ]
     },
     "execution_count": 26,
     "metadata": {},
     "output_type": "execute_result"
    }
   ],
   "source": [
    "df1 = df.groupby('event_name').agg({'user_id': 'count'}).sort_values('user_id', ascending = False).reset_index()\n",
    "df1.columns = ['event_name','count']\n",
    "df1['part'] = df1['count'] / df1['count'].sum()\n",
    "df_events = df1.sort_values(\n",
    "    'count', ascending = False).style.format({'part': '{:,.1%}'.format})\n",
    "df_events"
   ]
  },
  {
   "cell_type": "code",
   "execution_count": 27,
   "metadata": {},
   "outputs": [
    {
     "data": {
      "image/png": "[encoded data removed]",
      "text/plain": [
       "<Figure size 864x576 with 1 Axes>"
      ]
     },
     "metadata": {
      "needs_background": "light"
     },
     "output_type": "display_data"
    }
   ],
   "source": [
    "plt.figure(figsize=(12,8))\n",
    "sns.barplot(x='count', y='event_name',  palette='hls', data=df1)\n",
    "plt.title('Количество событий по типу события')\n",
    "plt.xlabel('Количество событий')\n",
    "plt.ylabel('Тип события')\n",
    "plt.grid()\n",
    "plt.show()"
   ]
  },
  {
   "cell_type": "markdown",
   "metadata": {},
   "source": [
    "Самое частое событие (54% всех событий) - увидел рекомендованные объявления (tips_show), на втором месте событие photos_show (13,5%) - просмотрел фотографий в объявлении, а на третьем месте поиски по приложению search (9%). Самые редкие события (менее 2% всех событий) - favorites_add, tips_click и contacts_call (добавил объявление в избранное, кликнул по рекомендованному объявлению и позвонил по номеру из объявления)."
   ]
  },
  {
   "cell_type": "markdown",
   "metadata": {},
   "source": [
    "### Сколько пользователей совершали каждое из этих событий?"
   ]
  },
  {
   "cell_type": "code",
   "execution_count": 28,
   "metadata": {},
   "outputs": [
    {
     "data": {
      "text/html": [
       "<div>\n",
       "<style scoped>\n",
       "    .dataframe tbody tr th:only-of-type {\n",
       "        vertical-align: middle;\n",
       "    }\n",
       "\n",
       "    .dataframe tbody tr th {\n",
       "        vertical-align: top;\n",
       "    }\n",
       "\n",
       "    .dataframe thead th {\n",
       "        text-align: right;\n",
       "    }\n",
       "</style>\n",
       "<table border=\"1\" class=\"dataframe\">\n",
       "  <thead>\n",
       "    <tr style=\"text-align: right;\">\n",
       "      <th></th>\n",
       "      <th>event_name</th>\n",
       "      <th>nunique</th>\n",
       "      <th>part</th>\n",
       "    </tr>\n",
       "  </thead>\n",
       "  <tbody>\n",
       "    <tr>\n",
       "      <td>0</td>\n",
       "      <td>tips_show</td>\n",
       "      <td>2801</td>\n",
       "      <td>0.652457</td>\n",
       "    </tr>\n",
       "    <tr>\n",
       "      <td>1</td>\n",
       "      <td>search</td>\n",
       "      <td>1666</td>\n",
       "      <td>0.388074</td>\n",
       "    </tr>\n",
       "    <tr>\n",
       "      <td>2</td>\n",
       "      <td>map</td>\n",
       "      <td>1456</td>\n",
       "      <td>0.339157</td>\n",
       "    </tr>\n",
       "    <tr>\n",
       "      <td>3</td>\n",
       "      <td>photos_show</td>\n",
       "      <td>1095</td>\n",
       "      <td>0.255066</td>\n",
       "    </tr>\n",
       "    <tr>\n",
       "      <td>4</td>\n",
       "      <td>contacts_show</td>\n",
       "      <td>981</td>\n",
       "      <td>0.228512</td>\n",
       "    </tr>\n",
       "    <tr>\n",
       "      <td>5</td>\n",
       "      <td>advert_open</td>\n",
       "      <td>751</td>\n",
       "      <td>0.174936</td>\n",
       "    </tr>\n",
       "    <tr>\n",
       "      <td>6</td>\n",
       "      <td>favorites_add</td>\n",
       "      <td>351</td>\n",
       "      <td>0.081761</td>\n",
       "    </tr>\n",
       "    <tr>\n",
       "      <td>7</td>\n",
       "      <td>tips_click</td>\n",
       "      <td>322</td>\n",
       "      <td>0.075006</td>\n",
       "    </tr>\n",
       "    <tr>\n",
       "      <td>8</td>\n",
       "      <td>contacts_call</td>\n",
       "      <td>213</td>\n",
       "      <td>0.049616</td>\n",
       "    </tr>\n",
       "  </tbody>\n",
       "</table>\n",
       "</div>"
      ],
      "text/plain": [
       "      event_name  nunique      part\n",
       "0      tips_show     2801  0.652457\n",
       "1         search     1666  0.388074\n",
       "2            map     1456  0.339157\n",
       "3    photos_show     1095  0.255066\n",
       "4  contacts_show      981  0.228512\n",
       "5    advert_open      751  0.174936\n",
       "6  favorites_add      351  0.081761\n",
       "7     tips_click      322  0.075006\n",
       "8  contacts_call      213  0.049616"
      ]
     },
     "execution_count": 28,
     "metadata": {},
     "output_type": "execute_result"
    }
   ],
   "source": [
    "events = df.groupby('event_name').agg({'user_id': 'nunique'}).sort_values(\n",
    "    'user_id', ascending=False).reset_index()\n",
    "events.columns = ['event_name', 'nunique']\n",
    "events['part'] = events['nunique'] / len(df['user_id'].unique())\n",
    "events"
   ]
  },
  {
   "cell_type": "code",
   "execution_count": 29,
   "metadata": {},
   "outputs": [
    {
     "data": {
      "image/png": "[encoded data removed]",
      "text/plain": [
       "<Figure size 864x576 with 1 Axes>"
      ]
     },
     "metadata": {
      "needs_background": "light"
     },
     "output_type": "display_data"
    }
   ],
   "source": [
    "plt.figure(figsize=(12,8))\n",
    "sns.barplot(y='event_name', x='part', palette='hls', data=events)\n",
    "plt.title('Доля пользователей по типами событий')\n",
    "plt.xlabel('Доля пользователей')\n",
    "plt.ylabel('Тип события')\n",
    "plt.grid()\n",
    "plt.show()"
   ]
  },
  {
   "cell_type": "markdown",
   "metadata": {},
   "source": [
    "Наибольшее кол-во пользователей увидели рекомендованные объявления (65%), на следующем месте по кол-ву пользователей действия связанные с поиском по приложению (39% пользователей). Наименьшая доля пользователей (менее 10%) совершала такие события как favorites_add, tips_click и contacts_call (добавил объявление в избранное, кликнул по рекомендованному объявлению, кликнул по рекомендованному объявлению). Целевое событие contacts_show (посмотрел номер телефона) совершили всего 23% пользователей."
   ]
  },
  {
   "cell_type": "markdown",
   "metadata": {},
   "source": [
    "### Какие действия чаще совершают пользователи, которые просматривают контакты?"
   ]
  },
  {
   "cell_type": "markdown",
   "metadata": {},
   "source": [
    "В отдельный датафрейм сохраним данные о пользователях, которые хотя бы раз совершили действие contacts_show. Посмотрим, какие действия они совершали и как часто."
   ]
  },
  {
   "cell_type": "code",
   "execution_count": 30,
   "metadata": {},
   "outputs": [],
   "source": [
    "contacts_show = df.query('event_name == \"contacts_show\"')"
   ]
  },
  {
   "cell_type": "code",
   "execution_count": 31,
   "metadata": {},
   "outputs": [],
   "source": [
    "watched_contacts = df[df.user_id.isin(contacts_show.user_id.unique())]"
   ]
  },
  {
   "cell_type": "code",
   "execution_count": 32,
   "metadata": {},
   "outputs": [
    {
     "data": {
      "text/plain": [
       "27197"
      ]
     },
     "execution_count": 32,
     "metadata": {},
     "output_type": "execute_result"
    }
   ],
   "source": [
    "len(watched_contacts)"
   ]
  },
  {
   "cell_type": "code",
   "execution_count": 33,
   "metadata": {},
   "outputs": [
    {
     "data": {
      "text/html": [
       "<div>\n",
       "<style scoped>\n",
       "    .dataframe tbody tr th:only-of-type {\n",
       "        vertical-align: middle;\n",
       "    }\n",
       "\n",
       "    .dataframe tbody tr th {\n",
       "        vertical-align: top;\n",
       "    }\n",
       "\n",
       "    .dataframe thead th {\n",
       "        text-align: right;\n",
       "    }\n",
       "</style>\n",
       "<table border=\"1\" class=\"dataframe\">\n",
       "  <thead>\n",
       "    <tr style=\"text-align: right;\">\n",
       "      <th></th>\n",
       "      <th>event_name</th>\n",
       "      <th>count</th>\n",
       "      <th>part</th>\n",
       "    </tr>\n",
       "  </thead>\n",
       "  <tbody>\n",
       "    <tr>\n",
       "      <td>0</td>\n",
       "      <td>tips_show</td>\n",
       "      <td>12768</td>\n",
       "      <td>0.469464</td>\n",
       "    </tr>\n",
       "    <tr>\n",
       "      <td>1</td>\n",
       "      <td>contacts_show</td>\n",
       "      <td>4529</td>\n",
       "      <td>0.166526</td>\n",
       "    </tr>\n",
       "    <tr>\n",
       "      <td>2</td>\n",
       "      <td>photos_show</td>\n",
       "      <td>3828</td>\n",
       "      <td>0.140751</td>\n",
       "    </tr>\n",
       "    <tr>\n",
       "      <td>3</td>\n",
       "      <td>search</td>\n",
       "      <td>2084</td>\n",
       "      <td>0.076626</td>\n",
       "    </tr>\n",
       "    <tr>\n",
       "      <td>4</td>\n",
       "      <td>advert_open</td>\n",
       "      <td>1589</td>\n",
       "      <td>0.058426</td>\n",
       "    </tr>\n",
       "    <tr>\n",
       "      <td>5</td>\n",
       "      <td>map</td>\n",
       "      <td>1101</td>\n",
       "      <td>0.040482</td>\n",
       "    </tr>\n",
       "    <tr>\n",
       "      <td>6</td>\n",
       "      <td>contacts_call</td>\n",
       "      <td>541</td>\n",
       "      <td>0.019892</td>\n",
       "    </tr>\n",
       "    <tr>\n",
       "      <td>7</td>\n",
       "      <td>favorites_add</td>\n",
       "      <td>424</td>\n",
       "      <td>0.015590</td>\n",
       "    </tr>\n",
       "    <tr>\n",
       "      <td>8</td>\n",
       "      <td>tips_click</td>\n",
       "      <td>333</td>\n",
       "      <td>0.012244</td>\n",
       "    </tr>\n",
       "  </tbody>\n",
       "</table>\n",
       "</div>"
      ],
      "text/plain": [
       "      event_name  count      part\n",
       "0      tips_show  12768  0.469464\n",
       "1  contacts_show   4529  0.166526\n",
       "2    photos_show   3828  0.140751\n",
       "3         search   2084  0.076626\n",
       "4    advert_open   1589  0.058426\n",
       "5            map   1101  0.040482\n",
       "6  contacts_call    541  0.019892\n",
       "7  favorites_add    424  0.015590\n",
       "8     tips_click    333  0.012244"
      ]
     },
     "execution_count": 33,
     "metadata": {},
     "output_type": "execute_result"
    }
   ],
   "source": [
    "df_watched_contacts = watched_contacts.groupby('event_name').agg({'user_id': 'count'}).sort_values(\n",
    "    'user_id', ascending = False).reset_index()\n",
    "df_watched_contacts.columns = ['event_name', 'count']\n",
    "df_watched_contacts['part'] = df_watched_contacts['count'] / len(watched_contacts)\n",
    "df_watched_contacts"
   ]
  },
  {
   "cell_type": "markdown",
   "metadata": {},
   "source": [
    "Пользователи, совершившие хоть раз целевое действие совершили всего 27197 действий, включая целевое и звонок по номеру из объявления. Так как звонок возможен только со страницы контактов, исключим эти два события и посмотрим на доли оставшихся событий."
   ]
  },
  {
   "cell_type": "code",
   "execution_count": 34,
   "metadata": {},
   "outputs": [],
   "source": [
    "filtered = watched_contacts.query(\n",
    "    'event_name != \"contacts_show\" and event_name != \"contacts_call\"')"
   ]
  },
  {
   "cell_type": "code",
   "execution_count": 35,
   "metadata": {},
   "outputs": [
    {
     "data": {
      "text/html": [
       "<div>\n",
       "<style scoped>\n",
       "    .dataframe tbody tr th:only-of-type {\n",
       "        vertical-align: middle;\n",
       "    }\n",
       "\n",
       "    .dataframe tbody tr th {\n",
       "        vertical-align: top;\n",
       "    }\n",
       "\n",
       "    .dataframe thead th {\n",
       "        text-align: right;\n",
       "    }\n",
       "</style>\n",
       "<table border=\"1\" class=\"dataframe\">\n",
       "  <thead>\n",
       "    <tr style=\"text-align: right;\">\n",
       "      <th></th>\n",
       "      <th>event_name</th>\n",
       "      <th>count</th>\n",
       "      <th>part</th>\n",
       "    </tr>\n",
       "  </thead>\n",
       "  <tbody>\n",
       "    <tr>\n",
       "      <td>0</td>\n",
       "      <td>tips_show</td>\n",
       "      <td>12768</td>\n",
       "      <td>0.577033</td>\n",
       "    </tr>\n",
       "    <tr>\n",
       "      <td>1</td>\n",
       "      <td>photos_show</td>\n",
       "      <td>3828</td>\n",
       "      <td>0.173001</td>\n",
       "    </tr>\n",
       "    <tr>\n",
       "      <td>2</td>\n",
       "      <td>search</td>\n",
       "      <td>2084</td>\n",
       "      <td>0.094184</td>\n",
       "    </tr>\n",
       "    <tr>\n",
       "      <td>3</td>\n",
       "      <td>advert_open</td>\n",
       "      <td>1589</td>\n",
       "      <td>0.071813</td>\n",
       "    </tr>\n",
       "    <tr>\n",
       "      <td>4</td>\n",
       "      <td>map</td>\n",
       "      <td>1101</td>\n",
       "      <td>0.049758</td>\n",
       "    </tr>\n",
       "    <tr>\n",
       "      <td>5</td>\n",
       "      <td>favorites_add</td>\n",
       "      <td>424</td>\n",
       "      <td>0.019162</td>\n",
       "    </tr>\n",
       "    <tr>\n",
       "      <td>6</td>\n",
       "      <td>tips_click</td>\n",
       "      <td>333</td>\n",
       "      <td>0.015049</td>\n",
       "    </tr>\n",
       "  </tbody>\n",
       "</table>\n",
       "</div>"
      ],
      "text/plain": [
       "      event_name  count      part\n",
       "0      tips_show  12768  0.577033\n",
       "1    photos_show   3828  0.173001\n",
       "2         search   2084  0.094184\n",
       "3    advert_open   1589  0.071813\n",
       "4            map   1101  0.049758\n",
       "5  favorites_add    424  0.019162\n",
       "6     tips_click    333  0.015049"
      ]
     },
     "execution_count": 35,
     "metadata": {},
     "output_type": "execute_result"
    }
   ],
   "source": [
    "watched_contacts_filt = filtered.groupby('event_name').agg({'user_id': 'count'}).sort_values(\n",
    "    'user_id', ascending = False).reset_index()\n",
    "watched_contacts_filt.columns = ['event_name', 'count']\n",
    "watched_contacts_filt['part'] = watched_contacts_filt['count'] / len(filtered)\n",
    "watched_contacts_filt"
   ]
  },
  {
   "cell_type": "markdown",
   "metadata": {},
   "source": [
    "Сравним полученные доли событий с долями событий у пользователей, которые целевое действие не совершали:"
   ]
  },
  {
   "cell_type": "code",
   "execution_count": 36,
   "metadata": {},
   "outputs": [],
   "source": [
    "no_watched_contacts = df[~df.user_id.isin(contacts_show.user_id.unique())]"
   ]
  },
  {
   "cell_type": "code",
   "execution_count": 37,
   "metadata": {},
   "outputs": [
    {
     "data": {
      "text/html": [
       "<div>\n",
       "<style scoped>\n",
       "    .dataframe tbody tr th:only-of-type {\n",
       "        vertical-align: middle;\n",
       "    }\n",
       "\n",
       "    .dataframe tbody tr th {\n",
       "        vertical-align: top;\n",
       "    }\n",
       "\n",
       "    .dataframe thead th {\n",
       "        text-align: right;\n",
       "    }\n",
       "</style>\n",
       "<table border=\"1\" class=\"dataframe\">\n",
       "  <thead>\n",
       "    <tr style=\"text-align: right;\">\n",
       "      <th></th>\n",
       "      <th>event_name</th>\n",
       "      <th>count</th>\n",
       "      <th>part</th>\n",
       "    </tr>\n",
       "  </thead>\n",
       "  <tbody>\n",
       "    <tr>\n",
       "      <td>0</td>\n",
       "      <td>tips_show</td>\n",
       "      <td>27287</td>\n",
       "      <td>0.580574</td>\n",
       "    </tr>\n",
       "    <tr>\n",
       "      <td>1</td>\n",
       "      <td>photos_show</td>\n",
       "      <td>6184</td>\n",
       "      <td>0.131574</td>\n",
       "    </tr>\n",
       "    <tr>\n",
       "      <td>2</td>\n",
       "      <td>search</td>\n",
       "      <td>4700</td>\n",
       "      <td>0.100000</td>\n",
       "    </tr>\n",
       "    <tr>\n",
       "      <td>3</td>\n",
       "      <td>advert_open</td>\n",
       "      <td>4575</td>\n",
       "      <td>0.097340</td>\n",
       "    </tr>\n",
       "    <tr>\n",
       "      <td>4</td>\n",
       "      <td>map</td>\n",
       "      <td>2780</td>\n",
       "      <td>0.059149</td>\n",
       "    </tr>\n",
       "    <tr>\n",
       "      <td>5</td>\n",
       "      <td>favorites_add</td>\n",
       "      <td>993</td>\n",
       "      <td>0.021128</td>\n",
       "    </tr>\n",
       "    <tr>\n",
       "      <td>6</td>\n",
       "      <td>tips_click</td>\n",
       "      <td>481</td>\n",
       "      <td>0.010234</td>\n",
       "    </tr>\n",
       "  </tbody>\n",
       "</table>\n",
       "</div>"
      ],
      "text/plain": [
       "      event_name  count      part\n",
       "0      tips_show  27287  0.580574\n",
       "1    photos_show   6184  0.131574\n",
       "2         search   4700  0.100000\n",
       "3    advert_open   4575  0.097340\n",
       "4            map   2780  0.059149\n",
       "5  favorites_add    993  0.021128\n",
       "6     tips_click    481  0.010234"
      ]
     },
     "execution_count": 37,
     "metadata": {},
     "output_type": "execute_result"
    }
   ],
   "source": [
    "df_no_watched_contacts = no_watched_contacts.groupby('event_name').agg({'user_id': 'count'}).sort_values(\n",
    "    'user_id', ascending = False).reset_index()\n",
    "df_no_watched_contacts.columns = ['event_name', 'count']\n",
    "df_no_watched_contacts['part'] = df_no_watched_contacts['count'] / len(no_watched_contacts)\n",
    "df_no_watched_contacts"
   ]
  },
  {
   "cell_type": "code",
   "execution_count": 38,
   "metadata": {},
   "outputs": [
    {
     "data": {
      "image/png": "[encoded data removed]",
      "text/plain": [
       "<Figure size 864x432 with 1 Axes>"
      ]
     },
     "metadata": {
      "needs_background": "light"
     },
     "output_type": "display_data"
    }
   ],
   "source": [
    "contacts = watched_contacts_filt['part'].round(3).to_list()\n",
    "no_contacts = df_no_watched_contacts['part'].round(3).to_list()\n",
    "index = ['tips_show', 'photos_show', 'search',\n",
    "         'advert_open', 'map', 'favorites_add', 'tips_click']\n",
    "ab = pd.DataFrame({'contacts': contacts,\n",
    "                   'no_contacts': no_contacts}, index=index)\n",
    "ax = ab.plot.bar(rot=0, figsize = (12,6), title = 'Сравнение частоты действий пользователей', grid=True)\n"
   ]
  },
  {
   "cell_type": "code",
   "execution_count": 109,
   "metadata": {},
   "outputs": [
    {
     "data": {
      "text/html": [
       "<div>\n",
       "<style scoped>\n",
       "    .dataframe tbody tr th:only-of-type {\n",
       "        vertical-align: middle;\n",
       "    }\n",
       "\n",
       "    .dataframe tbody tr th {\n",
       "        vertical-align: top;\n",
       "    }\n",
       "\n",
       "    .dataframe thead th {\n",
       "        text-align: right;\n",
       "    }\n",
       "</style>\n",
       "<table border=\"1\" class=\"dataframe\">\n",
       "  <thead>\n",
       "    <tr style=\"text-align: right;\">\n",
       "      <th></th>\n",
       "      <th>contacts</th>\n",
       "      <th>no_contacts</th>\n",
       "      <th>part</th>\n",
       "    </tr>\n",
       "  </thead>\n",
       "  <tbody>\n",
       "    <tr>\n",
       "      <td>tips_show</td>\n",
       "      <td>0.577</td>\n",
       "      <td>0.581</td>\n",
       "      <td>0.993115</td>\n",
       "    </tr>\n",
       "    <tr>\n",
       "      <td>photos_show</td>\n",
       "      <td>0.173</td>\n",
       "      <td>0.132</td>\n",
       "      <td>1.310606</td>\n",
       "    </tr>\n",
       "    <tr>\n",
       "      <td>search</td>\n",
       "      <td>0.094</td>\n",
       "      <td>0.100</td>\n",
       "      <td>0.940000</td>\n",
       "    </tr>\n",
       "    <tr>\n",
       "      <td>advert_open</td>\n",
       "      <td>0.072</td>\n",
       "      <td>0.097</td>\n",
       "      <td>0.742268</td>\n",
       "    </tr>\n",
       "    <tr>\n",
       "      <td>map</td>\n",
       "      <td>0.050</td>\n",
       "      <td>0.059</td>\n",
       "      <td>0.847458</td>\n",
       "    </tr>\n",
       "    <tr>\n",
       "      <td>favorites_add</td>\n",
       "      <td>0.019</td>\n",
       "      <td>0.021</td>\n",
       "      <td>0.904762</td>\n",
       "    </tr>\n",
       "    <tr>\n",
       "      <td>tips_click</td>\n",
       "      <td>0.015</td>\n",
       "      <td>0.010</td>\n",
       "      <td>1.500000</td>\n",
       "    </tr>\n",
       "  </tbody>\n",
       "</table>\n",
       "</div>"
      ],
      "text/plain": [
       "               contacts  no_contacts      part\n",
       "tips_show         0.577        0.581  0.993115\n",
       "photos_show       0.173        0.132  1.310606\n",
       "search            0.094        0.100  0.940000\n",
       "advert_open       0.072        0.097  0.742268\n",
       "map               0.050        0.059  0.847458\n",
       "favorites_add     0.019        0.021  0.904762\n",
       "tips_click        0.015        0.010  1.500000"
      ]
     },
     "execution_count": 109,
     "metadata": {},
     "output_type": "execute_result"
    }
   ],
   "source": [
    "ab['part'] = ab['contacts'] / ab['no_contacts']\n",
    "ab"
   ]
  },
  {
   "cell_type": "markdown",
   "metadata": {},
   "source": [
    "Действия, которые пользователи с целевым действием (contacts_show) совершили **чаще**:\n",
    "- photos_show (посмотрел фотографии)\n",
    "- tips_click (кликнул по рекомендованному объявлению)\n",
    "\n",
    "Действия, которые пользователи с целевым действием (contacts_show) совершили **реже**:\n",
    "- tips_show (увидел рекомендованные объявления)\n",
    "- search (действия, связанные с поиском по сайту)\n",
    "- advert_open (открыл карточки объявления)\n",
    "- map (открыл карту объявлений)\n",
    "- favorites_add (добавил объявление в избранное)\n",
    "\n",
    "Наибольшее отличие в частоте есть у двух действий photos_show и advert_open. Пользователи, смотревшие контакты больше смотрели фотографии, но меньше открывали карточки объявлений. Можно предположить, что фотографии потенциальным покупателям интересны больше, чем описание товара или другая информация на странице объявления."
   ]
  },
  {
   "cell_type": "markdown",
   "metadata": {},
   "source": [
    "### Как влияют на действие contacts_show каждое из дополнительных действий?"
   ]
  },
  {
   "cell_type": "markdown",
   "metadata": {},
   "source": [
    "Построим сводную таблицу, строками которой будут идентификаторы пользователей, столбцами действия, а значениями - сколько раз пользователь совершил действие. Пропущенные значения заменим на нули  и приведём все значения к целочисленному типу данных. Построим матрицу корреляций и отобразим её."
   ]
  },
  {
   "cell_type": "code",
   "execution_count": 110,
   "metadata": {},
   "outputs": [
    {
     "data": {
      "text/html": [
       "<div>\n",
       "<style scoped>\n",
       "    .dataframe tbody tr th:only-of-type {\n",
       "        vertical-align: middle;\n",
       "    }\n",
       "\n",
       "    .dataframe tbody tr th {\n",
       "        vertical-align: top;\n",
       "    }\n",
       "\n",
       "    .dataframe thead th {\n",
       "        text-align: right;\n",
       "    }\n",
       "</style>\n",
       "<table border=\"1\" class=\"dataframe\">\n",
       "  <thead>\n",
       "    <tr style=\"text-align: right;\">\n",
       "      <th>event_name</th>\n",
       "      <th>user_id</th>\n",
       "      <th>advert_open</th>\n",
       "      <th>contacts_call</th>\n",
       "      <th>contacts_show</th>\n",
       "      <th>favorites_add</th>\n",
       "      <th>map</th>\n",
       "      <th>photos_show</th>\n",
       "      <th>search</th>\n",
       "      <th>tips_click</th>\n",
       "      <th>tips_show</th>\n",
       "    </tr>\n",
       "  </thead>\n",
       "  <tbody>\n",
       "    <tr>\n",
       "      <td>0</td>\n",
       "      <td>0001b1d5-b74a-4cbf-aeb0-7df5947bf349</td>\n",
       "      <td>NaN</td>\n",
       "      <td>NaN</td>\n",
       "      <td>NaN</td>\n",
       "      <td>NaN</td>\n",
       "      <td>6.0</td>\n",
       "      <td>NaN</td>\n",
       "      <td>NaN</td>\n",
       "      <td>NaN</td>\n",
       "      <td>29.0</td>\n",
       "    </tr>\n",
       "    <tr>\n",
       "      <td>1</td>\n",
       "      <td>00157779-810c-4498-9e05-a1e9e3cedf93</td>\n",
       "      <td>2.0</td>\n",
       "      <td>5.0</td>\n",
       "      <td>11.0</td>\n",
       "      <td>2.0</td>\n",
       "      <td>NaN</td>\n",
       "      <td>33.0</td>\n",
       "      <td>18.0</td>\n",
       "      <td>NaN</td>\n",
       "      <td>NaN</td>\n",
       "    </tr>\n",
       "    <tr>\n",
       "      <td>2</td>\n",
       "      <td>00463033-5717-4bf1-91b4-09183923b9df</td>\n",
       "      <td>NaN</td>\n",
       "      <td>NaN</td>\n",
       "      <td>NaN</td>\n",
       "      <td>NaN</td>\n",
       "      <td>NaN</td>\n",
       "      <td>10.0</td>\n",
       "      <td>NaN</td>\n",
       "      <td>NaN</td>\n",
       "      <td>NaN</td>\n",
       "    </tr>\n",
       "    <tr>\n",
       "      <td>3</td>\n",
       "      <td>004690c3-5a84-4bb7-a8af-e0c8f8fca64e</td>\n",
       "      <td>5.0</td>\n",
       "      <td>NaN</td>\n",
       "      <td>NaN</td>\n",
       "      <td>NaN</td>\n",
       "      <td>6.0</td>\n",
       "      <td>NaN</td>\n",
       "      <td>17.0</td>\n",
       "      <td>NaN</td>\n",
       "      <td>4.0</td>\n",
       "    </tr>\n",
       "    <tr>\n",
       "      <td>4</td>\n",
       "      <td>00551e79-152e-4441-9cf7-565d7eb04090</td>\n",
       "      <td>NaN</td>\n",
       "      <td>3.0</td>\n",
       "      <td>3.0</td>\n",
       "      <td>NaN</td>\n",
       "      <td>NaN</td>\n",
       "      <td>1.0</td>\n",
       "      <td>1.0</td>\n",
       "      <td>NaN</td>\n",
       "      <td>NaN</td>\n",
       "    </tr>\n",
       "  </tbody>\n",
       "</table>\n",
       "</div>"
      ],
      "text/plain": [
       "event_name                               user_id  advert_open  contacts_call  \\\n",
       "0           0001b1d5-b74a-4cbf-aeb0-7df5947bf349          NaN            NaN   \n",
       "1           00157779-810c-4498-9e05-a1e9e3cedf93          2.0            5.0   \n",
       "2           00463033-5717-4bf1-91b4-09183923b9df          NaN            NaN   \n",
       "3           004690c3-5a84-4bb7-a8af-e0c8f8fca64e          5.0            NaN   \n",
       "4           00551e79-152e-4441-9cf7-565d7eb04090          NaN            3.0   \n",
       "\n",
       "event_name  contacts_show  favorites_add  map  photos_show  search  \\\n",
       "0                     NaN            NaN  6.0          NaN     NaN   \n",
       "1                    11.0            2.0  NaN         33.0    18.0   \n",
       "2                     NaN            NaN  NaN         10.0     NaN   \n",
       "3                     NaN            NaN  6.0          NaN    17.0   \n",
       "4                     3.0            NaN  NaN          1.0     1.0   \n",
       "\n",
       "event_name  tips_click  tips_show  \n",
       "0                  NaN       29.0  \n",
       "1                  NaN        NaN  \n",
       "2                  NaN        NaN  \n",
       "3                  NaN        4.0  \n",
       "4                  NaN        NaN  "
      ]
     },
     "execution_count": 110,
     "metadata": {},
     "output_type": "execute_result"
    }
   ],
   "source": [
    "df_final = df.pivot_table(index='user_id', columns = 'event_name', values = 'event_date', aggfunc='count').reset_index()\n",
    "df_final.head()"
   ]
  },
  {
   "cell_type": "code",
   "execution_count": 111,
   "metadata": {},
   "outputs": [],
   "source": [
    "df_f = df_final.drop('user_id', 1)\n",
    "df_f = df_f.fillna('0')\n",
    "df_f = df_f.astype('int')"
   ]
  },
  {
   "cell_type": "code",
   "execution_count": 112,
   "metadata": {},
   "outputs": [],
   "source": [
    "cm = df_f.corr()"
   ]
  },
  {
   "cell_type": "code",
   "execution_count": 113,
   "metadata": {
    "scrolled": false
   },
   "outputs": [
    {
     "data": {
      "image/png": "[encoded data removed]",
      "text/plain": [
       "<Figure size 648x504 with 2 Axes>"
      ]
     },
     "metadata": {
      "needs_background": "light"
     },
     "output_type": "display_data"
    }
   ],
   "source": [
    "plt.figure(figsize=(9,7))\n",
    "sns.heatmap(cm, annot = True, square=True, cmap=\"coolwarm\")\n",
    "plt.show()"
   ]
  },
  {
   "cell_type": "markdown",
   "metadata": {},
   "source": [
    "Для найденных корреляций с помощью матрицы диаграмм рассеяния проверим, какая связь между переменными - линейная или нелинейная. "
   ]
  },
  {
   "cell_type": "code",
   "execution_count": 114,
   "metadata": {},
   "outputs": [
    {
     "data": {
      "text/plain": [
       "<seaborn.axisgrid.PairGrid at 0x7fdf09694450>"
      ]
     },
     "execution_count": 114,
     "metadata": {},
     "output_type": "execute_result"
    },
    {
     "data": {
      "image/png": "[encoded data removed]",
      "text/plain": [
       "<Figure size 1620x1620 with 90 Axes>"
      ]
     },
     "metadata": {
      "needs_background": "light"
     },
     "output_type": "display_data"
    }
   ],
   "source": [
    "sns.pairplot(df_f)"
   ]
  },
  {
   "cell_type": "markdown",
   "metadata": {},
   "source": [
    "Связь между признаками не является линейной, а значит коэффициент корреляции в его принятой для линейной связи форме не может отражать интенсивность связи."
   ]
  },
  {
   "cell_type": "markdown",
   "metadata": {},
   "source": [
    "### Вывод"
   ]
  },
  {
   "cell_type": "markdown",
   "metadata": {},
   "source": [
    "Нам доступны данные за 4 недели (с 7 октября по 3 ноября 2019 года). Данные содержат информацию о 4293 пользователях, которые совершили 74197 действий в приложении. Наибольшая часть пользователей (45%) установили приложение с Yandex, 29% с других источников и 26% с Google. Чаще всего (40055 раз) пользователи совершали действие tips_show (увидел рекомендованные объявления), довольно часто (10012 раз) - действие photos_show (смотрел фотографий в объявлении). 65 % пользователей совершили самое частое событие tips_show, а целевое событие contacts_show (посмотрел номер телефона) совершили только 23% пользователей. Пользователи, совершившие целевое действие чаще совершали действия photos_show (смотрел фотографий в объявлении) и действие tips_click (кликнул по рекомендованному объявлению), чем пользователи, которые целевое действие не совершали. Все остальные действия пользователи, совершившие целевое действие совершали реже, в особенности advert_open (открыл карточки объявления). Корреляционный анализ показал, что связь между признаками (действиями) более сложная, нелинейная, поэтому полученные коэффициенты корреляции не могут отражать силы этой связи."
   ]
  },
  {
   "cell_type": "markdown",
   "metadata": {},
   "source": [
    "## Проверка гипотез"
   ]
  },
  {
   "cell_type": "code",
   "execution_count": 39,
   "metadata": {},
   "outputs": [],
   "source": [
    "def hypothesis(x1, y1, x2, y2, alpha):\n",
    "    successes = np.array([x1, y1]) # к-во пользователей, кот совершили contacts_show в каждой группе\n",
    "    trials = np.array([x2, y2]) # к-во пользователей в каждой группе\n",
    "\n",
    "    # пропорция успехов в первой группе:\n",
    "    p1 = successes[0]/trials[0]\n",
    "    print('Пропорция успехов в первой группе:', p1)\n",
    "\n",
    "    # пропорция успехов во второй группе:\n",
    "    p2 = successes[1]/trials[1]\n",
    "    print('Пропорция успехов во второй группе:', p2)\n",
    "\n",
    "    # пропорция успехов в комбинированном датасете:\n",
    "    p_combined = (successes[0] + successes[1]) / (trials[0] + trials[1])\n",
    "\n",
    "    # разница пропорций в датасетах\n",
    "    difference = p1 - p2\n",
    "    print('Разница пропорций:', difference)\n",
    "    \n",
    "    # считаем z-статистику и задаем стандартное нормальное распределение, где среднее 0, а ст-ное отклонение 1\n",
    "    z_value = difference / mth.sqrt(p_combined * (1 - p_combined) * (1/trials[0] + 1/trials[1]))\n",
    "    distr = st.norm(0, 1) \n",
    "\n",
    "    p_value = (1 - distr.cdf(abs(z_value))) * 2\n",
    "    print('p-значение: ', p_value)\n",
    "\n",
    "    # проверка гипотезы о равенстве долей\n",
    "    if (p_value < alpha):\n",
    "        print(\"Отвергаем нулевую гипотезу: между долями есть значимая разница\")\n",
    "    else:\n",
    "        print(\"Не получилось отвергнуть нулевую гипотезу, нет оснований считать доли разными\")"
   ]
  },
  {
   "cell_type": "markdown",
   "metadata": {},
   "source": [
    "1 группа - совершили действия tips_show и tips_click; 2 группа - совершили только tips_show. "
   ]
  },
  {
   "cell_type": "markdown",
   "metadata": {},
   "source": [
    "**Нулевая гипотеза H₀:**<br>\n",
    "Конверсия в просмотры контактов равна у этих двух групп\n",
    "\n",
    "**Альтернативная гипотеза H₁:**<br>\n",
    "Конверсия в просмотры контактов различается у этих двух групп"
   ]
  },
  {
   "cell_type": "code",
   "execution_count": 40,
   "metadata": {},
   "outputs": [],
   "source": [
    "tips_show = df.query('event_name == \"tips_show\"')"
   ]
  },
  {
   "cell_type": "code",
   "execution_count": 41,
   "metadata": {},
   "outputs": [],
   "source": [
    "tips_click = df.query('event_name == \"tips_click\"')"
   ]
  },
  {
   "cell_type": "code",
   "execution_count": 42,
   "metadata": {},
   "outputs": [],
   "source": [
    "df_a = df[(df.user_id.isin(tips_show.user_id.unique())) & \n",
    "             (df.user_id.isin(tips_click.user_id.unique()))]"
   ]
  },
  {
   "cell_type": "code",
   "execution_count": 43,
   "metadata": {},
   "outputs": [],
   "source": [
    "df_b = df[(df.user_id.isin(tips_show.user_id.unique())) & \n",
    "             ~(df.user_id.isin(tips_click.user_id.unique()))]"
   ]
  },
  {
   "cell_type": "code",
   "execution_count": 44,
   "metadata": {},
   "outputs": [
    {
     "data": {
      "text/html": [
       "<div>\n",
       "<style scoped>\n",
       "    .dataframe tbody tr th:only-of-type {\n",
       "        vertical-align: middle;\n",
       "    }\n",
       "\n",
       "    .dataframe tbody tr th {\n",
       "        vertical-align: top;\n",
       "    }\n",
       "\n",
       "    .dataframe thead th {\n",
       "        text-align: right;\n",
       "    }\n",
       "</style>\n",
       "<table border=\"1\" class=\"dataframe\">\n",
       "  <thead>\n",
       "    <tr style=\"text-align: right;\">\n",
       "      <th></th>\n",
       "      <th>event_name</th>\n",
       "      <th>user_id</th>\n",
       "    </tr>\n",
       "  </thead>\n",
       "  <tbody>\n",
       "    <tr>\n",
       "      <td>0</td>\n",
       "      <td>tips_click</td>\n",
       "      <td>297</td>\n",
       "    </tr>\n",
       "    <tr>\n",
       "      <td>1</td>\n",
       "      <td>tips_show</td>\n",
       "      <td>297</td>\n",
       "    </tr>\n",
       "    <tr>\n",
       "      <td>2</td>\n",
       "      <td>map</td>\n",
       "      <td>140</td>\n",
       "    </tr>\n",
       "    <tr>\n",
       "      <td>3</td>\n",
       "      <td>contacts_show</td>\n",
       "      <td>91</td>\n",
       "    </tr>\n",
       "    <tr>\n",
       "      <td>4</td>\n",
       "      <td>search</td>\n",
       "      <td>74</td>\n",
       "    </tr>\n",
       "    <tr>\n",
       "      <td>5</td>\n",
       "      <td>advert_open</td>\n",
       "      <td>58</td>\n",
       "    </tr>\n",
       "    <tr>\n",
       "      <td>6</td>\n",
       "      <td>favorites_add</td>\n",
       "      <td>28</td>\n",
       "    </tr>\n",
       "    <tr>\n",
       "      <td>7</td>\n",
       "      <td>photos_show</td>\n",
       "      <td>4</td>\n",
       "    </tr>\n",
       "  </tbody>\n",
       "</table>\n",
       "</div>"
      ],
      "text/plain": [
       "      event_name  user_id\n",
       "0     tips_click      297\n",
       "1      tips_show      297\n",
       "2            map      140\n",
       "3  contacts_show       91\n",
       "4         search       74\n",
       "5    advert_open       58\n",
       "6  favorites_add       28\n",
       "7    photos_show        4"
      ]
     },
     "execution_count": 44,
     "metadata": {},
     "output_type": "execute_result"
    }
   ],
   "source": [
    "df_a.groupby('event_name').agg({'user_id': 'nunique'}).sort_values(\n",
    "    'user_id', ascending=False).reset_index()"
   ]
  },
  {
   "cell_type": "code",
   "execution_count": 45,
   "metadata": {},
   "outputs": [
    {
     "data": {
      "text/html": [
       "<div>\n",
       "<style scoped>\n",
       "    .dataframe tbody tr th:only-of-type {\n",
       "        vertical-align: middle;\n",
       "    }\n",
       "\n",
       "    .dataframe tbody tr th {\n",
       "        vertical-align: top;\n",
       "    }\n",
       "\n",
       "    .dataframe thead th {\n",
       "        text-align: right;\n",
       "    }\n",
       "</style>\n",
       "<table border=\"1\" class=\"dataframe\">\n",
       "  <thead>\n",
       "    <tr style=\"text-align: right;\">\n",
       "      <th></th>\n",
       "      <th>event_name</th>\n",
       "      <th>user_id</th>\n",
       "    </tr>\n",
       "  </thead>\n",
       "  <tbody>\n",
       "    <tr>\n",
       "      <td>0</td>\n",
       "      <td>tips_show</td>\n",
       "      <td>2504</td>\n",
       "    </tr>\n",
       "    <tr>\n",
       "      <td>1</td>\n",
       "      <td>map</td>\n",
       "      <td>1212</td>\n",
       "    </tr>\n",
       "    <tr>\n",
       "      <td>2</td>\n",
       "      <td>search</td>\n",
       "      <td>727</td>\n",
       "    </tr>\n",
       "    <tr>\n",
       "      <td>3</td>\n",
       "      <td>advert_open</td>\n",
       "      <td>532</td>\n",
       "    </tr>\n",
       "    <tr>\n",
       "      <td>4</td>\n",
       "      <td>contacts_show</td>\n",
       "      <td>425</td>\n",
       "    </tr>\n",
       "    <tr>\n",
       "      <td>5</td>\n",
       "      <td>favorites_add</td>\n",
       "      <td>80</td>\n",
       "    </tr>\n",
       "    <tr>\n",
       "      <td>6</td>\n",
       "      <td>photos_show</td>\n",
       "      <td>9</td>\n",
       "    </tr>\n",
       "    <tr>\n",
       "      <td>7</td>\n",
       "      <td>contacts_call</td>\n",
       "      <td>1</td>\n",
       "    </tr>\n",
       "  </tbody>\n",
       "</table>\n",
       "</div>"
      ],
      "text/plain": [
       "      event_name  user_id\n",
       "0      tips_show     2504\n",
       "1            map     1212\n",
       "2         search      727\n",
       "3    advert_open      532\n",
       "4  contacts_show      425\n",
       "5  favorites_add       80\n",
       "6    photos_show        9\n",
       "7  contacts_call        1"
      ]
     },
     "execution_count": 45,
     "metadata": {},
     "output_type": "execute_result"
    }
   ],
   "source": [
    "df_b.groupby('event_name').agg({'user_id': 'nunique'}).sort_values(\n",
    "    'user_id', ascending=False).reset_index()"
   ]
  },
  {
   "cell_type": "code",
   "execution_count": 46,
   "metadata": {},
   "outputs": [
    {
     "name": "stdout",
     "output_type": "stream",
     "text": [
      "Пропорция успехов в первой группе: 0.3063973063973064\n",
      "Пропорция успехов во второй группе: 0.16972843450479233\n",
      "Разница пропорций: 0.13666887189251406\n",
      "p-значение:  9.218316554537864e-09\n",
      "Отвергаем нулевую гипотезу: между долями есть значимая разница\n"
     ]
    }
   ],
   "source": [
    "hypothesis(91, 425, 297, 2504, 0.05)"
   ]
  },
  {
   "cell_type": "markdown",
   "metadata": {},
   "source": [
    "Разница между конверсиями 31% и 17% оказалась значимой. Мы отвергаем нулевую гипотезу о равенстве и принимаем альтернативную гипотезу о том, что конверии не равны. Конверсия в просмотры контактов у группы, которая совершала оба события (tips_show и tips_click) выше, чем конверсия у группы, которая совершала только tips_show."
   ]
  },
  {
   "cell_type": "markdown",
   "metadata": {},
   "source": [
    "1 группа - совершили действие photos_show; 2 группа - не совершали photos_show."
   ]
  },
  {
   "cell_type": "markdown",
   "metadata": {},
   "source": [
    "**Нулевая гипотеза H₀:**<br>\n",
    "Конверсия в просмотры контактов равна у этих двух групп\n",
    "\n",
    "**Альтернативная гипотеза H₁:**<br>\n",
    "Конверсия в просмотры контактов различается у этих двух групп"
   ]
  },
  {
   "cell_type": "code",
   "execution_count": 47,
   "metadata": {},
   "outputs": [],
   "source": [
    "photos_show = df.query('event_name == \"photos_show\"')"
   ]
  },
  {
   "cell_type": "code",
   "execution_count": 48,
   "metadata": {},
   "outputs": [],
   "source": [
    "data_a = df[df.user_id.isin(photos_show.user_id.unique())]"
   ]
  },
  {
   "cell_type": "code",
   "execution_count": 49,
   "metadata": {},
   "outputs": [],
   "source": [
    "data_b = df[~df.user_id.isin(photos_show.user_id.unique())]"
   ]
  },
  {
   "cell_type": "code",
   "execution_count": 50,
   "metadata": {},
   "outputs": [
    {
     "data": {
      "text/html": [
       "<div>\n",
       "<style scoped>\n",
       "    .dataframe tbody tr th:only-of-type {\n",
       "        vertical-align: middle;\n",
       "    }\n",
       "\n",
       "    .dataframe tbody tr th {\n",
       "        vertical-align: top;\n",
       "    }\n",
       "\n",
       "    .dataframe thead th {\n",
       "        text-align: right;\n",
       "    }\n",
       "</style>\n",
       "<table border=\"1\" class=\"dataframe\">\n",
       "  <thead>\n",
       "    <tr style=\"text-align: right;\">\n",
       "      <th></th>\n",
       "      <th>event_name</th>\n",
       "      <th>user_id</th>\n",
       "    </tr>\n",
       "  </thead>\n",
       "  <tbody>\n",
       "    <tr>\n",
       "      <td>0</td>\n",
       "      <td>photos_show</td>\n",
       "      <td>1095</td>\n",
       "    </tr>\n",
       "    <tr>\n",
       "      <td>1</td>\n",
       "      <td>search</td>\n",
       "      <td>647</td>\n",
       "    </tr>\n",
       "    <tr>\n",
       "      <td>2</td>\n",
       "      <td>contacts_show</td>\n",
       "      <td>339</td>\n",
       "    </tr>\n",
       "    <tr>\n",
       "      <td>3</td>\n",
       "      <td>favorites_add</td>\n",
       "      <td>202</td>\n",
       "    </tr>\n",
       "    <tr>\n",
       "      <td>4</td>\n",
       "      <td>contacts_call</td>\n",
       "      <td>157</td>\n",
       "    </tr>\n",
       "    <tr>\n",
       "      <td>5</td>\n",
       "      <td>advert_open</td>\n",
       "      <td>73</td>\n",
       "    </tr>\n",
       "    <tr>\n",
       "      <td>6</td>\n",
       "      <td>tips_show</td>\n",
       "      <td>13</td>\n",
       "    </tr>\n",
       "    <tr>\n",
       "      <td>7</td>\n",
       "      <td>map</td>\n",
       "      <td>5</td>\n",
       "    </tr>\n",
       "    <tr>\n",
       "      <td>8</td>\n",
       "      <td>tips_click</td>\n",
       "      <td>4</td>\n",
       "    </tr>\n",
       "  </tbody>\n",
       "</table>\n",
       "</div>"
      ],
      "text/plain": [
       "      event_name  user_id\n",
       "0    photos_show     1095\n",
       "1         search      647\n",
       "2  contacts_show      339\n",
       "3  favorites_add      202\n",
       "4  contacts_call      157\n",
       "5    advert_open       73\n",
       "6      tips_show       13\n",
       "7            map        5\n",
       "8     tips_click        4"
      ]
     },
     "execution_count": 50,
     "metadata": {},
     "output_type": "execute_result"
    }
   ],
   "source": [
    "data_a.groupby('event_name').agg({'user_id': 'nunique'}).sort_values(\n",
    "    'user_id', ascending=False).reset_index()"
   ]
  },
  {
   "cell_type": "code",
   "execution_count": 51,
   "metadata": {},
   "outputs": [
    {
     "data": {
      "text/plain": [
       "1095"
      ]
     },
     "execution_count": 51,
     "metadata": {},
     "output_type": "execute_result"
    }
   ],
   "source": [
    "len(data_a['user_id'].unique())"
   ]
  },
  {
   "cell_type": "code",
   "execution_count": 52,
   "metadata": {},
   "outputs": [
    {
     "data": {
      "text/html": [
       "<div>\n",
       "<style scoped>\n",
       "    .dataframe tbody tr th:only-of-type {\n",
       "        vertical-align: middle;\n",
       "    }\n",
       "\n",
       "    .dataframe tbody tr th {\n",
       "        vertical-align: top;\n",
       "    }\n",
       "\n",
       "    .dataframe thead th {\n",
       "        text-align: right;\n",
       "    }\n",
       "</style>\n",
       "<table border=\"1\" class=\"dataframe\">\n",
       "  <thead>\n",
       "    <tr style=\"text-align: right;\">\n",
       "      <th></th>\n",
       "      <th>event_name</th>\n",
       "      <th>user_id</th>\n",
       "    </tr>\n",
       "  </thead>\n",
       "  <tbody>\n",
       "    <tr>\n",
       "      <td>0</td>\n",
       "      <td>tips_show</td>\n",
       "      <td>2788</td>\n",
       "    </tr>\n",
       "    <tr>\n",
       "      <td>1</td>\n",
       "      <td>map</td>\n",
       "      <td>1451</td>\n",
       "    </tr>\n",
       "    <tr>\n",
       "      <td>2</td>\n",
       "      <td>search</td>\n",
       "      <td>1019</td>\n",
       "    </tr>\n",
       "    <tr>\n",
       "      <td>3</td>\n",
       "      <td>advert_open</td>\n",
       "      <td>678</td>\n",
       "    </tr>\n",
       "    <tr>\n",
       "      <td>4</td>\n",
       "      <td>contacts_show</td>\n",
       "      <td>642</td>\n",
       "    </tr>\n",
       "    <tr>\n",
       "      <td>5</td>\n",
       "      <td>tips_click</td>\n",
       "      <td>318</td>\n",
       "    </tr>\n",
       "    <tr>\n",
       "      <td>6</td>\n",
       "      <td>favorites_add</td>\n",
       "      <td>149</td>\n",
       "    </tr>\n",
       "    <tr>\n",
       "      <td>7</td>\n",
       "      <td>contacts_call</td>\n",
       "      <td>56</td>\n",
       "    </tr>\n",
       "  </tbody>\n",
       "</table>\n",
       "</div>"
      ],
      "text/plain": [
       "      event_name  user_id\n",
       "0      tips_show     2788\n",
       "1            map     1451\n",
       "2         search     1019\n",
       "3    advert_open      678\n",
       "4  contacts_show      642\n",
       "5     tips_click      318\n",
       "6  favorites_add      149\n",
       "7  contacts_call       56"
      ]
     },
     "execution_count": 52,
     "metadata": {},
     "output_type": "execute_result"
    }
   ],
   "source": [
    "data_b.groupby('event_name').agg({'user_id': 'nunique'}).sort_values(\n",
    "    'user_id', ascending=False).reset_index()"
   ]
  },
  {
   "cell_type": "code",
   "execution_count": 53,
   "metadata": {},
   "outputs": [
    {
     "data": {
      "text/plain": [
       "3198"
      ]
     },
     "execution_count": 53,
     "metadata": {},
     "output_type": "execute_result"
    }
   ],
   "source": [
    "len(data_b['user_id'].unique())"
   ]
  },
  {
   "cell_type": "code",
   "execution_count": 54,
   "metadata": {},
   "outputs": [
    {
     "name": "stdout",
     "output_type": "stream",
     "text": [
      "Пропорция успехов в первой группе: 0.3095890410958904\n",
      "Пропорция успехов во второй группе: 0.20075046904315197\n",
      "Разница пропорций: 0.10883857205273845\n",
      "p-значение:  1.3278267374516872e-13\n",
      "Отвергаем нулевую гипотезу: между долями есть значимая разница\n"
     ]
    }
   ],
   "source": [
    "hypothesis(339, 642, 1095, 3198, 0.05)"
   ]
  },
  {
   "cell_type": "markdown",
   "metadata": {},
   "source": [
    "Разница между конверсиями 31% и 20% оказалась значимой. Мы отвергаем нулевую гипотезу о равенстве и принимаем альтернативную гипотезу о том, что конверии не равны. Конверсия в просмотры контактов у группы, которая совершала событие photos_show выше, чем конверсия у группы, которая не совершала его."
   ]
  },
  {
   "cell_type": "markdown",
   "metadata": {},
   "source": [
    "## Общий вывод"
   ]
  },
  {
   "cell_type": "markdown",
   "metadata": {},
   "source": [
    "**Наблюдения:**\n",
    "\n",
    "- За 4 недели (с 7 октября по 3 ноября 2019 года) приложением воспользовались **4 293 пользователя**, которые совершили **74 197 действий**.\n",
    "- 45% пользователей установили приложение с Yandex, 29% с других источников и 26% с Google\n",
    "- Самое частое действие (54% от всех действий) - увидел рекомендованные объявления (tips_show), 13,5% - просмотрел фотографий в объявлении (photos_show), 9% - поиски по приложению search. Самые редкие действия (менее 2%) - favorites_add, tips_click и contacts_call (добавил объявление в избранное, кликнул по рекомендованному объявлению и позвонил по номеру из объявления). \n",
    "- 65% пользователей совершили самое частое событие tips_show, а целевое событие contacts_show (посмотрел номер телефона) совершило 23% пользователей\n",
    "- Пользователи, которые хоть раз посмотрели номер телефона (совершили целевое действие) чаще совершали действие photos_show (просмотрел фотографии в объявлении), чем пользователи, которые целевое действие не совершали. \n",
    "- Пользователи, смотревшие контакты совершали **чаще** совершали действия \n",
    " photos_show (посмотрел фотографии) и tips_click (кликнул по рекомендованному объявлению), чем пользователи, не смотревшие контакты\n",
    "- Остальные действия пользователи, совершившие целевое действие совершали **реже**, в особенности advert_open (открыл карточки объявления)\n",
    "- Конверсия в просмотры контактов у группы, которая совершала оба события (tips_show и tips_click) выше, чем конверсия у группы, которая совершала только tips_show. Разница между конверсиями 31% и 17% оказалась статистически значимой.\n",
    "- Конверсия в просмотры контактов у группы, которая совершала событие photos_show выше, чем конверсия у группы, которая не совершала его. Разница между конверсиями 31% и 20% оказалась статистически значимой.\n",
    "- Линейной связи между признаками (действиями) нет, те нельзя сказать, что увеличение какого-то из признаков приводит к увеличению/уменьшению целевого признака (действия).\n",
    "\n",
    "**Выводы и рекомендации:**\n",
    "\n",
    "- На целевое действие оказывают видимое влияние только два действия - photos_show (посмотрел фотографии)  и tips_click (кликнул по рекомендованному объявлению)\n",
    "- Для увеличения конверсии в просмотр контактов следует в каждое объявление добавлять фотографии хорошего качества, а также сделать рекомендованные объявления ещё более заметными для пользователя."
   ]
  }
 ],
 "metadata": {
  "ExecuteTimeLog": [
   {
    "duration": 1960,
    "start_time": "2021-10-07T20:14:27.295Z"
   },
   {
    "duration": 303,
    "start_time": "2021-10-07T20:14:40.909Z"
   },
   {
    "duration": 18,
    "start_time": "2021-10-07T20:14:51.041Z"
   },
   {
    "duration": 103,
    "start_time": "2021-10-07T20:15:03.613Z"
   },
   {
    "duration": 16,
    "start_time": "2021-10-07T20:15:31.585Z"
   },
   {
    "duration": 35,
    "start_time": "2021-10-07T20:15:44.465Z"
   },
   {
    "duration": 20,
    "start_time": "2021-10-07T20:15:53.948Z"
   },
   {
    "duration": 19,
    "start_time": "2021-10-07T20:16:03.153Z"
   },
   {
    "duration": 31,
    "start_time": "2021-10-07T20:16:24.587Z"
   },
   {
    "duration": 11,
    "start_time": "2021-10-07T20:16:35.448Z"
   },
   {
    "duration": 8,
    "start_time": "2021-10-07T20:16:45.229Z"
   },
   {
    "duration": 5,
    "start_time": "2021-10-07T20:16:54.461Z"
   },
   {
    "duration": 27,
    "start_time": "2021-10-07T20:17:18.473Z"
   },
   {
    "duration": 16,
    "start_time": "2021-10-07T20:17:27.922Z"
   },
   {
    "duration": 25,
    "start_time": "2021-10-07T20:17:36.952Z"
   },
   {
    "duration": 16,
    "start_time": "2021-10-07T20:17:46.940Z"
   },
   {
    "duration": 58,
    "start_time": "2021-10-07T20:17:59.763Z"
   },
   {
    "duration": 16,
    "start_time": "2021-10-07T20:18:08.169Z"
   },
   {
    "duration": 60,
    "start_time": "2021-10-07T20:18:18.570Z"
   },
   {
    "duration": 4,
    "start_time": "2021-10-07T20:18:43.496Z"
   },
   {
    "duration": 15,
    "start_time": "2021-10-07T20:18:55.042Z"
   },
   {
    "duration": 5,
    "start_time": "2021-10-07T20:19:06.631Z"
   },
   {
    "duration": 7,
    "start_time": "2021-10-07T20:19:15.808Z"
   },
   {
    "duration": 757,
    "start_time": "2021-10-07T20:19:25.227Z"
   },
   {
    "duration": 24,
    "start_time": "2021-10-07T20:19:59.361Z"
   },
   {
    "duration": 462,
    "start_time": "2021-10-07T20:20:10.113Z"
   },
   {
    "duration": 81,
    "start_time": "2021-10-07T20:20:40.603Z"
   },
   {
    "duration": 434,
    "start_time": "2021-10-07T20:21:08.017Z"
   },
   {
    "duration": 78,
    "start_time": "2021-10-07T20:22:07.860Z"
   },
   {
    "duration": 61,
    "start_time": "2021-10-07T20:22:21.454Z"
   },
   {
    "duration": 298,
    "start_time": "2021-10-07T20:22:32.166Z"
   },
   {
    "duration": 15,
    "start_time": "2021-10-07T20:22:47.571Z"
   },
   {
    "duration": 26,
    "start_time": "2021-10-07T20:23:20.666Z"
   },
   {
    "duration": 77,
    "start_time": "2021-10-07T20:23:31.752Z"
   },
   {
    "duration": 37,
    "start_time": "2021-10-07T20:23:42.876Z"
   },
   {
    "duration": 49,
    "start_time": "2021-10-07T20:23:57.900Z"
   },
   {
    "duration": 59,
    "start_time": "2021-10-07T20:24:13.241Z"
   },
   {
    "duration": 6,
    "start_time": "2021-10-07T20:24:44.512Z"
   },
   {
    "duration": 29,
    "start_time": "2021-10-07T20:25:01.649Z"
   },
   {
    "duration": 5,
    "start_time": "2021-10-07T20:25:12.921Z"
   },
   {
    "duration": 1236,
    "start_time": "2021-10-07T20:25:20.551Z"
   },
   {
    "duration": 6,
    "start_time": "2021-10-07T20:48:00.774Z"
   },
   {
    "duration": 14,
    "start_time": "2021-10-07T20:48:09.877Z"
   },
   {
    "duration": 92,
    "start_time": "2021-10-07T20:50:18.685Z"
   },
   {
    "duration": 105,
    "start_time": "2021-10-07T20:50:24.149Z"
   },
   {
    "duration": 11,
    "start_time": "2021-10-07T20:50:50.877Z"
   },
   {
    "duration": 23,
    "start_time": "2021-10-07T20:51:06.207Z"
   },
   {
    "duration": 15,
    "start_time": "2021-10-07T20:51:17.077Z"
   },
   {
    "duration": 26,
    "start_time": "2021-10-07T20:51:32.513Z"
   },
   {
    "duration": 5,
    "start_time": "2021-10-07T20:51:50.583Z"
   },
   {
    "duration": 277,
    "start_time": "2021-10-07T20:51:51.411Z"
   },
   {
    "duration": 18,
    "start_time": "2021-10-07T20:51:51.989Z"
   },
   {
    "duration": 51,
    "start_time": "2021-10-07T20:51:52.614Z"
   },
   {
    "duration": 10,
    "start_time": "2021-10-07T20:51:53.795Z"
   },
   {
    "duration": 36,
    "start_time": "2021-10-07T20:51:54.427Z"
   },
   {
    "duration": 13,
    "start_time": "2021-10-07T20:51:55.022Z"
   },
   {
    "duration": 17,
    "start_time": "2021-10-07T20:51:55.660Z"
   },
   {
    "duration": 32,
    "start_time": "2021-10-07T20:51:56.932Z"
   },
   {
    "duration": 11,
    "start_time": "2021-10-07T20:51:57.469Z"
   },
   {
    "duration": 8,
    "start_time": "2021-10-07T20:51:57.877Z"
   },
   {
    "duration": 6,
    "start_time": "2021-10-07T20:51:58.119Z"
   },
   {
    "duration": 25,
    "start_time": "2021-10-07T20:51:58.683Z"
   },
   {
    "duration": 14,
    "start_time": "2021-10-07T20:51:58.994Z"
   },
   {
    "duration": 23,
    "start_time": "2021-10-07T20:51:59.344Z"
   },
   {
    "duration": 14,
    "start_time": "2021-10-07T20:51:59.650Z"
   },
   {
    "duration": 55,
    "start_time": "2021-10-07T20:51:59.959Z"
   },
   {
    "duration": 16,
    "start_time": "2021-10-07T20:52:00.271Z"
   },
   {
    "duration": 62,
    "start_time": "2021-10-07T20:52:00.649Z"
   },
   {
    "duration": 5,
    "start_time": "2021-10-07T20:52:01.799Z"
   },
   {
    "duration": 13,
    "start_time": "2021-10-07T20:52:02.346Z"
   },
   {
    "duration": 5,
    "start_time": "2021-10-07T20:52:02.730Z"
   },
   {
    "duration": 8,
    "start_time": "2021-10-07T20:52:03.113Z"
   },
   {
    "duration": 744,
    "start_time": "2021-10-07T20:52:03.482Z"
   },
   {
    "duration": 34,
    "start_time": "2021-10-07T20:52:04.229Z"
   },
   {
    "duration": 468,
    "start_time": "2021-10-07T20:52:04.560Z"
   },
   {
    "duration": 74,
    "start_time": "2021-10-07T20:52:05.252Z"
   },
   {
    "duration": 454,
    "start_time": "2021-10-07T20:52:06.013Z"
   },
   {
    "duration": 75,
    "start_time": "2021-10-07T20:52:06.493Z"
   },
   {
    "duration": 64,
    "start_time": "2021-10-07T20:52:06.954Z"
   },
   {
    "duration": 286,
    "start_time": "2021-10-07T20:52:07.429Z"
   },
   {
    "duration": 14,
    "start_time": "2021-10-07T20:52:07.801Z"
   },
   {
    "duration": 32,
    "start_time": "2021-10-07T20:52:08.316Z"
   },
   {
    "duration": 76,
    "start_time": "2021-10-07T20:52:08.552Z"
   },
   {
    "duration": 6,
    "start_time": "2021-10-07T20:52:08.819Z"
   },
   {
    "duration": 10,
    "start_time": "2021-10-07T20:52:09.105Z"
   },
   {
    "duration": 15,
    "start_time": "2021-10-07T20:52:09.396Z"
   },
   {
    "duration": 35,
    "start_time": "2021-10-07T20:52:09.717Z"
   },
   {
    "duration": 60,
    "start_time": "2021-10-07T20:52:10.050Z"
   },
   {
    "duration": 5,
    "start_time": "2021-10-07T20:52:10.463Z"
   },
   {
    "duration": 32,
    "start_time": "2021-10-07T20:52:10.745Z"
   },
   {
    "duration": 6,
    "start_time": "2021-10-07T20:52:10.998Z"
   },
   {
    "duration": 1388,
    "start_time": "2021-10-08T12:02:44.802Z"
   },
   {
    "duration": 257,
    "start_time": "2021-10-08T12:02:54.329Z"
   },
   {
    "duration": 22,
    "start_time": "2021-10-08T12:02:56.630Z"
   },
   {
    "duration": 114,
    "start_time": "2021-10-08T12:02:57.538Z"
   },
   {
    "duration": 11,
    "start_time": "2021-10-08T12:02:58.673Z"
   },
   {
    "duration": 41,
    "start_time": "2021-10-08T12:02:58.982Z"
   },
   {
    "duration": 16,
    "start_time": "2021-10-08T12:02:59.249Z"
   },
   {
    "duration": 21,
    "start_time": "2021-10-08T12:02:59.499Z"
   },
   {
    "duration": 28,
    "start_time": "2021-10-08T12:03:00.264Z"
   },
   {
    "duration": 9,
    "start_time": "2021-10-08T12:03:00.829Z"
   },
   {
    "duration": 8,
    "start_time": "2021-10-08T12:03:01.285Z"
   },
   {
    "duration": 4,
    "start_time": "2021-10-08T12:03:01.685Z"
   },
   {
    "duration": 26,
    "start_time": "2021-10-08T12:03:02.279Z"
   },
   {
    "duration": 13,
    "start_time": "2021-10-08T12:03:02.859Z"
   },
   {
    "duration": 17,
    "start_time": "2021-10-08T12:03:03.368Z"
   },
   {
    "duration": 11,
    "start_time": "2021-10-08T12:03:03.812Z"
   },
   {
    "duration": 44,
    "start_time": "2021-10-08T12:03:04.223Z"
   },
   {
    "duration": 12,
    "start_time": "2021-10-08T12:03:04.505Z"
   },
   {
    "duration": 37,
    "start_time": "2021-10-08T12:03:04.757Z"
   },
   {
    "duration": 3,
    "start_time": "2021-10-08T12:03:05.856Z"
   },
   {
    "duration": 8,
    "start_time": "2021-10-08T12:03:06.349Z"
   },
   {
    "duration": 4,
    "start_time": "2021-10-08T12:03:06.802Z"
   },
   {
    "duration": 5,
    "start_time": "2021-10-08T12:03:07.297Z"
   },
   {
    "duration": 451,
    "start_time": "2021-10-08T12:03:07.741Z"
   },
   {
    "duration": 16,
    "start_time": "2021-10-08T12:03:08.687Z"
   },
   {
    "duration": 282,
    "start_time": "2021-10-08T12:03:36.702Z"
   },
   {
    "duration": 83,
    "start_time": "2021-10-08T12:03:38.985Z"
   },
   {
    "duration": 394,
    "start_time": "2021-10-08T12:03:40.570Z"
   },
   {
    "duration": 55,
    "start_time": "2021-10-08T12:03:41.774Z"
   },
   {
    "duration": 43,
    "start_time": "2021-10-08T12:03:42.590Z"
   },
   {
    "duration": 186,
    "start_time": "2021-10-08T12:03:43.464Z"
   },
   {
    "duration": 16,
    "start_time": "2021-10-08T12:03:44.446Z"
   },
   {
    "duration": 29,
    "start_time": "2021-10-08T12:03:46.656Z"
   },
   {
    "duration": 66,
    "start_time": "2021-10-08T12:03:48.846Z"
   },
   {
    "duration": 5,
    "start_time": "2021-10-08T12:03:49.482Z"
   },
   {
    "duration": 11,
    "start_time": "2021-10-08T12:03:50.068Z"
   },
   {
    "duration": 12,
    "start_time": "2021-10-08T12:03:50.815Z"
   },
   {
    "duration": 5,
    "start_time": "2021-10-08T12:09:06.023Z"
   },
   {
    "duration": 11,
    "start_time": "2021-10-08T12:09:41.246Z"
   },
   {
    "duration": 17,
    "start_time": "2021-10-08T12:09:41.833Z"
   },
   {
    "duration": 323,
    "start_time": "2021-10-08T12:09:47.461Z"
   },
   {
    "duration": 10,
    "start_time": "2021-10-08T12:09:54.510Z"
   },
   {
    "duration": 233,
    "start_time": "2021-10-08T12:09:55.821Z"
   },
   {
    "duration": 11,
    "start_time": "2021-10-08T12:10:07.876Z"
   },
   {
    "duration": 25,
    "start_time": "2021-10-08T12:10:31.675Z"
   },
   {
    "duration": 920,
    "start_time": "2021-10-08T12:18:12.141Z"
   },
   {
    "duration": 28,
    "start_time": "2021-10-08T12:19:42.324Z"
   },
   {
    "duration": 7,
    "start_time": "2021-10-08T12:19:46.515Z"
   },
   {
    "duration": 36,
    "start_time": "2021-10-08T12:23:11.882Z"
   },
   {
    "duration": 17,
    "start_time": "2021-10-08T12:28:17.084Z"
   },
   {
    "duration": 12,
    "start_time": "2021-10-08T12:29:25.650Z"
   },
   {
    "duration": 219,
    "start_time": "2021-10-08T12:36:37.394Z"
   },
   {
    "duration": 213,
    "start_time": "2021-10-08T12:36:42.032Z"
   },
   {
    "duration": 225,
    "start_time": "2021-10-08T12:36:46.895Z"
   },
   {
    "duration": 15,
    "start_time": "2021-10-08T12:36:59.455Z"
   },
   {
    "duration": 23,
    "start_time": "2021-10-08T12:36:59.791Z"
   },
   {
    "duration": 4,
    "start_time": "2021-10-08T12:37:00.416Z"
   },
   {
    "duration": 8,
    "start_time": "2021-10-08T12:37:00.693Z"
   },
   {
    "duration": 11,
    "start_time": "2021-10-08T12:37:01.221Z"
   },
   {
    "duration": 13,
    "start_time": "2021-10-08T12:37:02.000Z"
   },
   {
    "duration": 41,
    "start_time": "2021-10-08T12:37:02.609Z"
   },
   {
    "duration": 120,
    "start_time": "2021-10-08T12:37:03.611Z"
   },
   {
    "duration": 4,
    "start_time": "2021-10-08T12:37:04.215Z"
   },
   {
    "duration": 20,
    "start_time": "2021-10-08T12:37:05.074Z"
   },
   {
    "duration": 5,
    "start_time": "2021-10-08T12:37:05.879Z"
   },
   {
    "duration": 739,
    "start_time": "2021-10-08T12:37:06.979Z"
   },
   {
    "duration": 746,
    "start_time": "2021-10-08T12:38:06.230Z"
   },
   {
    "duration": 774,
    "start_time": "2021-10-08T12:38:16.234Z"
   },
   {
    "duration": 7,
    "start_time": "2021-10-08T12:52:15.932Z"
   },
   {
    "duration": 8,
    "start_time": "2021-10-08T12:52:20.769Z"
   },
   {
    "duration": 16,
    "start_time": "2021-10-08T12:56:26.339Z"
   },
   {
    "duration": 7,
    "start_time": "2021-10-08T12:59:00.390Z"
   },
   {
    "duration": 16,
    "start_time": "2021-10-08T12:59:01.469Z"
   },
   {
    "duration": 9,
    "start_time": "2021-10-08T13:04:40.816Z"
   },
   {
    "duration": 8,
    "start_time": "2021-10-08T13:04:50.344Z"
   },
   {
    "duration": 12,
    "start_time": "2021-10-08T13:05:01.560Z"
   },
   {
    "duration": 20,
    "start_time": "2021-10-08T13:05:37.814Z"
   },
   {
    "duration": 1510,
    "start_time": "2021-10-08T20:07:31.096Z"
   },
   {
    "duration": 242,
    "start_time": "2021-10-08T20:07:33.592Z"
   },
   {
    "duration": 13,
    "start_time": "2021-10-08T20:07:34.181Z"
   },
   {
    "duration": 100,
    "start_time": "2021-10-08T20:07:35.009Z"
   },
   {
    "duration": 9,
    "start_time": "2021-10-08T20:07:35.956Z"
   },
   {
    "duration": 25,
    "start_time": "2021-10-08T20:07:36.511Z"
   },
   {
    "duration": 11,
    "start_time": "2021-10-08T20:07:36.976Z"
   },
   {
    "duration": 14,
    "start_time": "2021-10-08T20:07:37.499Z"
   },
   {
    "duration": 19,
    "start_time": "2021-10-08T20:07:38.289Z"
   },
   {
    "duration": 7,
    "start_time": "2021-10-08T20:07:38.590Z"
   },
   {
    "duration": 6,
    "start_time": "2021-10-08T20:07:39.026Z"
   },
   {
    "duration": 4,
    "start_time": "2021-10-08T20:07:39.464Z"
   },
   {
    "duration": 18,
    "start_time": "2021-10-08T20:07:40.237Z"
   },
   {
    "duration": 10,
    "start_time": "2021-10-08T20:07:40.637Z"
   },
   {
    "duration": 18,
    "start_time": "2021-10-08T20:07:41.037Z"
   },
   {
    "duration": 11,
    "start_time": "2021-10-08T20:07:41.424Z"
   },
   {
    "duration": 35,
    "start_time": "2021-10-08T20:07:41.882Z"
   },
   {
    "duration": 12,
    "start_time": "2021-10-08T20:07:42.374Z"
   },
   {
    "duration": 35,
    "start_time": "2021-10-08T20:07:42.793Z"
   },
   {
    "duration": 4,
    "start_time": "2021-10-08T20:07:44.161Z"
   },
   {
    "duration": 8,
    "start_time": "2021-10-08T20:07:44.700Z"
   },
   {
    "duration": 3,
    "start_time": "2021-10-08T20:07:45.187Z"
   },
   {
    "duration": 6,
    "start_time": "2021-10-08T20:07:45.584Z"
   },
   {
    "duration": 446,
    "start_time": "2021-10-08T20:07:46.091Z"
   },
   {
    "duration": 15,
    "start_time": "2021-10-08T20:07:47.750Z"
   },
   {
    "duration": 269,
    "start_time": "2021-10-08T20:07:48.304Z"
   },
   {
    "duration": 51,
    "start_time": "2021-10-08T20:07:49.362Z"
   },
   {
    "duration": 266,
    "start_time": "2021-10-08T20:07:50.302Z"
   },
   {
    "duration": 50,
    "start_time": "2021-10-08T20:07:50.704Z"
   },
   {
    "duration": 41,
    "start_time": "2021-10-08T20:07:51.236Z"
   },
   {
    "duration": 171,
    "start_time": "2021-10-08T20:07:51.643Z"
   },
   {
    "duration": 10,
    "start_time": "2021-10-08T20:07:52.062Z"
   },
   {
    "duration": 7,
    "start_time": "2021-10-08T20:07:53.775Z"
   },
   {
    "duration": 17,
    "start_time": "2021-10-08T20:07:55.869Z"
   },
   {
    "duration": 257,
    "start_time": "2021-10-08T20:16:44.984Z"
   },
   {
    "duration": 521,
    "start_time": "2021-10-08T20:16:58.918Z"
   },
   {
    "duration": 14,
    "start_time": "2021-10-08T20:18:20.837Z"
   },
   {
    "duration": 19,
    "start_time": "2021-10-08T20:18:30.745Z"
   },
   {
    "duration": 8,
    "start_time": "2021-10-08T20:18:48.566Z"
   },
   {
    "duration": 14,
    "start_time": "2021-10-08T20:18:53.787Z"
   },
   {
    "duration": 3,
    "start_time": "2021-10-08T20:19:04.159Z"
   },
   {
    "duration": 19,
    "start_time": "2021-10-08T20:24:53.506Z"
   },
   {
    "duration": 4,
    "start_time": "2021-10-08T20:25:02.777Z"
   },
   {
    "duration": 4,
    "start_time": "2021-10-08T20:25:14.877Z"
   },
   {
    "duration": 9,
    "start_time": "2021-10-08T20:27:14.963Z"
   },
   {
    "duration": 15,
    "start_time": "2021-10-08T20:28:23.778Z"
   },
   {
    "duration": 7,
    "start_time": "2021-10-08T21:04:16.171Z"
   },
   {
    "duration": 4,
    "start_time": "2021-10-08T21:04:36.361Z"
   },
   {
    "duration": 8,
    "start_time": "2021-10-08T21:07:23.112Z"
   },
   {
    "duration": 4,
    "start_time": "2021-10-08T21:07:24.503Z"
   },
   {
    "duration": 8,
    "start_time": "2021-10-08T21:08:01.979Z"
   },
   {
    "duration": 9,
    "start_time": "2021-10-08T21:08:21.351Z"
   },
   {
    "duration": 4,
    "start_time": "2021-10-08T21:08:21.837Z"
   },
   {
    "duration": 7,
    "start_time": "2021-10-08T21:09:47.060Z"
   },
   {
    "duration": 4,
    "start_time": "2021-10-08T21:09:47.741Z"
   },
   {
    "duration": 9,
    "start_time": "2021-10-08T21:11:08.263Z"
   },
   {
    "duration": 3,
    "start_time": "2021-10-08T21:11:08.779Z"
   },
   {
    "duration": 16,
    "start_time": "2021-10-08T21:11:21.577Z"
   },
   {
    "duration": 6,
    "start_time": "2021-10-08T21:15:31.777Z"
   },
   {
    "duration": 8,
    "start_time": "2021-10-08T21:22:23.749Z"
   },
   {
    "duration": 14,
    "start_time": "2021-10-08T21:22:24.461Z"
   },
   {
    "duration": 9,
    "start_time": "2021-10-08T21:24:46.961Z"
   },
   {
    "duration": 14,
    "start_time": "2021-10-08T21:24:48.112Z"
   },
   {
    "duration": 42,
    "start_time": "2021-10-08T21:33:58.628Z"
   },
   {
    "duration": 21,
    "start_time": "2021-10-08T21:39:21.826Z"
   },
   {
    "duration": 4,
    "start_time": "2021-10-08T21:39:22.945Z"
   },
   {
    "duration": 849,
    "start_time": "2021-10-08T21:39:25.157Z"
   },
   {
    "duration": 12,
    "start_time": "2021-10-08T21:56:52.422Z"
   },
   {
    "duration": 4,
    "start_time": "2021-10-08T21:57:01.284Z"
   },
   {
    "duration": 265,
    "start_time": "2021-10-08T21:58:26.941Z"
   },
   {
    "duration": 44,
    "start_time": "2021-10-08T22:15:12.203Z"
   },
   {
    "duration": 179,
    "start_time": "2021-10-08T22:15:44.380Z"
   },
   {
    "duration": 9,
    "start_time": "2021-10-08T22:16:23.799Z"
   },
   {
    "duration": 1986,
    "start_time": "2021-10-09T08:02:55.661Z"
   },
   {
    "duration": 390,
    "start_time": "2021-10-09T08:02:58.500Z"
   },
   {
    "duration": 34,
    "start_time": "2021-10-09T08:02:59.711Z"
   },
   {
    "duration": 101,
    "start_time": "2021-10-09T08:03:00.779Z"
   },
   {
    "duration": 15,
    "start_time": "2021-10-09T08:03:02.074Z"
   },
   {
    "duration": 38,
    "start_time": "2021-10-09T08:03:02.559Z"
   },
   {
    "duration": 18,
    "start_time": "2021-10-09T08:03:03.041Z"
   },
   {
    "duration": 19,
    "start_time": "2021-10-09T08:03:03.524Z"
   },
   {
    "duration": 39,
    "start_time": "2021-10-09T08:03:04.475Z"
   },
   {
    "duration": 11,
    "start_time": "2021-10-09T08:03:04.987Z"
   },
   {
    "duration": 8,
    "start_time": "2021-10-09T08:03:05.516Z"
   },
   {
    "duration": 5,
    "start_time": "2021-10-09T08:03:05.970Z"
   },
   {
    "duration": 26,
    "start_time": "2021-10-09T08:03:06.797Z"
   },
   {
    "duration": 20,
    "start_time": "2021-10-09T08:03:07.239Z"
   },
   {
    "duration": 23,
    "start_time": "2021-10-09T08:03:07.705Z"
   },
   {
    "duration": 15,
    "start_time": "2021-10-09T08:03:08.217Z"
   },
   {
    "duration": 56,
    "start_time": "2021-10-09T08:03:08.721Z"
   },
   {
    "duration": 15,
    "start_time": "2021-10-09T08:03:09.107Z"
   },
   {
    "duration": 59,
    "start_time": "2021-10-09T08:03:09.555Z"
   },
   {
    "duration": 5,
    "start_time": "2021-10-09T08:03:12.302Z"
   },
   {
    "duration": 12,
    "start_time": "2021-10-09T08:03:12.813Z"
   },
   {
    "duration": 6,
    "start_time": "2021-10-09T08:03:13.361Z"
   },
   {
    "duration": 8,
    "start_time": "2021-10-09T08:03:13.921Z"
   },
   {
    "duration": 826,
    "start_time": "2021-10-09T08:03:14.442Z"
   },
   {
    "duration": 67,
    "start_time": "2021-10-09T08:03:15.635Z"
   },
   {
    "duration": 336,
    "start_time": "2021-10-09T08:03:17.529Z"
   },
   {
    "duration": 3318,
    "start_time": "2021-10-09T08:03:48.750Z"
   },
   {
    "duration": 695,
    "start_time": "2021-10-09T08:03:52.071Z"
   },
   {
    "duration": 28,
    "start_time": "2021-10-09T08:04:12.676Z"
   },
   {
    "duration": 28,
    "start_time": "2021-10-09T08:05:25.951Z"
   },
   {
    "duration": 587,
    "start_time": "2021-10-09T08:05:39.324Z"
   },
   {
    "duration": 77,
    "start_time": "2021-10-09T08:05:48.072Z"
   },
   {
    "duration": 482,
    "start_time": "2021-10-09T08:05:54.366Z"
   },
   {
    "duration": 19,
    "start_time": "2021-10-09T08:06:01.211Z"
   },
   {
    "duration": 18,
    "start_time": "2021-10-09T08:06:01.632Z"
   },
   {
    "duration": 8,
    "start_time": "2021-10-09T08:06:02.136Z"
   },
   {
    "duration": 23,
    "start_time": "2021-10-09T08:06:02.683Z"
   },
   {
    "duration": 13,
    "start_time": "2021-10-09T08:06:05.512Z"
   },
   {
    "duration": 13,
    "start_time": "2021-10-09T08:20:36.824Z"
   },
   {
    "duration": 10,
    "start_time": "2021-10-09T08:20:38.157Z"
   },
   {
    "duration": 113,
    "start_time": "2021-10-09T08:31:42.539Z"
   },
   {
    "duration": 105,
    "start_time": "2021-10-09T08:31:55.131Z"
   },
   {
    "duration": 20,
    "start_time": "2021-10-09T08:32:21.883Z"
   },
   {
    "duration": 21,
    "start_time": "2021-10-09T08:32:31.349Z"
   },
   {
    "duration": 21,
    "start_time": "2021-10-09T08:32:38.395Z"
   },
   {
    "duration": 15,
    "start_time": "2021-10-09T08:33:27.087Z"
   },
   {
    "duration": 16,
    "start_time": "2021-10-09T08:34:15.727Z"
   },
   {
    "duration": 21,
    "start_time": "2021-10-09T08:34:26.950Z"
   },
   {
    "duration": 22,
    "start_time": "2021-10-09T08:35:18.202Z"
   },
   {
    "duration": 19,
    "start_time": "2021-10-09T08:35:19.775Z"
   },
   {
    "duration": 20,
    "start_time": "2021-10-09T08:47:17.622Z"
   },
   {
    "duration": 44,
    "start_time": "2021-10-09T08:48:45.684Z"
   },
   {
    "duration": 313,
    "start_time": "2021-10-09T08:50:51.804Z"
   },
   {
    "duration": 8,
    "start_time": "2021-10-09T08:51:05.425Z"
   },
   {
    "duration": 12,
    "start_time": "2021-10-09T08:51:52.280Z"
   },
   {
    "duration": 8,
    "start_time": "2021-10-09T08:55:25.444Z"
   },
   {
    "duration": 7,
    "start_time": "2021-10-09T08:56:23.907Z"
   },
   {
    "duration": 7,
    "start_time": "2021-10-09T08:57:34.568Z"
   },
   {
    "duration": 9,
    "start_time": "2021-10-09T08:57:52.441Z"
   },
   {
    "duration": 8,
    "start_time": "2021-10-09T08:58:28.562Z"
   },
   {
    "duration": 112,
    "start_time": "2021-10-09T09:23:21.611Z"
   },
   {
    "duration": 115,
    "start_time": "2021-10-09T09:23:30.002Z"
   },
   {
    "duration": 157,
    "start_time": "2021-10-09T09:23:40.228Z"
   },
   {
    "duration": 107,
    "start_time": "2021-10-09T09:23:57.613Z"
   },
   {
    "duration": 5,
    "start_time": "2021-10-09T09:25:55.824Z"
   },
   {
    "duration": 269,
    "start_time": "2021-10-09T09:25:56.333Z"
   },
   {
    "duration": 21,
    "start_time": "2021-10-09T09:25:56.765Z"
   },
   {
    "duration": 102,
    "start_time": "2021-10-09T09:25:57.265Z"
   },
   {
    "duration": 9,
    "start_time": "2021-10-09T09:25:58.057Z"
   },
   {
    "duration": 37,
    "start_time": "2021-10-09T09:25:58.322Z"
   },
   {
    "duration": 13,
    "start_time": "2021-10-09T09:25:58.572Z"
   },
   {
    "duration": 26,
    "start_time": "2021-10-09T09:25:58.832Z"
   },
   {
    "duration": 50,
    "start_time": "2021-10-09T09:25:59.302Z"
   },
   {
    "duration": 15,
    "start_time": "2021-10-09T09:25:59.540Z"
   },
   {
    "duration": 8,
    "start_time": "2021-10-09T09:25:59.762Z"
   },
   {
    "duration": 6,
    "start_time": "2021-10-09T09:25:59.992Z"
   },
   {
    "duration": 39,
    "start_time": "2021-10-09T09:26:00.422Z"
   },
   {
    "duration": 15,
    "start_time": "2021-10-09T09:26:00.653Z"
   },
   {
    "duration": 43,
    "start_time": "2021-10-09T09:26:00.910Z"
   },
   {
    "duration": 24,
    "start_time": "2021-10-09T09:26:01.166Z"
   },
   {
    "duration": 57,
    "start_time": "2021-10-09T09:26:01.377Z"
   },
   {
    "duration": 16,
    "start_time": "2021-10-09T09:26:01.600Z"
   },
   {
    "duration": 58,
    "start_time": "2021-10-09T09:26:01.825Z"
   },
   {
    "duration": 6,
    "start_time": "2021-10-09T09:26:02.756Z"
   },
   {
    "duration": 14,
    "start_time": "2021-10-09T09:26:02.997Z"
   },
   {
    "duration": 6,
    "start_time": "2021-10-09T09:26:03.231Z"
   },
   {
    "duration": 6,
    "start_time": "2021-10-09T09:26:03.475Z"
   },
   {
    "duration": 751,
    "start_time": "2021-10-09T09:26:03.691Z"
   },
   {
    "duration": 70,
    "start_time": "2021-10-09T09:26:04.445Z"
   },
   {
    "duration": 303,
    "start_time": "2021-10-09T09:26:04.518Z"
   },
   {
    "duration": 44,
    "start_time": "2021-10-09T09:26:04.824Z"
   },
   {
    "duration": 568,
    "start_time": "2021-10-09T09:26:05.028Z"
   },
   {
    "duration": 76,
    "start_time": "2021-10-09T09:26:05.717Z"
   },
   {
    "duration": 457,
    "start_time": "2021-10-09T09:26:06.190Z"
   },
   {
    "duration": 11,
    "start_time": "2021-10-09T09:26:06.877Z"
   },
   {
    "duration": 12,
    "start_time": "2021-10-09T09:26:07.091Z"
   },
   {
    "duration": 6,
    "start_time": "2021-10-09T09:26:07.316Z"
   },
   {
    "duration": 21,
    "start_time": "2021-10-09T09:26:07.588Z"
   },
   {
    "duration": 15,
    "start_time": "2021-10-09T09:26:08.040Z"
   },
   {
    "duration": 21,
    "start_time": "2021-10-09T09:26:08.253Z"
   },
   {
    "duration": 13,
    "start_time": "2021-10-09T09:26:08.699Z"
   },
   {
    "duration": 24,
    "start_time": "2021-10-09T09:26:08.949Z"
   },
   {
    "duration": 66,
    "start_time": "2021-10-09T09:26:09.808Z"
   },
   {
    "duration": 31,
    "start_time": "2021-10-09T09:26:10.022Z"
   },
   {
    "duration": 5,
    "start_time": "2021-10-09T09:26:10.278Z"
   },
   {
    "duration": 1243,
    "start_time": "2021-10-09T09:26:10.514Z"
   },
   {
    "duration": 14,
    "start_time": "2021-10-09T09:26:11.762Z"
   },
   {
    "duration": 11,
    "start_time": "2021-10-09T09:26:11.930Z"
   },
   {
    "duration": 20,
    "start_time": "2021-10-09T09:26:12.142Z"
   },
   {
    "duration": 21,
    "start_time": "2021-10-09T09:26:12.362Z"
   },
   {
    "duration": 21,
    "start_time": "2021-10-09T09:26:12.630Z"
   },
   {
    "duration": 45,
    "start_time": "2021-10-09T09:26:12.864Z"
   },
   {
    "duration": 9,
    "start_time": "2021-10-09T09:26:13.112Z"
   },
   {
    "duration": 8,
    "start_time": "2021-10-09T09:26:13.337Z"
   },
   {
    "duration": 118,
    "start_time": "2021-10-09T09:26:13.820Z"
   },
   {
    "duration": 91,
    "start_time": "2021-10-09T09:26:22.963Z"
   },
   {
    "duration": 107,
    "start_time": "2021-10-09T09:26:34.020Z"
   },
   {
    "duration": 101,
    "start_time": "2021-10-09T09:26:39.713Z"
   },
   {
    "duration": 111,
    "start_time": "2021-10-09T09:26:45.543Z"
   },
   {
    "duration": 191,
    "start_time": "2021-10-09T09:26:50.551Z"
   },
   {
    "duration": 95,
    "start_time": "2021-10-09T09:26:54.475Z"
   },
   {
    "duration": 12,
    "start_time": "2021-10-09T09:28:29.931Z"
   },
   {
    "duration": 11,
    "start_time": "2021-10-09T09:29:17.615Z"
   },
   {
    "duration": 12,
    "start_time": "2021-10-09T09:29:45.028Z"
   },
   {
    "duration": 14,
    "start_time": "2021-10-09T09:29:53.962Z"
   },
   {
    "duration": 27,
    "start_time": "2021-10-09T09:30:18.551Z"
   },
   {
    "duration": 55,
    "start_time": "2021-10-09T09:31:08.897Z"
   },
   {
    "duration": 8,
    "start_time": "2021-10-09T09:33:21.115Z"
   },
   {
    "duration": 12,
    "start_time": "2021-10-09T09:33:33.258Z"
   },
   {
    "duration": 9,
    "start_time": "2021-10-09T09:35:10.775Z"
   },
   {
    "duration": 8,
    "start_time": "2021-10-09T09:36:48.697Z"
   },
   {
    "duration": 2283,
    "start_time": "2021-10-09T20:19:06.262Z"
   },
   {
    "duration": 500,
    "start_time": "2021-10-09T20:19:11.364Z"
   },
   {
    "duration": 492,
    "start_time": "2021-10-09T20:19:43.605Z"
   },
   {
    "duration": 158,
    "start_time": "2021-10-09T20:19:50.529Z"
   },
   {
    "duration": 9,
    "start_time": "2021-10-09T20:19:51.777Z"
   },
   {
    "duration": 17,
    "start_time": "2021-10-09T20:20:44.482Z"
   },
   {
    "duration": 19,
    "start_time": "2021-10-09T20:21:02.513Z"
   },
   {
    "duration": 9,
    "start_time": "2021-10-09T20:21:24.998Z"
   },
   {
    "duration": 5,
    "start_time": "2021-10-09T20:22:45.126Z"
   },
   {
    "duration": 9,
    "start_time": "2021-10-09T20:27:05.315Z"
   },
   {
    "duration": 336,
    "start_time": "2021-10-09T20:27:12.117Z"
   },
   {
    "duration": 339,
    "start_time": "2021-10-09T20:27:14.523Z"
   },
   {
    "duration": 5,
    "start_time": "2021-10-09T20:27:32.796Z"
   },
   {
    "duration": 9793,
    "start_time": "2021-10-09T20:27:34.291Z"
   },
   {
    "duration": -172,
    "start_time": "2021-10-09T20:27:44.258Z"
   },
   {
    "duration": -179,
    "start_time": "2021-10-09T20:27:44.267Z"
   },
   {
    "duration": -184,
    "start_time": "2021-10-09T20:27:44.273Z"
   },
   {
    "duration": -187,
    "start_time": "2021-10-09T20:27:44.277Z"
   },
   {
    "duration": 329,
    "start_time": "2021-10-09T20:29:09.078Z"
   },
   {
    "duration": 5,
    "start_time": "2021-10-09T20:29:27.273Z"
   },
   {
    "duration": 320,
    "start_time": "2021-10-09T20:29:27.739Z"
   },
   {
    "duration": 16,
    "start_time": "2021-10-09T20:29:28.318Z"
   },
   {
    "duration": 31,
    "start_time": "2021-10-09T20:29:28.948Z"
   },
   {
    "duration": 100,
    "start_time": "2021-10-09T20:29:29.597Z"
   },
   {
    "duration": 10,
    "start_time": "2021-10-09T20:29:30.178Z"
   },
   {
    "duration": 9,
    "start_time": "2021-10-09T20:29:30.814Z"
   },
   {
    "duration": 11,
    "start_time": "2021-10-09T20:29:32.280Z"
   },
   {
    "duration": 5,
    "start_time": "2021-10-09T20:29:32.921Z"
   },
   {
    "duration": 33,
    "start_time": "2021-10-09T20:29:34.759Z"
   },
   {
    "duration": 33,
    "start_time": "2021-10-09T20:29:39.384Z"
   },
   {
    "duration": 9,
    "start_time": "2021-10-09T20:29:40.727Z"
   },
   {
    "duration": 26,
    "start_time": "2021-10-09T20:29:43.350Z"
   },
   {
    "duration": 14,
    "start_time": "2021-10-09T20:29:44.233Z"
   },
   {
    "duration": 24,
    "start_time": "2021-10-09T20:29:45.828Z"
   },
   {
    "duration": 14,
    "start_time": "2021-10-09T20:29:46.939Z"
   },
   {
    "duration": 75,
    "start_time": "2021-10-09T20:32:12.431Z"
   },
   {
    "duration": 54,
    "start_time": "2021-10-09T20:32:14.529Z"
   },
   {
    "duration": 5,
    "start_time": "2021-10-09T20:47:21.820Z"
   },
   {
    "duration": 13,
    "start_time": "2021-10-09T20:47:22.593Z"
   },
   {
    "duration": 4,
    "start_time": "2021-10-09T20:47:24.030Z"
   },
   {
    "duration": 7,
    "start_time": "2021-10-09T20:47:27.256Z"
   },
   {
    "duration": 735,
    "start_time": "2021-10-09T20:47:31.074Z"
   },
   {
    "duration": 755,
    "start_time": "2021-10-09T20:52:26.703Z"
   },
   {
    "duration": 350,
    "start_time": "2021-10-09T20:52:27.462Z"
   },
   {
    "duration": 353,
    "start_time": "2021-10-09T20:54:33.473Z"
   },
   {
    "duration": 325,
    "start_time": "2021-10-09T20:54:51.303Z"
   },
   {
    "duration": 510,
    "start_time": "2021-10-09T20:55:11.025Z"
   },
   {
    "duration": 2429,
    "start_time": "2021-10-10T12:26:29.744Z"
   },
   {
    "duration": 339,
    "start_time": "2021-10-10T12:26:32.176Z"
   },
   {
    "duration": 16,
    "start_time": "2021-10-10T12:26:33.378Z"
   },
   {
    "duration": 18,
    "start_time": "2021-10-10T12:26:34.064Z"
   },
   {
    "duration": 156,
    "start_time": "2021-10-10T12:26:34.724Z"
   },
   {
    "duration": 11,
    "start_time": "2021-10-10T12:26:35.399Z"
   },
   {
    "duration": 8,
    "start_time": "2021-10-10T12:26:36.145Z"
   },
   {
    "duration": 12,
    "start_time": "2021-10-10T12:26:37.603Z"
   },
   {
    "duration": 5,
    "start_time": "2021-10-10T12:26:38.320Z"
   },
   {
    "duration": 35,
    "start_time": "2021-10-10T12:26:39.703Z"
   },
   {
    "duration": 32,
    "start_time": "2021-10-10T12:26:40.967Z"
   },
   {
    "duration": 8,
    "start_time": "2021-10-10T12:26:41.659Z"
   },
   {
    "duration": 30,
    "start_time": "2021-10-10T12:26:42.984Z"
   },
   {
    "duration": 14,
    "start_time": "2021-10-10T12:26:43.670Z"
   },
   {
    "duration": 24,
    "start_time": "2021-10-10T12:26:44.467Z"
   },
   {
    "duration": 14,
    "start_time": "2021-10-10T12:26:45.788Z"
   },
   {
    "duration": 64,
    "start_time": "2021-10-10T12:26:47.151Z"
   },
   {
    "duration": 53,
    "start_time": "2021-10-10T12:26:47.787Z"
   },
   {
    "duration": 5,
    "start_time": "2021-10-10T12:27:27.727Z"
   },
   {
    "duration": 13,
    "start_time": "2021-10-10T12:27:28.417Z"
   },
   {
    "duration": 7,
    "start_time": "2021-10-10T12:27:29.227Z"
   },
   {
    "duration": 9,
    "start_time": "2021-10-10T12:27:30.094Z"
   },
   {
    "duration": 706,
    "start_time": "2021-10-10T12:27:31.133Z"
   },
   {
    "duration": 1049,
    "start_time": "2021-10-10T12:30:58.553Z"
   },
   {
    "duration": 315,
    "start_time": "2021-10-10T12:30:59.605Z"
   },
   {
    "duration": 27,
    "start_time": "2021-10-10T12:32:48.710Z"
   },
   {
    "duration": 465,
    "start_time": "2021-10-10T12:32:52.113Z"
   },
   {
    "duration": 72,
    "start_time": "2021-10-10T12:33:13.521Z"
   },
   {
    "duration": 553,
    "start_time": "2021-10-10T12:33:14.482Z"
   },
   {
    "duration": 10,
    "start_time": "2021-10-10T12:35:37.159Z"
   },
   {
    "duration": 10,
    "start_time": "2021-10-10T12:35:38.055Z"
   },
   {
    "duration": 5,
    "start_time": "2021-10-10T12:35:39.120Z"
   },
   {
    "duration": 20,
    "start_time": "2021-10-10T12:35:44.544Z"
   },
   {
    "duration": 13,
    "start_time": "2021-10-10T12:36:05.478Z"
   },
   {
    "duration": 19,
    "start_time": "2021-10-10T12:36:06.274Z"
   },
   {
    "duration": 13,
    "start_time": "2021-10-10T12:36:21.493Z"
   },
   {
    "duration": 24,
    "start_time": "2021-10-10T12:36:22.236Z"
   },
   {
    "duration": 62,
    "start_time": "2021-10-10T12:36:49.384Z"
   },
   {
    "duration": 31,
    "start_time": "2021-10-10T12:36:49.975Z"
   },
   {
    "duration": 5,
    "start_time": "2021-10-10T12:36:50.702Z"
   },
   {
    "duration": 1229,
    "start_time": "2021-10-10T12:36:51.589Z"
   },
   {
    "duration": 10,
    "start_time": "2021-10-10T13:02:48.671Z"
   },
   {
    "duration": 11,
    "start_time": "2021-10-10T13:02:49.063Z"
   },
   {
    "duration": 13,
    "start_time": "2021-10-10T13:02:49.335Z"
   },
   {
    "duration": 24,
    "start_time": "2021-10-10T13:02:49.583Z"
   },
   {
    "duration": 7,
    "start_time": "2021-10-10T13:02:49.806Z"
   },
   {
    "duration": 51,
    "start_time": "2021-10-10T13:02:50.205Z"
   },
   {
    "duration": 16,
    "start_time": "2021-10-10T13:02:50.564Z"
   },
   {
    "duration": 8,
    "start_time": "2021-10-10T13:02:50.873Z"
   },
   {
    "duration": 8,
    "start_time": "2021-10-10T13:02:51.560Z"
   },
   {
    "duration": 423,
    "start_time": "2021-10-10T13:07:26.928Z"
   },
   {
    "duration": 450,
    "start_time": "2021-10-10T13:08:11.293Z"
   },
   {
    "duration": 464,
    "start_time": "2021-10-10T13:08:30.463Z"
   },
   {
    "duration": 504,
    "start_time": "2021-10-10T13:13:19.406Z"
   },
   {
    "duration": 401,
    "start_time": "2021-10-10T13:13:32.403Z"
   },
   {
    "duration": 357,
    "start_time": "2021-10-10T13:13:42.220Z"
   },
   {
    "duration": 327,
    "start_time": "2021-10-10T13:14:14.881Z"
   },
   {
    "duration": 200,
    "start_time": "2021-10-10T13:14:23.105Z"
   },
   {
    "duration": 129,
    "start_time": "2021-10-10T13:14:40.067Z"
   },
   {
    "duration": 154,
    "start_time": "2021-10-10T13:15:32.125Z"
   },
   {
    "duration": 698,
    "start_time": "2021-10-10T13:18:55.867Z"
   },
   {
    "duration": 9104,
    "start_time": "2021-10-10T13:19:08.992Z"
   },
   {
    "duration": 905,
    "start_time": "2021-10-10T13:19:33.561Z"
   },
   {
    "duration": 720,
    "start_time": "2021-10-10T13:20:06.997Z"
   },
   {
    "duration": 2024,
    "start_time": "2021-10-10T13:20:29.515Z"
   },
   {
    "duration": 1688,
    "start_time": "2021-10-10T13:22:24.127Z"
   },
   {
    "duration": 1750,
    "start_time": "2021-10-10T13:23:04.203Z"
   },
   {
    "duration": 729,
    "start_time": "2021-10-10T13:28:47.582Z"
   },
   {
    "duration": 704,
    "start_time": "2021-10-10T13:29:05.324Z"
   },
   {
    "duration": 746,
    "start_time": "2021-10-10T13:29:29.505Z"
   },
   {
    "duration": 692,
    "start_time": "2021-10-10T13:29:48.232Z"
   },
   {
    "duration": 701,
    "start_time": "2021-10-10T13:31:24.397Z"
   },
   {
    "duration": 1647,
    "start_time": "2021-10-10T13:31:40.845Z"
   },
   {
    "duration": 939,
    "start_time": "2021-10-10T13:32:04.658Z"
   },
   {
    "duration": 693,
    "start_time": "2021-10-10T13:32:22.677Z"
   },
   {
    "duration": 2000,
    "start_time": "2021-10-10T13:33:41.933Z"
   },
   {
    "duration": 185,
    "start_time": "2021-10-10T13:36:00.959Z"
   },
   {
    "duration": 810,
    "start_time": "2021-10-10T13:37:01.364Z"
   },
   {
    "duration": 173,
    "start_time": "2021-10-10T13:37:30.169Z"
   },
   {
    "duration": 342,
    "start_time": "2021-10-10T13:38:51.421Z"
   },
   {
    "duration": 189,
    "start_time": "2021-10-10T13:41:14.881Z"
   },
   {
    "duration": 733,
    "start_time": "2021-10-10T13:43:05.109Z"
   },
   {
    "duration": 207,
    "start_time": "2021-10-10T13:43:51.743Z"
   },
   {
    "duration": 202,
    "start_time": "2021-10-10T13:44:14.590Z"
   },
   {
    "duration": 757,
    "start_time": "2021-10-10T13:44:34.767Z"
   },
   {
    "duration": 194,
    "start_time": "2021-10-10T13:44:55.884Z"
   },
   {
    "duration": 332,
    "start_time": "2021-10-10T13:45:20.910Z"
   },
   {
    "duration": 198,
    "start_time": "2021-10-10T13:45:28.479Z"
   },
   {
    "duration": 218,
    "start_time": "2021-10-10T13:45:35.055Z"
   },
   {
    "duration": 210,
    "start_time": "2021-10-10T13:45:43.842Z"
   },
   {
    "duration": 246,
    "start_time": "2021-10-10T13:45:53.959Z"
   },
   {
    "duration": 706,
    "start_time": "2021-10-10T13:46:35.561Z"
   },
   {
    "duration": 114,
    "start_time": "2021-10-10T13:46:47.329Z"
   },
   {
    "duration": 201,
    "start_time": "2021-10-10T13:46:52.329Z"
   },
   {
    "duration": 198,
    "start_time": "2021-10-10T13:46:58.525Z"
   },
   {
    "duration": 200,
    "start_time": "2021-10-10T13:47:07.123Z"
   },
   {
    "duration": 217,
    "start_time": "2021-10-10T13:47:43.202Z"
   },
   {
    "duration": 234,
    "start_time": "2021-10-10T13:47:51.864Z"
   },
   {
    "duration": 878,
    "start_time": "2021-10-10T13:48:24.082Z"
   },
   {
    "duration": 200,
    "start_time": "2021-10-10T13:48:58.020Z"
   },
   {
    "duration": 217,
    "start_time": "2021-10-10T13:49:27.215Z"
   },
   {
    "duration": 719,
    "start_time": "2021-10-10T13:50:08.362Z"
   },
   {
    "duration": 220,
    "start_time": "2021-10-10T13:50:55.403Z"
   },
   {
    "duration": 705,
    "start_time": "2021-10-10T13:58:40.124Z"
   },
   {
    "duration": 720,
    "start_time": "2021-10-10T13:58:52.937Z"
   },
   {
    "duration": 758,
    "start_time": "2021-10-10T13:59:08.312Z"
   },
   {
    "duration": 177,
    "start_time": "2021-10-10T14:02:38.357Z"
   },
   {
    "duration": 186,
    "start_time": "2021-10-10T14:03:12.872Z"
   },
   {
    "duration": 4,
    "start_time": "2021-10-10T14:05:26.509Z"
   },
   {
    "duration": 330,
    "start_time": "2021-10-10T14:05:26.933Z"
   },
   {
    "duration": 12,
    "start_time": "2021-10-10T14:05:27.265Z"
   },
   {
    "duration": 19,
    "start_time": "2021-10-10T14:05:27.451Z"
   },
   {
    "duration": 222,
    "start_time": "2021-10-10T14:05:27.676Z"
   },
   {
    "duration": 10,
    "start_time": "2021-10-10T14:05:27.932Z"
   },
   {
    "duration": 8,
    "start_time": "2021-10-10T14:05:28.221Z"
   },
   {
    "duration": 10,
    "start_time": "2021-10-10T14:05:28.693Z"
   },
   {
    "duration": 5,
    "start_time": "2021-10-10T14:05:29.198Z"
   },
   {
    "duration": 35,
    "start_time": "2021-10-10T14:05:29.571Z"
   },
   {
    "duration": 33,
    "start_time": "2021-10-10T14:05:29.996Z"
   },
   {
    "duration": 10,
    "start_time": "2021-10-10T14:05:30.278Z"
   },
   {
    "duration": 28,
    "start_time": "2021-10-10T14:05:30.809Z"
   },
   {
    "duration": 15,
    "start_time": "2021-10-10T14:05:31.034Z"
   },
   {
    "duration": 25,
    "start_time": "2021-10-10T14:05:31.247Z"
   },
   {
    "duration": 14,
    "start_time": "2021-10-10T14:05:31.709Z"
   },
   {
    "duration": 60,
    "start_time": "2021-10-10T14:05:32.278Z"
   },
   {
    "duration": 53,
    "start_time": "2021-10-10T14:05:32.477Z"
   },
   {
    "duration": 4,
    "start_time": "2021-10-10T14:05:33.723Z"
   },
   {
    "duration": 11,
    "start_time": "2021-10-10T14:05:33.988Z"
   },
   {
    "duration": 4,
    "start_time": "2021-10-10T14:05:34.801Z"
   },
   {
    "duration": 7,
    "start_time": "2021-10-10T14:05:35.164Z"
   },
   {
    "duration": 870,
    "start_time": "2021-10-10T14:05:35.361Z"
   },
   {
    "duration": 72,
    "start_time": "2021-10-10T14:05:36.233Z"
   },
   {
    "duration": 281,
    "start_time": "2021-10-10T14:05:36.350Z"
   },
   {
    "duration": 26,
    "start_time": "2021-10-10T14:05:37.202Z"
   },
   {
    "duration": 467,
    "start_time": "2021-10-10T14:05:37.380Z"
   },
   {
    "duration": 82,
    "start_time": "2021-10-10T14:05:38.206Z"
   },
   {
    "duration": 441,
    "start_time": "2021-10-10T14:05:38.483Z"
   },
   {
    "duration": 10,
    "start_time": "2021-10-10T14:05:39.442Z"
   },
   {
    "duration": 11,
    "start_time": "2021-10-10T14:05:39.749Z"
   },
   {
    "duration": 6,
    "start_time": "2021-10-10T14:05:39.987Z"
   },
   {
    "duration": 26,
    "start_time": "2021-10-10T14:05:40.262Z"
   },
   {
    "duration": 11,
    "start_time": "2021-10-10T14:05:40.820Z"
   },
   {
    "duration": 19,
    "start_time": "2021-10-10T14:05:41.065Z"
   },
   {
    "duration": 184,
    "start_time": "2021-10-10T14:05:41.323Z"
   },
   {
    "duration": 13,
    "start_time": "2021-10-10T14:05:41.875Z"
   },
   {
    "duration": 177,
    "start_time": "2021-10-10T14:07:17.768Z"
   },
   {
    "duration": 1403,
    "start_time": "2021-10-10T21:20:58.169Z"
   },
   {
    "duration": 286,
    "start_time": "2021-10-10T21:20:59.574Z"
   },
   {
    "duration": 10,
    "start_time": "2021-10-10T21:20:59.862Z"
   },
   {
    "duration": 13,
    "start_time": "2021-10-10T21:21:00.305Z"
   },
   {
    "duration": 96,
    "start_time": "2021-10-10T21:21:00.805Z"
   },
   {
    "duration": 7,
    "start_time": "2021-10-10T21:21:01.321Z"
   },
   {
    "duration": 6,
    "start_time": "2021-10-10T21:21:30.523Z"
   },
   {
    "duration": 6,
    "start_time": "2021-10-10T21:21:32.240Z"
   },
   {
    "duration": 4,
    "start_time": "2021-10-10T21:21:33.429Z"
   },
   {
    "duration": 24,
    "start_time": "2021-10-10T21:21:35.484Z"
   },
   {
    "duration": 19,
    "start_time": "2021-10-10T21:21:37.923Z"
   },
   {
    "duration": 6,
    "start_time": "2021-10-10T21:21:48.116Z"
   },
   {
    "duration": 15,
    "start_time": "2021-10-10T21:22:10.798Z"
   },
   {
    "duration": 9,
    "start_time": "2021-10-10T21:22:12.102Z"
   },
   {
    "duration": 19,
    "start_time": "2021-10-10T21:22:12.932Z"
   },
   {
    "duration": 11,
    "start_time": "2021-10-10T21:22:14.725Z"
   },
   {
    "duration": 37,
    "start_time": "2021-10-10T21:22:16.690Z"
   },
   {
    "duration": 33,
    "start_time": "2021-10-10T21:22:17.432Z"
   },
   {
    "duration": 4,
    "start_time": "2021-10-10T21:23:09.147Z"
   },
   {
    "duration": 9,
    "start_time": "2021-10-10T21:23:09.877Z"
   },
   {
    "duration": 3,
    "start_time": "2021-10-10T21:23:10.612Z"
   },
   {
    "duration": 5,
    "start_time": "2021-10-10T21:23:11.277Z"
   },
   {
    "duration": 419,
    "start_time": "2021-10-10T21:23:12.049Z"
   },
   {
    "duration": 531,
    "start_time": "2021-10-10T21:23:21.118Z"
   },
   {
    "duration": 174,
    "start_time": "2021-10-10T21:23:23.328Z"
   },
   {
    "duration": 18,
    "start_time": "2021-10-10T21:23:31.205Z"
   },
   {
    "duration": 287,
    "start_time": "2021-10-10T21:23:33.401Z"
   },
   {
    "duration": 50,
    "start_time": "2021-10-10T21:23:46.229Z"
   },
   {
    "duration": 349,
    "start_time": "2021-10-10T21:23:47.209Z"
   },
   {
    "duration": 8,
    "start_time": "2021-10-10T21:24:18.279Z"
   },
   {
    "duration": 9,
    "start_time": "2021-10-10T21:24:18.713Z"
   },
   {
    "duration": 3,
    "start_time": "2021-10-10T21:24:19.222Z"
   },
   {
    "duration": 13,
    "start_time": "2021-10-10T21:24:19.773Z"
   },
   {
    "duration": 8,
    "start_time": "2021-10-10T21:24:21.495Z"
   },
   {
    "duration": 13,
    "start_time": "2021-10-10T21:24:22.293Z"
   },
   {
    "duration": 107,
    "start_time": "2021-10-10T21:24:25.742Z"
   },
   {
    "duration": 105,
    "start_time": "2021-10-10T21:29:35.761Z"
   },
   {
    "duration": 2884,
    "start_time": "2021-10-11T22:06:38.675Z"
   },
   {
    "duration": 589,
    "start_time": "2021-10-11T22:06:41.561Z"
   },
   {
    "duration": 15,
    "start_time": "2021-10-11T22:06:42.154Z"
   },
   {
    "duration": 26,
    "start_time": "2021-10-11T22:06:42.172Z"
   },
   {
    "duration": 1150,
    "start_time": "2021-10-11T22:06:42.200Z"
   },
   {
    "duration": 7,
    "start_time": "2021-10-11T22:06:43.352Z"
   },
   {
    "duration": 9,
    "start_time": "2021-10-11T22:06:43.361Z"
   },
   {
    "duration": 25,
    "start_time": "2021-10-11T22:06:43.372Z"
   },
   {
    "duration": 6,
    "start_time": "2021-10-11T22:07:17.639Z"
   },
   {
    "duration": 39,
    "start_time": "2021-10-11T22:07:18.110Z"
   },
   {
    "duration": 21,
    "start_time": "2021-10-11T22:07:18.807Z"
   },
   {
    "duration": 6,
    "start_time": "2021-10-11T22:07:19.024Z"
   },
   {
    "duration": 17,
    "start_time": "2021-10-11T22:07:19.459Z"
   },
   {
    "duration": 12,
    "start_time": "2021-10-11T22:07:19.681Z"
   },
   {
    "duration": 27,
    "start_time": "2021-10-11T22:07:19.896Z"
   },
   {
    "duration": 20,
    "start_time": "2021-10-11T22:07:20.375Z"
   },
   {
    "duration": 38,
    "start_time": "2021-10-11T22:07:20.833Z"
   },
   {
    "duration": 59,
    "start_time": "2021-10-11T22:07:21.071Z"
   },
   {
    "duration": 4,
    "start_time": "2021-10-11T22:07:22.527Z"
   },
   {
    "duration": 12,
    "start_time": "2021-10-11T22:07:22.744Z"
   },
   {
    "duration": 4,
    "start_time": "2021-10-11T22:07:22.963Z"
   },
   {
    "duration": 7,
    "start_time": "2021-10-11T22:07:23.201Z"
   },
   {
    "duration": 484,
    "start_time": "2021-10-11T22:07:23.400Z"
   },
   {
    "duration": 619,
    "start_time": "2021-10-11T22:07:23.960Z"
   },
   {
    "duration": 225,
    "start_time": "2021-10-11T22:07:24.582Z"
   },
   {
    "duration": 28,
    "start_time": "2021-10-11T22:07:24.897Z"
   },
   {
    "duration": 329,
    "start_time": "2021-10-11T22:07:25.102Z"
   },
   {
    "duration": 90,
    "start_time": "2021-10-11T22:07:25.692Z"
   },
   {
    "duration": 393,
    "start_time": "2021-10-11T22:07:25.897Z"
   },
   {
    "duration": 7,
    "start_time": "2021-10-11T22:07:26.751Z"
   },
   {
    "duration": 13,
    "start_time": "2021-10-11T22:07:27.010Z"
   },
   {
    "duration": 5,
    "start_time": "2021-10-11T22:07:27.219Z"
   },
   {
    "duration": 15,
    "start_time": "2021-10-11T22:07:27.421Z"
   },
   {
    "duration": 9,
    "start_time": "2021-10-11T22:07:27.676Z"
   },
   {
    "duration": 16,
    "start_time": "2021-10-11T22:07:27.857Z"
   },
   {
    "duration": 123,
    "start_time": "2021-10-11T22:07:28.040Z"
   },
   {
    "duration": 10,
    "start_time": "2021-10-11T22:07:29.703Z"
   },
   {
    "duration": 23,
    "start_time": "2021-10-11T22:07:29.716Z"
   },
   {
    "duration": 127,
    "start_time": "2021-10-11T22:07:29.742Z"
   },
   {
    "duration": 56,
    "start_time": "2021-10-11T22:07:29.871Z"
   },
   {
    "duration": 21,
    "start_time": "2021-10-11T22:07:29.929Z"
   },
   {
    "duration": 6,
    "start_time": "2021-10-11T22:07:30.095Z"
   },
   {
    "duration": 796,
    "start_time": "2021-10-11T22:07:30.236Z"
   },
   {
    "duration": 8,
    "start_time": "2021-10-11T22:07:31.520Z"
   },
   {
    "duration": 8,
    "start_time": "2021-10-11T22:07:31.691Z"
   },
   {
    "duration": 14,
    "start_time": "2021-10-11T22:07:31.857Z"
   },
   {
    "duration": 15,
    "start_time": "2021-10-11T22:07:32.017Z"
   },
   {
    "duration": 19,
    "start_time": "2021-10-11T22:07:32.182Z"
   },
   {
    "duration": 42,
    "start_time": "2021-10-11T22:07:32.358Z"
   },
   {
    "duration": 6,
    "start_time": "2021-10-11T22:07:32.549Z"
   },
   {
    "duration": 7,
    "start_time": "2021-10-11T22:07:32.889Z"
   },
   {
    "duration": 7,
    "start_time": "2021-10-11T22:07:33.608Z"
   },
   {
    "duration": 9,
    "start_time": "2021-10-11T22:07:33.805Z"
   },
   {
    "duration": 11,
    "start_time": "2021-10-11T22:07:34.047Z"
   },
   {
    "duration": 18,
    "start_time": "2021-10-11T22:07:34.237Z"
   },
   {
    "duration": 6,
    "start_time": "2021-10-11T22:07:34.419Z"
   },
   {
    "duration": 41,
    "start_time": "2021-10-11T22:07:34.625Z"
   },
   {
    "duration": 8,
    "start_time": "2021-10-11T22:07:34.833Z"
   },
   {
    "duration": 6,
    "start_time": "2021-10-11T22:07:35.020Z"
   },
   {
    "duration": 7,
    "start_time": "2021-10-11T22:07:35.188Z"
   },
   {
    "duration": 1813,
    "start_time": "2021-10-13T12:50:13.788Z"
   },
   {
    "duration": 292,
    "start_time": "2021-10-13T12:50:16.961Z"
   },
   {
    "duration": 15,
    "start_time": "2021-10-13T12:50:18.229Z"
   },
   {
    "duration": 17,
    "start_time": "2021-10-13T12:50:19.006Z"
   },
   {
    "duration": 368,
    "start_time": "2021-10-13T12:50:19.632Z"
   },
   {
    "duration": 10,
    "start_time": "2021-10-13T12:50:20.206Z"
   },
   {
    "duration": 8,
    "start_time": "2021-10-13T12:50:20.819Z"
   },
   {
    "duration": 10,
    "start_time": "2021-10-13T12:50:22.039Z"
   },
   {
    "duration": 5,
    "start_time": "2021-10-13T12:50:22.617Z"
   },
   {
    "duration": 36,
    "start_time": "2021-10-13T12:50:23.785Z"
   },
   {
    "duration": 32,
    "start_time": "2021-10-13T12:50:24.885Z"
   },
   {
    "duration": 8,
    "start_time": "2021-10-13T12:50:25.509Z"
   },
   {
    "duration": 23,
    "start_time": "2021-10-13T12:50:26.631Z"
   },
   {
    "duration": 13,
    "start_time": "2021-10-13T12:50:27.179Z"
   },
   {
    "duration": 25,
    "start_time": "2021-10-13T12:50:27.808Z"
   },
   {
    "duration": 15,
    "start_time": "2021-10-13T12:50:29.026Z"
   },
   {
    "duration": 57,
    "start_time": "2021-10-13T12:50:30.238Z"
   },
   {
    "duration": 53,
    "start_time": "2021-10-13T12:50:30.871Z"
   },
   {
    "duration": 4,
    "start_time": "2021-10-13T12:50:34.919Z"
   },
   {
    "duration": 13,
    "start_time": "2021-10-13T12:50:35.821Z"
   },
   {
    "duration": 5,
    "start_time": "2021-10-13T12:50:36.565Z"
   },
   {
    "duration": 8,
    "start_time": "2021-10-13T12:50:37.242Z"
   },
   {
    "duration": 751,
    "start_time": "2021-10-13T12:50:37.922Z"
   },
   {
    "duration": 622,
    "start_time": "2021-10-13T12:50:40.367Z"
   },
   {
    "duration": 306,
    "start_time": "2021-10-13T12:50:41.101Z"
   },
   {
    "duration": 27,
    "start_time": "2021-10-13T12:50:42.888Z"
   },
   {
    "duration": 455,
    "start_time": "2021-10-13T12:50:43.667Z"
   },
   {
    "duration": 74,
    "start_time": "2021-10-13T12:50:46.838Z"
   },
   {
    "duration": 547,
    "start_time": "2021-10-13T12:50:47.822Z"
   },
   {
    "duration": 11,
    "start_time": "2021-10-13T12:50:51.898Z"
   },
   {
    "duration": 13,
    "start_time": "2021-10-13T12:50:52.447Z"
   },
   {
    "duration": 5,
    "start_time": "2021-10-13T12:50:52.998Z"
   },
   {
    "duration": 20,
    "start_time": "2021-10-13T12:50:53.692Z"
   },
   {
    "duration": 12,
    "start_time": "2021-10-13T12:50:54.779Z"
   },
   {
    "duration": 21,
    "start_time": "2021-10-13T12:50:55.291Z"
   },
   {
    "duration": 184,
    "start_time": "2021-10-13T12:50:55.711Z"
   },
   {
    "duration": 11,
    "start_time": "2021-10-13T12:50:56.780Z"
   },
   {
    "duration": 23,
    "start_time": "2021-10-13T12:50:57.408Z"
   },
   {
    "duration": 172,
    "start_time": "2021-10-13T12:50:57.979Z"
   },
   {
    "duration": 434,
    "start_time": "2021-10-13T13:01:08.186Z"
   },
   {
    "duration": 15,
    "start_time": "2021-10-13T13:01:45.792Z"
   },
   {
    "duration": 7,
    "start_time": "2021-10-13T13:02:26.847Z"
   },
   {
    "duration": 6,
    "start_time": "2021-10-13T13:02:47.559Z"
   },
   {
    "duration": 7,
    "start_time": "2021-10-13T13:02:57.226Z"
   },
   {
    "duration": 7,
    "start_time": "2021-10-13T13:03:10.923Z"
   },
   {
    "duration": 7,
    "start_time": "2021-10-13T13:03:40.347Z"
   },
   {
    "duration": 7,
    "start_time": "2021-10-13T13:03:47.033Z"
   },
   {
    "duration": 8,
    "start_time": "2021-10-13T13:04:15.608Z"
   },
   {
    "duration": 309,
    "start_time": "2021-10-13T13:04:44.414Z"
   },
   {
    "duration": 286,
    "start_time": "2021-10-13T13:04:44.973Z"
   },
   {
    "duration": 5,
    "start_time": "2021-10-13T13:05:19.891Z"
   },
   {
    "duration": 492,
    "start_time": "2021-10-13T13:05:20.507Z"
   },
   {
    "duration": 14,
    "start_time": "2021-10-13T13:05:21.150Z"
   },
   {
    "duration": 17,
    "start_time": "2021-10-13T13:05:21.913Z"
   },
   {
    "duration": 56,
    "start_time": "2021-10-13T13:05:22.450Z"
   },
   {
    "duration": 9,
    "start_time": "2021-10-13T13:05:22.985Z"
   },
   {
    "duration": 8,
    "start_time": "2021-10-13T13:05:23.532Z"
   },
   {
    "duration": 8,
    "start_time": "2021-10-13T13:05:24.579Z"
   },
   {
    "duration": 5,
    "start_time": "2021-10-13T13:05:25.026Z"
   },
   {
    "duration": 33,
    "start_time": "2021-10-13T13:05:26.108Z"
   },
   {
    "duration": 31,
    "start_time": "2021-10-13T13:05:27.086Z"
   },
   {
    "duration": 7,
    "start_time": "2021-10-13T13:05:27.524Z"
   },
   {
    "duration": 23,
    "start_time": "2021-10-13T13:05:28.327Z"
   },
   {
    "duration": 14,
    "start_time": "2021-10-13T13:05:28.784Z"
   },
   {
    "duration": 24,
    "start_time": "2021-10-13T13:05:29.340Z"
   },
   {
    "duration": 15,
    "start_time": "2021-10-13T13:05:30.282Z"
   },
   {
    "duration": 56,
    "start_time": "2021-10-13T13:05:31.174Z"
   },
   {
    "duration": 54,
    "start_time": "2021-10-13T13:05:31.635Z"
   },
   {
    "duration": 5,
    "start_time": "2021-10-13T13:05:34.297Z"
   },
   {
    "duration": 13,
    "start_time": "2021-10-13T13:05:34.750Z"
   },
   {
    "duration": 5,
    "start_time": "2021-10-13T13:05:35.194Z"
   },
   {
    "duration": 7,
    "start_time": "2021-10-13T13:05:35.703Z"
   },
   {
    "duration": 719,
    "start_time": "2021-10-13T13:05:36.164Z"
   },
   {
    "duration": 63,
    "start_time": "2021-10-13T13:05:37.698Z"
   },
   {
    "duration": 276,
    "start_time": "2021-10-13T13:05:38.462Z"
   },
   {
    "duration": 26,
    "start_time": "2021-10-13T13:05:40.030Z"
   },
   {
    "duration": 563,
    "start_time": "2021-10-13T13:05:40.601Z"
   },
   {
    "duration": 73,
    "start_time": "2021-10-13T13:05:42.438Z"
   },
   {
    "duration": 442,
    "start_time": "2021-10-13T13:05:42.945Z"
   },
   {
    "duration": 10,
    "start_time": "2021-10-13T13:05:45.335Z"
   },
   {
    "duration": 12,
    "start_time": "2021-10-13T13:05:45.893Z"
   },
   {
    "duration": 5,
    "start_time": "2021-10-13T13:05:47.842Z"
   },
   {
    "duration": 20,
    "start_time": "2021-10-13T13:05:48.534Z"
   },
   {
    "duration": 12,
    "start_time": "2021-10-13T13:05:50.105Z"
   },
   {
    "duration": 20,
    "start_time": "2021-10-13T13:05:50.804Z"
   },
   {
    "duration": 176,
    "start_time": "2021-10-13T13:05:51.829Z"
   },
   {
    "duration": 12,
    "start_time": "2021-10-13T13:05:53.266Z"
   },
   {
    "duration": 24,
    "start_time": "2021-10-13T13:05:53.897Z"
   },
   {
    "duration": 176,
    "start_time": "2021-10-13T13:05:54.894Z"
   },
   {
    "duration": 9,
    "start_time": "2021-10-13T13:05:59.972Z"
   },
   {
    "duration": 7,
    "start_time": "2021-10-13T13:06:00.980Z"
   },
   {
    "duration": 15,
    "start_time": "2021-10-13T13:06:05.629Z"
   },
   {
    "duration": 3,
    "start_time": "2021-10-13T13:09:16.055Z"
   },
   {
    "duration": 6,
    "start_time": "2021-10-13T13:09:23.035Z"
   },
   {
    "duration": 6,
    "start_time": "2021-10-13T13:10:20.781Z"
   },
   {
    "duration": 6,
    "start_time": "2021-10-13T13:10:26.999Z"
   },
   {
    "duration": 13,
    "start_time": "2021-10-13T13:11:12.040Z"
   },
   {
    "duration": 6,
    "start_time": "2021-10-13T13:14:39.739Z"
   },
   {
    "duration": 7,
    "start_time": "2021-10-13T13:14:57.484Z"
   },
   {
    "duration": 14,
    "start_time": "2021-10-13T13:15:12.114Z"
   },
   {
    "duration": 6,
    "start_time": "2021-10-13T13:17:38.760Z"
   },
   {
    "duration": 7,
    "start_time": "2021-10-13T13:17:48.720Z"
   },
   {
    "duration": 14,
    "start_time": "2021-10-13T13:17:50.880Z"
   },
   {
    "duration": 298,
    "start_time": "2021-10-13T13:18:40.508Z"
   },
   {
    "duration": 12,
    "start_time": "2021-10-13T13:19:08.411Z"
   },
   {
    "duration": 7,
    "start_time": "2021-10-13T13:20:35.290Z"
   },
   {
    "duration": 12,
    "start_time": "2021-10-13T13:20:39.676Z"
   },
   {
    "duration": 6,
    "start_time": "2021-10-13T13:21:00.778Z"
   },
   {
    "duration": 7,
    "start_time": "2021-10-13T13:21:01.661Z"
   },
   {
    "duration": 12,
    "start_time": "2021-10-13T13:21:02.226Z"
   },
   {
    "duration": 413,
    "start_time": "2021-10-13T13:21:53.676Z"
   },
   {
    "duration": 362,
    "start_time": "2021-10-13T13:24:41.242Z"
   },
   {
    "duration": 404,
    "start_time": "2021-10-13T13:24:51.390Z"
   },
   {
    "duration": 374,
    "start_time": "2021-10-13T13:24:59.531Z"
   },
   {
    "duration": 5,
    "start_time": "2021-10-13T13:26:37.671Z"
   },
   {
    "duration": 5,
    "start_time": "2021-10-13T13:26:40.664Z"
   },
   {
    "duration": 389,
    "start_time": "2021-10-13T13:27:03.815Z"
   },
   {
    "duration": 385,
    "start_time": "2021-10-13T13:29:52.237Z"
   },
   {
    "duration": 6387,
    "start_time": "2021-10-13T13:30:20.684Z"
   },
   {
    "duration": 583,
    "start_time": "2021-10-13T13:30:49.319Z"
   },
   {
    "duration": 408,
    "start_time": "2021-10-13T13:36:44.320Z"
   },
   {
    "duration": 221,
    "start_time": "2021-10-13T13:39:39.044Z"
   },
   {
    "duration": 8,
    "start_time": "2021-10-13T13:40:00.104Z"
   },
   {
    "duration": 16,
    "start_time": "2021-10-13T13:40:07.042Z"
   },
   {
    "duration": 219,
    "start_time": "2021-10-13T13:48:23.337Z"
   },
   {
    "duration": 249,
    "start_time": "2021-10-13T13:48:31.919Z"
   },
   {
    "duration": 5,
    "start_time": "2021-10-13T13:48:50.900Z"
   },
   {
    "duration": 269,
    "start_time": "2021-10-13T13:48:51.480Z"
   },
   {
    "duration": 15,
    "start_time": "2021-10-13T13:48:52.137Z"
   },
   {
    "duration": 25,
    "start_time": "2021-10-13T13:48:52.724Z"
   },
   {
    "duration": 61,
    "start_time": "2021-10-13T13:48:53.250Z"
   },
   {
    "duration": 10,
    "start_time": "2021-10-13T13:48:53.695Z"
   },
   {
    "duration": 12,
    "start_time": "2021-10-13T13:48:54.125Z"
   },
   {
    "duration": 9,
    "start_time": "2021-10-13T13:48:54.966Z"
   },
   {
    "duration": 7,
    "start_time": "2021-10-13T13:48:55.422Z"
   },
   {
    "duration": 33,
    "start_time": "2021-10-13T13:48:56.234Z"
   },
   {
    "duration": 31,
    "start_time": "2021-10-13T13:48:56.844Z"
   },
   {
    "duration": 8,
    "start_time": "2021-10-13T13:48:57.162Z"
   },
   {
    "duration": 24,
    "start_time": "2021-10-13T13:48:57.791Z"
   },
   {
    "duration": 14,
    "start_time": "2021-10-13T13:48:58.092Z"
   },
   {
    "duration": 26,
    "start_time": "2021-10-13T13:48:58.830Z"
   },
   {
    "duration": 22,
    "start_time": "2021-10-13T13:48:59.715Z"
   },
   {
    "duration": 63,
    "start_time": "2021-10-13T13:49:00.608Z"
   },
   {
    "duration": 59,
    "start_time": "2021-10-13T13:49:00.943Z"
   },
   {
    "duration": 4,
    "start_time": "2021-10-13T13:49:03.364Z"
   },
   {
    "duration": 11,
    "start_time": "2021-10-13T13:49:03.833Z"
   },
   {
    "duration": 5,
    "start_time": "2021-10-13T13:49:04.242Z"
   },
   {
    "duration": 8,
    "start_time": "2021-10-13T13:49:04.616Z"
   },
   {
    "duration": 771,
    "start_time": "2021-10-13T13:49:04.970Z"
   },
   {
    "duration": 61,
    "start_time": "2021-10-13T13:49:06.548Z"
   },
   {
    "duration": 294,
    "start_time": "2021-10-13T13:49:07.086Z"
   },
   {
    "duration": 25,
    "start_time": "2021-10-13T13:49:08.733Z"
   },
   {
    "duration": 482,
    "start_time": "2021-10-13T13:49:09.315Z"
   },
   {
    "duration": 84,
    "start_time": "2021-10-13T13:49:10.862Z"
   },
   {
    "duration": 594,
    "start_time": "2021-10-13T13:49:11.353Z"
   },
   {
    "duration": 9,
    "start_time": "2021-10-13T13:49:13.567Z"
   },
   {
    "duration": 12,
    "start_time": "2021-10-13T13:49:14.008Z"
   },
   {
    "duration": 5,
    "start_time": "2021-10-13T13:49:14.489Z"
   },
   {
    "duration": 27,
    "start_time": "2021-10-13T13:49:14.989Z"
   },
   {
    "duration": 13,
    "start_time": "2021-10-13T13:49:15.955Z"
   },
   {
    "duration": 27,
    "start_time": "2021-10-13T13:49:16.419Z"
   },
   {
    "duration": 13,
    "start_time": "2021-10-13T13:49:17.115Z"
   },
   {
    "duration": 21,
    "start_time": "2021-10-13T13:49:17.595Z"
   },
   {
    "duration": 15,
    "start_time": "2021-10-13T13:49:18.502Z"
   },
   {
    "duration": 424,
    "start_time": "2021-10-13T13:49:19.043Z"
   },
   {
    "duration": 60,
    "start_time": "2021-10-13T13:49:22.338Z"
   },
   {
    "duration": 33,
    "start_time": "2021-10-13T13:49:24.526Z"
   },
   {
    "duration": 7,
    "start_time": "2021-10-13T13:49:25.329Z"
   },
   {
    "duration": 8,
    "start_time": "2021-10-13T13:49:33.819Z"
   },
   {
    "duration": 1080,
    "start_time": "2021-10-13T13:49:34.558Z"
   },
   {
    "duration": 1043,
    "start_time": "2021-10-13T13:50:02.108Z"
   },
   {
    "duration": 24,
    "start_time": "2021-10-13T13:50:04.614Z"
   },
   {
    "duration": 42625,
    "start_time": "2021-10-13T13:52:46.114Z"
   },
   {
    "duration": 1493,
    "start_time": "2021-10-13T20:59:16.842Z"
   },
   {
    "duration": 252,
    "start_time": "2021-10-13T20:59:18.337Z"
   },
   {
    "duration": 10,
    "start_time": "2021-10-13T20:59:19.167Z"
   },
   {
    "duration": 14,
    "start_time": "2021-10-13T20:59:19.938Z"
   },
   {
    "duration": 110,
    "start_time": "2021-10-13T20:59:20.525Z"
   },
   {
    "duration": 7,
    "start_time": "2021-10-13T20:59:21.028Z"
   },
   {
    "duration": 5,
    "start_time": "2021-10-13T20:59:21.320Z"
   },
   {
    "duration": 7,
    "start_time": "2021-10-13T20:59:21.895Z"
   },
   {
    "duration": 4,
    "start_time": "2021-10-13T20:59:22.131Z"
   },
   {
    "duration": 22,
    "start_time": "2021-10-13T20:59:22.760Z"
   },
   {
    "duration": 20,
    "start_time": "2021-10-13T20:59:23.416Z"
   },
   {
    "duration": 5,
    "start_time": "2021-10-13T20:59:23.719Z"
   },
   {
    "duration": 17,
    "start_time": "2021-10-13T20:59:24.316Z"
   },
   {
    "duration": 10,
    "start_time": "2021-10-13T20:59:24.614Z"
   },
   {
    "duration": 19,
    "start_time": "2021-10-13T20:59:24.889Z"
   },
   {
    "duration": 11,
    "start_time": "2021-10-13T20:59:25.643Z"
   },
   {
    "duration": 34,
    "start_time": "2021-10-13T20:59:27.134Z"
   },
   {
    "duration": 32,
    "start_time": "2021-10-13T20:59:27.681Z"
   },
   {
    "duration": 3,
    "start_time": "2021-10-13T20:59:33.168Z"
   },
   {
    "duration": 8,
    "start_time": "2021-10-13T20:59:33.701Z"
   },
   {
    "duration": 4,
    "start_time": "2021-10-13T20:59:34.058Z"
   },
   {
    "duration": 6,
    "start_time": "2021-10-13T20:59:34.327Z"
   },
   {
    "duration": 504,
    "start_time": "2021-10-13T20:59:34.564Z"
   },
   {
    "duration": 514,
    "start_time": "2021-10-13T20:59:35.384Z"
   },
   {
    "duration": 172,
    "start_time": "2021-10-13T20:59:35.900Z"
   },
   {
    "duration": 20,
    "start_time": "2021-10-13T20:59:36.727Z"
   },
   {
    "duration": 268,
    "start_time": "2021-10-13T20:59:37.024Z"
   },
   {
    "duration": 51,
    "start_time": "2021-10-13T20:59:37.887Z"
   },
   {
    "duration": 358,
    "start_time": "2021-10-13T20:59:38.158Z"
   },
   {
    "duration": 7,
    "start_time": "2021-10-13T20:59:45.588Z"
   },
   {
    "duration": 8,
    "start_time": "2021-10-13T20:59:46.161Z"
   },
   {
    "duration": 3,
    "start_time": "2021-10-13T20:59:46.632Z"
   },
   {
    "duration": 14,
    "start_time": "2021-10-13T20:59:46.952Z"
   },
   {
    "duration": 8,
    "start_time": "2021-10-13T20:59:47.494Z"
   },
   {
    "duration": 13,
    "start_time": "2021-10-13T20:59:47.761Z"
   },
   {
    "duration": 8,
    "start_time": "2021-10-13T20:59:49.018Z"
   },
   {
    "duration": 15,
    "start_time": "2021-10-13T20:59:49.650Z"
   },
   {
    "duration": 360,
    "start_time": "2021-10-13T21:00:14.900Z"
   },
   {
    "duration": 224,
    "start_time": "2021-10-13T21:03:24.771Z"
   },
   {
    "duration": 9,
    "start_time": "2021-10-13T21:03:37.857Z"
   },
   {
    "duration": 226,
    "start_time": "2021-10-13T21:04:40.191Z"
   },
   {
    "duration": 268,
    "start_time": "2021-10-13T21:05:27.155Z"
   },
   {
    "duration": 45,
    "start_time": "2021-10-13T21:07:23.917Z"
   },
   {
    "duration": 28,
    "start_time": "2021-10-13T21:07:24.616Z"
   },
   {
    "duration": 4,
    "start_time": "2021-10-13T21:07:25.564Z"
   },
   {
    "duration": 610,
    "start_time": "2021-10-13T21:07:26.179Z"
   },
   {
    "duration": 696,
    "start_time": "2021-10-13T21:44:37.224Z"
   },
   {
    "duration": 21524,
    "start_time": "2021-10-13T21:44:42.981Z"
   },
   {
    "duration": 8,
    "start_time": "2021-10-13T21:45:04.507Z"
   },
   {
    "duration": 10,
    "start_time": "2021-10-13T21:45:04.516Z"
   },
   {
    "duration": 12,
    "start_time": "2021-10-13T21:45:04.544Z"
   },
   {
    "duration": 13,
    "start_time": "2021-10-13T21:45:04.558Z"
   },
   {
    "duration": 14,
    "start_time": "2021-10-13T21:47:39.615Z"
   },
   {
    "duration": 28,
    "start_time": "2021-10-13T21:47:40.372Z"
   },
   {
    "duration": 5,
    "start_time": "2021-10-13T21:47:41.218Z"
   },
   {
    "duration": 5,
    "start_time": "2021-10-13T21:47:42.056Z"
   },
   {
    "duration": 10,
    "start_time": "2021-10-13T21:47:44.363Z"
   },
   {
    "duration": 7,
    "start_time": "2021-10-13T21:47:44.630Z"
   },
   {
    "duration": 9,
    "start_time": "2021-10-13T21:47:44.845Z"
   },
   {
    "duration": 15,
    "start_time": "2021-10-13T21:47:45.139Z"
   },
   {
    "duration": 5,
    "start_time": "2021-10-13T21:47:45.869Z"
   },
   {
    "duration": 35,
    "start_time": "2021-10-13T21:47:46.188Z"
   },
   {
    "duration": 7,
    "start_time": "2021-10-13T21:47:46.424Z"
   },
   {
    "duration": 6,
    "start_time": "2021-10-13T21:47:46.687Z"
   },
   {
    "duration": 6,
    "start_time": "2021-10-13T21:47:46.955Z"
   },
   {
    "duration": 85,
    "start_time": "2021-10-13T21:59:31.418Z"
   },
   {
    "duration": 5,
    "start_time": "2021-10-13T22:00:11.934Z"
   },
   {
    "duration": 2,
    "start_time": "2021-10-13T22:01:15.110Z"
   },
   {
    "duration": 4,
    "start_time": "2021-10-13T22:01:16.363Z"
   },
   {
    "duration": 6,
    "start_time": "2021-10-13T22:01:55.296Z"
   },
   {
    "duration": 4,
    "start_time": "2021-10-13T22:02:10.182Z"
   },
   {
    "duration": 205,
    "start_time": "2021-10-13T22:02:10.664Z"
   },
   {
    "duration": 8,
    "start_time": "2021-10-13T22:02:11.092Z"
   },
   {
    "duration": 14,
    "start_time": "2021-10-13T22:02:11.492Z"
   },
   {
    "duration": 138,
    "start_time": "2021-10-13T22:02:11.822Z"
   },
   {
    "duration": 8,
    "start_time": "2021-10-13T22:02:12.116Z"
   },
   {
    "duration": 6,
    "start_time": "2021-10-13T22:02:12.378Z"
   },
   {
    "duration": 7,
    "start_time": "2021-10-13T22:02:13.054Z"
   },
   {
    "duration": 3,
    "start_time": "2021-10-13T22:02:13.374Z"
   },
   {
    "duration": 25,
    "start_time": "2021-10-13T22:02:13.965Z"
   },
   {
    "duration": 21,
    "start_time": "2021-10-13T22:02:14.626Z"
   },
   {
    "duration": 8,
    "start_time": "2021-10-13T22:02:14.914Z"
   },
   {
    "duration": 16,
    "start_time": "2021-10-13T22:02:15.477Z"
   },
   {
    "duration": 11,
    "start_time": "2021-10-13T22:02:15.751Z"
   },
   {
    "duration": 36,
    "start_time": "2021-10-13T22:02:16.119Z"
   },
   {
    "duration": 12,
    "start_time": "2021-10-13T22:02:16.660Z"
   },
   {
    "duration": 34,
    "start_time": "2021-10-13T22:02:17.110Z"
   },
   {
    "duration": 33,
    "start_time": "2021-10-13T22:02:17.342Z"
   },
   {
    "duration": 3,
    "start_time": "2021-10-13T22:02:19.064Z"
   },
   {
    "duration": 9,
    "start_time": "2021-10-13T22:02:19.313Z"
   },
   {
    "duration": 3,
    "start_time": "2021-10-13T22:02:19.546Z"
   },
   {
    "duration": 5,
    "start_time": "2021-10-13T22:02:19.786Z"
   },
   {
    "duration": 423,
    "start_time": "2021-10-13T22:02:20.010Z"
   },
   {
    "duration": 70,
    "start_time": "2021-10-13T22:02:20.661Z"
   },
   {
    "duration": 163,
    "start_time": "2021-10-13T22:02:20.880Z"
   },
   {
    "duration": 17,
    "start_time": "2021-10-13T22:02:21.509Z"
   },
   {
    "duration": 275,
    "start_time": "2021-10-13T22:02:21.722Z"
   },
   {
    "duration": 51,
    "start_time": "2021-10-13T22:02:22.392Z"
   },
   {
    "duration": 260,
    "start_time": "2021-10-13T22:02:22.608Z"
   },
   {
    "duration": 7,
    "start_time": "2021-10-13T22:02:23.638Z"
   },
   {
    "duration": 8,
    "start_time": "2021-10-13T22:02:23.855Z"
   },
   {
    "duration": 4,
    "start_time": "2021-10-13T22:02:24.076Z"
   },
   {
    "duration": 15,
    "start_time": "2021-10-13T22:02:24.340Z"
   },
   {
    "duration": 8,
    "start_time": "2021-10-13T22:02:24.886Z"
   },
   {
    "duration": 13,
    "start_time": "2021-10-13T22:02:25.152Z"
   },
   {
    "duration": 9,
    "start_time": "2021-10-13T22:02:25.682Z"
   },
   {
    "duration": 15,
    "start_time": "2021-10-13T22:02:25.957Z"
   },
   {
    "duration": 255,
    "start_time": "2021-10-13T22:02:26.606Z"
   },
   {
    "duration": 9,
    "start_time": "2021-10-13T22:02:26.878Z"
   },
   {
    "duration": 43,
    "start_time": "2021-10-13T22:02:29.168Z"
   },
   {
    "duration": 23,
    "start_time": "2021-10-13T22:02:29.464Z"
   },
   {
    "duration": 4,
    "start_time": "2021-10-13T22:02:29.856Z"
   },
   {
    "duration": 610,
    "start_time": "2021-10-13T22:02:30.082Z"
   },
   {
    "duration": 22753,
    "start_time": "2021-10-13T22:02:30.694Z"
   },
   {
    "duration": 6,
    "start_time": "2021-10-13T22:02:53.449Z"
   },
   {
    "duration": 14,
    "start_time": "2021-10-13T22:02:53.457Z"
   },
   {
    "duration": 7,
    "start_time": "2021-10-13T22:02:53.473Z"
   },
   {
    "duration": 14,
    "start_time": "2021-10-13T22:02:54.835Z"
   },
   {
    "duration": 15,
    "start_time": "2021-10-13T22:02:55.834Z"
   },
   {
    "duration": 15,
    "start_time": "2021-10-13T22:02:57.373Z"
   },
   {
    "duration": 31,
    "start_time": "2021-10-13T22:03:01.071Z"
   },
   {
    "duration": 5,
    "start_time": "2021-10-13T22:04:23.607Z"
   },
   {
    "duration": 9,
    "start_time": "2021-10-13T22:04:26.589Z"
   },
   {
    "duration": 8,
    "start_time": "2021-10-13T22:04:27.108Z"
   },
   {
    "duration": 13,
    "start_time": "2021-10-13T22:04:27.721Z"
   },
   {
    "duration": 15,
    "start_time": "2021-10-13T22:04:28.634Z"
   },
   {
    "duration": 15,
    "start_time": "2021-10-13T22:04:29.363Z"
   },
   {
    "duration": 29,
    "start_time": "2021-10-13T22:04:33.114Z"
   },
   {
    "duration": 5,
    "start_time": "2021-10-13T22:05:10.322Z"
   },
   {
    "duration": 8,
    "start_time": "2021-10-13T22:05:59.505Z"
   },
   {
    "duration": 8,
    "start_time": "2021-10-13T22:06:00.212Z"
   },
   {
    "duration": 9,
    "start_time": "2021-10-13T22:06:01.154Z"
   },
   {
    "duration": 16,
    "start_time": "2021-10-13T22:06:02.352Z"
   },
   {
    "duration": 5,
    "start_time": "2021-10-13T22:06:04.947Z"
   },
   {
    "duration": 34,
    "start_time": "2021-10-13T22:06:07.371Z"
   },
   {
    "duration": 5,
    "start_time": "2021-10-13T22:06:54.800Z"
   },
   {
    "duration": 1947,
    "start_time": "2021-10-14T10:30:17.166Z"
   },
   {
    "duration": 317,
    "start_time": "2021-10-14T10:30:19.116Z"
   },
   {
    "duration": 15,
    "start_time": "2021-10-14T10:30:19.436Z"
   },
   {
    "duration": 18,
    "start_time": "2021-10-14T10:30:19.494Z"
   },
   {
    "duration": 130,
    "start_time": "2021-10-14T10:30:20.464Z"
   },
   {
    "duration": 11,
    "start_time": "2021-10-14T10:30:21.134Z"
   },
   {
    "duration": 8,
    "start_time": "2021-10-14T10:30:21.848Z"
   },
   {
    "duration": 11,
    "start_time": "2021-10-14T10:30:23.069Z"
   },
   {
    "duration": 6,
    "start_time": "2021-10-14T10:30:23.664Z"
   },
   {
    "duration": 34,
    "start_time": "2021-10-14T10:30:24.890Z"
   },
   {
    "duration": 33,
    "start_time": "2021-10-14T10:30:26.162Z"
   },
   {
    "duration": 8,
    "start_time": "2021-10-14T10:30:26.842Z"
   },
   {
    "duration": 26,
    "start_time": "2021-10-14T10:30:28.190Z"
   },
   {
    "duration": 14,
    "start_time": "2021-10-14T10:30:28.805Z"
   },
   {
    "duration": 24,
    "start_time": "2021-10-14T10:30:29.417Z"
   },
   {
    "duration": 14,
    "start_time": "2021-10-14T10:30:30.619Z"
   },
   {
    "duration": 53,
    "start_time": "2021-10-14T10:30:31.870Z"
   },
   {
    "duration": 54,
    "start_time": "2021-10-14T10:30:32.492Z"
   },
   {
    "duration": 6,
    "start_time": "2021-10-14T10:30:35.983Z"
   },
   {
    "duration": 13,
    "start_time": "2021-10-14T10:30:36.524Z"
   },
   {
    "duration": 5,
    "start_time": "2021-10-14T10:30:37.031Z"
   },
   {
    "duration": 8,
    "start_time": "2021-10-14T10:30:37.382Z"
   },
   {
    "duration": 750,
    "start_time": "2021-10-14T10:30:37.757Z"
   },
   {
    "duration": 691,
    "start_time": "2021-10-14T10:30:39.358Z"
   },
   {
    "duration": 300,
    "start_time": "2021-10-14T10:30:40.052Z"
   },
   {
    "duration": 28,
    "start_time": "2021-10-14T10:30:57.758Z"
   },
   {
    "duration": 460,
    "start_time": "2021-10-14T10:30:58.473Z"
   },
   {
    "duration": 76,
    "start_time": "2021-10-14T10:31:00.035Z"
   },
   {
    "duration": 555,
    "start_time": "2021-10-14T10:31:00.463Z"
   },
   {
    "duration": 11,
    "start_time": "2021-10-14T10:31:02.750Z"
   },
   {
    "duration": 10,
    "start_time": "2021-10-14T10:31:03.128Z"
   },
   {
    "duration": 12,
    "start_time": "2021-10-14T10:31:03.382Z"
   },
   {
    "duration": 22,
    "start_time": "2021-10-14T10:31:03.626Z"
   },
   {
    "duration": 12,
    "start_time": "2021-10-14T10:31:04.186Z"
   },
   {
    "duration": 20,
    "start_time": "2021-10-14T10:31:04.490Z"
   },
   {
    "duration": 12,
    "start_time": "2021-10-14T10:31:04.994Z"
   },
   {
    "duration": 23,
    "start_time": "2021-10-14T10:31:05.267Z"
   },
   {
    "duration": 402,
    "start_time": "2021-10-14T10:31:06.067Z"
   },
   {
    "duration": 8,
    "start_time": "2021-10-14T10:56:17.660Z"
   },
   {
    "duration": 13,
    "start_time": "2021-10-14T10:56:18.642Z"
   },
   {
    "duration": 9,
    "start_time": "2021-10-14T10:56:18.829Z"
   },
   {
    "duration": 20,
    "start_time": "2021-10-14T10:56:19.004Z"
   },
   {
    "duration": 22,
    "start_time": "2021-10-14T10:56:19.188Z"
   },
   {
    "duration": 20,
    "start_time": "2021-10-14T10:56:19.396Z"
   },
   {
    "duration": 41,
    "start_time": "2021-10-14T10:56:19.606Z"
   },
   {
    "duration": 8,
    "start_time": "2021-10-14T10:56:19.846Z"
   },
   {
    "duration": 10,
    "start_time": "2021-10-14T10:56:20.756Z"
   },
   {
    "duration": 11,
    "start_time": "2021-10-14T10:56:20.989Z"
   },
   {
    "duration": 13,
    "start_time": "2021-10-14T10:56:21.245Z"
   },
   {
    "duration": 26,
    "start_time": "2021-10-14T10:56:21.462Z"
   },
   {
    "duration": 7,
    "start_time": "2021-10-14T10:56:21.683Z"
   },
   {
    "duration": 54,
    "start_time": "2021-10-14T10:56:21.894Z"
   },
   {
    "duration": 11,
    "start_time": "2021-10-14T10:56:22.156Z"
   },
   {
    "duration": 7,
    "start_time": "2021-10-14T10:56:22.369Z"
   }
  ],
  "kernelspec": {
   "display_name": "Python 3",
   "language": "python",
   "name": "python3"
  },
  "language_info": {
   "codemirror_mode": {
    "name": "ipython",
    "version": 3
   },
   "file_extension": ".py",
   "mimetype": "text/x-python",
   "name": "python",
   "nbconvert_exporter": "python",
   "pygments_lexer": "ipython3",
   "version": "3.8.8"
  },
  "toc": {
   "base_numbering": 1,
   "nav_menu": {},
   "number_sections": true,
   "sideBar": true,
   "skip_h1_title": true,
   "title_cell": "Table of Contents",
   "title_sidebar": "Contents",
   "toc_cell": false,
   "toc_position": {},
   "toc_section_display": true,
   "toc_window_display": true
  }
 },
 "nbformat": 4,
 "nbformat_minor": 2
}
